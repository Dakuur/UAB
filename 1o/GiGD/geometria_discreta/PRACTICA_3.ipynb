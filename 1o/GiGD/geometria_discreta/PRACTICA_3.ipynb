{
 "cells": [
  {
   "cell_type": "markdown",
   "metadata": {
    "id": "Eth91a1uZydM"
   },
   "source": [
    "# **Pràctica 3. Grafs, Topologia i Geometria Discreta** \n",
    "Enginyeria de Dades , Curs 2022-2023."
   ]
  },
  {
   "cell_type": "code",
   "execution_count": 1,
   "metadata": {
    "id": "PD21YMurZwfl"
   },
   "outputs": [],
   "source": [
    "# Importar llibreries necessàries\n",
    "import numpy as np\n",
    "import sympy as sp\n",
    "from sympy import *\n",
    "from sympy.solvers import solve\n",
    "import cmath \n",
    "import math\n",
    "import matplotlib.pyplot as plt\n",
    "import matplotlib as mpl\n",
    "from sympy.plotting import plot_parametric\n",
    "from sympy.plotting import plot3d_parametric_line\n",
    "import math\n",
    "%matplotlib inline\n",
    "plt.rcParams['figure.dpi'] = 110 "
   ]
  },
  {
   "cell_type": "code",
   "execution_count": 2,
   "metadata": {
    "colab": {
     "base_uri": "https://localhost:8080/"
    },
    "id": "HVXCB1JgZ5sE",
    "outputId": "1fd0f578-7421-414a-ef1e-cb2ea00cd45d"
   },
   "outputs": [
    {
     "name": "stdout",
     "output_type": "stream",
     "text": [
      "Python 3.7.10\n",
      "NumPy 1.19.5\n",
      "Sympy 1.7.1\n",
      "Matplotlib 3.3.4\n"
     ]
    }
   ],
   "source": [
    "# Versió de Python i altres biblioteques\n",
    "!python --version\n",
    "print('NumPy', np.__version__)\n",
    "print('Sympy', sp.__version__)\n",
    "print('Matplotlib', mpl.__version__)"
   ]
  },
  {
   "cell_type": "markdown",
   "metadata": {
    "id": "7Kv8gbd3Z7xD"
   },
   "source": [
    "## **PRELIMINARS**"
   ]
  },
  {
   "cell_type": "markdown",
   "metadata": {},
   "source": [
    "L'objectiu d'aquesta pràctica és el mateix que el de la pràctica 2: calcular les circunferències osculatòries i centres de la corba:\n",
    "$$(e^{-t}cos(\\pi t), e^{-t}sin(\\pi t)).$$\n",
    "Tanmateix, en aquest cas no utilitzarem l'expressió analítica per a fer-ho, sinó que trobarem les derivades de la corba a partir del mètode de diferencies finites.\n",
    "\n",
    "Recordeu que aquest mètode s'utilitza a la pràctica quan es necessita calcular la derivada d'una corba però només es disposa d'una discreitització d'aquesta corba, i no de la seva expressió analítica."
   ]
  },
  {
   "cell_type": "markdown",
   "metadata": {
    "id": "RdCuCjTxaDPP"
   },
   "source": [
    "De la mateixa manera que en la pràctica 2, necessitem certs preliminaris. En primer lloc definim una funció que ens doni els valors de la corba anterior en un punt determinat:"
   ]
  },
  {
   "cell_type": "code",
   "execution_count": 3,
   "metadata": {
    "id": "HMJFA-GqZvb-"
   },
   "outputs": [],
   "source": [
    "# definim la variable t\n",
    "t = symbols('t')\n",
    "# definim la funció\n",
    "def CorbaPunt(t): \n",
    "    return (np.array([math.exp(-t)*math.cos(math.pi*t), math.exp(-t)*math.sin(math.pi*t)]))"
   ]
  },
  {
   "cell_type": "markdown",
   "metadata": {
    "id": "Owc26NbJaVBU"
   },
   "source": [
    "Funció que retorna una seqüència de punts de la corba amb certa precisió"
   ]
  },
  {
   "cell_type": "code",
   "execution_count": 4,
   "metadata": {
    "id": "C08WRO32Z_gD"
   },
   "outputs": [],
   "source": [
    "def Corba(Inici,Final,Precisio): \n",
    "    t=np.arange(Inici, Final+Precisio, Precisio)\n",
    "    x = []\n",
    "    y = []\n",
    "    for i in t:\n",
    "        x.append(CorbaPunt(i)[0])\n",
    "        y.append(CorbaPunt(i)[1])\n",
    "    return (x,y)"
   ]
  },
  {
   "cell_type": "markdown",
   "metadata": {
    "id": "Lc9nZ7xJdhIg"
   },
   "source": [
    "Els següents són els valors de la corba $(e^{-t}cos(\\pi t), e^{-t}sin(\\pi t))$ a l'interval $[0,5]$ "
   ]
  },
  {
   "cell_type": "code",
   "execution_count": 5,
   "metadata": {
    "id": "X0k5f7ydaXtt"
   },
   "outputs": [],
   "source": [
    "xc, yc = Corba(0,5,0.1) # NO MODIFIQUI AQUESTA LÍNIA PER A QUE LA TEVA SOLUCIÓ SIGUI CORRECTA"
   ]
  },
  {
   "cell_type": "code",
   "execution_count": 6,
   "metadata": {
    "colab": {
     "base_uri": "https://localhost:8080/",
     "height": 420
    },
    "id": "FUKO8N4rdR9W",
    "outputId": "a59f442f-30e4-4ec4-af00-819adf8f63e1"
   },
   "outputs": [
    {
     "data": {
      "image/png": "[encoded data removed]",
      "text/plain": [
       "<Figure size 440x440 with 1 Axes>"
      ]
     },
     "metadata": {
      "needs_background": "light"
     },
     "output_type": "display_data"
    }
   ],
   "source": [
    "# Creem una nova figure i un nou axis\n",
    "fig, ax = plt.subplots()\n",
    "\n",
    "plt.plot(xc,yc,'blue', linewidth=1)\n",
    "plt.ylim([-1, 1]) \n",
    "plt.xlim([-1, 1])\n",
    "\n",
    "# Això és per veure la corba en un rectange, i.e. per a que el rati entre l'eix de les x i el eix de les y sigui 1\n",
    "ax.set_aspect('equal')\n",
    "\n",
    "# Ajustar la mida del plot\n",
    "fig.set_size_inches(4, 4)  "
   ]
  },
  {
   "cell_type": "markdown",
   "metadata": {
    "id": "fIj-5SlfYTXX"
   },
   "source": [
    "# **Diferencies finites**\n",
    "Les diferències finites s'utilitzen sovint com a aproximació de la derivada, normalment en la diferenciació numèrica.\n",
    "\n",
    "La derivada d'una funció $f$ en un punt $x$ es defineix pel límit.\n",
    "$$ f'(x) = \\lim_{h → 0} \\frac{f(x+h) - f(x)}{h}.$$"
   ]
  },
  {
   "cell_type": "code",
   "execution_count": 7,
   "metadata": {
    "id": "n0ZuSeDCYYo3"
   },
   "outputs": [],
   "source": [
    "def derivadaprimera(valx, valy):\n",
    "    der1 = []\n",
    "    for i in range(1, len(valx)-1):\n",
    "        dxdt = valx[i] - valx[i-1] # this is the same as f(x+h) - f(x) in the first coordinate\n",
    "        dydt = valy[i] - valy[i-1] \n",
    "        der1.append([dxdt,dydt])\n",
    "    return np.array(der1)"
   ]
  },
  {
   "cell_type": "markdown",
   "metadata": {
    "id": "_GeR4QxjYd-P"
   },
   "source": [
    "Per exemple la derivada de la funció\n",
    "$$(e^{-t}cos(\\pi t), e^{-t}sin(\\pi t))$$\n",
    "es calcula de la forma següent:"
   ]
  },
  {
   "cell_type": "code",
   "execution_count": 32,
   "metadata": {
    "colab": {
     "base_uri": "https://localhost:8080/"
    },
    "id": "LNwbXOZHb2fV",
    "outputId": "2d861d32-df36-4193-e834-b87fe13247ad"
   },
   "outputs": [],
   "source": [
    "derpricurva = derivadaprimera(xc,yc)"
   ]
  },
  {
   "cell_type": "code",
   "execution_count": 33,
   "metadata": {},
   "outputs": [
    {
     "data": {
      "text/plain": [
       "array([-0.13944848,  0.27961014])"
      ]
     },
     "execution_count": 33,
     "metadata": {},
     "output_type": "execute_result"
    }
   ],
   "source": [
    "derpricurva[0]"
   ]
  },
  {
   "cell_type": "markdown",
   "metadata": {
    "id": "aGOSzH3pYhIZ"
   },
   "source": [
    "La segona derivada de la funció $f$ al punt $x$ es defineix com el límit. \n",
    "$$ f''(x) = \\lim_{h → 0} \\frac{f(x+h) - 2*f(x) + f(x-h)}{h^2}.$$"
   ]
  },
  {
   "cell_type": "markdown",
   "metadata": {
    "id": "PcMJQlAgYmUm"
   },
   "source": [
    "La funció següent aproxima la segona derivada d'una funció utilitzant el mètode de les diferències finites."
   ]
  },
  {
   "cell_type": "code",
   "execution_count": 58,
   "metadata": {
    "id": "jgBA9pykYt8n"
   },
   "outputs": [],
   "source": [
    "def derivadasegunda(valx, valy):\n",
    "    der2 = []\n",
    "    for i in range(1, len(valx)-1):\n",
    "        dxdt = valx[i+1]- 2*valx[i] + valx[i-1]  # this is the same as f(x+h) - f(x) in the first coordinate\n",
    "        dydt = valy[i+1]- 2*valy[i] + valy[i-1]\n",
    "        der2.append([dxdt,dydt])\n",
    "    return np.array(der2)"
   ]
  },
  {
   "cell_type": "code",
   "execution_count": 59,
   "metadata": {
    "colab": {
     "base_uri": "https://localhost:8080/"
    },
    "id": "3mSIebIdeH-n",
    "outputId": "bc6546e6-0861-4a46-dd9c-b22263ded5b8"
   },
   "outputs": [
    {
     "data": {
      "text/plain": [
       "array([-0.05873595, -0.07798242])"
      ]
     },
     "execution_count": 59,
     "metadata": {},
     "output_type": "execute_result"
    }
   ],
   "source": [
    "dersegcurva = derivadasegunda(xc,yc)\n",
    "dersegcurva[0]"
   ]
  },
  {
   "cell_type": "markdown",
   "metadata": {
    "id": "dzTqwKr_eekQ"
   },
   "source": [
    "# **Vector tangent**"
   ]
  },
  {
   "cell_type": "markdown",
   "metadata": {
    "id": "mgIIczysekUH"
   },
   "source": [
    "El vector tangent d'una corba $\\gamma$ en un punt $\\gamma(t)$ ve donat per:\n",
    "$$T(t) = \\frac{\\gamma'(t)}{\\|\\gamma'(t)\\|}$$\n",
    "Escriviu el codi per a que la següent funció calculi els valors del vector gradient:"
   ]
  },
  {
   "cell_type": "code",
   "execution_count": 42,
   "metadata": {
    "id": "g4GZly_gesDA"
   },
   "outputs": [],
   "source": [
    "def Modul(v):\n",
    "    return(sqrt(v[0]**2+v[1]**2)) \n",
    "\n",
    "def TangentVector(valx, valy):\n",
    "    vector_tangent = []\n",
    "    derpricurva = derivadaprimera(valx,valy)\n",
    "    for i in range(len(derpricurva)):\n",
    "       \n",
    "        TN = np.array([derpricurva[i][0],derpricurva[i][1]])\n",
    "    \n",
    "        vector_tangent.append(TN/Modul(TN))\n",
    "        \n",
    "    return np.array(vector_tangent)\n",
    "        \n",
    "\n",
    "    # Ha de tornar un array amb el valor del vector tangent en els punts de la corba"
   ]
  },
  {
   "cell_type": "code",
   "execution_count": 43,
   "metadata": {},
   "outputs": [
    {
     "name": "stdout",
     "output_type": "stream",
     "text": [
      "[[-0.446300352859725 0.894883229833527]\n",
      " [-0.700990984811769 0.713170133427240]\n",
      " [-0.887063735079055 0.461646975412593]\n",
      " [-0.986304506420338 0.164934594960950]\n",
      " [-0.988998920685620 -0.147922732812365]\n",
      " [-0.894883229833527 -0.446300352859724]\n",
      " [-0.713170133427239 -0.700990984811769]\n",
      " [-0.461646975412593 -0.887063735079056]\n",
      " [-0.164934594960951 -0.986304506420338]\n",
      " [0.147922732812365 -0.988998920685620]\n",
      " [0.446300352859724 -0.894883229833528]\n",
      " [0.700990984811770 -0.713170133427239]\n",
      " [0.887063735079055 -0.461646975412593]\n",
      " [0.986304506420339 -0.164934594960950]\n",
      " [0.988998920685620 0.147922732812365]\n",
      " [0.894883229833527 0.446300352859724]\n",
      " [0.713170133427240 0.700990984811769]\n",
      " [0.461646975412593 0.887063735079056]\n",
      " [0.164934594960950 0.986304506420338]\n",
      " [-0.147922732812364 0.988998920685620]\n",
      " [-0.446300352859724 0.894883229833527]\n",
      " [-0.700990984811768 0.713170133427240]\n",
      " [-0.887063735079056 0.461646975412592]\n",
      " [-0.986304506420338 0.164934594960950]\n",
      " [-0.988998920685620 -0.147922732812365]\n",
      " [-0.894883229833527 -0.446300352859724]\n",
      " [-0.713170133427239 -0.700990984811769]\n",
      " [-0.461646975412593 -0.887063735079056]\n",
      " [-0.164934594960951 -0.986304506420338]\n",
      " [0.147922732812366 -0.988998920685620]\n",
      " [0.446300352859724 -0.894883229833527]\n",
      " [0.700990984811769 -0.713170133427240]\n",
      " [0.887063735079056 -0.461646975412593]\n",
      " [0.986304506420338 -0.164934594960951]\n",
      " [0.988998920685620 0.147922732812366]\n",
      " [0.894883229833527 0.446300352859724]\n",
      " [0.713170133427239 0.700990984811769]\n",
      " [0.461646975412593 0.887063735079056]\n",
      " [0.164934594960952 0.986304506420338]\n",
      " [-0.147922732812366 0.988998920685620]\n",
      " [-0.446300352859724 0.894883229833527]\n",
      " [-0.700990984811769 0.713170133427239]\n",
      " [-0.887063735079055 0.461646975412594]\n",
      " [-0.986304506420338 0.164934594960950]\n",
      " [-0.988998920685620 -0.147922732812366]\n",
      " [-0.894883229833527 -0.446300352859724]\n",
      " [-0.713170133427239 -0.700990984811769]\n",
      " [-0.461646975412593 -0.887063735079056]\n",
      " [-0.164934594960950 -0.986304506420338]]\n"
     ]
    }
   ],
   "source": [
    "T = TangentVector(xc, yc)\n",
    "print(T)"
   ]
  },
  {
   "cell_type": "markdown",
   "metadata": {
    "id": "g8OzS4b1FoKn"
   },
   "source": [
    "Sortida esperada:\n",
    "```\n",
    "[[-0.446300352859725, 0.894883229833527], [-0.700990984811769, 0.713170133427240],...\n",
    "```"
   ]
  },
  {
   "cell_type": "markdown",
   "metadata": {
    "id": "UcxyJLdchO1m"
   },
   "source": [
    "El vector normal d'una corba $\\gamma$ en un punt $\\gamma(t)$ ve donat per la fórmula:\n",
    "$$N(t) = \\frac{(-y'(t), x'(t))}{\\sqrt{x'(t)^2 + y'^2(t)}}$$\n",
    "Escriviu el codi per a que la següent funció calculi els valors del vector normal:"
   ]
  },
  {
   "cell_type": "code",
   "execution_count": 51,
   "metadata": {
    "id": "Ppc6bde9hWmp"
   },
   "outputs": [],
   "source": [
    "def NormalVector(valx,valy):\n",
    "    vector_normal = []\n",
    "    derpricurva = derivadaprimera(valx,valy)\n",
    "    for i in range(len(derpricurva)):\n",
    "       \n",
    "        TN = np.array([-derpricurva[i][1],derpricurva[i][0]])\n",
    "        \n",
    "        vector_normal.append(TN/Modul(TN))\n",
    "        \n",
    "    return np.array(vector_normal)\n",
    "        \n",
    "    # Ha de tornar un array amb el valor del vector normal en els punts de la corba"
   ]
  },
  {
   "cell_type": "code",
   "execution_count": 52,
   "metadata": {
    "colab": {
     "base_uri": "https://localhost:8080/"
    },
    "id": "te6x8Zhii6Tu",
    "outputId": "24b4fbb6-c221-4018-d2a0-d66722437720"
   },
   "outputs": [
    {
     "name": "stdout",
     "output_type": "stream",
     "text": [
      "[[-0.894883229833527 -0.446300352859725]\n",
      " [-0.713170133427240 -0.700990984811769]\n",
      " [-0.461646975412593 -0.887063735079055]\n",
      " [-0.164934594960950 -0.986304506420338]\n",
      " [0.147922732812365 -0.988998920685620]\n",
      " [0.446300352859724 -0.894883229833527]\n",
      " [0.700990984811769 -0.713170133427239]\n",
      " [0.887063735079056 -0.461646975412593]\n",
      " [0.986304506420338 -0.164934594960951]\n",
      " [0.988998920685620 0.147922732812365]\n",
      " [0.894883229833528 0.446300352859724]\n",
      " [0.713170133427239 0.700990984811770]\n",
      " [0.461646975412593 0.887063735079055]\n",
      " [0.164934594960950 0.986304506420339]\n",
      " [-0.147922732812365 0.988998920685620]\n",
      " [-0.446300352859724 0.894883229833527]\n",
      " [-0.700990984811769 0.713170133427240]\n",
      " [-0.887063735079056 0.461646975412593]\n",
      " [-0.986304506420338 0.164934594960950]\n",
      " [-0.988998920685620 -0.147922732812364]\n",
      " [-0.894883229833527 -0.446300352859724]\n",
      " [-0.713170133427240 -0.700990984811768]\n",
      " [-0.461646975412592 -0.887063735079056]\n",
      " [-0.164934594960950 -0.986304506420338]\n",
      " [0.147922732812365 -0.988998920685620]\n",
      " [0.446300352859724 -0.894883229833527]\n",
      " [0.700990984811769 -0.713170133427239]\n",
      " [0.887063735079056 -0.461646975412593]\n",
      " [0.986304506420338 -0.164934594960951]\n",
      " [0.988998920685620 0.147922732812366]\n",
      " [0.894883229833527 0.446300352859724]\n",
      " [0.713170133427240 0.700990984811769]\n",
      " [0.461646975412593 0.887063735079056]\n",
      " [0.164934594960951 0.986304506420338]\n",
      " [-0.147922732812366 0.988998920685620]\n",
      " [-0.446300352859724 0.894883229833527]\n",
      " [-0.700990984811769 0.713170133427239]\n",
      " [-0.887063735079056 0.461646975412593]\n",
      " [-0.986304506420338 0.164934594960952]\n",
      " [-0.988998920685620 -0.147922732812366]\n",
      " [-0.894883229833527 -0.446300352859724]\n",
      " [-0.713170133427239 -0.700990984811769]\n",
      " [-0.461646975412594 -0.887063735079055]\n",
      " [-0.164934594960950 -0.986304506420338]\n",
      " [0.147922732812366 -0.988998920685620]\n",
      " [0.446300352859724 -0.894883229833527]\n",
      " [0.700990984811769 -0.713170133427239]\n",
      " [0.887063735079056 -0.461646975412593]\n",
      " [0.986304506420338 -0.164934594960950]]\n"
     ]
    }
   ],
   "source": [
    "nvectorcurva = NormalVector(xc,yc)\n",
    "print(nvectorcurva)"
   ]
  },
  {
   "cell_type": "markdown",
   "metadata": {
    "id": "DLKltSbTGW_h"
   },
   "source": [
    "Sortida esperada:\n",
    "```\n",
    "[[-0.894883229833527, -0.446300352859725], [-0.713170133427240, -0.700990984811769],...\n",
    "```"
   ]
  },
  {
   "cell_type": "markdown",
   "metadata": {
    "id": "fKdo14JChUcx"
   },
   "source": [
    "Recordeu que es defined la curvatura de $\\gamma$ al punt $\\gamma(t)$ com\n",
    "$$\\kappa(t) = \\frac{x'(t)y''(t)- x''(t)y'(t)}{\\|\\gamma'(t) \\|^{3}}$$\n",
    "Escriviu el codi per a que la següent funció calculi els valors de la curvatura:"
   ]
  },
  {
   "cell_type": "code",
   "execution_count": 71,
   "metadata": {
    "id": "1JpENRCShqiy"
   },
   "outputs": [],
   "source": [
    "def Kur(valx,valy):   \n",
    "    curvatura = []\n",
    "    derpricurva = derivadaprimera(valx,valy)\n",
    "    dersegcurva = derivadasegunda(valx,valy)\n",
    "    for i in range(len(derpricurva)):\n",
    "       \n",
    "        kur = derpricurva[i][0]*dersegcurva[i][1]-dersegcurva[i][0]*derpricurva[i][1]\n",
    "        kurden = np.array([derpricurva[i][0],derpricurva[i][1]])\n",
    "        \n",
    "        curvatura.append(kur/(Modul(kurden)**3))\n",
    "        \n",
    "    return np.array(curvatura)\n",
    "\n",
    "    # Ha de tornar un array amb el valor de la curvatura en els punts de la corba"
   ]
  },
  {
   "cell_type": "code",
   "execution_count": 72,
   "metadata": {
    "colab": {
     "base_uri": "https://localhost:8080/"
    },
    "id": "No2QwxwkjF4N",
    "outputId": "77e67d82-5c6c-4a03-94d7-df301cd3e351"
   },
   "outputs": [
    {
     "name": "stdout",
     "output_type": "stream",
     "text": [
      "[0.894883229833526 0.988998920685621 1.09301284514995 1.20796600954285\n",
      " 1.33500890377065 1.47541301581936 1.63058355723385 1.80207352694719\n",
      " 1.99159925421605 2.20105757622073 2.43254482224922 2.68837779446532\n",
      " 2.97111695524345 3.28359205313650 3.62893044395079 4.01058839037375\n",
      " 4.43238565341286 4.89854372184769 5.41372806230804 5.98309481283293\n",
      " 6.61234238723219 7.30776850672791 8.07633322966479 8.92572861011343\n",
      " 9.86445568253328 10.9019095429818 12.0484733783948 13.3156223850107\n",
      " 14.7160386159907 16.2637379076714 17.9742101547627 19.8645743384238\n",
      " 21.9537498587778 24.2626458866283 26.8143706294698 29.6344626061916\n",
      " 32.7511462451632 36.1956143637969 40.0023403567491 44.2094232172439\n",
      " 48.8589688445950 53.9975114542115 59.6764793076516 65.9527094239579\n",
      " 72.8890164236542 80.5548211985584 89.0268456994332 98.3898807950190\n",
      " 108.737634887586]\n"
     ]
    }
   ],
   "source": [
    "# calcule la curvatura de la curva espiral \n",
    "curvt = Kur(xc,yc) \n",
    "print(curvt)"
   ]
  },
  {
   "cell_type": "markdown",
   "metadata": {
    "id": "0rllcGJnGUMJ"
   },
   "source": [
    "Sortida esperada:\n",
    "```\n",
    "[0.894883229833526, 0.988998920685621, 1.09301284514995, 1.20796600954285,...\n",
    "```"
   ]
  },
  {
   "cell_type": "markdown",
   "metadata": {
    "id": "p0GNDkyNh2jS"
   },
   "source": [
    "# **Circunferències osculatòries**"
   ]
  },
  {
   "cell_type": "markdown",
   "metadata": {
    "id": "l0RLvgF8h6qW"
   },
   "source": [
    "La funció següent dóna els punts d'una circumferència amb ràdio r i centre t.\n"
   ]
  },
  {
   "cell_type": "code",
   "execution_count": 75,
   "metadata": {
    "id": "hl5xNE-Hh5sp"
   },
   "outputs": [],
   "source": [
    "def Cercle(t,r):  \n",
    "    return (np.array([r*math.cos(t),r*math.sin(t)]))"
   ]
  },
  {
   "cell_type": "markdown",
   "metadata": {
    "id": "Kc6mliDkiFRl"
   },
   "source": [
    "Funció per dibuixar una circunferència amb centre punt i radi r, amb una precisió Precisio."
   ]
  },
  {
   "cell_type": "code",
   "execution_count": 74,
   "metadata": {
    "id": "MESotMuAh9Oy"
   },
   "outputs": [],
   "source": [
    "# no modifique esta función\n",
    "def GraficarCircunferencia(a,b,Precisio,punt,r):\n",
    "    punts=np.arange(a, b+Precisio, Precisio)\n",
    "    lp=len(punts)-1\n",
    "    p1=np.empty(lp, dtype=object)\n",
    "    p2=np.empty(lp, dtype=object)\n",
    "    for i in range(lp):\n",
    "        p1[i]=Cercle(punts[i],r)[0]+punt[0]\n",
    "        p2[i]=Cercle(punts[i],r)[1]+punt[1]\n",
    "    plt.plot(p1,p2,color=\"red\")"
   ]
  },
  {
   "cell_type": "markdown",
   "metadata": {
    "id": "VGGVNo5pi2xb"
   },
   "source": [
    "Dibuixem les centres de las circunferències osculatòries"
   ]
  },
  {
   "cell_type": "code",
   "execution_count": 76,
   "metadata": {},
   "outputs": [
    {
     "data": {
      "image/png": "[encoded data removed]",
      "text/plain": [
       "<Figure size 660x440 with 1 Axes>"
      ]
     },
     "metadata": {
      "needs_background": "light"
     },
     "output_type": "display_data"
    }
   ],
   "source": [
    "# Create a new figure and axis\n",
    "fig, ax = plt.subplots()\n",
    "# no modifique esta función\n",
    "for i in range(len(xc)-2):\n",
    "    w =nvectorcurva[i]\n",
    "    desplazx=(1/curvt[i])*w[0]\n",
    "    desplazy=(1/curvt[i])*w[1]\n",
    "    c0=xc[i]+desplazx\n",
    "    c1=yc[i]+desplazy \n",
    "    plt.plot(c0,c1, marker = 'o',color=\"black\")\n",
    "    plt.ylim([-2, 2]) # ajuste estos valores para visualizar la curva en caso de cambiarla\n",
    "    plt.xlim([-2, 2]) # ajuste estos valores para visualizar la curva en caso de cambiarla\n",
    "    \n",
    "# Set the aspect ratio to be equal\n",
    "ax.set_aspect('equal')"
   ]
  },
  {
   "attachments": {
    "Image1.png": {
     "image/png": "[encoded data removed]"
    }
   },
   "cell_type": "markdown",
   "metadata": {},
   "source": [
    "Sortida esperada:\n",
    "\n",
    "![Image1.png](attachment:Image1.png)"
   ]
  },
  {
   "cell_type": "markdown",
   "metadata": {
    "id": "GOOx6i7rkPFY"
   },
   "source": [
    "Dibuixem les circunferències osculatòries"
   ]
  },
  {
   "cell_type": "code",
   "execution_count": 77,
   "metadata": {},
   "outputs": [
    {
     "data": {
      "image/png": "[encoded data removed]",
      "text/plain": [
       "<Figure size 660x440 with 1 Axes>"
      ]
     },
     "metadata": {
      "needs_background": "light"
     },
     "output_type": "display_data"
    }
   ],
   "source": [
    "# Create a new figure and axis\n",
    "fig, ax = plt.subplots()\n",
    "\n",
    "for i in range(len(xc)-2):\n",
    "    w =nvectorcurva[i]\n",
    "    desplazx=(1/curvt[i])*w[0]\n",
    "    desplazy=(1/curvt[i])*w[1]\n",
    "    c0=xc[i]+desplazx\n",
    "    c1=yc[i]+desplazy  \n",
    "    GraficarCircunferencia(0,2*pi,0.01,[c0,c1],1/curvt[i])\n",
    "    plt.ylim([-4, 4]) # ajuste estos valores para visualizar la curva en caso de cambiarla\n",
    "    plt.xlim([-4, 4]) # ajuste estos valores para visualizar la curva en caso de cambiarla\n",
    "    \n",
    "# Set the aspect ratio to be equal\n",
    "ax.set_aspect('equal')"
   ]
  },
  {
   "attachments": {
    "Image2.png": {
     "image/png": "[encoded data removed]"
    }
   },
   "cell_type": "markdown",
   "metadata": {},
   "source": [
    "Sortida esperada:\n",
    "\n",
    "![Image2.png](attachment:Image2.png)"
   ]
  },
  {
   "cell_type": "markdown",
   "metadata": {
    "id": "ZENVviG8gv0d"
   },
   "source": [
    "# **Recursos addicionals**\n",
    "---\n",
    "Els següents enllaços corresponen a llocs on trobareu informació molt útil per aprofundir en el coneixement de les funcionalitats de la llibreries usades: \\\n",
    "[Python](https://www.python.org/) \\\n",
    "[SymPy](https://docs.sympy.org/latest/index.html) \\\n",
    "[NumPy](https://numpy.org/)"
   ]
  },
  {
   "cell_type": "markdown",
   "metadata": {
    "id": "OuYHWALsg1Zi"
   },
   "source": [
    "**Felicitacions!** Ha acabat la Pràctica. Bona feina!\n",
    "\n",
    "## **Entrega**\n",
    "\n",
    "Per lliurar el notebook si us plau feu el següent:\n",
    "1. Descarregueu el notebook (`Archivo` -> `Descargar .ipynb`).\n",
    "2. Introduïu al *Campus Virtual*.\n",
    "3. Feu l'enviament del *notebook* que heu descarregat."
   ]
  }
 ],
 "metadata": {
  "colab": {
   "collapsed_sections": [],
   "name": "PRACTICA_3_GTGD.ipynb",
   "provenance": []
  },
  "kernelspec": {
   "display_name": "Python 3 (ipykernel)",
   "language": "python",
   "name": "python3"
  },
  "language_info": {
   "codemirror_mode": {
    "name": "ipython",
    "version": 3
   },
   "file_extension": ".py",
   "mimetype": "text/x-python",
   "name": "python",
   "nbconvert_exporter": "python",
   "pygments_lexer": "ipython3",
   "version": "3.9.13"
  }
 },
 "nbformat": 4,
 "nbformat_minor": 1
}
