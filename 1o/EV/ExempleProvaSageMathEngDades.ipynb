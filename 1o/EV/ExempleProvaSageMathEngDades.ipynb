{
 "cells": [
  {
   "cell_type": "markdown",
   "metadata": {
    "id": "8IRbXWPuS0iI"
   },
   "source": [
    "# <font color=red> Model de l'evaluació de Espais Vectorials </font>"
   ]
  },
  {
   "cell_type": "markdown",
   "metadata": {
    "id": "h9FYo2GfS0iL"
   },
   "source": [
    "## <font color=green> La prova contindrà preguntes similars a les del model </font>"
   ]
  },
  {
   "cell_type": "markdown",
   "metadata": {
    "id": "vGPLGfL6S0iM"
   },
   "source": [
    "<font color=green> Construiu una matriu $B1$ formada pels vectors $\\vec{v_1}=(1,2,3,4,5,6,7)$ i $\\vec{v_2}=(7,6,5,4,3,2,1)$ com a files. </font>"
   ]
  },
  {
   "cell_type": "code",
   "execution_count": 1,
   "metadata": {
    "colab": {
     "base_uri": "https://localhost:8080/",
     "height": 232
    },
    "id": "tlOmm5DvS0iM",
    "outputId": "98fb4b44-fea9-4893-f46f-e81982ba2fc1"
   },
   "outputs": [
    {
     "data": {
      "text/html": [
       "<html><script type=\"math/tex; mode=display\">\\newcommand{\\Bold}[1]{\\mathbf{#1}}\\left[\\left[1, 2, 3, 4, 5, 6, 7\\right], \\left[7, 6, 5, 4, 3, 2, 1\\right]\\right]</script></html>"
      ],
      "text/latex": [
       "$$\\newcommand{\\Bold}[1]{\\mathbf{#1}}\\left[\\left[1, 2, 3, 4, 5, 6, 7\\right], \\left[7, 6, 5, 4, 3, 2, 1\\right]\\right]$$"
      ],
      "text/plain": [
       "[[1, 2, 3, 4, 5, 6, 7], [7, 6, 5, 4, 3, 2, 1]]"
      ]
     },
     "metadata": {},
     "output_type": "display_data"
    }
   ],
   "source": [
    "v1=[1,2,3,4,5,6,7]\n",
    "v2=[7,6,5,4,3,2,1]\n",
    "matriu=[v1,v2]\n",
    "show(matriu)"
   ]
  },
  {
   "cell_type": "markdown",
   "metadata": {
    "id": "ErwnOAYWS0iN"
   },
   "source": [
    "<font color=green> Construiu la matriu A formada afegint a la matriu A1 que us donem la matriu $B1$ anterior com a últimes files. No si val a tornar-la a escriure! </font>"
   ]
  },
  {
   "cell_type": "code",
   "execution_count": 2,
   "metadata": {
    "id": "ZrkQ2SBGS0iN"
   },
   "outputs": [],
   "source": [
    "A1=matrix(QQ,5,7,[[0, 1, 2, 3, 4, 5, 6],\n",
    " [0, 2, 4, 6, 8, 10, 12],\n",
    " [0, 3, 4, 5, 6, 7, 8],\n",
    " [0, 6, 5, 4, 3, 2, 1],\n",
    " [0, 1, 1, 1, 1, 1, 0]])"
   ]
  },
  {
   "cell_type": "code",
   "execution_count": null,
   "metadata": {
    "id": "H7I0vwz6S0iO"
   },
   "outputs": [],
   "source": []
  },
  {
   "cell_type": "markdown",
   "metadata": {
    "id": "inASP0SnS0iP"
   },
   "source": [
    "<font color=green> Construiu una matriu $B$  de mida $4\\times 4$ obtinguda prenent les 4 ultimes files i columnes de la matriu A i transposant-la. </font>"
   ]
  },
  {
   "cell_type": "code",
   "execution_count": null,
   "metadata": {
    "id": "6N_KldIOS0iQ"
   },
   "outputs": [],
   "source": []
  },
  {
   "cell_type": "markdown",
   "metadata": {
    "id": "Bb3J1knVS0iQ"
   },
   "source": [
    "<font color=green> Calculeu la forma esglaonada reduida de $A$ i de $B$. </font>"
   ]
  },
  {
   "cell_type": "code",
   "execution_count": null,
   "metadata": {
    "id": "_gzSO5EfS0iR"
   },
   "outputs": [],
   "source": []
  },
  {
   "cell_type": "code",
   "execution_count": null,
   "metadata": {
    "id": "FeSkcnLdS0iR"
   },
   "outputs": [],
   "source": []
  },
  {
   "cell_type": "markdown",
   "metadata": {
    "id": "eoeruoxxS0iR"
   },
   "source": [
    "<font color=green> Calculeu la PAQ-reducció de la matriu B. Cal donar una matriu P i una matriu Q de forma que la matriu $PBQ$ tingui zeros fora de la diagonal i a la diagonal només hi ha 1 o 0. </font>"
   ]
  },
  {
   "cell_type": "code",
   "execution_count": null,
   "metadata": {
    "id": "pbYBzyUIS0iS"
   },
   "outputs": [],
   "source": []
  },
  {
   "cell_type": "code",
   "execution_count": null,
   "metadata": {
    "id": "VX7dDkYFS0iS"
   },
   "outputs": [],
   "source": []
  },
  {
   "cell_type": "code",
   "execution_count": null,
   "metadata": {
    "id": "sRckE53hS0iS"
   },
   "outputs": [],
   "source": []
  },
  {
   "cell_type": "markdown",
   "metadata": {
    "id": "Jq1lktaVS0iS"
   },
   "source": [
    "<font color=green> La següent funció retorna, per a cada matriu A, true o false depenen de si A té una certa forma o no la té. Quina forma? </font>"
   ]
  },
  {
   "cell_type": "code",
   "execution_count": 3,
   "metadata": {
    "id": "IAwb_jkTS0iT"
   },
   "outputs": [],
   "source": [
    "def NoSeQueFa(A):\n",
    "    n=A.nrows()\n",
    "    m=A.ncols()\n",
    "    if n!=m:\n",
    "        return(False)\n",
    "    for i in range(n):\n",
    "        for j in range(m):\n",
    "            if i<j and A[i,j]!=0:\n",
    "                return(False)\n",
    "    return(True)"
   ]
  },
  {
   "cell_type": "markdown",
   "metadata": {
    "id": "R6bXvC70S0iT"
   },
   "source": [
    "<font color=green> Escriu una funció EsIdentitat tal que, donada una matriu quadrada $Q$ retorni true or false depenen de si $Q$ és o no és la matriu identitat. </font>"
   ]
  },
  {
   "cell_type": "code",
   "execution_count": null,
   "metadata": {
    "id": "21cejuZ2S0iU"
   },
   "outputs": [],
   "source": []
  },
  {
   "cell_type": "code",
   "execution_count": null,
   "metadata": {
    "id": "xANa2hjvS0iU"
   },
   "outputs": [],
   "source": []
  },
  {
   "cell_type": "markdown",
   "metadata": {
    "id": "wP7dgcVwS0iU"
   },
   "source": [
    "<font color=green> Definiu el subespai $F$ de $\\mathbb{Q}^7$ format per les ultimes 4 files de la matriu $A$. </font>"
   ]
  },
  {
   "cell_type": "code",
   "execution_count": null,
   "metadata": {
    "id": "CdtSVEzoS0iU"
   },
   "outputs": [],
   "source": []
  },
  {
   "cell_type": "markdown",
   "metadata": {
    "id": "LfDgMBFXS0iU"
   },
   "source": [
    "<font color=green> Definiu el subespai $G$ de $\\mathbb{Q}^7$ format per les ultimes 4 columnes de la matriu $A$. </font>"
   ]
  },
  {
   "cell_type": "code",
   "execution_count": null,
   "metadata": {
    "id": "XPaCliYmS0iV"
   },
   "outputs": [],
   "source": []
  },
  {
   "cell_type": "markdown",
   "metadata": {
    "id": "cfcDr49eS0iV"
   },
   "source": [
    "<font color=green> Calculeu una base de la suma $F+G$ i una base de la intersecció $F\\cap G$. Cal donar-les com a llistes de vectors. </font>"
   ]
  },
  {
   "cell_type": "code",
   "execution_count": null,
   "metadata": {
    "id": "TYbInzgKS0iV"
   },
   "outputs": [],
   "source": []
  },
  {
   "cell_type": "code",
   "execution_count": null,
   "metadata": {
    "id": "YYYLt_teS0iV"
   },
   "outputs": [],
   "source": []
  },
  {
   "cell_type": "markdown",
   "metadata": {
    "id": "vGS1aPF7S0iV"
   },
   "source": [
    "<font color=green> Definiu l'aplicació lineal $f$ de $\\mathbb{Q}^7$ a $\\mathbb{Q}^4$ que té com a matriu la matriu formada per les 4 ultimes columnes de la transposta de $A$. </font>"
   ]
  },
  {
   "cell_type": "code",
   "execution_count": null,
   "metadata": {
    "id": "dPI96Eu2S0iV"
   },
   "outputs": [],
   "source": []
  },
  {
   "cell_type": "markdown",
   "metadata": {
    "id": "yd-_j_goS0iV"
   },
   "source": [
    "<font color=green> Calculeu bases del subespai nucli i del subespai imatge de $f$. </font>"
   ]
  },
  {
   "cell_type": "code",
   "execution_count": null,
   "metadata": {
    "id": "0qEj9zAOS0iW"
   },
   "outputs": [],
   "source": []
  },
  {
   "cell_type": "markdown",
   "metadata": {
    "id": "_XjZrp6XS0iW"
   },
   "source": [
    "<font color=green> Es $f$ ínjectiva? És exahustiva? </font>"
   ]
  },
  {
   "cell_type": "markdown",
   "metadata": {
    "id": "YpN09upFS0iW"
   },
   "source": [
    "<font color=red> Poseu aquí la resposta: </font>: "
   ]
  },
  {
   "cell_type": "markdown",
   "metadata": {
    "id": "qJ_OCitVS0iW"
   },
   "source": [
    "<font color=green> Determineu la matriu de l'aplicació lineal $g:\\mathbb{Q}^2\\to \\mathbb{Q}^7$ respecte les bases canòniques de sortida i d'arribada, on $g$ porta el vector $(1,1)$ a la primera fila de $B1$ i el vector $(1,-1)$ a la segona fila de $B1$. </font>"
   ]
  },
  {
   "cell_type": "code",
   "execution_count": null,
   "metadata": {
    "id": "BtjneSP8S0iW"
   },
   "outputs": [],
   "source": []
  },
  {
   "cell_type": "markdown",
   "metadata": {
    "id": "Ycon8mmQS0iX"
   },
   "source": [
    "<font color=green> Determineu la matriu respecte les bases canòniques de sortida i d'arribada de la composició $f\\circ g$. </font>"
   ]
  },
  {
   "cell_type": "code",
   "execution_count": null,
   "metadata": {
    "id": "Smfh6fkHS0iX"
   },
   "outputs": [],
   "source": []
  },
  {
   "cell_type": "markdown",
   "metadata": {
    "id": "Sxv58TW0S0iX"
   },
   "source": [
    "<font color=green> Determineu els valors propis de la matriu $B$ i de la matriu $AA^t$.  </font>"
   ]
  },
  {
   "cell_type": "code",
   "execution_count": null,
   "metadata": {
    "id": "q4M4izxcS0iX"
   },
   "outputs": [],
   "source": []
  },
  {
   "cell_type": "code",
   "execution_count": null,
   "metadata": {
    "id": "K3vZIzoNS0iX"
   },
   "outputs": [],
   "source": []
  },
  {
   "cell_type": "markdown",
   "metadata": {
    "id": "t6CcwhWJS0iX"
   },
   "source": [
    "<font color=green> Calculeu una matriu invertible $M$ tal que $M^{-1}BM$ sigui diagonal. </font>"
   ]
  },
  {
   "cell_type": "code",
   "execution_count": null,
   "metadata": {
    "id": "279OGcKKS0iY"
   },
   "outputs": [],
   "source": []
  },
  {
   "cell_type": "code",
   "execution_count": null,
   "metadata": {
    "id": "ot9tsK2YS0iY"
   },
   "outputs": [],
   "source": []
  },
  {
   "cell_type": "markdown",
   "metadata": {
    "id": "MmJ9hetaS0iY"
   },
   "source": [
    "<font color=green> Calculeu una matriu ortogonal $Q$ amb coeficients reals tal que $Q^tAA^tQ$ sigui diagonal. </font>"
   ]
  },
  {
   "cell_type": "code",
   "execution_count": null,
   "metadata": {
    "id": "mkLSxmirS0iY"
   },
   "outputs": [],
   "source": []
  },
  {
   "cell_type": "code",
   "execution_count": null,
   "metadata": {
    "id": "cC2qTol5S0iY"
   },
   "outputs": [],
   "source": []
  },
  {
   "cell_type": "markdown",
   "metadata": {
    "id": "AHXGrciSS0iY"
   },
   "source": [
    "Calculeu U,V,Sigma de la descomposició en valors singulars per la matriu A. Doneu els valors singulars de A."
   ]
  },
  {
   "cell_type": "code",
   "execution_count": null,
   "metadata": {
    "id": "rjG9i5hYS0iY"
   },
   "outputs": [],
   "source": []
  },
  {
   "cell_type": "markdown",
   "metadata": {
    "id": "YwRzFA17S0iZ"
   },
   "source": [
    "Escriviu una funció amb Sage que decideixi si una matriu és ortogonal o no."
   ]
  },
  {
   "cell_type": "code",
   "execution_count": null,
   "metadata": {
    "id": "wsf2qKh9S0iZ"
   },
   "outputs": [],
   "source": []
  }
 ],
 "metadata": {
  "colab": {
   "provenance": []
  },
  "kernelspec": {
   "display_name": "SageMath 9.3",
   "language": "sage",
   "name": "sagemath"
  },
  "language_info": {
   "codemirror_mode": {
    "name": "ipython",
    "version": 3
   },
   "file_extension": ".py",
   "mimetype": "text/x-python",
   "name": "python",
   "nbconvert_exporter": "python",
   "pygments_lexer": "ipython3",
   "version": "3.7.10"
  }
 },
 "nbformat": 4,
 "nbformat_minor": 1
}
