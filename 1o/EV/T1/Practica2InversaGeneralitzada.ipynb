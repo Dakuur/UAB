{
 "cells": [
  {
   "cell_type": "markdown",
   "metadata": {},
   "source": [
    "# Espais Vectorials\n",
    "## Grau d’Enginyeria de Dades\n",
    "### Inverses generalitzades"
   ]
  },
  {
   "cell_type": "markdown",
   "metadata": {},
   "source": [
    "<font color=green>\n",
    "        Considereu la matriu:\n",
    "$$A=\\left(\\begin{array}{rrrrr}\n",
    "1 & 0 & -1 & 0 & 1 \\\\\n",
    "0 & 1 & 0 & 0 & 0 \\\\\n",
    "0 & -1 & 0 & 1 & 0 \\\\\n",
    "0 & 0 & -1 & 0 & -1 \\\\\n",
    "0 & 1 & 0 & -1 & 0\n",
    "\\end{array}\\right)$$\n",
    "</font>\n",
    "<font color=green>\n",
    "    <ol>\n",
    "        <li> Comproveu que no és invertible calculant el seu rang (surt 4). </li>\n",
    "        <li> Utilitzeu <font color=blue>pseudoinverse( )</font> per obtenir una inversa generalitzada $G$ de $A$. </li>\n",
    "        <li> Comproveu que el producte $A\\cdot G\\cdot A$ dona com a resultat la matriu $A$ (com correspon a una inversa generalitzada).</li>\n",
    "    </ol>\n",
    "</font>        "
   ]
  },
  {
   "cell_type": "code",
   "execution_count": null,
   "metadata": {},
   "outputs": [],
   "source": []
  },
  {
   "cell_type": "code",
   "execution_count": null,
   "metadata": {},
   "outputs": [],
   "source": []
  },
  {
   "cell_type": "code",
   "execution_count": null,
   "metadata": {},
   "outputs": [],
   "source": []
  },
  {
   "cell_type": "code",
   "execution_count": null,
   "metadata": {},
   "outputs": [],
   "source": []
  },
  {
   "cell_type": "code",
   "execution_count": null,
   "metadata": {},
   "outputs": [],
   "source": []
  },
  {
   "cell_type": "markdown",
   "metadata": {},
   "source": [
    "<font color=green>\n",
    "      La matriu inversa generalitzada, tot i que sempre existeix, no és única. En general, donada una matriu $A$, hi pot haver vàries matrius $G$ tals que $A\\cdot G\\cdot A= A$. Recordeu que una manera d'obtenir inverses generaitzades $G$ consisteix a aprofitar les matrius $P$ i $Q$ que apareixen quan es fa la reducció per files i columnes de la matriu $A$ ($P\\cdot A \\cdot Q=R$ on $R$ és la forma reduida per files i columnes de $A$).\n",
    "</font>"
   ]
  },
  {
   "cell_type": "markdown",
   "metadata": {},
   "source": [
    "** \n",
    "Recordeu en primer lloc que <font color=blue>extended_echelon_form( )</font> permet obtenir en un sol càlcul la forma reduida per files <font color=blue>A_rf</font> i la matriu corresponent <font color=blue>P</font> separant en dues matrius el resultat utilitzant <font color=blue>matrix_from_columns( )</font>\n",
    "**"
   ]
  },
  {
   "cell_type": "code",
   "execution_count": null,
   "metadata": {},
   "outputs": [],
   "source": [
    "A_rf=A.extended_echelon_form().matrix_from_columns([0..4])\n",
    "P=A.extended_echelon_form().matrix_from_columns([5..9])"
   ]
  },
  {
   "cell_type": "code",
   "execution_count": null,
   "metadata": {},
   "outputs": [],
   "source": []
  },
  {
   "cell_type": "code",
   "execution_count": null,
   "metadata": {},
   "outputs": [],
   "source": []
  },
  {
   "cell_type": "code",
   "execution_count": null,
   "metadata": {},
   "outputs": [],
   "source": []
  },
  {
   "cell_type": "markdown",
   "metadata": {},
   "source": [
    "**\n",
    "Un cop s'ha reduit per files es pot calcular la matriu $Q$ de reducció per columnes fent el mateix procès (reducció per files) a la matriu transposada de <font color=blue>A_rf</font> per tal d'obtenir, tranposant els resultats d'aquest operació, la matriu reduida per files i columnes <font color=blue>A_rfc</font> i la matriu <font color=blue>Q</font> tals que <font color=blue>P·A·Q=A_rfc</font>. Quan s'arriba a aquest punt la matriu <font color=blue>G_r=Q·A_rfc·P</font> és un inversa generalitzada (no s'ha de fer res més perquè la matriu original és quadrada).\n",
    "**"
   ]
  },
  {
   "cell_type": "code",
   "execution_count": null,
   "metadata": {},
   "outputs": [],
   "source": []
  },
  {
   "cell_type": "code",
   "execution_count": null,
   "metadata": {},
   "outputs": [],
   "source": []
  },
  {
   "cell_type": "code",
   "execution_count": null,
   "metadata": {},
   "outputs": [],
   "source": []
  },
  {
   "cell_type": "markdown",
   "metadata": {},
   "source": [
    "**\n",
    "Si no voleu fer tantes transposicions, es pot fer directament la reducció per columnes. Encara que no hi ha una funció equivalent a <font color= blue>extended_echelon_form( )</font> es pot treballar per columnes amb <font color= blue>add_multiple_of_column( ), swap_columns( ), rescale_column( )</font> sobre la matriu construida per blocs posant una matriu identitat _sota_ <font color= blue>A_rf</font>\n",
    "**"
   ]
  },
  {
   "cell_type": "code",
   "execution_count": null,
   "metadata": {},
   "outputs": [],
   "source": [
    "AI=block_matrix(2,1,[A_rf,identity_matrix(5)])"
   ]
  },
  {
   "cell_type": "code",
   "execution_count": null,
   "metadata": {},
   "outputs": [],
   "source": []
  },
  {
   "cell_type": "code",
   "execution_count": null,
   "metadata": {},
   "outputs": [],
   "source": []
  },
  {
   "cell_type": "markdown",
   "metadata": {},
   "source": [
    "**\n",
    "Separant al final de la reducció la _part de sobre_ que contindrà <font color= blue>A_rfc</font> de la _part de sota_ que serà la matriu <font color= blue>Q</font>.\n",
    "**"
   ]
  },
  {
   "cell_type": "code",
   "execution_count": null,
   "metadata": {},
   "outputs": [],
   "source": []
  },
  {
   "cell_type": "code",
   "execution_count": null,
   "metadata": {},
   "outputs": [],
   "source": []
  },
  {
   "cell_type": "code",
   "execution_count": null,
   "metadata": {},
   "outputs": [],
   "source": []
  },
  {
   "cell_type": "markdown",
   "metadata": {},
   "source": [
    "<font color=green>\n",
    "    Comproveu que <font color=blue>G_r</font> és realment una inversa generalitzada fent el producte <font color=blue>A·G_r·A</font> i veient que coincideix amb $A$."
   ]
  },
  {
   "cell_type": "code",
   "execution_count": null,
   "metadata": {},
   "outputs": [],
   "source": []
  },
  {
   "cell_type": "code",
   "execution_count": null,
   "metadata": {},
   "outputs": [],
   "source": []
  },
  {
   "cell_type": "markdown",
   "metadata": {},
   "source": [
    "<font color=red>\n",
    "    x----------------------------------------------------------------x</font>"
   ]
  },
  {
   "cell_type": "markdown",
   "metadata": {},
   "source": [
    "<font color=green>\n",
    "    Determineu les $PAQ$-reduccions de les matrius\n",
    "    $$\n",
    "    \\begin{pmatrix}\n",
    " 2&-8&1&-1\\\\5&-20&-4&-22\\\\-3&12&5&21\n",
    "\\end{pmatrix}, \\quad\n",
    "\\begin{pmatrix}\n",
    " 1&2&3\\\\0&4&6\\\\-1&0&0\n",
    "\\end{pmatrix},\\quad\n",
    "\\begin{pmatrix}\n",
    " 2&3&2&-1\\\\5&8&0&1\\\\1&2&-2&3\n",
    "\\end{pmatrix}.\n",
    "    $$\n",
    "    </font>\n",
    "<font color=green>    \n",
    "    i calculeu una inversa generalitzada per a cada una d'elles a partir del càlculs anteriors. Comproveu si aquestes inverses generalitzades coincideixen amb la que dona la funció <font color=blue>pseudoinverse( )</font>\n",
    "</font>"
   ]
  },
  {
   "cell_type": "markdown",
   "metadata": {},
   "source": [
    "**_Aneu en compte amb el fet que hi ha matrius que no són quadrades_**"
   ]
  },
  {
   "cell_type": "code",
   "execution_count": null,
   "metadata": {},
   "outputs": [],
   "source": []
  },
  {
   "cell_type": "code",
   "execution_count": null,
   "metadata": {},
   "outputs": [],
   "source": []
  },
  {
   "cell_type": "code",
   "execution_count": null,
   "metadata": {},
   "outputs": [],
   "source": []
  },
  {
   "cell_type": "markdown",
   "metadata": {},
   "source": [
    "<font color=red>\n",
    "    x----------------------------------------------------------------x</font>"
   ]
  },
  {
   "cell_type": "markdown",
   "metadata": {},
   "source": [
    "<font color=green>\n",
    "    Utilitzeu la matriu inversa generalitzada que heu calculat per a donar les solucions del sistema d'equacions\n",
    "    $$\n",
    "    \\begin{pmatrix}\n",
    " 2&-8&1&-1\\\\5&-20&-4&-22\\\\-3&12&5&21\n",
    "\\end{pmatrix}\\cdot \\begin{pmatrix} x1\\\\x2\\\\x3\\\\x4\\end{pmatrix}=\n",
    "\\begin{pmatrix} 9\\\\3\\\\6 \\end{pmatrix}\n",
    "    $$\n",
    "</font>"
   ]
  },
  {
   "cell_type": "markdown",
   "metadata": {},
   "source": [
    "**\n",
    "No us oblideu de comprovar, prèviament, si el sistema és compatible.\n",
    "**"
   ]
  },
  {
   "cell_type": "code",
   "execution_count": null,
   "metadata": {},
   "outputs": [],
   "source": []
  },
  {
   "cell_type": "code",
   "execution_count": null,
   "metadata": {},
   "outputs": [],
   "source": []
  },
  {
   "cell_type": "code",
   "execution_count": null,
   "metadata": {},
   "outputs": [],
   "source": []
  },
  {
   "cell_type": "markdown",
   "metadata": {},
   "source": [
    "<font color=green>\n",
    "    Per què, si apliqueu el mateix mètode al sistema\n",
    "    $$\n",
    "    \\begin{pmatrix}\n",
    " 2&-8&1&-1\\\\5&-20&-4&-22\\\\-3&12&5&21\n",
    "\\end{pmatrix}\\cdot \\begin{pmatrix} x1\\\\x2\\\\x3\\\\x4\\end{pmatrix}=\n",
    "\\begin{pmatrix} 3\\\\-3\\\\1 \\end{pmatrix}\n",
    "    $$\n",
    "i dieu $S$ al vector que apareix, resulta que \n",
    "$$\n",
    "    \\begin{pmatrix}\n",
    " 2&-8&1&-1\\\\5&-20&-4&-22\\\\-3&12&5&21\n",
    "\\end{pmatrix}\\cdot S \\ne \\begin{pmatrix} 3\\\\-3\\\\1 \\end{pmatrix}?\n",
    "    $$\n",
    "</font>"
   ]
  },
  {
   "cell_type": "code",
   "execution_count": null,
   "metadata": {},
   "outputs": [],
   "source": []
  },
  {
   "cell_type": "code",
   "execution_count": null,
   "metadata": {},
   "outputs": [],
   "source": []
  },
  {
   "cell_type": "code",
   "execution_count": null,
   "metadata": {},
   "outputs": [],
   "source": []
  }
 ],
 "metadata": {
  "kernelspec": {
   "display_name": "SageMath 9.3",
   "language": "sage",
   "name": "sagemath"
  },
  "language_info": {
   "codemirror_mode": {
    "name": "ipython",
    "version": 3
   },
   "file_extension": ".py",
   "mimetype": "text/x-python",
   "name": "python",
   "nbconvert_exporter": "python",
   "pygments_lexer": "ipython3",
   "version": "3.7.10"
  }
 },
 "nbformat": 4,
 "nbformat_minor": 2
}
