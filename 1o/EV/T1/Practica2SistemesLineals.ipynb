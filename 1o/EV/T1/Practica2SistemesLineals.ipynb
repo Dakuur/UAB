{
 "cells": [
  {
   "cell_type": "markdown",
   "metadata": {},
   "source": [
    "# Pràctica 2a "
   ]
  },
  {
   "cell_type": "markdown",
   "metadata": {},
   "source": [
    "En aquesta pràctica ens familiaritzarem en l'ús de *Sage*. Algunes indicacions que ens poden ser útils:\n",
    "\n",
    "- `QQ`, `RR`, `CC` són els cossos dels racionals, reals i complexos. També podem treballar a l'anell `ZZ` dels enters, al `SR` (simbòlic), o cossos com `Qbar` (complexos algebraics) i `AA` (reals algebraics).\n",
    "- El *mètode* `.random_element()` ens retorna un element (pseudo-)aleatori de l'estructura que tinguem. Per exemple, `ZZ.random_element()` ens retornarà un element (pseudo-)aleatori dels enters.\n",
    "- Per descobrir noves comandes, podeu fer servir el tabulador `<Tab>` per completar els mètodes. Podem obtenir l'ajuda d'una funció o mètode afegint un interrogant al seu nom, com per exemple `ZZ.random_element?`.\n",
    "- La comanda `range` ens retorna una llista d'enters (mireu com funciona). També és útil la notació `[2,5,..17]`, que ens retornaria la llista `[2,5,8,11,14,17]` (enters en progressió aritmètica).\n",
    "- Podeu investigar com funciona la creació de llistes \"compreses\" (*list comprehension* en anglès).\n",
    "- `Matrix(F, n, m, llista_entrades)` construeix una matriu $n \\times m$ en el cos `F`, amb les entrades donades.\n",
    "- Per resoldre un sistema lineal d'equacions de la forma $Ax=b$, escrivim `A.solve_right(b)`.\n"
   ]
  },
  {
   "cell_type": "markdown",
   "metadata": {},
   "source": [
    "## 1. Matrius, sistemes d'equacions\n",
    "\n",
    "(Els nombres entre parèntesi fan referència a l'exercici corresponent de Bretscher, \"Linear Algebra with applications\".)\n",
    "\n",
    "1. Creeu una matriu A de tamany 2 x 3 que tingui entrades racionals.\n",
    "1. Creeu una matriu B de tamany 10 x 20 que tingui per entrades nombres enters aleatoris entre -5 i 5 (inclosos).\n",
    "1. Creeu una matriu C de tamany 20 x 10 que tingui a l'entrada $(i,j)$ el valor $2i+j$. (la primera entrada és $3$).\n",
    "1. Calculeu la matriu $BC$ i trobeu-ne el rang (descobriu com fer-ho amb `SageMath`).\n",
    "1. Trobeu totes les solucions del sistema: \n",
    "\\begin{eqnarray}\n",
    "x + 4y + z &= 0\\\\\n",
    "4x+13y+7z &= 0\\\\\n",
    "7x+22y+13z&=1.\n",
    "\\end{eqnarray}\n",
    "1. Trobeu totes les solucions del sistema: \n",
    "\\begin{eqnarray}\n",
    "x + 2y &= a\\\\\n",
    "3x + 5y &= b.\n",
    "\\end{eqnarray}\n",
    "1. Discutiu el següent sistema, segons el valor del paràmetre $k$. \n",
    "\\begin{eqnarray}\n",
    "x + y - z &= 2\\\\\n",
    "x + 2y + z &= 3\\\\\n",
    "x+ y + (k^2-5)z &= k.\n",
    "\\end{eqnarray}\n",
    "1. Resoleu el següent sistema d'equacions, realitzant a mà (fent servir els mètodes `rescale_row`, `add_multiple_of_row` i/o `swap_rows`) les transformacions de files. (1.2.17)\n",
    "\\begin{eqnarray}\n",
    " 2x_1 + 4x_2 + 3x_3 + 5x_4 + 6x_5 &= 37\\\\\n",
    " 4x_1 + 8x_2 + 7x_3 + 5x_4 + 2x_5 &= 74\\\\\n",
    "-2x_1 - 4x_2 + 3x_3 + 4x_4 - 5x_5 &= 20\\\\\n",
    "  x_1 + 2x_2 + 2x_3 -  x_4 + 2x_5 &= 26\\\\\n",
    " 5x_1 - 10x_2 +4x_3 + 6x_4 + 4x_5 &= 24.\n",
    "\\end{eqnarray}"
   ]
  },
  {
   "cell_type": "code",
   "execution_count": 1,
   "metadata": {},
   "outputs": [],
   "source": [
    "###\n"
   ]
  },
  {
   "cell_type": "code",
   "execution_count": 2,
   "metadata": {},
   "outputs": [],
   "source": [
    "###"
   ]
  },
  {
   "cell_type": "code",
   "execution_count": null,
   "metadata": {},
   "outputs": [],
   "source": []
  },
  {
   "cell_type": "code",
   "execution_count": null,
   "metadata": {},
   "outputs": [],
   "source": []
  },
  {
   "cell_type": "code",
   "execution_count": null,
   "metadata": {},
   "outputs": [],
   "source": []
  },
  {
   "cell_type": "code",
   "execution_count": null,
   "metadata": {},
   "outputs": [],
   "source": []
  },
  {
   "cell_type": "markdown",
   "metadata": {},
   "source": []
  },
  {
   "cell_type": "code",
   "execution_count": null,
   "metadata": {},
   "outputs": [],
   "source": []
  },
  {
   "cell_type": "code",
   "execution_count": null,
   "metadata": {},
   "outputs": [],
   "source": []
  },
  {
   "cell_type": "code",
   "execution_count": null,
   "metadata": {},
   "outputs": [],
   "source": []
  },
  {
   "cell_type": "code",
   "execution_count": null,
   "metadata": {},
   "outputs": [],
   "source": []
  },
  {
   "cell_type": "code",
   "execution_count": null,
   "metadata": {
    "scrolled": true
   },
   "outputs": [],
   "source": []
  },
  {
   "cell_type": "code",
   "execution_count": 3,
   "metadata": {
    "scrolled": true
   },
   "outputs": [],
   "source": [
    "##"
   ]
  },
  {
   "cell_type": "code",
   "execution_count": 4,
   "metadata": {},
   "outputs": [
    {
     "ename": "NameError",
     "evalue": "name 'A' is not defined",
     "output_type": "error",
     "traceback": [
      "\u001b[0;31m---------------------------------------------------------------------------\u001b[0m",
      "\u001b[0;31mNameError\u001b[0m                                 Traceback (most recent call last)",
      "\u001b[0;32m<ipython-input-4-521366e22252>\u001b[0m in \u001b[0;36m<module>\u001b[0;34m\u001b[0m\n\u001b[1;32m      1\u001b[0m \u001b[0;31m###\u001b[0m\u001b[0;34m\u001b[0m\u001b[0;34m\u001b[0m\u001b[0;34m\u001b[0m\u001b[0m\n\u001b[0;32m----> 2\u001b[0;31m \u001b[0mAb\u001b[0m \u001b[0;34m=\u001b[0m \u001b[0mA\u001b[0m\u001b[0;34m.\u001b[0m\u001b[0maugment\u001b[0m\u001b[0;34m(\u001b[0m\u001b[0mb\u001b[0m\u001b[0;34m,\u001b[0m \u001b[0msubdivide\u001b[0m\u001b[0;34m=\u001b[0m\u001b[0;32mTrue\u001b[0m\u001b[0;34m)\u001b[0m\u001b[0;34m\u001b[0m\u001b[0;34m\u001b[0m\u001b[0m\n\u001b[0m\u001b[1;32m      3\u001b[0m \u001b[0mshow\u001b[0m\u001b[0;34m(\u001b[0m\u001b[0mAb\u001b[0m\u001b[0;34m)\u001b[0m\u001b[0;34m\u001b[0m\u001b[0;34m\u001b[0m\u001b[0m\n\u001b[1;32m      4\u001b[0m \u001b[0mAb\u001b[0m\u001b[0;34m.\u001b[0m\u001b[0mswap_rows\u001b[0m\u001b[0;34m(\u001b[0m\u001b[0mInteger\u001b[0m\u001b[0;34m(\u001b[0m\u001b[0;36m0\u001b[0m\u001b[0;34m)\u001b[0m\u001b[0;34m,\u001b[0m \u001b[0mInteger\u001b[0m\u001b[0;34m(\u001b[0m\u001b[0;36m3\u001b[0m\u001b[0;34m)\u001b[0m\u001b[0;34m)\u001b[0m\u001b[0;34m\u001b[0m\u001b[0;34m\u001b[0m\u001b[0m\n\u001b[1;32m      5\u001b[0m \u001b[0mshow\u001b[0m\u001b[0;34m(\u001b[0m\u001b[0mAb\u001b[0m\u001b[0;34m)\u001b[0m\u001b[0;34m\u001b[0m\u001b[0;34m\u001b[0m\u001b[0m\n",
      "\u001b[0;31mNameError\u001b[0m: name 'A' is not defined"
     ]
    }
   ],
   "source": [
    "###\n",
    "Ab = A.augment(b, subdivide=True)\n",
    "show(Ab)\n",
    "Ab.swap_rows(0, 3)\n",
    "show(Ab)\n",
    "Ab.add_multiple_of_row(1, 0, -4)\n",
    "show(Ab)\n",
    "Ab.add_multiple_of_row(2, 0, 2)\n",
    "show(Ab)\n",
    "Ab.add_multiple_of_row(3, 0, -2)\n",
    "show(Ab)\n",
    "Ab.add_multiple_of_row(4, 0, -5)\n",
    "show(Ab)\n",
    "Ab.swap_rows(1, 4)\n",
    "show(Ab)\n",
    "Ab.rescale_row(1, -1/20)\n",
    "show(Ab)\n",
    "Ab.swap_rows(2, 3)\n",
    "show(Ab)\n",
    "Ab.rescale_row(2, -1)\n",
    "show(Ab)\n",
    "Ab.add_multiple_of_row(3, 2, -7)\n",
    "show(Ab)\n",
    "Ab.add_multiple_of_row(4, 2, 1)\n",
    "show(Ab)\n",
    "Ab.swap_rows(3,4)\n",
    "show(Ab)\n",
    "Ab.rescale_row(3, 1/2)\n",
    "show(Ab)\n",
    "Ab.add_multiple_of_row(4, 3, -51)\n",
    "show(Ab)\n",
    "Ab.rescale_row(4,1/217)\n",
    "show(Ab)\n",
    "\n",
    "# 5th column\n",
    "Ab.add_multiple_of_row(3,4,4)\n",
    "show(Ab)\n",
    "Ab.add_multiple_of_row(2,4,2)\n",
    "show(Ab)\n",
    "Ab.add_multiple_of_row(1,4,-3/10)\n",
    "show(Ab)\n",
    "Ab.add_multiple_of_row(0,4,-2)\n",
    "show(Ab)\n",
    "# 4th column\n",
    "Ab.add_multiple_of_row(2, 3, 7)\n",
    "show(Ab)\n",
    "Ab.add_multiple_of_row(1, 3, 11/20)\n",
    "show(Ab)\n",
    "Ab.add_multiple_of_row(0, 3, 1)\n",
    "show(Ab)\n",
    "# 3rd column\n",
    "Ab.add_multiple_of_row(1, 2, -3/10)\n",
    "show(Ab)\n",
    "Ab.add_multiple_of_row(0, 2, -2)\n",
    "show(Ab)\n",
    "# 2nd column\n",
    "Ab.add_multiple_of_row(0, 1, -2)\n",
    "show(Ab)\n"
   ]
  },
  {
   "cell_type": "code",
   "execution_count": null,
   "metadata": {},
   "outputs": [],
   "source": []
  },
  {
   "cell_type": "code",
   "execution_count": 8,
   "metadata": {},
   "outputs": [],
   "source": []
  },
  {
   "cell_type": "code",
   "execution_count": 9,
   "metadata": {},
   "outputs": [
    {
     "data": {
      "text/plain": [
       "[ 1  0 -1 -2  0]\n",
       "[ 0  1  2  3  0]\n",
       "[ 0  0  0  0  0]"
      ]
     },
     "execution_count": 9,
     "metadata": {},
     "output_type": "execute_result"
    }
   ],
   "source": []
  },
  {
   "cell_type": "markdown",
   "metadata": {},
   "source": []
  },
  {
   "cell_type": "markdown",
   "metadata": {},
   "source": []
  },
  {
   "cell_type": "code",
   "execution_count": 10,
   "metadata": {},
   "outputs": [],
   "source": [
    "\n",
    "            "
   ]
  },
  {
   "cell_type": "code",
   "execution_count": 11,
   "metadata": {},
   "outputs": [],
   "source": []
  },
  {
   "cell_type": "code",
   "execution_count": 12,
   "metadata": {},
   "outputs": [
    {
     "data": {
      "application/vnd.jupyter.widget-view+json": {
       "model_id": "048195c6a1f4492699a218014011b38b",
       "version_major": 2,
       "version_minor": 0
      },
      "text/plain": [
       "Interactive function <function myplot at 0x6fff788cdb00> with 1 widget\n",
       "  n: IntSlider(value=6, description='n'…"
      ]
     },
     "metadata": {},
     "output_type": "display_data"
    }
   ],
   "source": []
  },
  {
   "cell_type": "code",
   "execution_count": null,
   "metadata": {},
   "outputs": [],
   "source": []
  },
  {
   "cell_type": "markdown",
   "metadata": {},
   "source": []
  },
  {
   "cell_type": "markdown",
   "metadata": {},
   "source": []
  },
  {
   "cell_type": "markdown",
   "metadata": {},
   "source": []
  },
  {
   "cell_type": "code",
   "execution_count": 38,
   "metadata": {},
   "outputs": [],
   "source": []
  },
  {
   "cell_type": "markdown",
   "metadata": {},
   "source": []
  },
  {
   "cell_type": "code",
   "execution_count": 40,
   "metadata": {},
   "outputs": [],
   "source": []
  },
  {
   "cell_type": "markdown",
   "metadata": {},
   "source": []
  },
  {
   "cell_type": "markdown",
   "metadata": {},
   "source": []
  },
  {
   "cell_type": "code",
   "execution_count": 42,
   "metadata": {},
   "outputs": [],
   "source": []
  },
  {
   "cell_type": "markdown",
   "metadata": {},
   "source": []
  },
  {
   "cell_type": "code",
   "execution_count": null,
   "metadata": {},
   "outputs": [],
   "source": []
  },
  {
   "cell_type": "code",
   "execution_count": null,
   "metadata": {},
   "outputs": [],
   "source": []
  }
 ],
 "metadata": {
  "kernelspec": {
   "display_name": "SageMath 9.3",
   "language": "sage",
   "name": "sagemath"
  },
  "language_info": {
   "codemirror_mode": {
    "name": "ipython",
    "version": 3
   },
   "file_extension": ".py",
   "mimetype": "text/x-python",
   "name": "python",
   "nbconvert_exporter": "python",
   "pygments_lexer": "ipython3",
   "version": "3.7.10"
  }
 },
 "nbformat": 4,
 "nbformat_minor": 2
}
