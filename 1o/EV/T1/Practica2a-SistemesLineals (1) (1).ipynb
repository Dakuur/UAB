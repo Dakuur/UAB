{
 "cells": [
  {
   "cell_type": "markdown",
   "metadata": {},
   "source": [
    "# Pràctica 2a - Solucions"
   ]
  },
  {
   "cell_type": "markdown",
   "metadata": {},
   "source": [
    "En aquesta pràctica ens familiaritzarem en l'ús de *Sage*. Algunes indicacions que ens poden ser útils:\n",
    "\n",
    "- `QQ`, `RR`, `CC` són els cossos dels racionals, reals i complexos. També podem treballar a l'anell `ZZ` dels enters, al `SR` (simbòlic), o cossos com `Qbar` (complexos algebraics) i `AA` (reals algebraics).\n",
    "- El *mètode* `.random_element()` ens retorna un element (pseudo-)aleatori de l'estructura que tinguem. Per exemple, `ZZ.random_element()` ens retornarà un element (pseudo-)aleatori dels enters.\n",
    "- Per descobrir noves comandes, podeu fer servir el tabulador `<Tab>` per completar els mètodes. Podem obtenir l'ajuda d'una funció o mètode afegint un interrogant al seu nom, com per exemple `ZZ.random_element?`.\n",
    "- La comanda `range` ens retorna una llista d'enters (mireu com funciona). També és útil la notació `[2,5,..17]`, que ens retornaria la llista `[2,5,8,11,14,17]` (enters en progressió aritmètica).\n",
    "- Podeu investigar com funciona la creació de llistes \"compreses\" (*list comprehension* en anglès).\n",
    "- `Matrix(F, n, m, llista_entrades)` construeix una matriu $n \\times m$ en el cos `F`, amb les entrades donades.\n",
    "- Per resoldre un sistema lineal d'equacions de la forma $Ax=b$, escrivim `A.solve_right(b)`.\n",
    "- Les funcions `plot` i `scatter_plot` ens permeten fer gràfiques. Estudieu com funcionen!"
   ]
  },
  {
   "cell_type": "markdown",
   "metadata": {},
   "source": [
    "## 1. Matrius, sistemes d'equacions\n",
    "\n",
    "(Els nombres entre parèntesi fan referència a l'exercici corresponent de Bretscher, \"Linear Algebra with applications\".)\n",
    "\n",
    "1. Creeu una matriu A de tamany 2 x 3 que tingui entrades racionals.\n",
    "1. Creeu una matriu B de tamany 10 x 20 que tingui per entrades nombres enters aleatoris entre -5 i 5 (inclosos).\n",
    "1. Creeu una matriu C de tamany 20 x 10 que tingui a l'entrada $(i,j)$ el valor $2i+j$. (la primera entrada és $3$).\n",
    "1. Calculeu la matriu $BC$ i trobeu-ne el rang (descobriu com fer-ho amb `SageMath`).\n",
    "1. Trobeu totes les solucions del sistema: (1.1.14)\n",
    "\\begin{eqnarray}\n",
    "x + 4y + z &= 0\\\\\n",
    "4x+13y+7z &= 0\\\\\n",
    "7x+22y+13z&=1.\n",
    "\\end{eqnarray}\n",
    "1. Trobeu totes les solucions del sistema: (1.1.17)\n",
    "\\begin{eqnarray}\n",
    "x + 2y &= a\\\\\n",
    "3x + 5y &= b.\n",
    "\\end{eqnarray}\n",
    "1. Discutiu el següent sistema, segons el valor del paràmetre $k$. (1.1.20)\n",
    "\\begin{eqnarray}\n",
    "x + y - z &= 2\\\\\n",
    "x + 2y + z &= 3\\\\\n",
    "x+ y + (k^2-5)z &= k.\n",
    "\\end{eqnarray}\n",
    "1. Resoleu el següent sistema d'equacions, realitzant a mà (fent servir els mètodes `rescale_row`, `add_multiple_of_row` i/o `swap_rows`) les transformacions de files. (1.2.17)\n",
    "\\begin{eqnarray}\n",
    " 2x_1 + 4x_2 + 3x_3 + 5x_4 + 6x_5 &= 37\\\\\n",
    " 4x_1 + 8x_2 + 7x_3 + 5x_4 + 2x_5 &= 74\\\\\n",
    "-2x_1 - 4x_2 + 3x_3 + 4x_4 - 5x_5 &= 20\\\\\n",
    "  x_1 + 2x_2 + 2x_3 -  x_4 + 2x_5 &= 26\\\\\n",
    " 5x_1 - 10x_2 +4x_3 + 6x_4 + 4x_5 &= 24.\n",
    "\\end{eqnarray}"
   ]
  },
  {
   "cell_type": "code",
   "execution_count": 1,
   "metadata": {},
   "outputs": [
    {
     "data": {
      "text/html": [
       "<html><script type=\"math/tex; mode=display\">\\newcommand{\\Bold}[1]{\\mathbf{#1}}\\left(\\begin{array}{rrr}\n",
       "1 & \\frac{1}{2} & \\frac{1}{3} \\\\\n",
       "\\frac{1}{4} & \\frac{1}{5} & \\frac{1}{6}\n",
       "\\end{array}\\right)</script></html>"
      ],
      "text/latex": [
       "$$\\newcommand{\\Bold}[1]{\\mathbf{#1}}\\left(\\begin{array}{rrr}\n",
       "1 & \\frac{1}{2} & \\frac{1}{3} \\\\\n",
       "\\frac{1}{4} & \\frac{1}{5} & \\frac{1}{6}\n",
       "\\end{array}\\right)$$"
      ],
      "text/plain": [
       "[  1 1/2 1/3]\n",
       "[1/4 1/5 1/6]"
      ]
     },
     "metadata": {},
     "output_type": "display_data"
    }
   ],
   "source": [
    "###\n",
    "A = Matrix(QQ, 2, 3, [1/i for i in range(1,7)])\n",
    "show(A)"
   ]
  },
  {
   "cell_type": "code",
   "execution_count": 2,
   "metadata": {},
   "outputs": [
    {
     "data": {
      "text/html": [
       "<html><script type=\"math/tex; mode=display\">\\newcommand{\\Bold}[1]{\\mathbf{#1}}\\left(\\begin{array}{rrrrrrrrrrrrrrrrrrrr}\n",
       "-5 & -3 & -1 & 0 & 4 & 2 & 1 & -2 & 2 & 4 & 1 & -1 & -1 & 4 & 1 & -5 & -1 & 2 & 5 & 3 \\\\\n",
       "4 & -4 & -2 & 0 & 0 & -1 & 1 & 5 & 3 & -1 & -1 & 2 & 1 & -1 & -4 & -1 & -4 & -4 & 1 & -3 \\\\\n",
       "-2 & 3 & -3 & 5 & -3 & 1 & 0 & 2 & 1 & 4 & -4 & -4 & -4 & 2 & -3 & 3 & 5 & 2 & 2 & 5 \\\\\n",
       "4 & 1 & 4 & -3 & 3 & -3 & -2 & -4 & 3 & 3 & 0 & 3 & 2 & 2 & 1 & 1 & -5 & -5 & -3 & -3 \\\\\n",
       "-2 & -3 & 0 & -1 & 4 & -1 & 1 & 3 & 2 & 5 & 4 & -3 & 5 & -3 & 2 & -1 & 5 & -3 & 5 & 0 \\\\\n",
       "5 & 0 & 1 & 4 & 4 & -5 & -3 & 2 & 3 & -2 & 2 & 2 & -1 & 0 & 1 & 5 & 4 & 5 & 0 & 5 \\\\\n",
       "5 & -4 & 3 & -4 & -5 & -2 & 4 & 5 & 1 & 3 & 3 & -4 & 0 & -2 & 5 & -1 & 1 & 5 & -5 & -3 \\\\\n",
       "-1 & 0 & -1 & 3 & 3 & 1 & 5 & 1 & -1 & -1 & 3 & -2 & 0 & -4 & 3 & -5 & 0 & 1 & 1 & -5 \\\\\n",
       "-2 & -2 & 5 & -5 & 1 & 2 & -3 & 1 & 0 & 1 & -5 & -4 & -2 & -4 & -1 & -3 & 5 & -5 & -2 & 4 \\\\\n",
       "2 & -4 & -3 & -2 & -2 & 5 & 3 & -1 & 4 & -3 & -5 & -1 & 3 & -3 & 4 & -3 & 1 & -2 & -3 & -4 \\\\\n",
       "1 & 0 & -2 & 5 & 1 & -2 & -5 & -4 & 3 & 4 & 5 & -3 & 5 & -4 & 4 & 1 & -1 & -4 & -3 & 0 \\\\\n",
       "4 & -2 & 5 & -2 & 4 & 4 & 4 & -2 & 4 & -3 & -4 & 1 & 1 & -4 & -5 & 4 & 1 & -5 & -4 & -5 \\\\\n",
       "-5 & -2 & -3 & -5 & -1 & 0 & 2 & 1 & -3 & 2 & 5 & -3 & -3 & -3 & 2 & -5 & 0 & 4 & -2 & 3 \\\\\n",
       "3 & 5 & -1 & -4 & -3 & -1 & -5 & -3 & -2 & -4 & 5 & -4 & -4 & -5 & 4 & -1 & -1 & 2 & 3 & 0 \\\\\n",
       "5 & 2 & -5 & -2 & -2 & -3 & 1 & -5 & -3 & 5 & 2 & -3 & -5 & 5 & 5 & 1 & -5 & -3 & 0 & 3 \\\\\n",
       "0 & -2 & 1 & -2 & 2 & 5 & 1 & 0 & 4 & 2 & 2 & -3 & 4 & 2 & 2 & 5 & -5 & 4 & -4 & -3 \\\\\n",
       "-1 & -4 & 1 & -1 & -1 & 2 & 3 & -5 & 3 & 1 & -5 & 1 & 4 & 2 & 4 & 0 & 1 & 4 & -2 & 2 \\\\\n",
       "4 & -5 & -2 & -3 & 4 & 4 & -3 & 3 & -1 & 0 & 5 & -5 & 1 & -3 & -2 & 3 & 4 & -2 & -5 & 4 \\\\\n",
       "-5 & 4 & 0 & 4 & 3 & -4 & -5 & 0 & 3 & 4 & 2 & -3 & -3 & -4 & -5 & -2 & 4 & 3 & 0 & 3 \\\\\n",
       "-2 & -4 & -4 & -2 & -5 & -5 & 0 & -4 & -2 & 2 & 5 & 0 & -2 & -2 & -1 & 1 & -2 & 2 & -2 & 0\n",
       "\\end{array}\\right)</script></html>"
      ],
      "text/latex": [
       "$$\\newcommand{\\Bold}[1]{\\mathbf{#1}}\\left(\\begin{array}{rrrrrrrrrrrrrrrrrrrr}\n",
       "-5 & -3 & -1 & 0 & 4 & 2 & 1 & -2 & 2 & 4 & 1 & -1 & -1 & 4 & 1 & -5 & -1 & 2 & 5 & 3 \\\\\n",
       "4 & -4 & -2 & 0 & 0 & -1 & 1 & 5 & 3 & -1 & -1 & 2 & 1 & -1 & -4 & -1 & -4 & -4 & 1 & -3 \\\\\n",
       "-2 & 3 & -3 & 5 & -3 & 1 & 0 & 2 & 1 & 4 & -4 & -4 & -4 & 2 & -3 & 3 & 5 & 2 & 2 & 5 \\\\\n",
       "4 & 1 & 4 & -3 & 3 & -3 & -2 & -4 & 3 & 3 & 0 & 3 & 2 & 2 & 1 & 1 & -5 & -5 & -3 & -3 \\\\\n",
       "-2 & -3 & 0 & -1 & 4 & -1 & 1 & 3 & 2 & 5 & 4 & -3 & 5 & -3 & 2 & -1 & 5 & -3 & 5 & 0 \\\\\n",
       "5 & 0 & 1 & 4 & 4 & -5 & -3 & 2 & 3 & -2 & 2 & 2 & -1 & 0 & 1 & 5 & 4 & 5 & 0 & 5 \\\\\n",
       "5 & -4 & 3 & -4 & -5 & -2 & 4 & 5 & 1 & 3 & 3 & -4 & 0 & -2 & 5 & -1 & 1 & 5 & -5 & -3 \\\\\n",
       "-1 & 0 & -1 & 3 & 3 & 1 & 5 & 1 & -1 & -1 & 3 & -2 & 0 & -4 & 3 & -5 & 0 & 1 & 1 & -5 \\\\\n",
       "-2 & -2 & 5 & -5 & 1 & 2 & -3 & 1 & 0 & 1 & -5 & -4 & -2 & -4 & -1 & -3 & 5 & -5 & -2 & 4 \\\\\n",
       "2 & -4 & -3 & -2 & -2 & 5 & 3 & -1 & 4 & -3 & -5 & -1 & 3 & -3 & 4 & -3 & 1 & -2 & -3 & -4 \\\\\n",
       "1 & 0 & -2 & 5 & 1 & -2 & -5 & -4 & 3 & 4 & 5 & -3 & 5 & -4 & 4 & 1 & -1 & -4 & -3 & 0 \\\\\n",
       "4 & -2 & 5 & -2 & 4 & 4 & 4 & -2 & 4 & -3 & -4 & 1 & 1 & -4 & -5 & 4 & 1 & -5 & -4 & -5 \\\\\n",
       "-5 & -2 & -3 & -5 & -1 & 0 & 2 & 1 & -3 & 2 & 5 & -3 & -3 & -3 & 2 & -5 & 0 & 4 & -2 & 3 \\\\\n",
       "3 & 5 & -1 & -4 & -3 & -1 & -5 & -3 & -2 & -4 & 5 & -4 & -4 & -5 & 4 & -1 & -1 & 2 & 3 & 0 \\\\\n",
       "5 & 2 & -5 & -2 & -2 & -3 & 1 & -5 & -3 & 5 & 2 & -3 & -5 & 5 & 5 & 1 & -5 & -3 & 0 & 3 \\\\\n",
       "0 & -2 & 1 & -2 & 2 & 5 & 1 & 0 & 4 & 2 & 2 & -3 & 4 & 2 & 2 & 5 & -5 & 4 & -4 & -3 \\\\\n",
       "-1 & -4 & 1 & -1 & -1 & 2 & 3 & -5 & 3 & 1 & -5 & 1 & 4 & 2 & 4 & 0 & 1 & 4 & -2 & 2 \\\\\n",
       "4 & -5 & -2 & -3 & 4 & 4 & -3 & 3 & -1 & 0 & 5 & -5 & 1 & -3 & -2 & 3 & 4 & -2 & -5 & 4 \\\\\n",
       "-5 & 4 & 0 & 4 & 3 & -4 & -5 & 0 & 3 & 4 & 2 & -3 & -3 & -4 & -5 & -2 & 4 & 3 & 0 & 3 \\\\\n",
       "-2 & -4 & -4 & -2 & -5 & -5 & 0 & -4 & -2 & 2 & 5 & 0 & -2 & -2 & -1 & 1 & -2 & 2 & -2 & 0\n",
       "\\end{array}\\right)$$"
      ],
      "text/plain": [
       "20 x 20 dense matrix over Integer Ring (use the '.str()' method to see the entries)"
      ]
     },
     "metadata": {},
     "output_type": "display_data"
    }
   ],
   "source": [
    "###\n",
    "B = Matrix(ZZ,20, 20, [ZZ.random_element(-5,6) for _ in range(20 * 20)])\n",
    "show(B)"
   ]
  },
  {
   "cell_type": "code",
   "execution_count": 3,
   "metadata": {},
   "outputs": [
    {
     "data": {
      "text/html": [
       "<html><script type=\"math/tex; mode=display\">\\newcommand{\\Bold}[1]{\\mathbf{#1}}\\left(\\begin{array}{rrrrrrrrrr}\n",
       "3 & 4 & 5 & 6 & 7 & 8 & 9 & 10 & 11 & 12 \\\\\n",
       "5 & 6 & 7 & 8 & 9 & 10 & 11 & 12 & 13 & 14 \\\\\n",
       "7 & 8 & 9 & 10 & 11 & 12 & 13 & 14 & 15 & 16 \\\\\n",
       "9 & 10 & 11 & 12 & 13 & 14 & 15 & 16 & 17 & 18 \\\\\n",
       "11 & 12 & 13 & 14 & 15 & 16 & 17 & 18 & 19 & 20 \\\\\n",
       "13 & 14 & 15 & 16 & 17 & 18 & 19 & 20 & 21 & 22 \\\\\n",
       "15 & 16 & 17 & 18 & 19 & 20 & 21 & 22 & 23 & 24 \\\\\n",
       "17 & 18 & 19 & 20 & 21 & 22 & 23 & 24 & 25 & 26 \\\\\n",
       "19 & 20 & 21 & 22 & 23 & 24 & 25 & 26 & 27 & 28 \\\\\n",
       "21 & 22 & 23 & 24 & 25 & 26 & 27 & 28 & 29 & 30 \\\\\n",
       "23 & 24 & 25 & 26 & 27 & 28 & 29 & 30 & 31 & 32 \\\\\n",
       "25 & 26 & 27 & 28 & 29 & 30 & 31 & 32 & 33 & 34 \\\\\n",
       "27 & 28 & 29 & 30 & 31 & 32 & 33 & 34 & 35 & 36 \\\\\n",
       "29 & 30 & 31 & 32 & 33 & 34 & 35 & 36 & 37 & 38 \\\\\n",
       "31 & 32 & 33 & 34 & 35 & 36 & 37 & 38 & 39 & 40 \\\\\n",
       "33 & 34 & 35 & 36 & 37 & 38 & 39 & 40 & 41 & 42 \\\\\n",
       "35 & 36 & 37 & 38 & 39 & 40 & 41 & 42 & 43 & 44 \\\\\n",
       "37 & 38 & 39 & 40 & 41 & 42 & 43 & 44 & 45 & 46 \\\\\n",
       "39 & 40 & 41 & 42 & 43 & 44 & 45 & 46 & 47 & 48 \\\\\n",
       "41 & 42 & 43 & 44 & 45 & 46 & 47 & 48 & 49 & 50\n",
       "\\end{array}\\right)</script></html>"
      ],
      "text/latex": [
       "$$\\newcommand{\\Bold}[1]{\\mathbf{#1}}\\left(\\begin{array}{rrrrrrrrrr}\n",
       "3 & 4 & 5 & 6 & 7 & 8 & 9 & 10 & 11 & 12 \\\\\n",
       "5 & 6 & 7 & 8 & 9 & 10 & 11 & 12 & 13 & 14 \\\\\n",
       "7 & 8 & 9 & 10 & 11 & 12 & 13 & 14 & 15 & 16 \\\\\n",
       "9 & 10 & 11 & 12 & 13 & 14 & 15 & 16 & 17 & 18 \\\\\n",
       "11 & 12 & 13 & 14 & 15 & 16 & 17 & 18 & 19 & 20 \\\\\n",
       "13 & 14 & 15 & 16 & 17 & 18 & 19 & 20 & 21 & 22 \\\\\n",
       "15 & 16 & 17 & 18 & 19 & 20 & 21 & 22 & 23 & 24 \\\\\n",
       "17 & 18 & 19 & 20 & 21 & 22 & 23 & 24 & 25 & 26 \\\\\n",
       "19 & 20 & 21 & 22 & 23 & 24 & 25 & 26 & 27 & 28 \\\\\n",
       "21 & 22 & 23 & 24 & 25 & 26 & 27 & 28 & 29 & 30 \\\\\n",
       "23 & 24 & 25 & 26 & 27 & 28 & 29 & 30 & 31 & 32 \\\\\n",
       "25 & 26 & 27 & 28 & 29 & 30 & 31 & 32 & 33 & 34 \\\\\n",
       "27 & 28 & 29 & 30 & 31 & 32 & 33 & 34 & 35 & 36 \\\\\n",
       "29 & 30 & 31 & 32 & 33 & 34 & 35 & 36 & 37 & 38 \\\\\n",
       "31 & 32 & 33 & 34 & 35 & 36 & 37 & 38 & 39 & 40 \\\\\n",
       "33 & 34 & 35 & 36 & 37 & 38 & 39 & 40 & 41 & 42 \\\\\n",
       "35 & 36 & 37 & 38 & 39 & 40 & 41 & 42 & 43 & 44 \\\\\n",
       "37 & 38 & 39 & 40 & 41 & 42 & 43 & 44 & 45 & 46 \\\\\n",
       "39 & 40 & 41 & 42 & 43 & 44 & 45 & 46 & 47 & 48 \\\\\n",
       "41 & 42 & 43 & 44 & 45 & 46 & 47 & 48 & 49 & 50\n",
       "\\end{array}\\right)$$"
      ],
      "text/plain": [
       "20 x 10 dense matrix over Rational Field (use the '.str()' method to see the entries)"
      ]
     },
     "metadata": {},
     "output_type": "display_data"
    }
   ],
   "source": [
    "C = Matrix(QQ, 20, 10, [2*i + j for i in range(1,21) for j in range(1,11)])\n",
    "show(C)"
   ]
  },
  {
   "cell_type": "code",
   "execution_count": 4,
   "metadata": {},
   "outputs": [
    {
     "data": {
      "text/html": [
       "<html><script type=\"math/tex; mode=display\">\\newcommand{\\Bold}[1]{\\mathbf{#1}}\\left(\\begin{array}{rrrrrrrrrr}\n",
       "446 & 456 & 466 & 476 & 486 & 496 & 506 & 516 & 526 & 536 \\\\\n",
       "-403 & -412 & -421 & -430 & -439 & -448 & -457 & -466 & -475 & -484 \\\\\n",
       "446 & 458 & 470 & 482 & 494 & 506 & 518 & 530 & 542 & 554 \\\\\n",
       "-315 & -316 & -317 & -318 & -319 & -320 & -321 & -322 & -323 & -324 \\\\\n",
       "563 & 582 & 601 & 620 & 639 & 658 & 677 & 696 & 715 & 734 \\\\\n",
       "836 & 868 & 900 & 932 & 964 & 996 & 1028 & 1060 & 1092 & 1124 \\\\\n",
       "61 & 66 & 71 & 76 & 81 & 86 & 91 & 96 & 101 & 106 \\\\\n",
       "-183 & -182 & -181 & -180 & -179 & -178 & -177 & -176 & -175 & -174 \\\\\n",
       "-435 & -454 & -473 & -492 & -511 & -530 & -549 & -568 & -587 & -606 \\\\\n",
       "-410 & -424 & -438 & -452 & -466 & -480 & -494 & -508 & -522 & -536 \\\\\n",
       "-67 & -66 & -65 & -64 & -63 & -62 & -61 & -60 & -59 & -58 \\\\\n",
       "-536 & -540 & -544 & -548 & -552 & -556 & -560 & -564 & -568 & -572 \\\\\n",
       "-108 & -124 & -140 & -156 & -172 & -188 & -204 & -220 & -236 & -252 \\\\\n",
       "-294 & -310 & -326 & -342 & -358 & -374 & -390 & -406 & -422 & -438 \\\\\n",
       "-105 & -112 & -119 & -126 & -133 & -140 & -147 & -154 & -161 & -168 \\\\\n",
       "257 & 272 & 287 & 302 & 317 & 332 & 347 & 362 & 377 & 392 \\\\\n",
       "415 & 424 & 433 & 442 & 451 & 460 & 469 & 478 & 487 & 496 \\\\\n",
       "31 & 32 & 33 & 34 & 35 & 36 & 37 & 38 & 39 & 40 \\\\\n",
       "15 & 14 & 13 & 12 & 11 & 10 & 9 & 8 & 7 & 6 \\\\\n",
       "-325 & -352 & -379 & -406 & -433 & -460 & -487 & -514 & -541 & -568\n",
       "\\end{array}\\right)</script></html>"
      ],
      "text/latex": [
       "$$\\newcommand{\\Bold}[1]{\\mathbf{#1}}\\left(\\begin{array}{rrrrrrrrrr}\n",
       "446 & 456 & 466 & 476 & 486 & 496 & 506 & 516 & 526 & 536 \\\\\n",
       "-403 & -412 & -421 & -430 & -439 & -448 & -457 & -466 & -475 & -484 \\\\\n",
       "446 & 458 & 470 & 482 & 494 & 506 & 518 & 530 & 542 & 554 \\\\\n",
       "-315 & -316 & -317 & -318 & -319 & -320 & -321 & -322 & -323 & -324 \\\\\n",
       "563 & 582 & 601 & 620 & 639 & 658 & 677 & 696 & 715 & 734 \\\\\n",
       "836 & 868 & 900 & 932 & 964 & 996 & 1028 & 1060 & 1092 & 1124 \\\\\n",
       "61 & 66 & 71 & 76 & 81 & 86 & 91 & 96 & 101 & 106 \\\\\n",
       "-183 & -182 & -181 & -180 & -179 & -178 & -177 & -176 & -175 & -174 \\\\\n",
       "-435 & -454 & -473 & -492 & -511 & -530 & -549 & -568 & -587 & -606 \\\\\n",
       "-410 & -424 & -438 & -452 & -466 & -480 & -494 & -508 & -522 & -536 \\\\\n",
       "-67 & -66 & -65 & -64 & -63 & -62 & -61 & -60 & -59 & -58 \\\\\n",
       "-536 & -540 & -544 & -548 & -552 & -556 & -560 & -564 & -568 & -572 \\\\\n",
       "-108 & -124 & -140 & -156 & -172 & -188 & -204 & -220 & -236 & -252 \\\\\n",
       "-294 & -310 & -326 & -342 & -358 & -374 & -390 & -406 & -422 & -438 \\\\\n",
       "-105 & -112 & -119 & -126 & -133 & -140 & -147 & -154 & -161 & -168 \\\\\n",
       "257 & 272 & 287 & 302 & 317 & 332 & 347 & 362 & 377 & 392 \\\\\n",
       "415 & 424 & 433 & 442 & 451 & 460 & 469 & 478 & 487 & 496 \\\\\n",
       "31 & 32 & 33 & 34 & 35 & 36 & 37 & 38 & 39 & 40 \\\\\n",
       "15 & 14 & 13 & 12 & 11 & 10 & 9 & 8 & 7 & 6 \\\\\n",
       "-325 & -352 & -379 & -406 & -433 & -460 & -487 & -514 & -541 & -568\n",
       "\\end{array}\\right)$$"
      ],
      "text/plain": [
       "20 x 10 dense matrix over Rational Field (use the '.str()' method to see the entries)"
      ]
     },
     "metadata": {},
     "output_type": "display_data"
    },
    {
     "data": {
      "text/html": [
       "<html><script type=\"math/tex; mode=display\">\\newcommand{\\Bold}[1]{\\mathbf{#1}}\\left(\\begin{array}{rrrrrrrrrr}\n",
       "1 & 0 & -1 & -2 & -3 & -4 & -5 & -6 & -7 & -8 \\\\\n",
       "0 & 1 & 2 & 3 & 4 & 5 & 6 & 7 & 8 & 9 \\\\\n",
       "0 & 0 & 0 & 0 & 0 & 0 & 0 & 0 & 0 & 0 \\\\\n",
       "0 & 0 & 0 & 0 & 0 & 0 & 0 & 0 & 0 & 0 \\\\\n",
       "0 & 0 & 0 & 0 & 0 & 0 & 0 & 0 & 0 & 0 \\\\\n",
       "0 & 0 & 0 & 0 & 0 & 0 & 0 & 0 & 0 & 0 \\\\\n",
       "0 & 0 & 0 & 0 & 0 & 0 & 0 & 0 & 0 & 0 \\\\\n",
       "0 & 0 & 0 & 0 & 0 & 0 & 0 & 0 & 0 & 0 \\\\\n",
       "0 & 0 & 0 & 0 & 0 & 0 & 0 & 0 & 0 & 0 \\\\\n",
       "0 & 0 & 0 & 0 & 0 & 0 & 0 & 0 & 0 & 0 \\\\\n",
       "0 & 0 & 0 & 0 & 0 & 0 & 0 & 0 & 0 & 0 \\\\\n",
       "0 & 0 & 0 & 0 & 0 & 0 & 0 & 0 & 0 & 0 \\\\\n",
       "0 & 0 & 0 & 0 & 0 & 0 & 0 & 0 & 0 & 0 \\\\\n",
       "0 & 0 & 0 & 0 & 0 & 0 & 0 & 0 & 0 & 0 \\\\\n",
       "0 & 0 & 0 & 0 & 0 & 0 & 0 & 0 & 0 & 0 \\\\\n",
       "0 & 0 & 0 & 0 & 0 & 0 & 0 & 0 & 0 & 0 \\\\\n",
       "0 & 0 & 0 & 0 & 0 & 0 & 0 & 0 & 0 & 0 \\\\\n",
       "0 & 0 & 0 & 0 & 0 & 0 & 0 & 0 & 0 & 0 \\\\\n",
       "0 & 0 & 0 & 0 & 0 & 0 & 0 & 0 & 0 & 0 \\\\\n",
       "0 & 0 & 0 & 0 & 0 & 0 & 0 & 0 & 0 & 0\n",
       "\\end{array}\\right)</script></html>"
      ],
      "text/latex": [
       "$$\\newcommand{\\Bold}[1]{\\mathbf{#1}}\\left(\\begin{array}{rrrrrrrrrr}\n",
       "1 & 0 & -1 & -2 & -3 & -4 & -5 & -6 & -7 & -8 \\\\\n",
       "0 & 1 & 2 & 3 & 4 & 5 & 6 & 7 & 8 & 9 \\\\\n",
       "0 & 0 & 0 & 0 & 0 & 0 & 0 & 0 & 0 & 0 \\\\\n",
       "0 & 0 & 0 & 0 & 0 & 0 & 0 & 0 & 0 & 0 \\\\\n",
       "0 & 0 & 0 & 0 & 0 & 0 & 0 & 0 & 0 & 0 \\\\\n",
       "0 & 0 & 0 & 0 & 0 & 0 & 0 & 0 & 0 & 0 \\\\\n",
       "0 & 0 & 0 & 0 & 0 & 0 & 0 & 0 & 0 & 0 \\\\\n",
       "0 & 0 & 0 & 0 & 0 & 0 & 0 & 0 & 0 & 0 \\\\\n",
       "0 & 0 & 0 & 0 & 0 & 0 & 0 & 0 & 0 & 0 \\\\\n",
       "0 & 0 & 0 & 0 & 0 & 0 & 0 & 0 & 0 & 0 \\\\\n",
       "0 & 0 & 0 & 0 & 0 & 0 & 0 & 0 & 0 & 0 \\\\\n",
       "0 & 0 & 0 & 0 & 0 & 0 & 0 & 0 & 0 & 0 \\\\\n",
       "0 & 0 & 0 & 0 & 0 & 0 & 0 & 0 & 0 & 0 \\\\\n",
       "0 & 0 & 0 & 0 & 0 & 0 & 0 & 0 & 0 & 0 \\\\\n",
       "0 & 0 & 0 & 0 & 0 & 0 & 0 & 0 & 0 & 0 \\\\\n",
       "0 & 0 & 0 & 0 & 0 & 0 & 0 & 0 & 0 & 0 \\\\\n",
       "0 & 0 & 0 & 0 & 0 & 0 & 0 & 0 & 0 & 0 \\\\\n",
       "0 & 0 & 0 & 0 & 0 & 0 & 0 & 0 & 0 & 0 \\\\\n",
       "0 & 0 & 0 & 0 & 0 & 0 & 0 & 0 & 0 & 0 \\\\\n",
       "0 & 0 & 0 & 0 & 0 & 0 & 0 & 0 & 0 & 0\n",
       "\\end{array}\\right)$$"
      ],
      "text/plain": [
       "20 x 10 dense matrix over Rational Field (use the '.str()' method to see the entries)"
      ]
     },
     "metadata": {},
     "output_type": "display_data"
    },
    {
     "data": {
      "text/html": [
       "<html><script type=\"math/tex; mode=display\">\\newcommand{\\Bold}[1]{\\mathbf{#1}}2</script></html>"
      ],
      "text/latex": [
       "$$\\newcommand{\\Bold}[1]{\\mathbf{#1}}2$$"
      ],
      "text/plain": [
       "2"
      ]
     },
     "metadata": {},
     "output_type": "display_data"
    },
    {
     "data": {
      "text/html": [
       "<html><script type=\"math/tex; mode=display\">\\newcommand{\\Bold}[1]{\\mathbf{#1}}2</script></html>"
      ],
      "text/latex": [
       "$$\\newcommand{\\Bold}[1]{\\mathbf{#1}}2$$"
      ],
      "text/plain": [
       "2"
      ]
     },
     "metadata": {},
     "output_type": "display_data"
    }
   ],
   "source": [
    "M = B * C\n",
    "show(M)\n",
    "show(M.echelon_form())\n",
    "show(M.rank())\n",
    "show(C.rank())"
   ]
  },
  {
   "cell_type": "code",
   "execution_count": 5,
   "metadata": {},
   "outputs": [
    {
     "data": {
      "text/plain": [
       "5"
      ]
     },
     "execution_count": 5,
     "metadata": {},
     "output_type": "execute_result"
    }
   ],
   "source": [
    "H = Matrix(RR,5,5,[1/(i+j+1) for i in range(5) for j in range(5)])\n",
    "\n",
    "H.rank()"
   ]
  },
  {
   "cell_type": "code",
   "execution_count": 6,
   "metadata": {},
   "outputs": [
    {
     "data": {
      "text/html": [
       "<html><script type=\"math/tex; mode=display\">\\newcommand{\\Bold}[1]{\\mathbf{#1}}\\left(\\begin{array}{rrrrr}\n",
       "1.00000000000006 & -2.84217094304040 \\times 10^{-14} & 1.42108547152020 \\times 10^{-14} & 2.84217094304040 \\times 10^{-14} & -1.42108547152020 \\times 10^{-14} \\\\\n",
       "-1.36424205265939 \\times 10^{-12} & 1.00000000000000 & -6.82121026329696 \\times 10^{-13} & -4.54747350886464 \\times 10^{-13} & 0.000000000000000 \\\\\n",
       "0.000000000000000 & 0.000000000000000 & 1.00000000000182 & -9.09494701772928 \\times 10^{-13} & 9.09494701772928 \\times 10^{-13} \\\\\n",
       "7.27595761418343 \\times 10^{-12} & 9.09494701772928 \\times 10^{-12} & 9.09494701772928 \\times 10^{-12} & 1.00000000000546 & 3.63797880709171 \\times 10^{-12} \\\\\n",
       "-1.81898940354586 \\times 10^{-12} & -1.81898940354586 \\times 10^{-12} & -2.72848410531878 \\times 10^{-12} & -9.09494701772928 \\times 10^{-13} & 0.999999999999091\n",
       "\\end{array}\\right)</script></html>"
      ],
      "text/latex": [
       "$$\\newcommand{\\Bold}[1]{\\mathbf{#1}}\\left(\\begin{array}{rrrrr}\n",
       "1.00000000000006 & -2.84217094304040 \\times 10^{-14} & 1.42108547152020 \\times 10^{-14} & 2.84217094304040 \\times 10^{-14} & -1.42108547152020 \\times 10^{-14} \\\\\n",
       "-1.36424205265939 \\times 10^{-12} & 1.00000000000000 & -6.82121026329696 \\times 10^{-13} & -4.54747350886464 \\times 10^{-13} & 0.000000000000000 \\\\\n",
       "0.000000000000000 & 0.000000000000000 & 1.00000000000182 & -9.09494701772928 \\times 10^{-13} & 9.09494701772928 \\times 10^{-13} \\\\\n",
       "7.27595761418343 \\times 10^{-12} & 9.09494701772928 \\times 10^{-12} & 9.09494701772928 \\times 10^{-12} & 1.00000000000546 & 3.63797880709171 \\times 10^{-12} \\\\\n",
       "-1.81898940354586 \\times 10^{-12} & -1.81898940354586 \\times 10^{-12} & -2.72848410531878 \\times 10^{-12} & -9.09494701772928 \\times 10^{-13} & 0.999999999999091\n",
       "\\end{array}\\right)$$"
      ],
      "text/plain": [
       "[     1.00000000000006 -2.84217094304040e-14  1.42108547152020e-14  2.84217094304040e-14 -1.42108547152020e-14]\n",
       "[-1.36424205265939e-12      1.00000000000000 -6.82121026329696e-13 -4.54747350886464e-13     0.000000000000000]\n",
       "[    0.000000000000000     0.000000000000000      1.00000000000182 -9.09494701772928e-13  9.09494701772928e-13]\n",
       "[ 7.27595761418343e-12  9.09494701772928e-12  9.09494701772928e-12      1.00000000000546  3.63797880709171e-12]\n",
       "[-1.81898940354586e-12 -1.81898940354586e-12 -2.72848410531878e-12 -9.09494701772928e-13     0.999999999999091]"
      ]
     },
     "metadata": {},
     "output_type": "display_data"
    },
    {
     "data": {
      "text/plain": [
       "False"
      ]
     },
     "execution_count": 6,
     "metadata": {},
     "output_type": "execute_result"
    }
   ],
   "source": [
    "show(H**-1 * H)\n",
    "H^(-1) * H == 1"
   ]
  },
  {
   "cell_type": "markdown",
   "metadata": {},
   "source": [
    "Veiem que la inversa no s'ha calculat bé. El problema és que algunes de les divisions que apareixen són per nombres molt propers a zero."
   ]
  },
  {
   "cell_type": "code",
   "execution_count": 7,
   "metadata": {},
   "outputs": [
    {
     "data": {
      "text/html": [
       "<html><script type=\"math/tex; mode=display\">\\newcommand{\\Bold}[1]{\\mathbf{#1}}\\left(\\begin{array}{rrrrr}\n",
       "1 & \\frac{1}{2} & \\frac{1}{3} & \\frac{1}{4} & \\frac{1}{5} \\\\\n",
       "\\frac{1}{2} & \\frac{1}{3} & \\frac{1}{4} & \\frac{1}{5} & \\frac{1}{6} \\\\\n",
       "\\frac{1}{3} & \\frac{1}{4} & \\frac{1}{5} & \\frac{1}{6} & \\frac{1}{7} \\\\\n",
       "\\frac{1}{4} & \\frac{1}{5} & \\frac{1}{6} & \\frac{1}{7} & \\frac{1}{8} \\\\\n",
       "\\frac{1}{5} & \\frac{1}{6} & \\frac{1}{7} & \\frac{1}{8} & \\frac{1}{9}\n",
       "\\end{array}\\right)</script></html>"
      ],
      "text/latex": [
       "$$\\newcommand{\\Bold}[1]{\\mathbf{#1}}\\left(\\begin{array}{rrrrr}\n",
       "1 & \\frac{1}{2} & \\frac{1}{3} & \\frac{1}{4} & \\frac{1}{5} \\\\\n",
       "\\frac{1}{2} & \\frac{1}{3} & \\frac{1}{4} & \\frac{1}{5} & \\frac{1}{6} \\\\\n",
       "\\frac{1}{3} & \\frac{1}{4} & \\frac{1}{5} & \\frac{1}{6} & \\frac{1}{7} \\\\\n",
       "\\frac{1}{4} & \\frac{1}{5} & \\frac{1}{6} & \\frac{1}{7} & \\frac{1}{8} \\\\\n",
       "\\frac{1}{5} & \\frac{1}{6} & \\frac{1}{7} & \\frac{1}{8} & \\frac{1}{9}\n",
       "\\end{array}\\right)$$"
      ],
      "text/plain": [
       "[  1 1/2 1/3 1/4 1/5]\n",
       "[1/2 1/3 1/4 1/5 1/6]\n",
       "[1/3 1/4 1/5 1/6 1/7]\n",
       "[1/4 1/5 1/6 1/7 1/8]\n",
       "[1/5 1/6 1/7 1/8 1/9]"
      ]
     },
     "metadata": {},
     "output_type": "display_data"
    },
    {
     "data": {
      "text/plain": [
       "True"
      ]
     },
     "execution_count": 7,
     "metadata": {},
     "output_type": "execute_result"
    }
   ],
   "source": [
    "H = Matrix(QQ,5,5,[1/(i+j+1) for i in range(5) for j in range(5)])\n",
    "show(H)\n",
    "H^(-1) * H == 1"
   ]
  },
  {
   "cell_type": "code",
   "execution_count": 8,
   "metadata": {},
   "outputs": [
    {
     "data": {
      "text/html": [
       "<html><script type=\"math/tex; mode=display\">\\newcommand{\\Bold}[1]{\\mathbf{#1}}\\left(\\begin{array}{rrrr}\n",
       "1 & 0 & 5 & 0 \\\\\n",
       "0 & 1 & -1 & 0 \\\\\n",
       "0 & 0 & 0 & 0\n",
       "\\end{array}\\right)</script></html>"
      ],
      "text/latex": [
       "$$\\newcommand{\\Bold}[1]{\\mathbf{#1}}\\left(\\begin{array}{rrrr}\n",
       "1 & 0 & 5 & 0 \\\\\n",
       "0 & 1 & -1 & 0 \\\\\n",
       "0 & 0 & 0 & 0\n",
       "\\end{array}\\right)$$"
      ],
      "text/plain": [
       "[ 1  0  5  0]\n",
       "[ 0  1 -1  0]\n",
       "[ 0  0  0  0]"
      ]
     },
     "metadata": {},
     "output_type": "display_data"
    },
    {
     "data": {
      "text/html": [
       "<html><script type=\"math/tex; mode=display\">\\newcommand{\\Bold}[1]{\\mathbf{#1}}\\left(\\begin{array}{r}\n",
       "0 \\\\\n",
       "0 \\\\\n",
       "0\n",
       "\\end{array}\\right)</script></html>"
      ],
      "text/latex": [
       "$$\\newcommand{\\Bold}[1]{\\mathbf{#1}}\\left(\\begin{array}{r}\n",
       "0 \\\\\n",
       "0 \\\\\n",
       "0\n",
       "\\end{array}\\right)$$"
      ],
      "text/plain": [
       "[0]\n",
       "[0]\n",
       "[0]"
      ]
     },
     "metadata": {},
     "output_type": "display_data"
    }
   ],
   "source": [
    "###\n",
    "C = Matrix(QQ, 3,3, [[1, 4, 1],[4, 13, 7],[7, 22, 13]])\n",
    "b = Matrix(QQ, 3, 1, [0, 0, 0])\n",
    "Sist=C.augment(b);\n",
    "show(Sist.echelon_form())\n",
    "show(C.solve_right(b))\n"
   ]
  },
  {
   "cell_type": "code",
   "execution_count": 9,
   "metadata": {},
   "outputs": [
    {
     "data": {
      "text/plain": [
       "Vector space of degree 3 and dimension 2 over Rational Field\n",
       "Basis matrix:\n",
       "[ 1  0 -1]\n",
       "[ 0  1  2]"
      ]
     },
     "execution_count": 9,
     "metadata": {},
     "output_type": "execute_result"
    }
   ],
   "source": [
    "###\n",
    "C.column_space()"
   ]
  },
  {
   "cell_type": "code",
   "execution_count": 10,
   "metadata": {},
   "outputs": [
    {
     "data": {
      "text/plain": [
       "[ 1  0  5  0]\n",
       "[ 0  1 -1  0]\n",
       "[ 0  0  0  0]"
      ]
     },
     "execution_count": 10,
     "metadata": {},
     "output_type": "execute_result"
    }
   ],
   "source": [
    "Sist=C.augment(b);\n",
    "Sist.echelon_form()"
   ]
  },
  {
   "cell_type": "code",
   "execution_count": 11,
   "metadata": {},
   "outputs": [
    {
     "data": {
      "text/plain": [
       "(-5*a + 2*b, 3*a - b)"
      ]
     },
     "execution_count": 11,
     "metadata": {},
     "output_type": "execute_result"
    }
   ],
   "source": [
    "###\n",
    "A = Matrix(QQ,2,2,[1,2,3,5])\n",
    "var('a', 'b')\n",
    "A.solve_right(vector([a,b]))"
   ]
  },
  {
   "cell_type": "code",
   "execution_count": 12,
   "metadata": {
    "scrolled": true
   },
   "outputs": [
    {
     "data": {
      "text/html": [
       "<html><script type=\"math/tex; mode=display\">\\newcommand{\\Bold}[1]{\\mathbf{#1}}\\left(-\\frac{k^{3} - 8 \\, k^{2} - 7 \\, k + 44}{k^{2} - 4},\\,\\frac{k^{3} - 4 \\, k^{2} - 6 \\, k + 24}{k^{2} - 4},\\,\\frac{k - 4}{k^{2} - 4}\\right)</script></html>"
      ],
      "text/latex": [
       "$$\\newcommand{\\Bold}[1]{\\mathbf{#1}}\\left(-\\frac{k^{3} - 8 \\, k^{2} - 7 \\, k + 44}{k^{2} - 4},\\,\\frac{k^{3} - 4 \\, k^{2} - 6 \\, k + 24}{k^{2} - 4},\\,\\frac{k - 4}{k^{2} - 4}\\right)$$"
      ],
      "text/plain": [
       "(-(k^3 - 8*k^2 - 7*k + 44)/(k^2 - 4), (k^3 - 4*k^2 - 6*k + 24)/(k^2 - 4), (k - 4)/(k^2 - 4))"
      ]
     },
     "metadata": {},
     "output_type": "display_data"
    }
   ],
   "source": [
    "###\n",
    "var('k')\n",
    "A = Matrix(3, 3, [[1, 1, -1],[1, 2, 1], [1, 1, k^2 - 5]])\n",
    "show(A.solve_right(vector([4,k,k])).simplify_full())"
   ]
  },
  {
   "cell_type": "code",
   "execution_count": 13,
   "metadata": {},
   "outputs": [
    {
     "data": {
      "text/html": [
       "<html><script type=\"math/tex; mode=display\">\\newcommand{\\Bold}[1]{\\mathbf{#1}}k^{2} - 4</script></html>"
      ],
      "text/latex": [
       "$$\\newcommand{\\Bold}[1]{\\mathbf{#1}}k^{2} - 4$$"
      ],
      "text/plain": [
       "k^2 - 4"
      ]
     },
     "metadata": {},
     "output_type": "display_data"
    },
    {
     "data": {
      "text/html": [
       "<html><script type=\"math/tex; mode=display\">\\newcommand{\\Bold}[1]{\\mathbf{#1}}3</script></html>"
      ],
      "text/latex": [
       "$$\\newcommand{\\Bold}[1]{\\mathbf{#1}}3$$"
      ],
      "text/plain": [
       "3"
      ]
     },
     "metadata": {},
     "output_type": "display_data"
    },
    {
     "data": {
      "text/html": [
       "<html><script type=\"math/tex; mode=display\">\\newcommand{\\Bold}[1]{\\mathbf{#1}}\\left(\\begin{array}{rrrr}\n",
       "1 & 0 & 0 & -k + \\frac{3 \\, {\\left(k - 4\\right)}}{k^{2} - 4} + 8 \\\\\n",
       "0 & 1 & 0 & k - \\frac{2 \\, {\\left(k - 4\\right)}}{k^{2} - 4} - 4 \\\\\n",
       "0 & 0 & 1 & \\frac{k - 4}{k^{2} - 4}\n",
       "\\end{array}\\right)</script></html>"
      ],
      "text/latex": [
       "$$\\newcommand{\\Bold}[1]{\\mathbf{#1}}\\left(\\begin{array}{rrrr}\n",
       "1 & 0 & 0 & -k + \\frac{3 \\, {\\left(k - 4\\right)}}{k^{2} - 4} + 8 \\\\\n",
       "0 & 1 & 0 & k - \\frac{2 \\, {\\left(k - 4\\right)}}{k^{2} - 4} - 4 \\\\\n",
       "0 & 0 & 1 & \\frac{k - 4}{k^{2} - 4}\n",
       "\\end{array}\\right)$$"
      ],
      "text/plain": [
       "[                           1                            0                            0 -k + 3*(k - 4)/(k^2 - 4) + 8]\n",
       "[                           0                            1                            0  k - 2*(k - 4)/(k^2 - 4) - 4]\n",
       "[                           0                            0                            1            (k - 4)/(k^2 - 4)]"
      ]
     },
     "metadata": {},
     "output_type": "display_data"
    }
   ],
   "source": [
    "show(A.determinant())\n",
    "show(A.rank())\n",
    "Sist2=A.augment(vector([4,k,k]));\n",
    "show(Sist2.echelon_form())"
   ]
  },
  {
   "cell_type": "code",
   "execution_count": 14,
   "metadata": {
    "scrolled": true
   },
   "outputs": [
    {
     "data": {
      "text/html": [
       "<html><script type=\"math/tex; mode=display\">\\newcommand{\\Bold}[1]{\\mathbf{#1}}\\left(\\begin{array}{r}\n",
       "-\\frac{8221}{4340} \\\\\n",
       "\\frac{8591}{8680} \\\\\n",
       "\\frac{4695}{434} \\\\\n",
       "-\\frac{459}{434} \\\\\n",
       "\\frac{699}{434}\n",
       "\\end{array}\\right)</script></html>"
      ],
      "text/latex": [
       "$$\\newcommand{\\Bold}[1]{\\mathbf{#1}}\\left(\\begin{array}{r}\n",
       "-\\frac{8221}{4340} \\\\\n",
       "\\frac{8591}{8680} \\\\\n",
       "\\frac{4695}{434} \\\\\n",
       "-\\frac{459}{434} \\\\\n",
       "\\frac{699}{434}\n",
       "\\end{array}\\right)$$"
      ],
      "text/plain": [
       "[-8221/4340]\n",
       "[ 8591/8680]\n",
       "[  4695/434]\n",
       "[  -459/434]\n",
       "[   699/434]"
      ]
     },
     "metadata": {},
     "output_type": "display_data"
    },
    {
     "data": {
      "text/plain": [
       "[         1          0          0          0          0 -8221/4340]\n",
       "[         0          1          0          0          0  8591/8680]\n",
       "[         0          0          1          0          0   4695/434]\n",
       "[         0          0          0          1          0   -459/434]\n",
       "[         0          0          0          0          1    699/434]"
      ]
     },
     "execution_count": 14,
     "metadata": {},
     "output_type": "execute_result"
    }
   ],
   "source": [
    "###\n",
    "A = Matrix(QQ, [[2, 4, 3, 5, 6],[4, 8, 7, 5, 2],[-2, -4, 3, 4, -5],[1, 2, 2, -1, 2],[5, -10, 4, 6, 4]])\n",
    "b = Matrix(5, 1, [37,74, 20, 26, 24])\n",
    "show(A.solve_right(b))\n",
    "Sist3=A.augment(b);\n",
    "Sist3.echelon_form()"
   ]
  },
  {
   "cell_type": "code",
   "execution_count": 15,
   "metadata": {},
   "outputs": [
    {
     "data": {
      "text/html": [
       "<html><script type=\"math/tex; mode=display\">\\newcommand{\\Bold}[1]{\\mathbf{#1}}\\left(\\begin{array}{rrrrr|r}\n",
       "2 & 4 & 3 & 5 & 6 & 37 \\\\\n",
       "4 & 8 & 7 & 5 & 2 & 74 \\\\\n",
       "-2 & -4 & 3 & 4 & -5 & 20 \\\\\n",
       "1 & 2 & 2 & -1 & 2 & 26 \\\\\n",
       "5 & -10 & 4 & 6 & 4 & 24\n",
       "\\end{array}\\right)</script></html>"
      ],
      "text/latex": [
       "$$\\newcommand{\\Bold}[1]{\\mathbf{#1}}\\left(\\begin{array}{rrrrr|r}\n",
       "2 & 4 & 3 & 5 & 6 & 37 \\\\\n",
       "4 & 8 & 7 & 5 & 2 & 74 \\\\\n",
       "-2 & -4 & 3 & 4 & -5 & 20 \\\\\n",
       "1 & 2 & 2 & -1 & 2 & 26 \\\\\n",
       "5 & -10 & 4 & 6 & 4 & 24\n",
       "\\end{array}\\right)$$"
      ],
      "text/plain": [
       "[  2   4   3   5   6| 37]\n",
       "[  4   8   7   5   2| 74]\n",
       "[ -2  -4   3   4  -5| 20]\n",
       "[  1   2   2  -1   2| 26]\n",
       "[  5 -10   4   6   4| 24]"
      ]
     },
     "metadata": {},
     "output_type": "display_data"
    },
    {
     "data": {
      "text/html": [
       "<html><script type=\"math/tex; mode=display\">\\newcommand{\\Bold}[1]{\\mathbf{#1}}\\left(\\begin{array}{rrrrr|r}\n",
       "1 & 2 & 2 & -1 & 2 & 26 \\\\\n",
       "4 & 8 & 7 & 5 & 2 & 74 \\\\\n",
       "-2 & -4 & 3 & 4 & -5 & 20 \\\\\n",
       "2 & 4 & 3 & 5 & 6 & 37 \\\\\n",
       "5 & -10 & 4 & 6 & 4 & 24\n",
       "\\end{array}\\right)</script></html>"
      ],
      "text/latex": [
       "$$\\newcommand{\\Bold}[1]{\\mathbf{#1}}\\left(\\begin{array}{rrrrr|r}\n",
       "1 & 2 & 2 & -1 & 2 & 26 \\\\\n",
       "4 & 8 & 7 & 5 & 2 & 74 \\\\\n",
       "-2 & -4 & 3 & 4 & -5 & 20 \\\\\n",
       "2 & 4 & 3 & 5 & 6 & 37 \\\\\n",
       "5 & -10 & 4 & 6 & 4 & 24\n",
       "\\end{array}\\right)$$"
      ],
      "text/plain": [
       "[  1   2   2  -1   2| 26]\n",
       "[  4   8   7   5   2| 74]\n",
       "[ -2  -4   3   4  -5| 20]\n",
       "[  2   4   3   5   6| 37]\n",
       "[  5 -10   4   6   4| 24]"
      ]
     },
     "metadata": {},
     "output_type": "display_data"
    },
    {
     "data": {
      "text/html": [
       "<html><script type=\"math/tex; mode=display\">\\newcommand{\\Bold}[1]{\\mathbf{#1}}\\left(\\begin{array}{rrrrr|r}\n",
       "1 & 2 & 2 & -1 & 2 & 26 \\\\\n",
       "0 & 0 & -1 & 9 & -6 & -30 \\\\\n",
       "-2 & -4 & 3 & 4 & -5 & 20 \\\\\n",
       "2 & 4 & 3 & 5 & 6 & 37 \\\\\n",
       "5 & -10 & 4 & 6 & 4 & 24\n",
       "\\end{array}\\right)</script></html>"
      ],
      "text/latex": [
       "$$\\newcommand{\\Bold}[1]{\\mathbf{#1}}\\left(\\begin{array}{rrrrr|r}\n",
       "1 & 2 & 2 & -1 & 2 & 26 \\\\\n",
       "0 & 0 & -1 & 9 & -6 & -30 \\\\\n",
       "-2 & -4 & 3 & 4 & -5 & 20 \\\\\n",
       "2 & 4 & 3 & 5 & 6 & 37 \\\\\n",
       "5 & -10 & 4 & 6 & 4 & 24\n",
       "\\end{array}\\right)$$"
      ],
      "text/plain": [
       "[  1   2   2  -1   2| 26]\n",
       "[  0   0  -1   9  -6|-30]\n",
       "[ -2  -4   3   4  -5| 20]\n",
       "[  2   4   3   5   6| 37]\n",
       "[  5 -10   4   6   4| 24]"
      ]
     },
     "metadata": {},
     "output_type": "display_data"
    },
    {
     "data": {
      "text/html": [
       "<html><script type=\"math/tex; mode=display\">\\newcommand{\\Bold}[1]{\\mathbf{#1}}\\left(\\begin{array}{rrrrr|r}\n",
       "1 & 2 & 2 & -1 & 2 & 26 \\\\\n",
       "0 & 0 & -1 & 9 & -6 & -30 \\\\\n",
       "0 & 0 & 7 & 2 & -1 & 72 \\\\\n",
       "2 & 4 & 3 & 5 & 6 & 37 \\\\\n",
       "5 & -10 & 4 & 6 & 4 & 24\n",
       "\\end{array}\\right)</script></html>"
      ],
      "text/latex": [
       "$$\\newcommand{\\Bold}[1]{\\mathbf{#1}}\\left(\\begin{array}{rrrrr|r}\n",
       "1 & 2 & 2 & -1 & 2 & 26 \\\\\n",
       "0 & 0 & -1 & 9 & -6 & -30 \\\\\n",
       "0 & 0 & 7 & 2 & -1 & 72 \\\\\n",
       "2 & 4 & 3 & 5 & 6 & 37 \\\\\n",
       "5 & -10 & 4 & 6 & 4 & 24\n",
       "\\end{array}\\right)$$"
      ],
      "text/plain": [
       "[  1   2   2  -1   2| 26]\n",
       "[  0   0  -1   9  -6|-30]\n",
       "[  0   0   7   2  -1| 72]\n",
       "[  2   4   3   5   6| 37]\n",
       "[  5 -10   4   6   4| 24]"
      ]
     },
     "metadata": {},
     "output_type": "display_data"
    },
    {
     "data": {
      "text/html": [
       "<html><script type=\"math/tex; mode=display\">\\newcommand{\\Bold}[1]{\\mathbf{#1}}\\left(\\begin{array}{rrrrr|r}\n",
       "1 & 2 & 2 & -1 & 2 & 26 \\\\\n",
       "0 & 0 & -1 & 9 & -6 & -30 \\\\\n",
       "0 & 0 & 7 & 2 & -1 & 72 \\\\\n",
       "0 & 0 & -1 & 7 & 2 & -15 \\\\\n",
       "5 & -10 & 4 & 6 & 4 & 24\n",
       "\\end{array}\\right)</script></html>"
      ],
      "text/latex": [
       "$$\\newcommand{\\Bold}[1]{\\mathbf{#1}}\\left(\\begin{array}{rrrrr|r}\n",
       "1 & 2 & 2 & -1 & 2 & 26 \\\\\n",
       "0 & 0 & -1 & 9 & -6 & -30 \\\\\n",
       "0 & 0 & 7 & 2 & -1 & 72 \\\\\n",
       "0 & 0 & -1 & 7 & 2 & -15 \\\\\n",
       "5 & -10 & 4 & 6 & 4 & 24\n",
       "\\end{array}\\right)$$"
      ],
      "text/plain": [
       "[  1   2   2  -1   2| 26]\n",
       "[  0   0  -1   9  -6|-30]\n",
       "[  0   0   7   2  -1| 72]\n",
       "[  0   0  -1   7   2|-15]\n",
       "[  5 -10   4   6   4| 24]"
      ]
     },
     "metadata": {},
     "output_type": "display_data"
    },
    {
     "data": {
      "text/html": [
       "<html><script type=\"math/tex; mode=display\">\\newcommand{\\Bold}[1]{\\mathbf{#1}}\\left(\\begin{array}{rrrrr|r}\n",
       "1 & 2 & 2 & -1 & 2 & 26 \\\\\n",
       "0 & 0 & -1 & 9 & -6 & -30 \\\\\n",
       "0 & 0 & 7 & 2 & -1 & 72 \\\\\n",
       "0 & 0 & -1 & 7 & 2 & -15 \\\\\n",
       "0 & -20 & -6 & 11 & -6 & -106\n",
       "\\end{array}\\right)</script></html>"
      ],
      "text/latex": [
       "$$\\newcommand{\\Bold}[1]{\\mathbf{#1}}\\left(\\begin{array}{rrrrr|r}\n",
       "1 & 2 & 2 & -1 & 2 & 26 \\\\\n",
       "0 & 0 & -1 & 9 & -6 & -30 \\\\\n",
       "0 & 0 & 7 & 2 & -1 & 72 \\\\\n",
       "0 & 0 & -1 & 7 & 2 & -15 \\\\\n",
       "0 & -20 & -6 & 11 & -6 & -106\n",
       "\\end{array}\\right)$$"
      ],
      "text/plain": [
       "[   1    2    2   -1    2|  26]\n",
       "[   0    0   -1    9   -6| -30]\n",
       "[   0    0    7    2   -1|  72]\n",
       "[   0    0   -1    7    2| -15]\n",
       "[   0  -20   -6   11   -6|-106]"
      ]
     },
     "metadata": {},
     "output_type": "display_data"
    },
    {
     "data": {
      "text/html": [
       "<html><script type=\"math/tex; mode=display\">\\newcommand{\\Bold}[1]{\\mathbf{#1}}\\left(\\begin{array}{rrrrr|r}\n",
       "1 & 2 & 2 & -1 & 2 & 26 \\\\\n",
       "0 & -20 & -6 & 11 & -6 & -106 \\\\\n",
       "0 & 0 & 7 & 2 & -1 & 72 \\\\\n",
       "0 & 0 & -1 & 7 & 2 & -15 \\\\\n",
       "0 & 0 & -1 & 9 & -6 & -30\n",
       "\\end{array}\\right)</script></html>"
      ],
      "text/latex": [
       "$$\\newcommand{\\Bold}[1]{\\mathbf{#1}}\\left(\\begin{array}{rrrrr|r}\n",
       "1 & 2 & 2 & -1 & 2 & 26 \\\\\n",
       "0 & -20 & -6 & 11 & -6 & -106 \\\\\n",
       "0 & 0 & 7 & 2 & -1 & 72 \\\\\n",
       "0 & 0 & -1 & 7 & 2 & -15 \\\\\n",
       "0 & 0 & -1 & 9 & -6 & -30\n",
       "\\end{array}\\right)$$"
      ],
      "text/plain": [
       "[   1    2    2   -1    2|  26]\n",
       "[   0  -20   -6   11   -6|-106]\n",
       "[   0    0    7    2   -1|  72]\n",
       "[   0    0   -1    7    2| -15]\n",
       "[   0    0   -1    9   -6| -30]"
      ]
     },
     "metadata": {},
     "output_type": "display_data"
    },
    {
     "data": {
      "text/html": [
       "<html><script type=\"math/tex; mode=display\">\\newcommand{\\Bold}[1]{\\mathbf{#1}}\\left(\\begin{array}{rrrrr|r}\n",
       "1 & 2 & 2 & -1 & 2 & 26 \\\\\n",
       "0 & 1 & \\frac{3}{10} & -\\frac{11}{20} & \\frac{3}{10} & \\frac{53}{10} \\\\\n",
       "0 & 0 & 7 & 2 & -1 & 72 \\\\\n",
       "0 & 0 & -1 & 7 & 2 & -15 \\\\\n",
       "0 & 0 & -1 & 9 & -6 & -30\n",
       "\\end{array}\\right)</script></html>"
      ],
      "text/latex": [
       "$$\\newcommand{\\Bold}[1]{\\mathbf{#1}}\\left(\\begin{array}{rrrrr|r}\n",
       "1 & 2 & 2 & -1 & 2 & 26 \\\\\n",
       "0 & 1 & \\frac{3}{10} & -\\frac{11}{20} & \\frac{3}{10} & \\frac{53}{10} \\\\\n",
       "0 & 0 & 7 & 2 & -1 & 72 \\\\\n",
       "0 & 0 & -1 & 7 & 2 & -15 \\\\\n",
       "0 & 0 & -1 & 9 & -6 & -30\n",
       "\\end{array}\\right)$$"
      ],
      "text/plain": [
       "[     1      2      2     -1      2|    26]\n",
       "[     0      1   3/10 -11/20   3/10| 53/10]\n",
       "[     0      0      7      2     -1|    72]\n",
       "[     0      0     -1      7      2|   -15]\n",
       "[     0      0     -1      9     -6|   -30]"
      ]
     },
     "metadata": {},
     "output_type": "display_data"
    },
    {
     "data": {
      "text/html": [
       "<html><script type=\"math/tex; mode=display\">\\newcommand{\\Bold}[1]{\\mathbf{#1}}\\left(\\begin{array}{rrrrr|r}\n",
       "1 & 2 & 2 & -1 & 2 & 26 \\\\\n",
       "0 & 1 & \\frac{3}{10} & -\\frac{11}{20} & \\frac{3}{10} & \\frac{53}{10} \\\\\n",
       "0 & 0 & -1 & 7 & 2 & -15 \\\\\n",
       "0 & 0 & 7 & 2 & -1 & 72 \\\\\n",
       "0 & 0 & -1 & 9 & -6 & -30\n",
       "\\end{array}\\right)</script></html>"
      ],
      "text/latex": [
       "$$\\newcommand{\\Bold}[1]{\\mathbf{#1}}\\left(\\begin{array}{rrrrr|r}\n",
       "1 & 2 & 2 & -1 & 2 & 26 \\\\\n",
       "0 & 1 & \\frac{3}{10} & -\\frac{11}{20} & \\frac{3}{10} & \\frac{53}{10} \\\\\n",
       "0 & 0 & -1 & 7 & 2 & -15 \\\\\n",
       "0 & 0 & 7 & 2 & -1 & 72 \\\\\n",
       "0 & 0 & -1 & 9 & -6 & -30\n",
       "\\end{array}\\right)$$"
      ],
      "text/plain": [
       "[     1      2      2     -1      2|    26]\n",
       "[     0      1   3/10 -11/20   3/10| 53/10]\n",
       "[     0      0     -1      7      2|   -15]\n",
       "[     0      0      7      2     -1|    72]\n",
       "[     0      0     -1      9     -6|   -30]"
      ]
     },
     "metadata": {},
     "output_type": "display_data"
    },
    {
     "data": {
      "text/html": [
       "<html><script type=\"math/tex; mode=display\">\\newcommand{\\Bold}[1]{\\mathbf{#1}}\\left(\\begin{array}{rrrrr|r}\n",
       "1 & 2 & 2 & -1 & 2 & 26 \\\\\n",
       "0 & 1 & \\frac{3}{10} & -\\frac{11}{20} & \\frac{3}{10} & \\frac{53}{10} \\\\\n",
       "0 & 0 & 1 & -7 & -2 & 15 \\\\\n",
       "0 & 0 & 7 & 2 & -1 & 72 \\\\\n",
       "0 & 0 & -1 & 9 & -6 & -30\n",
       "\\end{array}\\right)</script></html>"
      ],
      "text/latex": [
       "$$\\newcommand{\\Bold}[1]{\\mathbf{#1}}\\left(\\begin{array}{rrrrr|r}\n",
       "1 & 2 & 2 & -1 & 2 & 26 \\\\\n",
       "0 & 1 & \\frac{3}{10} & -\\frac{11}{20} & \\frac{3}{10} & \\frac{53}{10} \\\\\n",
       "0 & 0 & 1 & -7 & -2 & 15 \\\\\n",
       "0 & 0 & 7 & 2 & -1 & 72 \\\\\n",
       "0 & 0 & -1 & 9 & -6 & -30\n",
       "\\end{array}\\right)$$"
      ],
      "text/plain": [
       "[     1      2      2     -1      2|    26]\n",
       "[     0      1   3/10 -11/20   3/10| 53/10]\n",
       "[     0      0      1     -7     -2|    15]\n",
       "[     0      0      7      2     -1|    72]\n",
       "[     0      0     -1      9     -6|   -30]"
      ]
     },
     "metadata": {},
     "output_type": "display_data"
    },
    {
     "data": {
      "text/html": [
       "<html><script type=\"math/tex; mode=display\">\\newcommand{\\Bold}[1]{\\mathbf{#1}}\\left(\\begin{array}{rrrrr|r}\n",
       "1 & 2 & 2 & -1 & 2 & 26 \\\\\n",
       "0 & 1 & \\frac{3}{10} & -\\frac{11}{20} & \\frac{3}{10} & \\frac{53}{10} \\\\\n",
       "0 & 0 & 1 & -7 & -2 & 15 \\\\\n",
       "0 & 0 & 0 & 51 & 13 & -33 \\\\\n",
       "0 & 0 & -1 & 9 & -6 & -30\n",
       "\\end{array}\\right)</script></html>"
      ],
      "text/latex": [
       "$$\\newcommand{\\Bold}[1]{\\mathbf{#1}}\\left(\\begin{array}{rrrrr|r}\n",
       "1 & 2 & 2 & -1 & 2 & 26 \\\\\n",
       "0 & 1 & \\frac{3}{10} & -\\frac{11}{20} & \\frac{3}{10} & \\frac{53}{10} \\\\\n",
       "0 & 0 & 1 & -7 & -2 & 15 \\\\\n",
       "0 & 0 & 0 & 51 & 13 & -33 \\\\\n",
       "0 & 0 & -1 & 9 & -6 & -30\n",
       "\\end{array}\\right)$$"
      ],
      "text/plain": [
       "[     1      2      2     -1      2|    26]\n",
       "[     0      1   3/10 -11/20   3/10| 53/10]\n",
       "[     0      0      1     -7     -2|    15]\n",
       "[     0      0      0     51     13|   -33]\n",
       "[     0      0     -1      9     -6|   -30]"
      ]
     },
     "metadata": {},
     "output_type": "display_data"
    },
    {
     "data": {
      "text/html": [
       "<html><script type=\"math/tex; mode=display\">\\newcommand{\\Bold}[1]{\\mathbf{#1}}\\left(\\begin{array}{rrrrr|r}\n",
       "1 & 2 & 2 & -1 & 2 & 26 \\\\\n",
       "0 & 1 & \\frac{3}{10} & -\\frac{11}{20} & \\frac{3}{10} & \\frac{53}{10} \\\\\n",
       "0 & 0 & 1 & -7 & -2 & 15 \\\\\n",
       "0 & 0 & 0 & 51 & 13 & -33 \\\\\n",
       "0 & 0 & 0 & 2 & -8 & -15\n",
       "\\end{array}\\right)</script></html>"
      ],
      "text/latex": [
       "$$\\newcommand{\\Bold}[1]{\\mathbf{#1}}\\left(\\begin{array}{rrrrr|r}\n",
       "1 & 2 & 2 & -1 & 2 & 26 \\\\\n",
       "0 & 1 & \\frac{3}{10} & -\\frac{11}{20} & \\frac{3}{10} & \\frac{53}{10} \\\\\n",
       "0 & 0 & 1 & -7 & -2 & 15 \\\\\n",
       "0 & 0 & 0 & 51 & 13 & -33 \\\\\n",
       "0 & 0 & 0 & 2 & -8 & -15\n",
       "\\end{array}\\right)$$"
      ],
      "text/plain": [
       "[     1      2      2     -1      2|    26]\n",
       "[     0      1   3/10 -11/20   3/10| 53/10]\n",
       "[     0      0      1     -7     -2|    15]\n",
       "[     0      0      0     51     13|   -33]\n",
       "[     0      0      0      2     -8|   -15]"
      ]
     },
     "metadata": {},
     "output_type": "display_data"
    },
    {
     "data": {
      "text/html": [
       "<html><script type=\"math/tex; mode=display\">\\newcommand{\\Bold}[1]{\\mathbf{#1}}\\left(\\begin{array}{rrrrr|r}\n",
       "1 & 2 & 2 & -1 & 2 & 26 \\\\\n",
       "0 & 1 & \\frac{3}{10} & -\\frac{11}{20} & \\frac{3}{10} & \\frac{53}{10} \\\\\n",
       "0 & 0 & 1 & -7 & -2 & 15 \\\\\n",
       "0 & 0 & 0 & 2 & -8 & -15 \\\\\n",
       "0 & 0 & 0 & 51 & 13 & -33\n",
       "\\end{array}\\right)</script></html>"
      ],
      "text/latex": [
       "$$\\newcommand{\\Bold}[1]{\\mathbf{#1}}\\left(\\begin{array}{rrrrr|r}\n",
       "1 & 2 & 2 & -1 & 2 & 26 \\\\\n",
       "0 & 1 & \\frac{3}{10} & -\\frac{11}{20} & \\frac{3}{10} & \\frac{53}{10} \\\\\n",
       "0 & 0 & 1 & -7 & -2 & 15 \\\\\n",
       "0 & 0 & 0 & 2 & -8 & -15 \\\\\n",
       "0 & 0 & 0 & 51 & 13 & -33\n",
       "\\end{array}\\right)$$"
      ],
      "text/plain": [
       "[     1      2      2     -1      2|    26]\n",
       "[     0      1   3/10 -11/20   3/10| 53/10]\n",
       "[     0      0      1     -7     -2|    15]\n",
       "[     0      0      0      2     -8|   -15]\n",
       "[     0      0      0     51     13|   -33]"
      ]
     },
     "metadata": {},
     "output_type": "display_data"
    },
    {
     "data": {
      "text/html": [
       "<html><script type=\"math/tex; mode=display\">\\newcommand{\\Bold}[1]{\\mathbf{#1}}\\left(\\begin{array}{rrrrr|r}\n",
       "1 & 2 & 2 & -1 & 2 & 26 \\\\\n",
       "0 & 1 & \\frac{3}{10} & -\\frac{11}{20} & \\frac{3}{10} & \\frac{53}{10} \\\\\n",
       "0 & 0 & 1 & -7 & -2 & 15 \\\\\n",
       "0 & 0 & 0 & 1 & -4 & -\\frac{15}{2} \\\\\n",
       "0 & 0 & 0 & 51 & 13 & -33\n",
       "\\end{array}\\right)</script></html>"
      ],
      "text/latex": [
       "$$\\newcommand{\\Bold}[1]{\\mathbf{#1}}\\left(\\begin{array}{rrrrr|r}\n",
       "1 & 2 & 2 & -1 & 2 & 26 \\\\\n",
       "0 & 1 & \\frac{3}{10} & -\\frac{11}{20} & \\frac{3}{10} & \\frac{53}{10} \\\\\n",
       "0 & 0 & 1 & -7 & -2 & 15 \\\\\n",
       "0 & 0 & 0 & 1 & -4 & -\\frac{15}{2} \\\\\n",
       "0 & 0 & 0 & 51 & 13 & -33\n",
       "\\end{array}\\right)$$"
      ],
      "text/plain": [
       "[     1      2      2     -1      2|    26]\n",
       "[     0      1   3/10 -11/20   3/10| 53/10]\n",
       "[     0      0      1     -7     -2|    15]\n",
       "[     0      0      0      1     -4| -15/2]\n",
       "[     0      0      0     51     13|   -33]"
      ]
     },
     "metadata": {},
     "output_type": "display_data"
    },
    {
     "data": {
      "text/html": [
       "<html><script type=\"math/tex; mode=display\">\\newcommand{\\Bold}[1]{\\mathbf{#1}}\\left(\\begin{array}{rrrrr|r}\n",
       "1 & 2 & 2 & -1 & 2 & 26 \\\\\n",
       "0 & 1 & \\frac{3}{10} & -\\frac{11}{20} & \\frac{3}{10} & \\frac{53}{10} \\\\\n",
       "0 & 0 & 1 & -7 & -2 & 15 \\\\\n",
       "0 & 0 & 0 & 1 & -4 & -\\frac{15}{2} \\\\\n",
       "0 & 0 & 0 & 0 & 217 & \\frac{699}{2}\n",
       "\\end{array}\\right)</script></html>"
      ],
      "text/latex": [
       "$$\\newcommand{\\Bold}[1]{\\mathbf{#1}}\\left(\\begin{array}{rrrrr|r}\n",
       "1 & 2 & 2 & -1 & 2 & 26 \\\\\n",
       "0 & 1 & \\frac{3}{10} & -\\frac{11}{20} & \\frac{3}{10} & \\frac{53}{10} \\\\\n",
       "0 & 0 & 1 & -7 & -2 & 15 \\\\\n",
       "0 & 0 & 0 & 1 & -4 & -\\frac{15}{2} \\\\\n",
       "0 & 0 & 0 & 0 & 217 & \\frac{699}{2}\n",
       "\\end{array}\\right)$$"
      ],
      "text/plain": [
       "[     1      2      2     -1      2|    26]\n",
       "[     0      1   3/10 -11/20   3/10| 53/10]\n",
       "[     0      0      1     -7     -2|    15]\n",
       "[     0      0      0      1     -4| -15/2]\n",
       "[     0      0      0      0    217| 699/2]"
      ]
     },
     "metadata": {},
     "output_type": "display_data"
    },
    {
     "data": {
      "text/html": [
       "<html><script type=\"math/tex; mode=display\">\\newcommand{\\Bold}[1]{\\mathbf{#1}}\\left(\\begin{array}{rrrrr|r}\n",
       "1 & 2 & 2 & -1 & 2 & 26 \\\\\n",
       "0 & 1 & \\frac{3}{10} & -\\frac{11}{20} & \\frac{3}{10} & \\frac{53}{10} \\\\\n",
       "0 & 0 & 1 & -7 & -2 & 15 \\\\\n",
       "0 & 0 & 0 & 1 & -4 & -\\frac{15}{2} \\\\\n",
       "0 & 0 & 0 & 0 & 1 & \\frac{699}{434}\n",
       "\\end{array}\\right)</script></html>"
      ],
      "text/latex": [
       "$$\\newcommand{\\Bold}[1]{\\mathbf{#1}}\\left(\\begin{array}{rrrrr|r}\n",
       "1 & 2 & 2 & -1 & 2 & 26 \\\\\n",
       "0 & 1 & \\frac{3}{10} & -\\frac{11}{20} & \\frac{3}{10} & \\frac{53}{10} \\\\\n",
       "0 & 0 & 1 & -7 & -2 & 15 \\\\\n",
       "0 & 0 & 0 & 1 & -4 & -\\frac{15}{2} \\\\\n",
       "0 & 0 & 0 & 0 & 1 & \\frac{699}{434}\n",
       "\\end{array}\\right)$$"
      ],
      "text/plain": [
       "[      1       2       2      -1       2|     26]\n",
       "[      0       1    3/10  -11/20    3/10|  53/10]\n",
       "[      0       0       1      -7      -2|     15]\n",
       "[      0       0       0       1      -4|  -15/2]\n",
       "[      0       0       0       0       1|699/434]"
      ]
     },
     "metadata": {},
     "output_type": "display_data"
    },
    {
     "data": {
      "text/html": [
       "<html><script type=\"math/tex; mode=display\">\\newcommand{\\Bold}[1]{\\mathbf{#1}}\\left(\\begin{array}{rrrrr|r}\n",
       "1 & 2 & 2 & -1 & 2 & 26 \\\\\n",
       "0 & 1 & \\frac{3}{10} & -\\frac{11}{20} & \\frac{3}{10} & \\frac{53}{10} \\\\\n",
       "0 & 0 & 1 & -7 & -2 & 15 \\\\\n",
       "0 & 0 & 0 & 1 & 0 & -\\frac{459}{434} \\\\\n",
       "0 & 0 & 0 & 0 & 1 & \\frac{699}{434}\n",
       "\\end{array}\\right)</script></html>"
      ],
      "text/latex": [
       "$$\\newcommand{\\Bold}[1]{\\mathbf{#1}}\\left(\\begin{array}{rrrrr|r}\n",
       "1 & 2 & 2 & -1 & 2 & 26 \\\\\n",
       "0 & 1 & \\frac{3}{10} & -\\frac{11}{20} & \\frac{3}{10} & \\frac{53}{10} \\\\\n",
       "0 & 0 & 1 & -7 & -2 & 15 \\\\\n",
       "0 & 0 & 0 & 1 & 0 & -\\frac{459}{434} \\\\\n",
       "0 & 0 & 0 & 0 & 1 & \\frac{699}{434}\n",
       "\\end{array}\\right)$$"
      ],
      "text/plain": [
       "[       1        2        2       -1        2|      26]\n",
       "[       0        1     3/10   -11/20     3/10|   53/10]\n",
       "[       0        0        1       -7       -2|      15]\n",
       "[       0        0        0        1        0|-459/434]\n",
       "[       0        0        0        0        1| 699/434]"
      ]
     },
     "metadata": {},
     "output_type": "display_data"
    },
    {
     "data": {
      "text/html": [
       "<html><script type=\"math/tex; mode=display\">\\newcommand{\\Bold}[1]{\\mathbf{#1}}\\left(\\begin{array}{rrrrr|r}\n",
       "1 & 2 & 2 & -1 & 2 & 26 \\\\\n",
       "0 & 1 & \\frac{3}{10} & -\\frac{11}{20} & \\frac{3}{10} & \\frac{53}{10} \\\\\n",
       "0 & 0 & 1 & -7 & 0 & \\frac{3954}{217} \\\\\n",
       "0 & 0 & 0 & 1 & 0 & -\\frac{459}{434} \\\\\n",
       "0 & 0 & 0 & 0 & 1 & \\frac{699}{434}\n",
       "\\end{array}\\right)</script></html>"
      ],
      "text/latex": [
       "$$\\newcommand{\\Bold}[1]{\\mathbf{#1}}\\left(\\begin{array}{rrrrr|r}\n",
       "1 & 2 & 2 & -1 & 2 & 26 \\\\\n",
       "0 & 1 & \\frac{3}{10} & -\\frac{11}{20} & \\frac{3}{10} & \\frac{53}{10} \\\\\n",
       "0 & 0 & 1 & -7 & 0 & \\frac{3954}{217} \\\\\n",
       "0 & 0 & 0 & 1 & 0 & -\\frac{459}{434} \\\\\n",
       "0 & 0 & 0 & 0 & 1 & \\frac{699}{434}\n",
       "\\end{array}\\right)$$"
      ],
      "text/plain": [
       "[       1        2        2       -1        2|      26]\n",
       "[       0        1     3/10   -11/20     3/10|   53/10]\n",
       "[       0        0        1       -7        0|3954/217]\n",
       "[       0        0        0        1        0|-459/434]\n",
       "[       0        0        0        0        1| 699/434]"
      ]
     },
     "metadata": {},
     "output_type": "display_data"
    },
    {
     "data": {
      "text/html": [
       "<html><script type=\"math/tex; mode=display\">\\newcommand{\\Bold}[1]{\\mathbf{#1}}\\left(\\begin{array}{rrrrr|r}\n",
       "1 & 2 & 2 & -1 & 2 & 26 \\\\\n",
       "0 & 1 & \\frac{3}{10} & -\\frac{11}{20} & 0 & \\frac{4181}{868} \\\\\n",
       "0 & 0 & 1 & -7 & 0 & \\frac{3954}{217} \\\\\n",
       "0 & 0 & 0 & 1 & 0 & -\\frac{459}{434} \\\\\n",
       "0 & 0 & 0 & 0 & 1 & \\frac{699}{434}\n",
       "\\end{array}\\right)</script></html>"
      ],
      "text/latex": [
       "$$\\newcommand{\\Bold}[1]{\\mathbf{#1}}\\left(\\begin{array}{rrrrr|r}\n",
       "1 & 2 & 2 & -1 & 2 & 26 \\\\\n",
       "0 & 1 & \\frac{3}{10} & -\\frac{11}{20} & 0 & \\frac{4181}{868} \\\\\n",
       "0 & 0 & 1 & -7 & 0 & \\frac{3954}{217} \\\\\n",
       "0 & 0 & 0 & 1 & 0 & -\\frac{459}{434} \\\\\n",
       "0 & 0 & 0 & 0 & 1 & \\frac{699}{434}\n",
       "\\end{array}\\right)$$"
      ],
      "text/plain": [
       "[       1        2        2       -1        2|      26]\n",
       "[       0        1     3/10   -11/20        0|4181/868]\n",
       "[       0        0        1       -7        0|3954/217]\n",
       "[       0        0        0        1        0|-459/434]\n",
       "[       0        0        0        0        1| 699/434]"
      ]
     },
     "metadata": {},
     "output_type": "display_data"
    },
    {
     "data": {
      "text/html": [
       "<html><script type=\"math/tex; mode=display\">\\newcommand{\\Bold}[1]{\\mathbf{#1}}\\left(\\begin{array}{rrrrr|r}\n",
       "1 & 2 & 2 & -1 & 0 & \\frac{4943}{217} \\\\\n",
       "0 & 1 & \\frac{3}{10} & -\\frac{11}{20} & 0 & \\frac{4181}{868} \\\\\n",
       "0 & 0 & 1 & -7 & 0 & \\frac{3954}{217} \\\\\n",
       "0 & 0 & 0 & 1 & 0 & -\\frac{459}{434} \\\\\n",
       "0 & 0 & 0 & 0 & 1 & \\frac{699}{434}\n",
       "\\end{array}\\right)</script></html>"
      ],
      "text/latex": [
       "$$\\newcommand{\\Bold}[1]{\\mathbf{#1}}\\left(\\begin{array}{rrrrr|r}\n",
       "1 & 2 & 2 & -1 & 0 & \\frac{4943}{217} \\\\\n",
       "0 & 1 & \\frac{3}{10} & -\\frac{11}{20} & 0 & \\frac{4181}{868} \\\\\n",
       "0 & 0 & 1 & -7 & 0 & \\frac{3954}{217} \\\\\n",
       "0 & 0 & 0 & 1 & 0 & -\\frac{459}{434} \\\\\n",
       "0 & 0 & 0 & 0 & 1 & \\frac{699}{434}\n",
       "\\end{array}\\right)$$"
      ],
      "text/plain": [
       "[       1        2        2       -1        0|4943/217]\n",
       "[       0        1     3/10   -11/20        0|4181/868]\n",
       "[       0        0        1       -7        0|3954/217]\n",
       "[       0        0        0        1        0|-459/434]\n",
       "[       0        0        0        0        1| 699/434]"
      ]
     },
     "metadata": {},
     "output_type": "display_data"
    },
    {
     "data": {
      "text/html": [
       "<html><script type=\"math/tex; mode=display\">\\newcommand{\\Bold}[1]{\\mathbf{#1}}\\left(\\begin{array}{rrrrr|r}\n",
       "1 & 2 & 2 & -1 & 0 & \\frac{4943}{217} \\\\\n",
       "0 & 1 & \\frac{3}{10} & -\\frac{11}{20} & 0 & \\frac{4181}{868} \\\\\n",
       "0 & 0 & 1 & 0 & 0 & \\frac{4695}{434} \\\\\n",
       "0 & 0 & 0 & 1 & 0 & -\\frac{459}{434} \\\\\n",
       "0 & 0 & 0 & 0 & 1 & \\frac{699}{434}\n",
       "\\end{array}\\right)</script></html>"
      ],
      "text/latex": [
       "$$\\newcommand{\\Bold}[1]{\\mathbf{#1}}\\left(\\begin{array}{rrrrr|r}\n",
       "1 & 2 & 2 & -1 & 0 & \\frac{4943}{217} \\\\\n",
       "0 & 1 & \\frac{3}{10} & -\\frac{11}{20} & 0 & \\frac{4181}{868} \\\\\n",
       "0 & 0 & 1 & 0 & 0 & \\frac{4695}{434} \\\\\n",
       "0 & 0 & 0 & 1 & 0 & -\\frac{459}{434} \\\\\n",
       "0 & 0 & 0 & 0 & 1 & \\frac{699}{434}\n",
       "\\end{array}\\right)$$"
      ],
      "text/plain": [
       "[       1        2        2       -1        0|4943/217]\n",
       "[       0        1     3/10   -11/20        0|4181/868]\n",
       "[       0        0        1        0        0|4695/434]\n",
       "[       0        0        0        1        0|-459/434]\n",
       "[       0        0        0        0        1| 699/434]"
      ]
     },
     "metadata": {},
     "output_type": "display_data"
    },
    {
     "data": {
      "text/html": [
       "<html><script type=\"math/tex; mode=display\">\\newcommand{\\Bold}[1]{\\mathbf{#1}}\\left(\\begin{array}{rrrrr|r}\n",
       "1 & 2 & 2 & -1 & 0 & \\frac{4943}{217} \\\\\n",
       "0 & 1 & \\frac{3}{10} & 0 & 0 & \\frac{36761}{8680} \\\\\n",
       "0 & 0 & 1 & 0 & 0 & \\frac{4695}{434} \\\\\n",
       "0 & 0 & 0 & 1 & 0 & -\\frac{459}{434} \\\\\n",
       "0 & 0 & 0 & 0 & 1 & \\frac{699}{434}\n",
       "\\end{array}\\right)</script></html>"
      ],
      "text/latex": [
       "$$\\newcommand{\\Bold}[1]{\\mathbf{#1}}\\left(\\begin{array}{rrrrr|r}\n",
       "1 & 2 & 2 & -1 & 0 & \\frac{4943}{217} \\\\\n",
       "0 & 1 & \\frac{3}{10} & 0 & 0 & \\frac{36761}{8680} \\\\\n",
       "0 & 0 & 1 & 0 & 0 & \\frac{4695}{434} \\\\\n",
       "0 & 0 & 0 & 1 & 0 & -\\frac{459}{434} \\\\\n",
       "0 & 0 & 0 & 0 & 1 & \\frac{699}{434}\n",
       "\\end{array}\\right)$$"
      ],
      "text/plain": [
       "[         1          2          2         -1          0|  4943/217]\n",
       "[         0          1       3/10          0          0|36761/8680]\n",
       "[         0          0          1          0          0|  4695/434]\n",
       "[         0          0          0          1          0|  -459/434]\n",
       "[         0          0          0          0          1|   699/434]"
      ]
     },
     "metadata": {},
     "output_type": "display_data"
    },
    {
     "data": {
      "text/html": [
       "<html><script type=\"math/tex; mode=display\">\\newcommand{\\Bold}[1]{\\mathbf{#1}}\\left(\\begin{array}{rrrrr|r}\n",
       "1 & 2 & 2 & 0 & 0 & \\frac{9427}{434} \\\\\n",
       "0 & 1 & \\frac{3}{10} & 0 & 0 & \\frac{36761}{8680} \\\\\n",
       "0 & 0 & 1 & 0 & 0 & \\frac{4695}{434} \\\\\n",
       "0 & 0 & 0 & 1 & 0 & -\\frac{459}{434} \\\\\n",
       "0 & 0 & 0 & 0 & 1 & \\frac{699}{434}\n",
       "\\end{array}\\right)</script></html>"
      ],
      "text/latex": [
       "$$\\newcommand{\\Bold}[1]{\\mathbf{#1}}\\left(\\begin{array}{rrrrr|r}\n",
       "1 & 2 & 2 & 0 & 0 & \\frac{9427}{434} \\\\\n",
       "0 & 1 & \\frac{3}{10} & 0 & 0 & \\frac{36761}{8680} \\\\\n",
       "0 & 0 & 1 & 0 & 0 & \\frac{4695}{434} \\\\\n",
       "0 & 0 & 0 & 1 & 0 & -\\frac{459}{434} \\\\\n",
       "0 & 0 & 0 & 0 & 1 & \\frac{699}{434}\n",
       "\\end{array}\\right)$$"
      ],
      "text/plain": [
       "[         1          2          2          0          0|  9427/434]\n",
       "[         0          1       3/10          0          0|36761/8680]\n",
       "[         0          0          1          0          0|  4695/434]\n",
       "[         0          0          0          1          0|  -459/434]\n",
       "[         0          0          0          0          1|   699/434]"
      ]
     },
     "metadata": {},
     "output_type": "display_data"
    },
    {
     "data": {
      "text/html": [
       "<html><script type=\"math/tex; mode=display\">\\newcommand{\\Bold}[1]{\\mathbf{#1}}\\left(\\begin{array}{rrrrr|r}\n",
       "1 & 2 & 2 & 0 & 0 & \\frac{9427}{434} \\\\\n",
       "0 & 1 & 0 & 0 & 0 & \\frac{8591}{8680} \\\\\n",
       "0 & 0 & 1 & 0 & 0 & \\frac{4695}{434} \\\\\n",
       "0 & 0 & 0 & 1 & 0 & -\\frac{459}{434} \\\\\n",
       "0 & 0 & 0 & 0 & 1 & \\frac{699}{434}\n",
       "\\end{array}\\right)</script></html>"
      ],
      "text/latex": [
       "$$\\newcommand{\\Bold}[1]{\\mathbf{#1}}\\left(\\begin{array}{rrrrr|r}\n",
       "1 & 2 & 2 & 0 & 0 & \\frac{9427}{434} \\\\\n",
       "0 & 1 & 0 & 0 & 0 & \\frac{8591}{8680} \\\\\n",
       "0 & 0 & 1 & 0 & 0 & \\frac{4695}{434} \\\\\n",
       "0 & 0 & 0 & 1 & 0 & -\\frac{459}{434} \\\\\n",
       "0 & 0 & 0 & 0 & 1 & \\frac{699}{434}\n",
       "\\end{array}\\right)$$"
      ],
      "text/plain": [
       "[        1         2         2         0         0| 9427/434]\n",
       "[        0         1         0         0         0|8591/8680]\n",
       "[        0         0         1         0         0| 4695/434]\n",
       "[        0         0         0         1         0| -459/434]\n",
       "[        0         0         0         0         1|  699/434]"
      ]
     },
     "metadata": {},
     "output_type": "display_data"
    },
    {
     "data": {
      "text/html": [
       "<html><script type=\"math/tex; mode=display\">\\newcommand{\\Bold}[1]{\\mathbf{#1}}\\left(\\begin{array}{rrrrr|r}\n",
       "1 & 2 & 0 & 0 & 0 & \\frac{37}{434} \\\\\n",
       "0 & 1 & 0 & 0 & 0 & \\frac{8591}{8680} \\\\\n",
       "0 & 0 & 1 & 0 & 0 & \\frac{4695}{434} \\\\\n",
       "0 & 0 & 0 & 1 & 0 & -\\frac{459}{434} \\\\\n",
       "0 & 0 & 0 & 0 & 1 & \\frac{699}{434}\n",
       "\\end{array}\\right)</script></html>"
      ],
      "text/latex": [
       "$$\\newcommand{\\Bold}[1]{\\mathbf{#1}}\\left(\\begin{array}{rrrrr|r}\n",
       "1 & 2 & 0 & 0 & 0 & \\frac{37}{434} \\\\\n",
       "0 & 1 & 0 & 0 & 0 & \\frac{8591}{8680} \\\\\n",
       "0 & 0 & 1 & 0 & 0 & \\frac{4695}{434} \\\\\n",
       "0 & 0 & 0 & 1 & 0 & -\\frac{459}{434} \\\\\n",
       "0 & 0 & 0 & 0 & 1 & \\frac{699}{434}\n",
       "\\end{array}\\right)$$"
      ],
      "text/plain": [
       "[        1         2         0         0         0|   37/434]\n",
       "[        0         1         0         0         0|8591/8680]\n",
       "[        0         0         1         0         0| 4695/434]\n",
       "[        0         0         0         1         0| -459/434]\n",
       "[        0         0         0         0         1|  699/434]"
      ]
     },
     "metadata": {},
     "output_type": "display_data"
    },
    {
     "data": {
      "text/html": [
       "<html><script type=\"math/tex; mode=display\">\\newcommand{\\Bold}[1]{\\mathbf{#1}}\\left(\\begin{array}{rrrrr|r}\n",
       "1 & 0 & 0 & 0 & 0 & -\\frac{8221}{4340} \\\\\n",
       "0 & 1 & 0 & 0 & 0 & \\frac{8591}{8680} \\\\\n",
       "0 & 0 & 1 & 0 & 0 & \\frac{4695}{434} \\\\\n",
       "0 & 0 & 0 & 1 & 0 & -\\frac{459}{434} \\\\\n",
       "0 & 0 & 0 & 0 & 1 & \\frac{699}{434}\n",
       "\\end{array}\\right)</script></html>"
      ],
      "text/latex": [
       "$$\\newcommand{\\Bold}[1]{\\mathbf{#1}}\\left(\\begin{array}{rrrrr|r}\n",
       "1 & 0 & 0 & 0 & 0 & -\\frac{8221}{4340} \\\\\n",
       "0 & 1 & 0 & 0 & 0 & \\frac{8591}{8680} \\\\\n",
       "0 & 0 & 1 & 0 & 0 & \\frac{4695}{434} \\\\\n",
       "0 & 0 & 0 & 1 & 0 & -\\frac{459}{434} \\\\\n",
       "0 & 0 & 0 & 0 & 1 & \\frac{699}{434}\n",
       "\\end{array}\\right)$$"
      ],
      "text/plain": [
       "[         1          0          0          0          0|-8221/4340]\n",
       "[         0          1          0          0          0| 8591/8680]\n",
       "[         0          0          1          0          0|  4695/434]\n",
       "[         0          0          0          1          0|  -459/434]\n",
       "[         0          0          0          0          1|   699/434]"
      ]
     },
     "metadata": {},
     "output_type": "display_data"
    },
    {
     "name": "stdout",
     "output_type": "stream",
     "text": [
      "(-8221/4340, 8591/8680, 4695/434, -459/434, 699/434)\n"
     ]
    }
   ],
   "source": [
    "###\n",
    "Ab = A.augment(b, subdivide=True)\n",
    "show(Ab)\n",
    "Ab.swap_rows(0, 3)\n",
    "show(Ab)\n",
    "Ab.add_multiple_of_row(1, 0, -4)\n",
    "show(Ab)\n",
    "Ab.add_multiple_of_row(2, 0, 2)\n",
    "show(Ab)\n",
    "Ab.add_multiple_of_row(3, 0, -2)\n",
    "show(Ab)\n",
    "Ab.add_multiple_of_row(4, 0, -5)\n",
    "show(Ab)\n",
    "Ab.swap_rows(1, 4)\n",
    "show(Ab)\n",
    "Ab.rescale_row(1, -1/20)\n",
    "show(Ab)\n",
    "Ab.swap_rows(2, 3)\n",
    "show(Ab)\n",
    "Ab.rescale_row(2, -1)\n",
    "show(Ab)\n",
    "Ab.add_multiple_of_row(3, 2, -7)\n",
    "show(Ab)\n",
    "Ab.add_multiple_of_row(4, 2, 1)\n",
    "show(Ab)\n",
    "Ab.swap_rows(3,4)\n",
    "show(Ab)\n",
    "Ab.rescale_row(3, 1/2)\n",
    "show(Ab)\n",
    "Ab.add_multiple_of_row(4, 3, -51)\n",
    "show(Ab)\n",
    "Ab.rescale_row(4,1/217)\n",
    "show(Ab)\n",
    "\n",
    "# 5th column\n",
    "Ab.add_multiple_of_row(3,4,4)\n",
    "show(Ab)\n",
    "Ab.add_multiple_of_row(2,4,2)\n",
    "show(Ab)\n",
    "Ab.add_multiple_of_row(1,4,-3/10)\n",
    "show(Ab)\n",
    "Ab.add_multiple_of_row(0,4,-2)\n",
    "show(Ab)\n",
    "# 4th column\n",
    "Ab.add_multiple_of_row(2, 3, 7)\n",
    "show(Ab)\n",
    "Ab.add_multiple_of_row(1, 3, 11/20)\n",
    "show(Ab)\n",
    "Ab.add_multiple_of_row(0, 3, 1)\n",
    "show(Ab)\n",
    "# 3rd column\n",
    "Ab.add_multiple_of_row(1, 2, -3/10)\n",
    "show(Ab)\n",
    "Ab.add_multiple_of_row(0, 2, -2)\n",
    "show(Ab)\n",
    "# 2nd column\n",
    "Ab.add_multiple_of_row(0, 1, -2)\n",
    "show(Ab)\n",
    "print(Ab.column(-1))"
   ]
  },
  {
   "cell_type": "markdown",
   "metadata": {},
   "source": [
    "## 2. Interpolació amb  polinomis"
   ]
  },
  {
   "cell_type": "markdown",
   "metadata": {},
   "source": [
    "1. Escriviu una funció que prengui com a entrada una llista de $n+1$ punts del pla $(x_i,y_i)$ i retorni un polinomi $p(x)$ de grau $n$ satisfent $p(x_i) = y_i$. Direm que $p(x)$ \"interpola\" els punts donats.\n",
    "2. Escriviu una funció que prengui com entrada una funció matemàtica, un interval $[a, b]$ i un natural $n$ i retorni el polinomi interpolador de la funció en els $n+1$ punts resultant de dividir l'interval en $n$ subintervals d'igual longitud.\n",
    "3. Grafiqueu a la vegada la funció $\\sin(x)$ i el polinomi interpolador de grau $n$ en l'interval $[-2\\pi, 2\\pi]$ per $n$ des de $1$ fins a $20$.\n",
    "4. Feu el mateix per la funció $f(x)=\\frac{1}{1+25x^2}$, i l'interval $[-1, 1]$."
   ]
  },
  {
   "cell_type": "code",
   "execution_count": 16,
   "metadata": {},
   "outputs": [],
   "source": [
    "def interpolate(point_list):\n",
    "    n = len(point_list)\n",
    "    A = Matrix(RR, n, n, 0)\n",
    "    b = Matrix(RR, n, 1, 0)\n",
    "    for i, (x,y) in enumerate(point_list):\n",
    "        xj = 1\n",
    "        for j in range(n):\n",
    "            A[i, j] = xj\n",
    "            xj *= x\n",
    "        b[i, 0] = y\n",
    "    return RR['x'](A.solve_right(b).list())\n",
    "            "
   ]
  },
  {
   "cell_type": "code",
   "execution_count": 17,
   "metadata": {},
   "outputs": [],
   "source": [
    "def interpolate_function(f, a, b, n):\n",
    "    xlist = [RR(a+ i * (b-a) / n) for i in range(n+1)]\n",
    "    point_list = [(x, f(x)) for x in xlist]\n",
    "    return interpolate(point_list)\n",
    "    "
   ]
  },
  {
   "cell_type": "code",
   "execution_count": null,
   "metadata": {},
   "outputs": [
    {
     "data": {
      "application/vnd.jupyter.widget-view+json": {
       "model_id": "c38e3e27d8ea4ca1b8a393e001f88e4d",
       "version_major": 2,
       "version_minor": 0
      },
      "text/plain": [
       "Interactive function <function myplot at 0x6ffdfbeba9e0> with 1 widget\n",
       "  n: IntSlider(value=6, description='n'…"
      ]
     },
     "metadata": {},
     "output_type": "display_data"
    }
   ],
   "source": [
    "a = -2*RR(pi)\n",
    "b = 2*RR(pi)\n",
    "p1 = plot(sin, xmin=a, xmax=b, color = 'red')\n",
    "@interact\n",
    "def myplot(n = (1,12)):\n",
    "    p2 = plot(interpolate_function(sin, a, b, n), xmin = a, xmax = b, color = 'blue')\n",
    "    p3 = scatter_plot([(a+i * (b-a)/n, sin(a+i*(b-a)/n)) for i in range(n+1)],marker='.')\n",
    "    p = p1+p2+p3\n",
    "    p.axes_range(ymin=-2, ymax=2)\n",
    "    p.show()"
   ]
  },
  {
   "cell_type": "code",
   "execution_count": null,
   "metadata": {},
   "outputs": [],
   "source": [
    "a = -1\n",
    "b = 1\n",
    "h = lambda x:1/(1+25*x^2)\n",
    "p1 = plot(h, xmin=a, xmax=b, color = 'red')\n",
    "@interact\n",
    "def _(n = (1,30)):\n",
    "    p2 = plot(interpolate_function(h, a, b, n), xmin = a, xmax = b, color = 'blue')\n",
    "    p3 = scatter_plot([(a+i * (b-a)/n, h(a+i*(b-a)/n)) for i in range(n+1)],marker='.')\n",
    "    p = (p1+p2+p3)\n",
    "    p.axes_range(ymin=-2, ymax=2)\n",
    "    p.show()"
   ]
  },
  {
   "cell_type": "markdown",
   "metadata": {},
   "source": []
  },
  {
   "cell_type": "markdown",
   "metadata": {},
   "source": []
  },
  {
   "cell_type": "markdown",
   "metadata": {},
   "source": []
  },
  {
   "cell_type": "code",
   "execution_count": null,
   "metadata": {},
   "outputs": [],
   "source": []
  },
  {
   "cell_type": "markdown",
   "metadata": {},
   "source": []
  },
  {
   "cell_type": "code",
   "execution_count": null,
   "metadata": {},
   "outputs": [],
   "source": []
  },
  {
   "cell_type": "markdown",
   "metadata": {},
   "source": []
  },
  {
   "cell_type": "markdown",
   "metadata": {},
   "source": []
  },
  {
   "cell_type": "code",
   "execution_count": null,
   "metadata": {},
   "outputs": [],
   "source": []
  },
  {
   "cell_type": "code",
   "execution_count": null,
   "metadata": {},
   "outputs": [],
   "source": []
  },
  {
   "cell_type": "markdown",
   "metadata": {},
   "source": []
  },
  {
   "cell_type": "code",
   "execution_count": null,
   "metadata": {},
   "outputs": [],
   "source": []
  }
 ],
 "metadata": {
  "kernelspec": {
   "display_name": "SageMath 9.3",
   "language": "sage",
   "name": "sagemath"
  },
  "language_info": {
   "codemirror_mode": {
    "name": "ipython",
    "version": 3
   },
   "file_extension": ".py",
   "mimetype": "text/x-python",
   "name": "python",
   "nbconvert_exporter": "python",
   "pygments_lexer": "ipython3",
   "version": "3.7.10"
  }
 },
 "nbformat": 4,
 "nbformat_minor": 2
}
