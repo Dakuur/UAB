{
 "cells": [
  {
   "cell_type": "markdown",
   "metadata": {},
   "source": [
    "# Espais Vectorials (Eng. Dades)\n",
    "## Sistemes d’equacions lineals i matrius"
   ]
  },
  {
   "cell_type": "markdown",
   "metadata": {},
   "source": [
    "### Introducció de matrius en *Sage*.\n",
    "La instrucció `Matrix` permet definir una matriu en *Sage*, i, en particular, assignar-li un nom."
   ]
  },
  {
   "cell_type": "code",
   "execution_count": 1,
   "metadata": {},
   "outputs": [
    {
     "data": {
      "text/html": [
       "<html><script type=\"math/tex; mode=display\">\\newcommand{\\Bold}[1]{\\mathbf{#1}}\\left(\\begin{array}{rr}\n",
       "1 & 2 \\\\\n",
       "3 & 4\n",
       "\\end{array}\\right)</script></html>"
      ],
      "text/latex": [
       "$$\\newcommand{\\Bold}[1]{\\mathbf{#1}}\\left(\\begin{array}{rr}\n",
       "1 & 2 \\\\\n",
       "3 & 4\n",
       "\\end{array}\\right)$$"
      ],
      "text/plain": [
       "[1 2]\n",
       "[3 4]"
      ]
     },
     "metadata": {},
     "output_type": "display_data"
    }
   ],
   "source": [
    "A=Matrix([[1,2],[3,4]])\n",
    "show(A)"
   ]
  },
  {
   "cell_type": "markdown",
   "metadata": {},
   "source": [
    "O bé dient la mida in entrant els coeficients en una llista:"
   ]
  },
  {
   "cell_type": "code",
   "execution_count": 2,
   "metadata": {},
   "outputs": [
    {
     "data": {
      "text/html": [
       "<html><script type=\"math/tex; mode=display\">\\newcommand{\\Bold}[1]{\\mathbf{#1}}\\left(\\begin{array}{rr}\n",
       "1 & 2 \\\\\n",
       "3 & 4\n",
       "\\end{array}\\right)</script></html>"
      ],
      "text/latex": [
       "$$\\newcommand{\\Bold}[1]{\\mathbf{#1}}\\left(\\begin{array}{rr}\n",
       "1 & 2 \\\\\n",
       "3 & 4\n",
       "\\end{array}\\right)$$"
      ],
      "text/plain": [
       "[1 2]\n",
       "[3 4]"
      ]
     },
     "metadata": {},
     "output_type": "display_data"
    }
   ],
   "source": [
    "A=Matrix(2,2,[1,2,3,4])\n",
    "show(A)"
   ]
  },
  {
   "cell_type": "markdown",
   "metadata": {},
   "source": [
    "També podem especificar en quin cos treballem, utilitzant, per exemple `QQ` pels racionals i `RR` pels reals."
   ]
  },
  {
   "cell_type": "code",
   "execution_count": 3,
   "metadata": {},
   "outputs": [
    {
     "data": {
      "text/html": [
       "<html><script type=\"math/tex; mode=display\">\\newcommand{\\Bold}[1]{\\mathbf{#1}}\\left(\\begin{array}{rr}\n",
       "\\frac{1}{5} & \\frac{2}{3} \\\\\n",
       "2 & \\frac{1}{2}\n",
       "\\end{array}\\right)</script></html>"
      ],
      "text/latex": [
       "$$\\newcommand{\\Bold}[1]{\\mathbf{#1}}\\left(\\begin{array}{rr}\n",
       "\\frac{1}{5} & \\frac{2}{3} \\\\\n",
       "2 & \\frac{1}{2}\n",
       "\\end{array}\\right)$$"
      ],
      "text/plain": [
       "[1/5 2/3]\n",
       "[  2 1/2]"
      ]
     },
     "metadata": {},
     "output_type": "display_data"
    }
   ],
   "source": [
    "B=Matrix(QQ,2,2,[1/5,2/3,2,4/8])\n",
    "show(B)"
   ]
  },
  {
   "cell_type": "code",
   "execution_count": 4,
   "metadata": {},
   "outputs": [
    {
     "data": {
      "text/html": [
       "<html><script type=\"math/tex; mode=display\">\\newcommand{\\Bold}[1]{\\mathbf{#1}}\\left(\\begin{array}{rr}\n",
       "0.200000000000000 & 0.666666666666667 \\\\\n",
       "2.00000000000000 & 0.500000000000000\n",
       "\\end{array}\\right)</script></html>"
      ],
      "text/latex": [
       "$$\\newcommand{\\Bold}[1]{\\mathbf{#1}}\\left(\\begin{array}{rr}\n",
       "0.200000000000000 & 0.666666666666667 \\\\\n",
       "2.00000000000000 & 0.500000000000000\n",
       "\\end{array}\\right)$$"
      ],
      "text/plain": [
       "[0.200000000000000 0.666666666666667]\n",
       "[ 2.00000000000000 0.500000000000000]"
      ]
     },
     "metadata": {},
     "output_type": "display_data"
    }
   ],
   "source": [
    "C=Matrix(RR,2,2,[1/5,2/3,2,4/8])\n",
    "show(C)"
   ]
  },
  {
   "cell_type": "markdown",
   "metadata": {},
   "source": [
    "**Obervació:** Les matrius queden definides amb coeficients sobre els anells que hem especificat, o bé sobre un anell que contingui els coeficients. Amb la funció `parent()` podem veure les propietats de la variable. En particular, a quin anell està definida (a l'exemple següent és sobre `Integer Ring`):"
   ]
  },
  {
   "cell_type": "code",
   "execution_count": 5,
   "metadata": {},
   "outputs": [
    {
     "data": {
      "text/plain": [
       "Full MatrixSpace of 2 by 2 dense matrices over Integer Ring"
      ]
     },
     "execution_count": 5,
     "metadata": {},
     "output_type": "execute_result"
    }
   ],
   "source": [
    "A.parent()"
   ]
  },
  {
   "cell_type": "markdown",
   "metadata": {},
   "source": [
    "Podem utilitzar la funció `change_ring()` per a fer una còpia de la mateixa matriu cobre un altre anell:"
   ]
  },
  {
   "cell_type": "code",
   "execution_count": 6,
   "metadata": {},
   "outputs": [],
   "source": [
    "D = A.change_ring(QQ)"
   ]
  },
  {
   "cell_type": "code",
   "execution_count": 7,
   "metadata": {},
   "outputs": [
    {
     "data": {
      "text/plain": [
       "Full MatrixSpace of 2 by 2 dense matrices over Rational Field"
      ]
     },
     "execution_count": 7,
     "metadata": {},
     "output_type": "execute_result"
    }
   ],
   "source": [
    "D.parent()"
   ]
  },
  {
   "cell_type": "markdown",
   "metadata": {},
   "source": [
    "Els valors del coeficients de la matriu es poden entrar mitjançant fórmules. Per a això és molt útil que aprengeu a definir els coeficients d'una llista amb la comanda `range`o bé directament amb sintaxi de la forma `[2,5,..17]`, que ens retornaria la llista `[2,5,8,11,14,17]` (enters en progressió aritmètica)."
   ]
  },
  {
   "cell_type": "code",
   "execution_count": 8,
   "metadata": {},
   "outputs": [
    {
     "data": {
      "text/html": [
       "<html><script type=\"math/tex; mode=display\">\\newcommand{\\Bold}[1]{\\mathbf{#1}}\\left(\\begin{array}{rrrrrrrrrr}\n",
       "\\frac{1}{2} & \\frac{1}{3} & \\frac{1}{4} & \\frac{1}{5} & \\frac{1}{6} & \\frac{1}{7} & \\frac{1}{8} & \\frac{1}{9} & \\frac{1}{10} & \\frac{1}{11} \\\\\n",
       "\\frac{1}{3} & \\frac{1}{4} & \\frac{1}{5} & \\frac{1}{6} & \\frac{1}{7} & \\frac{1}{8} & \\frac{1}{9} & \\frac{1}{10} & \\frac{1}{11} & \\frac{1}{12} \\\\\n",
       "\\frac{1}{4} & \\frac{1}{5} & \\frac{1}{6} & \\frac{1}{7} & \\frac{1}{8} & \\frac{1}{9} & \\frac{1}{10} & \\frac{1}{11} & \\frac{1}{12} & \\frac{1}{13} \\\\\n",
       "\\frac{1}{5} & \\frac{1}{6} & \\frac{1}{7} & \\frac{1}{8} & \\frac{1}{9} & \\frac{1}{10} & \\frac{1}{11} & \\frac{1}{12} & \\frac{1}{13} & \\frac{1}{14} \\\\\n",
       "\\frac{1}{6} & \\frac{1}{7} & \\frac{1}{8} & \\frac{1}{9} & \\frac{1}{10} & \\frac{1}{11} & \\frac{1}{12} & \\frac{1}{13} & \\frac{1}{14} & \\frac{1}{15} \\\\\n",
       "\\frac{1}{7} & \\frac{1}{8} & \\frac{1}{9} & \\frac{1}{10} & \\frac{1}{11} & \\frac{1}{12} & \\frac{1}{13} & \\frac{1}{14} & \\frac{1}{15} & \\frac{1}{16} \\\\\n",
       "\\frac{1}{8} & \\frac{1}{9} & \\frac{1}{10} & \\frac{1}{11} & \\frac{1}{12} & \\frac{1}{13} & \\frac{1}{14} & \\frac{1}{15} & \\frac{1}{16} & \\frac{1}{17} \\\\\n",
       "\\frac{1}{9} & \\frac{1}{10} & \\frac{1}{11} & \\frac{1}{12} & \\frac{1}{13} & \\frac{1}{14} & \\frac{1}{15} & \\frac{1}{16} & \\frac{1}{17} & \\frac{1}{18} \\\\\n",
       "\\frac{1}{10} & \\frac{1}{11} & \\frac{1}{12} & \\frac{1}{13} & \\frac{1}{14} & \\frac{1}{15} & \\frac{1}{16} & \\frac{1}{17} & \\frac{1}{18} & \\frac{1}{19} \\\\\n",
       "\\frac{1}{11} & \\frac{1}{12} & \\frac{1}{13} & \\frac{1}{14} & \\frac{1}{15} & \\frac{1}{16} & \\frac{1}{17} & \\frac{1}{18} & \\frac{1}{19} & \\frac{1}{20}\n",
       "\\end{array}\\right)</script></html>"
      ],
      "text/latex": [
       "$$\\newcommand{\\Bold}[1]{\\mathbf{#1}}\\left(\\begin{array}{rrrrrrrrrr}\n",
       "\\frac{1}{2} & \\frac{1}{3} & \\frac{1}{4} & \\frac{1}{5} & \\frac{1}{6} & \\frac{1}{7} & \\frac{1}{8} & \\frac{1}{9} & \\frac{1}{10} & \\frac{1}{11} \\\\\n",
       "\\frac{1}{3} & \\frac{1}{4} & \\frac{1}{5} & \\frac{1}{6} & \\frac{1}{7} & \\frac{1}{8} & \\frac{1}{9} & \\frac{1}{10} & \\frac{1}{11} & \\frac{1}{12} \\\\\n",
       "\\frac{1}{4} & \\frac{1}{5} & \\frac{1}{6} & \\frac{1}{7} & \\frac{1}{8} & \\frac{1}{9} & \\frac{1}{10} & \\frac{1}{11} & \\frac{1}{12} & \\frac{1}{13} \\\\\n",
       "\\frac{1}{5} & \\frac{1}{6} & \\frac{1}{7} & \\frac{1}{8} & \\frac{1}{9} & \\frac{1}{10} & \\frac{1}{11} & \\frac{1}{12} & \\frac{1}{13} & \\frac{1}{14} \\\\\n",
       "\\frac{1}{6} & \\frac{1}{7} & \\frac{1}{8} & \\frac{1}{9} & \\frac{1}{10} & \\frac{1}{11} & \\frac{1}{12} & \\frac{1}{13} & \\frac{1}{14} & \\frac{1}{15} \\\\\n",
       "\\frac{1}{7} & \\frac{1}{8} & \\frac{1}{9} & \\frac{1}{10} & \\frac{1}{11} & \\frac{1}{12} & \\frac{1}{13} & \\frac{1}{14} & \\frac{1}{15} & \\frac{1}{16} \\\\\n",
       "\\frac{1}{8} & \\frac{1}{9} & \\frac{1}{10} & \\frac{1}{11} & \\frac{1}{12} & \\frac{1}{13} & \\frac{1}{14} & \\frac{1}{15} & \\frac{1}{16} & \\frac{1}{17} \\\\\n",
       "\\frac{1}{9} & \\frac{1}{10} & \\frac{1}{11} & \\frac{1}{12} & \\frac{1}{13} & \\frac{1}{14} & \\frac{1}{15} & \\frac{1}{16} & \\frac{1}{17} & \\frac{1}{18} \\\\\n",
       "\\frac{1}{10} & \\frac{1}{11} & \\frac{1}{12} & \\frac{1}{13} & \\frac{1}{14} & \\frac{1}{15} & \\frac{1}{16} & \\frac{1}{17} & \\frac{1}{18} & \\frac{1}{19} \\\\\n",
       "\\frac{1}{11} & \\frac{1}{12} & \\frac{1}{13} & \\frac{1}{14} & \\frac{1}{15} & \\frac{1}{16} & \\frac{1}{17} & \\frac{1}{18} & \\frac{1}{19} & \\frac{1}{20}\n",
       "\\end{array}\\right)$$"
      ],
      "text/plain": [
       "[ 1/2  1/3  1/4  1/5  1/6  1/7  1/8  1/9 1/10 1/11]\n",
       "[ 1/3  1/4  1/5  1/6  1/7  1/8  1/9 1/10 1/11 1/12]\n",
       "[ 1/4  1/5  1/6  1/7  1/8  1/9 1/10 1/11 1/12 1/13]\n",
       "[ 1/5  1/6  1/7  1/8  1/9 1/10 1/11 1/12 1/13 1/14]\n",
       "[ 1/6  1/7  1/8  1/9 1/10 1/11 1/12 1/13 1/14 1/15]\n",
       "[ 1/7  1/8  1/9 1/10 1/11 1/12 1/13 1/14 1/15 1/16]\n",
       "[ 1/8  1/9 1/10 1/11 1/12 1/13 1/14 1/15 1/16 1/17]\n",
       "[ 1/9 1/10 1/11 1/12 1/13 1/14 1/15 1/16 1/17 1/18]\n",
       "[1/10 1/11 1/12 1/13 1/14 1/15 1/16 1/17 1/18 1/19]\n",
       "[1/11 1/12 1/13 1/14 1/15 1/16 1/17 1/18 1/19 1/20]"
      ]
     },
     "metadata": {},
     "output_type": "display_data"
    }
   ],
   "source": [
    "A=Matrix(QQ,10,10,[1/(j+k) for j in range(1,11) for k in range(1,11)])\n",
    "show(A)"
   ]
  },
  {
   "cell_type": "markdown",
   "metadata": {},
   "source": [
    "Algunes matrius especials es poden definir amb instruccions fetes a mida. Aquí en veiem uns exemples:"
   ]
  },
  {
   "cell_type": "code",
   "execution_count": 9,
   "metadata": {},
   "outputs": [
    {
     "data": {
      "text/html": [
       "<html><script type=\"math/tex; mode=display\">\\newcommand{\\Bold}[1]{\\mathbf{#1}}\\left(\\begin{array}{rrrrr}\n",
       "1 & 0 & 0 & 0 & 0 \\\\\n",
       "0 & 1 & 0 & 0 & 0 \\\\\n",
       "0 & 0 & 1 & 0 & 0 \\\\\n",
       "0 & 0 & 0 & 1 & 0 \\\\\n",
       "0 & 0 & 0 & 0 & 1\n",
       "\\end{array}\\right)</script></html>"
      ],
      "text/latex": [
       "$$\\newcommand{\\Bold}[1]{\\mathbf{#1}}\\left(\\begin{array}{rrrrr}\n",
       "1 & 0 & 0 & 0 & 0 \\\\\n",
       "0 & 1 & 0 & 0 & 0 \\\\\n",
       "0 & 0 & 1 & 0 & 0 \\\\\n",
       "0 & 0 & 0 & 1 & 0 \\\\\n",
       "0 & 0 & 0 & 0 & 1\n",
       "\\end{array}\\right)$$"
      ],
      "text/plain": [
       "[1 0 0 0 0]\n",
       "[0 1 0 0 0]\n",
       "[0 0 1 0 0]\n",
       "[0 0 0 1 0]\n",
       "[0 0 0 0 1]"
      ]
     },
     "metadata": {},
     "output_type": "display_data"
    }
   ],
   "source": [
    "identitat = identity_matrix(5)\n",
    "show(identitat)"
   ]
  },
  {
   "cell_type": "code",
   "execution_count": 10,
   "metadata": {},
   "outputs": [
    {
     "data": {
      "text/html": [
       "<html><script type=\"math/tex; mode=display\">\\newcommand{\\Bold}[1]{\\mathbf{#1}}\\left(\\begin{array}{rrrrr}\n",
       "0 & 0 & 0 & 0 & 0 \\\\\n",
       "0 & 0 & 0 & 0 & 0 \\\\\n",
       "0 & 0 & 0 & 0 & 0 \\\\\n",
       "0 & 0 & 0 & 0 & 0\n",
       "\\end{array}\\right)</script></html>"
      ],
      "text/latex": [
       "$$\\newcommand{\\Bold}[1]{\\mathbf{#1}}\\left(\\begin{array}{rrrrr}\n",
       "0 & 0 & 0 & 0 & 0 \\\\\n",
       "0 & 0 & 0 & 0 & 0 \\\\\n",
       "0 & 0 & 0 & 0 & 0 \\\\\n",
       "0 & 0 & 0 & 0 & 0\n",
       "\\end{array}\\right)$$"
      ],
      "text/plain": [
       "[0 0 0 0 0]\n",
       "[0 0 0 0 0]\n",
       "[0 0 0 0 0]\n",
       "[0 0 0 0 0]"
      ]
     },
     "metadata": {},
     "output_type": "display_data"
    }
   ],
   "source": [
    "zeros = zero_matrix(4,5)\n",
    "show(zeros)"
   ]
  },
  {
   "cell_type": "code",
   "execution_count": 11,
   "metadata": {},
   "outputs": [
    {
     "data": {
      "text/html": [
       "<html><script type=\"math/tex; mode=display\">\\newcommand{\\Bold}[1]{\\mathbf{#1}}\\left(\\begin{array}{rrrrrr}\n",
       "1 & 0 & 0 & 0 & 0 & 0 \\\\\n",
       "0 & 2 & 0 & 0 & 0 & 0 \\\\\n",
       "0 & 0 & 3 & 0 & 0 & 0 \\\\\n",
       "0 & 0 & 0 & 4 & 0 & 0 \\\\\n",
       "0 & 0 & 0 & 0 & 5 & 0 \\\\\n",
       "0 & 0 & 0 & 0 & 0 & 6\n",
       "\\end{array}\\right)</script></html>"
      ],
      "text/latex": [
       "$$\\newcommand{\\Bold}[1]{\\mathbf{#1}}\\left(\\begin{array}{rrrrrr}\n",
       "1 & 0 & 0 & 0 & 0 & 0 \\\\\n",
       "0 & 2 & 0 & 0 & 0 & 0 \\\\\n",
       "0 & 0 & 3 & 0 & 0 & 0 \\\\\n",
       "0 & 0 & 0 & 4 & 0 & 0 \\\\\n",
       "0 & 0 & 0 & 0 & 5 & 0 \\\\\n",
       "0 & 0 & 0 & 0 & 0 & 6\n",
       "\\end{array}\\right)$$"
      ],
      "text/plain": [
       "[1 0 0 0 0 0]\n",
       "[0 2 0 0 0 0]\n",
       "[0 0 3 0 0 0]\n",
       "[0 0 0 4 0 0]\n",
       "[0 0 0 0 5 0]\n",
       "[0 0 0 0 0 6]"
      ]
     },
     "metadata": {},
     "output_type": "display_data"
    }
   ],
   "source": [
    "diagonal = diagonal_matrix([1,2,3,4,5,6])\n",
    "show(diagonal)"
   ]
  },
  {
   "cell_type": "markdown",
   "metadata": {},
   "source": [
    "També podem definir vectors:"
   ]
  },
  {
   "cell_type": "code",
   "execution_count": 12,
   "metadata": {},
   "outputs": [
    {
     "data": {
      "text/html": [
       "<html><script type=\"math/tex; mode=display\">\\newcommand{\\Bold}[1]{\\mathbf{#1}}\\left(11,\\,12,\\,13,\\,14,\\,15,\\,16\\right)</script></html>"
      ],
      "text/latex": [
       "$$\\newcommand{\\Bold}[1]{\\mathbf{#1}}\\left(11,\\,12,\\,13,\\,14,\\,15,\\,16\\right)$$"
      ],
      "text/plain": [
       "(11, 12, 13, 14, 15, 16)"
      ]
     },
     "metadata": {},
     "output_type": "display_data"
    }
   ],
   "source": [
    "v = vector([11,12,..16])\n",
    "show(v)"
   ]
  },
  {
   "cell_type": "markdown",
   "metadata": {},
   "source": [
    "I afegir-lo al final com una columna nova d'una matriu (penseu en un sistema d'equacions i els termes independents):"
   ]
  },
  {
   "cell_type": "code",
   "execution_count": 13,
   "metadata": {},
   "outputs": [
    {
     "data": {
      "text/html": [
       "<html><script type=\"math/tex; mode=display\">\\newcommand{\\Bold}[1]{\\mathbf{#1}}\\left(\\begin{array}{rrrrrrr}\n",
       "1 & 0 & 0 & 0 & 0 & 0 & 11 \\\\\n",
       "0 & 2 & 0 & 0 & 0 & 0 & 12 \\\\\n",
       "0 & 0 & 3 & 0 & 0 & 0 & 13 \\\\\n",
       "0 & 0 & 0 & 4 & 0 & 0 & 14 \\\\\n",
       "0 & 0 & 0 & 0 & 5 & 0 & 15 \\\\\n",
       "0 & 0 & 0 & 0 & 0 & 6 & 16\n",
       "\\end{array}\\right)</script></html>"
      ],
      "text/latex": [
       "$$\\newcommand{\\Bold}[1]{\\mathbf{#1}}\\left(\\begin{array}{rrrrrrr}\n",
       "1 & 0 & 0 & 0 & 0 & 0 & 11 \\\\\n",
       "0 & 2 & 0 & 0 & 0 & 0 & 12 \\\\\n",
       "0 & 0 & 3 & 0 & 0 & 0 & 13 \\\\\n",
       "0 & 0 & 0 & 4 & 0 & 0 & 14 \\\\\n",
       "0 & 0 & 0 & 0 & 5 & 0 & 15 \\\\\n",
       "0 & 0 & 0 & 0 & 0 & 6 & 16\n",
       "\\end{array}\\right)$$"
      ],
      "text/plain": [
       "[ 1  0  0  0  0  0 11]\n",
       "[ 0  2  0  0  0  0 12]\n",
       "[ 0  0  3  0  0  0 13]\n",
       "[ 0  0  0  4  0  0 14]\n",
       "[ 0  0  0  0  5  0 15]\n",
       "[ 0  0  0  0  0  6 16]"
      ]
     },
     "metadata": {},
     "output_type": "display_data"
    }
   ],
   "source": [
    "sistema = diagonal.augment(v)\n",
    "show(sistema)"
   ]
  },
  {
   "cell_type": "markdown",
   "metadata": {},
   "source": [
    "O bé més bonic:"
   ]
  },
  {
   "cell_type": "code",
   "execution_count": 14,
   "metadata": {},
   "outputs": [
    {
     "data": {
      "text/html": [
       "<html><script type=\"math/tex; mode=display\">\\newcommand{\\Bold}[1]{\\mathbf{#1}}\\left(\\begin{array}{rrrrrr|r}\n",
       "1 & 0 & 0 & 0 & 0 & 0 & 11 \\\\\n",
       "0 & 2 & 0 & 0 & 0 & 0 & 12 \\\\\n",
       "0 & 0 & 3 & 0 & 0 & 0 & 13 \\\\\n",
       "0 & 0 & 0 & 4 & 0 & 0 & 14 \\\\\n",
       "0 & 0 & 0 & 0 & 5 & 0 & 15 \\\\\n",
       "0 & 0 & 0 & 0 & 0 & 6 & 16\n",
       "\\end{array}\\right)</script></html>"
      ],
      "text/latex": [
       "$$\\newcommand{\\Bold}[1]{\\mathbf{#1}}\\left(\\begin{array}{rrrrrr|r}\n",
       "1 & 0 & 0 & 0 & 0 & 0 & 11 \\\\\n",
       "0 & 2 & 0 & 0 & 0 & 0 & 12 \\\\\n",
       "0 & 0 & 3 & 0 & 0 & 0 & 13 \\\\\n",
       "0 & 0 & 0 & 4 & 0 & 0 & 14 \\\\\n",
       "0 & 0 & 0 & 0 & 5 & 0 & 15 \\\\\n",
       "0 & 0 & 0 & 0 & 0 & 6 & 16\n",
       "\\end{array}\\right)$$"
      ],
      "text/plain": [
       "[ 1  0  0  0  0  0|11]\n",
       "[ 0  2  0  0  0  0|12]\n",
       "[ 0  0  3  0  0  0|13]\n",
       "[ 0  0  0  4  0  0|14]\n",
       "[ 0  0  0  0  5  0|15]\n",
       "[ 0  0  0  0  0  6|16]"
      ]
     },
     "metadata": {},
     "output_type": "display_data"
    }
   ],
   "source": [
    "sistema = diagonal.augment(v,subdivide=True)\n",
    "show(sistema)"
   ]
  },
  {
   "cell_type": "markdown",
   "metadata": {},
   "source": [
    "Podem fer les transformacions elementals per files a una matriu amb les instruccions add_multiple_of_row(), swap_rows() i rescale_row(). Observeu que es va modificant el valor de la variable que conté la matriu."
   ]
  },
  {
   "cell_type": "code",
   "execution_count": 15,
   "metadata": {},
   "outputs": [
    {
     "data": {
      "text/html": [
       "<html><script type=\"math/tex; mode=display\">\\newcommand{\\Bold}[1]{\\mathbf{#1}}\\left(\\begin{array}{rrrrrr|r}\n",
       "1 & 0 & 0 & 0 & 0 & 0 & 11 \\\\\n",
       "0 & 0 & 3 & 0 & 0 & 0 & 13 \\\\\n",
       "0 & 2 & 0 & 0 & 0 & 0 & 12 \\\\\n",
       "0 & 0 & 0 & 4 & 0 & 0 & 14 \\\\\n",
       "0 & 0 & 0 & 0 & 5 & 0 & 15 \\\\\n",
       "0 & 0 & 0 & 0 & 0 & 6 & 16\n",
       "\\end{array}\\right)</script></html>"
      ],
      "text/latex": [
       "$$\\newcommand{\\Bold}[1]{\\mathbf{#1}}\\left(\\begin{array}{rrrrrr|r}\n",
       "1 & 0 & 0 & 0 & 0 & 0 & 11 \\\\\n",
       "0 & 0 & 3 & 0 & 0 & 0 & 13 \\\\\n",
       "0 & 2 & 0 & 0 & 0 & 0 & 12 \\\\\n",
       "0 & 0 & 0 & 4 & 0 & 0 & 14 \\\\\n",
       "0 & 0 & 0 & 0 & 5 & 0 & 15 \\\\\n",
       "0 & 0 & 0 & 0 & 0 & 6 & 16\n",
       "\\end{array}\\right)$$"
      ],
      "text/plain": [
       "[ 1  0  0  0  0  0|11]\n",
       "[ 0  0  3  0  0  0|13]\n",
       "[ 0  2  0  0  0  0|12]\n",
       "[ 0  0  0  4  0  0|14]\n",
       "[ 0  0  0  0  5  0|15]\n",
       "[ 0  0  0  0  0  6|16]"
      ]
     },
     "metadata": {},
     "output_type": "display_data"
    }
   ],
   "source": [
    "sistema.swap_rows(1,2)\n",
    "show(sistema)"
   ]
  },
  {
   "cell_type": "code",
   "execution_count": 16,
   "metadata": {},
   "outputs": [
    {
     "data": {
      "text/html": [
       "<html><script type=\"math/tex; mode=display\">\\newcommand{\\Bold}[1]{\\mathbf{#1}}\\left(\\begin{array}{rrrrrr|r}\n",
       "1 & 0 & 0 & 0 & 0 & 0 & 11 \\\\\n",
       "0 & 0 & 3 & 0 & 0 & 0 & 13 \\\\\n",
       "0 & 2 & 0 & 0 & 0 & 0 & 12 \\\\\n",
       "0 & 0 & 3000 & 4 & 0 & 0 & 13014 \\\\\n",
       "0 & 0 & 0 & 0 & 5 & 0 & 15 \\\\\n",
       "0 & 0 & 0 & 0 & 0 & 6 & 16\n",
       "\\end{array}\\right)</script></html>"
      ],
      "text/latex": [
       "$$\\newcommand{\\Bold}[1]{\\mathbf{#1}}\\left(\\begin{array}{rrrrrr|r}\n",
       "1 & 0 & 0 & 0 & 0 & 0 & 11 \\\\\n",
       "0 & 0 & 3 & 0 & 0 & 0 & 13 \\\\\n",
       "0 & 2 & 0 & 0 & 0 & 0 & 12 \\\\\n",
       "0 & 0 & 3000 & 4 & 0 & 0 & 13014 \\\\\n",
       "0 & 0 & 0 & 0 & 5 & 0 & 15 \\\\\n",
       "0 & 0 & 0 & 0 & 0 & 6 & 16\n",
       "\\end{array}\\right)$$"
      ],
      "text/plain": [
       "[    1     0     0     0     0     0|   11]\n",
       "[    0     0     3     0     0     0|   13]\n",
       "[    0     2     0     0     0     0|   12]\n",
       "[    0     0  3000     4     0     0|13014]\n",
       "[    0     0     0     0     5     0|   15]\n",
       "[    0     0     0     0     0     6|   16]"
      ]
     },
     "metadata": {},
     "output_type": "display_data"
    }
   ],
   "source": [
    "sistema.add_multiple_of_row(3,1,1000)\n",
    "show(sistema)"
   ]
  },
  {
   "cell_type": "code",
   "execution_count": 17,
   "metadata": {},
   "outputs": [
    {
     "data": {
      "text/html": [
       "<html><script type=\"math/tex; mode=display\">\\newcommand{\\Bold}[1]{\\mathbf{#1}}\\left(\\begin{array}{rrrrrr|r}\n",
       "1 & 0 & 0 & 0 & 0 & 0 & 11 \\\\\n",
       "0 & 0 & 3 & 0 & 0 & 0 & 13 \\\\\n",
       "0 & 2 & 0 & 0 & 0 & 0 & 12 \\\\\n",
       "0 & 0 & 3000 & 4 & 0 & 0 & 13014 \\\\\n",
       "0 & 0 & 0 & 0 & 50 & 0 & 150 \\\\\n",
       "0 & 0 & 0 & 0 & 0 & 6 & 16\n",
       "\\end{array}\\right)</script></html>"
      ],
      "text/latex": [
       "$$\\newcommand{\\Bold}[1]{\\mathbf{#1}}\\left(\\begin{array}{rrrrrr|r}\n",
       "1 & 0 & 0 & 0 & 0 & 0 & 11 \\\\\n",
       "0 & 0 & 3 & 0 & 0 & 0 & 13 \\\\\n",
       "0 & 2 & 0 & 0 & 0 & 0 & 12 \\\\\n",
       "0 & 0 & 3000 & 4 & 0 & 0 & 13014 \\\\\n",
       "0 & 0 & 0 & 0 & 50 & 0 & 150 \\\\\n",
       "0 & 0 & 0 & 0 & 0 & 6 & 16\n",
       "\\end{array}\\right)$$"
      ],
      "text/plain": [
       "[    1     0     0     0     0     0|   11]\n",
       "[    0     0     3     0     0     0|   13]\n",
       "[    0     2     0     0     0     0|   12]\n",
       "[    0     0  3000     4     0     0|13014]\n",
       "[    0     0     0     0    50     0|  150]\n",
       "[    0     0     0     0     0     6|   16]"
      ]
     },
     "metadata": {},
     "output_type": "display_data"
    }
   ],
   "source": [
    "sistema.rescale_row(4,10)\n",
    "show(sistema)"
   ]
  },
  {
   "cell_type": "markdown",
   "metadata": {},
   "source": [
    "### Exercici  "
   ]
  },
  {
   "cell_type": "markdown",
   "metadata": {},
   "source": [
    "Si es considera la família de sistemes d'equacions amb incògnites $x$, $y$, $z$, $t$ depenent del paràmetre $a$ donada per"
   ]
  },
  {
   "cell_type": "markdown",
   "metadata": {},
   "source": [
    "$$\n",
    "    \\left.\n",
    "       \\begin{aligned}\n",
    "       x + 4 z+ 4 t&= 1 \\\\ \n",
    "       x +2 y + 3t&= 0 \\\\ \n",
    "       y -2z -t&=a-1 \\\\ \n",
    "       x +y + a\\, z +3t &= a\n",
    "       \\end{aligned}\n",
    "    \\right\\}\n",
    "$$"
   ]
  },
  {
   "cell_type": "markdown",
   "metadata": {},
   "source": [
    "Per a quins valors del paràmetre $a$ es pot afirmar que és compatible determinat?"
   ]
  },
  {
   "cell_type": "markdown",
   "metadata": {},
   "source": [
    "Quan no és determinat, és compatible o incompatible?"
   ]
  },
  {
   "cell_type": "markdown",
   "metadata": {},
   "source": [
    "**_Noteu que la matriu (dels coeficients) del sistema d'equacions és la mateixa de l'últim exemple del bloc anterior._** \n",
    "\n",
    "**_Aquest és un bon exemple on provar de fer la reducció de la matriu del sistema d'equacions pas a pas utilitzant_** `add_multiple_of_row( )`, `swap_rows( )` **_i, eventualment,_** `rescale_row( )` "
   ]
  },
  {
   "cell_type": "code",
   "execution_count": null,
   "metadata": {},
   "outputs": [],
   "source": []
  },
  {
   "cell_type": "code",
   "execution_count": null,
   "metadata": {},
   "outputs": [],
   "source": []
  },
  {
   "cell_type": "code",
   "execution_count": null,
   "metadata": {},
   "outputs": [],
   "source": []
  },
  {
   "cell_type": "code",
   "execution_count": null,
   "metadata": {},
   "outputs": [],
   "source": []
  },
  {
   "cell_type": "code",
   "execution_count": null,
   "metadata": {},
   "outputs": [],
   "source": []
  },
  {
   "cell_type": "markdown",
   "metadata": {},
   "source": [
    "Considereu la matriu del sistema d'equacions anteriors en el cas $a=2$ (si encara no ho heu descobert, és el cas en què el sistema no és determinat). Utilitzeu la instrucció `echelon_form( )` per tal d'obtenir la forma esglaonada de Gauss-Jordan d'aquesta matriu."
   ]
  },
  {
   "cell_type": "code",
   "execution_count": null,
   "metadata": {},
   "outputs": [],
   "source": []
  },
  {
   "cell_type": "code",
   "execution_count": null,
   "metadata": {},
   "outputs": [],
   "source": []
  },
  {
   "cell_type": "code",
   "execution_count": null,
   "metadata": {},
   "outputs": [],
   "source": []
  },
  {
   "cell_type": "code",
   "execution_count": null,
   "metadata": {},
   "outputs": [],
   "source": []
  },
  {
   "cell_type": "code",
   "execution_count": null,
   "metadata": {},
   "outputs": [],
   "source": []
  },
  {
   "cell_type": "markdown",
   "metadata": {},
   "source": [
    "Si es vol obtenir la matriu invertible $P$ que transforma la matriu del sistema original en la matriu reduïda es pot canviar `echelon_form( )` per `extended_echelon_form( )` i utilitzar `matrix_from_columns( )` per tal d'aïllar $P$ del resultat que s'obté."
   ]
  },
  {
   "cell_type": "code",
   "execution_count": null,
   "metadata": {},
   "outputs": [],
   "source": []
  },
  {
   "cell_type": "code",
   "execution_count": null,
   "metadata": {},
   "outputs": [],
   "source": []
  },
  {
   "cell_type": "code",
   "execution_count": null,
   "metadata": {},
   "outputs": [],
   "source": []
  },
  {
   "cell_type": "code",
   "execution_count": null,
   "metadata": {},
   "outputs": [],
   "source": []
  },
  {
   "cell_type": "code",
   "execution_count": null,
   "metadata": {},
   "outputs": [],
   "source": []
  },
  {
   "cell_type": "markdown",
   "metadata": {},
   "source": [
    "Feu la multiplicació de la matriu $P$ de l'apartat anterior per la matriu del sistema original per tal de veure que el resultat és la matriu reduïda (haureu d'esbrinar com es pot extreure una submatriu d'una matriu i com es multipliquen dues matrius en *Sage*)."
   ]
  },
  {
   "cell_type": "code",
   "execution_count": null,
   "metadata": {},
   "outputs": [],
   "source": []
  },
  {
   "cell_type": "code",
   "execution_count": null,
   "metadata": {},
   "outputs": [],
   "source": []
  },
  {
   "cell_type": "code",
   "execution_count": null,
   "metadata": {},
   "outputs": [],
   "source": []
  },
  {
   "cell_type": "code",
   "execution_count": null,
   "metadata": {},
   "outputs": [],
   "source": []
  },
  {
   "cell_type": "code",
   "execution_count": null,
   "metadata": {},
   "outputs": [],
   "source": []
  }
 ],
 "metadata": {
  "kernelspec": {
   "display_name": "SageMath 9.3",
   "language": "sage",
   "name": "sagemath"
  },
  "language_info": {
   "codemirror_mode": {
    "name": "ipython",
    "version": 3
   },
   "file_extension": ".py",
   "mimetype": "text/x-python",
   "name": "python",
   "nbconvert_exporter": "python",
   "pygments_lexer": "ipython3",
   "version": "3.7.10"
  }
 },
 "nbformat": 4,
 "nbformat_minor": 2
}
