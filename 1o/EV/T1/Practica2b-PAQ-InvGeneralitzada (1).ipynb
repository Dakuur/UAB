{
 "cells": [
  {
   "cell_type": "markdown",
   "metadata": {},
   "source": [
    "# Espais Vectorials\n",
    "## Grau d’Enginyeria de Dades\n",
    "### Inverses generalitzades"
   ]
  },
  {
   "cell_type": "markdown",
   "metadata": {},
   "source": [
    "<font color=green>\n",
    "        Considereu la matriu:\n",
    "$$A=\\left(\\begin{array}{rrrrr}\n",
    "1 & 0 & -1 & 0 & 1 \\\\\n",
    "0 & 1 & 0 & 0 & 0 \\\\\n",
    "0 & -1 & 0 & 1 & 0 \\\\\n",
    "0 & 0 & -1 & 0 & -1 \\\\\n",
    "0 & 1 & 0 & -1 & 0\n",
    "\\end{array}\\right)$$\n",
    "</font>\n",
    "<font color=green>\n",
    "    <ol>\n",
    "        <li> Comproveu que no és invertible calculant el seu rang (surt 4). </li>\n",
    "        <li> Utilitzeu <font color=blue>pseudoinverse( )</font> per obtenir una inversa generalitzada $G$ de $A$. </li>\n",
    "        <li> Comproveu que el producte $A\\cdot G\\cdot A$ dona com a resultat la matriu $A$ (com correspon a una inversa generalitzada).</li>\n",
    "    </ol>\n",
    "</font>        "
   ]
  },
  {
   "cell_type": "code",
   "execution_count": 1,
   "metadata": {},
   "outputs": [
    {
     "data": {
      "text/plain": [
       "4"
      ]
     },
     "execution_count": 1,
     "metadata": {},
     "output_type": "execute_result"
    }
   ],
   "source": [
    "A=Matrix(QQ,5,5,[1,0,-1,0,1,0,1,0,0,0,0,-1,0,1,0,0,0,-1,0,-1,0,1,0,-1,0])\n",
    "A.rank()"
   ]
  },
  {
   "cell_type": "code",
   "execution_count": 2,
   "metadata": {},
   "outputs": [
    {
     "ename": "ZeroDivisionError",
     "evalue": "input matrix must be nonsingular",
     "output_type": "error",
     "traceback": [
      "\u001b[0;31m---------------------------------------------------------------------------\u001b[0m",
      "\u001b[0;31mZeroDivisionError\u001b[0m                         Traceback (most recent call last)",
      "\u001b[0;32m<ipython-input-2-71fb146fd24e>\u001b[0m in \u001b[0;36m<module>\u001b[0;34m\u001b[0m\n\u001b[0;32m----> 1\u001b[0;31m \u001b[0mA\u001b[0m\u001b[0;34m**\u001b[0m\u001b[0;34m(\u001b[0m\u001b[0;34m-\u001b[0m\u001b[0mInteger\u001b[0m\u001b[0;34m(\u001b[0m\u001b[0;36m1\u001b[0m\u001b[0;34m)\u001b[0m\u001b[0;34m)\u001b[0m\u001b[0;34m\u001b[0m\u001b[0;34m\u001b[0m\u001b[0m\n\u001b[0m",
      "\u001b[0;32m/opt/sagemath-9.3/local/lib/python3.7/site-packages/sage/matrix/matrix0.pyx\u001b[0m in \u001b[0;36msage.matrix.matrix0.Matrix.__pow__ (build/cythonized/sage/matrix/matrix0.c:38999)\u001b[0;34m()\u001b[0m\n\u001b[1;32m   5801\u001b[0m             \u001b[0;32mfrom\u001b[0m \u001b[0msage\u001b[0m\u001b[0;34m.\u001b[0m\u001b[0mmatrix\u001b[0m\u001b[0;34m.\u001b[0m\u001b[0mmatrix2\u001b[0m \u001b[0;32mimport\u001b[0m \u001b[0m_matrix_power_symbolic\u001b[0m\u001b[0;34m\u001b[0m\u001b[0;34m\u001b[0m\u001b[0m\n\u001b[1;32m   5802\u001b[0m             \u001b[0;32mreturn\u001b[0m \u001b[0m_matrix_power_symbolic\u001b[0m\u001b[0;34m(\u001b[0m\u001b[0mself\u001b[0m\u001b[0;34m,\u001b[0m \u001b[0mn\u001b[0m\u001b[0;34m)\u001b[0m\u001b[0;34m\u001b[0m\u001b[0;34m\u001b[0m\u001b[0m\n\u001b[0;32m-> 5803\u001b[0;31m         \u001b[0;32mreturn\u001b[0m \u001b[0mgeneric_power\u001b[0m\u001b[0;34m(\u001b[0m\u001b[0mself\u001b[0m\u001b[0;34m,\u001b[0m \u001b[0mn\u001b[0m\u001b[0;34m)\u001b[0m\u001b[0;34m\u001b[0m\u001b[0;34m\u001b[0m\u001b[0m\n\u001b[0m\u001b[1;32m   5804\u001b[0m \u001b[0;34m\u001b[0m\u001b[0m\n\u001b[1;32m   5805\u001b[0m     \u001b[0;31m###################################################\u001b[0m\u001b[0;34m\u001b[0m\u001b[0;34m\u001b[0m\u001b[0;34m\u001b[0m\u001b[0m\n",
      "\u001b[0;32m/opt/sagemath-9.3/local/lib/python3.7/site-packages/sage/arith/power.pyx\u001b[0m in \u001b[0;36msage.arith.power.generic_power (build/cythonized/sage/arith/power.c:2419)\u001b[0;34m()\u001b[0m\n\u001b[1;32m     81\u001b[0m         \u001b[0;32mraise\u001b[0m \u001b[0mNotImplementedError\u001b[0m\u001b[0;34m(\u001b[0m\u001b[0;34m\"non-integral exponents not supported\"\u001b[0m\u001b[0;34m)\u001b[0m\u001b[0;34m\u001b[0m\u001b[0;34m\u001b[0m\u001b[0m\n\u001b[1;32m     82\u001b[0m     \u001b[0;32mif\u001b[0m \u001b[0;32mnot\u001b[0m \u001b[0merr\u001b[0m\u001b[0;34m:\u001b[0m\u001b[0;34m\u001b[0m\u001b[0;34m\u001b[0m\u001b[0m\n\u001b[0;32m---> 83\u001b[0;31m         \u001b[0;32mreturn\u001b[0m \u001b[0mgeneric_power_long\u001b[0m\u001b[0;34m(\u001b[0m\u001b[0ma\u001b[0m\u001b[0;34m,\u001b[0m \u001b[0mvalue\u001b[0m\u001b[0;34m)\u001b[0m\u001b[0;34m\u001b[0m\u001b[0;34m\u001b[0m\u001b[0m\n\u001b[0m\u001b[1;32m     84\u001b[0m \u001b[0;34m\u001b[0m\u001b[0m\n\u001b[1;32m     85\u001b[0m     \u001b[0;32mif\u001b[0m \u001b[0mn\u001b[0m \u001b[0;34m<\u001b[0m \u001b[0;36m0\u001b[0m\u001b[0;34m:\u001b[0m\u001b[0;34m\u001b[0m\u001b[0;34m\u001b[0m\u001b[0m\n",
      "\u001b[0;32m/opt/sagemath-9.3/local/lib/python3.7/site-packages/sage/arith/power.pyx\u001b[0m in \u001b[0;36msage.arith.power.generic_power_long (build/cythonized/sage/arith/power.c:2693)\u001b[0;34m()\u001b[0m\n\u001b[1;32m     99\u001b[0m     \u001b[0;32mif\u001b[0m \u001b[0mn\u001b[0m \u001b[0;34m<\u001b[0m \u001b[0;36m0\u001b[0m\u001b[0;34m:\u001b[0m\u001b[0;34m\u001b[0m\u001b[0;34m\u001b[0m\u001b[0m\n\u001b[1;32m    100\u001b[0m         \u001b[0mu\u001b[0m \u001b[0;34m=\u001b[0m \u001b[0;34m-\u001b[0m\u001b[0mu\u001b[0m\u001b[0;34m\u001b[0m\u001b[0;34m\u001b[0m\u001b[0m\n\u001b[0;32m--> 101\u001b[0;31m         \u001b[0ma\u001b[0m \u001b[0;34m=\u001b[0m \u001b[0minvert\u001b[0m\u001b[0;34m(\u001b[0m\u001b[0ma\u001b[0m\u001b[0;34m)\u001b[0m\u001b[0;34m\u001b[0m\u001b[0;34m\u001b[0m\u001b[0m\n\u001b[0m\u001b[1;32m    102\u001b[0m     \u001b[0;32mreturn\u001b[0m \u001b[0mgeneric_power_pos\u001b[0m\u001b[0;34m(\u001b[0m\u001b[0ma\u001b[0m\u001b[0;34m,\u001b[0m \u001b[0mu\u001b[0m\u001b[0;34m)\u001b[0m\u001b[0;34m\u001b[0m\u001b[0;34m\u001b[0m\u001b[0m\n\u001b[1;32m    103\u001b[0m \u001b[0;34m\u001b[0m\u001b[0m\n",
      "\u001b[0;32m/opt/sagemath-9.3/local/lib/python3.7/site-packages/sage/arith/power.pxd\u001b[0m in \u001b[0;36msage.arith.power.invert (build/cythonized/sage/arith/power.c:3732)\u001b[0;34m()\u001b[0m\n\u001b[1;32m     18\u001b[0m     \"\"\"\n\u001b[1;32m     19\u001b[0m     \u001b[0;32mif\u001b[0m \u001b[0misinstance\u001b[0m\u001b[0;34m(\u001b[0m\u001b[0ma\u001b[0m\u001b[0;34m,\u001b[0m \u001b[0mElement\u001b[0m\u001b[0;34m)\u001b[0m\u001b[0;34m:\u001b[0m\u001b[0;34m\u001b[0m\u001b[0;34m\u001b[0m\u001b[0m\n\u001b[0;32m---> 20\u001b[0;31m         \u001b[0;32mreturn\u001b[0m \u001b[0;34m~\u001b[0m\u001b[0ma\u001b[0m\u001b[0;34m\u001b[0m\u001b[0;34m\u001b[0m\u001b[0m\n\u001b[0m\u001b[1;32m     21\u001b[0m     \u001b[0;32mreturn\u001b[0m \u001b[0mPyNumber_TrueDivide\u001b[0m\u001b[0;34m(\u001b[0m\u001b[0mtype\u001b[0m\u001b[0;34m(\u001b[0m\u001b[0ma\u001b[0m\u001b[0;34m)\u001b[0m\u001b[0;34m(\u001b[0m\u001b[0;36m1\u001b[0m\u001b[0;34m)\u001b[0m\u001b[0;34m,\u001b[0m \u001b[0ma\u001b[0m\u001b[0;34m)\u001b[0m\u001b[0;34m\u001b[0m\u001b[0;34m\u001b[0m\u001b[0m\n\u001b[1;32m     22\u001b[0m \u001b[0;34m\u001b[0m\u001b[0m\n",
      "\u001b[0;32m/opt/sagemath-9.3/local/lib/python3.7/site-packages/sage/matrix/matrix_rational_dense.pyx\u001b[0m in \u001b[0;36msage.matrix.matrix_rational_dense.Matrix_rational_dense.__invert__ (build/cythonized/sage/matrix/matrix_rational_dense.cpp:8454)\u001b[0;34m()\u001b[0m\n\u001b[1;32m    628\u001b[0m             \u001b[0mArithmeticError\u001b[0m\u001b[0;34m:\u001b[0m \u001b[0mself\u001b[0m \u001b[0mmust\u001b[0m \u001b[0mbe\u001b[0m \u001b[0ma\u001b[0m \u001b[0msquare\u001b[0m \u001b[0mmatrix\u001b[0m\u001b[0;34m\u001b[0m\u001b[0;34m\u001b[0m\u001b[0m\n\u001b[1;32m    629\u001b[0m         \"\"\"\n\u001b[0;32m--> 630\u001b[0;31m         \u001b[0;32mreturn\u001b[0m \u001b[0mself\u001b[0m\u001b[0;34m.\u001b[0m\u001b[0minverse\u001b[0m\u001b[0;34m(\u001b[0m\u001b[0;34m)\u001b[0m\u001b[0;34m\u001b[0m\u001b[0;34m\u001b[0m\u001b[0m\n\u001b[0m\u001b[1;32m    631\u001b[0m \u001b[0;34m\u001b[0m\u001b[0m\n\u001b[1;32m    632\u001b[0m     \u001b[0;32mdef\u001b[0m \u001b[0m_invert_flint\u001b[0m\u001b[0;34m(\u001b[0m\u001b[0mself\u001b[0m\u001b[0;34m)\u001b[0m\u001b[0;34m:\u001b[0m\u001b[0;34m\u001b[0m\u001b[0;34m\u001b[0m\u001b[0m\n",
      "\u001b[0;32m/opt/sagemath-9.3/local/lib/python3.7/site-packages/sage/matrix/matrix_rational_dense.pyx\u001b[0m in \u001b[0;36msage.matrix.matrix_rational_dense.Matrix_rational_dense.inverse (build/cythonized/sage/matrix/matrix_rational_dense.cpp:8867)\u001b[0;34m()\u001b[0m\n\u001b[1;32m    746\u001b[0m \u001b[0;34m\u001b[0m\u001b[0m\n\u001b[1;32m    747\u001b[0m         \u001b[0;32mif\u001b[0m \u001b[0malgorithm\u001b[0m \u001b[0;34m==\u001b[0m \u001b[0;34m\"flint\"\u001b[0m\u001b[0;34m:\u001b[0m\u001b[0;34m\u001b[0m\u001b[0;34m\u001b[0m\u001b[0m\n\u001b[0;32m--> 748\u001b[0;31m             \u001b[0;32mreturn\u001b[0m \u001b[0mself\u001b[0m\u001b[0;34m.\u001b[0m\u001b[0m_invert_flint\u001b[0m\u001b[0;34m(\u001b[0m\u001b[0;34m)\u001b[0m\u001b[0;34m\u001b[0m\u001b[0;34m\u001b[0m\u001b[0m\n\u001b[0m\u001b[1;32m    749\u001b[0m         \u001b[0;32melif\u001b[0m \u001b[0malgorithm\u001b[0m \u001b[0;34m==\u001b[0m \u001b[0;34m\"pari\"\u001b[0m\u001b[0;34m:\u001b[0m\u001b[0;34m\u001b[0m\u001b[0;34m\u001b[0m\u001b[0m\n\u001b[1;32m    750\u001b[0m             \u001b[0;32mtry\u001b[0m\u001b[0;34m:\u001b[0m\u001b[0;34m\u001b[0m\u001b[0;34m\u001b[0m\u001b[0m\n",
      "\u001b[0;32m/opt/sagemath-9.3/local/lib/python3.7/site-packages/sage/matrix/matrix_rational_dense.pyx\u001b[0m in \u001b[0;36msage.matrix.matrix_rational_dense.Matrix_rational_dense._invert_flint (build/cythonized/sage/matrix/matrix_rational_dense.cpp:8593)\u001b[0;34m()\u001b[0m\n\u001b[1;32m    649\u001b[0m         \u001b[0msig_off\u001b[0m\u001b[0;34m(\u001b[0m\u001b[0;34m)\u001b[0m\u001b[0;34m\u001b[0m\u001b[0;34m\u001b[0m\u001b[0m\n\u001b[1;32m    650\u001b[0m         \u001b[0;32mif\u001b[0m \u001b[0mret\u001b[0m \u001b[0;34m==\u001b[0m \u001b[0;36m0\u001b[0m\u001b[0;34m:\u001b[0m\u001b[0;34m\u001b[0m\u001b[0;34m\u001b[0m\u001b[0m\n\u001b[0;32m--> 651\u001b[0;31m             \u001b[0;32mraise\u001b[0m \u001b[0mZeroDivisionError\u001b[0m\u001b[0;34m(\u001b[0m\u001b[0;34m\"input matrix must be nonsingular\"\u001b[0m\u001b[0;34m)\u001b[0m\u001b[0;34m\u001b[0m\u001b[0;34m\u001b[0m\u001b[0m\n\u001b[0m\u001b[1;32m    652\u001b[0m         \u001b[0;32mreturn\u001b[0m \u001b[0mans\u001b[0m\u001b[0;34m\u001b[0m\u001b[0;34m\u001b[0m\u001b[0m\n\u001b[1;32m    653\u001b[0m \u001b[0;34m\u001b[0m\u001b[0m\n",
      "\u001b[0;31mZeroDivisionError\u001b[0m: input matrix must be nonsingular"
     ]
    }
   ],
   "source": [
    "A^(-1)"
   ]
  },
  {
   "cell_type": "code",
   "execution_count": 3,
   "metadata": {},
   "outputs": [
    {
     "data": {
      "text/html": [
       "<html><script type=\"math/tex; mode=display\">\\newcommand{\\Bold}[1]{\\mathbf{#1}}\\left(\\begin{array}{rrrrr}\n",
       "\\frac{1}{3} & 0 & 0 & 0 & 0 \\\\\n",
       "0 & 1 & 0 & 0 & 0 \\\\\n",
       "-\\frac{1}{3} & 0 & 0 & -\\frac{1}{2} & 0 \\\\\n",
       "0 & 1 & \\frac{1}{2} & 0 & -\\frac{1}{2} \\\\\n",
       "\\frac{1}{3} & 0 & 0 & -\\frac{1}{2} & 0\n",
       "\\end{array}\\right)</script></html>"
      ],
      "text/latex": [
       "$$\\newcommand{\\Bold}[1]{\\mathbf{#1}}\\left(\\begin{array}{rrrrr}\n",
       "\\frac{1}{3} & 0 & 0 & 0 & 0 \\\\\n",
       "0 & 1 & 0 & 0 & 0 \\\\\n",
       "-\\frac{1}{3} & 0 & 0 & -\\frac{1}{2} & 0 \\\\\n",
       "0 & 1 & \\frac{1}{2} & 0 & -\\frac{1}{2} \\\\\n",
       "\\frac{1}{3} & 0 & 0 & -\\frac{1}{2} & 0\n",
       "\\end{array}\\right)$$"
      ],
      "text/plain": [
       "[ 1/3    0    0    0    0]\n",
       "[   0    1    0    0    0]\n",
       "[-1/3    0    0 -1/2    0]\n",
       "[   0    1  1/2    0 -1/2]\n",
       "[ 1/3    0    0 -1/2    0]"
      ]
     },
     "metadata": {},
     "output_type": "display_data"
    }
   ],
   "source": [
    "G=A.pseudoinverse();\n",
    "show(G)"
   ]
  },
  {
   "cell_type": "code",
   "execution_count": 4,
   "metadata": {},
   "outputs": [
    {
     "data": {
      "text/html": [
       "<html><script type=\"math/tex; mode=display\">\\newcommand{\\Bold}[1]{\\mathbf{#1}}\\left(\\begin{array}{rrrrr}\n",
       "1 & 0 & -1 & 0 & 1 \\\\\n",
       "0 & 1 & 0 & 0 & 0 \\\\\n",
       "0 & -1 & 0 & 1 & 0 \\\\\n",
       "0 & 0 & -1 & 0 & -1 \\\\\n",
       "0 & 1 & 0 & -1 & 0\n",
       "\\end{array}\\right)</script></html>"
      ],
      "text/latex": [
       "$$\\newcommand{\\Bold}[1]{\\mathbf{#1}}\\left(\\begin{array}{rrrrr}\n",
       "1 & 0 & -1 & 0 & 1 \\\\\n",
       "0 & 1 & 0 & 0 & 0 \\\\\n",
       "0 & -1 & 0 & 1 & 0 \\\\\n",
       "0 & 0 & -1 & 0 & -1 \\\\\n",
       "0 & 1 & 0 & -1 & 0\n",
       "\\end{array}\\right)$$"
      ],
      "text/plain": [
       "[ 1  0 -1  0  1]\n",
       "[ 0  1  0  0  0]\n",
       "[ 0 -1  0  1  0]\n",
       "[ 0  0 -1  0 -1]\n",
       "[ 0  1  0 -1  0]"
      ]
     },
     "metadata": {},
     "output_type": "display_data"
    },
    {
     "data": {
      "text/html": [
       "<html><script type=\"math/tex; mode=display\">\\newcommand{\\Bold}[1]{\\mathbf{#1}}\\left(\\begin{array}{rrrrr}\n",
       "1 & 0 & -1 & 0 & 1 \\\\\n",
       "0 & 1 & 0 & 0 & 0 \\\\\n",
       "0 & -1 & 0 & 1 & 0 \\\\\n",
       "0 & 0 & -1 & 0 & -1 \\\\\n",
       "0 & 1 & 0 & -1 & 0\n",
       "\\end{array}\\right)</script></html>"
      ],
      "text/latex": [
       "$$\\newcommand{\\Bold}[1]{\\mathbf{#1}}\\left(\\begin{array}{rrrrr}\n",
       "1 & 0 & -1 & 0 & 1 \\\\\n",
       "0 & 1 & 0 & 0 & 0 \\\\\n",
       "0 & -1 & 0 & 1 & 0 \\\\\n",
       "0 & 0 & -1 & 0 & -1 \\\\\n",
       "0 & 1 & 0 & -1 & 0\n",
       "\\end{array}\\right)$$"
      ],
      "text/plain": [
       "[ 1  0 -1  0  1]\n",
       "[ 0  1  0  0  0]\n",
       "[ 0 -1  0  1  0]\n",
       "[ 0  0 -1  0 -1]\n",
       "[ 0  1  0 -1  0]"
      ]
     },
     "metadata": {},
     "output_type": "display_data"
    }
   ],
   "source": [
    "show(A*G*A)\n",
    "show(A)"
   ]
  },
  {
   "cell_type": "code",
   "execution_count": null,
   "metadata": {},
   "outputs": [],
   "source": []
  },
  {
   "cell_type": "markdown",
   "metadata": {},
   "source": [
    "<font color=green>\n",
    "      La matriu inversa generalitzada, tot i que sempre existeix, no és única. En general, donada una matriu $A$, hi pot haver vàries matrius $G$ tals que $A\\cdot G\\cdot A= A$. Recordeu que una manera d'obtenir inverses generaitzades $G$ consisteix a aprofitar les matrius $P$ i $Q$ que apareixen quan es fa la reducció per files i columnes de la matriu $A$ ($P\\cdot A \\cdot Q=R$ on $R$ és la forma reduida per files i columnes de $A$).\n",
    "</font>"
   ]
  },
  {
   "cell_type": "markdown",
   "metadata": {},
   "source": [
    "** \n",
    "Recordeu en primer lloc que <font color=blue>extended_echelon_form( )</font> permet obtenir en un sol càlcul la forma reduida per files <font color=blue>A_rf</font> i la matriu corresponent <font color=blue>P</font> separant en dues matrius el resultat utilitzant <font color=blue>matrix_from_columns( )</font>\n",
    "**"
   ]
  },
  {
   "cell_type": "code",
   "execution_count": 5,
   "metadata": {},
   "outputs": [
    {
     "data": {
      "text/html": [
       "<html><script type=\"math/tex; mode=display\">\\newcommand{\\Bold}[1]{\\mathbf{#1}}\\left(\\begin{array}{rrrrrrrrrr}\n",
       "1 & 0 & 0 & 0 & 2 & 1 & 0 & 0 & -1 & 0 \\\\\n",
       "0 & 1 & 0 & 0 & 0 & 0 & 1 & 0 & 0 & 0 \\\\\n",
       "0 & 0 & 1 & 0 & 1 & 0 & 0 & 0 & -1 & 0 \\\\\n",
       "0 & 0 & 0 & 1 & 0 & 0 & 1 & 0 & 0 & -1 \\\\\n",
       "0 & 0 & 0 & 0 & 0 & 0 & 0 & 1 & 0 & 1\n",
       "\\end{array}\\right)</script></html>"
      ],
      "text/latex": [
       "$$\\newcommand{\\Bold}[1]{\\mathbf{#1}}\\left(\\begin{array}{rrrrrrrrrr}\n",
       "1 & 0 & 0 & 0 & 2 & 1 & 0 & 0 & -1 & 0 \\\\\n",
       "0 & 1 & 0 & 0 & 0 & 0 & 1 & 0 & 0 & 0 \\\\\n",
       "0 & 0 & 1 & 0 & 1 & 0 & 0 & 0 & -1 & 0 \\\\\n",
       "0 & 0 & 0 & 1 & 0 & 0 & 1 & 0 & 0 & -1 \\\\\n",
       "0 & 0 & 0 & 0 & 0 & 0 & 0 & 1 & 0 & 1\n",
       "\\end{array}\\right)$$"
      ],
      "text/plain": [
       "[ 1  0  0  0  2  1  0  0 -1  0]\n",
       "[ 0  1  0  0  0  0  1  0  0  0]\n",
       "[ 0  0  1  0  1  0  0  0 -1  0]\n",
       "[ 0  0  0  1  0  0  1  0  0 -1]\n",
       "[ 0  0  0  0  0  0  0  1  0  1]"
      ]
     },
     "metadata": {},
     "output_type": "display_data"
    }
   ],
   "source": [
    "New=A.extended_echelon_form();\n",
    "show(New)\n",
    "\n",
    "A_rf=A.extended_echelon_form().matrix_from_columns([0..4])\n",
    "P=A.extended_echelon_form().matrix_from_columns([5..9])"
   ]
  },
  {
   "cell_type": "code",
   "execution_count": 7,
   "metadata": {},
   "outputs": [
    {
     "data": {
      "text/html": [
       "<html><script type=\"math/tex; mode=display\">\\newcommand{\\Bold}[1]{\\mathbf{#1}}\\left(\\begin{array}{rrrrrrrrrr}\n",
       "1 & 0 & 0 & 0 & 0 & 0 & 0 & -\\frac{1}{2} & 0 & \\frac{1}{2} \\\\\n",
       "0 & 1 & 0 & 0 & 0 & 0 & 1 & 0 & 0 & 0 \\\\\n",
       "0 & 0 & 1 & 0 & 0 & 0 & 0 & 1 & 0 & 0 \\\\\n",
       "0 & 0 & 0 & 1 & 0 & 0 & 0 & 0 & 1 & 0 \\\\\n",
       "0 & 0 & 0 & 0 & 0 & 1 & 0 & \\frac{1}{2} & 0 & -\\frac{1}{2}\n",
       "\\end{array}\\right)</script></html>"
      ],
      "text/latex": [
       "$$\\newcommand{\\Bold}[1]{\\mathbf{#1}}\\left(\\begin{array}{rrrrrrrrrr}\n",
       "1 & 0 & 0 & 0 & 0 & 0 & 0 & -\\frac{1}{2} & 0 & \\frac{1}{2} \\\\\n",
       "0 & 1 & 0 & 0 & 0 & 0 & 1 & 0 & 0 & 0 \\\\\n",
       "0 & 0 & 1 & 0 & 0 & 0 & 0 & 1 & 0 & 0 \\\\\n",
       "0 & 0 & 0 & 1 & 0 & 0 & 0 & 0 & 1 & 0 \\\\\n",
       "0 & 0 & 0 & 0 & 0 & 1 & 0 & \\frac{1}{2} & 0 & -\\frac{1}{2}\n",
       "\\end{array}\\right)$$"
      ],
      "text/plain": [
       "[   1    0    0    0    0    0    0 -1/2    0  1/2]\n",
       "[   0    1    0    0    0    0    1    0    0    0]\n",
       "[   0    0    1    0    0    0    0    1    0    0]\n",
       "[   0    0    0    1    0    0    0    0    1    0]\n",
       "[   0    0    0    0    0    1    0  1/2    0 -1/2]"
      ]
     },
     "metadata": {},
     "output_type": "display_data"
    }
   ],
   "source": [
    "TA_rf=A_rf.transpose();\n",
    "New2=TA_rf.extended_echelon_form()\n",
    "show(New2)\n",
    "transQ=TA_rf.extended_echelon_form().matrix_from_columns([5..9])\n",
    "PAQred=TA_rf.extended_echelon_form().matrix_from_columns([0..4])\n",
    "Q=transQ.transpose()"
   ]
  },
  {
   "cell_type": "code",
   "execution_count": 8,
   "metadata": {},
   "outputs": [
    {
     "data": {
      "text/html": [
       "<html><script type=\"math/tex; mode=display\">\\newcommand{\\Bold}[1]{\\mathbf{#1}}\\left(\\begin{array}{rrrrr}\n",
       "0 & 0 & 0 & 0 & 0 \\\\\n",
       "0 & 1 & 0 & 0 & 0 \\\\\n",
       "-\\frac{1}{2} & 0 & 0 & -\\frac{1}{2} & 0 \\\\\n",
       "0 & 1 & 0 & 0 & -1 \\\\\n",
       "\\frac{1}{2} & 0 & 0 & -\\frac{1}{2} & 0\n",
       "\\end{array}\\right)</script></html>"
      ],
      "text/latex": [
       "$$\\newcommand{\\Bold}[1]{\\mathbf{#1}}\\left(\\begin{array}{rrrrr}\n",
       "0 & 0 & 0 & 0 & 0 \\\\\n",
       "0 & 1 & 0 & 0 & 0 \\\\\n",
       "-\\frac{1}{2} & 0 & 0 & -\\frac{1}{2} & 0 \\\\\n",
       "0 & 1 & 0 & 0 & -1 \\\\\n",
       "\\frac{1}{2} & 0 & 0 & -\\frac{1}{2} & 0\n",
       "\\end{array}\\right)$$"
      ],
      "text/plain": [
       "[   0    0    0    0    0]\n",
       "[   0    1    0    0    0]\n",
       "[-1/2    0    0 -1/2    0]\n",
       "[   0    1    0    0   -1]\n",
       "[ 1/2    0    0 -1/2    0]"
      ]
     },
     "metadata": {},
     "output_type": "display_data"
    },
    {
     "data": {
      "text/html": [
       "<html><script type=\"math/tex; mode=display\">\\newcommand{\\Bold}[1]{\\mathbf{#1}}\\left(\\begin{array}{rrrrr}\n",
       "\\frac{1}{3} & 0 & 0 & 0 & 0 \\\\\n",
       "0 & 1 & 0 & 0 & 0 \\\\\n",
       "-\\frac{1}{3} & 0 & 0 & -\\frac{1}{2} & 0 \\\\\n",
       "0 & 1 & \\frac{1}{2} & 0 & -\\frac{1}{2} \\\\\n",
       "\\frac{1}{3} & 0 & 0 & -\\frac{1}{2} & 0\n",
       "\\end{array}\\right)</script></html>"
      ],
      "text/latex": [
       "$$\\newcommand{\\Bold}[1]{\\mathbf{#1}}\\left(\\begin{array}{rrrrr}\n",
       "\\frac{1}{3} & 0 & 0 & 0 & 0 \\\\\n",
       "0 & 1 & 0 & 0 & 0 \\\\\n",
       "-\\frac{1}{3} & 0 & 0 & -\\frac{1}{2} & 0 \\\\\n",
       "0 & 1 & \\frac{1}{2} & 0 & -\\frac{1}{2} \\\\\n",
       "\\frac{1}{3} & 0 & 0 & -\\frac{1}{2} & 0\n",
       "\\end{array}\\right)$$"
      ],
      "text/plain": [
       "[ 1/3    0    0    0    0]\n",
       "[   0    1    0    0    0]\n",
       "[-1/3    0    0 -1/2    0]\n",
       "[   0    1  1/2    0 -1/2]\n",
       "[ 1/3    0    0 -1/2    0]"
      ]
     },
     "metadata": {},
     "output_type": "display_data"
    }
   ],
   "source": [
    "trPAQred=PAQred.transpose()\n",
    "\n",
    "Ginvgen=Q*trPAQred*P;\n",
    "show(Ginvgen)\n",
    "show(A.pseudoinverse())"
   ]
  },
  {
   "cell_type": "code",
   "execution_count": 9,
   "metadata": {},
   "outputs": [
    {
     "data": {
      "text/html": [
       "<html><script type=\"math/tex; mode=display\">\\newcommand{\\Bold}[1]{\\mathbf{#1}}\\left(\\begin{array}{rrrrr}\n",
       "1 & 0 & -1 & 0 & 1 \\\\\n",
       "0 & 1 & 0 & 0 & 0 \\\\\n",
       "0 & -1 & 0 & 1 & 0 \\\\\n",
       "0 & 0 & -1 & 0 & -1 \\\\\n",
       "0 & 1 & 0 & -1 & 0\n",
       "\\end{array}\\right)</script></html>"
      ],
      "text/latex": [
       "$$\\newcommand{\\Bold}[1]{\\mathbf{#1}}\\left(\\begin{array}{rrrrr}\n",
       "1 & 0 & -1 & 0 & 1 \\\\\n",
       "0 & 1 & 0 & 0 & 0 \\\\\n",
       "0 & -1 & 0 & 1 & 0 \\\\\n",
       "0 & 0 & -1 & 0 & -1 \\\\\n",
       "0 & 1 & 0 & -1 & 0\n",
       "\\end{array}\\right)$$"
      ],
      "text/plain": [
       "[ 1  0 -1  0  1]\n",
       "[ 0  1  0  0  0]\n",
       "[ 0 -1  0  1  0]\n",
       "[ 0  0 -1  0 -1]\n",
       "[ 0  1  0 -1  0]"
      ]
     },
     "metadata": {},
     "output_type": "display_data"
    },
    {
     "data": {
      "text/html": [
       "<html><script type=\"math/tex; mode=display\">\\newcommand{\\Bold}[1]{\\mathbf{#1}}\\left(\\begin{array}{rrrrr}\n",
       "1 & 0 & -1 & 0 & 1 \\\\\n",
       "0 & 1 & 0 & 0 & 0 \\\\\n",
       "0 & -1 & 0 & 1 & 0 \\\\\n",
       "0 & 0 & -1 & 0 & -1 \\\\\n",
       "0 & 1 & 0 & -1 & 0\n",
       "\\end{array}\\right)</script></html>"
      ],
      "text/latex": [
       "$$\\newcommand{\\Bold}[1]{\\mathbf{#1}}\\left(\\begin{array}{rrrrr}\n",
       "1 & 0 & -1 & 0 & 1 \\\\\n",
       "0 & 1 & 0 & 0 & 0 \\\\\n",
       "0 & -1 & 0 & 1 & 0 \\\\\n",
       "0 & 0 & -1 & 0 & -1 \\\\\n",
       "0 & 1 & 0 & -1 & 0\n",
       "\\end{array}\\right)$$"
      ],
      "text/plain": [
       "[ 1  0 -1  0  1]\n",
       "[ 0  1  0  0  0]\n",
       "[ 0 -1  0  1  0]\n",
       "[ 0  0 -1  0 -1]\n",
       "[ 0  1  0 -1  0]"
      ]
     },
     "metadata": {},
     "output_type": "display_data"
    }
   ],
   "source": [
    "show(A*Ginvgen*A)\n",
    "show(A)"
   ]
  },
  {
   "cell_type": "markdown",
   "metadata": {},
   "source": [
    "**\n",
    "Un cop s'ha reduit per files es pot calcular la matriu $Q$ de reducció per columnes fent el mateix procès (reducció per files) a la matriu transposada de <font color=blue>A_rf</font> per tal d'obtenir, tranposant els resultats d'aquest operació, la matriu reduida per files i columnes <font color=blue>A_rfc</font> i la matriu <font color=blue>Q</font> tals que <font color=blue>P·A·Q=A_rfc</font>. Quan s'arriba a aquest punt la matriu <font color=blue>G_r=Q·A_rfc·P</font> és un inversa generalitzada (no s'ha de fer res més perquè la matriu original és quadrada).\n",
    "**"
   ]
  },
  {
   "cell_type": "code",
   "execution_count": null,
   "metadata": {},
   "outputs": [],
   "source": []
  },
  {
   "cell_type": "code",
   "execution_count": null,
   "metadata": {},
   "outputs": [],
   "source": []
  },
  {
   "cell_type": "code",
   "execution_count": null,
   "metadata": {},
   "outputs": [],
   "source": []
  },
  {
   "cell_type": "markdown",
   "metadata": {},
   "source": [
    "**\n",
    "Si no voleu fer tantes transposicions, es pot fer directament la reducció per columnes. Encara que no hi ha una funció equivalent a <font color= blue>extended_echelon_form( )</font> es pot treballar per columnes amb <font color= blue>add_multiple_of_column( ), swap_columns( ), rescale_column( )</font> sobre la matriu construida per blocs posant una matriu identitat _sota_ <font color= blue>A_rf</font>\n",
    "**"
   ]
  },
  {
   "cell_type": "code",
   "execution_count": null,
   "metadata": {},
   "outputs": [],
   "source": [
    "AI=block_matrix(2,1,[A_rf,identity_matrix(5)])"
   ]
  },
  {
   "cell_type": "code",
   "execution_count": null,
   "metadata": {},
   "outputs": [],
   "source": []
  },
  {
   "cell_type": "code",
   "execution_count": null,
   "metadata": {},
   "outputs": [],
   "source": []
  },
  {
   "cell_type": "markdown",
   "metadata": {},
   "source": [
    "**\n",
    "Separant al final de la reducció la _part de sobre_ que contindrà <font color= blue>A_rfc</font> de la _part de sota_ que serà la matriu <font color= blue>Q</font>.\n",
    "**"
   ]
  },
  {
   "cell_type": "code",
   "execution_count": null,
   "metadata": {},
   "outputs": [],
   "source": []
  },
  {
   "cell_type": "code",
   "execution_count": null,
   "metadata": {},
   "outputs": [],
   "source": []
  },
  {
   "cell_type": "code",
   "execution_count": null,
   "metadata": {},
   "outputs": [],
   "source": []
  },
  {
   "cell_type": "markdown",
   "metadata": {},
   "source": [
    "<font color=green>\n",
    "    Comproveu que <font color=blue>G_r</font> és realment una inversa generalitzada fent el producte <font color=blue>A·G_r·A</font> i veient que coincideix amb $A$."
   ]
  },
  {
   "cell_type": "code",
   "execution_count": null,
   "metadata": {},
   "outputs": [],
   "source": []
  },
  {
   "cell_type": "code",
   "execution_count": null,
   "metadata": {},
   "outputs": [],
   "source": []
  },
  {
   "cell_type": "markdown",
   "metadata": {},
   "source": [
    "<font color=red>\n",
    "    x----------------------------------------------------------------x</font>"
   ]
  },
  {
   "cell_type": "markdown",
   "metadata": {},
   "source": [
    "<font color=green>\n",
    "    Determineu les $PAQ$-reduccions de les matrius\n",
    "    $$\n",
    "    \\begin{pmatrix}\n",
    " 2&-8&1&-1\\\\5&-20&-4&-22\\\\-3&12&5&21\n",
    "\\end{pmatrix}, \\quad\n",
    "\\begin{pmatrix}\n",
    " 1&2&3\\\\0&4&6\\\\-1&0&0\n",
    "\\end{pmatrix},\\quad\n",
    "\\begin{pmatrix}\n",
    " 2&3&2&-1\\\\5&8&0&1\\\\1&2&-2&3\n",
    "\\end{pmatrix}.\n",
    "    $$\n",
    "    </font>\n",
    "<font color=green>    \n",
    "    i calculeu una inversa generalitzada per a cada una d'elles a partir del càlculs anteriors. Comproveu si aquestes inverses generalitzades coincideixen amb la que dona la funció <font color=blue>pseudoinverse( )</font>\n",
    "</font>"
   ]
  },
  {
   "cell_type": "markdown",
   "metadata": {},
   "source": [
    "**_Aneu en compte amb el fet que hi ha matrius que no són quadrades_**"
   ]
  },
  {
   "cell_type": "code",
   "execution_count": null,
   "metadata": {},
   "outputs": [],
   "source": [
    "B=Matrix(QQ,3,3,[1,2,3,0,4,6,-1,0,0]);\n",
    "B.rank()"
   ]
  },
  {
   "cell_type": "code",
   "execution_count": null,
   "metadata": {},
   "outputs": [],
   "source": [
    "B.extended_echelon_form()"
   ]
  },
  {
   "cell_type": "code",
   "execution_count": null,
   "metadata": {},
   "outputs": [],
   "source": [
    "rrefB=B.extended_echelon_form().matrix_from_columns([0..2])\n",
    "P=B.extended_echelon_form().matrix_from_columns([3..5])\n",
    "show(P)\n",
    "show(rrefB)"
   ]
  },
  {
   "cell_type": "markdown",
   "metadata": {},
   "source": [
    "<font color=red>\n",
    "    x----------------------------------------------------------------x</font>"
   ]
  },
  {
   "cell_type": "markdown",
   "metadata": {},
   "source": [
    "<font color=green>\n",
    "    Utilitzeu la matriu inversa generalitzada que heu calculat per a donar les solucions del sistema d'equacions\n",
    "    $$\n",
    "    \\begin{pmatrix}\n",
    " 2&-8&1&-1\\\\5&-20&-4&-22\\\\-3&12&5&21\n",
    "\\end{pmatrix}\\cdot \\begin{pmatrix} x1\\\\x2\\\\x3\\\\x4\\end{pmatrix}=\n",
    "\\begin{pmatrix} 9\\\\3\\\\6 \\end{pmatrix}\n",
    "    $$\n",
    "</font>"
   ]
  },
  {
   "cell_type": "markdown",
   "metadata": {},
   "source": [
    "**\n",
    "No us oblideu de comprovar, prèviament, si el sistema és compatible.\n",
    "**"
   ]
  },
  {
   "cell_type": "code",
   "execution_count": null,
   "metadata": {},
   "outputs": [],
   "source": []
  },
  {
   "cell_type": "code",
   "execution_count": null,
   "metadata": {},
   "outputs": [],
   "source": []
  },
  {
   "cell_type": "code",
   "execution_count": null,
   "metadata": {},
   "outputs": [],
   "source": []
  },
  {
   "cell_type": "markdown",
   "metadata": {},
   "source": [
    "<font color=green>\n",
    "    Per què, si apliqueu el mateix mètode al sistema\n",
    "    $$\n",
    "    \\begin{pmatrix}\n",
    " 2&-8&1&-1\\\\5&-20&-4&-22\\\\-3&12&5&21\n",
    "\\end{pmatrix}\\cdot \\begin{pmatrix} x1\\\\x2\\\\x3\\\\x4\\end{pmatrix}=\n",
    "\\begin{pmatrix} 3\\\\-3\\\\1 \\end{pmatrix}\n",
    "    $$\n",
    "i dieu $S$ al vector que apareix, resulta que \n",
    "$$\n",
    "    \\begin{pmatrix}\n",
    " 2&-8&1&-1\\\\5&-20&-4&-22\\\\-3&12&5&21\n",
    "\\end{pmatrix}\\cdot S \\ne \\begin{pmatrix} 3\\\\-3\\\\1 \\end{pmatrix}?\n",
    "    $$\n",
    "</font>"
   ]
  },
  {
   "cell_type": "code",
   "execution_count": null,
   "metadata": {},
   "outputs": [],
   "source": []
  },
  {
   "cell_type": "code",
   "execution_count": null,
   "metadata": {},
   "outputs": [],
   "source": []
  },
  {
   "cell_type": "code",
   "execution_count": null,
   "metadata": {},
   "outputs": [],
   "source": []
  }
 ],
 "metadata": {
  "kernelspec": {
   "display_name": "SageMath 9.3",
   "language": "sage",
   "name": "sagemath"
  },
  "language_info": {
   "codemirror_mode": {
    "name": "ipython",
    "version": 3
   },
   "file_extension": ".py",
   "mimetype": "text/x-python",
   "name": "python",
   "nbconvert_exporter": "python",
   "pygments_lexer": "ipython3",
   "version": "3.7.10"
  }
 },
 "nbformat": 4,
 "nbformat_minor": 2
}
