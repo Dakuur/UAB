{
 "cells": [
  {
   "cell_type": "markdown",
   "metadata": {},
   "source": [
    "# Tema 0"
   ]
  },
  {
   "cell_type": "code",
   "execution_count": 1,
   "metadata": {},
   "outputs": [
    {
     "data": {
      "text/html": [
       "<html><script type=\"math/tex; mode=display\">\\newcommand{\\Bold}[1]{\\mathbf{#1}}\\left(1,\\,2,\\,3,\\,4,\\,5\\right)</script></html>"
      ],
      "text/latex": [
       "$$\\newcommand{\\Bold}[1]{\\mathbf{#1}}\\left(1,\\,2,\\,3,\\,4,\\,5\\right)$$"
      ],
      "text/plain": [
       "(1, 2, 3, 4, 5)"
      ]
     },
     "metadata": {},
     "output_type": "display_data"
    }
   ],
   "source": [
    "#CREAR VECTOR\n",
    "v = vector([1,2,3,4,5])\n",
    "show(v)"
   ]
  },
  {
   "cell_type": "code",
   "execution_count": 2,
   "metadata": {
    "scrolled": false
   },
   "outputs": [
    {
     "data": {
      "text/html": [
       "<html><script type=\"math/tex; mode=display\">\\newcommand{\\Bold}[1]{\\mathbf{#1}}\\left(\\begin{array}{rrr}\n",
       "1 & 2 & 3 \\\\\n",
       "4 & 5 & 6 \\\\\n",
       "7 & 8 & 9\n",
       "\\end{array}\\right)</script></html>"
      ],
      "text/latex": [
       "$$\\newcommand{\\Bold}[1]{\\mathbf{#1}}\\left(\\begin{array}{rrr}\n",
       "1 & 2 & 3 \\\\\n",
       "4 & 5 & 6 \\\\\n",
       "7 & 8 & 9\n",
       "\\end{array}\\right)$$"
      ],
      "text/plain": [
       "[1 2 3]\n",
       "[4 5 6]\n",
       "[7 8 9]"
      ]
     },
     "metadata": {},
     "output_type": "display_data"
    }
   ],
   "source": [
    "#CREAR MATRIU\n",
    "A=Matrix(3,3,[1,2,3,4,5,6,7,8,9])\n",
    "show(A)"
   ]
  },
  {
   "cell_type": "code",
   "execution_count": 3,
   "metadata": {},
   "outputs": [
    {
     "data": {
      "text/html": [
       "<html><script type=\"math/tex; mode=display\">\\newcommand{\\Bold}[1]{\\mathbf{#1}}\\left(\\begin{array}{rrrrr}\n",
       "1 & 0 & 0 & 0 & 0 \\\\\n",
       "0 & 1 & 0 & 0 & 0 \\\\\n",
       "0 & 0 & 1 & 0 & 0 \\\\\n",
       "0 & 0 & 0 & 1 & 0 \\\\\n",
       "0 & 0 & 0 & 0 & 1\n",
       "\\end{array}\\right)</script></html>"
      ],
      "text/latex": [
       "$$\\newcommand{\\Bold}[1]{\\mathbf{#1}}\\left(\\begin{array}{rrrrr}\n",
       "1 & 0 & 0 & 0 & 0 \\\\\n",
       "0 & 1 & 0 & 0 & 0 \\\\\n",
       "0 & 0 & 1 & 0 & 0 \\\\\n",
       "0 & 0 & 0 & 1 & 0 \\\\\n",
       "0 & 0 & 0 & 0 & 1\n",
       "\\end{array}\\right)$$"
      ],
      "text/plain": [
       "[1 0 0 0 0]\n",
       "[0 1 0 0 0]\n",
       "[0 0 1 0 0]\n",
       "[0 0 0 1 0]\n",
       "[0 0 0 0 1]"
      ]
     },
     "metadata": {},
     "output_type": "display_data"
    }
   ],
   "source": [
    "#MATRIU IDENTITAT\n",
    "identitat = identity_matrix(5)\n",
    "show(identitat)"
   ]
  },
  {
   "cell_type": "code",
   "execution_count": 4,
   "metadata": {},
   "outputs": [
    {
     "data": {
      "text/html": [
       "<html><script type=\"math/tex; mode=display\">\\newcommand{\\Bold}[1]{\\mathbf{#1}}\\left(\\begin{array}{rrrrr}\n",
       "0 & 0 & 0 & 0 & 0 \\\\\n",
       "0 & 0 & 0 & 0 & 0 \\\\\n",
       "0 & 0 & 0 & 0 & 0 \\\\\n",
       "0 & 0 & 0 & 0 & 0\n",
       "\\end{array}\\right)</script></html>"
      ],
      "text/latex": [
       "$$\\newcommand{\\Bold}[1]{\\mathbf{#1}}\\left(\\begin{array}{rrrrr}\n",
       "0 & 0 & 0 & 0 & 0 \\\\\n",
       "0 & 0 & 0 & 0 & 0 \\\\\n",
       "0 & 0 & 0 & 0 & 0 \\\\\n",
       "0 & 0 & 0 & 0 & 0\n",
       "\\end{array}\\right)$$"
      ],
      "text/plain": [
       "[0 0 0 0 0]\n",
       "[0 0 0 0 0]\n",
       "[0 0 0 0 0]\n",
       "[0 0 0 0 0]"
      ]
     },
     "metadata": {},
     "output_type": "display_data"
    }
   ],
   "source": [
    "#MATRIU ZEROS\n",
    "zeros = zero_matrix(4,5)\n",
    "show(zeros)"
   ]
  },
  {
   "cell_type": "code",
   "execution_count": 5,
   "metadata": {},
   "outputs": [
    {
     "data": {
      "text/html": [
       "<html><script type=\"math/tex; mode=display\">\\newcommand{\\Bold}[1]{\\mathbf{#1}}\\left(\\begin{array}{rrrrr}\n",
       "1 & 0 & 0 & 0 & 0 \\\\\n",
       "0 & 2 & 0 & 0 & 0 \\\\\n",
       "0 & 0 & 3 & 0 & 0 \\\\\n",
       "0 & 0 & 0 & 4 & 0 \\\\\n",
       "0 & 0 & 0 & 0 & 5\n",
       "\\end{array}\\right)</script></html>"
      ],
      "text/latex": [
       "$$\\newcommand{\\Bold}[1]{\\mathbf{#1}}\\left(\\begin{array}{rrrrr}\n",
       "1 & 0 & 0 & 0 & 0 \\\\\n",
       "0 & 2 & 0 & 0 & 0 \\\\\n",
       "0 & 0 & 3 & 0 & 0 \\\\\n",
       "0 & 0 & 0 & 4 & 0 \\\\\n",
       "0 & 0 & 0 & 0 & 5\n",
       "\\end{array}\\right)$$"
      ],
      "text/plain": [
       "[1 0 0 0 0]\n",
       "[0 2 0 0 0]\n",
       "[0 0 3 0 0]\n",
       "[0 0 0 4 0]\n",
       "[0 0 0 0 5]"
      ]
     },
     "metadata": {},
     "output_type": "display_data"
    }
   ],
   "source": [
    "#MATRIU DIAGONAL\n",
    "diagonal = diagonal_matrix([1,2,3,4,5])\n",
    "show(diagonal)"
   ]
  },
  {
   "cell_type": "code",
   "execution_count": 6,
   "metadata": {},
   "outputs": [
    {
     "data": {
      "text/html": [
       "<html><script type=\"math/tex; mode=display\">\\newcommand{\\Bold}[1]{\\mathbf{#1}}\\left(\\begin{array}{rrrrr|r}\n",
       "1 & 0 & 0 & 0 & 0 & 1 \\\\\n",
       "0 & 2 & 0 & 0 & 0 & 2 \\\\\n",
       "0 & 0 & 3 & 0 & 0 & 3 \\\\\n",
       "0 & 0 & 0 & 4 & 0 & 4 \\\\\n",
       "0 & 0 & 0 & 0 & 5 & 5\n",
       "\\end{array}\\right)</script></html>"
      ],
      "text/latex": [
       "$$\\newcommand{\\Bold}[1]{\\mathbf{#1}}\\left(\\begin{array}{rrrrr|r}\n",
       "1 & 0 & 0 & 0 & 0 & 1 \\\\\n",
       "0 & 2 & 0 & 0 & 0 & 2 \\\\\n",
       "0 & 0 & 3 & 0 & 0 & 3 \\\\\n",
       "0 & 0 & 0 & 4 & 0 & 4 \\\\\n",
       "0 & 0 & 0 & 0 & 5 & 5\n",
       "\\end{array}\\right)$$"
      ],
      "text/plain": [
       "[1 0 0 0 0|1]\n",
       "[0 2 0 0 0|2]\n",
       "[0 0 3 0 0|3]\n",
       "[0 0 0 4 0|4]\n",
       "[0 0 0 0 5|5]"
      ]
     },
     "metadata": {},
     "output_type": "display_data"
    }
   ],
   "source": [
    "#SISTEMA (MATRIU AUGMENTADA)\n",
    "sistema = diagonal.augment(v,subdivide=True)\n",
    "show(sistema)"
   ]
  },
  {
   "cell_type": "code",
   "execution_count": 7,
   "metadata": {},
   "outputs": [
    {
     "data": {
      "text/html": [
       "<html><script type=\"math/tex; mode=display\">\\newcommand{\\Bold}[1]{\\mathbf{#1}}\\left(\\begin{array}{rrrrr|r}\n",
       "1 & 0 & 0 & 0 & 0 & 1 \\\\\n",
       "0 & 0 & 3 & 0 & 0 & 3 \\\\\n",
       "0 & 2 & 0 & 0 & 0 & 2 \\\\\n",
       "0 & 0 & 0 & 4 & 0 & 4 \\\\\n",
       "0 & 0 & 0 & 0 & 5 & 5\n",
       "\\end{array}\\right)</script></html>"
      ],
      "text/latex": [
       "$$\\newcommand{\\Bold}[1]{\\mathbf{#1}}\\left(\\begin{array}{rrrrr|r}\n",
       "1 & 0 & 0 & 0 & 0 & 1 \\\\\n",
       "0 & 0 & 3 & 0 & 0 & 3 \\\\\n",
       "0 & 2 & 0 & 0 & 0 & 2 \\\\\n",
       "0 & 0 & 0 & 4 & 0 & 4 \\\\\n",
       "0 & 0 & 0 & 0 & 5 & 5\n",
       "\\end{array}\\right)$$"
      ],
      "text/plain": [
       "[1 0 0 0 0|1]\n",
       "[0 0 3 0 0|3]\n",
       "[0 2 0 0 0|2]\n",
       "[0 0 0 4 0|4]\n",
       "[0 0 0 0 5|5]"
      ]
     },
     "metadata": {},
     "output_type": "display_data"
    },
    {
     "data": {
      "text/html": [
       "<html><script type=\"math/tex; mode=display\">\\newcommand{\\Bold}[1]{\\mathbf{#1}}\\left(\\begin{array}{rrrrr|r}\n",
       "1 & 0 & 0 & 0 & 0 & 1 \\\\\n",
       "0 & 0 & 3 & 0 & 0 & 3 \\\\\n",
       "0 & 2 & 0 & 0 & 0 & 2 \\\\\n",
       "0 & 0 & 3000 & 4 & 0 & 3004 \\\\\n",
       "0 & 0 & 0 & 0 & 5 & 5\n",
       "\\end{array}\\right)</script></html>"
      ],
      "text/latex": [
       "$$\\newcommand{\\Bold}[1]{\\mathbf{#1}}\\left(\\begin{array}{rrrrr|r}\n",
       "1 & 0 & 0 & 0 & 0 & 1 \\\\\n",
       "0 & 0 & 3 & 0 & 0 & 3 \\\\\n",
       "0 & 2 & 0 & 0 & 0 & 2 \\\\\n",
       "0 & 0 & 3000 & 4 & 0 & 3004 \\\\\n",
       "0 & 0 & 0 & 0 & 5 & 5\n",
       "\\end{array}\\right)$$"
      ],
      "text/plain": [
       "[   1    0    0    0    0|   1]\n",
       "[   0    0    3    0    0|   3]\n",
       "[   0    2    0    0    0|   2]\n",
       "[   0    0 3000    4    0|3004]\n",
       "[   0    0    0    0    5|   5]"
      ]
     },
     "metadata": {},
     "output_type": "display_data"
    },
    {
     "data": {
      "text/html": [
       "<html><script type=\"math/tex; mode=display\">\\newcommand{\\Bold}[1]{\\mathbf{#1}}\\left(\\begin{array}{rrrrr|r}\n",
       "1 & 0 & 0 & 0 & 0 & 1 \\\\\n",
       "0 & 0 & 3 & 0 & 0 & 3 \\\\\n",
       "0 & 2 & 0 & 0 & 0 & 2 \\\\\n",
       "0 & 0 & 3000 & 4 & 0 & 3004 \\\\\n",
       "0 & 0 & 0 & 0 & 50 & 50\n",
       "\\end{array}\\right)</script></html>"
      ],
      "text/latex": [
       "$$\\newcommand{\\Bold}[1]{\\mathbf{#1}}\\left(\\begin{array}{rrrrr|r}\n",
       "1 & 0 & 0 & 0 & 0 & 1 \\\\\n",
       "0 & 0 & 3 & 0 & 0 & 3 \\\\\n",
       "0 & 2 & 0 & 0 & 0 & 2 \\\\\n",
       "0 & 0 & 3000 & 4 & 0 & 3004 \\\\\n",
       "0 & 0 & 0 & 0 & 50 & 50\n",
       "\\end{array}\\right)$$"
      ],
      "text/plain": [
       "[   1    0    0    0    0|   1]\n",
       "[   0    0    3    0    0|   3]\n",
       "[   0    2    0    0    0|   2]\n",
       "[   0    0 3000    4    0|3004]\n",
       "[   0    0    0    0   50|  50]"
      ]
     },
     "metadata": {},
     "output_type": "display_data"
    }
   ],
   "source": [
    "#MODIFICAR MATRIU\n",
    "#OPERACIONS ELEMENTALS\n",
    "\n",
    "sistema.swap_rows(1,2)\n",
    "show(sistema)\n",
    "\n",
    "sistema.add_multiple_of_row(3,1,1000)\n",
    "show(sistema)\n",
    "\n",
    "sistema.rescale_row(4,10)\n",
    "show(sistema)"
   ]
  },
  {
   "cell_type": "code",
   "execution_count": 8,
   "metadata": {},
   "outputs": [
    {
     "data": {
      "text/html": [
       "<html><script type=\"math/tex; mode=display\">\\newcommand{\\Bold}[1]{\\mathbf{#1}}\\left(\\begin{array}{rrrrrrrrrr}\n",
       "4 & 2 & -5 & -5 & 1 & 4 & -2 & 1 & 5 & 2 \\\\\n",
       "-2 & -1 & 3 & -5 & 2 & 1 & -2 & -2 & -5 & 0 \\\\\n",
       "5 & 0 & 3 & 5 & -4 & -5 & 4 & 3 & 0 & 4 \\\\\n",
       "2 & 4 & -5 & 5 & 0 & -5 & -5 & 2 & 2 & 3 \\\\\n",
       "5 & 5 & -5 & 4 & -1 & 0 & 3 & -2 & 4 & 5 \\\\\n",
       "-5 & -5 & -3 & 5 & 4 & 2 & 5 & 0 & 5 & -4 \\\\\n",
       "-3 & 1 & -3 & -5 & 0 & 4 & 2 & 2 & -1 & -5 \\\\\n",
       "2 & 4 & -3 & 5 & 5 & 3 & 0 & 3 & -5 & -4 \\\\\n",
       "-1 & 3 & 3 & 0 & 1 & 5 & 0 & 2 & 0 & 0 \\\\\n",
       "4 & -3 & 2 & 3 & 3 & -1 & -2 & 4 & -2 & 3\n",
       "\\end{array}\\right)</script></html>"
      ],
      "text/latex": [
       "$$\\newcommand{\\Bold}[1]{\\mathbf{#1}}\\left(\\begin{array}{rrrrrrrrrr}\n",
       "4 & 2 & -5 & -5 & 1 & 4 & -2 & 1 & 5 & 2 \\\\\n",
       "-2 & -1 & 3 & -5 & 2 & 1 & -2 & -2 & -5 & 0 \\\\\n",
       "5 & 0 & 3 & 5 & -4 & -5 & 4 & 3 & 0 & 4 \\\\\n",
       "2 & 4 & -5 & 5 & 0 & -5 & -5 & 2 & 2 & 3 \\\\\n",
       "5 & 5 & -5 & 4 & -1 & 0 & 3 & -2 & 4 & 5 \\\\\n",
       "-5 & -5 & -3 & 5 & 4 & 2 & 5 & 0 & 5 & -4 \\\\\n",
       "-3 & 1 & -3 & -5 & 0 & 4 & 2 & 2 & -1 & -5 \\\\\n",
       "2 & 4 & -3 & 5 & 5 & 3 & 0 & 3 & -5 & -4 \\\\\n",
       "-1 & 3 & 3 & 0 & 1 & 5 & 0 & 2 & 0 & 0 \\\\\n",
       "4 & -3 & 2 & 3 & 3 & -1 & -2 & 4 & -2 & 3\n",
       "\\end{array}\\right)$$"
      ],
      "text/plain": [
       "[ 4  2 -5 -5  1  4 -2  1  5  2]\n",
       "[-2 -1  3 -5  2  1 -2 -2 -5  0]\n",
       "[ 5  0  3  5 -4 -5  4  3  0  4]\n",
       "[ 2  4 -5  5  0 -5 -5  2  2  3]\n",
       "[ 5  5 -5  4 -1  0  3 -2  4  5]\n",
       "[-5 -5 -3  5  4  2  5  0  5 -4]\n",
       "[-3  1 -3 -5  0  4  2  2 -1 -5]\n",
       "[ 2  4 -3  5  5  3  0  3 -5 -4]\n",
       "[-1  3  3  0  1  5  0  2  0  0]\n",
       "[ 4 -3  2  3  3 -1 -2  4 -2  3]"
      ]
     },
     "metadata": {},
     "output_type": "display_data"
    }
   ],
   "source": [
    "#GENERACIÓ MATRIUS\n",
    "B = Matrix(ZZ,10,10,[ZZ.random_element(-5,6) for _ in range(10 *10)])\n",
    "show(B)"
   ]
  },
  {
   "cell_type": "markdown",
   "metadata": {},
   "source": [
    "# Tema 1"
   ]
  },
  {
   "cell_type": "code",
   "execution_count": null,
   "metadata": {},
   "outputs": [],
   "source": []
  },
  {
   "cell_type": "markdown",
   "metadata": {},
   "source": [
    "# Tema 2"
   ]
  },
  {
   "cell_type": "code",
   "execution_count": null,
   "metadata": {},
   "outputs": [],
   "source": []
  },
  {
   "cell_type": "markdown",
   "metadata": {},
   "source": [
    "# Tema 3"
   ]
  },
  {
   "cell_type": "code",
   "execution_count": null,
   "metadata": {},
   "outputs": [],
   "source": []
  },
  {
   "cell_type": "markdown",
   "metadata": {},
   "source": [
    "# Tema 4"
   ]
  },
  {
   "cell_type": "code",
   "execution_count": null,
   "metadata": {},
   "outputs": [],
   "source": []
  }
 ],
 "metadata": {
  "kernelspec": {
   "display_name": "SageMath 9.3",
   "language": "sage",
   "name": "sagemath"
  },
  "language_info": {
   "codemirror_mode": {
    "name": "ipython",
    "version": 3
   },
   "file_extension": ".py",
   "mimetype": "text/x-python",
   "name": "python",
   "nbconvert_exporter": "python",
   "pygments_lexer": "ipython3",
   "version": "3.7.10"
  }
 },
 "nbformat": 4,
 "nbformat_minor": 5
}
