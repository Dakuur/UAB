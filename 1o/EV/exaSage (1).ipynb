{
 "cells": [
  {
   "cell_type": "markdown",
   "metadata": {},
   "source": [
    "# <font color=red> Prova SageMath d'Espais Vectorials, versió A </font>"
   ]
  },
  {
   "cell_type": "code",
   "execution_count": 2,
   "metadata": {},
   "outputs": [],
   "source": [
    "#Nom: David Morillo Massagué\n",
    "#NIU: 1666540"
   ]
  },
  {
   "cell_type": "markdown",
   "metadata": {},
   "source": [
    "<font color=green> Construiu una matriu $B1$ formada pels vectors $\\vec{v_1}=(1,2,3,4,5,6,7)$ i $\\vec{v_2}$ el vostre NIU com a files. </font>"
   ]
  },
  {
   "cell_type": "code",
   "execution_count": 3,
   "metadata": {},
   "outputs": [
    {
     "data": {
      "text/html": [
       "<html><script type=\"math/tex; mode=display\">\\newcommand{\\Bold}[1]{\\mathbf{#1}}\\left(\\begin{array}{rrrrrrr}\n",
       "1 & 2 & 3 & 4 & 5 & 6 & 7 \\\\\n",
       "1 & 6 & 6 & 6 & 5 & 4 & 0\n",
       "\\end{array}\\right)</script></html>"
      ],
      "text/latex": [
       "$$\\newcommand{\\Bold}[1]{\\mathbf{#1}}\\left(\\begin{array}{rrrrrrr}\n",
       "1 & 2 & 3 & 4 & 5 & 6 & 7 \\\\\n",
       "1 & 6 & 6 & 6 & 5 & 4 & 0\n",
       "\\end{array}\\right)$$"
      ],
      "text/plain": [
       "[1 2 3 4 5 6 7]\n",
       "[1 6 6 6 5 4 0]"
      ]
     },
     "metadata": {},
     "output_type": "display_data"
    }
   ],
   "source": [
    "v1 = vector([1,2,3,4,5,6,7])\n",
    "v2 = vector([1,6,6,6,5,4,0])\n",
    "B1 = Matrix(2,7,[v1,v2])\n",
    "show(B1)"
   ]
  },
  {
   "cell_type": "markdown",
   "metadata": {},
   "source": [
    "<font color=green> Construiu la matriu A formada afegint a la matriu A1 que us donem la matriu $B1$ anterior com a les primeres dos files. No si val a tornar-la a escriure! </font>"
   ]
  },
  {
   "cell_type": "code",
   "execution_count": 4,
   "metadata": {},
   "outputs": [],
   "source": [
    "A1=matrix(QQ,5,7,[[0, 1, 2, 3, 4, 5, 6],\n",
    " [0, 2, 4, 6, 8, 10, 12],\n",
    " [0, 3, 4, 5, 6, 7, 8],\n",
    " [0, 6, 5, 4, 3, 2, 1],\n",
    " [0, 1, 1, 1, 1, 1, 0]])"
   ]
  },
  {
   "cell_type": "code",
   "execution_count": 5,
   "metadata": {},
   "outputs": [
    {
     "data": {
      "text/html": [
       "<html><script type=\"math/tex; mode=display\">\\newcommand{\\Bold}[1]{\\mathbf{#1}}\\left(\\begin{array}{rrrrrrr}\n",
       "1 & 2 & 3 & 4 & 5 & 6 & 7 \\\\\n",
       "1 & 6 & 6 & 6 & 5 & 4 & 0 \\\\\n",
       "0 & 1 & 2 & 3 & 4 & 5 & 6 \\\\\n",
       "0 & 2 & 4 & 6 & 8 & 10 & 12 \\\\\n",
       "0 & 3 & 4 & 5 & 6 & 7 & 8 \\\\\n",
       "0 & 6 & 5 & 4 & 3 & 2 & 1 \\\\\n",
       "0 & 1 & 1 & 1 & 1 & 1 & 0\n",
       "\\end{array}\\right)</script></html>"
      ],
      "text/latex": [
       "$$\\newcommand{\\Bold}[1]{\\mathbf{#1}}\\left(\\begin{array}{rrrrrrr}\n",
       "1 & 2 & 3 & 4 & 5 & 6 & 7 \\\\\n",
       "1 & 6 & 6 & 6 & 5 & 4 & 0 \\\\\n",
       "0 & 1 & 2 & 3 & 4 & 5 & 6 \\\\\n",
       "0 & 2 & 4 & 6 & 8 & 10 & 12 \\\\\n",
       "0 & 3 & 4 & 5 & 6 & 7 & 8 \\\\\n",
       "0 & 6 & 5 & 4 & 3 & 2 & 1 \\\\\n",
       "0 & 1 & 1 & 1 & 1 & 1 & 0\n",
       "\\end{array}\\right)$$"
      ],
      "text/plain": [
       "[ 1  2  3  4  5  6  7]\n",
       "[ 1  6  6  6  5  4  0]\n",
       "[ 0  1  2  3  4  5  6]\n",
       "[ 0  2  4  6  8 10 12]\n",
       "[ 0  3  4  5  6  7  8]\n",
       "[ 0  6  5  4  3  2  1]\n",
       "[ 0  1  1  1  1  1  0]"
      ]
     },
     "metadata": {},
     "output_type": "display_data"
    }
   ],
   "source": [
    "A = B1.transpose().augment(A1.transpose()).transpose()\n",
    "show(A)"
   ]
  },
  {
   "cell_type": "markdown",
   "metadata": {},
   "source": [
    "<font color=green> Construiu una matriu $B$  de mida $4\\times 4$ obtinguda prenent les 4 primeres files i columnes de la matriu A i transposant-la. </font>"
   ]
  },
  {
   "cell_type": "code",
   "execution_count": 6,
   "metadata": {},
   "outputs": [
    {
     "data": {
      "text/html": [
       "<html><script type=\"math/tex; mode=display\">\\newcommand{\\Bold}[1]{\\mathbf{#1}}\\left(\\begin{array}{rrrr}\n",
       "1 & 1 & 0 & 0 \\\\\n",
       "2 & 6 & 1 & 2 \\\\\n",
       "3 & 6 & 2 & 4 \\\\\n",
       "4 & 6 & 3 & 6\n",
       "\\end{array}\\right)</script></html>"
      ],
      "text/latex": [
       "$$\\newcommand{\\Bold}[1]{\\mathbf{#1}}\\left(\\begin{array}{rrrr}\n",
       "1 & 1 & 0 & 0 \\\\\n",
       "2 & 6 & 1 & 2 \\\\\n",
       "3 & 6 & 2 & 4 \\\\\n",
       "4 & 6 & 3 & 6\n",
       "\\end{array}\\right)$$"
      ],
      "text/plain": [
       "[1 1 0 0]\n",
       "[2 6 1 2]\n",
       "[3 6 2 4]\n",
       "[4 6 3 6]"
      ]
     },
     "metadata": {},
     "output_type": "display_data"
    }
   ],
   "source": [
    "B = A.matrix_from_rows_and_columns([0..3], [0..3]).transpose()\n",
    "B = Matrix(QQ, B)\n",
    "show(B)"
   ]
  },
  {
   "cell_type": "markdown",
   "metadata": {},
   "source": [
    "<font color=green> Calculeu la forma esglaonada reduida de $B$. </font>"
   ]
  },
  {
   "cell_type": "code",
   "execution_count": 7,
   "metadata": {},
   "outputs": [
    {
     "data": {
      "text/html": [
       "<html><script type=\"math/tex; mode=display\">\\newcommand{\\Bold}[1]{\\mathbf{#1}}\\left(\\begin{array}{rrrr}\n",
       "1 & 0 & 0 & 0 \\\\\n",
       "0 & 1 & 0 & 0 \\\\\n",
       "0 & 0 & 1 & 2 \\\\\n",
       "0 & 0 & 0 & 0\n",
       "\\end{array}\\right)</script></html>"
      ],
      "text/latex": [
       "$$\\newcommand{\\Bold}[1]{\\mathbf{#1}}\\left(\\begin{array}{rrrr}\n",
       "1 & 0 & 0 & 0 \\\\\n",
       "0 & 1 & 0 & 0 \\\\\n",
       "0 & 0 & 1 & 2 \\\\\n",
       "0 & 0 & 0 & 0\n",
       "\\end{array}\\right)$$"
      ],
      "text/plain": [
       "[1 0 0 0]\n",
       "[0 1 0 0]\n",
       "[0 0 1 2]\n",
       "[0 0 0 0]"
      ]
     },
     "metadata": {},
     "output_type": "display_data"
    }
   ],
   "source": [
    "B_echelon = B.echelon_form()\n",
    "show(B_echelon)"
   ]
  },
  {
   "cell_type": "markdown",
   "metadata": {},
   "source": [
    "<font color=green> Calculeu la PAQ-reducció de la matriu B. Cal donar una matriu P i una matriu Q de forma que la matriu $PBQ$ tingui zeros fora de la diagonal i a la diagonal només hi ha 1 o 0. </font>"
   ]
  },
  {
   "cell_type": "code",
   "execution_count": 8,
   "metadata": {},
   "outputs": [
    {
     "data": {
      "text/html": [
       "<html><script type=\"math/tex; mode=display\">\\newcommand{\\Bold}[1]{\\mathbf{#1}}\\verb|P| \\left(\\begin{array}{rrrr}\n",
       "\\frac{6}{5} & 0 & -\\frac{3}{5} & \\frac{2}{5} \\\\\n",
       "-\\frac{1}{5} & 0 & \\frac{3}{5} & -\\frac{2}{5} \\\\\n",
       "-\\frac{6}{5} & 0 & -\\frac{2}{5} & \\frac{3}{5} \\\\\n",
       "0 & 1 & -2 & 1\n",
       "\\end{array}\\right)</script></html>"
      ],
      "text/latex": [
       "$$\\newcommand{\\Bold}[1]{\\mathbf{#1}}\\verb|P| \\left(\\begin{array}{rrrr}\n",
       "\\frac{6}{5} & 0 & -\\frac{3}{5} & \\frac{2}{5} \\\\\n",
       "-\\frac{1}{5} & 0 & \\frac{3}{5} & -\\frac{2}{5} \\\\\n",
       "-\\frac{6}{5} & 0 & -\\frac{2}{5} & \\frac{3}{5} \\\\\n",
       "0 & 1 & -2 & 1\n",
       "\\end{array}\\right)$$"
      ],
      "text/plain": [
       "'P' [ 6/5    0 -3/5  2/5]\n",
       "[-1/5    0  3/5 -2/5]\n",
       "[-6/5    0 -2/5  3/5]\n",
       "[   0    1   -2    1]"
      ]
     },
     "metadata": {},
     "output_type": "display_data"
    },
    {
     "data": {
      "text/html": [
       "<html><script type=\"math/tex; mode=display\">\\newcommand{\\Bold}[1]{\\mathbf{#1}}\\verb|B| \\left(\\begin{array}{rrrr}\n",
       "1 & 1 & 0 & 0 \\\\\n",
       "2 & 6 & 1 & 2 \\\\\n",
       "3 & 6 & 2 & 4 \\\\\n",
       "4 & 6 & 3 & 6\n",
       "\\end{array}\\right)</script></html>"
      ],
      "text/latex": [
       "$$\\newcommand{\\Bold}[1]{\\mathbf{#1}}\\verb|B| \\left(\\begin{array}{rrrr}\n",
       "1 & 1 & 0 & 0 \\\\\n",
       "2 & 6 & 1 & 2 \\\\\n",
       "3 & 6 & 2 & 4 \\\\\n",
       "4 & 6 & 3 & 6\n",
       "\\end{array}\\right)$$"
      ],
      "text/plain": [
       "'B' [1 1 0 0]\n",
       "[2 6 1 2]\n",
       "[3 6 2 4]\n",
       "[4 6 3 6]"
      ]
     },
     "metadata": {},
     "output_type": "display_data"
    },
    {
     "data": {
      "text/html": [
       "<html><script type=\"math/tex; mode=display\">\\newcommand{\\Bold}[1]{\\mathbf{#1}}\\verb|Q| \\left(\\begin{array}{rrrr}\n",
       "1 & 0 & 0 & 0 \\\\\n",
       "0 & 1 & 0 & 0 \\\\\n",
       "0 & 0 & 0 & 1 \\\\\n",
       "0 & 0 & \\frac{1}{2} & -\\frac{1}{2}\n",
       "\\end{array}\\right)</script></html>"
      ],
      "text/latex": [
       "$$\\newcommand{\\Bold}[1]{\\mathbf{#1}}\\verb|Q| \\left(\\begin{array}{rrrr}\n",
       "1 & 0 & 0 & 0 \\\\\n",
       "0 & 1 & 0 & 0 \\\\\n",
       "0 & 0 & 0 & 1 \\\\\n",
       "0 & 0 & \\frac{1}{2} & -\\frac{1}{2}\n",
       "\\end{array}\\right)$$"
      ],
      "text/plain": [
       "'Q' [   1    0    0    0]\n",
       "[   0    1    0    0]\n",
       "[   0    0    0    1]\n",
       "[   0    0  1/2 -1/2]"
      ]
     },
     "metadata": {},
     "output_type": "display_data"
    },
    {
     "data": {
      "text/html": [
       "<html><script type=\"math/tex; mode=display\">\\newcommand{\\Bold}[1]{\\mathbf{#1}}\\verb|PBQ| \\left(\\begin{array}{rrrr}\n",
       "1 & 0 & 0 & 0 \\\\\n",
       "0 & 1 & 0 & 0 \\\\\n",
       "0 & 0 & 1 & 0 \\\\\n",
       "0 & 0 & 0 & 0\n",
       "\\end{array}\\right)</script></html>"
      ],
      "text/latex": [
       "$$\\newcommand{\\Bold}[1]{\\mathbf{#1}}\\verb|PBQ| \\left(\\begin{array}{rrrr}\n",
       "1 & 0 & 0 & 0 \\\\\n",
       "0 & 1 & 0 & 0 \\\\\n",
       "0 & 0 & 1 & 0 \\\\\n",
       "0 & 0 & 0 & 0\n",
       "\\end{array}\\right)$$"
      ],
      "text/plain": [
       "'PBQ' [1 0 0 0]\n",
       "[0 1 0 0]\n",
       "[0 0 1 0]\n",
       "[0 0 0 0]"
      ]
     },
     "metadata": {},
     "output_type": "display_data"
    }
   ],
   "source": [
    "New=B.extended_echelon_form()\n",
    "B_rf=B.extended_echelon_form().matrix_from_columns([0..3])\n",
    "P=B.extended_echelon_form().matrix_from_columns([4..7])\n",
    "\n",
    "show(\"P\", P)\n",
    "\n",
    "show(\"B\", B)\n",
    "\n",
    "TB_rf=B_rf.transpose();\n",
    "New2=TB_rf.extended_echelon_form()\n",
    "transQ=TB_rf.extended_echelon_form().matrix_from_columns([4..7])\n",
    "PAQred=TB_rf.extended_echelon_form().matrix_from_columns([0..3])\n",
    "Q=transQ.transpose()\n",
    "\n",
    "show(\"Q\", Q)\n",
    "\n",
    "show(\"PBQ\", P*B*Q)"
   ]
  },
  {
   "cell_type": "markdown",
   "metadata": {},
   "source": [
    "<font color=green> La següent funció retorna, per a cada matriu A, true o false depenen de si A té una certa forma o no la té. Quina forma? </font>"
   ]
  },
  {
   "cell_type": "code",
   "execution_count": 9,
   "metadata": {},
   "outputs": [],
   "source": [
    "def NoSeQueFa(A):\n",
    "    n=A.nrows()\n",
    "    m=A.ncols()\n",
    "    if n!=m: #si la matriu no és quadrada retorna False\n",
    "        return(False)\n",
    "    for i in range(n):\n",
    "        for j in range(m):\n",
    "            if i>j and A[i,j]!=0:\n",
    "                return(False)\n",
    "    return(True)"
   ]
  },
  {
   "cell_type": "code",
   "execution_count": 10,
   "metadata": {},
   "outputs": [],
   "source": [
    "#Primer comprova que la matriu és quadrada\n",
    "#Després recorre tots el elements i comprova si la matriu és una matriu triangular superior o no.\n",
    "#Aquesta forma de matriu té tots els elements per sota de la diagonal iguals a zero"
   ]
  },
  {
   "cell_type": "code",
   "execution_count": 11,
   "metadata": {},
   "outputs": [
    {
     "data": {
      "text/html": [
       "<html><script type=\"math/tex; mode=display\">\\newcommand{\\Bold}[1]{\\mathbf{#1}}\\left(\\begin{array}{rrr}\n",
       "1 & 0 & 0 \\\\\n",
       "2 & 3 & 0 \\\\\n",
       "2 & 3 & 4\n",
       "\\end{array}\\right)</script></html>"
      ],
      "text/latex": [
       "$$\\newcommand{\\Bold}[1]{\\mathbf{#1}}\\left(\\begin{array}{rrr}\n",
       "1 & 0 & 0 \\\\\n",
       "2 & 3 & 0 \\\\\n",
       "2 & 3 & 4\n",
       "\\end{array}\\right)$$"
      ],
      "text/plain": [
       "[1 0 0]\n",
       "[2 3 0]\n",
       "[2 3 4]"
      ]
     },
     "metadata": {},
     "output_type": "display_data"
    },
    {
     "name": "stdout",
     "output_type": "stream",
     "text": [
      "False\n"
     ]
    },
    {
     "data": {
      "text/html": [
       "<html><script type=\"math/tex; mode=display\">\\newcommand{\\Bold}[1]{\\mathbf{#1}}\\left(\\begin{array}{rrr}\n",
       "1 & 0 & 0 \\\\\n",
       "0 & 0 & 0 \\\\\n",
       "2 & 3 & 4\n",
       "\\end{array}\\right)</script></html>"
      ],
      "text/latex": [
       "$$\\newcommand{\\Bold}[1]{\\mathbf{#1}}\\left(\\begin{array}{rrr}\n",
       "1 & 0 & 0 \\\\\n",
       "0 & 0 & 0 \\\\\n",
       "2 & 3 & 4\n",
       "\\end{array}\\right)$$"
      ],
      "text/plain": [
       "[1 0 0]\n",
       "[0 0 0]\n",
       "[2 3 4]"
      ]
     },
     "metadata": {},
     "output_type": "display_data"
    },
    {
     "name": "stdout",
     "output_type": "stream",
     "text": [
      "False\n"
     ]
    },
    {
     "data": {
      "text/html": [
       "<html><script type=\"math/tex; mode=display\">\\newcommand{\\Bold}[1]{\\mathbf{#1}}\\left(\\begin{array}{rrr}\n",
       "1 & 0 & -5 \\\\\n",
       "0 & 0 & 0 \\\\\n",
       "2 & 0 & 0\n",
       "\\end{array}\\right)</script></html>"
      ],
      "text/latex": [
       "$$\\newcommand{\\Bold}[1]{\\mathbf{#1}}\\left(\\begin{array}{rrr}\n",
       "1 & 0 & -5 \\\\\n",
       "0 & 0 & 0 \\\\\n",
       "2 & 0 & 0\n",
       "\\end{array}\\right)$$"
      ],
      "text/plain": [
       "[ 1  0 -5]\n",
       "[ 0  0  0]\n",
       "[ 2  0  0]"
      ]
     },
     "metadata": {},
     "output_type": "display_data"
    },
    {
     "name": "stdout",
     "output_type": "stream",
     "text": [
      "False\n"
     ]
    }
   ],
   "source": [
    "#Comprovem la funció anterior\n",
    "M = Matrix(3,3,[1,0,0,2,3,0,2,3,4])\n",
    "show(M)\n",
    "print(NoSeQueFa(M))\n",
    "M = Matrix(3,3,[1,0,0,0,0,0,2,3,4])\n",
    "show(M)\n",
    "print(NoSeQueFa(M))\n",
    "M = Matrix(3,3,[1,0,0-5,0,0,0,2,0,0])\n",
    "show(M)\n",
    "print(NoSeQueFa(M))"
   ]
  },
  {
   "cell_type": "markdown",
   "metadata": {},
   "source": [
    "<font color=green> Escriu una funció EsOrtogonal tal que, donada una matriu quadrada $Q$ retorni true or false depenen de si $Q$ és o no és una matriu ortogonal. </font>"
   ]
  },
  {
   "cell_type": "code",
   "execution_count": 12,
   "metadata": {},
   "outputs": [],
   "source": [
    "def EsOrtogonal(M):\n",
    "    rows = M.rows()\n",
    "    for a in range(M.nrows()):\n",
    "        for i in range(M.nrows()):\n",
    "            if rows[i] != rows[a]:\n",
    "                if rows[i] * rows[a] != 0:\n",
    "                    print(vector(rows[i]) * vector(rows[0]), f\"= {vector(rows[a])} * {vector(rows[i])}\", \"diferente que\", 0)\n",
    "                    return False\n",
    "    return True"
   ]
  },
  {
   "cell_type": "code",
   "execution_count": 13,
   "metadata": {},
   "outputs": [
    {
     "data": {
      "text/html": [
       "<html><script type=\"math/tex; mode=display\">\\newcommand{\\Bold}[1]{\\mathbf{#1}}\\left(\\begin{array}{rrrrr}\n",
       "1 & 0 & 0 & 0 & 0 \\\\\n",
       "0 & 1 & 0 & 0 & 0 \\\\\n",
       "0 & 0 & 1 & 0 & 0 \\\\\n",
       "0 & 0 & 0 & 1 & 0 \\\\\n",
       "0 & 0 & 0 & 0 & 1\n",
       "\\end{array}\\right)</script></html>"
      ],
      "text/latex": [
       "$$\\newcommand{\\Bold}[1]{\\mathbf{#1}}\\left(\\begin{array}{rrrrr}\n",
       "1 & 0 & 0 & 0 & 0 \\\\\n",
       "0 & 1 & 0 & 0 & 0 \\\\\n",
       "0 & 0 & 1 & 0 & 0 \\\\\n",
       "0 & 0 & 0 & 1 & 0 \\\\\n",
       "0 & 0 & 0 & 0 & 1\n",
       "\\end{array}\\right)$$"
      ],
      "text/plain": [
       "[1 0 0 0 0]\n",
       "[0 1 0 0 0]\n",
       "[0 0 1 0 0]\n",
       "[0 0 0 1 0]\n",
       "[0 0 0 0 1]"
      ]
     },
     "metadata": {},
     "output_type": "display_data"
    },
    {
     "name": "stdout",
     "output_type": "stream",
     "text": [
      "True\n"
     ]
    },
    {
     "data": {
      "text/html": [
       "<html><script type=\"math/tex; mode=display\">\\newcommand{\\Bold}[1]{\\mathbf{#1}}\\left(\\begin{array}{rrrr}\n",
       "1 & 0 & 0 & 0 \\\\\n",
       "0 & 2 & 0 & 0 \\\\\n",
       "0 & 0 & 3 & 0 \\\\\n",
       "0 & 0 & 0 & 4\n",
       "\\end{array}\\right)</script></html>"
      ],
      "text/latex": [
       "$$\\newcommand{\\Bold}[1]{\\mathbf{#1}}\\left(\\begin{array}{rrrr}\n",
       "1 & 0 & 0 & 0 \\\\\n",
       "0 & 2 & 0 & 0 \\\\\n",
       "0 & 0 & 3 & 0 \\\\\n",
       "0 & 0 & 0 & 4\n",
       "\\end{array}\\right)$$"
      ],
      "text/plain": [
       "[1 0 0 0]\n",
       "[0 2 0 0]\n",
       "[0 0 3 0]\n",
       "[0 0 0 4]"
      ]
     },
     "metadata": {},
     "output_type": "display_data"
    },
    {
     "name": "stdout",
     "output_type": "stream",
     "text": [
      "True\n"
     ]
    },
    {
     "data": {
      "text/html": [
       "<html><script type=\"math/tex; mode=display\">\\newcommand{\\Bold}[1]{\\mathbf{#1}}\\left(\\begin{array}{rrr}\n",
       "1 & 0 & -5 \\\\\n",
       "0 & 0 & 0 \\\\\n",
       "2 & 0 & 0\n",
       "\\end{array}\\right)</script></html>"
      ],
      "text/latex": [
       "$$\\newcommand{\\Bold}[1]{\\mathbf{#1}}\\left(\\begin{array}{rrr}\n",
       "1 & 0 & -5 \\\\\n",
       "0 & 0 & 0 \\\\\n",
       "2 & 0 & 0\n",
       "\\end{array}\\right)$$"
      ],
      "text/plain": [
       "[ 1  0 -5]\n",
       "[ 0  0  0]\n",
       "[ 2  0  0]"
      ]
     },
     "metadata": {},
     "output_type": "display_data"
    },
    {
     "name": "stdout",
     "output_type": "stream",
     "text": [
      "2 = (1, 0, -5) * (2, 0, 0) diferente que 0\n",
      "False\n"
     ]
    }
   ],
   "source": [
    "#Comprovem la funció\n",
    "Q = identity_matrix(5)\n",
    "show(Q)\n",
    "print(EsOrtogonal(Q))\n",
    "\n",
    "Q = diagonal_matrix([1,2,3,4])\n",
    "show(Q)\n",
    "print(EsOrtogonal(Q))\n",
    "\n",
    "Q = Matrix(3,3,[1,0,0-5,0,0,0,2,0,0])\n",
    "show(Q)\n",
    "print(EsOrtogonal(Q))"
   ]
  },
  {
   "cell_type": "markdown",
   "metadata": {},
   "source": [
    "<font color=green> Definiu el subespai $F$ de $\\mathbb{R}^7$ format per les primeres 4 files de la matriu $A$. </font>"
   ]
  },
  {
   "cell_type": "code",
   "execution_count": 14,
   "metadata": {},
   "outputs": [
    {
     "data": {
      "text/html": [
       "<html><script type=\"math/tex; mode=display\">\\newcommand{\\Bold}[1]{\\mathbf{#1}}\\left(\\begin{array}{rrrrrrr}\n",
       "1 & 2 & 3 & 4 & 5 & 6 & 7 \\\\\n",
       "1 & 6 & 6 & 6 & 5 & 4 & 0 \\\\\n",
       "0 & 1 & 2 & 3 & 4 & 5 & 6 \\\\\n",
       "0 & 2 & 4 & 6 & 8 & 10 & 12\n",
       "\\end{array}\\right)</script></html>"
      ],
      "text/latex": [
       "$$\\newcommand{\\Bold}[1]{\\mathbf{#1}}\\left(\\begin{array}{rrrrrrr}\n",
       "1 & 2 & 3 & 4 & 5 & 6 & 7 \\\\\n",
       "1 & 6 & 6 & 6 & 5 & 4 & 0 \\\\\n",
       "0 & 1 & 2 & 3 & 4 & 5 & 6 \\\\\n",
       "0 & 2 & 4 & 6 & 8 & 10 & 12\n",
       "\\end{array}\\right)$$"
      ],
      "text/plain": [
       "[ 1  2  3  4  5  6  7]\n",
       "[ 1  6  6  6  5  4  0]\n",
       "[ 0  1  2  3  4  5  6]\n",
       "[ 0  2  4  6  8 10 12]"
      ]
     },
     "metadata": {},
     "output_type": "display_data"
    },
    {
     "data": {
      "text/html": [
       "<html><script type=\"math/tex; mode=display\">\\newcommand{\\Bold}[1]{\\mathbf{#1}}\\mathrm{RowSpan}_{\\Bold{Q}}\\left(\\begin{array}{rrrrrrr}\n",
       "1 & 0 & 0 & 0 & \\frac{1}{5} & \\frac{2}{5} & \\frac{6}{5} \\\\\n",
       "0 & 1 & 0 & -1 & -\\frac{12}{5} & -\\frac{19}{5} & -\\frac{32}{5} \\\\\n",
       "0 & 0 & 1 & 2 & \\frac{16}{5} & \\frac{22}{5} & \\frac{31}{5}\n",
       "\\end{array}\\right)</script></html>"
      ],
      "text/latex": [
       "$$\\newcommand{\\Bold}[1]{\\mathbf{#1}}\\mathrm{RowSpan}_{\\Bold{Q}}\\left(\\begin{array}{rrrrrrr}\n",
       "1 & 0 & 0 & 0 & \\frac{1}{5} & \\frac{2}{5} & \\frac{6}{5} \\\\\n",
       "0 & 1 & 0 & -1 & -\\frac{12}{5} & -\\frac{19}{5} & -\\frac{32}{5} \\\\\n",
       "0 & 0 & 1 & 2 & \\frac{16}{5} & \\frac{22}{5} & \\frac{31}{5}\n",
       "\\end{array}\\right)$$"
      ],
      "text/plain": [
       "Vector space of degree 7 and dimension 3 over Rational Field\n",
       "Basis matrix:\n",
       "[    1     0     0     0   1/5   2/5   6/5]\n",
       "[    0     1     0    -1 -12/5 -19/5 -32/5]\n",
       "[    0     0     1     2  16/5  22/5  31/5]"
      ]
     },
     "metadata": {},
     "output_type": "display_data"
    },
    {
     "data": {
      "text/html": [
       "<html><script type=\"math/tex; mode=display\">\\newcommand{\\Bold}[1]{\\mathbf{#1}}\\left[\\left(1,\\,0,\\,0,\\,0,\\,\\frac{1}{5},\\,\\frac{2}{5},\\,\\frac{6}{5}\\right), \\left(0,\\,1,\\,0,\\,-1,\\,-\\frac{12}{5},\\,-\\frac{19}{5},\\,-\\frac{32}{5}\\right), \\left(0,\\,0,\\,1,\\,2,\\,\\frac{16}{5},\\,\\frac{22}{5},\\,\\frac{31}{5}\\right)\\right]</script></html>"
      ],
      "text/latex": [
       "$$\\newcommand{\\Bold}[1]{\\mathbf{#1}}\\left[\\left(1,\\,0,\\,0,\\,0,\\,\\frac{1}{5},\\,\\frac{2}{5},\\,\\frac{6}{5}\\right), \\left(0,\\,1,\\,0,\\,-1,\\,-\\frac{12}{5},\\,-\\frac{19}{5},\\,-\\frac{32}{5}\\right), \\left(0,\\,0,\\,1,\\,2,\\,\\frac{16}{5},\\,\\frac{22}{5},\\,\\frac{31}{5}\\right)\\right]$$"
      ],
      "text/plain": [
       "[\n",
       "(1, 0, 0, 0, 1/5, 2/5, 6/5),\n",
       "(0, 1, 0, -1, -12/5, -19/5, -32/5),\n",
       "(0, 0, 1, 2, 16/5, 22/5, 31/5)\n",
       "]"
      ]
     },
     "metadata": {},
     "output_type": "display_data"
    }
   ],
   "source": [
    "A1 = A.matrix_from_rows([0..3])\n",
    "show(A1)\n",
    "F = (QQ^7).span(A1)\n",
    "show(F)\n",
    "\n",
    "basesF = F.basis()\n",
    "show(basesF)"
   ]
  },
  {
   "cell_type": "markdown",
   "metadata": {},
   "source": [
    "<font color=green> Definiu el subespai $G$ de $\\mathbb{Q}^7$ format per les primeres 4 columnes de la matriu $A$. </font>"
   ]
  },
  {
   "cell_type": "code",
   "execution_count": 15,
   "metadata": {},
   "outputs": [
    {
     "data": {
      "text/html": [
       "<html><script type=\"math/tex; mode=display\">\\newcommand{\\Bold}[1]{\\mathbf{#1}}\\left(\\begin{array}{rrrrrrr}\n",
       "1 & 1 & 0 & 0 & 0 & 0 & 0 \\\\\n",
       "2 & 6 & 1 & 2 & 3 & 6 & 1 \\\\\n",
       "3 & 6 & 2 & 4 & 4 & 5 & 1 \\\\\n",
       "4 & 6 & 3 & 6 & 5 & 4 & 1\n",
       "\\end{array}\\right)</script></html>"
      ],
      "text/latex": [
       "$$\\newcommand{\\Bold}[1]{\\mathbf{#1}}\\left(\\begin{array}{rrrrrrr}\n",
       "1 & 1 & 0 & 0 & 0 & 0 & 0 \\\\\n",
       "2 & 6 & 1 & 2 & 3 & 6 & 1 \\\\\n",
       "3 & 6 & 2 & 4 & 4 & 5 & 1 \\\\\n",
       "4 & 6 & 3 & 6 & 5 & 4 & 1\n",
       "\\end{array}\\right)$$"
      ],
      "text/plain": [
       "[1 1 0 0 0 0 0]\n",
       "[2 6 1 2 3 6 1]\n",
       "[3 6 2 4 4 5 1]\n",
       "[4 6 3 6 5 4 1]"
      ]
     },
     "metadata": {},
     "output_type": "display_data"
    },
    {
     "data": {
      "text/html": [
       "<html><script type=\"math/tex; mode=display\">\\newcommand{\\Bold}[1]{\\mathbf{#1}}\\mathrm{RowSpan}_{\\Bold{Q}}\\left(\\begin{array}{rrrrrrr}\n",
       "1 & 0 & 0 & 0 & -\\frac{2}{5} & -\\frac{7}{5} & -\\frac{1}{5} \\\\\n",
       "0 & 1 & 0 & 0 & \\frac{2}{5} & \\frac{7}{5} & \\frac{1}{5} \\\\\n",
       "0 & 0 & 1 & 2 & \\frac{7}{5} & \\frac{2}{5} & \\frac{1}{5}\n",
       "\\end{array}\\right)</script></html>"
      ],
      "text/latex": [
       "$$\\newcommand{\\Bold}[1]{\\mathbf{#1}}\\mathrm{RowSpan}_{\\Bold{Q}}\\left(\\begin{array}{rrrrrrr}\n",
       "1 & 0 & 0 & 0 & -\\frac{2}{5} & -\\frac{7}{5} & -\\frac{1}{5} \\\\\n",
       "0 & 1 & 0 & 0 & \\frac{2}{5} & \\frac{7}{5} & \\frac{1}{5} \\\\\n",
       "0 & 0 & 1 & 2 & \\frac{7}{5} & \\frac{2}{5} & \\frac{1}{5}\n",
       "\\end{array}\\right)$$"
      ],
      "text/plain": [
       "Vector space of degree 7 and dimension 3 over Rational Field\n",
       "Basis matrix:\n",
       "[   1    0    0    0 -2/5 -7/5 -1/5]\n",
       "[   0    1    0    0  2/5  7/5  1/5]\n",
       "[   0    0    1    2  7/5  2/5  1/5]"
      ]
     },
     "metadata": {},
     "output_type": "display_data"
    },
    {
     "data": {
      "text/html": [
       "<html><script type=\"math/tex; mode=display\">\\newcommand{\\Bold}[1]{\\mathbf{#1}}\\left[\\left(1,\\,0,\\,0,\\,0,\\,-\\frac{2}{5},\\,-\\frac{7}{5},\\,-\\frac{1}{5}\\right), \\left(0,\\,1,\\,0,\\,0,\\,\\frac{2}{5},\\,\\frac{7}{5},\\,\\frac{1}{5}\\right), \\left(0,\\,0,\\,1,\\,2,\\,\\frac{7}{5},\\,\\frac{2}{5},\\,\\frac{1}{5}\\right)\\right]</script></html>"
      ],
      "text/latex": [
       "$$\\newcommand{\\Bold}[1]{\\mathbf{#1}}\\left[\\left(1,\\,0,\\,0,\\,0,\\,-\\frac{2}{5},\\,-\\frac{7}{5},\\,-\\frac{1}{5}\\right), \\left(0,\\,1,\\,0,\\,0,\\,\\frac{2}{5},\\,\\frac{7}{5},\\,\\frac{1}{5}\\right), \\left(0,\\,0,\\,1,\\,2,\\,\\frac{7}{5},\\,\\frac{2}{5},\\,\\frac{1}{5}\\right)\\right]$$"
      ],
      "text/plain": [
       "[\n",
       "(1, 0, 0, 0, -2/5, -7/5, -1/5),\n",
       "(0, 1, 0, 0, 2/5, 7/5, 1/5),\n",
       "(0, 0, 1, 2, 7/5, 2/5, 1/5)\n",
       "]"
      ]
     },
     "metadata": {},
     "output_type": "display_data"
    }
   ],
   "source": [
    "A1 = A.matrix_from_columns([0..3]).transpose()\n",
    "show(A1)\n",
    "G = (QQ^7).span(A1)\n",
    "show(G)\n",
    "\n",
    "basesG = G.basis()\n",
    "show(basesG)"
   ]
  },
  {
   "cell_type": "markdown",
   "metadata": {},
   "source": [
    "<font color=green> Calculeu una base de la suma $F+G$ i una base de la intersecció $F\\cap G$. Cal donar-les com a llistes de vectors. </font>"
   ]
  },
  {
   "cell_type": "code",
   "execution_count": 16,
   "metadata": {},
   "outputs": [
    {
     "data": {
      "text/html": [
       "<html><script type=\"math/tex; mode=display\">\\newcommand{\\Bold}[1]{\\mathbf{#1}}\\mathrm{RowSpan}_{\\Bold{Q}}\\left(\\begin{array}{rrrrrrr}\n",
       "1 & 0 & 0 & 0 & 0 & 0 & \\frac{10}{21} \\\\\n",
       "0 & 1 & 0 & 0 & 0 & 0 & -\\frac{10}{21} \\\\\n",
       "0 & 0 & 1 & 0 & 0 & 0 & \\frac{1}{7} \\\\\n",
       "0 & 0 & 0 & 1 & 0 & 0 & -\\frac{85}{21} \\\\\n",
       "0 & 0 & 0 & 0 & 1 & 0 & \\frac{130}{21} \\\\\n",
       "0 & 0 & 0 & 0 & 0 & 1 & -\\frac{9}{7}\n",
       "\\end{array}\\right)</script></html>"
      ],
      "text/latex": [
       "$$\\newcommand{\\Bold}[1]{\\mathbf{#1}}\\mathrm{RowSpan}_{\\Bold{Q}}\\left(\\begin{array}{rrrrrrr}\n",
       "1 & 0 & 0 & 0 & 0 & 0 & \\frac{10}{21} \\\\\n",
       "0 & 1 & 0 & 0 & 0 & 0 & -\\frac{10}{21} \\\\\n",
       "0 & 0 & 1 & 0 & 0 & 0 & \\frac{1}{7} \\\\\n",
       "0 & 0 & 0 & 1 & 0 & 0 & -\\frac{85}{21} \\\\\n",
       "0 & 0 & 0 & 0 & 1 & 0 & \\frac{130}{21} \\\\\n",
       "0 & 0 & 0 & 0 & 0 & 1 & -\\frac{9}{7}\n",
       "\\end{array}\\right)$$"
      ],
      "text/plain": [
       "Vector space of degree 7 and dimension 6 over Rational Field\n",
       "Basis matrix:\n",
       "[     1      0      0      0      0      0  10/21]\n",
       "[     0      1      0      0      0      0 -10/21]\n",
       "[     0      0      1      0      0      0    1/7]\n",
       "[     0      0      0      1      0      0 -85/21]\n",
       "[     0      0      0      0      1      0 130/21]\n",
       "[     0      0      0      0      0      1   -9/7]"
      ]
     },
     "metadata": {},
     "output_type": "display_data"
    },
    {
     "data": {
      "text/html": [
       "<html><script type=\"math/tex; mode=display\">\\newcommand{\\Bold}[1]{\\mathbf{#1}}\\left[\\left(1,\\,0,\\,0,\\,0,\\,0,\\,0,\\,\\frac{10}{21}\\right), \\left(0,\\,1,\\,0,\\,0,\\,0,\\,0,\\,-\\frac{10}{21}\\right), \\left(0,\\,0,\\,1,\\,0,\\,0,\\,0,\\,\\frac{1}{7}\\right), \\left(0,\\,0,\\,0,\\,1,\\,0,\\,0,\\,-\\frac{85}{21}\\right), \\left(0,\\,0,\\,0,\\,0,\\,1,\\,0,\\,\\frac{130}{21}\\right), \\left(0,\\,0,\\,0,\\,0,\\,0,\\,1,\\,-\\frac{9}{7}\\right)\\right]</script></html>"
      ],
      "text/latex": [
       "$$\\newcommand{\\Bold}[1]{\\mathbf{#1}}\\left[\\left(1,\\,0,\\,0,\\,0,\\,0,\\,0,\\,\\frac{10}{21}\\right), \\left(0,\\,1,\\,0,\\,0,\\,0,\\,0,\\,-\\frac{10}{21}\\right), \\left(0,\\,0,\\,1,\\,0,\\,0,\\,0,\\,\\frac{1}{7}\\right), \\left(0,\\,0,\\,0,\\,1,\\,0,\\,0,\\,-\\frac{85}{21}\\right), \\left(0,\\,0,\\,0,\\,0,\\,1,\\,0,\\,\\frac{130}{21}\\right), \\left(0,\\,0,\\,0,\\,0,\\,0,\\,1,\\,-\\frac{9}{7}\\right)\\right]$$"
      ],
      "text/plain": [
       "[\n",
       "(1, 0, 0, 0, 0, 0, 10/21),\n",
       "(0, 1, 0, 0, 0, 0, -10/21),\n",
       "(0, 0, 1, 0, 0, 0, 1/7),\n",
       "(0, 0, 0, 1, 0, 0, -85/21),\n",
       "(0, 0, 0, 0, 1, 0, 130/21),\n",
       "(0, 0, 0, 0, 0, 1, -9/7)\n",
       "]"
      ]
     },
     "metadata": {},
     "output_type": "display_data"
    }
   ],
   "source": [
    "suma = (F+G)\n",
    "show(suma)\n",
    "\n",
    "suma_bases = suma.basis()\n",
    "show(suma_bases)"
   ]
  },
  {
   "cell_type": "code",
   "execution_count": 17,
   "metadata": {},
   "outputs": [
    {
     "data": {
      "text/html": [
       "<html><script type=\"math/tex; mode=display\">\\newcommand{\\Bold}[1]{\\mathbf{#1}}\\mathrm{RowSpan}_{\\Bold{Q}}()</script></html>"
      ],
      "text/latex": [
       "$$\\newcommand{\\Bold}[1]{\\mathbf{#1}}\\mathrm{RowSpan}_{\\Bold{Q}}()$$"
      ],
      "text/plain": [
       "Vector space of degree 7 and dimension 0 over Rational Field\n",
       "Basis matrix:\n",
       "[]"
      ]
     },
     "metadata": {},
     "output_type": "display_data"
    },
    {
     "data": {
      "text/html": [
       "<html><script type=\"math/tex; mode=display\">\\newcommand{\\Bold}[1]{\\mathbf{#1}}\\left[\\right]</script></html>"
      ],
      "text/latex": [
       "$$\\newcommand{\\Bold}[1]{\\mathbf{#1}}\\left[\\right]$$"
      ],
      "text/plain": [
       "[\n",
       "\n",
       "]"
      ]
     },
     "metadata": {},
     "output_type": "display_data"
    }
   ],
   "source": [
    "inter = F.intersection(G)\n",
    "show(inter)\n",
    "\n",
    "inter_bases = inter.basis()\n",
    "show(inter_bases)"
   ]
  },
  {
   "cell_type": "code",
   "execution_count": 18,
   "metadata": {},
   "outputs": [
    {
     "name": "stdout",
     "output_type": "stream",
     "text": [
      "Bases de F: 3\n",
      "Bases de G: 3\n",
      "Bases de F+G: 6\n",
      "Bases de la intersecció F∩G: 0\n"
     ]
    }
   ],
   "source": [
    "#Comprovem que els càlculs estan ben fets:\n",
    "print(f\"Bases de F: {F.dimension()}\")\n",
    "print(f\"Bases de G: {G.dimension()}\")\n",
    "print(f\"Bases de F+G: {(F+G).dimension()}\")\n",
    "print(f\"Bases de la intersecció F∩G: {F.intersection(G).dimension()}\")"
   ]
  },
  {
   "cell_type": "markdown",
   "metadata": {},
   "source": [
    "<font color=green> Definiu l'aplicació lineal $f$ de $\\mathbb{Q}^7$ a $\\mathbb{Q}^4$ que té com a matriu la matriu formada per les 4 ultimes columnes de la transposta de $A$. </font>"
   ]
  },
  {
   "cell_type": "code",
   "execution_count": 19,
   "metadata": {},
   "outputs": [
    {
     "data": {
      "text/html": [
       "<html><script type=\"math/tex; mode=display\">\\newcommand{\\Bold}[1]{\\mathbf{#1}}\\left(\\begin{array}{rrrr}\n",
       "0 & 0 & 0 & 0 \\\\\n",
       "2 & 3 & 6 & 1 \\\\\n",
       "4 & 4 & 5 & 1 \\\\\n",
       "6 & 5 & 4 & 1 \\\\\n",
       "8 & 6 & 3 & 1 \\\\\n",
       "10 & 7 & 2 & 1 \\\\\n",
       "12 & 8 & 1 & 0\n",
       "\\end{array}\\right)</script></html>"
      ],
      "text/latex": [
       "$$\\newcommand{\\Bold}[1]{\\mathbf{#1}}\\left(\\begin{array}{rrrr}\n",
       "0 & 0 & 0 & 0 \\\\\n",
       "2 & 3 & 6 & 1 \\\\\n",
       "4 & 4 & 5 & 1 \\\\\n",
       "6 & 5 & 4 & 1 \\\\\n",
       "8 & 6 & 3 & 1 \\\\\n",
       "10 & 7 & 2 & 1 \\\\\n",
       "12 & 8 & 1 & 0\n",
       "\\end{array}\\right)$$"
      ],
      "text/plain": [
       "[ 0  0  0  0]\n",
       "[ 2  3  6  1]\n",
       "[ 4  4  5  1]\n",
       "[ 6  5  4  1]\n",
       "[ 8  6  3  1]\n",
       "[10  7  2  1]\n",
       "[12  8  1  0]"
      ]
     },
     "metadata": {},
     "output_type": "display_data"
    }
   ],
   "source": [
    "f = A.transpose().matrix_from_columns([3..6])\n",
    "show(f)"
   ]
  },
  {
   "cell_type": "markdown",
   "metadata": {},
   "source": [
    "<font color=green> Calculeu bases del subespai nucli i del subespai imatge de $f$. </font>"
   ]
  },
  {
   "cell_type": "code",
   "execution_count": 20,
   "metadata": {
    "scrolled": true
   },
   "outputs": [
    {
     "data": {
      "text/html": [
       "<html><script type=\"math/tex; mode=display\">\\newcommand{\\Bold}[1]{\\mathbf{#1}}\\left[\\left(1,\\,0,\\,0,\\,0,\\,0,\\,0,\\,0\\right), \\left(0,\\,1,\\,0,\\,0,\\,-4,\\,3,\\,0\\right), \\left(0,\\,0,\\,1,\\,0,\\,-3,\\,2,\\,0\\right), \\left(0,\\,0,\\,0,\\,1,\\,-2,\\,1,\\,0\\right)\\right]</script></html>"
      ],
      "text/latex": [
       "$$\\newcommand{\\Bold}[1]{\\mathbf{#1}}\\left[\\left(1,\\,0,\\,0,\\,0,\\,0,\\,0,\\,0\\right), \\left(0,\\,1,\\,0,\\,0,\\,-4,\\,3,\\,0\\right), \\left(0,\\,0,\\,1,\\,0,\\,-3,\\,2,\\,0\\right), \\left(0,\\,0,\\,0,\\,1,\\,-2,\\,1,\\,0\\right)\\right]$$"
      ],
      "text/plain": [
       "[\n",
       "(1, 0, 0, 0, 0, 0, 0),\n",
       "(0, 1, 0, 0, -4, 3, 0),\n",
       "(0, 0, 1, 0, -3, 2, 0),\n",
       "(0, 0, 0, 1, -2, 1, 0)\n",
       "]"
      ]
     },
     "metadata": {},
     "output_type": "display_data"
    }
   ],
   "source": [
    "kernel = f.kernel() #és el mateix que f.left_kernel()\n",
    "bases_kernel = kernel.basis()\n",
    "show(bases_kernel)"
   ]
  },
  {
   "cell_type": "code",
   "execution_count": 21,
   "metadata": {},
   "outputs": [
    {
     "data": {
      "text/html": [
       "<html><script type=\"math/tex; mode=display\">\\newcommand{\\Bold}[1]{\\mathbf{#1}}\\left[\\left(2,\\,1,\\,-1,\\,0\\right), \\left(0,\\,2,\\,7,\\,0\\right), \\left(0,\\,0,\\,0,\\,1\\right)\\right]</script></html>"
      ],
      "text/latex": [
       "$$\\newcommand{\\Bold}[1]{\\mathbf{#1}}\\left[\\left(2,\\,1,\\,-1,\\,0\\right), \\left(0,\\,2,\\,7,\\,0\\right), \\left(0,\\,0,\\,0,\\,1\\right)\\right]$$"
      ],
      "text/plain": [
       "[\n",
       "(2, 1, -1, 0),\n",
       "(0, 2, 7, 0),\n",
       "(0, 0, 0, 1)\n",
       "]"
      ]
     },
     "metadata": {},
     "output_type": "display_data"
    }
   ],
   "source": [
    "image = f.image()\n",
    "bases_image = image.basis()\n",
    "show(bases_image)"
   ]
  },
  {
   "cell_type": "markdown",
   "metadata": {},
   "source": [
    "<font color=green> Es $f$ ínjectiva? És exahustiva? </font>"
   ]
  },
  {
   "cell_type": "code",
   "execution_count": 30,
   "metadata": {},
   "outputs": [
    {
     "name": "stdout",
     "output_type": "stream",
     "text": [
      "Es injectiva? False\n"
     ]
    },
    {
     "data": {
      "text/html": [
       "<html><script type=\"math/tex; mode=display\">\\newcommand{\\Bold}[1]{\\mathbf{#1}}\\verb|Es|\\phantom{\\verb!x!}\\verb|exhaustiva?| \\mathrm{False}</script></html>"
      ],
      "text/latex": [
       "$$\\newcommand{\\Bold}[1]{\\mathbf{#1}}\\verb|Es|\\phantom{\\verb!x!}\\verb|exhaustiva?| \\mathrm{False}$$"
      ],
      "text/plain": [
       "'Es exhaustiva?' False"
      ]
     },
     "metadata": {},
     "output_type": "display_data"
    }
   ],
   "source": [
    "rank = A.rank()\n",
    "is_injective = rank == A.ncols()\n",
    "\n",
    "print('Es injectiva?', is_injective)\n",
    "\n",
    "column_space_dim = A.column_space().dimension()\n",
    "is_surjective = column_space_dim == A.nrows()\n",
    "\n",
    "show('Es exhaustiva?', is_surjective)"
   ]
  },
  {
   "cell_type": "markdown",
   "metadata": {},
   "source": [
    "<font color=red> Poseu aquí la resposta: </font>: "
   ]
  },
  {
   "cell_type": "code",
   "execution_count": 23,
   "metadata": {},
   "outputs": [],
   "source": [
    "#No és injectiva ni exhaustiva"
   ]
  },
  {
   "cell_type": "markdown",
   "metadata": {},
   "source": [
    "<font color=green> Determineu els valors propis de la matriu $B$ i de la matriu $AA^t$.  </font>"
   ]
  },
  {
   "cell_type": "code",
   "execution_count": 24,
   "metadata": {},
   "outputs": [
    {
     "data": {
      "text/html": [
       "<html><script type=\"math/tex; mode=display\">\\newcommand{\\Bold}[1]{\\mathbf{#1}}\\left[0, 0.8248890480675552?, 2.623662958858501?, 11.55144799307395?\\right]</script></html>"
      ],
      "text/latex": [
       "$$\\newcommand{\\Bold}[1]{\\mathbf{#1}}\\left[0, 0.8248890480675552?, 2.623662958858501?, 11.55144799307395?\\right]$$"
      ],
      "text/plain": [
       "[0, 0.8248890480675552?, 2.623662958858501?, 11.55144799307395?]"
      ]
     },
     "metadata": {},
     "output_type": "display_data"
    }
   ],
   "source": [
    "show(B.eigenvalues())"
   ]
  },
  {
   "cell_type": "code",
   "execution_count": 25,
   "metadata": {},
   "outputs": [
    {
     "data": {
      "text/html": [
       "<html><script type=\"math/tex; mode=display\">\\newcommand{\\Bold}[1]{\\mathbf{#1}}\\left(\\begin{array}{rrrrrrr}\n",
       "2 & 8 & 9 & 10 & 10 & 10 & 7 \\\\\n",
       "8 & 91 & 95 & 99 & 97 & 95 & 74 \\\\\n",
       "9 & 95 & 107 & 119 & 125 & 131 & 118 \\\\\n",
       "10 & 99 & 119 & 139 & 153 & 167 & 162 \\\\\n",
       "10 & 97 & 125 & 153 & 176 & 199 & 206 \\\\\n",
       "10 & 95 & 131 & 167 & 199 & 231 & 250 \\\\\n",
       "7 & 74 & 118 & 162 & 206 & 250 & 294\n",
       "\\end{array}\\right)</script></html>"
      ],
      "text/latex": [
       "$$\\newcommand{\\Bold}[1]{\\mathbf{#1}}\\left(\\begin{array}{rrrrrrr}\n",
       "2 & 8 & 9 & 10 & 10 & 10 & 7 \\\\\n",
       "8 & 91 & 95 & 99 & 97 & 95 & 74 \\\\\n",
       "9 & 95 & 107 & 119 & 125 & 131 & 118 \\\\\n",
       "10 & 99 & 119 & 139 & 153 & 167 & 162 \\\\\n",
       "10 & 97 & 125 & 153 & 176 & 199 & 206 \\\\\n",
       "10 & 95 & 131 & 167 & 199 & 231 & 250 \\\\\n",
       "7 & 74 & 118 & 162 & 206 & 250 & 294\n",
       "\\end{array}\\right)$$"
      ],
      "text/plain": [
       "[  2   8   9  10  10  10   7]\n",
       "[  8  91  95  99  97  95  74]\n",
       "[  9  95 107 119 125 131 118]\n",
       "[ 10  99 119 139 153 167 162]\n",
       "[ 10  97 125 153 176 199 206]\n",
       "[ 10  95 131 167 199 231 250]\n",
       "[  7  74 118 162 206 250 294]"
      ]
     },
     "metadata": {},
     "output_type": "display_data"
    },
    {
     "data": {
      "text/html": [
       "<html><script type=\"math/tex; mode=display\">\\newcommand{\\Bold}[1]{\\mathbf{#1}}\\left[0, 0, 0.03711917469187429?, 0.7951359806736282?, 3.915568968423416?, 113.7087072323616?, 921.5434686438495?\\right]</script></html>"
      ],
      "text/latex": [
       "$$\\newcommand{\\Bold}[1]{\\mathbf{#1}}\\left[0, 0, 0.03711917469187429?, 0.7951359806736282?, 3.915568968423416?, 113.7087072323616?, 921.5434686438495?\\right]$$"
      ],
      "text/plain": [
       "[0, 0, 0.03711917469187429?, 0.7951359806736282?, 3.915568968423416?, 113.7087072323616?, 921.5434686438495?]"
      ]
     },
     "metadata": {},
     "output_type": "display_data"
    }
   ],
   "source": [
    "AtA = A.transpose()*A\n",
    "show(AtA)\n",
    "show(AtA.eigenvalues())"
   ]
  },
  {
   "cell_type": "markdown",
   "metadata": {},
   "source": [
    "<font color=green> Calculeu una matriu invertible $M$ tal que $M^{-1}BM$ sigui diagonal. </font>"
   ]
  },
  {
   "cell_type": "code",
   "execution_count": 26,
   "metadata": {},
   "outputs": [
    {
     "data": {
      "text/html": [
       "<html><script type=\"math/tex; mode=display\">\\newcommand{\\Bold}[1]{\\mathbf{#1}}\\left(\\begin{array}{rrrr}\n",
       "0 & 1 & 1 & 1 \\\\\n",
       "0 & -0.1751109519324449? & 1.623662958858501? & 10.55144799307395? \\\\\n",
       "1 & -0.2888006597431957? & -0.846941494521273? & 15.53574215426447? \\\\\n",
       "-\\frac{1}{2} & -0.4024903675539466? & -3.317545947901045? & 20.52003631545499?\n",
       "\\end{array}\\right)</script></html>"
      ],
      "text/latex": [
       "$$\\newcommand{\\Bold}[1]{\\mathbf{#1}}\\left(\\begin{array}{rrrr}\n",
       "0 & 1 & 1 & 1 \\\\\n",
       "0 & -0.1751109519324449? & 1.623662958858501? & 10.55144799307395? \\\\\n",
       "1 & -0.2888006597431957? & -0.846941494521273? & 15.53574215426447? \\\\\n",
       "-\\frac{1}{2} & -0.4024903675539466? & -3.317545947901045? & 20.52003631545499?\n",
       "\\end{array}\\right)$$"
      ],
      "text/plain": [
       "[                   0                    1                    1                    1]\n",
       "[                   0 -0.1751109519324449?   1.623662958858501?   10.55144799307395?]\n",
       "[                   1 -0.2888006597431957?  -0.846941494521273?   15.53574215426447?]\n",
       "[                -1/2 -0.4024903675539466?  -3.317545947901045?   20.52003631545499?]"
      ]
     },
     "metadata": {},
     "output_type": "display_data"
    },
    {
     "data": {
      "text/html": [
       "<html><script type=\"math/tex; mode=display\">\\newcommand{\\Bold}[1]{\\mathbf{#1}}\\left(\\begin{array}{rrrr}\n",
       "0.0 & 0.0 & -0.0 & 0.0 \\\\\n",
       "0.0 & 0.82 & 0.0 & -0.0 \\\\\n",
       "0.0 & 0.0 & 2.62 & 0.0 \\\\\n",
       "0.0 & -0.0 & 0.0 & 11.55\n",
       "\\end{array}\\right)</script></html>"
      ],
      "text/latex": [
       "$$\\newcommand{\\Bold}[1]{\\mathbf{#1}}\\left(\\begin{array}{rrrr}\n",
       "0.0 & 0.0 & -0.0 & 0.0 \\\\\n",
       "0.0 & 0.82 & 0.0 & -0.0 \\\\\n",
       "0.0 & 0.0 & 2.62 & 0.0 \\\\\n",
       "0.0 & -0.0 & 0.0 & 11.55\n",
       "\\end{array}\\right)$$"
      ],
      "text/plain": [
       "[  0.0   0.0  -0.0   0.0]\n",
       "[  0.0  0.82   0.0  -0.0]\n",
       "[  0.0   0.0  2.62   0.0]\n",
       "[  0.0  -0.0   0.0 11.55]"
      ]
     },
     "metadata": {},
     "output_type": "display_data"
    }
   ],
   "source": [
    "[D,P]=B.eigenmatrix_right()\n",
    "show(P)\n",
    "result = P.inverse() * B * P\n",
    "\n",
    "rounded_result = result.apply_map(lambda x: round(x, 2))\n",
    "show(rounded_result)"
   ]
  },
  {
   "cell_type": "markdown",
   "metadata": {},
   "source": [
    "<font color=green> Calculeu una matriu ortogonal $Q$ amb coeficients reals tal que $Q^tAA^tQ$ sigui diagonal. </font>"
   ]
  },
  {
   "cell_type": "code",
   "execution_count": 27,
   "metadata": {},
   "outputs": [
    {
     "data": {
      "text/html": [
       "<html><script type=\"math/tex; mode=display\">\\newcommand{\\Bold}[1]{\\mathbf{#1}}\\left(\\begin{array}{rrrrrrr}\n",
       "-0.3864 & -0.1233 & -0.0923 & -0.8792 & -0.2323 & -0.0 & -0.0 \\\\\n",
       "-0.3189 & 0.6947 & -0.6035 & 0.0474 & 0.2221 & 0.0 & 0.0 \\\\\n",
       "-0.3076 & -0.1827 & -0.019 & 0.1506 & 0.0461 & -0.2774 & -0.8774 \\\\\n",
       "-0.6152 & -0.3655 & -0.038 & 0.3013 & 0.0923 & -0.401 & 0.4759 \\\\\n",
       "-0.4638 & -0.0739 & 0.1898 & 0.1832 & 0.0421 & 0.8395 & -0.0579 \\\\\n",
       "-0.2391 & 0.5636 & 0.75 & -0.0368 & -0.0603 & -0.2399 & 0.0165 \\\\\n",
       "-0.0609 & 0.1105 & -0.1643 & 0.2765 & -0.9384 & -0.0 & -0.0\n",
       "\\end{array}\\right)</script></html>"
      ],
      "text/latex": [
       "$$\\newcommand{\\Bold}[1]{\\mathbf{#1}}\\left(\\begin{array}{rrrrrrr}\n",
       "-0.3864 & -0.1233 & -0.0923 & -0.8792 & -0.2323 & -0.0 & -0.0 \\\\\n",
       "-0.3189 & 0.6947 & -0.6035 & 0.0474 & 0.2221 & 0.0 & 0.0 \\\\\n",
       "-0.3076 & -0.1827 & -0.019 & 0.1506 & 0.0461 & -0.2774 & -0.8774 \\\\\n",
       "-0.6152 & -0.3655 & -0.038 & 0.3013 & 0.0923 & -0.401 & 0.4759 \\\\\n",
       "-0.4638 & -0.0739 & 0.1898 & 0.1832 & 0.0421 & 0.8395 & -0.0579 \\\\\n",
       "-0.2391 & 0.5636 & 0.75 & -0.0368 & -0.0603 & -0.2399 & 0.0165 \\\\\n",
       "-0.0609 & 0.1105 & -0.1643 & 0.2765 & -0.9384 & -0.0 & -0.0\n",
       "\\end{array}\\right)$$"
      ],
      "text/plain": [
       "[-0.3864 -0.1233 -0.0923 -0.8792 -0.2323    -0.0    -0.0]\n",
       "[-0.3189  0.6947 -0.6035  0.0474  0.2221     0.0     0.0]\n",
       "[-0.3076 -0.1827  -0.019  0.1506  0.0461 -0.2774 -0.8774]\n",
       "[-0.6152 -0.3655  -0.038  0.3013  0.0923  -0.401  0.4759]\n",
       "[-0.4638 -0.0739  0.1898  0.1832  0.0421  0.8395 -0.0579]\n",
       "[-0.2391  0.5636    0.75 -0.0368 -0.0603 -0.2399  0.0165]\n",
       "[-0.0609  0.1105 -0.1643  0.2765 -0.9384    -0.0    -0.0]"
      ]
     },
     "metadata": {},
     "output_type": "display_data"
    }
   ],
   "source": [
    "A0 = Matrix(CDF, A)\n",
    "U, S, V = A0.SVD()\n",
    "show(U.apply_map(lambda x: round(x, 4)))"
   ]
  },
  {
   "cell_type": "markdown",
   "metadata": {},
   "source": [
    "<font color=green> Calculeu U,V,Sigma de la descomposició en valors singulars per la matriu A. Doneu els valors singulars de A.</font>"
   ]
  },
  {
   "cell_type": "code",
   "execution_count": 29,
   "metadata": {},
   "outputs": [
    {
     "data": {
      "text/html": [
       "<html><script type=\"math/tex; mode=display\">\\newcommand{\\Bold}[1]{\\mathbf{#1}}\\left(\\begin{array}{rrrrrrr}\n",
       "1.0 & 2.0 & 3.0 & 4.0 & 5.0 & 6.0 & 7.0 \\\\\n",
       "1.0 & 6.0 & 6.0 & 6.0 & 5.0 & 4.0 & 0.0 \\\\\n",
       "0.0 & 1.0 & 2.0 & 3.0 & 4.0 & 5.0 & 6.0 \\\\\n",
       "0.0 & 2.0 & 4.0 & 6.0 & 8.0 & 10.0 & 12.0 \\\\\n",
       "0.0 & 3.0 & 4.0 & 5.0 & 6.0 & 7.0 & 8.0 \\\\\n",
       "0.0 & 6.0 & 5.0 & 4.0 & 3.0 & 2.0 & 1.0 \\\\\n",
       "0.0 & 1.0 & 1.0 & 1.0 & 1.0 & 1.0 & 0.0\n",
       "\\end{array}\\right)</script></html>"
      ],
      "text/latex": [
       "$$\\newcommand{\\Bold}[1]{\\mathbf{#1}}\\left(\\begin{array}{rrrrrrr}\n",
       "1.0 & 2.0 & 3.0 & 4.0 & 5.0 & 6.0 & 7.0 \\\\\n",
       "1.0 & 6.0 & 6.0 & 6.0 & 5.0 & 4.0 & 0.0 \\\\\n",
       "0.0 & 1.0 & 2.0 & 3.0 & 4.0 & 5.0 & 6.0 \\\\\n",
       "0.0 & 2.0 & 4.0 & 6.0 & 8.0 & 10.0 & 12.0 \\\\\n",
       "0.0 & 3.0 & 4.0 & 5.0 & 6.0 & 7.0 & 8.0 \\\\\n",
       "0.0 & 6.0 & 5.0 & 4.0 & 3.0 & 2.0 & 1.0 \\\\\n",
       "0.0 & 1.0 & 1.0 & 1.0 & 1.0 & 1.0 & 0.0\n",
       "\\end{array}\\right)$$"
      ],
      "text/plain": [
       "[ 1.0  2.0  3.0  4.0  5.0  6.0  7.0]\n",
       "[ 1.0  6.0  6.0  6.0  5.0  4.0  0.0]\n",
       "[ 0.0  1.0  2.0  3.0  4.0  5.0  6.0]\n",
       "[ 0.0  2.0  4.0  6.0  8.0 10.0 12.0]\n",
       "[ 0.0  3.0  4.0  5.0  6.0  7.0  8.0]\n",
       "[ 0.0  6.0  5.0  4.0  3.0  2.0  1.0]\n",
       "[ 0.0  1.0  1.0  1.0  1.0  1.0  0.0]"
      ]
     },
     "metadata": {},
     "output_type": "display_data"
    },
    {
     "data": {
      "text/html": [
       "<html><script type=\"math/tex; mode=display\">\\newcommand{\\Bold}[1]{\\mathbf{#1}}\\verb|U| \\left(\\begin{array}{rrrrrrr}\n",
       "-0.3864 & -0.1233 & -0.0923 & -0.8792 & -0.2323 & -0.0 & -0.0 \\\\\n",
       "-0.3189 & 0.6947 & -0.6035 & 0.0474 & 0.2221 & 0.0 & 0.0 \\\\\n",
       "-0.3076 & -0.1827 & -0.019 & 0.1506 & 0.0461 & -0.2774 & -0.8774 \\\\\n",
       "-0.6152 & -0.3655 & -0.038 & 0.3013 & 0.0923 & -0.401 & 0.4759 \\\\\n",
       "-0.4638 & -0.0739 & 0.1898 & 0.1832 & 0.0421 & 0.8395 & -0.0579 \\\\\n",
       "-0.2391 & 0.5636 & 0.75 & -0.0368 & -0.0603 & -0.2399 & 0.0165 \\\\\n",
       "-0.0609 & 0.1105 & -0.1643 & 0.2765 & -0.9384 & -0.0 & -0.0\n",
       "\\end{array}\\right)</script></html>"
      ],
      "text/latex": [
       "$$\\newcommand{\\Bold}[1]{\\mathbf{#1}}\\verb|U| \\left(\\begin{array}{rrrrrrr}\n",
       "-0.3864 & -0.1233 & -0.0923 & -0.8792 & -0.2323 & -0.0 & -0.0 \\\\\n",
       "-0.3189 & 0.6947 & -0.6035 & 0.0474 & 0.2221 & 0.0 & 0.0 \\\\\n",
       "-0.3076 & -0.1827 & -0.019 & 0.1506 & 0.0461 & -0.2774 & -0.8774 \\\\\n",
       "-0.6152 & -0.3655 & -0.038 & 0.3013 & 0.0923 & -0.401 & 0.4759 \\\\\n",
       "-0.4638 & -0.0739 & 0.1898 & 0.1832 & 0.0421 & 0.8395 & -0.0579 \\\\\n",
       "-0.2391 & 0.5636 & 0.75 & -0.0368 & -0.0603 & -0.2399 & 0.0165 \\\\\n",
       "-0.0609 & 0.1105 & -0.1643 & 0.2765 & -0.9384 & -0.0 & -0.0\n",
       "\\end{array}\\right)$$"
      ],
      "text/plain": [
       "'U' [-0.3864 -0.1233 -0.0923 -0.8792 -0.2323    -0.0    -0.0]\n",
       "[-0.3189  0.6947 -0.6035  0.0474  0.2221     0.0     0.0]\n",
       "[-0.3076 -0.1827  -0.019  0.1506  0.0461 -0.2774 -0.8774]\n",
       "[-0.6152 -0.3655  -0.038  0.3013  0.0923  -0.401  0.4759]\n",
       "[-0.4638 -0.0739  0.1898  0.1832  0.0421  0.8395 -0.0579]\n",
       "[-0.2391  0.5636    0.75 -0.0368 -0.0603 -0.2399  0.0165]\n",
       "[-0.0609  0.1105 -0.1643  0.2765 -0.9384    -0.0    -0.0]"
      ]
     },
     "metadata": {},
     "output_type": "display_data"
    },
    {
     "data": {
      "text/html": [
       "<html><script type=\"math/tex; mode=display\">\\newcommand{\\Bold}[1]{\\mathbf{#1}}\\verb|Sigma| \\left(\\begin{array}{rrrrrrr}\n",
       "30.3569 & 0.0 & 0.0 & 0.0 & 0.0 & 0.0 & 0.0 \\\\\n",
       "0.0 & 10.6634 & 0.0 & 0.0 & 0.0 & 0.0 & 0.0 \\\\\n",
       "0.0 & 0.0 & 1.9788 & 0.0 & 0.0 & 0.0 & 0.0 \\\\\n",
       "0.0 & 0.0 & 0.0 & 0.8917 & 0.0 & 0.0 & 0.0 \\\\\n",
       "0.0 & 0.0 & 0.0 & 0.0 & 0.1927 & 0.0 & 0.0 \\\\\n",
       "0.0 & 0.0 & 0.0 & 0.0 & 0.0 & 0.0 & 0.0 \\\\\n",
       "0.0 & 0.0 & 0.0 & 0.0 & 0.0 & 0.0 & 0.0\n",
       "\\end{array}\\right)</script></html>"
      ],
      "text/latex": [
       "$$\\newcommand{\\Bold}[1]{\\mathbf{#1}}\\verb|Sigma| \\left(\\begin{array}{rrrrrrr}\n",
       "30.3569 & 0.0 & 0.0 & 0.0 & 0.0 & 0.0 & 0.0 \\\\\n",
       "0.0 & 10.6634 & 0.0 & 0.0 & 0.0 & 0.0 & 0.0 \\\\\n",
       "0.0 & 0.0 & 1.9788 & 0.0 & 0.0 & 0.0 & 0.0 \\\\\n",
       "0.0 & 0.0 & 0.0 & 0.8917 & 0.0 & 0.0 & 0.0 \\\\\n",
       "0.0 & 0.0 & 0.0 & 0.0 & 0.1927 & 0.0 & 0.0 \\\\\n",
       "0.0 & 0.0 & 0.0 & 0.0 & 0.0 & 0.0 & 0.0 \\\\\n",
       "0.0 & 0.0 & 0.0 & 0.0 & 0.0 & 0.0 & 0.0\n",
       "\\end{array}\\right)$$"
      ],
      "text/plain": [
       "'Sigma' [30.3569     0.0     0.0     0.0     0.0     0.0     0.0]\n",
       "[    0.0 10.6634     0.0     0.0     0.0     0.0     0.0]\n",
       "[    0.0     0.0  1.9788     0.0     0.0     0.0     0.0]\n",
       "[    0.0     0.0     0.0  0.8917     0.0     0.0     0.0]\n",
       "[    0.0     0.0     0.0     0.0  0.1927     0.0     0.0]\n",
       "[    0.0     0.0     0.0     0.0     0.0     0.0     0.0]\n",
       "[    0.0     0.0     0.0     0.0     0.0     0.0     0.0]"
      ]
     },
     "metadata": {},
     "output_type": "display_data"
    },
    {
     "data": {
      "text/html": [
       "<html><script type=\"math/tex; mode=display\">\\newcommand{\\Bold}[1]{\\mathbf{#1}}\\verb|V|\\phantom{\\verb!x!}\\verb|(transposta)| \\left(\\begin{array}{rrrrrrr}\n",
       "-0.0232 & 0.0536 & -0.3516 & -0.9328 & -0.0533 & 0.0 & -0.0 \\\\\n",
       "-0.2342 & 0.5887 & 0.5075 & -0.1293 & -0.3909 & 0.4083 & -0.0684 \\\\\n",
       "-0.305 & 0.4317 & 0.1297 & -0.0241 & 0.1322 & -0.8167 & 0.1368 \\\\\n",
       "-0.3758 & 0.2746 & -0.248 & 0.0812 & 0.6554 & 0.4077 & 0.3456 \\\\\n",
       "-0.4361 & 0.0525 & -0.3208 & 0.1333 & 0.026 & 0.0012 & -0.8281 \\\\\n",
       "-0.4964 & -0.1697 & -0.3935 & 0.1854 & -0.6034 & -0.0006 & 0.414 \\\\\n",
       "-0.5232 & -0.5977 & 0.5317 & -0.232 & 0.1804 & 0.0 & 0.0\n",
       "\\end{array}\\right)</script></html>"
      ],
      "text/latex": [
       "$$\\newcommand{\\Bold}[1]{\\mathbf{#1}}\\verb|V|\\phantom{\\verb!x!}\\verb|(transposta)| \\left(\\begin{array}{rrrrrrr}\n",
       "-0.0232 & 0.0536 & -0.3516 & -0.9328 & -0.0533 & 0.0 & -0.0 \\\\\n",
       "-0.2342 & 0.5887 & 0.5075 & -0.1293 & -0.3909 & 0.4083 & -0.0684 \\\\\n",
       "-0.305 & 0.4317 & 0.1297 & -0.0241 & 0.1322 & -0.8167 & 0.1368 \\\\\n",
       "-0.3758 & 0.2746 & -0.248 & 0.0812 & 0.6554 & 0.4077 & 0.3456 \\\\\n",
       "-0.4361 & 0.0525 & -0.3208 & 0.1333 & 0.026 & 0.0012 & -0.8281 \\\\\n",
       "-0.4964 & -0.1697 & -0.3935 & 0.1854 & -0.6034 & -0.0006 & 0.414 \\\\\n",
       "-0.5232 & -0.5977 & 0.5317 & -0.232 & 0.1804 & 0.0 & 0.0\n",
       "\\end{array}\\right)$$"
      ],
      "text/plain": [
       "'V (transposta)' [-0.0232  0.0536 -0.3516 -0.9328 -0.0533     0.0    -0.0]\n",
       "[-0.2342  0.5887  0.5075 -0.1293 -0.3909  0.4083 -0.0684]\n",
       "[ -0.305  0.4317  0.1297 -0.0241  0.1322 -0.8167  0.1368]\n",
       "[-0.3758  0.2746  -0.248  0.0812  0.6554  0.4077  0.3456]\n",
       "[-0.4361  0.0525 -0.3208  0.1333   0.026  0.0012 -0.8281]\n",
       "[-0.4964 -0.1697 -0.3935  0.1854 -0.6034 -0.0006   0.414]\n",
       "[-0.5232 -0.5977  0.5317  -0.232  0.1804     0.0     0.0]"
      ]
     },
     "metadata": {},
     "output_type": "display_data"
    },
    {
     "data": {
      "text/html": [
       "<html><script type=\"math/tex; mode=display\">\\newcommand{\\Bold}[1]{\\mathbf{#1}}\\left(\\begin{array}{rrrrrrr}\n",
       "1.0 & 2.0 & 3.0 & 4.0 & 5.0 & 6.0 & 7.0 \\\\\n",
       "1.0 & 6.0 & 6.0 & 6.0 & 5.0 & 4.0 & -0.0 \\\\\n",
       "-0.0 & 1.0 & 2.0 & 3.0 & 4.0 & 5.0 & 6.0 \\\\\n",
       "-0.0 & 2.0 & 4.0 & 6.0 & 8.0 & 10.0 & 12.0 \\\\\n",
       "-0.0 & 3.0 & 4.0 & 5.0 & 6.0 & 7.0 & 8.0 \\\\\n",
       "-0.0 & 6.0 & 5.0 & 4.0 & 3.0 & 2.0 & 1.0 \\\\\n",
       "-0.0 & 1.0 & 1.0 & 1.0 & 1.0 & 1.0 & -0.0\n",
       "\\end{array}\\right)</script></html>"
      ],
      "text/latex": [
       "$$\\newcommand{\\Bold}[1]{\\mathbf{#1}}\\left(\\begin{array}{rrrrrrr}\n",
       "1.0 & 2.0 & 3.0 & 4.0 & 5.0 & 6.0 & 7.0 \\\\\n",
       "1.0 & 6.0 & 6.0 & 6.0 & 5.0 & 4.0 & -0.0 \\\\\n",
       "-0.0 & 1.0 & 2.0 & 3.0 & 4.0 & 5.0 & 6.0 \\\\\n",
       "-0.0 & 2.0 & 4.0 & 6.0 & 8.0 & 10.0 & 12.0 \\\\\n",
       "-0.0 & 3.0 & 4.0 & 5.0 & 6.0 & 7.0 & 8.0 \\\\\n",
       "-0.0 & 6.0 & 5.0 & 4.0 & 3.0 & 2.0 & 1.0 \\\\\n",
       "-0.0 & 1.0 & 1.0 & 1.0 & 1.0 & 1.0 & -0.0\n",
       "\\end{array}\\right)$$"
      ],
      "text/plain": [
       "[ 1.0  2.0  3.0  4.0  5.0  6.0  7.0]\n",
       "[ 1.0  6.0  6.0  6.0  5.0  4.0 -0.0]\n",
       "[-0.0  1.0  2.0  3.0  4.0  5.0  6.0]\n",
       "[-0.0  2.0  4.0  6.0  8.0 10.0 12.0]\n",
       "[-0.0  3.0  4.0  5.0  6.0  7.0  8.0]\n",
       "[-0.0  6.0  5.0  4.0  3.0  2.0  1.0]\n",
       "[-0.0  1.0  1.0  1.0  1.0  1.0 -0.0]"
      ]
     },
     "metadata": {},
     "output_type": "display_data"
    },
    {
     "data": {
      "text/html": [
       "<html><script type=\"math/tex; mode=display\">\\newcommand{\\Bold}[1]{\\mathbf{#1}}\\verb|Valors|\\phantom{\\verb!x!}\\verb|singulars:| \\left[30.35693444081351, 10.663428493329974, 1.9787796664670418, 0.8917039759211729, 0.19266337143285514, 5.33197065322039 \\times 10^{-16}, 1.725685015460852 \\times 10^{-16}\\right]</script></html>"
      ],
      "text/latex": [
       "$$\\newcommand{\\Bold}[1]{\\mathbf{#1}}\\verb|Valors|\\phantom{\\verb!x!}\\verb|singulars:| \\left[30.35693444081351, 10.663428493329974, 1.9787796664670418, 0.8917039759211729, 0.19266337143285514, 5.33197065322039 \\times 10^{-16}, 1.725685015460852 \\times 10^{-16}\\right]$$"
      ],
      "text/plain": [
       "'Valors singulars:' [30.35693444081351,\n",
       " 10.663428493329974,\n",
       " 1.9787796664670418,\n",
       " 0.8917039759211729,\n",
       " 0.19266337143285514,\n",
       " 5.33197065322039e-16,\n",
       " 1.725685015460852e-16]"
      ]
     },
     "metadata": {},
     "output_type": "display_data"
    }
   ],
   "source": [
    "A1 = matrix(CDF, A)\n",
    "show(A1)\n",
    "U, S, V = A1.SVD()\n",
    "show(\"U\", U.apply_map(lambda x: round(x, 4)))\n",
    "show(\"Sigma\", S.apply_map(lambda x: round(x, 4)))\n",
    "show(\"V (transposta)\", V.apply_map(lambda x: round(x, 4)))\n",
    "\n",
    "result = U * S * V.transpose()\n",
    "rounded_result = result.apply_map(lambda x: round(x, 2))\n",
    "show(rounded_result)\n",
    "\n",
    "show(\"Valors singulars:\", S.diagonal())"
   ]
  }
 ],
 "metadata": {
  "kernelspec": {
   "display_name": "SageMath 9.3",
   "language": "sage",
   "name": "sagemath"
  },
  "language_info": {
   "codemirror_mode": {
    "name": "ipython",
    "version": 3
   },
   "file_extension": ".py",
   "mimetype": "text/x-python",
   "name": "python",
   "nbconvert_exporter": "python",
   "pygments_lexer": "ipython3",
   "version": "3.7.10"
  }
 },
 "nbformat": 4,
 "nbformat_minor": 1
}
