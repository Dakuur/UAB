{
 "cells": [
  {
   "cell_type": "markdown",
   "metadata": {},
   "source": [
    "## Espais Vectorials (Enginyeria de Dades)\n"
   ]
  },
  {
   "cell_type": "markdown",
   "metadata": {},
   "source": [
    "### Mètode de Gram-Schmidt"
   ]
  },
  {
   "cell_type": "markdown",
   "metadata": {},
   "source": [
    "Podeu trobar les explicacions sobre el mètode de Gram-Schmidt als apunts a l'apartat 4.3 dels apunts Masdeu-Ruiz. "
   ]
  },
  {
   "cell_type": "markdown",
   "metadata": {},
   "source": [
    "**Exemple:** Considerem el subespai vectorial $F$ generat per $\\vec{v}_1=(1,1,1,1)$, $\\vec{v}_2=(-1,4,4,-1)$ i $\\vec{v}_3=(4,-2,2,0)$. "
   ]
  },
  {
   "cell_type": "code",
   "execution_count": 17,
   "metadata": {},
   "outputs": [
    {
     "data": {
      "text/html": [
       "<html><script type=\"math/tex; mode=display\">\\newcommand{\\Bold}[1]{\\mathbf{#1}}\\mathrm{RowSpan}_{\\Bold{R}}\\left(\\begin{array}{rrrr}\n",
       "1.00000000000000 & 1.00000000000000 & 1.00000000000000 & 1.00000000000000 \\\\\n",
       "-1.00000000000000 & 4.00000000000000 & 4.00000000000000 & -1.00000000000000 \\\\\n",
       "4.00000000000000 & -2.00000000000000 & 2.00000000000000 & 0.000000000000000\n",
       "\\end{array}\\right)</script></html>"
      ],
      "text/latex": [
       "\\begin{math}\n",
       "\\newcommand{\\Bold}[1]{\\mathbf{#1}}\\mathrm{RowSpan}_{\\Bold{R}}\\left(\\begin{array}{rrrr}\n",
       "1.00000000000000 & 1.00000000000000 & 1.00000000000000 & 1.00000000000000 \\\\\n",
       "-1.00000000000000 & 4.00000000000000 & 4.00000000000000 & -1.00000000000000 \\\\\n",
       "4.00000000000000 & -2.00000000000000 & 2.00000000000000 & 0.000000000000000\n",
       "\\end{array}\\right)\n",
       "\\end{math}"
      ],
      "text/plain": [
       "Vector space of degree 4 and dimension 3 over Real Field with 53 bits of precision\n",
       "User basis matrix:\n",
       "[ 1.00000000000000  1.00000000000000  1.00000000000000  1.00000000000000]\n",
       "[-1.00000000000000  4.00000000000000  4.00000000000000 -1.00000000000000]\n",
       "[ 4.00000000000000 -2.00000000000000  2.00000000000000 0.000000000000000]"
      ]
     },
     "metadata": {},
     "output_type": "display_data"
    }
   ],
   "source": [
    "v1 = vector(RR,[1,1,1,1])\n",
    "v2 = vector(RR,[-1,4,4,-1])\n",
    "v3 = vector(RR,[4,-2,2,0])\n",
    "B = [v1,v2,v3]\n",
    "F = (RR^4).subspace_with_basis(B)\n",
    "show(F)"
   ]
  },
  {
   "cell_type": "markdown",
   "metadata": {},
   "source": [
    "Apliquem el mètode de Gram-Schmidt a la base `B` per obtenir una nova base `BO`(base ortonormal).\n",
    "Per a això necessitem calcular la norma dels vectors amb el producte escalar habitual. En **SageMath** `v*v` retorna el producte escalar de `v`amb ell mateix, per tant, podem obtenir la norma fent `sqrt(v*v)`."
   ]
  },
  {
   "cell_type": "code",
   "execution_count": 18,
   "metadata": {},
   "outputs": [
    {
     "name": "stdout",
     "output_type": "stream",
     "text": [
      "(0.500000000000000, 0.500000000000000, 0.500000000000000, 0.500000000000000)\n",
      "[(0.500000000000000, 0.500000000000000, 0.500000000000000, 0.500000000000000)]\n",
      "(0.500000000000000, 0.500000000000000, 0.500000000000000, 0.500000000000000)  té norma  1.00000000000000\n"
     ]
    }
   ],
   "source": [
    "BO = []\n",
    "w1 = B[0]/sqrt(B[0]*B[0])\n",
    "print(w1)\n",
    "BO.append(w1)\n",
    "print(BO)\n",
    "span(B[0:1]) == span(BO)\n",
    "print(BO[0],\" té norma \",sqrt(BO[0]*BO[0]))"
   ]
  },
  {
   "cell_type": "code",
   "execution_count": 19,
   "metadata": {},
   "outputs": [
    {
     "name": "stdout",
     "output_type": "stream",
     "text": [
      "(-2.50000000000000, 2.50000000000000, 2.50000000000000, -2.50000000000000)\n",
      "(-0.500000000000000, 0.500000000000000, 0.500000000000000, -0.500000000000000)\n",
      "[(0.500000000000000, 0.500000000000000, 0.500000000000000, 0.500000000000000), (-0.500000000000000, 0.500000000000000, 0.500000000000000, -0.500000000000000)]\n",
      "Els dos primers vectors de B i BO generen el mateix:  True\n",
      "(-0.500000000000000, 0.500000000000000, 0.500000000000000, -0.500000000000000)  té norma  1.00000000000000\n",
      "El producte escalar entre  (0.500000000000000, 0.500000000000000, 0.500000000000000, 0.500000000000000)  i  (-0.500000000000000, 0.500000000000000, 0.500000000000000, -0.500000000000000)  és  0.000000000000000\n"
     ]
    }
   ],
   "source": [
    "w2temp = B[1] - (B[1]*BO[0])*BO[0]\n",
    "print(w2temp)\n",
    "w2 = w2temp/sqrt(w2temp*w2temp)\n",
    "print(w2)\n",
    "BO.append(w2)\n",
    "print(BO)\n",
    "print(\"Els dos primers vectors de B i BO generen el mateix: \",span(B[0:2]) == span(BO))\n",
    "print(BO[1],\" té norma \",sqrt(BO[1]*BO[1]))\n",
    "print(\"El producte escalar entre \",BO[0],\" i \",BO[1],\" és \",BO[0]*BO[1])"
   ]
  },
  {
   "cell_type": "code",
   "execution_count": 20,
   "metadata": {},
   "outputs": [
    {
     "name": "stdout",
     "output_type": "stream",
     "text": [
      "(2.00000000000000, -2.00000000000000, 2.00000000000000, -2.00000000000000)\n",
      "(0.500000000000000, -0.500000000000000, 0.500000000000000, -0.500000000000000)\n"
     ]
    },
    {
     "data": {
      "text/html": [
       "<html><script type=\"math/tex; mode=display\">\\newcommand{\\Bold}[1]{\\mathbf{#1}}\\left[\\left(0.500000000000000,\\,0.500000000000000,\\,0.500000000000000,\\,0.500000000000000\\right), \\left(-0.500000000000000,\\,0.500000000000000,\\,0.500000000000000,\\,-0.500000000000000\\right), \\left(0.500000000000000,\\,-0.500000000000000,\\,0.500000000000000,\\,-0.500000000000000\\right)\\right]</script></html>"
      ],
      "text/latex": [
       "\\begin{math}\n",
       "\\newcommand{\\Bold}[1]{\\mathbf{#1}}\\left[\\left(0.500000000000000,\\,0.500000000000000,\\,0.500000000000000,\\,0.500000000000000\\right), \\left(-0.500000000000000,\\,0.500000000000000,\\,0.500000000000000,\\,-0.500000000000000\\right), \\left(0.500000000000000,\\,-0.500000000000000,\\,0.500000000000000,\\,-0.500000000000000\\right)\\right]\n",
       "\\end{math}"
      ],
      "text/plain": [
       "[(0.500000000000000, 0.500000000000000, 0.500000000000000, 0.500000000000000),\n",
       " (-0.500000000000000, 0.500000000000000, 0.500000000000000, -0.500000000000000),\n",
       " (0.500000000000000, -0.500000000000000, 0.500000000000000, -0.500000000000000)]"
      ]
     },
     "metadata": {},
     "output_type": "display_data"
    },
    {
     "name": "stdout",
     "output_type": "stream",
     "text": [
      "True\n"
     ]
    },
    {
     "data": {
      "text/html": [
       "<html><script type=\"math/tex; mode=display\">\\newcommand{\\Bold}[1]{\\mathbf{#1}}\\left(0.500000000000000,\\,-0.500000000000000,\\,0.500000000000000,\\,-0.500000000000000\\right) \\phantom{\\verb!x!}\\verb|té|\\phantom{\\verb!x!}\\verb|norma| 1.00000000000000</script></html>"
      ],
      "text/latex": [
       "\\begin{math}\n",
       "\\newcommand{\\Bold}[1]{\\mathbf{#1}}\\left(0.500000000000000,\\,-0.500000000000000,\\,0.500000000000000,\\,-0.500000000000000\\right) \\phantom{\\verb!x!}\\verb|té|\\phantom{\\verb!x!}\\verb|norma| 1.00000000000000\n",
       "\\end{math}"
      ],
      "text/plain": [
       "(0.500000000000000, -0.500000000000000, 0.500000000000000, -0.500000000000000) ' té norma ' 1.00000000000000"
      ]
     },
     "metadata": {},
     "output_type": "display_data"
    },
    {
     "name": "stdout",
     "output_type": "stream",
     "text": [
      "El producte escalar entre  (0.500000000000000, 0.500000000000000, 0.500000000000000, 0.500000000000000)  i  (0.500000000000000, 0.500000000000000, 0.500000000000000, 0.500000000000000)  és  1.00000000000000\n",
      "El producte escalar entre  (0.500000000000000, 0.500000000000000, 0.500000000000000, 0.500000000000000)  i  (-0.500000000000000, 0.500000000000000, 0.500000000000000, -0.500000000000000)  és  0.000000000000000\n",
      "El producte escalar entre  (0.500000000000000, 0.500000000000000, 0.500000000000000, 0.500000000000000)  i  (0.500000000000000, -0.500000000000000, 0.500000000000000, -0.500000000000000)  és  0.000000000000000\n",
      "El producte escalar entre  (-0.500000000000000, 0.500000000000000, 0.500000000000000, -0.500000000000000)  i  (-0.500000000000000, 0.500000000000000, 0.500000000000000, -0.500000000000000)  és  1.00000000000000\n",
      "El producte escalar entre  (-0.500000000000000, 0.500000000000000, 0.500000000000000, -0.500000000000000)  i  (0.500000000000000, -0.500000000000000, 0.500000000000000, -0.500000000000000)  és  0.000000000000000\n",
      "El producte escalar entre  (0.500000000000000, -0.500000000000000, 0.500000000000000, -0.500000000000000)  i  (0.500000000000000, -0.500000000000000, 0.500000000000000, -0.500000000000000)  és  1.00000000000000\n"
     ]
    }
   ],
   "source": [
    "w3temp = B[2] - sum([(B[2]*BO[j])*BO[j] for j in range(2)])\n",
    "print(w3temp)\n",
    "w3 = w3temp/sqrt(w3temp*w3temp)\n",
    "print(w3)\n",
    "BO.append(w3)\n",
    "show(BO)\n",
    "print(span(RR,B[0:3]) == span(RR,BO))\n",
    "show(BO[2],\" té norma \",sqrt(BO[2]*BO[2]))\n",
    "for j in range(3):\n",
    "    for k in range(j,3):\n",
    "        print(\"El producte escalar entre \",BO[j],\" i \",BO[k],\" és \",BO[j]*BO[k])"
   ]
  },
  {
   "cell_type": "code",
   "execution_count": null,
   "metadata": {},
   "outputs": [],
   "source": []
  },
  {
   "cell_type": "markdown",
   "metadata": {},
   "source": [
    "Diagonalització per matrius simètriques"
   ]
  },
  {
   "cell_type": "markdown",
   "metadata": {},
   "source": [
    "Si tenim A simètrica, existeix P ortogonal on A=PDP^t amb D diagonal. Anem a trobar P i D en SageMath."
   ]
  },
  {
   "cell_type": "code",
   "execution_count": null,
   "metadata": {},
   "outputs": [],
   "source": []
  },
  {
   "cell_type": "code",
   "execution_count": 21,
   "metadata": {},
   "outputs": [
    {
     "data": {
      "text/html": [
       "<html><script type=\"math/tex; mode=display\">\\newcommand{\\Bold}[1]{\\mathbf{#1}}\\left(\\begin{array}{rrr}\n",
       "1 & 2 & 3 \\\\\n",
       "2 & 1 & 2 \\\\\n",
       "3 & 2 & 1\n",
       "\\end{array}\\right)</script></html>"
      ],
      "text/latex": [
       "\\begin{math}\n",
       "\\newcommand{\\Bold}[1]{\\mathbf{#1}}\\left(\\begin{array}{rrr}\n",
       "1 & 2 & 3 \\\\\n",
       "2 & 1 & 2 \\\\\n",
       "3 & 2 & 1\n",
       "\\end{array}\\right)\n",
       "\\end{math}"
      ],
      "text/plain": [
       "[1 2 3]\n",
       "[2 1 2]\n",
       "[3 2 1]"
      ]
     },
     "metadata": {},
     "output_type": "display_data"
    }
   ],
   "source": [
    "A=matrix(QQ,3,3,[1,2,3,2,1,2,3,2,1]);\n",
    "show(A)"
   ]
  },
  {
   "cell_type": "markdown",
   "metadata": {},
   "source": [
    "Tenim que la matriu A simètrica. Anem a trobar P invertible on A=PDP^(-1)"
   ]
  },
  {
   "cell_type": "code",
   "execution_count": 22,
   "metadata": {},
   "outputs": [
    {
     "data": {
      "text/html": [
       "<html><script type=\"math/tex; mode=display\">\\newcommand{\\Bold}[1]{\\mathbf{#1}}\\left(\\begin{array}{rrr}\n",
       "1 & 1 & 1 \\\\\n",
       "0 & -2.350781059358213? & 0.8507810593582122? \\\\\n",
       "-1 & 1 & 1\n",
       "\\end{array}\\right)</script></html>"
      ],
      "text/latex": [
       "\\begin{math}\n",
       "\\newcommand{\\Bold}[1]{\\mathbf{#1}}\\left(\\begin{array}{rrr}\n",
       "1 & 1 & 1 \\\\\n",
       "0 & -2.350781059358213? & 0.8507810593582122? \\\\\n",
       "-1 & 1 & 1\n",
       "\\end{array}\\right)\n",
       "\\end{math}"
      ],
      "text/plain": [
       "[                  1                   1                   1]\n",
       "[                  0 -2.350781059358213? 0.8507810593582122?]\n",
       "[                 -1                   1                   1]"
      ]
     },
     "metadata": {},
     "output_type": "display_data"
    },
    {
     "data": {
      "text/html": [
       "<html><script type=\"math/tex; mode=display\">\\newcommand{\\Bold}[1]{\\mathbf{#1}}\\left(\\begin{array}{rrr}\n",
       "-2 & 0 & 0 \\\\\n",
       "0 & -0.7015621187164243? & 0 \\\\\n",
       "0 & 0 & 5.701562118716425?\n",
       "\\end{array}\\right)</script></html>"
      ],
      "text/latex": [
       "\\begin{math}\n",
       "\\newcommand{\\Bold}[1]{\\mathbf{#1}}\\left(\\begin{array}{rrr}\n",
       "-2 & 0 & 0 \\\\\n",
       "0 & -0.7015621187164243? & 0 \\\\\n",
       "0 & 0 & 5.701562118716425?\n",
       "\\end{array}\\right)\n",
       "\\end{math}"
      ],
      "text/plain": [
       "[                  -2                    0                    0]\n",
       "[                   0 -0.7015621187164243?                    0]\n",
       "[                   0                    0   5.701562118716425?]"
      ]
     },
     "metadata": {},
     "output_type": "display_data"
    }
   ],
   "source": [
    "D,P=A.eigenmatrix_right();\n",
    "show(P);\n",
    "show(D);"
   ]
  },
  {
   "cell_type": "markdown",
   "metadata": {},
   "source": [
    "Anem a trobar una P ortogonal."
   ]
  },
  {
   "cell_type": "code",
   "execution_count": 23,
   "metadata": {},
   "outputs": [
    {
     "data": {
      "text/html": [
       "<html><script type=\"math/tex; mode=display\">\\newcommand{\\Bold}[1]{\\mathbf{#1}}\\left(\\begin{array}{rrr}\n",
       "2 & 0 & 0 \\\\\n",
       "0 & 7.526171589037319? & 0.?e-18 \\\\\n",
       "0 & 0.?e-18 & 2.723828410962682?\n",
       "\\end{array}\\right)</script></html>"
      ],
      "text/latex": [
       "\\begin{math}\n",
       "\\newcommand{\\Bold}[1]{\\mathbf{#1}}\\left(\\begin{array}{rrr}\n",
       "2 & 0 & 0 \\\\\n",
       "0 & 7.526171589037319? & 0.?e-18 \\\\\n",
       "0 & 0.?e-18 & 2.723828410962682?\n",
       "\\end{array}\\right)\n",
       "\\end{math}"
      ],
      "text/plain": [
       "[                 2                  0                  0]\n",
       "[                 0 7.526171589037319?            0.?e-18]\n",
       "[                 0            0.?e-18 2.723828410962682?]"
      ]
     },
     "metadata": {},
     "output_type": "display_data"
    }
   ],
   "source": [
    "P2=P.transpose();\n",
    "show(P2*P);"
   ]
  },
  {
   "cell_type": "markdown",
   "metadata": {},
   "source": [
    "Aquesta P no és ortogonal."
   ]
  },
  {
   "cell_type": "code",
   "execution_count": 24,
   "metadata": {},
   "outputs": [
    {
     "data": {
      "text/html": [
       "<html><script type=\"math/tex; mode=display\">\\newcommand{\\Bold}[1]{\\mathbf{#1}}\\left(\\begin{array}{rrr}\n",
       "1 & 0 & -1 \\\\\n",
       "1 & -2.350781059358213? & 1 \\\\\n",
       "1.000000000000000? & 0.8507810593582122? & 1.000000000000000?\n",
       "\\end{array}\\right)</script></html>"
      ],
      "text/latex": [
       "\\begin{math}\n",
       "\\newcommand{\\Bold}[1]{\\mathbf{#1}}\\left(\\begin{array}{rrr}\n",
       "1 & 0 & -1 \\\\\n",
       "1 & -2.350781059358213? & 1 \\\\\n",
       "1.000000000000000? & 0.8507810593582122? & 1.000000000000000?\n",
       "\\end{array}\\right)\n",
       "\\end{math}"
      ],
      "text/plain": [
       "[                  1                   0                  -1]\n",
       "[                  1 -2.350781059358213?                   1]\n",
       "[ 1.000000000000000? 0.8507810593582122?  1.000000000000000?]"
      ]
     },
     "metadata": {},
     "output_type": "display_data"
    }
   ],
   "source": [
    "show(P2.gram_schmidt()[0]);\n",
    "R=P2.gram_schmidt()[0].transpose();"
   ]
  },
  {
   "cell_type": "markdown",
   "metadata": {},
   "source": [
    "Instrucció Gram-Schmidt, si funciona, calcula amb files ortogonals dos a dos. Recordeu que P ortogonal, les columnes son dos a dos ortogonals i a més unitàries."
   ]
  },
  {
   "cell_type": "code",
   "execution_count": 25,
   "metadata": {},
   "outputs": [],
   "source": [
    "def normalize_columns(M):\n",
    "    return column_matrix([v/v.norm() for v in M.columns()]);\n",
    "P3=normalize_columns(R);"
   ]
  },
  {
   "cell_type": "markdown",
   "metadata": {},
   "source": [
    "El resultat hauria de ser matriu ortogonal buscada."
   ]
  },
  {
   "cell_type": "code",
   "execution_count": 26,
   "metadata": {},
   "outputs": [],
   "source": [
    "P3.transpose()*P3;"
   ]
  },
  {
   "cell_type": "code",
   "execution_count": 27,
   "metadata": {},
   "outputs": [
    {
     "data": {
      "text/html": [
       "<html><script type=\"math/tex; mode=display\">\\newcommand{\\Bold}[1]{\\mathbf{#1}}\\left(\\begin{array}{rrr}\n",
       "1.000000000000000? & 2.000000000000000? & 3.000000000000000? \\\\\n",
       "2.000000000000000? & 1.000000000000000? & 2.000000000000000? \\\\\n",
       "3.000000000000000? & 2.000000000000000? & 1.000000000000000?\n",
       "\\end{array}\\right)</script></html>"
      ],
      "text/latex": [
       "\\begin{math}\n",
       "\\newcommand{\\Bold}[1]{\\mathbf{#1}}\\left(\\begin{array}{rrr}\n",
       "1.000000000000000? & 2.000000000000000? & 3.000000000000000? \\\\\n",
       "2.000000000000000? & 1.000000000000000? & 2.000000000000000? \\\\\n",
       "3.000000000000000? & 2.000000000000000? & 1.000000000000000?\n",
       "\\end{array}\\right)\n",
       "\\end{math}"
      ],
      "text/plain": [
       "[1.000000000000000? 2.000000000000000? 3.000000000000000?]\n",
       "[2.000000000000000? 1.000000000000000? 2.000000000000000?]\n",
       "[3.000000000000000? 2.000000000000000? 1.000000000000000?]"
      ]
     },
     "metadata": {},
     "output_type": "display_data"
    },
    {
     "data": {
      "text/html": [
       "<html><script type=\"math/tex; mode=display\">\\newcommand{\\Bold}[1]{\\mathbf{#1}}\\left(\\begin{array}{rrr}\n",
       "1 & 2 & 3 \\\\\n",
       "2 & 1 & 2 \\\\\n",
       "3 & 2 & 1\n",
       "\\end{array}\\right)</script></html>"
      ],
      "text/latex": [
       "\\begin{math}\n",
       "\\newcommand{\\Bold}[1]{\\mathbf{#1}}\\left(\\begin{array}{rrr}\n",
       "1 & 2 & 3 \\\\\n",
       "2 & 1 & 2 \\\\\n",
       "3 & 2 & 1\n",
       "\\end{array}\\right)\n",
       "\\end{math}"
      ],
      "text/plain": [
       "[1 2 3]\n",
       "[2 1 2]\n",
       "[3 2 1]"
      ]
     },
     "metadata": {},
     "output_type": "display_data"
    }
   ],
   "source": [
    "show(P3*D*P3.transpose());\n",
    "show(A);"
   ]
  },
  {
   "cell_type": "markdown",
   "metadata": {},
   "source": [
    "$\\rule{15cm}{3pt}$"
   ]
  },
  {
   "cell_type": "markdown",
   "metadata": {},
   "source": [
    "### Exercici"
   ]
  },
  {
   "cell_type": "markdown",
   "metadata": {},
   "source": [
    "$\\rule{15cm}{3pt}$"
   ]
  },
  {
   "cell_type": "markdown",
   "metadata": {},
   "source": [
    "Feu una funció en **SageMath** que, donada una llista de vectors linealment independents $[\\vec v_1, \\dots, \\vec v_k]$ retorni la llista de vectors $[\\vec w_1, \\dots, \\vec w_k]$ corresponents a la ortogonalització de Gram-Schmidt de $[\\vec v_1, \\dots, \\vec v_k]$."
   ]
  },
  {
   "cell_type": "code",
   "execution_count": 28,
   "metadata": {},
   "outputs": [],
   "source": [
    "def ortogonalitzacioGM(B):\n",
    "    #Omplir el codi aquí\n",
    "    BO = []\n",
    "    for i,v in enumerate(B):\n",
    "        wt = v - sum([(v*BO[j])*BO[j] for j in range(i)])\n",
    "        w = wt/sqrt(wt*wt)\n",
    "        BO.append(w)\n",
    "    return BO"
   ]
  },
  {
   "cell_type": "code",
   "execution_count": 29,
   "metadata": {},
   "outputs": [
    {
     "data": {
      "text/plain": [
       "[(1.00000000000000, 1.00000000000000, 1.00000000000000, 1.00000000000000),\n",
       " (-1.00000000000000, 4.00000000000000, 4.00000000000000, -1.00000000000000),\n",
       " (4.00000000000000, -2.00000000000000, 2.00000000000000, 0.000000000000000)]"
      ]
     },
     "execution_count": 29,
     "metadata": {},
     "output_type": "execute_result"
    }
   ],
   "source": [
    "B"
   ]
  },
  {
   "cell_type": "markdown",
   "metadata": {},
   "source": [
    "Comproveu el funcionament amb la base $B=[(1,1,1,1),(-1,4,4,-1),(4,-2,2,0)]$."
   ]
  },
  {
   "cell_type": "code",
   "execution_count": 30,
   "metadata": {},
   "outputs": [
    {
     "data": {
      "text/html": [
       "<html><script type=\"math/tex; mode=display\">\\newcommand{\\Bold}[1]{\\mathbf{#1}}\\left[\\left(0.500000000000000,\\,0.500000000000000,\\,0.500000000000000,\\,0.500000000000000\\right), \\left(-0.500000000000000,\\,0.500000000000000,\\,0.500000000000000,\\,-0.500000000000000\\right), \\left(0.500000000000000,\\,-0.500000000000000,\\,0.500000000000000,\\,-0.500000000000000\\right)\\right]</script></html>"
      ],
      "text/latex": [
       "\\begin{math}\n",
       "\\newcommand{\\Bold}[1]{\\mathbf{#1}}\\left[\\left(0.500000000000000,\\,0.500000000000000,\\,0.500000000000000,\\,0.500000000000000\\right), \\left(-0.500000000000000,\\,0.500000000000000,\\,0.500000000000000,\\,-0.500000000000000\\right), \\left(0.500000000000000,\\,-0.500000000000000,\\,0.500000000000000,\\,-0.500000000000000\\right)\\right]\n",
       "\\end{math}"
      ],
      "text/plain": [
       "[(0.500000000000000, 0.500000000000000, 0.500000000000000, 0.500000000000000),\n",
       " (-0.500000000000000, 0.500000000000000, 0.500000000000000, -0.500000000000000),\n",
       " (0.500000000000000, -0.500000000000000, 0.500000000000000, -0.500000000000000)]"
      ]
     },
     "metadata": {},
     "output_type": "display_data"
    }
   ],
   "source": [
    "show(ortogonalitzacioGM(B))"
   ]
  },
  {
   "cell_type": "markdown",
   "metadata": {},
   "source": [
    "Calculeu bases ortogonals dels subespais següents:\n",
    "* $G=\\langle (1,1,1) , (1,2,3) \\rangle \\subset R^3$.\n",
    "* $H=\\langle (1,1,1,1,1), (1,-1,4,2,3), (0,3,4,1,-1), (1,2,3,4,5) \\rangle \\subset R^5$."
   ]
  },
  {
   "cell_type": "code",
   "execution_count": 31,
   "metadata": {},
   "outputs": [
    {
     "data": {
      "text/html": [
       "<html><script type=\"math/tex; mode=display\">\\newcommand{\\Bold}[1]{\\mathbf{#1}}\\left[\\left(0.577350269189626,\\,0.577350269189626,\\,0.577350269189626\\right), \\left(-0.707106781186548,\\,-3.14018491736755 \\times 10^{-16},\\,0.707106781186547\\right)\\right]</script></html>"
      ],
      "text/latex": [
       "\\begin{math}\n",
       "\\newcommand{\\Bold}[1]{\\mathbf{#1}}\\left[\\left(0.577350269189626,\\,0.577350269189626,\\,0.577350269189626\\right), \\left(-0.707106781186548,\\,-3.14018491736755 \\times 10^{-16},\\,0.707106781186547\\right)\\right]\n",
       "\\end{math}"
      ],
      "text/plain": [
       "[(0.577350269189626, 0.577350269189626, 0.577350269189626),\n",
       " (-0.707106781186548, -3.14018491736755e-16, 0.707106781186547)]"
      ]
     },
     "metadata": {},
     "output_type": "display_data"
    }
   ],
   "source": [
    "BG = [vector(RR,[1,1,1]),vector(RR,(1,2,3))]\n",
    "show(ortogonalitzacioGM(BG))"
   ]
  },
  {
   "cell_type": "code",
   "execution_count": 32,
   "metadata": {},
   "outputs": [
    {
     "data": {
      "text/html": [
       "<html><script type=\"math/tex; mode=display\">\\newcommand{\\Bold}[1]{\\mathbf{#1}}\\left[\\left(0.447213595499958,\\,0.447213595499958,\\,0.447213595499958,\\,0.447213595499958,\\,0.447213595499958\\right), \\left(-0.207950097964014,\\,-0.727825342874051,\\,0.571862769401040,\\,0.0519875244910037,\\,0.311925146946022\\right), \\left(-0.345634614944548,\\,0.358677430602833,\\,0.648880078999671,\\,-0.0945604135225651,\\,-0.567362481135390\\right), \\left(-0.796210539819454,\\,0.266268371972208,\\,-0.189079733081361,\\,0.338267858668713,\\,0.380754042259894\\right)\\right]</script></html>"
      ],
      "text/latex": [
       "\\begin{math}\n",
       "\\newcommand{\\Bold}[1]{\\mathbf{#1}}\\left[\\left(0.447213595499958,\\,0.447213595499958,\\,0.447213595499958,\\,0.447213595499958,\\,0.447213595499958\\right), \\left(-0.207950097964014,\\,-0.727825342874051,\\,0.571862769401040,\\,0.0519875244910037,\\,0.311925146946022\\right), \\left(-0.345634614944548,\\,0.358677430602833,\\,0.648880078999671,\\,-0.0945604135225651,\\,-0.567362481135390\\right), \\left(-0.796210539819454,\\,0.266268371972208,\\,-0.189079733081361,\\,0.338267858668713,\\,0.380754042259894\\right)\\right]\n",
       "\\end{math}"
      ],
      "text/plain": [
       "[(0.447213595499958, 0.447213595499958, 0.447213595499958, 0.447213595499958, 0.447213595499958),\n",
       " (-0.207950097964014, -0.727825342874051, 0.571862769401040, 0.0519875244910037, 0.311925146946022),\n",
       " (-0.345634614944548, 0.358677430602833, 0.648880078999671, -0.0945604135225651, -0.567362481135390),\n",
       " (-0.796210539819454, 0.266268371972208, -0.189079733081361, 0.338267858668713, 0.380754042259894)]"
      ]
     },
     "metadata": {},
     "output_type": "display_data"
    }
   ],
   "source": [
    "BH = [vector(RR,(1,1,1,1,1)),vector(RR,(1,-1,4,2,3)),\n",
    "      vector(RR,(0,3,4,1,-1)),vector(RR,(1,2,3,4,5))]\n",
    "show(ortogonalitzacioGM(BH))"
   ]
  },
  {
   "cell_type": "markdown",
   "metadata": {},
   "source": [
    "$\\rule{15cm}{3pt}$"
   ]
  },
  {
   "cell_type": "markdown",
   "metadata": {},
   "source": [
    "Exercici. Considereu la matriu B=[[10,2],[2,-10]]. Calculeu una P4 invertible i D diagonal on B=P4*D*P4^(-1). Trobeu P5 ortogonal on B=PDP^{t}"
   ]
  },
  {
   "cell_type": "markdown",
   "metadata": {},
   "source": [
    "Factorització de valors Singulars."
   ]
  },
  {
   "cell_type": "markdown",
   "metadata": {},
   "source": [
    "Hem vist a classe la factorització en valors singulars on A=U*Sigma*V^t on U,V matrius ortogonals i Sigma sol té valors no zeros en les possicions (i,i) de la matriu, corresponent als valors singulars de A de més gran a més petits."
   ]
  },
  {
   "cell_type": "markdown",
   "metadata": {},
   "source": [
    "Busquem la factorització en valors singulars per una matriu C arbitrària."
   ]
  },
  {
   "cell_type": "code",
   "execution_count": 41,
   "metadata": {},
   "outputs": [],
   "source": [
    " C=matrix(CDF, [[1,2,3],[1,4,7]]);\n"
   ]
  },
  {
   "cell_type": "code",
   "execution_count": 46,
   "metadata": {},
   "outputs": [
    {
     "data": {
      "text/html": [
       "<html><script type=\"math/tex; mode=display\">\\newcommand{\\Bold}[1]{\\mathbf{#1}}\\left(\\begin{array}{rrr}\n",
       "8.927422163343595 & 0.0 & 0.0 \\\\\n",
       "0.0 & 0.5487563370400236 & 0.0\n",
       "\\end{array}\\right)</script></html>"
      ],
      "text/latex": [
       "\\begin{math}\n",
       "\\newcommand{\\Bold}[1]{\\mathbf{#1}}\\left(\\begin{array}{rrr}\n",
       "8.927422163343595 & 0.0 & 0.0 \\\\\n",
       "0.0 & 0.5487563370400236 & 0.0\n",
       "\\end{array}\\right)\n",
       "\\end{math}"
      ],
      "text/plain": [
       "[ 8.927422163343595                0.0                0.0]\n",
       "[               0.0 0.5487563370400236                0.0]"
      ]
     },
     "metadata": {},
     "output_type": "display_data"
    },
    {
     "data": {
      "text/html": [
       "<html><script type=\"math/tex; mode=display\">\\newcommand{\\Bold}[1]{\\mathbf{#1}}\\left(\\begin{array}{rr}\n",
       "-0.4153730020007066 & -0.909651179963463 \\\\\n",
       "-0.909651179963463 & 0.4153730020007066\n",
       "\\end{array}\\right)</script></html>"
      ],
      "text/latex": [
       "\\begin{math}\n",
       "\\newcommand{\\Bold}[1]{\\mathbf{#1}}\\left(\\begin{array}{rr}\n",
       "-0.4153730020007066 & -0.909651179963463 \\\\\n",
       "-0.909651179963463 & 0.4153730020007066\n",
       "\\end{array}\\right)\n",
       "\\end{math}"
      ],
      "text/plain": [
       "[-0.4153730020007066  -0.909651179963463]\n",
       "[ -0.909651179963463  0.4153730020007066]"
      ]
     },
     "metadata": {},
     "output_type": "display_data"
    },
    {
     "data": {
      "text/html": [
       "<html><script type=\"math/tex; mode=display\">\\newcommand{\\Bold}[1]{\\mathbf{#1}}\\left(\\begin{array}{rrr}\n",
       "-0.14842181289519157 & -0.9007243189734793 & 0.4082482904638637 \\\\\n",
       "-0.5006317212382568 & -0.28757818593098095 & -0.816496580927726 \\\\\n",
       "-0.8528416295813221 & 0.3255679471115185 & 0.40824829046386274\n",
       "\\end{array}\\right)</script></html>"
      ],
      "text/latex": [
       "\\begin{math}\n",
       "\\newcommand{\\Bold}[1]{\\mathbf{#1}}\\left(\\begin{array}{rrr}\n",
       "-0.14842181289519157 & -0.9007243189734793 & 0.4082482904638637 \\\\\n",
       "-0.5006317212382568 & -0.28757818593098095 & -0.816496580927726 \\\\\n",
       "-0.8528416295813221 & 0.3255679471115185 & 0.40824829046386274\n",
       "\\end{array}\\right)\n",
       "\\end{math}"
      ],
      "text/plain": [
       "[-0.14842181289519157  -0.9007243189734793   0.4082482904638637]\n",
       "[ -0.5006317212382568 -0.28757818593098095   -0.816496580927726]\n",
       "[ -0.8528416295813221   0.3255679471115185  0.40824829046386274]"
      ]
     },
     "metadata": {},
     "output_type": "display_data"
    }
   ],
   "source": [
    "Uu,Sig,Vv=C.SVD();\n",
    "show(Sig);show(Uu);show(Vv);"
   ]
  },
  {
   "cell_type": "code",
   "execution_count": 47,
   "metadata": {},
   "outputs": [
    {
     "data": {
      "text/html": [
       "<html><script type=\"math/tex; mode=display\">\\newcommand{\\Bold}[1]{\\mathbf{#1}}\\left(\\begin{array}{rrr}\n",
       "0.9999999999999993 & 1.9999999999999998 & 2.9999999999999996 \\\\\n",
       "0.9999999999999996 & 4.0 & 7.000000000000001\n",
       "\\end{array}\\right)</script></html>"
      ],
      "text/latex": [
       "\\begin{math}\n",
       "\\newcommand{\\Bold}[1]{\\mathbf{#1}}\\left(\\begin{array}{rrr}\n",
       "0.9999999999999993 & 1.9999999999999998 & 2.9999999999999996 \\\\\n",
       "0.9999999999999996 & 4.0 & 7.000000000000001\n",
       "\\end{array}\\right)\n",
       "\\end{math}"
      ],
      "text/plain": [
       "[0.9999999999999993 1.9999999999999998 2.9999999999999996]\n",
       "[0.9999999999999996                4.0  7.000000000000001]"
      ]
     },
     "metadata": {},
     "output_type": "display_data"
    },
    {
     "data": {
      "text/html": [
       "<html><script type=\"math/tex; mode=display\">\\newcommand{\\Bold}[1]{\\mathbf{#1}}\\left(\\begin{array}{rrr}\n",
       "1.0 & 2.0 & 3.0 \\\\\n",
       "1.0 & 4.0 & 7.0\n",
       "\\end{array}\\right)</script></html>"
      ],
      "text/latex": [
       "\\begin{math}\n",
       "\\newcommand{\\Bold}[1]{\\mathbf{#1}}\\left(\\begin{array}{rrr}\n",
       "1.0 & 2.0 & 3.0 \\\\\n",
       "1.0 & 4.0 & 7.0\n",
       "\\end{array}\\right)\n",
       "\\end{math}"
      ],
      "text/plain": [
       "[1.0 2.0 3.0]\n",
       "[1.0 4.0 7.0]"
      ]
     },
     "metadata": {},
     "output_type": "display_data"
    }
   ],
   "source": [
    "show(Uu*Sig*Vv.transpose());\n",
    "show(C);"
   ]
  }
 ],
 "metadata": {
  "kernelspec": {
   "display_name": "SageMath 9.3",
   "language": "sage",
   "name": "sagemath"
  },
  "language_info": {
   "codemirror_mode": {
    "name": "ipython",
    "version": 3
   },
   "file_extension": ".py",
   "mimetype": "text/x-python",
   "name": "python",
   "nbconvert_exporter": "python",
   "pygments_lexer": "ipython3",
   "version": "3.7.10"
  }
 },
 "nbformat": 4,
 "nbformat_minor": 2
}
