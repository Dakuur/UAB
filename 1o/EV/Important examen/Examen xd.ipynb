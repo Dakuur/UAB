{
 "cells": [
  {
   "cell_type": "markdown",
   "metadata": {
    "id": "7BoHwpd0RM2R"
   },
   "source": [
    "# <font color=red> Evaluació de Espais Vectorials </font>"
   ]
  },
  {
   "cell_type": "markdown",
   "metadata": {
    "id": "ZI9iz9j7RM2T"
   },
   "source": [
    "<font color=green> Definiu un vector $niu$ de l'espai $\\mathbb{Q}^7$ format per les xifres decimals del vostre NIU. Així, si el vostre niu fos $1234567$, aleshores el vector ha de ser $\\vec{niu}=(1,2,3,4,5,6,7)$. </font>"
   ]
  },
  {
   "cell_type": "code",
   "execution_count": 2,
   "metadata": {
    "colab": {
     "base_uri": "https://localhost:8080/",
     "height": 215
    },
    "id": "UHX9MrmNRM2U",
    "outputId": "bd529995-ea40-4f93-aac1-54b0c3b9af2e",
    "vscode": {
     "languageId": "python"
    }
   },
   "outputs": [
    {
     "data": {
      "text/html": [
       "<html><script type=\"math/tex; mode=display\">\\newcommand{\\Bold}[1]{\\mathbf{#1}}\\left(1,\\,6,\\,6,\\,6,\\,5,\\,4,\\,0\\right)</script></html>"
      ],
      "text/latex": [
       "$$\\newcommand{\\Bold}[1]{\\mathbf{#1}}\\left(1,\\,6,\\,6,\\,6,\\,5,\\,4,\\,0\\right)$$"
      ],
      "text/plain": [
       "(1, 6, 6, 6, 5, 4, 0)"
      ]
     },
     "metadata": {},
     "output_type": "display_data"
    }
   ],
   "source": [
    "niu=vector([1,6,6,6,5,4,0])\n",
    "show(niu)"
   ]
  },
  {
   "cell_type": "markdown",
   "metadata": {
    "id": "ls2mfbKIRM2V"
   },
   "source": [
    "<font color=green> Definiu un altre vector $\\vec{pas}:=(1, -1, 2, -1, 3, -1, 2)$ del mateix espai. </font>"
   ]
  },
  {
   "cell_type": "code",
   "execution_count": 3,
   "metadata": {
    "colab": {
     "base_uri": "https://localhost:8080/",
     "height": 198
    },
    "id": "BDUf2PRxRM2W",
    "outputId": "db6634df-9d72-483a-f22c-80ae1821f9fa",
    "vscode": {
     "languageId": "python"
    }
   },
   "outputs": [],
   "source": [
    "pas=vector((1, -1, 2, -1, 3, -1, 2))"
   ]
  },
  {
   "cell_type": "code",
   "execution_count": null,
   "metadata": {
    "id": "mF5E1XuMRM2W",
    "vscode": {
     "languageId": "python"
    }
   },
   "outputs": [],
   "source": []
  },
  {
   "cell_type": "markdown",
   "metadata": {
    "id": "Dfw-pYKtRM2W"
   },
   "source": [
    "<font color=green> Construiu la matriu A formada afeguint a la matriu A1 que us donem els vectors pass i niu com a últimes files (amb aquest ordre). No si val a tornar-los a escriure! </font>"
   ]
  },
  {
   "cell_type": "code",
   "execution_count": 4,
   "metadata": {
    "id": "qSnyn6DWRM2X",
    "vscode": {
     "languageId": "python"
    }
   },
   "outputs": [],
   "source": [
    "A1=matrix(QQ,5,7,[\n",
    " [0, 1, 2, -2, 2, -9, 1],\n",
    " [0, 2, 4, -3, 5, -17, 1],\n",
    " [0, 3, 6, -7, 6, -29, 7],\n",
    " [0, 1, 2, -3, 1, -10, 3],\n",
    " [0, 1, 2, -2, 3, -10, 5]])"
   ]
  },
  {
   "cell_type": "code",
   "execution_count": 5,
   "metadata": {
    "id": "TprbGqohRM2Y",
    "outputId": "b0e7af4d-009d-48d0-e97e-d2559bed557c",
    "vscode": {
     "languageId": "python"
    }
   },
   "outputs": [
    {
     "data": {
      "text/html": [
       "<html><script type=\"math/tex; mode=display\">\\newcommand{\\Bold}[1]{\\mathbf{#1}}\\left(\\begin{array}{rrrrrrr}\n",
       "0 & 1 & 2 & -2 & 2 & -9 & 1 \\\\\n",
       "0 & 2 & 4 & -3 & 5 & -17 & 1 \\\\\n",
       "0 & 3 & 6 & -7 & 6 & -29 & 7 \\\\\n",
       "0 & 1 & 2 & -3 & 1 & -10 & 3 \\\\\n",
       "0 & 1 & 2 & -2 & 3 & -10 & 5 \\\\\n",
       "1 & -1 & 2 & -1 & 3 & -1 & 2 \\\\\n",
       "1 & 6 & 6 & 6 & 5 & 4 & 0\n",
       "\\end{array}\\right)</script></html>"
      ],
      "text/latex": [
       "$$\\newcommand{\\Bold}[1]{\\mathbf{#1}}\\left(\\begin{array}{rrrrrrr}\n",
       "0 & 1 & 2 & -2 & 2 & -9 & 1 \\\\\n",
       "0 & 2 & 4 & -3 & 5 & -17 & 1 \\\\\n",
       "0 & 3 & 6 & -7 & 6 & -29 & 7 \\\\\n",
       "0 & 1 & 2 & -3 & 1 & -10 & 3 \\\\\n",
       "0 & 1 & 2 & -2 & 3 & -10 & 5 \\\\\n",
       "1 & -1 & 2 & -1 & 3 & -1 & 2 \\\\\n",
       "1 & 6 & 6 & 6 & 5 & 4 & 0\n",
       "\\end{array}\\right)$$"
      ],
      "text/plain": [
       "[  0   1   2  -2   2  -9   1]\n",
       "[  0   2   4  -3   5 -17   1]\n",
       "[  0   3   6  -7   6 -29   7]\n",
       "[  0   1   2  -3   1 -10   3]\n",
       "[  0   1   2  -2   3 -10   5]\n",
       "[  1  -1   2  -1   3  -1   2]\n",
       "[  1   6   6   6   5   4   0]"
      ]
     },
     "metadata": {},
     "output_type": "display_data"
    }
   ],
   "source": [
    "A=A1.transpose().augment(pas).augment(niu).transpose()\n",
    "show(A)"
   ]
  },
  {
   "cell_type": "markdown",
   "metadata": {
    "id": "Uk3UxEgCRM2Y"
   },
   "source": [
    "<font color=green> Construiu una matriu $B$  de mida $5\\times 5$ obtinguda prenent les 5 primeres files i columnes de la matriu A i transposant-la. </font>"
   ]
  },
  {
   "cell_type": "code",
   "execution_count": 6,
   "metadata": {
    "id": "emc89Y3zRM2Y",
    "outputId": "a93ac4c6-890a-4ea8-8c55-fbd0dd0c0f93",
    "vscode": {
     "languageId": "python"
    }
   },
   "outputs": [
    {
     "data": {
      "text/html": [
       "<html><script type=\"math/tex; mode=display\">\\newcommand{\\Bold}[1]{\\mathbf{#1}}\\left(\\begin{array}{rrrrr}\n",
       "0 & 0 & 0 & 0 & 0 \\\\\n",
       "1 & 2 & 3 & 1 & 1 \\\\\n",
       "2 & 4 & 6 & 2 & 2 \\\\\n",
       "-2 & -3 & -7 & -3 & -2 \\\\\n",
       "2 & 5 & 6 & 1 & 3\n",
       "\\end{array}\\right)</script></html>"
      ],
      "text/latex": [
       "$$\\newcommand{\\Bold}[1]{\\mathbf{#1}}\\left(\\begin{array}{rrrrr}\n",
       "0 & 0 & 0 & 0 & 0 \\\\\n",
       "1 & 2 & 3 & 1 & 1 \\\\\n",
       "2 & 4 & 6 & 2 & 2 \\\\\n",
       "-2 & -3 & -7 & -3 & -2 \\\\\n",
       "2 & 5 & 6 & 1 & 3\n",
       "\\end{array}\\right)$$"
      ],
      "text/plain": [
       "[ 0  0  0  0  0]\n",
       "[ 1  2  3  1  1]\n",
       "[ 2  4  6  2  2]\n",
       "[-2 -3 -7 -3 -2]\n",
       "[ 2  5  6  1  3]"
      ]
     },
     "metadata": {},
     "output_type": "display_data"
    }
   ],
   "source": [
    "B=A.matrix_from_rows_and_columns([0..4],[0..4]).transpose()\n",
    "show(B)"
   ]
  },
  {
   "cell_type": "markdown",
   "metadata": {
    "id": "W0AlgBx0RM2Z"
   },
   "source": [
    "<font color=green> Calculeu la forma esglaonada reduida de $A$ i de $B$. </font>"
   ]
  },
  {
   "cell_type": "code",
   "execution_count": 7,
   "metadata": {
    "id": "-8bWoQo5RM2Z",
    "outputId": "25b02f3f-f3f6-4e0a-d8b2-99b0f88f49fc",
    "vscode": {
     "languageId": "python"
    }
   },
   "outputs": [
    {
     "data": {
      "text/html": [
       "<html><script type=\"math/tex; mode=display\">\\newcommand{\\Bold}[1]{\\mathbf{#1}}\\left(\\begin{array}{rrrrrrr}\n",
       "1 & 0 & 0 & 0 & 0 & \\frac{33}{5} & 0 \\\\\n",
       "0 & 1 & 0 & 0 & 0 & -\\frac{1}{5} & 0 \\\\\n",
       "0 & 0 & 1 & 0 & 0 & -\\frac{7}{5} & 0 \\\\\n",
       "0 & 0 & 0 & 1 & 0 & 2 & 0 \\\\\n",
       "0 & 0 & 0 & 0 & 1 & -1 & 0 \\\\\n",
       "0 & 0 & 0 & 0 & 0 & 0 & 1 \\\\\n",
       "0 & 0 & 0 & 0 & 0 & 0 & 0\n",
       "\\end{array}\\right)</script></html>"
      ],
      "text/latex": [
       "$$\\newcommand{\\Bold}[1]{\\mathbf{#1}}\\left(\\begin{array}{rrrrrrr}\n",
       "1 & 0 & 0 & 0 & 0 & \\frac{33}{5} & 0 \\\\\n",
       "0 & 1 & 0 & 0 & 0 & -\\frac{1}{5} & 0 \\\\\n",
       "0 & 0 & 1 & 0 & 0 & -\\frac{7}{5} & 0 \\\\\n",
       "0 & 0 & 0 & 1 & 0 & 2 & 0 \\\\\n",
       "0 & 0 & 0 & 0 & 1 & -1 & 0 \\\\\n",
       "0 & 0 & 0 & 0 & 0 & 0 & 1 \\\\\n",
       "0 & 0 & 0 & 0 & 0 & 0 & 0\n",
       "\\end{array}\\right)$$"
      ],
      "text/plain": [
       "[   1    0    0    0    0 33/5    0]\n",
       "[   0    1    0    0    0 -1/5    0]\n",
       "[   0    0    1    0    0 -7/5    0]\n",
       "[   0    0    0    1    0    2    0]\n",
       "[   0    0    0    0    1   -1    0]\n",
       "[   0    0    0    0    0    0    1]\n",
       "[   0    0    0    0    0    0    0]"
      ]
     },
     "metadata": {},
     "output_type": "display_data"
    }
   ],
   "source": [
    "show(A.echelon_form())"
   ]
  },
  {
   "cell_type": "code",
   "execution_count": 8,
   "metadata": {
    "id": "QES8w0PvRM2a",
    "outputId": "12504bba-56a7-4bf0-85de-fc5f41631a9e",
    "vscode": {
     "languageId": "python"
    }
   },
   "outputs": [
    {
     "data": {
      "text/html": [
       "<html><script type=\"math/tex; mode=display\">\\newcommand{\\Bold}[1]{\\mathbf{#1}}\\left(\\begin{array}{rrrrr}\n",
       "1 & 0 & 0 & 3 & -4 \\\\\n",
       "0 & 1 & 0 & -1 & 1 \\\\\n",
       "0 & 0 & 1 & 0 & 1 \\\\\n",
       "0 & 0 & 0 & 0 & 0 \\\\\n",
       "0 & 0 & 0 & 0 & 0\n",
       "\\end{array}\\right)</script></html>"
      ],
      "text/latex": [
       "$$\\newcommand{\\Bold}[1]{\\mathbf{#1}}\\left(\\begin{array}{rrrrr}\n",
       "1 & 0 & 0 & 3 & -4 \\\\\n",
       "0 & 1 & 0 & -1 & 1 \\\\\n",
       "0 & 0 & 1 & 0 & 1 \\\\\n",
       "0 & 0 & 0 & 0 & 0 \\\\\n",
       "0 & 0 & 0 & 0 & 0\n",
       "\\end{array}\\right)$$"
      ],
      "text/plain": [
       "[ 1  0  0  3 -4]\n",
       "[ 0  1  0 -1  1]\n",
       "[ 0  0  1  0  1]\n",
       "[ 0  0  0  0  0]\n",
       "[ 0  0  0  0  0]"
      ]
     },
     "metadata": {},
     "output_type": "display_data"
    }
   ],
   "source": [
    "show(B.echelon_form())"
   ]
  },
  {
   "cell_type": "markdown",
   "metadata": {
    "id": "t3qnqc5tRM2a"
   },
   "source": [
    "<font color=green> Calculeu una matriu P i de forma que la matriu $PA$ sigui la forma esglaonada de $A$. </font>"
   ]
  },
  {
   "cell_type": "code",
   "execution_count": 9,
   "metadata": {
    "id": "joC62uU7RM2b",
    "outputId": "550fea12-1e4b-4a0a-d7f9-678520b503fc",
    "vscode": {
     "languageId": "python"
    }
   },
   "outputs": [
    {
     "data": {
      "text/html": [
       "<html><script type=\"math/tex; mode=display\">\\newcommand{\\Bold}[1]{\\mathbf{#1}}\\left(\\begin{array}{rrrrrrr}\n",
       "0 & -\\frac{279}{35} & \\frac{403}{35} & -\\frac{493}{35} & -\\frac{221}{35} & \\frac{3}{5} & \\frac{2}{5} \\\\\n",
       "0 & -\\frac{122}{35} & \\frac{184}{35} & -\\frac{229}{35} & -\\frac{93}{35} & -\\frac{1}{5} & \\frac{1}{5} \\\\\n",
       "0 & \\frac{41}{10} & -\\frac{31}{5} & \\frac{41}{5} & \\frac{29}{10} & \\frac{1}{10} & -\\frac{1}{10} \\\\\n",
       "0 & \\frac{10}{7} & -\\frac{16}{7} & \\frac{19}{7} & \\frac{9}{7} & 0 & 0 \\\\\n",
       "0 & -\\frac{6}{7} & \\frac{11}{7} & -\\frac{17}{7} & -\\frac{4}{7} & 0 & 0 \\\\\n",
       "0 & \\frac{1}{7} & -\\frac{3}{7} & \\frac{4}{7} & \\frac{3}{7} & 0 & 0 \\\\\n",
       "1 & -\\frac{2}{7} & -\\frac{1}{7} & -\\frac{1}{7} & \\frac{1}{7} & 0 & 0\n",
       "\\end{array}\\right)</script></html>"
      ],
      "text/latex": [
       "$$\\newcommand{\\Bold}[1]{\\mathbf{#1}}\\left(\\begin{array}{rrrrrrr}\n",
       "0 & -\\frac{279}{35} & \\frac{403}{35} & -\\frac{493}{35} & -\\frac{221}{35} & \\frac{3}{5} & \\frac{2}{5} \\\\\n",
       "0 & -\\frac{122}{35} & \\frac{184}{35} & -\\frac{229}{35} & -\\frac{93}{35} & -\\frac{1}{5} & \\frac{1}{5} \\\\\n",
       "0 & \\frac{41}{10} & -\\frac{31}{5} & \\frac{41}{5} & \\frac{29}{10} & \\frac{1}{10} & -\\frac{1}{10} \\\\\n",
       "0 & \\frac{10}{7} & -\\frac{16}{7} & \\frac{19}{7} & \\frac{9}{7} & 0 & 0 \\\\\n",
       "0 & -\\frac{6}{7} & \\frac{11}{7} & -\\frac{17}{7} & -\\frac{4}{7} & 0 & 0 \\\\\n",
       "0 & \\frac{1}{7} & -\\frac{3}{7} & \\frac{4}{7} & \\frac{3}{7} & 0 & 0 \\\\\n",
       "1 & -\\frac{2}{7} & -\\frac{1}{7} & -\\frac{1}{7} & \\frac{1}{7} & 0 & 0\n",
       "\\end{array}\\right)$$"
      ],
      "text/plain": [
       "[      0 -279/35  403/35 -493/35 -221/35     3/5     2/5]\n",
       "[      0 -122/35  184/35 -229/35  -93/35    -1/5     1/5]\n",
       "[      0   41/10   -31/5    41/5   29/10    1/10   -1/10]\n",
       "[      0    10/7   -16/7    19/7     9/7       0       0]\n",
       "[      0    -6/7    11/7   -17/7    -4/7       0       0]\n",
       "[      0     1/7    -3/7     4/7     3/7       0       0]\n",
       "[      1    -2/7    -1/7    -1/7     1/7       0       0]"
      ]
     },
     "metadata": {},
     "output_type": "display_data"
    }
   ],
   "source": [
    "P=A.extended_echelon_form().matrix_from_columns([7..13])\n",
    "show(P)"
   ]
  },
  {
   "cell_type": "code",
   "execution_count": 10,
   "metadata": {
    "id": "FjDCMk41RM2b",
    "outputId": "1af82d9f-ff62-4b46-b83b-db58c7604183",
    "vscode": {
     "languageId": "python"
    }
   },
   "outputs": [
    {
     "data": {
      "text/html": [
       "<html><script type=\"math/tex; mode=display\">\\newcommand{\\Bold}[1]{\\mathbf{#1}}\\mathrm{True}</script></html>"
      ],
      "text/latex": [
       "$$\\newcommand{\\Bold}[1]{\\mathbf{#1}}\\mathrm{True}$$"
      ],
      "text/plain": [
       "True"
      ]
     },
     "metadata": {},
     "output_type": "display_data"
    }
   ],
   "source": [
    "show(P*A == A.echelon_form())"
   ]
  },
  {
   "cell_type": "code",
   "execution_count": null,
   "metadata": {
    "id": "N_vd5v4eRM2c",
    "vscode": {
     "languageId": "python"
    }
   },
   "outputs": [],
   "source": []
  },
  {
   "cell_type": "markdown",
   "metadata": {
    "id": "Da0w6bsXRM2c"
   },
   "source": [
    "<font color=green> La següent funció retorna, per a cada matriu A, true o false depenen de si A té una certa forma o no la té. Quina forma? </font>"
   ]
  },
  {
   "cell_type": "code",
   "execution_count": 11,
   "metadata": {
    "id": "MJTl56OSRM2d",
    "vscode": {
     "languageId": "python"
    }
   },
   "outputs": [],
   "source": [
    "def NoSeQueFa(A):\n",
    "    n=A.nrows()\n",
    "    m=A.ncols()\n",
    "    u=1\n",
    "    for i in range(n):\n",
    "        for j in range(m):\n",
    "            if i!=j and A[i,j]!=0:\n",
    "                return(False)\n",
    "    for i in range(min(n,m)):\n",
    "        if A[i,i]!=1 and A[i,i]!=0:\n",
    "            return(False)\n",
    "        elif A[i,i]==0:\n",
    "            u=0\n",
    "        else:\n",
    "            if u==0: \n",
    "                return(False)\n",
    "    return(True)"
   ]
  },
  {
   "cell_type": "markdown",
   "metadata": {
    "id": "TIJL8MxiRM2e"
   },
   "source": [
    "<font color=red> Escriu aquí la resposta: </font> La funció respon True si se li dona una matriu de la forma obtinguda després de fer la PAQ reducció. O sigui, una matriu amb r 1's seguits a la diagonal, i la resta 0. O encara, que compleix que A[i,i]=1 per a i=0..r per un cert r>=0, i la resta de coeficients zero.\n",
    "\n",
    "Poso un exemple de matriu que no sigui ni la identitat, no tant sols sigui quadrada."
   ]
  },
  {
   "cell_type": "code",
   "execution_count": 12,
   "metadata": {
    "id": "6DykCyaiRM2f",
    "outputId": "d2ac3569-b565-4a74-ca87-8751c2de107b",
    "vscode": {
     "languageId": "python"
    }
   },
   "outputs": [
    {
     "data": {
      "text/html": [
       "<html><script type=\"math/tex; mode=display\">\\newcommand{\\Bold}[1]{\\mathbf{#1}}\\left(\\begin{array}{rrrr}\n",
       "1 & 0 & 0 & 0 \\\\\n",
       "0 & 1 & 0 & 0 \\\\\n",
       "0 & 0 & 0 & 0\n",
       "\\end{array}\\right)</script></html>"
      ],
      "text/latex": [
       "$$\\newcommand{\\Bold}[1]{\\mathbf{#1}}\\left(\\begin{array}{rrrr}\n",
       "1 & 0 & 0 & 0 \\\\\n",
       "0 & 1 & 0 & 0 \\\\\n",
       "0 & 0 & 0 & 0\n",
       "\\end{array}\\right)$$"
      ],
      "text/plain": [
       "[1 0 0 0]\n",
       "[0 1 0 0]\n",
       "[0 0 0 0]"
      ]
     },
     "metadata": {},
     "output_type": "display_data"
    },
    {
     "data": {
      "text/html": [
       "<html><script type=\"math/tex; mode=display\">\\newcommand{\\Bold}[1]{\\mathbf{#1}}\\mathrm{True}</script></html>"
      ],
      "text/latex": [
       "$$\\newcommand{\\Bold}[1]{\\mathbf{#1}}\\mathrm{True}$$"
      ],
      "text/plain": [
       "True"
      ]
     },
     "metadata": {},
     "output_type": "display_data"
    }
   ],
   "source": [
    "X=matrix(QQ,[[1,0,0,0],[0,1,0,0],[0,0,0,0]])\n",
    "show(X)\n",
    "show(NoSeQueFa(X))"
   ]
  },
  {
   "cell_type": "code",
   "execution_count": null,
   "metadata": {
    "id": "2Z_r1JK5RM2f",
    "vscode": {
     "languageId": "python"
    }
   },
   "outputs": [],
   "source": []
  },
  {
   "cell_type": "markdown",
   "metadata": {
    "id": "PjgLzmTDRM2g"
   },
   "source": [
    "<font color=green> Escriu la funció EsDiagonal que retorni true or false depenen de si A és o no és diagonal. </font>"
   ]
  },
  {
   "cell_type": "code",
   "execution_count": 13,
   "metadata": {
    "id": "ZnGHX_f1RM2g",
    "vscode": {
     "languageId": "python"
    }
   },
   "outputs": [],
   "source": [
    "def EsDiagonal(A):\n",
    "    n=A.nrows()\n",
    "    m=A.ncols()\n",
    "    if n!=m:\n",
    "        return False # Si la matriu no és quadrada, no és diagonal\n",
    "    for i in range(n):\n",
    "        for j in range(m):\n",
    "            if i!=j and A[i,j]!=0:\n",
    "                return(False)\n",
    "    return True"
   ]
  },
  {
   "cell_type": "code",
   "execution_count": 14,
   "metadata": {
    "id": "XJqR3nt5RM2h",
    "outputId": "2ff1ce9e-05ee-406b-cbcf-d837188dc081",
    "vscode": {
     "languageId": "python"
    }
   },
   "outputs": [
    {
     "name": "stdout",
     "output_type": "stream",
     "text": [
      "True\n"
     ]
    }
   ],
   "source": [
    "print(EsDiagonal(diagonal_matrix([1,2,3,4])))"
   ]
  },
  {
   "cell_type": "markdown",
   "metadata": {
    "id": "BRABMAf6RM2h"
   },
   "source": [
    "Una versió diferent usant comprensió de llistes i la funcio all (i la funció is_square())"
   ]
  },
  {
   "cell_type": "code",
   "execution_count": 15,
   "metadata": {
    "id": "41u3Sew5RM2i",
    "vscode": {
     "languageId": "python"
    }
   },
   "outputs": [],
   "source": [
    "def EsDiagonal(A):\n",
    "    L=[A.is_square()]+[A[i,j]==0 for i in range(A.nrows()) for j in range(A.ncols()) if i!=j]\n",
    "    return all(L)"
   ]
  },
  {
   "cell_type": "code",
   "execution_count": 16,
   "metadata": {
    "id": "csZlfNijRM2i",
    "outputId": "610bf49c-d074-45c0-ad55-fc8ecdcaeb7c",
    "scrolled": true,
    "vscode": {
     "languageId": "python"
    }
   },
   "outputs": [
    {
     "name": "stdout",
     "output_type": "stream",
     "text": [
      "True\n"
     ]
    }
   ],
   "source": [
    "print(EsDiagonal(diagonal_matrix([1,2,3,4])))"
   ]
  },
  {
   "cell_type": "markdown",
   "metadata": {
    "id": "0Dw5hV0FRM2j"
   },
   "source": [
    "Una versió mirant primer si és simmètrica."
   ]
  },
  {
   "cell_type": "code",
   "execution_count": 17,
   "metadata": {
    "id": "Vy33aiZZRM2j",
    "vscode": {
     "languageId": "python"
    }
   },
   "outputs": [],
   "source": [
    "def EsDiagonal(A):\n",
    "    n=A.nrows()\n",
    "    m=A.ncols()\n",
    "    if not(A.is_symmetric()):\n",
    "        return False # Si la matriu no és simètrica, no és diagonal\n",
    "    for i in range(n-1):\n",
    "        for j in range(i+1,n): #Com que la matriu ja es simètrica només miro la part \"de dalt\" de la matriu, amb i<j\n",
    "            if A[i,j]!=0:\n",
    "                return(False) \n",
    "    return True"
   ]
  },
  {
   "cell_type": "code",
   "execution_count": 18,
   "metadata": {
    "id": "e6PPvhmDRM2j",
    "outputId": "4d6fd489-483d-4731-8080-1a5548e6e595",
    "vscode": {
     "languageId": "python"
    }
   },
   "outputs": [
    {
     "name": "stdout",
     "output_type": "stream",
     "text": [
      "True\n"
     ]
    }
   ],
   "source": [
    "print(EsDiagonal(diagonal_matrix([1,2,3,4])))"
   ]
  },
  {
   "cell_type": "markdown",
   "metadata": {
    "id": "skY5hxvARM2j"
   },
   "source": [
    "<font color=green> Definiu el subespai $F$ de $\\mathbb{Q}^7$ format per les primeres 4 files de la matriu $A$. </font>"
   ]
  },
  {
   "cell_type": "code",
   "execution_count": 19,
   "metadata": {
    "id": "uy14oMqtRM2k",
    "outputId": "d8ca8190-b491-47c5-9dc4-b1b0dc83d1f3",
    "vscode": {
     "languageId": "python"
    }
   },
   "outputs": [
    {
     "data": {
      "text/html": [
       "<html><script type=\"math/tex; mode=display\">\\newcommand{\\Bold}[1]{\\mathbf{#1}}\\mathrm{RowSpan}_{\\Bold{Q}}\\left(\\begin{array}{rrrrrrr}\n",
       "0 & 1 & 2 & 0 & 0 & -3 & 0 \\\\\n",
       "0 & 0 & 0 & 1 & 0 & 2 & 0 \\\\\n",
       "0 & 0 & 0 & 0 & 1 & -1 & 0 \\\\\n",
       "0 & 0 & 0 & 0 & 0 & 0 & 1\n",
       "\\end{array}\\right)</script></html>"
      ],
      "text/latex": [
       "$$\\newcommand{\\Bold}[1]{\\mathbf{#1}}\\mathrm{RowSpan}_{\\Bold{Q}}\\left(\\begin{array}{rrrrrrr}\n",
       "0 & 1 & 2 & 0 & 0 & -3 & 0 \\\\\n",
       "0 & 0 & 0 & 1 & 0 & 2 & 0 \\\\\n",
       "0 & 0 & 0 & 0 & 1 & -1 & 0 \\\\\n",
       "0 & 0 & 0 & 0 & 0 & 0 & 1\n",
       "\\end{array}\\right)$$"
      ],
      "text/plain": [
       "Vector space of degree 7 and dimension 4 over Rational Field\n",
       "Basis matrix:\n",
       "[ 0  1  2  0  0 -3  0]\n",
       "[ 0  0  0  1  0  2  0]\n",
       "[ 0  0  0  0  1 -1  0]\n",
       "[ 0  0  0  0  0  0  1]"
      ]
     },
     "metadata": {},
     "output_type": "display_data"
    }
   ],
   "source": [
    "F=(QQ^7).span(A.matrix_from_rows([0..3]))\n",
    "show(F)"
   ]
  },
  {
   "cell_type": "markdown",
   "metadata": {
    "id": "VorQhnNURM2k"
   },
   "source": [
    "<font color=green> Definiu el subespai $G$ de $\\mathbb{Q}^7$ format per les primeres 4 columnes de la matriu $A$. </font>"
   ]
  },
  {
   "cell_type": "code",
   "execution_count": 20,
   "metadata": {
    "id": "vFEr6QsgRM2k",
    "outputId": "4dad4e69-94eb-4675-fa29-c761faa56ef3",
    "vscode": {
     "languageId": "python"
    }
   },
   "outputs": [
    {
     "data": {
      "text/html": [
       "<html><script type=\"math/tex; mode=display\">\\newcommand{\\Bold}[1]{\\mathbf{#1}}\\mathrm{RowSpan}_{\\Bold{Q}}\\left(\\begin{array}{rrrrrrr}\n",
       "1 & 2 & 3 & 1 & 1 & 0 & 0 \\\\\n",
       "0 & 0 & 0 & 0 & 0 & 1 & 0 \\\\\n",
       "0 & 0 & 0 & 0 & 0 & 0 & 1\n",
       "\\end{array}\\right)</script></html>"
      ],
      "text/latex": [
       "$$\\newcommand{\\Bold}[1]{\\mathbf{#1}}\\mathrm{RowSpan}_{\\Bold{Q}}\\left(\\begin{array}{rrrrrrr}\n",
       "1 & 2 & 3 & 1 & 1 & 0 & 0 \\\\\n",
       "0 & 0 & 0 & 0 & 0 & 1 & 0 \\\\\n",
       "0 & 0 & 0 & 0 & 0 & 0 & 1\n",
       "\\end{array}\\right)$$"
      ],
      "text/plain": [
       "Vector space of degree 7 and dimension 3 over Rational Field\n",
       "Basis matrix:\n",
       "[1 2 3 1 1 0 0]\n",
       "[0 0 0 0 0 1 0]\n",
       "[0 0 0 0 0 0 1]"
      ]
     },
     "metadata": {},
     "output_type": "display_data"
    }
   ],
   "source": [
    "G=(QQ^7).span(A.transpose().matrix_from_rows([0..2]))\n",
    "show(G)"
   ]
  },
  {
   "cell_type": "markdown",
   "metadata": {
    "id": "rq3bu8d0RM2k"
   },
   "source": [
    "<font color=green> Calculeu una base de la suma $F+G$ i una base de la intersseció $F\\cap G$. Cal donar-les com a llistes de vectors. </font>"
   ]
  },
  {
   "cell_type": "code",
   "execution_count": 21,
   "metadata": {
    "id": "w9QP4ofDRM2l",
    "outputId": "45eb19aa-66a7-4fc6-e080-6e94d40487de",
    "vscode": {
     "languageId": "python"
    }
   },
   "outputs": [
    {
     "data": {
      "text/html": [
       "<html><script type=\"math/tex; mode=display\">\\newcommand{\\Bold}[1]{\\mathbf{#1}}\\left[\\left(1,\\,0,\\,-1,\\,0,\\,0,\\,0,\\,0\\right), \\left(0,\\,1,\\,2,\\,0,\\,0,\\,0,\\,0\\right), \\left(0,\\,0,\\,0,\\,1,\\,0,\\,0,\\,0\\right), \\left(0,\\,0,\\,0,\\,0,\\,1,\\,0,\\,0\\right), \\left(0,\\,0,\\,0,\\,0,\\,0,\\,1,\\,0\\right), \\left(0,\\,0,\\,0,\\,0,\\,0,\\,0,\\,1\\right)\\right]</script></html>"
      ],
      "text/latex": [
       "$$\\newcommand{\\Bold}[1]{\\mathbf{#1}}\\left[\\left(1,\\,0,\\,-1,\\,0,\\,0,\\,0,\\,0\\right), \\left(0,\\,1,\\,2,\\,0,\\,0,\\,0,\\,0\\right), \\left(0,\\,0,\\,0,\\,1,\\,0,\\,0,\\,0\\right), \\left(0,\\,0,\\,0,\\,0,\\,1,\\,0,\\,0\\right), \\left(0,\\,0,\\,0,\\,0,\\,0,\\,1,\\,0\\right), \\left(0,\\,0,\\,0,\\,0,\\,0,\\,0,\\,1\\right)\\right]$$"
      ],
      "text/plain": [
       "[\n",
       "(1, 0, -1, 0, 0, 0, 0),\n",
       "(0, 1, 2, 0, 0, 0, 0),\n",
       "(0, 0, 0, 1, 0, 0, 0),\n",
       "(0, 0, 0, 0, 1, 0, 0),\n",
       "(0, 0, 0, 0, 0, 1, 0),\n",
       "(0, 0, 0, 0, 0, 0, 1)\n",
       "]"
      ]
     },
     "metadata": {},
     "output_type": "display_data"
    }
   ],
   "source": [
    "show((F+G).basis())"
   ]
  },
  {
   "cell_type": "code",
   "execution_count": 22,
   "metadata": {
    "id": "nSP2UGQWRM2l",
    "outputId": "51a77726-a9bc-4639-83b6-0eaba25d0e31",
    "scrolled": true,
    "vscode": {
     "languageId": "python"
    }
   },
   "outputs": [
    {
     "data": {
      "text/html": [
       "<html><script type=\"math/tex; mode=display\">\\newcommand{\\Bold}[1]{\\mathbf{#1}}\\left[\\left(0,\\,0,\\,0,\\,0,\\,0,\\,0,\\,1\\right)\\right]</script></html>"
      ],
      "text/latex": [
       "$$\\newcommand{\\Bold}[1]{\\mathbf{#1}}\\left[\\left(0,\\,0,\\,0,\\,0,\\,0,\\,0,\\,1\\right)\\right]$$"
      ],
      "text/plain": [
       "[\n",
       "(0, 0, 0, 0, 0, 0, 1)\n",
       "]"
      ]
     },
     "metadata": {},
     "output_type": "display_data"
    }
   ],
   "source": [
    "show(F.intersection(G).basis())"
   ]
  },
  {
   "cell_type": "markdown",
   "metadata": {
    "id": "KDJlyGh-RM2l"
   },
   "source": [
    "<font color=green> Calculeu una base ortonormal del subespai $F$ de $\\mathbb{Q}^7$, donada com a llista de vectors. </font>"
   ]
  },
  {
   "cell_type": "markdown",
   "metadata": {
    "id": "YwkR_zy_RM2l"
   },
   "source": [
    "Una manera usant la funció gram_schmidt()"
   ]
  },
  {
   "cell_type": "code",
   "execution_count": 23,
   "metadata": {
    "id": "QbJ_ZvIqRM2l",
    "outputId": "3c7dd957-d412-4004-9b0f-0b05df3f1b3e",
    "vscode": {
     "languageId": "python"
    }
   },
   "outputs": [
    {
     "data": {
      "text/html": [
       "<html><script type=\"math/tex; mode=display\">\\newcommand{\\Bold}[1]{\\mathbf{#1}}\\left[\\left(0,\\,\\frac{1}{14} \\, \\sqrt{14},\\,\\frac{1}{7} \\, \\sqrt{14},\\,0,\\,0,\\,-\\frac{3}{14} \\, \\sqrt{14},\\,0\\right), \\left(0,\\,\\frac{3}{17} \\, \\sqrt{\\frac{17}{7}},\\,\\frac{6}{17} \\, \\sqrt{\\frac{17}{7}},\\,\\frac{7}{17} \\, \\sqrt{\\frac{17}{7}},\\,0,\\,\\frac{5}{17} \\, \\sqrt{\\frac{17}{7}},\\,0\\right), \\left(0,\\,-\\frac{1}{13} \\, \\sqrt{\\frac{39}{34}},\\,-\\frac{2}{13} \\, \\sqrt{\\frac{39}{34}},\\,\\frac{10}{39} \\, \\sqrt{\\frac{39}{34}},\\,\\frac{34}{39} \\, \\sqrt{\\frac{39}{34}},\\,-\\frac{5}{39} \\, \\sqrt{\\frac{39}{34}},\\,0\\right), \\left(0,\\,0,\\,0,\\,0,\\,0,\\,0,\\,1\\right)\\right]</script></html>"
      ],
      "text/latex": [
       "$$\\newcommand{\\Bold}[1]{\\mathbf{#1}}\\left[\\left(0,\\,\\frac{1}{14} \\, \\sqrt{14},\\,\\frac{1}{7} \\, \\sqrt{14},\\,0,\\,0,\\,-\\frac{3}{14} \\, \\sqrt{14},\\,0\\right), \\left(0,\\,\\frac{3}{17} \\, \\sqrt{\\frac{17}{7}},\\,\\frac{6}{17} \\, \\sqrt{\\frac{17}{7}},\\,\\frac{7}{17} \\, \\sqrt{\\frac{17}{7}},\\,0,\\,\\frac{5}{17} \\, \\sqrt{\\frac{17}{7}},\\,0\\right), \\left(0,\\,-\\frac{1}{13} \\, \\sqrt{\\frac{39}{34}},\\,-\\frac{2}{13} \\, \\sqrt{\\frac{39}{34}},\\,\\frac{10}{39} \\, \\sqrt{\\frac{39}{34}},\\,\\frac{34}{39} \\, \\sqrt{\\frac{39}{34}},\\,-\\frac{5}{39} \\, \\sqrt{\\frac{39}{34}},\\,0\\right), \\left(0,\\,0,\\,0,\\,0,\\,0,\\,0,\\,1\\right)\\right]$$"
      ],
      "text/plain": [
       "[(0, 1/14*sqrt(14), 1/7*sqrt(14), 0, 0, -3/14*sqrt(14), 0),\n",
       " (0, 3/17*sqrt(17/7), 6/17*sqrt(17/7), 7/17*sqrt(17/7), 0, 5/17*sqrt(17/7), 0),\n",
       " (0, -1/13*sqrt(39/34), -2/13*sqrt(39/34), 10/39*sqrt(39/34), 34/39*sqrt(39/34), -5/39*sqrt(39/34), 0),\n",
       " (0, 0, 0, 0, 0, 0, 1)]"
      ]
     },
     "metadata": {},
     "output_type": "display_data"
    }
   ],
   "source": [
    "U,X=matrix(F.basis()).gram_schmidt()\n",
    "show([u/u.norm() for u in U.rows()])"
   ]
  },
  {
   "cell_type": "markdown",
   "metadata": {
    "id": "Iss2NYXKRM2l"
   },
   "source": [
    "Una altra manera fent Gram-Schmidt a mà. "
   ]
  },
  {
   "cell_type": "code",
   "execution_count": 24,
   "metadata": {
    "id": "B7BElrQzRM2m",
    "outputId": "db9d9135-576f-4ea2-d08d-41772c4dd50c",
    "vscode": {
     "languageId": "python"
    }
   },
   "outputs": [
    {
     "data": {
      "text/html": [
       "<html><script type=\"math/tex; mode=display\">\\newcommand{\\Bold}[1]{\\mathbf{#1}}\\left[\\left(0,\\,\\frac{1}{14} \\, \\sqrt{14},\\,\\frac{1}{7} \\, \\sqrt{14},\\,0,\\,0,\\,-\\frac{3}{14} \\, \\sqrt{14},\\,0\\right), \\left(0,\\,\\frac{3}{17} \\, \\sqrt{\\frac{17}{7}},\\,\\frac{6}{17} \\, \\sqrt{\\frac{17}{7}},\\,\\frac{7}{17} \\, \\sqrt{\\frac{17}{7}},\\,0,\\,\\frac{5}{17} \\, \\sqrt{\\frac{17}{7}},\\,0\\right), \\left(0,\\,-\\frac{1}{13} \\, \\sqrt{\\frac{39}{34}},\\,-\\frac{2}{13} \\, \\sqrt{\\frac{39}{34}},\\,\\frac{10}{39} \\, \\sqrt{\\frac{39}{34}},\\,\\frac{34}{39} \\, \\sqrt{\\frac{39}{34}},\\,-\\frac{5}{39} \\, \\sqrt{\\frac{39}{34}},\\,0\\right), \\left(0,\\,0,\\,0,\\,0,\\,0,\\,0,\\,1\\right)\\right]</script></html>"
      ],
      "text/latex": [
       "$$\\newcommand{\\Bold}[1]{\\mathbf{#1}}\\left[\\left(0,\\,\\frac{1}{14} \\, \\sqrt{14},\\,\\frac{1}{7} \\, \\sqrt{14},\\,0,\\,0,\\,-\\frac{3}{14} \\, \\sqrt{14},\\,0\\right), \\left(0,\\,\\frac{3}{17} \\, \\sqrt{\\frac{17}{7}},\\,\\frac{6}{17} \\, \\sqrt{\\frac{17}{7}},\\,\\frac{7}{17} \\, \\sqrt{\\frac{17}{7}},\\,0,\\,\\frac{5}{17} \\, \\sqrt{\\frac{17}{7}},\\,0\\right), \\left(0,\\,-\\frac{1}{13} \\, \\sqrt{\\frac{39}{34}},\\,-\\frac{2}{13} \\, \\sqrt{\\frac{39}{34}},\\,\\frac{10}{39} \\, \\sqrt{\\frac{39}{34}},\\,\\frac{34}{39} \\, \\sqrt{\\frac{39}{34}},\\,-\\frac{5}{39} \\, \\sqrt{\\frac{39}{34}},\\,0\\right), \\left(0,\\,0,\\,0,\\,0,\\,0,\\,0,\\,1\\right)\\right]$$"
      ],
      "text/plain": [
       "[(0, 1/14*sqrt(14), 1/7*sqrt(14), 0, 0, -3/14*sqrt(14), 0),\n",
       " (0, 3/17*sqrt(17/7), 6/17*sqrt(17/7), 7/17*sqrt(17/7), 0, 5/17*sqrt(17/7), 0),\n",
       " (0, -1/13*sqrt(39/34), -2/13*sqrt(39/34), 10/39*sqrt(39/34), 34/39*sqrt(39/34), -5/39*sqrt(39/34), 0),\n",
       " (0, 0, 0, 0, 0, 0, 1)]"
      ]
     },
     "metadata": {},
     "output_type": "display_data"
    }
   ],
   "source": [
    "BF=F.basis()\n",
    "OBF=BF[0:1]\n",
    "for u in BF[1:]: \n",
    "    w=u-sum((u*w)/(w*w)*w for w in OBF)\n",
    "    OBF.append(w)\n",
    "show([u/u.norm() for u in OBF])"
   ]
  },
  {
   "cell_type": "markdown",
   "metadata": {
    "id": "TY_XjO46RM2m"
   },
   "source": [
    "<font color=green> Definiu l'aplicació lineal $f$ de $\\mathbb{Q}^7$ a $\\mathbb{Q}^4$ que té com a matriu la matriu formada per les 4 primeres files de $A$. </font>"
   ]
  },
  {
   "cell_type": "code",
   "execution_count": 25,
   "metadata": {
    "id": "u8LAO-EcRM2m",
    "outputId": "b9471c97-30c8-44cd-e66b-d910b4d008d7",
    "vscode": {
     "languageId": "python"
    }
   },
   "outputs": [
    {
     "data": {
      "text/html": [
       "<html><script type=\"math/tex; mode=display\">\\newcommand{\\Bold}[1]{\\mathbf{#1}}\\text{vector space morphism from }\n",
       "\\Bold{Q}^{7}\\text{ to }\n",
       "\\Bold{Q}^{4}\\text{ represented by the matrix }\n",
       "\\left(\\begin{array}{rrrr}\n",
       "0 & 0 & 0 & 0 \\\\\n",
       "1 & 2 & 3 & 1 \\\\\n",
       "2 & 4 & 6 & 2 \\\\\n",
       "-2 & -3 & -7 & -3 \\\\\n",
       "2 & 5 & 6 & 1 \\\\\n",
       "-9 & -17 & -29 & -10 \\\\\n",
       "1 & 1 & 7 & 3\n",
       "\\end{array}\\right)</script></html>"
      ],
      "text/latex": [
       "$$\\newcommand{\\Bold}[1]{\\mathbf{#1}}\\text{vector space morphism from }\n",
       "\\Bold{Q}^{7}\\text{ to }\n",
       "\\Bold{Q}^{4}\\text{ represented by the matrix }\n",
       "\\left(\\begin{array}{rrrr}\n",
       "0 & 0 & 0 & 0 \\\\\n",
       "1 & 2 & 3 & 1 \\\\\n",
       "2 & 4 & 6 & 2 \\\\\n",
       "-2 & -3 & -7 & -3 \\\\\n",
       "2 & 5 & 6 & 1 \\\\\n",
       "-9 & -17 & -29 & -10 \\\\\n",
       "1 & 1 & 7 & 3\n",
       "\\end{array}\\right)$$"
      ],
      "text/plain": [
       "Vector space morphism represented by the matrix:\n",
       "[  0   0   0   0]\n",
       "[  1   2   3   1]\n",
       "[  2   4   6   2]\n",
       "[ -2  -3  -7  -3]\n",
       "[  2   5   6   1]\n",
       "[ -9 -17 -29 -10]\n",
       "[  1   1   7   3]\n",
       "Domain: Vector space of dimension 7 over Rational Field\n",
       "Codomain: Vector space of dimension 4 over Rational Field"
      ]
     },
     "metadata": {},
     "output_type": "display_data"
    }
   ],
   "source": [
    "f = linear_transformation(A[0:4].transpose())\n",
    "show(f)"
   ]
  },
  {
   "cell_type": "markdown",
   "metadata": {
    "id": "v7jBmAzRRM2m"
   },
   "source": [
    "<font color=green> Calculeu bases del subespai nucli i del subespai imatge de $f$. </font>"
   ]
  },
  {
   "cell_type": "code",
   "execution_count": 26,
   "metadata": {
    "id": "qF6VqXH5RM2m",
    "outputId": "8896f381-69c9-412d-c225-a85a6124fb0f",
    "vscode": {
     "languageId": "python"
    }
   },
   "outputs": [
    {
     "data": {
      "text/html": [
       "<html><script type=\"math/tex; mode=display\">\\newcommand{\\Bold}[1]{\\mathbf{#1}}\\left[\\left(1,\\,0,\\,0,\\,0,\\,0,\\,0,\\,0\\right), \\left(0,\\,1,\\,0,\\,-\\frac{2}{3},\\,\\frac{1}{3},\\,\\frac{1}{3},\\,0\\right), \\left(0,\\,0,\\,1,\\,-\\frac{4}{3},\\,\\frac{2}{3},\\,\\frac{2}{3},\\,0\\right)\\right]</script></html>"
      ],
      "text/latex": [
       "$$\\newcommand{\\Bold}[1]{\\mathbf{#1}}\\left[\\left(1,\\,0,\\,0,\\,0,\\,0,\\,0,\\,0\\right), \\left(0,\\,1,\\,0,\\,-\\frac{2}{3},\\,\\frac{1}{3},\\,\\frac{1}{3},\\,0\\right), \\left(0,\\,0,\\,1,\\,-\\frac{4}{3},\\,\\frac{2}{3},\\,\\frac{2}{3},\\,0\\right)\\right]$$"
      ],
      "text/plain": [
       "[\n",
       "(1, 0, 0, 0, 0, 0, 0),\n",
       "(0, 1, 0, -2/3, 1/3, 1/3, 0),\n",
       "(0, 0, 1, -4/3, 2/3, 2/3, 0)\n",
       "]"
      ]
     },
     "metadata": {},
     "output_type": "display_data"
    }
   ],
   "source": [
    "show(f.kernel().basis())"
   ]
  },
  {
   "cell_type": "code",
   "execution_count": 27,
   "metadata": {
    "id": "SMXsl5OKRM2m",
    "outputId": "91b7506b-8c02-4b5e-b35f-4ff629fe32bf",
    "vscode": {
     "languageId": "python"
    }
   },
   "outputs": [
    {
     "data": {
      "text/html": [
       "<html><script type=\"math/tex; mode=display\">\\newcommand{\\Bold}[1]{\\mathbf{#1}}\\left[\\left(1,\\,0,\\,0,\\,0\\right), \\left(0,\\,1,\\,0,\\,0\\right), \\left(0,\\,0,\\,1,\\,0\\right), \\left(0,\\,0,\\,0,\\,1\\right)\\right]</script></html>"
      ],
      "text/latex": [
       "$$\\newcommand{\\Bold}[1]{\\mathbf{#1}}\\left[\\left(1,\\,0,\\,0,\\,0\\right), \\left(0,\\,1,\\,0,\\,0\\right), \\left(0,\\,0,\\,1,\\,0\\right), \\left(0,\\,0,\\,0,\\,1\\right)\\right]$$"
      ],
      "text/plain": [
       "[\n",
       "(1, 0, 0, 0),\n",
       "(0, 1, 0, 0),\n",
       "(0, 0, 1, 0),\n",
       "(0, 0, 0, 1)\n",
       "]"
      ]
     },
     "metadata": {},
     "output_type": "display_data"
    }
   ],
   "source": [
    "show(f.image().basis())"
   ]
  },
  {
   "cell_type": "markdown",
   "metadata": {
    "id": "ATTkhfWPRM2m"
   },
   "source": [
    "<font color=green> Es $f$ ínjectiva? És exhaustiva? </font>"
   ]
  },
  {
   "cell_type": "code",
   "execution_count": 28,
   "metadata": {
    "id": "E7BhgzYGRM2n",
    "outputId": "ce0831ee-9745-4e46-b8dd-df59c14f1882",
    "vscode": {
     "languageId": "python"
    }
   },
   "outputs": [
    {
     "data": {
      "text/html": [
       "<html><script type=\"math/tex; mode=display\">\\newcommand{\\Bold}[1]{\\mathbf{#1}}\\verb|Es|\\phantom{\\verb!x!}\\verb|injectiva?| \\mathrm{False}</script></html>"
      ],
      "text/latex": [
       "$$\\newcommand{\\Bold}[1]{\\mathbf{#1}}\\verb|Es|\\phantom{\\verb!x!}\\verb|injectiva?| \\mathrm{False}$$"
      ],
      "text/plain": [
       "'Es injectiva? ' False"
      ]
     },
     "metadata": {},
     "output_type": "display_data"
    }
   ],
   "source": [
    "show('Es injectiva? ',f.is_injective())"
   ]
  },
  {
   "cell_type": "code",
   "execution_count": 29,
   "metadata": {
    "id": "secJDVA6RM2n",
    "outputId": "92b1d143-5763-42e9-abe6-7687de100084",
    "vscode": {
     "languageId": "python"
    }
   },
   "outputs": [
    {
     "data": {
      "text/html": [
       "<html><script type=\"math/tex; mode=display\">\\newcommand{\\Bold}[1]{\\mathbf{#1}}\\verb|Es|\\phantom{\\verb!x!}\\verb|exhaustiva?| \\mathrm{True}</script></html>"
      ],
      "text/latex": [
       "$$\\newcommand{\\Bold}[1]{\\mathbf{#1}}\\verb|Es|\\phantom{\\verb!x!}\\verb|exhaustiva?| \\mathrm{True}$$"
      ],
      "text/plain": [
       "'Es exhaustiva? ' True"
      ]
     },
     "metadata": {},
     "output_type": "display_data"
    }
   ],
   "source": [
    "show('Es exhaustiva? ',f.is_surjective())"
   ]
  },
  {
   "cell_type": "markdown",
   "metadata": {
    "id": "4b0GQjAqRM2n"
   },
   "source": [
    "<font color=red> Poseu aquí la resposta: </font>:  No és injectiva. És exhaustiva."
   ]
  },
  {
   "cell_type": "markdown",
   "metadata": {
    "id": "b215YN3uRM2n"
   },
   "source": [
    "<font color=green> Determineu la matriu de l'aplicació lineal $g:\\mathbb{Q}^2\\to \\mathbb{Q}^7$ que porta el vector $(1,1)$ al vector $\\vec{niu}$ i el vector $(1,-1)$ al vector $\\vec{pas}$, respecte les bases canòniques tant de sortida com d'arribada. </font>"
   ]
  },
  {
   "cell_type": "code",
   "execution_count": 30,
   "metadata": {
    "id": "4WcVIUMeRM2n",
    "outputId": "8023a861-7fa4-4f8b-e572-7cec333dd007",
    "vscode": {
     "languageId": "python"
    }
   },
   "outputs": [
    {
     "data": {
      "text/html": [
       "<html><script type=\"math/tex; mode=display\">\\newcommand{\\Bold}[1]{\\mathbf{#1}}\\text{vector space morphism from }\n",
       "\\mathrm{RowSpan}_{\\Bold{Q}}\\left(\\begin{array}{rr}\n",
       "1 & 1 \\\\\n",
       "1 & -1\n",
       "\\end{array}\\right)\\text{ to }\n",
       "\\Bold{Q}^{7}\\text{ represented by the matrix }\n",
       "\\left(\\begin{array}{rrrrrrr}\n",
       "1 & 6 & 6 & 6 & 5 & 4 & 0 \\\\\n",
       "1 & -1 & 2 & -1 & 3 & -1 & 2\n",
       "\\end{array}\\right)</script></html>"
      ],
      "text/latex": [
       "$$\\newcommand{\\Bold}[1]{\\mathbf{#1}}\\text{vector space morphism from }\n",
       "\\mathrm{RowSpan}_{\\Bold{Q}}\\left(\\begin{array}{rr}\n",
       "1 & 1 \\\\\n",
       "1 & -1\n",
       "\\end{array}\\right)\\text{ to }\n",
       "\\Bold{Q}^{7}\\text{ represented by the matrix }\n",
       "\\left(\\begin{array}{rrrrrrr}\n",
       "1 & 6 & 6 & 6 & 5 & 4 & 0 \\\\\n",
       "1 & -1 & 2 & -1 & 3 & -1 & 2\n",
       "\\end{array}\\right)$$"
      ],
      "text/plain": [
       "Vector space morphism represented by the matrix:\n",
       "[ 1  6  6  6  5  4  0]\n",
       "[ 1 -1  2 -1  3 -1  2]\n",
       "Domain: Vector space of degree 2 and dimension 2 over Rational Field\n",
       "User basis matrix:\n",
       "[ 1  1]\n",
       "[ 1 -1]\n",
       "Codomain: Vector space of dimension 7 over Rational Field"
      ]
     },
     "metadata": {},
     "output_type": "display_data"
    },
    {
     "data": {
      "text/html": [
       "<html><script type=\"math/tex; mode=display\">\\newcommand{\\Bold}[1]{\\mathbf{#1}}\\left(\\begin{array}{rr}\n",
       "1 & 0 \\\\\n",
       "\\frac{5}{2} & \\frac{7}{2} \\\\\n",
       "4 & 2 \\\\\n",
       "\\frac{5}{2} & \\frac{7}{2} \\\\\n",
       "4 & 1 \\\\\n",
       "\\frac{3}{2} & \\frac{5}{2} \\\\\n",
       "1 & -1\n",
       "\\end{array}\\right)</script></html>"
      ],
      "text/latex": [
       "$$\\newcommand{\\Bold}[1]{\\mathbf{#1}}\\left(\\begin{array}{rr}\n",
       "1 & 0 \\\\\n",
       "\\frac{5}{2} & \\frac{7}{2} \\\\\n",
       "4 & 2 \\\\\n",
       "\\frac{5}{2} & \\frac{7}{2} \\\\\n",
       "4 & 1 \\\\\n",
       "\\frac{3}{2} & \\frac{5}{2} \\\\\n",
       "1 & -1\n",
       "\\end{array}\\right)$$"
      ],
      "text/plain": [
       "[  1   0]\n",
       "[5/2 7/2]\n",
       "[  4   2]\n",
       "[5/2 7/2]\n",
       "[  4   1]\n",
       "[3/2 5/2]\n",
       "[  1  -1]"
      ]
     },
     "metadata": {},
     "output_type": "display_data"
    }
   ],
   "source": [
    "U=(QQ^2).subspace_with_basis([[1,1],[1,-1]])\n",
    "H=Hom(U,QQ^7)\n",
    "g=H([niu,pas])\n",
    "show(g)\n",
    "gmat=matrix(QQ,[g([1,0]),g([0,1])]).transpose()\n",
    "show(gmat)"
   ]
  },
  {
   "cell_type": "markdown",
   "metadata": {
    "id": "GSoQ1_Q0RM2n"
   },
   "source": [
    "Comprovació"
   ]
  },
  {
   "cell_type": "code",
   "execution_count": 31,
   "metadata": {
    "id": "0xnF7jJ0RM2o",
    "outputId": "f763a77c-fd0f-4b30-ed27-a055ab2b4a90",
    "vscode": {
     "languageId": "python"
    }
   },
   "outputs": [
    {
     "data": {
      "text/html": [
       "<html><script type=\"math/tex; mode=display\">\\newcommand{\\Bold}[1]{\\mathbf{#1}}\\left[\\mathrm{True}, \\mathrm{True}\\right]</script></html>"
      ],
      "text/latex": [
       "$$\\newcommand{\\Bold}[1]{\\mathbf{#1}}\\left[\\mathrm{True}, \\mathrm{True}\\right]$$"
      ],
      "text/plain": [
       "[True, True]"
      ]
     },
     "metadata": {},
     "output_type": "display_data"
    }
   ],
   "source": [
    "show([gmat*vector(QQ,[1,1])==niu,gmat*vector(QQ,[1,-1])==pas])"
   ]
  },
  {
   "cell_type": "markdown",
   "metadata": {
    "id": "h9C_x5HKRM2o"
   },
   "source": [
    "<font color=green> Determineu la matriu de la composició $f\\circ g$ respecte les bases canòniques tant de sortida com d'arribada. </font>"
   ]
  },
  {
   "cell_type": "code",
   "execution_count": 32,
   "metadata": {
    "id": "ET7JqnILRM2o",
    "outputId": "c532068f-dac3-408a-92b1-2121113ad739",
    "vscode": {
     "languageId": "python"
    }
   },
   "outputs": [
    {
     "data": {
      "text/html": [
       "<html><script type=\"math/tex; mode=display\">\\newcommand{\\Bold}[1]{\\mathbf{#1}}\\left(\\begin{array}{rr}\n",
       "1 & -21 \\\\\n",
       "9 & -34 \\\\\n",
       "\\frac{3}{2} & -\\frac{151}{2} \\\\\n",
       "-5 & -30\n",
       "\\end{array}\\right)</script></html>"
      ],
      "text/latex": [
       "$$\\newcommand{\\Bold}[1]{\\mathbf{#1}}\\left(\\begin{array}{rr}\n",
       "1 & -21 \\\\\n",
       "9 & -34 \\\\\n",
       "\\frac{3}{2} & -\\frac{151}{2} \\\\\n",
       "-5 & -30\n",
       "\\end{array}\\right)$$"
      ],
      "text/plain": [
       "[     1    -21]\n",
       "[     9    -34]\n",
       "[   3/2 -151/2]\n",
       "[    -5    -30]"
      ]
     },
     "metadata": {},
     "output_type": "display_data"
    }
   ],
   "source": [
    "show(matrix(QQ,[f(g([1,0])),f(g([0,1]))]).transpose())"
   ]
  },
  {
   "cell_type": "markdown",
   "metadata": {
    "id": "rcU4xZZ6RM2o"
   },
   "source": [
    "<font color=green> Calculeu el polinomi caracteristica de $B$, i els seus valors propis amb la seva multiplicitat. Determineu si $B$ és diagonalitzable i en aquest cas doneu una matriu $P$ invertible tal que $P^{-1}BP$ sigui diagonal.</font>"
   ]
  },
  {
   "cell_type": "code",
   "execution_count": 33,
   "metadata": {
    "id": "vyBgIu7dRM2o",
    "outputId": "94987c10-b69f-43b5-8a7c-57c9d54c9c44",
    "vscode": {
     "languageId": "python"
    }
   },
   "outputs": [
    {
     "data": {
      "text/html": [
       "<html><script type=\"math/tex; mode=display\">\\newcommand{\\Bold}[1]{\\mathbf{#1}}\\verb|Polinomi|\\phantom{\\verb!x!}\\verb|caracteristic|\\phantom{\\verb!x!}\\verb|=| t^{5} - 8 t^{4} - 7 t^{3} + 5 t^{2}</script></html>"
      ],
      "text/latex": [
       "$$\\newcommand{\\Bold}[1]{\\mathbf{#1}}\\verb|Polinomi|\\phantom{\\verb!x!}\\verb|caracteristic|\\phantom{\\verb!x!}\\verb|=| t^{5} - 8 t^{4} - 7 t^{3} + 5 t^{2}$$"
      ],
      "text/plain": [
       "'Polinomi caracteristic =  ' t^5 - 8*t^4 - 7*t^3 + 5*t^2"
      ]
     },
     "metadata": {},
     "output_type": "display_data"
    }
   ],
   "source": [
    "pB = B.charpoly('t')\n",
    "show('Polinomi caracteristic =  ', pB)"
   ]
  },
  {
   "cell_type": "code",
   "execution_count": 34,
   "metadata": {
    "id": "3BygFhA0RM2o",
    "outputId": "c8c0d5ea-9db8-4288-a255-357d43a4c4bc",
    "scrolled": true,
    "vscode": {
     "languageId": "python"
    }
   },
   "outputs": [
    {
     "data": {
      "text/html": [
       "<html><script type=\"math/tex; mode=display\">\\newcommand{\\Bold}[1]{\\mathbf{#1}}\\verb|Valor|\\phantom{\\verb!x!}\\verb|propi|\\phantom{\\verb!x!}\\verb|=| 0 \\phantom{\\verb!x!}\\verb|amb|\\phantom{\\verb!x!}\\verb|multiplicitat|\\phantom{\\verb!x!}\\verb|=| 2</script></html>"
      ],
      "text/latex": [
       "$$\\newcommand{\\Bold}[1]{\\mathbf{#1}}\\verb|Valor|\\phantom{\\verb!x!}\\verb|propi|\\phantom{\\verb!x!}\\verb|=| 0 \\phantom{\\verb!x!}\\verb|amb|\\phantom{\\verb!x!}\\verb|multiplicitat|\\phantom{\\verb!x!}\\verb|=| 2$$"
      ],
      "text/plain": [
       "'Valor propi =' 0 ' amb multiplicitat =  ' 2"
      ]
     },
     "metadata": {},
     "output_type": "display_data"
    },
    {
     "data": {
      "text/html": [
       "<html><script type=\"math/tex; mode=display\">\\newcommand{\\Bold}[1]{\\mathbf{#1}}\\verb|Valor|\\phantom{\\verb!x!}\\verb|propi|\\phantom{\\verb!x!}\\verb|=| -1.209142233825184? \\phantom{\\verb!x!}\\verb|amb|\\phantom{\\verb!x!}\\verb|multiplicitat|\\phantom{\\verb!x!}\\verb|=| 1</script></html>"
      ],
      "text/latex": [
       "$$\\newcommand{\\Bold}[1]{\\mathbf{#1}}\\verb|Valor|\\phantom{\\verb!x!}\\verb|propi|\\phantom{\\verb!x!}\\verb|=| -1.209142233825184? \\phantom{\\verb!x!}\\verb|amb|\\phantom{\\verb!x!}\\verb|multiplicitat|\\phantom{\\verb!x!}\\verb|=| 1$$"
      ],
      "text/plain": [
       "'Valor propi =' -1.209142233825184? ' amb multiplicitat =  ' 1"
      ]
     },
     "metadata": {},
     "output_type": "display_data"
    },
    {
     "data": {
      "text/html": [
       "<html><script type=\"math/tex; mode=display\">\\newcommand{\\Bold}[1]{\\mathbf{#1}}\\verb|Valor|\\phantom{\\verb!x!}\\verb|propi|\\phantom{\\verb!x!}\\verb|=| 0.4733591448050786? \\phantom{\\verb!x!}\\verb|amb|\\phantom{\\verb!x!}\\verb|multiplicitat|\\phantom{\\verb!x!}\\verb|=| 1</script></html>"
      ],
      "text/latex": [
       "$$\\newcommand{\\Bold}[1]{\\mathbf{#1}}\\verb|Valor|\\phantom{\\verb!x!}\\verb|propi|\\phantom{\\verb!x!}\\verb|=| 0.4733591448050786? \\phantom{\\verb!x!}\\verb|amb|\\phantom{\\verb!x!}\\verb|multiplicitat|\\phantom{\\verb!x!}\\verb|=| 1$$"
      ],
      "text/plain": [
       "'Valor propi =' 0.4733591448050786? ' amb multiplicitat =  ' 1"
      ]
     },
     "metadata": {},
     "output_type": "display_data"
    },
    {
     "data": {
      "text/html": [
       "<html><script type=\"math/tex; mode=display\">\\newcommand{\\Bold}[1]{\\mathbf{#1}}\\verb|Valor|\\phantom{\\verb!x!}\\verb|propi|\\phantom{\\verb!x!}\\verb|=| 8.73578308902011? \\phantom{\\verb!x!}\\verb|amb|\\phantom{\\verb!x!}\\verb|multiplicitat|\\phantom{\\verb!x!}\\verb|=| 1</script></html>"
      ],
      "text/latex": [
       "$$\\newcommand{\\Bold}[1]{\\mathbf{#1}}\\verb|Valor|\\phantom{\\verb!x!}\\verb|propi|\\phantom{\\verb!x!}\\verb|=| 8.73578308902011? \\phantom{\\verb!x!}\\verb|amb|\\phantom{\\verb!x!}\\verb|multiplicitat|\\phantom{\\verb!x!}\\verb|=| 1$$"
      ],
      "text/plain": [
       "'Valor propi =' 8.73578308902011? ' amb multiplicitat =  ' 1"
      ]
     },
     "metadata": {},
     "output_type": "display_data"
    }
   ],
   "source": [
    "valpropB=B.eigenvectors_right()\n",
    "for v in valpropB:\n",
    "    show('Valor propi =', v[0], \" amb multiplicitat =  \", v[2])"
   ]
  },
  {
   "cell_type": "code",
   "execution_count": 35,
   "metadata": {
    "id": "FAeMKC5JRM2p",
    "outputId": "821af361-37e2-4ab5-925f-c6b2322f32ec",
    "vscode": {
     "languageId": "python"
    }
   },
   "outputs": [
    {
     "data": {
      "text/html": [
       "<html><script type=\"math/tex; mode=display\">\\newcommand{\\Bold}[1]{\\mathbf{#1}}\\left(\\begin{array}{rrrrr}\n",
       "1 & 0 & 0 & 0 & 0 \\\\\n",
       "0 & 1 & 1 & 1 & 1 \\\\\n",
       "-1 & -3 & 2 & 2 & 2 \\\\\n",
       "1 & 4 & -6.781435015348803? & -1.321278858908296? & -1.897286125742902? \\\\\n",
       "1 & 3 & -2.427707218476381? & -6.205361996286625? & 2.633069214763006?\n",
       "\\end{array}\\right)</script></html>"
      ],
      "text/latex": [
       "$$\\newcommand{\\Bold}[1]{\\mathbf{#1}}\\left(\\begin{array}{rrrrr}\n",
       "1 & 0 & 0 & 0 & 0 \\\\\n",
       "0 & 1 & 1 & 1 & 1 \\\\\n",
       "-1 & -3 & 2 & 2 & 2 \\\\\n",
       "1 & 4 & -6.781435015348803? & -1.321278858908296? & -1.897286125742902? \\\\\n",
       "1 & 3 & -2.427707218476381? & -6.205361996286625? & 2.633069214763006?\n",
       "\\end{array}\\right)$$"
      ],
      "text/plain": [
       "[                  1                   0                   0                   0                   0]\n",
       "[                  0                   1                   1                   1                   1]\n",
       "[                 -1                  -3                   2                   2                   2]\n",
       "[                  1                   4 -6.781435015348803? -1.321278858908296? -1.897286125742902?]\n",
       "[                  1                   3 -2.427707218476381? -6.205361996286625?  2.633069214763006?]"
      ]
     },
     "metadata": {},
     "output_type": "display_data"
    }
   ],
   "source": [
    "P=matrix(sum([v[1] for v in valpropB],[])).transpose()\n",
    "show(P)"
   ]
  },
  {
   "cell_type": "code",
   "execution_count": 36,
   "metadata": {
    "id": "Qos5px9-RM2p",
    "outputId": "33f6d43d-f048-4c5a-b653-b7ea1adf64c3",
    "vscode": {
     "languageId": "python"
    }
   },
   "outputs": [
    {
     "data": {
      "text/html": [
       "<html><script type=\"math/tex; mode=display\">\\newcommand{\\Bold}[1]{\\mathbf{#1}}\\left(\\begin{array}{rrrrr}\n",
       "0 & 0 & 0 & 0 & 0 \\\\\n",
       "0 & 0 & 0 & 0 & 0 \\\\\n",
       "0.?e-16 & 0.?e-16 & -1.209142233825184? & 0.?e-16 & 0.?e-16 \\\\\n",
       "0.?e-16 & 0.?e-15 & 0.?e-15 & 0.473359144805079? & 0.?e-16 \\\\\n",
       "0.?e-16 & 0.?e-16 & 0.?e-16 & 0.?e-16 & 8.73578308902011?\n",
       "\\end{array}\\right)</script></html>"
      ],
      "text/latex": [
       "$$\\newcommand{\\Bold}[1]{\\mathbf{#1}}\\left(\\begin{array}{rrrrr}\n",
       "0 & 0 & 0 & 0 & 0 \\\\\n",
       "0 & 0 & 0 & 0 & 0 \\\\\n",
       "0.?e-16 & 0.?e-16 & -1.209142233825184? & 0.?e-16 & 0.?e-16 \\\\\n",
       "0.?e-16 & 0.?e-15 & 0.?e-15 & 0.473359144805079? & 0.?e-16 \\\\\n",
       "0.?e-16 & 0.?e-16 & 0.?e-16 & 0.?e-16 & 8.73578308902011?\n",
       "\\end{array}\\right)$$"
      ],
      "text/plain": [
       "[                  0                   0                   0                   0                   0]\n",
       "[                  0                   0                   0                   0                   0]\n",
       "[            0.?e-16             0.?e-16 -1.209142233825184?             0.?e-16             0.?e-16]\n",
       "[            0.?e-16             0.?e-15             0.?e-15  0.473359144805079?             0.?e-16]\n",
       "[            0.?e-16             0.?e-16             0.?e-16             0.?e-16   8.73578308902011?]"
      ]
     },
     "metadata": {},
     "output_type": "display_data"
    }
   ],
   "source": [
    "show(P.inverse()*B*P)"
   ]
  },
  {
   "cell_type": "markdown",
   "metadata": {
    "id": "3a61GY0dRM2p"
   },
   "source": [
    "Una altra manera"
   ]
  },
  {
   "cell_type": "code",
   "execution_count": 37,
   "metadata": {
    "id": "5GAa1OjGRM2p",
    "outputId": "9e9743f4-8aec-4357-ea8e-7444057eee36",
    "vscode": {
     "languageId": "python"
    }
   },
   "outputs": [
    {
     "data": {
      "text/html": [
       "<html><script type=\"math/tex; mode=display\">\\newcommand{\\Bold}[1]{\\mathbf{#1}}\\left(\\begin{array}{rrrrr}\n",
       "1 & 0 & 0 & 0 & 0 \\\\\n",
       "0 & 1 & 1 & 1 & 1 \\\\\n",
       "-1 & -3 & 2 & 2 & 2 \\\\\n",
       "1 & 4 & -6.781435015348803? & -1.321278858908296? & -1.897286125742902? \\\\\n",
       "1 & 3 & -2.427707218476381? & -6.205361996286625? & 2.633069214763006?\n",
       "\\end{array}\\right)</script></html>"
      ],
      "text/latex": [
       "$$\\newcommand{\\Bold}[1]{\\mathbf{#1}}\\left(\\begin{array}{rrrrr}\n",
       "1 & 0 & 0 & 0 & 0 \\\\\n",
       "0 & 1 & 1 & 1 & 1 \\\\\n",
       "-1 & -3 & 2 & 2 & 2 \\\\\n",
       "1 & 4 & -6.781435015348803? & -1.321278858908296? & -1.897286125742902? \\\\\n",
       "1 & 3 & -2.427707218476381? & -6.205361996286625? & 2.633069214763006?\n",
       "\\end{array}\\right)$$"
      ],
      "text/plain": [
       "[                  1                   0                   0                   0                   0]\n",
       "[                  0                   1                   1                   1                   1]\n",
       "[                 -1                  -3                   2                   2                   2]\n",
       "[                  1                   4 -6.781435015348803? -1.321278858908296? -1.897286125742902?]\n",
       "[                  1                   3 -2.427707218476381? -6.205361996286625?  2.633069214763006?]"
      ]
     },
     "metadata": {},
     "output_type": "display_data"
    },
    {
     "data": {
      "text/html": [
       "<html><script type=\"math/tex; mode=display\">\\newcommand{\\Bold}[1]{\\mathbf{#1}}\\left(\\begin{array}{rrrrr}\n",
       "0 & 0 & 0 & 0 & 0 \\\\\n",
       "0 & 0 & 0 & 0 & 0 \\\\\n",
       "0.?e-16 & 0.?e-16 & -1.209142233825184? & 0.?e-16 & 0.?e-16 \\\\\n",
       "0.?e-16 & 0.?e-15 & 0.?e-15 & 0.473359144805079? & 0.?e-16 \\\\\n",
       "0.?e-16 & 0.?e-16 & 0.?e-16 & 0.?e-16 & 8.73578308902011?\n",
       "\\end{array}\\right)</script></html>"
      ],
      "text/latex": [
       "$$\\newcommand{\\Bold}[1]{\\mathbf{#1}}\\left(\\begin{array}{rrrrr}\n",
       "0 & 0 & 0 & 0 & 0 \\\\\n",
       "0 & 0 & 0 & 0 & 0 \\\\\n",
       "0.?e-16 & 0.?e-16 & -1.209142233825184? & 0.?e-16 & 0.?e-16 \\\\\n",
       "0.?e-16 & 0.?e-15 & 0.?e-15 & 0.473359144805079? & 0.?e-16 \\\\\n",
       "0.?e-16 & 0.?e-16 & 0.?e-16 & 0.?e-16 & 8.73578308902011?\n",
       "\\end{array}\\right)$$"
      ],
      "text/plain": [
       "[                  0                   0                   0                   0                   0]\n",
       "[                  0                   0                   0                   0                   0]\n",
       "[            0.?e-16             0.?e-16 -1.209142233825184?             0.?e-16             0.?e-16]\n",
       "[            0.?e-16             0.?e-15             0.?e-15  0.473359144805079?             0.?e-16]\n",
       "[            0.?e-16             0.?e-16             0.?e-16             0.?e-16   8.73578308902011?]"
      ]
     },
     "metadata": {},
     "output_type": "display_data"
    }
   ],
   "source": [
    "[D,P]=B.eigenmatrix_right()\n",
    "show(P)\n",
    "show(P.inverse()*B*P)\n"
   ]
  },
  {
   "cell_type": "markdown",
   "metadata": {
    "id": "Yny0kSH8RM2p"
   },
   "source": [
    "<font color=green> Calculeu la descomposició SVD de la matriu $A$. </font>"
   ]
  },
  {
   "cell_type": "code",
   "execution_count": 38,
   "metadata": {
    "id": "9ERFf4aCRM2q",
    "outputId": "e517d293-c8b9-48bc-c567-ea4fea98f976",
    "vscode": {
     "languageId": "python"
    }
   },
   "outputs": [
    {
     "data": {
      "text/html": [
       "<html><script type=\"math/tex; mode=display\">\\newcommand{\\Bold}[1]{\\mathbf{#1}}\\left(\\begin{array}{rrrrrrr}\n",
       "-0.2341145390858372 & 0.015398607063399017 & 0.2048955509960171 & -0.09340278984612305 & -0.11700393424978794 & -0.07454580397449567 & -0.9354143466934852 \\\\\n",
       "-0.44096639334229537 & 0.11791988981903456 & 0.5489518089375122 & -0.4577937929573434 & 0.3051186962441273 & -0.3408728559088112 & 0.2672612419124246 \\\\\n",
       "-0.7711331182005657 & -0.0066320660326342675 & -0.08580211848053769 & 0.17884538238821762 & -0.17771591880142 & 0.5626028481304544 & 0.13363062095621184 \\\\\n",
       "-0.2662718168362697 & -0.06905923853858063 & -0.12890560965395245 & 0.2984083677753915 & -0.5680419314394065 & -0.6914746215458658 & 0.13363062095621267 \\\\\n",
       "-0.2805359481205656 & 0.05235822562305979 & -0.5510729672315857 & 0.21548569317178431 & 0.6835070819959433 & -0.28879685741157085 & -0.133630620956212 \\\\\n",
       "-0.058472437020638306 & 0.12939359808575202 & -0.572997495725256 & -0.7654590480665437 & -0.25607007515372054 & -0.00356414361436214 & 9.996993183626721 \\times 10^{-17} \\\\\n",
       "0.05543114670707263 & 0.9805919297761997 & 0.0261442075692935 & 0.1682435704271209 & -0.07876714020243265 & 0.013159569801702433 & -1.105237062624844 \\times 10^{-17}\n",
       "\\end{array}\\right)</script></html>"
      ],
      "text/latex": [
       "$$\\newcommand{\\Bold}[1]{\\mathbf{#1}}\\left(\\begin{array}{rrrrrrr}\n",
       "-0.2341145390858372 & 0.015398607063399017 & 0.2048955509960171 & -0.09340278984612305 & -0.11700393424978794 & -0.07454580397449567 & -0.9354143466934852 \\\\\n",
       "-0.44096639334229537 & 0.11791988981903456 & 0.5489518089375122 & -0.4577937929573434 & 0.3051186962441273 & -0.3408728559088112 & 0.2672612419124246 \\\\\n",
       "-0.7711331182005657 & -0.0066320660326342675 & -0.08580211848053769 & 0.17884538238821762 & -0.17771591880142 & 0.5626028481304544 & 0.13363062095621184 \\\\\n",
       "-0.2662718168362697 & -0.06905923853858063 & -0.12890560965395245 & 0.2984083677753915 & -0.5680419314394065 & -0.6914746215458658 & 0.13363062095621267 \\\\\n",
       "-0.2805359481205656 & 0.05235822562305979 & -0.5510729672315857 & 0.21548569317178431 & 0.6835070819959433 & -0.28879685741157085 & -0.133630620956212 \\\\\n",
       "-0.058472437020638306 & 0.12939359808575202 & -0.572997495725256 & -0.7654590480665437 & -0.25607007515372054 & -0.00356414361436214 & 9.996993183626721 \\times 10^{-17} \\\\\n",
       "0.05543114670707263 & 0.9805919297761997 & 0.0261442075692935 & 0.1682435704271209 & -0.07876714020243265 & 0.013159569801702433 & -1.105237062624844 \\times 10^{-17}\n",
       "\\end{array}\\right)$$"
      ],
      "text/plain": [
       "[   -0.2341145390858372   0.015398607063399017     0.2048955509960171   -0.09340278984612305   -0.11700393424978794   -0.07454580397449567    -0.9354143466934852]\n",
       "[  -0.44096639334229537    0.11791988981903456     0.5489518089375122    -0.4577937929573434     0.3051186962441273    -0.3408728559088112     0.2672612419124246]\n",
       "[   -0.7711331182005657 -0.0066320660326342675   -0.08580211848053769    0.17884538238821762      -0.17771591880142     0.5626028481304544    0.13363062095621184]\n",
       "[   -0.2662718168362697   -0.06905923853858063   -0.12890560965395245     0.2984083677753915    -0.5680419314394065    -0.6914746215458658    0.13363062095621267]\n",
       "[   -0.2805359481205656    0.05235822562305979    -0.5510729672315857    0.21548569317178431     0.6835070819959433   -0.28879685741157085     -0.133630620956212]\n",
       "[ -0.058472437020638306    0.12939359808575202     -0.572997495725256    -0.7654590480665437   -0.25607007515372054   -0.00356414361436214  9.996993183626721e-17]\n",
       "[   0.05543114670707263     0.9805919297761997     0.0261442075692935     0.1682435704271209   -0.07876714020243265   0.013159569801702433 -1.105237062624844e-17]"
      ]
     },
     "metadata": {},
     "output_type": "display_data"
    },
    {
     "data": {
      "text/html": [
       "<html><script type=\"math/tex; mode=display\">\\newcommand{\\Bold}[1]{\\mathbf{#1}}\\left(\\begin{array}{rrrrrrr}\n",
       "41.40571512580834 & 0.0 & 0.0 & 0.0 & 0.0 & 0.0 & 0.0 \\\\\n",
       "0.0 & 12.256179911295973 & 0.0 & 0.0 & 0.0 & 0.0 & 0.0 \\\\\n",
       "0.0 & 0.0 & 4.609066954400408 & 0.0 & 0.0 & 0.0 & 0.0 \\\\\n",
       "0.0 & 0.0 & 0.0 & 3.0750001530640048 & 0.0 & 0.0 & 0.0 \\\\\n",
       "0.0 & 0.0 & 0.0 & 0.0 & 1.284641055588803 & 0.0 & 0.0 \\\\\n",
       "0.0 & 0.0 & 0.0 & 0.0 & 0.0 & 0.05815607586151302 & 0.0 \\\\\n",
       "0.0 & 0.0 & 0.0 & 0.0 & 0.0 & 0.0 & 1.6989167911060124 \\times 10^{-16}\n",
       "\\end{array}\\right)</script></html>"
      ],
      "text/latex": [
       "$$\\newcommand{\\Bold}[1]{\\mathbf{#1}}\\left(\\begin{array}{rrrrrrr}\n",
       "41.40571512580834 & 0.0 & 0.0 & 0.0 & 0.0 & 0.0 & 0.0 \\\\\n",
       "0.0 & 12.256179911295973 & 0.0 & 0.0 & 0.0 & 0.0 & 0.0 \\\\\n",
       "0.0 & 0.0 & 4.609066954400408 & 0.0 & 0.0 & 0.0 & 0.0 \\\\\n",
       "0.0 & 0.0 & 0.0 & 3.0750001530640048 & 0.0 & 0.0 & 0.0 \\\\\n",
       "0.0 & 0.0 & 0.0 & 0.0 & 1.284641055588803 & 0.0 & 0.0 \\\\\n",
       "0.0 & 0.0 & 0.0 & 0.0 & 0.0 & 0.05815607586151302 & 0.0 \\\\\n",
       "0.0 & 0.0 & 0.0 & 0.0 & 0.0 & 0.0 & 1.6989167911060124 \\times 10^{-16}\n",
       "\\end{array}\\right)$$"
      ],
      "text/plain": [
       "[     41.40571512580834                    0.0                    0.0                    0.0                    0.0                    0.0                    0.0]\n",
       "[                   0.0     12.256179911295973                    0.0                    0.0                    0.0                    0.0                    0.0]\n",
       "[                   0.0                    0.0      4.609066954400408                    0.0                    0.0                    0.0                    0.0]\n",
       "[                   0.0                    0.0                    0.0     3.0750001530640048                    0.0                    0.0                    0.0]\n",
       "[                   0.0                    0.0                    0.0                    0.0      1.284641055588803                    0.0                    0.0]\n",
       "[                   0.0                    0.0                    0.0                    0.0                    0.0    0.05815607586151302                    0.0]\n",
       "[                   0.0                    0.0                    0.0                    0.0                    0.0                    0.0 1.6989167911060124e-16]"
      ]
     },
     "metadata": {},
     "output_type": "display_data"
    },
    {
     "data": {
      "text/html": [
       "<html><script type=\"math/tex; mode=display\">\\newcommand{\\Bold}[1]{\\mathbf{#1}}\\left(\\begin{array}{rrrrrrr}\n",
       "-7.345097903333023 \\times 10^{-05} & 0.09056537484725803 & -0.11864728665611313 & -0.19421640582500221 & -0.26064651592711535 & 0.16499438872371366 & -0.9191523061963308 \\\\\n",
       "-0.08658696310817317 & 0.487003226083384 & 0.23763529332964442 & 0.590686247989426 & -0.10974420680141884 & 0.5806291357552136 & 0.027853100187771478 \\\\\n",
       "-0.18685504793115745 & 0.5361883697666702 & -0.056041987565479436 & -0.14262666245115957 & -0.6489293512096715 & -0.4415664013515227 & 0.19497170131437067 \\\\\n",
       "0.21591238606680158 & 0.4502615711849557 & 0.16547683352637668 & 0.24617665857739612 & 0.5318544605671457 & -0.5497382496812406 & -0.27853100187768 \\\\\n",
       "-0.20060035112481148 & 0.4862657199575034 & -0.15852634212311917 & -0.6221125202276113 & 0.4248062021787977 & 0.33360960806099077 & 0.13926550093884035 \\\\\n",
       "0.9108548065220502 & 0.16392453351429598 & -0.26266035882873173 & -0.08582236322887157 & -0.1509143531096424 & 0.1579439928940808 & 0.1392655009388392 \\\\\n",
       "-0.20266412014593108 & 0.03266063701921683 & -0.897110883158875 & 0.3715305723896283 & 0.11316219040798504 & -0.04703140392100147 & -3.44758397161723 \\times 10^{-16}\n",
       "\\end{array}\\right)</script></html>"
      ],
      "text/latex": [
       "$$\\newcommand{\\Bold}[1]{\\mathbf{#1}}\\left(\\begin{array}{rrrrrrr}\n",
       "-7.345097903333023 \\times 10^{-05} & 0.09056537484725803 & -0.11864728665611313 & -0.19421640582500221 & -0.26064651592711535 & 0.16499438872371366 & -0.9191523061963308 \\\\\n",
       "-0.08658696310817317 & 0.487003226083384 & 0.23763529332964442 & 0.590686247989426 & -0.10974420680141884 & 0.5806291357552136 & 0.027853100187771478 \\\\\n",
       "-0.18685504793115745 & 0.5361883697666702 & -0.056041987565479436 & -0.14262666245115957 & -0.6489293512096715 & -0.4415664013515227 & 0.19497170131437067 \\\\\n",
       "0.21591238606680158 & 0.4502615711849557 & 0.16547683352637668 & 0.24617665857739612 & 0.5318544605671457 & -0.5497382496812406 & -0.27853100187768 \\\\\n",
       "-0.20060035112481148 & 0.4862657199575034 & -0.15852634212311917 & -0.6221125202276113 & 0.4248062021787977 & 0.33360960806099077 & 0.13926550093884035 \\\\\n",
       "0.9108548065220502 & 0.16392453351429598 & -0.26266035882873173 & -0.08582236322887157 & -0.1509143531096424 & 0.1579439928940808 & 0.1392655009388392 \\\\\n",
       "-0.20266412014593108 & 0.03266063701921683 & -0.897110883158875 & 0.3715305723896283 & 0.11316219040798504 & -0.04703140392100147 & -3.44758397161723 \\times 10^{-16}\n",
       "\\end{array}\\right)$$"
      ],
      "text/plain": [
       "[-7.345097903333023e-05    0.09056537484725803   -0.11864728665611313   -0.19421640582500221   -0.26064651592711535    0.16499438872371366    -0.9191523061963308]\n",
       "[  -0.08658696310817317      0.487003226083384    0.23763529332964442      0.590686247989426   -0.10974420680141884     0.5806291357552136   0.027853100187771478]\n",
       "[  -0.18685504793115745     0.5361883697666702  -0.056041987565479436   -0.14262666245115957    -0.6489293512096715    -0.4415664013515227    0.19497170131437067]\n",
       "[   0.21591238606680158     0.4502615711849557    0.16547683352637668    0.24617665857739612     0.5318544605671457    -0.5497382496812406      -0.27853100187768]\n",
       "[  -0.20060035112481148     0.4862657199575034   -0.15852634212311917    -0.6221125202276113     0.4248062021787977    0.33360960806099077    0.13926550093884035]\n",
       "[    0.9108548065220502    0.16392453351429598   -0.26266035882873173   -0.08582236322887157    -0.1509143531096424     0.1579439928940808     0.1392655009388392]\n",
       "[  -0.20266412014593108    0.03266063701921683     -0.897110883158875     0.3715305723896283    0.11316219040798504   -0.04703140392100147  -3.44758397161723e-16]"
      ]
     },
     "metadata": {},
     "output_type": "display_data"
    }
   ],
   "source": [
    "M=matrix(RDF,A)\n",
    "U,S,V = M.SVD()\n",
    "show(U)\n",
    "show(S)\n",
    "show(V)"
   ]
  },
  {
   "cell_type": "code",
   "execution_count": null,
   "metadata": {
    "id": "iYwvEw7DRM2q",
    "vscode": {
     "languageId": "python"
    }
   },
   "outputs": [],
   "source": []
  },
  {
   "cell_type": "code",
   "execution_count": null,
   "metadata": {
    "id": "klbJ05cXRM2q",
    "vscode": {
     "languageId": "python"
    }
   },
   "outputs": [],
   "source": []
  },
  {
   "cell_type": "code",
   "execution_count": null,
   "metadata": {
    "id": "p0DXQZKDRM2q",
    "vscode": {
     "languageId": "python"
    }
   },
   "outputs": [],
   "source": []
  }
 ],
 "metadata": {
  "colab": {
   "provenance": []
  },
  "kernelspec": {
   "display_name": "SageMath 9.3",
   "language": "sage",
   "name": "sagemath"
  },
  "language_info": {
   "codemirror_mode": {
    "name": "ipython",
    "version": 3
   },
   "file_extension": ".py",
   "mimetype": "text/x-python",
   "name": "python",
   "nbconvert_exporter": "python",
   "pygments_lexer": "ipython3",
   "version": "3.7.10"
  }
 },
 "nbformat": 4,
 "nbformat_minor": 1
}
