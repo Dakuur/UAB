{
 "cells": [
  {
   "cell_type": "markdown",
   "metadata": {
    "id": "8IRbXWPuS0iI"
   },
   "source": [
    "# <font color=red> Model de l'evaluació de Espais Vectorials </font>"
   ]
  },
  {
   "cell_type": "markdown",
   "metadata": {
    "id": "h9FYo2GfS0iL"
   },
   "source": [
    "## <font color=green> La prova contindrà preguntes similars a les del model </font>"
   ]
  },
  {
   "cell_type": "markdown",
   "metadata": {
    "id": "vGPLGfL6S0iM"
   },
   "source": [
    "<font color=green> Construiu una matriu $B1$ formada pels vectors $\\vec{v_1}=(1,2,3,4,5,6,7)$ i $\\vec{v_2}=(7,6,5,4,3,2,1)$ com a files. </font>"
   ]
  },
  {
   "cell_type": "code",
   "execution_count": 3,
   "metadata": {
    "colab": {
     "base_uri": "https://localhost:8080/",
     "height": 232
    },
    "id": "tlOmm5DvS0iM",
    "outputId": "98fb4b44-fea9-4893-f46f-e81982ba2fc1"
   },
   "outputs": [
    {
     "data": {
      "text/html": [
       "<html><script type=\"math/tex; mode=display\">\\newcommand{\\Bold}[1]{\\mathbf{#1}}\\left(\\begin{array}{rrrrrrr}\n",
       "1 & 2 & 3 & 4 & 5 & 6 & 7 \\\\\n",
       "7 & 6 & 5 & 4 & 3 & 2 & 1\n",
       "\\end{array}\\right)</script></html>"
      ],
      "text/latex": [
       "$$\\newcommand{\\Bold}[1]{\\mathbf{#1}}\\left(\\begin{array}{rrrrrrr}\n",
       "1 & 2 & 3 & 4 & 5 & 6 & 7 \\\\\n",
       "7 & 6 & 5 & 4 & 3 & 2 & 1\n",
       "\\end{array}\\right)$$"
      ],
      "text/plain": [
       "[1 2 3 4 5 6 7]\n",
       "[7 6 5 4 3 2 1]"
      ]
     },
     "metadata": {},
     "output_type": "display_data"
    }
   ],
   "source": [
    "v1=vector([1,2,3,4,5,6,7])\n",
    "v2=vector([7,6,5,4,3,2,1])\n",
    "matriu=Matrix([v1,v2])\n",
    "show(matriu)"
   ]
  },
  {
   "cell_type": "markdown",
   "metadata": {
    "id": "ErwnOAYWS0iN"
   },
   "source": [
    "<font color=green> Construiu la matriu A formada afegint a la matriu A1 que us donem la matriu $B1$ anterior com a últimes files. No si val a tornar-la a escriure! </font>"
   ]
  },
  {
   "cell_type": "code",
   "execution_count": 4,
   "metadata": {
    "id": "ZrkQ2SBGS0iN"
   },
   "outputs": [],
   "source": [
    "A1=matrix(QQ,5,7,[[0, 1, 2, 3, 4, 5, 6],\n",
    " [0, 2, 4, 6, 8, 10, 12],\n",
    " [0, 3, 4, 5, 6, 7, 8],\n",
    " [0, 6, 5, 4, 3, 2, 1],\n",
    " [0, 1, 1, 1, 1, 1, 0]])"
   ]
  },
  {
   "cell_type": "code",
   "execution_count": 5,
   "metadata": {
    "id": "H7I0vwz6S0iO"
   },
   "outputs": [
    {
     "data": {
      "text/html": [
       "<html><script type=\"math/tex; mode=display\">\\newcommand{\\Bold}[1]{\\mathbf{#1}}\\left(\\begin{array}{rrrrrrr}\n",
       "0 & 1 & 2 & 3 & 4 & 5 & 6 \\\\\n",
       "0 & 2 & 4 & 6 & 8 & 10 & 12 \\\\\n",
       "0 & 3 & 4 & 5 & 6 & 7 & 8 \\\\\n",
       "0 & 6 & 5 & 4 & 3 & 2 & 1 \\\\\n",
       "0 & 1 & 1 & 1 & 1 & 1 & 0 \\\\\n",
       "1 & 2 & 3 & 4 & 5 & 6 & 7 \\\\\n",
       "7 & 6 & 5 & 4 & 3 & 2 & 1\n",
       "\\end{array}\\right)</script></html>"
      ],
      "text/latex": [
       "$$\\newcommand{\\Bold}[1]{\\mathbf{#1}}\\left(\\begin{array}{rrrrrrr}\n",
       "0 & 1 & 2 & 3 & 4 & 5 & 6 \\\\\n",
       "0 & 2 & 4 & 6 & 8 & 10 & 12 \\\\\n",
       "0 & 3 & 4 & 5 & 6 & 7 & 8 \\\\\n",
       "0 & 6 & 5 & 4 & 3 & 2 & 1 \\\\\n",
       "0 & 1 & 1 & 1 & 1 & 1 & 0 \\\\\n",
       "1 & 2 & 3 & 4 & 5 & 6 & 7 \\\\\n",
       "7 & 6 & 5 & 4 & 3 & 2 & 1\n",
       "\\end{array}\\right)$$"
      ],
      "text/plain": [
       "[ 0  1  2  3  4  5  6]\n",
       "[ 0  2  4  6  8 10 12]\n",
       "[ 0  3  4  5  6  7  8]\n",
       "[ 0  6  5  4  3  2  1]\n",
       "[ 0  1  1  1  1  1  0]\n",
       "[ 1  2  3  4  5  6  7]\n",
       "[ 7  6  5  4  3  2  1]"
      ]
     },
     "metadata": {},
     "output_type": "display_data"
    }
   ],
   "source": [
    "A=A1.transpose().augment(vector(v1)).augment(vector(v2)).transpose()\n",
    "show(A)"
   ]
  },
  {
   "cell_type": "markdown",
   "metadata": {
    "id": "inASP0SnS0iP"
   },
   "source": [
    "<font color=green> Construiu una matriu $B$  de mida $4\\times 4$ obtinguda prenent les 4 ultimes files i columnes de la matriu A i transposant-la. </font>"
   ]
  },
  {
   "cell_type": "code",
   "execution_count": 6,
   "metadata": {
    "id": "6N_KldIOS0iQ"
   },
   "outputs": [
    {
     "data": {
      "text/html": [
       "<html><script type=\"math/tex; mode=display\">\\newcommand{\\Bold}[1]{\\mathbf{#1}}\\left(\\begin{array}{rrrr}\n",
       "4 & 1 & 4 & 4 \\\\\n",
       "3 & 1 & 5 & 3 \\\\\n",
       "2 & 1 & 6 & 2 \\\\\n",
       "1 & 0 & 7 & 1\n",
       "\\end{array}\\right)</script></html>"
      ],
      "text/latex": [
       "$$\\newcommand{\\Bold}[1]{\\mathbf{#1}}\\left(\\begin{array}{rrrr}\n",
       "4 & 1 & 4 & 4 \\\\\n",
       "3 & 1 & 5 & 3 \\\\\n",
       "2 & 1 & 6 & 2 \\\\\n",
       "1 & 0 & 7 & 1\n",
       "\\end{array}\\right)$$"
      ],
      "text/plain": [
       "[4 1 4 4]\n",
       "[3 1 5 3]\n",
       "[2 1 6 2]\n",
       "[1 0 7 1]"
      ]
     },
     "metadata": {},
     "output_type": "display_data"
    }
   ],
   "source": [
    "B = A.matrix_from_rows_and_columns([3..6],[3..6]).transpose()\n",
    "show(B)"
   ]
  },
  {
   "cell_type": "markdown",
   "metadata": {
    "id": "Bb3J1knVS0iQ"
   },
   "source": [
    "<font color=green> Calculeu la forma esglaonada reduida de $A$ i de $B$. </font>"
   ]
  },
  {
   "cell_type": "code",
   "execution_count": 7,
   "metadata": {
    "id": "_gzSO5EfS0iR"
   },
   "outputs": [
    {
     "data": {
      "text/html": [
       "<html><script type=\"math/tex; mode=display\">\\newcommand{\\Bold}[1]{\\mathbf{#1}}\\left(\\begin{array}{rrrrrrr}\n",
       "1 & 0 & 0 & 0 & 0 & 0 & 0 \\\\\n",
       "0 & 1 & 0 & -1 & -2 & -3 & 0 \\\\\n",
       "0 & 0 & 1 & 2 & 3 & 4 & 0 \\\\\n",
       "0 & 0 & 0 & 0 & 0 & 0 & 1 \\\\\n",
       "0 & 0 & 0 & 0 & 0 & 0 & 0 \\\\\n",
       "0 & 0 & 0 & 0 & 0 & 0 & 0 \\\\\n",
       "0 & 0 & 0 & 0 & 0 & 0 & 0\n",
       "\\end{array}\\right)</script></html>"
      ],
      "text/latex": [
       "$$\\newcommand{\\Bold}[1]{\\mathbf{#1}}\\left(\\begin{array}{rrrrrrr}\n",
       "1 & 0 & 0 & 0 & 0 & 0 & 0 \\\\\n",
       "0 & 1 & 0 & -1 & -2 & -3 & 0 \\\\\n",
       "0 & 0 & 1 & 2 & 3 & 4 & 0 \\\\\n",
       "0 & 0 & 0 & 0 & 0 & 0 & 1 \\\\\n",
       "0 & 0 & 0 & 0 & 0 & 0 & 0 \\\\\n",
       "0 & 0 & 0 & 0 & 0 & 0 & 0 \\\\\n",
       "0 & 0 & 0 & 0 & 0 & 0 & 0\n",
       "\\end{array}\\right)$$"
      ],
      "text/plain": [
       "[ 1  0  0  0  0  0  0]\n",
       "[ 0  1  0 -1 -2 -3  0]\n",
       "[ 0  0  1  2  3  4  0]\n",
       "[ 0  0  0  0  0  0  1]\n",
       "[ 0  0  0  0  0  0  0]\n",
       "[ 0  0  0  0  0  0  0]\n",
       "[ 0  0  0  0  0  0  0]"
      ]
     },
     "metadata": {},
     "output_type": "display_data"
    }
   ],
   "source": [
    "AE = A.echelon_form()\n",
    "show(AE)"
   ]
  },
  {
   "cell_type": "code",
   "execution_count": 8,
   "metadata": {
    "id": "FeSkcnLdS0iR"
   },
   "outputs": [
    {
     "data": {
      "text/html": [
       "<html><script type=\"math/tex; mode=display\">\\newcommand{\\Bold}[1]{\\mathbf{#1}}\\left(\\begin{array}{rrrr}\n",
       "1 & 0 & 0 & 1 \\\\\n",
       "0 & 1 & 0 & 0 \\\\\n",
       "0 & 0 & 1 & 0 \\\\\n",
       "0 & 0 & 0 & 0\n",
       "\\end{array}\\right)</script></html>"
      ],
      "text/latex": [
       "$$\\newcommand{\\Bold}[1]{\\mathbf{#1}}\\left(\\begin{array}{rrrr}\n",
       "1 & 0 & 0 & 1 \\\\\n",
       "0 & 1 & 0 & 0 \\\\\n",
       "0 & 0 & 1 & 0 \\\\\n",
       "0 & 0 & 0 & 0\n",
       "\\end{array}\\right)$$"
      ],
      "text/plain": [
       "[1 0 0 1]\n",
       "[0 1 0 0]\n",
       "[0 0 1 0]\n",
       "[0 0 0 0]"
      ]
     },
     "metadata": {},
     "output_type": "display_data"
    }
   ],
   "source": [
    "BE = B.echelon_form()\n",
    "show(BE)"
   ]
  },
  {
   "cell_type": "markdown",
   "metadata": {
    "id": "eoeruoxxS0iR"
   },
   "source": [
    "<font color=green> Calculeu la PAQ-reducció de la matriu B. Cal donar una matriu P i una matriu Q de forma que la matriu $PBQ$ tingui zeros fora de la diagonal i a la diagonal només hi ha 1 o 0. </font>"
   ]
  },
  {
   "cell_type": "code",
   "execution_count": 9,
   "metadata": {
    "id": "VX7dDkYFS0iS"
   },
   "outputs": [
    {
     "data": {
      "text/html": [
       "<html><script type=\"math/tex; mode=display\">\\newcommand{\\Bold}[1]{\\mathbf{#1}}\\verb|P| \\left(\\begin{array}{rrrr}\n",
       "0 & \\frac{7}{8} & -\\frac{7}{8} & \\frac{1}{8} \\\\\n",
       "0 & -1 & 2 & -1 \\\\\n",
       "0 & -\\frac{1}{8} & \\frac{1}{8} & \\frac{1}{8} \\\\\n",
       "1 & -2 & 1 & 0\n",
       "\\end{array}\\right)</script></html>"
      ],
      "text/latex": [
       "$$\\newcommand{\\Bold}[1]{\\mathbf{#1}}\\verb|P| \\left(\\begin{array}{rrrr}\n",
       "0 & \\frac{7}{8} & -\\frac{7}{8} & \\frac{1}{8} \\\\\n",
       "0 & -1 & 2 & -1 \\\\\n",
       "0 & -\\frac{1}{8} & \\frac{1}{8} & \\frac{1}{8} \\\\\n",
       "1 & -2 & 1 & 0\n",
       "\\end{array}\\right)$$"
      ],
      "text/plain": [
       "'P' [   0  7/8 -7/8  1/8]\n",
       "[   0   -1    2   -1]\n",
       "[   0 -1/8  1/8  1/8]\n",
       "[   1   -2    1    0]"
      ]
     },
     "metadata": {},
     "output_type": "display_data"
    },
    {
     "data": {
      "text/html": [
       "<html><script type=\"math/tex; mode=display\">\\newcommand{\\Bold}[1]{\\mathbf{#1}}\\verb|B| \\left(\\begin{array}{rrrr}\n",
       "4 & 1 & 4 & 4 \\\\\n",
       "3 & 1 & 5 & 3 \\\\\n",
       "2 & 1 & 6 & 2 \\\\\n",
       "1 & 0 & 7 & 1\n",
       "\\end{array}\\right)</script></html>"
      ],
      "text/latex": [
       "$$\\newcommand{\\Bold}[1]{\\mathbf{#1}}\\verb|B| \\left(\\begin{array}{rrrr}\n",
       "4 & 1 & 4 & 4 \\\\\n",
       "3 & 1 & 5 & 3 \\\\\n",
       "2 & 1 & 6 & 2 \\\\\n",
       "1 & 0 & 7 & 1\n",
       "\\end{array}\\right)$$"
      ],
      "text/plain": [
       "'B' [4 1 4 4]\n",
       "[3 1 5 3]\n",
       "[2 1 6 2]\n",
       "[1 0 7 1]"
      ]
     },
     "metadata": {},
     "output_type": "display_data"
    },
    {
     "data": {
      "text/html": [
       "<html><script type=\"math/tex; mode=display\">\\newcommand{\\Bold}[1]{\\mathbf{#1}}\\verb|Q| \\left(\\begin{array}{rrrr}\n",
       "0 & 0 & 0 & 1 \\\\\n",
       "0 & 1 & 0 & 0 \\\\\n",
       "0 & 0 & 1 & 0 \\\\\n",
       "1 & 0 & 0 & -1\n",
       "\\end{array}\\right)</script></html>"
      ],
      "text/latex": [
       "$$\\newcommand{\\Bold}[1]{\\mathbf{#1}}\\verb|Q| \\left(\\begin{array}{rrrr}\n",
       "0 & 0 & 0 & 1 \\\\\n",
       "0 & 1 & 0 & 0 \\\\\n",
       "0 & 0 & 1 & 0 \\\\\n",
       "1 & 0 & 0 & -1\n",
       "\\end{array}\\right)$$"
      ],
      "text/plain": [
       "'Q' [ 0  0  0  1]\n",
       "[ 0  1  0  0]\n",
       "[ 0  0  1  0]\n",
       "[ 1  0  0 -1]"
      ]
     },
     "metadata": {},
     "output_type": "display_data"
    },
    {
     "data": {
      "text/html": [
       "<html><script type=\"math/tex; mode=display\">\\newcommand{\\Bold}[1]{\\mathbf{#1}}\\verb|PBQ| \\left(\\begin{array}{rrrr}\n",
       "1 & 0 & 0 & 0 \\\\\n",
       "0 & 1 & 0 & 0 \\\\\n",
       "0 & 0 & 1 & 0 \\\\\n",
       "0 & 0 & 0 & 0\n",
       "\\end{array}\\right)</script></html>"
      ],
      "text/latex": [
       "$$\\newcommand{\\Bold}[1]{\\mathbf{#1}}\\verb|PBQ| \\left(\\begin{array}{rrrr}\n",
       "1 & 0 & 0 & 0 \\\\\n",
       "0 & 1 & 0 & 0 \\\\\n",
       "0 & 0 & 1 & 0 \\\\\n",
       "0 & 0 & 0 & 0\n",
       "\\end{array}\\right)$$"
      ],
      "text/plain": [
       "'PBQ' [1 0 0 0]\n",
       "[0 1 0 0]\n",
       "[0 0 1 0]\n",
       "[0 0 0 0]"
      ]
     },
     "metadata": {},
     "output_type": "display_data"
    }
   ],
   "source": [
    "New=B.extended_echelon_form()\n",
    "B_rf=B.extended_echelon_form().matrix_from_columns([0..3])\n",
    "P=B.extended_echelon_form().matrix_from_columns([4..7])\n",
    "\n",
    "show(\"P\", P)\n",
    "\n",
    "show(\"B\", B)\n",
    "\n",
    "TB_rf=B_rf.transpose();\n",
    "New2=TB_rf.extended_echelon_form()\n",
    "transQ=TB_rf.extended_echelon_form().matrix_from_columns([4..7])\n",
    "PAQred=TB_rf.extended_echelon_form().matrix_from_columns([0..3])\n",
    "Q=transQ.transpose()\n",
    "\n",
    "show(\"Q\", Q)\n",
    "\n",
    "show(\"PBQ\", P*B*Q)"
   ]
  },
  {
   "cell_type": "markdown",
   "metadata": {
    "id": "Jq1lktaVS0iS"
   },
   "source": [
    "<font color=green> La següent funció retorna, per a cada matriu A, true o false depenen de si A té una certa forma o no la té. Quina forma? </font>"
   ]
  },
  {
   "cell_type": "code",
   "execution_count": 10,
   "metadata": {
    "id": "IAwb_jkTS0iT"
   },
   "outputs": [],
   "source": [
    "def NoSeQueFa(A):\n",
    "    n=A.nrows()\n",
    "    m=A.ncols()\n",
    "    if n!=m:\n",
    "        return(False)\n",
    "    for i in range(n):\n",
    "        for j in range(m):\n",
    "            if i<j and A[i,j]!=0:\n",
    "                return(False)\n",
    "    return(True)"
   ]
  },
  {
   "cell_type": "code",
   "execution_count": 11,
   "metadata": {},
   "outputs": [],
   "source": [
    "# Retorna True si la Matriu és triangular inferior, és a dir, que té tot 0s a sobre de la diagonal. A més no importa si els elements de la diagonal són 0 o no. A més, ha de ser quadrada per a que retorni True."
   ]
  },
  {
   "cell_type": "code",
   "execution_count": 12,
   "metadata": {},
   "outputs": [
    {
     "data": {
      "text/html": [
       "<html><script type=\"math/tex; mode=display\">\\newcommand{\\Bold}[1]{\\mathbf{#1}}\\left(\\begin{array}{rrr}\n",
       "1 & 0 & 0 \\\\\n",
       "2 & 3 & 0 \\\\\n",
       "2 & 3 & 4\n",
       "\\end{array}\\right)</script></html>"
      ],
      "text/latex": [
       "$$\\newcommand{\\Bold}[1]{\\mathbf{#1}}\\left(\\begin{array}{rrr}\n",
       "1 & 0 & 0 \\\\\n",
       "2 & 3 & 0 \\\\\n",
       "2 & 3 & 4\n",
       "\\end{array}\\right)$$"
      ],
      "text/plain": [
       "[1 0 0]\n",
       "[2 3 0]\n",
       "[2 3 4]"
      ]
     },
     "metadata": {},
     "output_type": "display_data"
    },
    {
     "name": "stdout",
     "output_type": "stream",
     "text": [
      "True\n"
     ]
    },
    {
     "data": {
      "text/html": [
       "<html><script type=\"math/tex; mode=display\">\\newcommand{\\Bold}[1]{\\mathbf{#1}}\\left(\\begin{array}{rrr}\n",
       "1 & 0 & 0 \\\\\n",
       "0 & 0 & 0 \\\\\n",
       "2 & 3 & 4\n",
       "\\end{array}\\right)</script></html>"
      ],
      "text/latex": [
       "$$\\newcommand{\\Bold}[1]{\\mathbf{#1}}\\left(\\begin{array}{rrr}\n",
       "1 & 0 & 0 \\\\\n",
       "0 & 0 & 0 \\\\\n",
       "2 & 3 & 4\n",
       "\\end{array}\\right)$$"
      ],
      "text/plain": [
       "[1 0 0]\n",
       "[0 0 0]\n",
       "[2 3 4]"
      ]
     },
     "metadata": {},
     "output_type": "display_data"
    },
    {
     "name": "stdout",
     "output_type": "stream",
     "text": [
      "True\n"
     ]
    },
    {
     "data": {
      "text/html": [
       "<html><script type=\"math/tex; mode=display\">\\newcommand{\\Bold}[1]{\\mathbf{#1}}\\left(\\begin{array}{rrr}\n",
       "1 & 0 & -5 \\\\\n",
       "0 & 0 & 0 \\\\\n",
       "2 & 0 & 0\n",
       "\\end{array}\\right)</script></html>"
      ],
      "text/latex": [
       "$$\\newcommand{\\Bold}[1]{\\mathbf{#1}}\\left(\\begin{array}{rrr}\n",
       "1 & 0 & -5 \\\\\n",
       "0 & 0 & 0 \\\\\n",
       "2 & 0 & 0\n",
       "\\end{array}\\right)$$"
      ],
      "text/plain": [
       "[ 1  0 -5]\n",
       "[ 0  0  0]\n",
       "[ 2  0  0]"
      ]
     },
     "metadata": {},
     "output_type": "display_data"
    },
    {
     "name": "stdout",
     "output_type": "stream",
     "text": [
      "False\n"
     ]
    }
   ],
   "source": [
    "#Comporvem la funció anterior\n",
    "M = Matrix(3,3,[1,0,0,2,3,0,2,3,4])\n",
    "show(M)\n",
    "print(NoSeQueFa(M))\n",
    "M = Matrix(3,3,[1,0,0,0,0,0,2,3,4])\n",
    "show(M)\n",
    "print(NoSeQueFa(M))\n",
    "M = Matrix(3,3,[1,0,0-5,0,0,0,2,0,0])\n",
    "show(M)\n",
    "print(NoSeQueFa(M))"
   ]
  },
  {
   "cell_type": "markdown",
   "metadata": {
    "id": "R6bXvC70S0iT"
   },
   "source": [
    "<font color=green> Escriu una funció EsIdentitat tal que, donada una matriu quadrada $Q$ retorni true or false depenen de si $Q$ és o no és la matriu identitat. </font>"
   ]
  },
  {
   "cell_type": "code",
   "execution_count": 13,
   "metadata": {
    "id": "21cejuZ2S0iU"
   },
   "outputs": [],
   "source": [
    "def EsIdentitat(Q: Matrix):\n",
    "    n = Q.nrows()\n",
    "    m = Q.ncols()\n",
    "    if n != m:\n",
    "        return False\n",
    "    for i in range(n):\n",
    "        for j in range(m):\n",
    "            if i==j and Q[i,j] != 1:\n",
    "                return False\n",
    "            if i != j and Q[i,j] != 0:\n",
    "                return False\n",
    "    return True"
   ]
  },
  {
   "cell_type": "code",
   "execution_count": 14,
   "metadata": {
    "id": "xANa2hjvS0iU"
   },
   "outputs": [
    {
     "data": {
      "text/html": [
       "<html><script type=\"math/tex; mode=display\">\\newcommand{\\Bold}[1]{\\mathbf{#1}}\\left(\\begin{array}{rrrrr}\n",
       "1 & 0 & 0 & 0 & 0 \\\\\n",
       "0 & 1 & 0 & 0 & 0 \\\\\n",
       "0 & 0 & 1 & 0 & 0 \\\\\n",
       "0 & 0 & 0 & 1 & 0 \\\\\n",
       "0 & 0 & 0 & 0 & 1\n",
       "\\end{array}\\right)</script></html>"
      ],
      "text/latex": [
       "$$\\newcommand{\\Bold}[1]{\\mathbf{#1}}\\left(\\begin{array}{rrrrr}\n",
       "1 & 0 & 0 & 0 & 0 \\\\\n",
       "0 & 1 & 0 & 0 & 0 \\\\\n",
       "0 & 0 & 1 & 0 & 0 \\\\\n",
       "0 & 0 & 0 & 1 & 0 \\\\\n",
       "0 & 0 & 0 & 0 & 1\n",
       "\\end{array}\\right)$$"
      ],
      "text/plain": [
       "[1 0 0 0 0]\n",
       "[0 1 0 0 0]\n",
       "[0 0 1 0 0]\n",
       "[0 0 0 1 0]\n",
       "[0 0 0 0 1]"
      ]
     },
     "metadata": {},
     "output_type": "display_data"
    },
    {
     "name": "stdout",
     "output_type": "stream",
     "text": [
      "True\n"
     ]
    },
    {
     "data": {
      "text/html": [
       "<html><script type=\"math/tex; mode=display\">\\newcommand{\\Bold}[1]{\\mathbf{#1}}\\left(\\begin{array}{rrrr}\n",
       "1 & 0 & 0 & 0 \\\\\n",
       "0 & 2 & 0 & 0 \\\\\n",
       "0 & 0 & 3 & 0 \\\\\n",
       "0 & 0 & 0 & 4\n",
       "\\end{array}\\right)</script></html>"
      ],
      "text/latex": [
       "$$\\newcommand{\\Bold}[1]{\\mathbf{#1}}\\left(\\begin{array}{rrrr}\n",
       "1 & 0 & 0 & 0 \\\\\n",
       "0 & 2 & 0 & 0 \\\\\n",
       "0 & 0 & 3 & 0 \\\\\n",
       "0 & 0 & 0 & 4\n",
       "\\end{array}\\right)$$"
      ],
      "text/plain": [
       "[1 0 0 0]\n",
       "[0 2 0 0]\n",
       "[0 0 3 0]\n",
       "[0 0 0 4]"
      ]
     },
     "metadata": {},
     "output_type": "display_data"
    },
    {
     "name": "stdout",
     "output_type": "stream",
     "text": [
      "False\n"
     ]
    },
    {
     "data": {
      "text/html": [
       "<html><script type=\"math/tex; mode=display\">\\newcommand{\\Bold}[1]{\\mathbf{#1}}\\left(\\begin{array}{rrr}\n",
       "1 & 0 & -5 \\\\\n",
       "0 & 0 & 0 \\\\\n",
       "2 & 0 & 0\n",
       "\\end{array}\\right)</script></html>"
      ],
      "text/latex": [
       "$$\\newcommand{\\Bold}[1]{\\mathbf{#1}}\\left(\\begin{array}{rrr}\n",
       "1 & 0 & -5 \\\\\n",
       "0 & 0 & 0 \\\\\n",
       "2 & 0 & 0\n",
       "\\end{array}\\right)$$"
      ],
      "text/plain": [
       "[ 1  0 -5]\n",
       "[ 0  0  0]\n",
       "[ 2  0  0]"
      ]
     },
     "metadata": {},
     "output_type": "display_data"
    },
    {
     "name": "stdout",
     "output_type": "stream",
     "text": [
      "False\n"
     ]
    }
   ],
   "source": [
    "#Comprovem la funció\n",
    "Q = identity_matrix(5)\n",
    "show(Q)\n",
    "print(EsIdentitat(Q))\n",
    "\n",
    "Q = diagonal_matrix([1,2,3,4])\n",
    "show(Q)\n",
    "print(EsIdentitat(Q))\n",
    "\n",
    "Q = Matrix(3,3,[1,0,0-5,0,0,0,2,0,0])\n",
    "show(Q)\n",
    "print(EsIdentitat(Q))"
   ]
  },
  {
   "cell_type": "markdown",
   "metadata": {
    "id": "wP7dgcVwS0iU"
   },
   "source": [
    "<font color=green> Definiu el subespai $F$ de $\\mathbb{Q}^7$ format per les ultimes 4 files de la matriu $A$. </font>"
   ]
  },
  {
   "cell_type": "code",
   "execution_count": 15,
   "metadata": {},
   "outputs": [
    {
     "data": {
      "text/html": [
       "<html><script type=\"math/tex; mode=display\">\\newcommand{\\Bold}[1]{\\mathbf{#1}}\\left(\\begin{array}{rrrrrrr}\n",
       "0 & 1 & 2 & 3 & 4 & 5 & 6 \\\\\n",
       "0 & 2 & 4 & 6 & 8 & 10 & 12 \\\\\n",
       "0 & 3 & 4 & 5 & 6 & 7 & 8 \\\\\n",
       "0 & 6 & 5 & 4 & 3 & 2 & 1 \\\\\n",
       "0 & 1 & 1 & 1 & 1 & 1 & 0 \\\\\n",
       "1 & 2 & 3 & 4 & 5 & 6 & 7 \\\\\n",
       "7 & 6 & 5 & 4 & 3 & 2 & 1\n",
       "\\end{array}\\right)</script></html>"
      ],
      "text/latex": [
       "$$\\newcommand{\\Bold}[1]{\\mathbf{#1}}\\left(\\begin{array}{rrrrrrr}\n",
       "0 & 1 & 2 & 3 & 4 & 5 & 6 \\\\\n",
       "0 & 2 & 4 & 6 & 8 & 10 & 12 \\\\\n",
       "0 & 3 & 4 & 5 & 6 & 7 & 8 \\\\\n",
       "0 & 6 & 5 & 4 & 3 & 2 & 1 \\\\\n",
       "0 & 1 & 1 & 1 & 1 & 1 & 0 \\\\\n",
       "1 & 2 & 3 & 4 & 5 & 6 & 7 \\\\\n",
       "7 & 6 & 5 & 4 & 3 & 2 & 1\n",
       "\\end{array}\\right)$$"
      ],
      "text/plain": [
       "[ 0  1  2  3  4  5  6]\n",
       "[ 0  2  4  6  8 10 12]\n",
       "[ 0  3  4  5  6  7  8]\n",
       "[ 0  6  5  4  3  2  1]\n",
       "[ 0  1  1  1  1  1  0]\n",
       "[ 1  2  3  4  5  6  7]\n",
       "[ 7  6  5  4  3  2  1]"
      ]
     },
     "metadata": {},
     "output_type": "display_data"
    }
   ],
   "source": [
    "show(A)"
   ]
  },
  {
   "cell_type": "code",
   "execution_count": 16,
   "metadata": {
    "id": "CdtSVEzoS0iU"
   },
   "outputs": [
    {
     "data": {
      "text/html": [
       "<html><script type=\"math/tex; mode=display\">\\newcommand{\\Bold}[1]{\\mathbf{#1}}\\mathrm{RowSpan}_{\\Bold{Q}}\\left(\\begin{array}{rrrrrrr}\n",
       "1 & 0 & 0 & 0 & 0 & 0 & 0 \\\\\n",
       "0 & 1 & 0 & -1 & -2 & -3 & 0 \\\\\n",
       "0 & 0 & 1 & 2 & 3 & 4 & 0 \\\\\n",
       "0 & 0 & 0 & 0 & 0 & 0 & 1\n",
       "\\end{array}\\right)</script></html>"
      ],
      "text/latex": [
       "$$\\newcommand{\\Bold}[1]{\\mathbf{#1}}\\mathrm{RowSpan}_{\\Bold{Q}}\\left(\\begin{array}{rrrrrrr}\n",
       "1 & 0 & 0 & 0 & 0 & 0 & 0 \\\\\n",
       "0 & 1 & 0 & -1 & -2 & -3 & 0 \\\\\n",
       "0 & 0 & 1 & 2 & 3 & 4 & 0 \\\\\n",
       "0 & 0 & 0 & 0 & 0 & 0 & 1\n",
       "\\end{array}\\right)$$"
      ],
      "text/plain": [
       "Vector space of degree 7 and dimension 4 over Rational Field\n",
       "Basis matrix:\n",
       "[ 1  0  0  0  0  0  0]\n",
       "[ 0  1  0 -1 -2 -3  0]\n",
       "[ 0  0  1  2  3  4  0]\n",
       "[ 0  0  0  0  0  0  1]"
      ]
     },
     "metadata": {},
     "output_type": "display_data"
    },
    {
     "data": {
      "text/html": [
       "<html><script type=\"math/tex; mode=display\">\\newcommand{\\Bold}[1]{\\mathbf{#1}}\\left[\\left(1,\\,0,\\,0,\\,0,\\,0,\\,0,\\,0\\right), \\left(0,\\,1,\\,0,\\,-1,\\,-2,\\,-3,\\,0\\right), \\left(0,\\,0,\\,1,\\,2,\\,3,\\,4,\\,0\\right), \\left(0,\\,0,\\,0,\\,0,\\,0,\\,0,\\,1\\right)\\right]</script></html>"
      ],
      "text/latex": [
       "$$\\newcommand{\\Bold}[1]{\\mathbf{#1}}\\left[\\left(1,\\,0,\\,0,\\,0,\\,0,\\,0,\\,0\\right), \\left(0,\\,1,\\,0,\\,-1,\\,-2,\\,-3,\\,0\\right), \\left(0,\\,0,\\,1,\\,2,\\,3,\\,4,\\,0\\right), \\left(0,\\,0,\\,0,\\,0,\\,0,\\,0,\\,1\\right)\\right]$$"
      ],
      "text/plain": [
       "[\n",
       "(1, 0, 0, 0, 0, 0, 0),\n",
       "(0, 1, 0, -1, -2, -3, 0),\n",
       "(0, 0, 1, 2, 3, 4, 0),\n",
       "(0, 0, 0, 0, 0, 0, 1)\n",
       "]"
      ]
     },
     "metadata": {},
     "output_type": "display_data"
    }
   ],
   "source": [
    "F = (QQ^7).span(A.matrix_from_rows([3..6]))\n",
    "show(F)\n",
    "\n",
    "basesF = F.basis()\n",
    "show(basesF)"
   ]
  },
  {
   "cell_type": "markdown",
   "metadata": {
    "id": "LfDgMBFXS0iU"
   },
   "source": [
    "<font color=green> Definiu el subespai $G$ de $\\mathbb{Q}^7$ format per les ultimes 4 columnes de la matriu $A$. </font>"
   ]
  },
  {
   "cell_type": "code",
   "execution_count": 17,
   "metadata": {
    "id": "XPaCliYmS0iV"
   },
   "outputs": [
    {
     "data": {
      "text/html": [
       "<html><script type=\"math/tex; mode=display\">\\newcommand{\\Bold}[1]{\\mathbf{#1}}\\mathrm{RowSpan}_{\\Bold{Q}}\\left(\\begin{array}{rrrrrrr}\n",
       "1 & 2 & 0 & -\\frac{9}{2} & 0 & \\frac{1}{2} & -\\frac{9}{2} \\\\\n",
       "0 & 0 & 1 & \\frac{7}{2} & 0 & \\frac{1}{2} & \\frac{7}{2} \\\\\n",
       "0 & 0 & 0 & 0 & 1 & 0 & 0\n",
       "\\end{array}\\right)</script></html>"
      ],
      "text/latex": [
       "$$\\newcommand{\\Bold}[1]{\\mathbf{#1}}\\mathrm{RowSpan}_{\\Bold{Q}}\\left(\\begin{array}{rrrrrrr}\n",
       "1 & 2 & 0 & -\\frac{9}{2} & 0 & \\frac{1}{2} & -\\frac{9}{2} \\\\\n",
       "0 & 0 & 1 & \\frac{7}{2} & 0 & \\frac{1}{2} & \\frac{7}{2} \\\\\n",
       "0 & 0 & 0 & 0 & 1 & 0 & 0\n",
       "\\end{array}\\right)$$"
      ],
      "text/plain": [
       "Vector space of degree 7 and dimension 3 over Rational Field\n",
       "Basis matrix:\n",
       "[   1    2    0 -9/2    0  1/2 -9/2]\n",
       "[   0    0    1  7/2    0  1/2  7/2]\n",
       "[   0    0    0    0    1    0    0]"
      ]
     },
     "metadata": {},
     "output_type": "display_data"
    },
    {
     "data": {
      "text/html": [
       "<html><script type=\"math/tex; mode=display\">\\newcommand{\\Bold}[1]{\\mathbf{#1}}\\left[\\left(1,\\,2,\\,0,\\,-\\frac{9}{2},\\,0,\\,\\frac{1}{2},\\,-\\frac{9}{2}\\right), \\left(0,\\,0,\\,1,\\,\\frac{7}{2},\\,0,\\,\\frac{1}{2},\\,\\frac{7}{2}\\right), \\left(0,\\,0,\\,0,\\,0,\\,1,\\,0,\\,0\\right)\\right]</script></html>"
      ],
      "text/latex": [
       "$$\\newcommand{\\Bold}[1]{\\mathbf{#1}}\\left[\\left(1,\\,2,\\,0,\\,-\\frac{9}{2},\\,0,\\,\\frac{1}{2},\\,-\\frac{9}{2}\\right), \\left(0,\\,0,\\,1,\\,\\frac{7}{2},\\,0,\\,\\frac{1}{2},\\,\\frac{7}{2}\\right), \\left(0,\\,0,\\,0,\\,0,\\,1,\\,0,\\,0\\right)\\right]$$"
      ],
      "text/plain": [
       "[\n",
       "(1, 2, 0, -9/2, 0, 1/2, -9/2),\n",
       "(0, 0, 1, 7/2, 0, 1/2, 7/2),\n",
       "(0, 0, 0, 0, 1, 0, 0)\n",
       "]"
      ]
     },
     "metadata": {},
     "output_type": "display_data"
    }
   ],
   "source": [
    "G = (QQ^7).span(A.matrix_from_columns([3..6]).transpose())\n",
    "show(G)\n",
    "\n",
    "basesG = G.basis()\n",
    "show(basesG)"
   ]
  },
  {
   "cell_type": "markdown",
   "metadata": {
    "id": "cfcDr49eS0iV"
   },
   "source": [
    "<font color=green> Calculeu una base de la suma $F+G$ i una base de la intersecció $F\\cap G$. Cal donar-les com a llistes de vectors. </font>"
   ]
  },
  {
   "cell_type": "code",
   "execution_count": 18,
   "metadata": {
    "id": "TYbInzgKS0iV"
   },
   "outputs": [
    {
     "data": {
      "text/html": [
       "<html><script type=\"math/tex; mode=display\">\\newcommand{\\Bold}[1]{\\mathbf{#1}}\\mathrm{RowSpan}_{\\Bold{Q}}\\left(\\begin{array}{rrrrrrr}\n",
       "1 & 0 & 0 & 0 & 0 & 0 & 0 \\\\\n",
       "0 & 1 & 0 & 0 & 0 & 0 & 0 \\\\\n",
       "0 & 0 & 1 & 0 & 0 & 0 & 0 \\\\\n",
       "0 & 0 & 0 & 1 & 0 & 0 & 0 \\\\\n",
       "0 & 0 & 0 & 0 & 1 & 0 & 0 \\\\\n",
       "0 & 0 & 0 & 0 & 0 & 1 & 0 \\\\\n",
       "0 & 0 & 0 & 0 & 0 & 0 & 1\n",
       "\\end{array}\\right)</script></html>"
      ],
      "text/latex": [
       "$$\\newcommand{\\Bold}[1]{\\mathbf{#1}}\\mathrm{RowSpan}_{\\Bold{Q}}\\left(\\begin{array}{rrrrrrr}\n",
       "1 & 0 & 0 & 0 & 0 & 0 & 0 \\\\\n",
       "0 & 1 & 0 & 0 & 0 & 0 & 0 \\\\\n",
       "0 & 0 & 1 & 0 & 0 & 0 & 0 \\\\\n",
       "0 & 0 & 0 & 1 & 0 & 0 & 0 \\\\\n",
       "0 & 0 & 0 & 0 & 1 & 0 & 0 \\\\\n",
       "0 & 0 & 0 & 0 & 0 & 1 & 0 \\\\\n",
       "0 & 0 & 0 & 0 & 0 & 0 & 1\n",
       "\\end{array}\\right)$$"
      ],
      "text/plain": [
       "Vector space of degree 7 and dimension 7 over Rational Field\n",
       "Basis matrix:\n",
       "[1 0 0 0 0 0 0]\n",
       "[0 1 0 0 0 0 0]\n",
       "[0 0 1 0 0 0 0]\n",
       "[0 0 0 1 0 0 0]\n",
       "[0 0 0 0 1 0 0]\n",
       "[0 0 0 0 0 1 0]\n",
       "[0 0 0 0 0 0 1]"
      ]
     },
     "metadata": {},
     "output_type": "display_data"
    },
    {
     "data": {
      "text/html": [
       "<html><script type=\"math/tex; mode=display\">\\newcommand{\\Bold}[1]{\\mathbf{#1}}\\left[\\left(1,\\,0,\\,0,\\,0,\\,0,\\,0,\\,0\\right), \\left(0,\\,1,\\,0,\\,0,\\,0,\\,0,\\,0\\right), \\left(0,\\,0,\\,1,\\,0,\\,0,\\,0,\\,0\\right), \\left(0,\\,0,\\,0,\\,1,\\,0,\\,0,\\,0\\right), \\left(0,\\,0,\\,0,\\,0,\\,1,\\,0,\\,0\\right), \\left(0,\\,0,\\,0,\\,0,\\,0,\\,1,\\,0\\right), \\left(0,\\,0,\\,0,\\,0,\\,0,\\,0,\\,1\\right)\\right]</script></html>"
      ],
      "text/latex": [
       "$$\\newcommand{\\Bold}[1]{\\mathbf{#1}}\\left[\\left(1,\\,0,\\,0,\\,0,\\,0,\\,0,\\,0\\right), \\left(0,\\,1,\\,0,\\,0,\\,0,\\,0,\\,0\\right), \\left(0,\\,0,\\,1,\\,0,\\,0,\\,0,\\,0\\right), \\left(0,\\,0,\\,0,\\,1,\\,0,\\,0,\\,0\\right), \\left(0,\\,0,\\,0,\\,0,\\,1,\\,0,\\,0\\right), \\left(0,\\,0,\\,0,\\,0,\\,0,\\,1,\\,0\\right), \\left(0,\\,0,\\,0,\\,0,\\,0,\\,0,\\,1\\right)\\right]$$"
      ],
      "text/plain": [
       "[\n",
       "(1, 0, 0, 0, 0, 0, 0),\n",
       "(0, 1, 0, 0, 0, 0, 0),\n",
       "(0, 0, 1, 0, 0, 0, 0),\n",
       "(0, 0, 0, 1, 0, 0, 0),\n",
       "(0, 0, 0, 0, 1, 0, 0),\n",
       "(0, 0, 0, 0, 0, 1, 0),\n",
       "(0, 0, 0, 0, 0, 0, 1)\n",
       "]"
      ]
     },
     "metadata": {},
     "output_type": "display_data"
    }
   ],
   "source": [
    "suma = (F+G)\n",
    "show(suma)\n",
    "\n",
    "suma_bases = suma.basis()\n",
    "show(suma_bases)"
   ]
  },
  {
   "cell_type": "code",
   "execution_count": 19,
   "metadata": {
    "id": "YYYLt_teS0iV"
   },
   "outputs": [
    {
     "data": {
      "text/html": [
       "<html><script type=\"math/tex; mode=display\">\\newcommand{\\Bold}[1]{\\mathbf{#1}}\\left[\\right]</script></html>"
      ],
      "text/latex": [
       "$$\\newcommand{\\Bold}[1]{\\mathbf{#1}}\\left[\\right]$$"
      ],
      "text/plain": [
       "[\n",
       "\n",
       "]"
      ]
     },
     "metadata": {},
     "output_type": "display_data"
    }
   ],
   "source": [
    "inter = F.intersection(G).basis()\n",
    "show(inter)"
   ]
  },
  {
   "cell_type": "code",
   "execution_count": 20,
   "metadata": {},
   "outputs": [
    {
     "name": "stdout",
     "output_type": "stream",
     "text": [
      "Bases de F: 4\n",
      "Bases de G: 3\n",
      "Bases de F+G: 7\n",
      "Bases de la intersecció F∩G: 0\n"
     ]
    }
   ],
   "source": [
    "#Comprovem que els càlculs estan ben fets:\n",
    "print(f\"Bases de F: {F.dimension()}\")\n",
    "print(f\"Bases de G: {G.dimension()}\")\n",
    "print(f\"Bases de F+G: {(F+G).dimension()}\")\n",
    "print(f\"Bases de la intersecció F∩G: {F.intersection(G).dimension()}\")"
   ]
  },
  {
   "cell_type": "markdown",
   "metadata": {
    "id": "vGS1aPF7S0iV"
   },
   "source": [
    "<font color=green> Definiu l'aplicació lineal $f$ de $\\mathbb{Q}^7$ a $\\mathbb{Q}^4$ que té com a matriu la matriu formada per les 4 ultimes columnes de la transposta de $A$. </font>"
   ]
  },
  {
   "cell_type": "code",
   "execution_count": 21,
   "metadata": {
    "id": "dPI96Eu2S0iV"
   },
   "outputs": [
    {
     "data": {
      "text/html": [
       "<html><script type=\"math/tex; mode=display\">\\newcommand{\\Bold}[1]{\\mathbf{#1}}\\left(\\begin{array}{rrrr}\n",
       "0 & 0 & 1 & 7 \\\\\n",
       "6 & 1 & 2 & 6 \\\\\n",
       "5 & 1 & 3 & 5 \\\\\n",
       "4 & 1 & 4 & 4 \\\\\n",
       "3 & 1 & 5 & 3 \\\\\n",
       "2 & 1 & 6 & 2 \\\\\n",
       "1 & 0 & 7 & 1\n",
       "\\end{array}\\right)</script></html>"
      ],
      "text/latex": [
       "$$\\newcommand{\\Bold}[1]{\\mathbf{#1}}\\left(\\begin{array}{rrrr}\n",
       "0 & 0 & 1 & 7 \\\\\n",
       "6 & 1 & 2 & 6 \\\\\n",
       "5 & 1 & 3 & 5 \\\\\n",
       "4 & 1 & 4 & 4 \\\\\n",
       "3 & 1 & 5 & 3 \\\\\n",
       "2 & 1 & 6 & 2 \\\\\n",
       "1 & 0 & 7 & 1\n",
       "\\end{array}\\right)$$"
      ],
      "text/plain": [
       "[0 0 1 7]\n",
       "[6 1 2 6]\n",
       "[5 1 3 5]\n",
       "[4 1 4 4]\n",
       "[3 1 5 3]\n",
       "[2 1 6 2]\n",
       "[1 0 7 1]"
      ]
     },
     "metadata": {},
     "output_type": "display_data"
    }
   ],
   "source": [
    "f = A.transpose().matrix_from_columns([3..6])\n",
    "show(f)"
   ]
  },
  {
   "cell_type": "markdown",
   "metadata": {
    "id": "yd-_j_goS0iV"
   },
   "source": [
    "<font color=green> Calculeu bases del subespai nucli i del subespai imatge de $f$. </font>"
   ]
  },
  {
   "cell_type": "code",
   "execution_count": 22,
   "metadata": {
    "id": "0qEj9zAOS0iW",
    "scrolled": true
   },
   "outputs": [
    {
     "data": {
      "text/html": [
       "<html><script type=\"math/tex; mode=display\">\\newcommand{\\Bold}[1]{\\mathbf{#1}}\\left[\\left(0,\\,1,\\,0,\\,0,\\,-4,\\,3,\\,0\\right), \\left(0,\\,0,\\,1,\\,0,\\,-3,\\,2,\\,0\\right), \\left(0,\\,0,\\,0,\\,1,\\,-2,\\,1,\\,0\\right)\\right]</script></html>"
      ],
      "text/latex": [
       "$$\\newcommand{\\Bold}[1]{\\mathbf{#1}}\\left[\\left(0,\\,1,\\,0,\\,0,\\,-4,\\,3,\\,0\\right), \\left(0,\\,0,\\,1,\\,0,\\,-3,\\,2,\\,0\\right), \\left(0,\\,0,\\,0,\\,1,\\,-2,\\,1,\\,0\\right)\\right]$$"
      ],
      "text/plain": [
       "[\n",
       "(0, 1, 0, 0, -4, 3, 0),\n",
       "(0, 0, 1, 0, -3, 2, 0),\n",
       "(0, 0, 0, 1, -2, 1, 0)\n",
       "]"
      ]
     },
     "metadata": {},
     "output_type": "display_data"
    }
   ],
   "source": [
    "kernel = f.kernel() #és el mateix que f.left_kernel()\n",
    "bases_kernel = kernel.basis()\n",
    "show(bases_kernel)"
   ]
  },
  {
   "cell_type": "code",
   "execution_count": 23,
   "metadata": {},
   "outputs": [
    {
     "data": {
      "text/html": [
       "<html><script type=\"math/tex; mode=display\">\\newcommand{\\Bold}[1]{\\mathbf{#1}}\\left[\\left(1,\\,0,\\,0,\\,0\\right), \\left(0,\\,1,\\,0,\\,0\\right), \\left(0,\\,0,\\,1,\\,0\\right), \\left(0,\\,0,\\,0,\\,1\\right)\\right]</script></html>"
      ],
      "text/latex": [
       "$$\\newcommand{\\Bold}[1]{\\mathbf{#1}}\\left[\\left(1,\\,0,\\,0,\\,0\\right), \\left(0,\\,1,\\,0,\\,0\\right), \\left(0,\\,0,\\,1,\\,0\\right), \\left(0,\\,0,\\,0,\\,1\\right)\\right]$$"
      ],
      "text/plain": [
       "[\n",
       "(1, 0, 0, 0),\n",
       "(0, 1, 0, 0),\n",
       "(0, 0, 1, 0),\n",
       "(0, 0, 0, 1)\n",
       "]"
      ]
     },
     "metadata": {},
     "output_type": "display_data"
    }
   ],
   "source": [
    "image = f.image()\n",
    "bases_image = image.basis()\n",
    "show(bases_image)"
   ]
  },
  {
   "cell_type": "markdown",
   "metadata": {
    "id": "_XjZrp6XS0iW"
   },
   "source": [
    "<font color=green> Es $f$ ínjectiva? És exahustiva? </font>"
   ]
  },
  {
   "cell_type": "code",
   "execution_count": 2,
   "metadata": {},
   "outputs": [
    {
     "ename": "NameError",
     "evalue": "name 'f' is not defined",
     "output_type": "error",
     "traceback": [
      "\u001b[0;31m---------------------------------------------------------------------------\u001b[0m",
      "\u001b[0;31mNameError\u001b[0m                                 Traceback (most recent call last)",
      "\u001b[0;32m<ipython-input-2-268b8b699e09>\u001b[0m in \u001b[0;36m<module>\u001b[0;34m\u001b[0m\n\u001b[0;32m----> 1\u001b[0;31m \u001b[0mprint\u001b[0m\u001b[0;34m(\u001b[0m\u001b[0;34m'Es injectiva? '\u001b[0m\u001b[0;34m,\u001b[0m\u001b[0mf\u001b[0m\u001b[0;34m.\u001b[0m\u001b[0mis_injective\u001b[0m\u001b[0;34m(\u001b[0m\u001b[0;34m)\u001b[0m\u001b[0;34m)\u001b[0m\u001b[0;34m\u001b[0m\u001b[0;34m\u001b[0m\u001b[0m\n\u001b[0m\u001b[1;32m      2\u001b[0m \u001b[0mprint\u001b[0m\u001b[0;34m(\u001b[0m\u001b[0;34m'Es exhaustiva? '\u001b[0m\u001b[0;34m,\u001b[0m\u001b[0mf\u001b[0m\u001b[0;34m.\u001b[0m\u001b[0mis_surjective\u001b[0m\u001b[0;34m(\u001b[0m\u001b[0;34m)\u001b[0m\u001b[0;34m)\u001b[0m\u001b[0;34m\u001b[0m\u001b[0;34m\u001b[0m\u001b[0m\n",
      "\u001b[0;31mNameError\u001b[0m: name 'f' is not defined"
     ]
    }
   ],
   "source": [
    "print('Es exhaustiva? ',f.is_surjective())\n",
    "print('Es injectiva? ',f.is_injective())"
   ]
  },
  {
   "cell_type": "markdown",
   "metadata": {
    "id": "YpN09upFS0iW"
   },
   "source": [
    "<font color=red> Poseu aquí la resposta: </font>: "
   ]
  },
  {
   "cell_type": "markdown",
   "metadata": {
    "id": "qJ_OCitVS0iW"
   },
   "source": [
    "<font color=green> Determineu la matriu de l'aplicació lineal $g:\\mathbb{Q}^2\\to \\mathbb{Q}^7$ respecte les bases canòniques de sortida i d'arribada, on $g$ porta el vector $(1,1)$ a la primera fila de $B1$ i el vector $(1,-1)$ a la segona fila de $B1$. </font>"
   ]
  },
  {
   "cell_type": "code",
   "execution_count": 24,
   "metadata": {
    "id": "BtjneSP8S0iW"
   },
   "outputs": [
    {
     "data": {
      "text/html": [
       "<html><script type=\"math/tex; mode=display\">\\newcommand{\\Bold}[1]{\\mathbf{#1}}\\verb|B1:| \\left(\\begin{array}{rr}\n",
       "1 & 1 \\\\\n",
       "1 & -1\n",
       "\\end{array}\\right)</script></html>"
      ],
      "text/latex": [
       "$$\\newcommand{\\Bold}[1]{\\mathbf{#1}}\\verb|B1:| \\left(\\begin{array}{rr}\n",
       "1 & 1 \\\\\n",
       "1 & -1\n",
       "\\end{array}\\right)$$"
      ],
      "text/plain": [
       "'B1:' [ 1  1]\n",
       "[ 1 -1]"
      ]
     },
     "metadata": {},
     "output_type": "display_data"
    },
    {
     "data": {
      "text/html": [
       "<html><script type=\"math/tex; mode=display\">\\newcommand{\\Bold}[1]{\\mathbf{#1}}\\verb|Echelon|\\phantom{\\verb!x!}\\verb|form|\\phantom{\\verb!x!}\\verb|B1:| \\left(\\begin{array}{rr}\n",
       "1 & 0 \\\\\n",
       "0 & 1\n",
       "\\end{array}\\right)</script></html>"
      ],
      "text/latex": [
       "$$\\newcommand{\\Bold}[1]{\\mathbf{#1}}\\verb|Echelon|\\phantom{\\verb!x!}\\verb|form|\\phantom{\\verb!x!}\\verb|B1:| \\left(\\begin{array}{rr}\n",
       "1 & 0 \\\\\n",
       "0 & 1\n",
       "\\end{array}\\right)$$"
      ],
      "text/plain": [
       "'Echelon form B1:' [1 0]\n",
       "[0 1]"
      ]
     },
     "metadata": {},
     "output_type": "display_data"
    },
    {
     "data": {
      "text/html": [
       "<html><script type=\"math/tex; mode=display\">\\newcommand{\\Bold}[1]{\\mathbf{#1}}\\left(\\begin{array}{rr}\n",
       "1 & 0 \\\\\n",
       "0 & 1 \\\\\n",
       "0 & 0 \\\\\n",
       "0 & 0 \\\\\n",
       "0 & 0 \\\\\n",
       "0 & 0 \\\\\n",
       "0 & 0\n",
       "\\end{array}\\right)</script></html>"
      ],
      "text/latex": [
       "$$\\newcommand{\\Bold}[1]{\\mathbf{#1}}\\left(\\begin{array}{rr}\n",
       "1 & 0 \\\\\n",
       "0 & 1 \\\\\n",
       "0 & 0 \\\\\n",
       "0 & 0 \\\\\n",
       "0 & 0 \\\\\n",
       "0 & 0 \\\\\n",
       "0 & 0\n",
       "\\end{array}\\right)$$"
      ],
      "text/plain": [
       "[1 0]\n",
       "[0 1]\n",
       "[0 0]\n",
       "[0 0]\n",
       "[0 0]\n",
       "[0 0]\n",
       "[0 0]"
      ]
     },
     "metadata": {},
     "output_type": "display_data"
    }
   ],
   "source": [
    "B1 = matrix(QQ,2,2,[1,1,1,-1])\n",
    "show(\"B1:\", B1)\n",
    "echelon = B1.echelon_form()\n",
    "show(\"Echelon form B1:\", echelon)\n",
    "augmented = echelon.transpose().augment(zero_matrix(2,5)).transpose()\n",
    "show(augmented)"
   ]
  },
  {
   "cell_type": "markdown",
   "metadata": {
    "id": "Ycon8mmQS0iX"
   },
   "source": [
    "<font color=green> Determineu la matriu respecte les bases canòniques de sortida i d'arribada de la composició $f\\circ g$. </font>"
   ]
  },
  {
   "cell_type": "code",
   "execution_count": null,
   "metadata": {
    "id": "Smfh6fkHS0iX"
   },
   "outputs": [],
   "source": []
  },
  {
   "cell_type": "markdown",
   "metadata": {
    "id": "Sxv58TW0S0iX"
   },
   "source": [
    "<font color=green> Determineu els valors propis de la matriu $B$ i de la matriu $AA^t$.  </font>"
   ]
  },
  {
   "cell_type": "code",
   "execution_count": 25,
   "metadata": {
    "id": "q4M4izxcS0iX"
   },
   "outputs": [
    {
     "data": {
      "text/html": [
       "<html><script type=\"math/tex; mode=display\">\\newcommand{\\Bold}[1]{\\mathbf{#1}}\\left(\\begin{array}{rrrr}\n",
       "4 & 1 & 4 & 4 \\\\\n",
       "3 & 1 & 5 & 3 \\\\\n",
       "2 & 1 & 6 & 2 \\\\\n",
       "1 & 0 & 7 & 1\n",
       "\\end{array}\\right)</script></html>"
      ],
      "text/latex": [
       "$$\\newcommand{\\Bold}[1]{\\mathbf{#1}}\\left(\\begin{array}{rrrr}\n",
       "4 & 1 & 4 & 4 \\\\\n",
       "3 & 1 & 5 & 3 \\\\\n",
       "2 & 1 & 6 & 2 \\\\\n",
       "1 & 0 & 7 & 1\n",
       "\\end{array}\\right)$$"
      ],
      "text/plain": [
       "[4 1 4 4]\n",
       "[3 1 5 3]\n",
       "[2 1 6 2]\n",
       "[1 0 7 1]"
      ]
     },
     "metadata": {},
     "output_type": "display_data"
    },
    {
     "data": {
      "text/html": [
       "<html><script type=\"math/tex; mode=display\">\\newcommand{\\Bold}[1]{\\mathbf{#1}}\\verb|Valors|\\phantom{\\verb!x!}\\verb|propis|\\phantom{\\verb!x!}\\verb|B| \\left[0, 11.07174134126589?, 0.4641293293670572? - 0.7121405748353124? \\sqrt{-1}, 0.4641293293670572? + 0.7121405748353124? \\sqrt{-1}\\right]</script></html>"
      ],
      "text/latex": [
       "$$\\newcommand{\\Bold}[1]{\\mathbf{#1}}\\verb|Valors|\\phantom{\\verb!x!}\\verb|propis|\\phantom{\\verb!x!}\\verb|B| \\left[0, 11.07174134126589?, 0.4641293293670572? - 0.7121405748353124? \\sqrt{-1}, 0.4641293293670572? + 0.7121405748353124? \\sqrt{-1}\\right]$$"
      ],
      "text/plain": [
       "'Valors propis B' [0, 11.07174134126589?, 0.4641293293670572? - 0.7121405748353124?*I, 0.4641293293670572? + 0.7121405748353124?*I]"
      ]
     },
     "metadata": {},
     "output_type": "display_data"
    }
   ],
   "source": [
    "show(B)\n",
    "show(\"Valors propis B\", B.eigenvalues())"
   ]
  },
  {
   "cell_type": "code",
   "execution_count": 26,
   "metadata": {
    "id": "K3vZIzoNS0iX"
   },
   "outputs": [
    {
     "data": {
      "text/html": [
       "<html><script type=\"math/tex; mode=display\">\\newcommand{\\Bold}[1]{\\mathbf{#1}}\\left(\\begin{array}{rrrrrrr}\n",
       "91 & 182 & 133 & 56 & 15 & 112 & 56 \\\\\n",
       "182 & 364 & 266 & 112 & 30 & 224 & 112 \\\\\n",
       "133 & 266 & 199 & 98 & 25 & 166 & 98 \\\\\n",
       "56 & 112 & 98 & 91 & 20 & 77 & 91 \\\\\n",
       "15 & 30 & 25 & 20 & 5 & 20 & 20 \\\\\n",
       "112 & 224 & 166 & 77 & 20 & 140 & 84 \\\\\n",
       "56 & 112 & 98 & 91 & 20 & 84 & 140\n",
       "\\end{array}\\right)</script></html>"
      ],
      "text/latex": [
       "$$\\newcommand{\\Bold}[1]{\\mathbf{#1}}\\left(\\begin{array}{rrrrrrr}\n",
       "91 & 182 & 133 & 56 & 15 & 112 & 56 \\\\\n",
       "182 & 364 & 266 & 112 & 30 & 224 & 112 \\\\\n",
       "133 & 266 & 199 & 98 & 25 & 166 & 98 \\\\\n",
       "56 & 112 & 98 & 91 & 20 & 77 & 91 \\\\\n",
       "15 & 30 & 25 & 20 & 5 & 20 & 20 \\\\\n",
       "112 & 224 & 166 & 77 & 20 & 140 & 84 \\\\\n",
       "56 & 112 & 98 & 91 & 20 & 84 & 140\n",
       "\\end{array}\\right)$$"
      ],
      "text/plain": [
       "[ 91 182 133  56  15 112  56]\n",
       "[182 364 266 112  30 224 112]\n",
       "[133 266 199  98  25 166  98]\n",
       "[ 56 112  98  91  20  77  91]\n",
       "[ 15  30  25  20   5  20  20]\n",
       "[112 224 166  77  20 140  84]\n",
       "[ 56 112  98  91  20  84 140]"
      ]
     },
     "metadata": {},
     "output_type": "display_data"
    },
    {
     "data": {
      "text/html": [
       "<html><script type=\"math/tex; mode=display\">\\newcommand{\\Bold}[1]{\\mathbf{#1}}\\verb|Valors|\\phantom{\\verb!x!}\\verb|propis|\\phantom{\\verb!x!}\\verb|A*A(T)| \\left[0, 0, 0, 0.4604682829178081?, 20.70498213961367?, 122.42282622110664?, 886.411723356362?\\right]</script></html>"
      ],
      "text/latex": [
       "$$\\newcommand{\\Bold}[1]{\\mathbf{#1}}\\verb|Valors|\\phantom{\\verb!x!}\\verb|propis|\\phantom{\\verb!x!}\\verb|A*A(T)| \\left[0, 0, 0, 0.4604682829178081?, 20.70498213961367?, 122.42282622110664?, 886.411723356362?\\right]$$"
      ],
      "text/plain": [
       "'Valors propis A*A(T)' [0, 0, 0, 0.4604682829178081?, 20.70498213961367?, 122.42282622110664?, 886.411723356362?]"
      ]
     },
     "metadata": {},
     "output_type": "display_data"
    }
   ],
   "source": [
    "X = A*A.transpose()\n",
    "show(X)\n",
    "show(\"Valors propis A*A(T)\", X.eigenvalues())"
   ]
  },
  {
   "cell_type": "markdown",
   "metadata": {
    "id": "t6CcwhWJS0iX"
   },
   "source": [
    "<font color=green> Calculeu una matriu invertible $M$ tal que $M^{-1}BM$ sigui diagonal. </font>"
   ]
  },
  {
   "cell_type": "code",
   "execution_count": null,
   "metadata": {
    "id": "279OGcKKS0iY"
   },
   "outputs": [],
   "source": []
  },
  {
   "cell_type": "code",
   "execution_count": null,
   "metadata": {
    "id": "ot9tsK2YS0iY"
   },
   "outputs": [],
   "source": []
  },
  {
   "cell_type": "markdown",
   "metadata": {
    "id": "MmJ9hetaS0iY"
   },
   "source": [
    "<font color=green> Calculeu una matriu ortogonal $Q$ amb coeficients reals tal que $Q^tAA^tQ$ sigui diagonal. </font>"
   ]
  },
  {
   "cell_type": "code",
   "execution_count": null,
   "metadata": {
    "id": "mkLSxmirS0iY"
   },
   "outputs": [],
   "source": []
  },
  {
   "cell_type": "code",
   "execution_count": null,
   "metadata": {
    "id": "cC2qTol5S0iY"
   },
   "outputs": [],
   "source": []
  },
  {
   "cell_type": "markdown",
   "metadata": {
    "id": "AHXGrciSS0iY"
   },
   "source": [
    "Calculeu U,V,Sigma de la descomposició en valors singulars per la matriu A. Doneu els valors singulars de A."
   ]
  },
  {
   "cell_type": "code",
   "execution_count": 27,
   "metadata": {
    "id": "rjG9i5hYS0iY"
   },
   "outputs": [
    {
     "data": {
      "text/html": [
       "<html><script type=\"math/tex; mode=display\">\\newcommand{\\Bold}[1]{\\mathbf{#1}}\\left(\\begin{array}{rrrrrrr}\n",
       "0.0 & 1.0 & 2.0 & 3.0 & 4.0 & 5.0 & 6.0 \\\\\n",
       "0.0 & 2.0 & 4.0 & 6.0 & 8.0 & 10.0 & 12.0 \\\\\n",
       "0.0 & 3.0 & 4.0 & 5.0 & 6.0 & 7.0 & 8.0 \\\\\n",
       "0.0 & 6.0 & 5.0 & 4.0 & 3.0 & 2.0 & 1.0 \\\\\n",
       "0.0 & 1.0 & 1.0 & 1.0 & 1.0 & 1.0 & 0.0 \\\\\n",
       "1.0 & 2.0 & 3.0 & 4.0 & 5.0 & 6.0 & 7.0 \\\\\n",
       "7.0 & 6.0 & 5.0 & 4.0 & 3.0 & 2.0 & 1.0\n",
       "\\end{array}\\right)</script></html>"
      ],
      "text/latex": [
       "$$\\newcommand{\\Bold}[1]{\\mathbf{#1}}\\left(\\begin{array}{rrrrrrr}\n",
       "0.0 & 1.0 & 2.0 & 3.0 & 4.0 & 5.0 & 6.0 \\\\\n",
       "0.0 & 2.0 & 4.0 & 6.0 & 8.0 & 10.0 & 12.0 \\\\\n",
       "0.0 & 3.0 & 4.0 & 5.0 & 6.0 & 7.0 & 8.0 \\\\\n",
       "0.0 & 6.0 & 5.0 & 4.0 & 3.0 & 2.0 & 1.0 \\\\\n",
       "0.0 & 1.0 & 1.0 & 1.0 & 1.0 & 1.0 & 0.0 \\\\\n",
       "1.0 & 2.0 & 3.0 & 4.0 & 5.0 & 6.0 & 7.0 \\\\\n",
       "7.0 & 6.0 & 5.0 & 4.0 & 3.0 & 2.0 & 1.0\n",
       "\\end{array}\\right)$$"
      ],
      "text/plain": [
       "[ 0.0  1.0  2.0  3.0  4.0  5.0  6.0]\n",
       "[ 0.0  2.0  4.0  6.0  8.0 10.0 12.0]\n",
       "[ 0.0  3.0  4.0  5.0  6.0  7.0  8.0]\n",
       "[ 0.0  6.0  5.0  4.0  3.0  2.0  1.0]\n",
       "[ 0.0  1.0  1.0  1.0  1.0  1.0  0.0]\n",
       "[ 1.0  2.0  3.0  4.0  5.0  6.0  7.0]\n",
       "[ 7.0  6.0  5.0  4.0  3.0  2.0  1.0]"
      ]
     },
     "metadata": {},
     "output_type": "display_data"
    },
    {
     "data": {
      "text/html": [
       "<html><script type=\"math/tex; mode=display\">\\newcommand{\\Bold}[1]{\\mathbf{#1}}\\left(\\begin{array}{rrrrrrr}\n",
       "-0.3145401304440401 & -0.16290303508206883 & 0.05089522845370331 & 0.002366873282782425 & -0.7756180184359759 & 0.4614222924915166 & -0.23966088250302386 \\\\\n",
       "-0.62908026088808 & -0.32580607016413776 & 0.10179045690740679 & 0.004733746565566096 & 0.5308208634944853 & 0.42280821450074496 & 0.16488526059317932 \\\\\n",
       "-0.47239992349331006 & -0.07311224577150455 & -0.16020805427331092 & -0.047475214788026514 & 0.07097012064712699 & -0.5525083194764902 & -0.65823262910095 \\\\\n",
       "-0.23796914522840507 & 0.47717079766904463 & -0.7897567179982543 & -0.17681418153061937 & -0.020277177327750362 & 0.1578595198504256 & 0.1880664654574143 \\\\\n",
       "-0.06033797192961616 & 0.08345701274637213 & -0.15149037084369782 & 0.9830793069272241 & -7.494005416219807 \\times 10^{-16} & 1.457167719820518 \\times 10^{-16} & 7.684824998577255 \\times 10^{-16} \\\\\n",
       "-0.3959320369884584 & -0.07351630929012015 & 0.13592047854336842 & 0.002885178344663798 & -0.3301121307118886 & -0.5220870218953296 & 0.6616657738906506 \\\\\n",
       "-0.2552032153668879 & 0.7886101156257109 & 0.5442815221739508 & 0.0012612621503872092 & 0.04715887581598399 & 0.07458386027076142 & -0.09452368198437863\n",
       "\\end{array}\\right)</script></html>"
      ],
      "text/latex": [
       "$$\\newcommand{\\Bold}[1]{\\mathbf{#1}}\\left(\\begin{array}{rrrrrrr}\n",
       "-0.3145401304440401 & -0.16290303508206883 & 0.05089522845370331 & 0.002366873282782425 & -0.7756180184359759 & 0.4614222924915166 & -0.23966088250302386 \\\\\n",
       "-0.62908026088808 & -0.32580607016413776 & 0.10179045690740679 & 0.004733746565566096 & 0.5308208634944853 & 0.42280821450074496 & 0.16488526059317932 \\\\\n",
       "-0.47239992349331006 & -0.07311224577150455 & -0.16020805427331092 & -0.047475214788026514 & 0.07097012064712699 & -0.5525083194764902 & -0.65823262910095 \\\\\n",
       "-0.23796914522840507 & 0.47717079766904463 & -0.7897567179982543 & -0.17681418153061937 & -0.020277177327750362 & 0.1578595198504256 & 0.1880664654574143 \\\\\n",
       "-0.06033797192961616 & 0.08345701274637213 & -0.15149037084369782 & 0.9830793069272241 & -7.494005416219807 \\times 10^{-16} & 1.457167719820518 \\times 10^{-16} & 7.684824998577255 \\times 10^{-16} \\\\\n",
       "-0.3959320369884584 & -0.07351630929012015 & 0.13592047854336842 & 0.002885178344663798 & -0.3301121307118886 & -0.5220870218953296 & 0.6616657738906506 \\\\\n",
       "-0.2552032153668879 & 0.7886101156257109 & 0.5442815221739508 & 0.0012612621503872092 & 0.04715887581598399 & 0.07458386027076142 & -0.09452368198437863\n",
       "\\end{array}\\right)$$"
      ],
      "text/plain": [
       "[   -0.3145401304440401   -0.16290303508206883    0.05089522845370331   0.002366873282782425    -0.7756180184359759     0.4614222924915166   -0.23966088250302386]\n",
       "[     -0.62908026088808   -0.32580607016413776    0.10179045690740679   0.004733746565566096     0.5308208634944853    0.42280821450074496    0.16488526059317932]\n",
       "[  -0.47239992349331006   -0.07311224577150455   -0.16020805427331092  -0.047475214788026514    0.07097012064712699    -0.5525083194764902      -0.65823262910095]\n",
       "[  -0.23796914522840507    0.47717079766904463    -0.7897567179982543   -0.17681418153061937  -0.020277177327750362     0.1578595198504256     0.1880664654574143]\n",
       "[  -0.06033797192961616    0.08345701274637213   -0.15149037084369782     0.9830793069272241 -7.494005416219807e-16  1.457167719820518e-16  7.684824998577255e-16]\n",
       "[   -0.3959320369884584   -0.07351630929012015    0.13592047854336842   0.002885178344663798    -0.3301121307118886    -0.5220870218953296     0.6616657738906506]\n",
       "[   -0.2552032153668879     0.7886101156257109     0.5442815221739508  0.0012612621503872092    0.04715887581598399    0.07458386027076142   -0.09452368198437863]"
      ]
     },
     "metadata": {},
     "output_type": "display_data"
    },
    {
     "data": {
      "text/html": [
       "<html><script type=\"math/tex; mode=display\">\\newcommand{\\Bold}[1]{\\mathbf{#1}}\\left(\\begin{array}{rrrrrrr}\n",
       "29.77266738732628 & 0.0 & 0.0 & 0.0 & 0.0 & 0.0 & 0.0 \\\\\n",
       "0.0 & 11.064484905367562 & 0.0 & 0.0 & 0.0 & 0.0 & 0.0 \\\\\n",
       "0.0 & 0.0 & 4.550272754419639 & 0.0 & 0.0 & 0.0 & 0.0 \\\\\n",
       "0.0 & 0.0 & 0.0 & 0.6785781332446603 & 0.0 & 0.0 & 0.0 \\\\\n",
       "0.0 & 0.0 & 0.0 & 0.0 & 1.270510836603276 \\times 10^{-15} & 0.0 & 0.0 \\\\\n",
       "0.0 & 0.0 & 0.0 & 0.0 & 0.0 & 8.127881297900573 \\times 10^{-16} & 0.0 \\\\\n",
       "0.0 & 0.0 & 0.0 & 0.0 & 0.0 & 0.0 & 9.164290035078028 \\times 10^{-17}\n",
       "\\end{array}\\right)</script></html>"
      ],
      "text/latex": [
       "$$\\newcommand{\\Bold}[1]{\\mathbf{#1}}\\left(\\begin{array}{rrrrrrr}\n",
       "29.77266738732628 & 0.0 & 0.0 & 0.0 & 0.0 & 0.0 & 0.0 \\\\\n",
       "0.0 & 11.064484905367562 & 0.0 & 0.0 & 0.0 & 0.0 & 0.0 \\\\\n",
       "0.0 & 0.0 & 4.550272754419639 & 0.0 & 0.0 & 0.0 & 0.0 \\\\\n",
       "0.0 & 0.0 & 0.0 & 0.6785781332446603 & 0.0 & 0.0 & 0.0 \\\\\n",
       "0.0 & 0.0 & 0.0 & 0.0 & 1.270510836603276 \\times 10^{-15} & 0.0 & 0.0 \\\\\n",
       "0.0 & 0.0 & 0.0 & 0.0 & 0.0 & 8.127881297900573 \\times 10^{-16} & 0.0 \\\\\n",
       "0.0 & 0.0 & 0.0 & 0.0 & 0.0 & 0.0 & 9.164290035078028 \\times 10^{-17}\n",
       "\\end{array}\\right)$$"
      ],
      "text/plain": [
       "[    29.77266738732628                   0.0                   0.0                   0.0                   0.0                   0.0                   0.0]\n",
       "[                  0.0    11.064484905367562                   0.0                   0.0                   0.0                   0.0                   0.0]\n",
       "[                  0.0                   0.0     4.550272754419639                   0.0                   0.0                   0.0                   0.0]\n",
       "[                  0.0                   0.0                   0.0    0.6785781332446603                   0.0                   0.0                   0.0]\n",
       "[                  0.0                   0.0                   0.0                   0.0 1.270510836603276e-15                   0.0                   0.0]\n",
       "[                  0.0                   0.0                   0.0                   0.0                   0.0 8.127881297900573e-16                   0.0]\n",
       "[                  0.0                   0.0                   0.0                   0.0                   0.0                   0.0 9.164290035078028e-17]"
      ]
     },
     "metadata": {},
     "output_type": "display_data"
    },
    {
     "data": {
      "text/html": [
       "<html><script type=\"math/tex; mode=display\">\\newcommand{\\Bold}[1]{\\mathbf{#1}}\\left(\\begin{array}{rrrrrrr}\n",
       "-0.07330060542327045 & 0.4922736617813581 & 0.867176836801358 & 0.017262586021395993 & 2.1586641817930072 \\times 10^{-16} & -2.6400976783694366 \\times 10^{-16} & -3.1214435051644587 \\times 10^{-16} \\\\\n",
       "-0.2284355830030047 & 0.587217391209769 & -0.34693494092653493 & -0.28745272070928773 & -0.433593846831253 & 0.4007777423545664 & 0.22665740054816802 \\\\\n",
       "-0.29386002841013154 & 0.3859495813828149 & -0.2423997211639686 & -0.07701674826203059 & 0.08517392851149369 & -0.5552593457425734 & -0.6200261775662768 \\\\\n",
       "-0.3592844738172586 & 0.18468177155586044 & -0.137864501401401 & 0.13341922418522623 & 0.536825306004997 & -0.2884923152708959 & 0.6546684465149358 \\\\\n",
       "-0.42470891922438553 & -0.016586038271093867 & -0.03332928163883388 & 0.34385519663248304 & 0.40520298978053704 & 0.6396516983512469 & -0.3558879625237127 \\\\\n",
       "-0.4901333646315124 & -0.217853848098048 & 0.07120593812373344 & 0.5542911690797394 & -0.5936083774657752 & -0.19667777969234373 & 0.09458829302688587 \\\\\n",
       "-0.5535311870577472 & -0.4266644412954136 & 0.20903374912636563 & -0.6840069964661836 & 2.8449465006019636 \\times 10^{-16} & -2.0816681711721685 \\times 10^{-17} & -3.469446951953614 \\times 10^{-17}\n",
       "\\end{array}\\right)</script></html>"
      ],
      "text/latex": [
       "$$\\newcommand{\\Bold}[1]{\\mathbf{#1}}\\left(\\begin{array}{rrrrrrr}\n",
       "-0.07330060542327045 & 0.4922736617813581 & 0.867176836801358 & 0.017262586021395993 & 2.1586641817930072 \\times 10^{-16} & -2.6400976783694366 \\times 10^{-16} & -3.1214435051644587 \\times 10^{-16} \\\\\n",
       "-0.2284355830030047 & 0.587217391209769 & -0.34693494092653493 & -0.28745272070928773 & -0.433593846831253 & 0.4007777423545664 & 0.22665740054816802 \\\\\n",
       "-0.29386002841013154 & 0.3859495813828149 & -0.2423997211639686 & -0.07701674826203059 & 0.08517392851149369 & -0.5552593457425734 & -0.6200261775662768 \\\\\n",
       "-0.3592844738172586 & 0.18468177155586044 & -0.137864501401401 & 0.13341922418522623 & 0.536825306004997 & -0.2884923152708959 & 0.6546684465149358 \\\\\n",
       "-0.42470891922438553 & -0.016586038271093867 & -0.03332928163883388 & 0.34385519663248304 & 0.40520298978053704 & 0.6396516983512469 & -0.3558879625237127 \\\\\n",
       "-0.4901333646315124 & -0.217853848098048 & 0.07120593812373344 & 0.5542911690797394 & -0.5936083774657752 & -0.19667777969234373 & 0.09458829302688587 \\\\\n",
       "-0.5535311870577472 & -0.4266644412954136 & 0.20903374912636563 & -0.6840069964661836 & 2.8449465006019636 \\times 10^{-16} & -2.0816681711721685 \\times 10^{-17} & -3.469446951953614 \\times 10^{-17}\n",
       "\\end{array}\\right)$$"
      ],
      "text/plain": [
       "[   -0.07330060542327045      0.4922736617813581       0.867176836801358    0.017262586021395993  2.1586641817930072e-16 -2.6400976783694366e-16 -3.1214435051644587e-16]\n",
       "[    -0.2284355830030047       0.587217391209769    -0.34693494092653493    -0.28745272070928773      -0.433593846831253      0.4007777423545664     0.22665740054816802]\n",
       "[   -0.29386002841013154      0.3859495813828149     -0.2423997211639686    -0.07701674826203059     0.08517392851149369     -0.5552593457425734     -0.6200261775662768]\n",
       "[    -0.3592844738172586     0.18468177155586044      -0.137864501401401     0.13341922418522623       0.536825306004997     -0.2884923152708959      0.6546684465149358]\n",
       "[   -0.42470891922438553   -0.016586038271093867    -0.03332928163883388     0.34385519663248304     0.40520298978053704      0.6396516983512469     -0.3558879625237127]\n",
       "[    -0.4901333646315124      -0.217853848098048     0.07120593812373344      0.5542911690797394     -0.5936083774657752    -0.19667777969234373     0.09458829302688587]\n",
       "[    -0.5535311870577472     -0.4266644412954136     0.20903374912636563     -0.6840069964661836  2.8449465006019636e-16 -2.0816681711721685e-17  -3.469446951953614e-17]"
      ]
     },
     "metadata": {},
     "output_type": "display_data"
    }
   ],
   "source": [
    "A1 = matrix(CDF, A)\n",
    "show(A1)\n",
    "U, S, V = A1.SVD()\n",
    "show(U)\n",
    "show(S)\n",
    "show(V)"
   ]
  },
  {
   "cell_type": "code",
   "execution_count": 28,
   "metadata": {},
   "outputs": [
    {
     "data": {
      "text/html": [
       "<html><script type=\"math/tex; mode=display\">\\newcommand{\\Bold}[1]{\\mathbf{#1}}\\left[0, 0, 0, -8.73209568541173?, 0.2985603667021353?, 1.169040240345128?, 25.26449507836447?\\right]</script></html>"
      ],
      "text/latex": [
       "$$\\newcommand{\\Bold}[1]{\\mathbf{#1}}\\left[0, 0, 0, -8.73209568541173?, 0.2985603667021353?, 1.169040240345128?, 25.26449507836447?\\right]$$"
      ],
      "text/plain": [
       "[0, 0, 0, -8.73209568541173?, 0.2985603667021353?, 1.169040240345128?, 25.26449507836447?]"
      ]
     },
     "metadata": {},
     "output_type": "display_data"
    }
   ],
   "source": [
    "#valors propis\n",
    "show(A.eigenvalues())"
   ]
  },
  {
   "cell_type": "markdown",
   "metadata": {
    "id": "YwRzFA17S0iZ"
   },
   "source": [
    "Escriviu una funció amb Sage que decideixi si una matriu és ortogonal o no."
   ]
  },
  {
   "cell_type": "code",
   "execution_count": 29,
   "metadata": {
    "id": "wsf2qKh9S0iZ"
   },
   "outputs": [],
   "source": [
    "def EsOrtogonal(M):\n",
    "    rows = M.rows()\n",
    "    for a in range(M.nrows()):\n",
    "        for i in range(M.nrows()):\n",
    "            if rows[i] != rows[a]:\n",
    "                if rows[i] * rows[a] != 0:\n",
    "                    print(vector(rows[i]) * vector(rows[0]), f\"= {vector(rows[a])} * {vector(rows[i])}\", \"diferente que\", 0)\n",
    "                    return False\n",
    "    return True"
   ]
  },
  {
   "cell_type": "code",
   "execution_count": 30,
   "metadata": {},
   "outputs": [
    {
     "data": {
      "text/html": [
       "<html><script type=\"math/tex; mode=display\">\\newcommand{\\Bold}[1]{\\mathbf{#1}}\\left(\\begin{array}{rrrrr}\n",
       "1 & 0 & 0 & 0 & 0 \\\\\n",
       "0 & 1 & 0 & 0 & 0 \\\\\n",
       "0 & 0 & 1 & 0 & 0 \\\\\n",
       "0 & 0 & 0 & 1 & 0 \\\\\n",
       "0 & 0 & 0 & 0 & 1\n",
       "\\end{array}\\right)</script></html>"
      ],
      "text/latex": [
       "$$\\newcommand{\\Bold}[1]{\\mathbf{#1}}\\left(\\begin{array}{rrrrr}\n",
       "1 & 0 & 0 & 0 & 0 \\\\\n",
       "0 & 1 & 0 & 0 & 0 \\\\\n",
       "0 & 0 & 1 & 0 & 0 \\\\\n",
       "0 & 0 & 0 & 1 & 0 \\\\\n",
       "0 & 0 & 0 & 0 & 1\n",
       "\\end{array}\\right)$$"
      ],
      "text/plain": [
       "[1 0 0 0 0]\n",
       "[0 1 0 0 0]\n",
       "[0 0 1 0 0]\n",
       "[0 0 0 1 0]\n",
       "[0 0 0 0 1]"
      ]
     },
     "metadata": {},
     "output_type": "display_data"
    },
    {
     "name": "stdout",
     "output_type": "stream",
     "text": [
      "True\n"
     ]
    },
    {
     "data": {
      "text/html": [
       "<html><script type=\"math/tex; mode=display\">\\newcommand{\\Bold}[1]{\\mathbf{#1}}\\left(\\begin{array}{rrrrrrr}\n",
       "0 & 1 & 2 & 3 & 4 & 5 & 6 \\\\\n",
       "0 & 2 & 4 & 6 & 8 & 10 & 12 \\\\\n",
       "0 & 3 & 4 & 5 & 6 & 7 & 8 \\\\\n",
       "0 & 6 & 5 & 4 & 3 & 2 & 1 \\\\\n",
       "0 & 1 & 1 & 1 & 1 & 1 & 0 \\\\\n",
       "1 & 2 & 3 & 4 & 5 & 6 & 7 \\\\\n",
       "7 & 6 & 5 & 4 & 3 & 2 & 1\n",
       "\\end{array}\\right)</script></html>"
      ],
      "text/latex": [
       "$$\\newcommand{\\Bold}[1]{\\mathbf{#1}}\\left(\\begin{array}{rrrrrrr}\n",
       "0 & 1 & 2 & 3 & 4 & 5 & 6 \\\\\n",
       "0 & 2 & 4 & 6 & 8 & 10 & 12 \\\\\n",
       "0 & 3 & 4 & 5 & 6 & 7 & 8 \\\\\n",
       "0 & 6 & 5 & 4 & 3 & 2 & 1 \\\\\n",
       "0 & 1 & 1 & 1 & 1 & 1 & 0 \\\\\n",
       "1 & 2 & 3 & 4 & 5 & 6 & 7 \\\\\n",
       "7 & 6 & 5 & 4 & 3 & 2 & 1\n",
       "\\end{array}\\right)$$"
      ],
      "text/plain": [
       "[ 0  1  2  3  4  5  6]\n",
       "[ 0  2  4  6  8 10 12]\n",
       "[ 0  3  4  5  6  7  8]\n",
       "[ 0  6  5  4  3  2  1]\n",
       "[ 0  1  1  1  1  1  0]\n",
       "[ 1  2  3  4  5  6  7]\n",
       "[ 7  6  5  4  3  2  1]"
      ]
     },
     "metadata": {},
     "output_type": "display_data"
    },
    {
     "name": "stdout",
     "output_type": "stream",
     "text": [
      "182 = (0, 1, 2, 3, 4, 5, 6) * (0, 2, 4, 6, 8, 10, 12) diferente que 0\n",
      "False\n"
     ]
    }
   ],
   "source": [
    "X = identity_matrix(5)\n",
    "show(X)\n",
    "print(EsOrtogonal(X))\n",
    "show(A)\n",
    "print(EsOrtogonal(A))"
   ]
  }
 ],
 "metadata": {
  "colab": {
   "provenance": []
  },
  "kernelspec": {
   "display_name": "SageMath 9.3",
   "language": "sage",
   "name": "sagemath"
  },
  "language_info": {
   "codemirror_mode": {
    "name": "ipython",
    "version": 3
   },
   "file_extension": ".py",
   "mimetype": "text/x-python",
   "name": "python",
   "nbconvert_exporter": "python",
   "pygments_lexer": "ipython3",
   "version": "3.7.10"
  }
 },
 "nbformat": 4,
 "nbformat_minor": 1
}
