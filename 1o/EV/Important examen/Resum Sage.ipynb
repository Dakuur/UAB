{
 "cells": [
  {
   "cell_type": "markdown",
   "metadata": {},
   "source": [
    "# Matrius"
   ]
  },
  {
   "cell_type": "markdown",
   "metadata": {},
   "source": [
    "## Creació Matrius"
   ]
  },
  {
   "cell_type": "code",
   "execution_count": 2,
   "metadata": {},
   "outputs": [
    {
     "data": {
      "text/html": [
       "<html><script type=\"math/tex; mode=display\">\\newcommand{\\Bold}[1]{\\mathbf{#1}}\\left(\\begin{array}{rrrrrrrrrr}\n",
       "\\frac{1}{2} & \\frac{1}{3} & \\frac{1}{4} & \\frac{1}{5} & \\frac{1}{6} & \\frac{1}{7} & \\frac{1}{8} & \\frac{1}{9} & \\frac{1}{10} & \\frac{1}{11} \\\\\n",
       "\\frac{1}{3} & \\frac{1}{4} & \\frac{1}{5} & \\frac{1}{6} & \\frac{1}{7} & \\frac{1}{8} & \\frac{1}{9} & \\frac{1}{10} & \\frac{1}{11} & \\frac{1}{12} \\\\\n",
       "\\frac{1}{4} & \\frac{1}{5} & \\frac{1}{6} & \\frac{1}{7} & \\frac{1}{8} & \\frac{1}{9} & \\frac{1}{10} & \\frac{1}{11} & \\frac{1}{12} & \\frac{1}{13} \\\\\n",
       "\\frac{1}{5} & \\frac{1}{6} & \\frac{1}{7} & \\frac{1}{8} & \\frac{1}{9} & \\frac{1}{10} & \\frac{1}{11} & \\frac{1}{12} & \\frac{1}{13} & \\frac{1}{14} \\\\\n",
       "\\frac{1}{6} & \\frac{1}{7} & \\frac{1}{8} & \\frac{1}{9} & \\frac{1}{10} & \\frac{1}{11} & \\frac{1}{12} & \\frac{1}{13} & \\frac{1}{14} & \\frac{1}{15} \\\\\n",
       "\\frac{1}{7} & \\frac{1}{8} & \\frac{1}{9} & \\frac{1}{10} & \\frac{1}{11} & \\frac{1}{12} & \\frac{1}{13} & \\frac{1}{14} & \\frac{1}{15} & \\frac{1}{16} \\\\\n",
       "\\frac{1}{8} & \\frac{1}{9} & \\frac{1}{10} & \\frac{1}{11} & \\frac{1}{12} & \\frac{1}{13} & \\frac{1}{14} & \\frac{1}{15} & \\frac{1}{16} & \\frac{1}{17} \\\\\n",
       "\\frac{1}{9} & \\frac{1}{10} & \\frac{1}{11} & \\frac{1}{12} & \\frac{1}{13} & \\frac{1}{14} & \\frac{1}{15} & \\frac{1}{16} & \\frac{1}{17} & \\frac{1}{18} \\\\\n",
       "\\frac{1}{10} & \\frac{1}{11} & \\frac{1}{12} & \\frac{1}{13} & \\frac{1}{14} & \\frac{1}{15} & \\frac{1}{16} & \\frac{1}{17} & \\frac{1}{18} & \\frac{1}{19} \\\\\n",
       "\\frac{1}{11} & \\frac{1}{12} & \\frac{1}{13} & \\frac{1}{14} & \\frac{1}{15} & \\frac{1}{16} & \\frac{1}{17} & \\frac{1}{18} & \\frac{1}{19} & \\frac{1}{20}\n",
       "\\end{array}\\right)</script></html>"
      ],
      "text/latex": [
       "$$\\newcommand{\\Bold}[1]{\\mathbf{#1}}\\left(\\begin{array}{rrrrrrrrrr}\n",
       "\\frac{1}{2} & \\frac{1}{3} & \\frac{1}{4} & \\frac{1}{5} & \\frac{1}{6} & \\frac{1}{7} & \\frac{1}{8} & \\frac{1}{9} & \\frac{1}{10} & \\frac{1}{11} \\\\\n",
       "\\frac{1}{3} & \\frac{1}{4} & \\frac{1}{5} & \\frac{1}{6} & \\frac{1}{7} & \\frac{1}{8} & \\frac{1}{9} & \\frac{1}{10} & \\frac{1}{11} & \\frac{1}{12} \\\\\n",
       "\\frac{1}{4} & \\frac{1}{5} & \\frac{1}{6} & \\frac{1}{7} & \\frac{1}{8} & \\frac{1}{9} & \\frac{1}{10} & \\frac{1}{11} & \\frac{1}{12} & \\frac{1}{13} \\\\\n",
       "\\frac{1}{5} & \\frac{1}{6} & \\frac{1}{7} & \\frac{1}{8} & \\frac{1}{9} & \\frac{1}{10} & \\frac{1}{11} & \\frac{1}{12} & \\frac{1}{13} & \\frac{1}{14} \\\\\n",
       "\\frac{1}{6} & \\frac{1}{7} & \\frac{1}{8} & \\frac{1}{9} & \\frac{1}{10} & \\frac{1}{11} & \\frac{1}{12} & \\frac{1}{13} & \\frac{1}{14} & \\frac{1}{15} \\\\\n",
       "\\frac{1}{7} & \\frac{1}{8} & \\frac{1}{9} & \\frac{1}{10} & \\frac{1}{11} & \\frac{1}{12} & \\frac{1}{13} & \\frac{1}{14} & \\frac{1}{15} & \\frac{1}{16} \\\\\n",
       "\\frac{1}{8} & \\frac{1}{9} & \\frac{1}{10} & \\frac{1}{11} & \\frac{1}{12} & \\frac{1}{13} & \\frac{1}{14} & \\frac{1}{15} & \\frac{1}{16} & \\frac{1}{17} \\\\\n",
       "\\frac{1}{9} & \\frac{1}{10} & \\frac{1}{11} & \\frac{1}{12} & \\frac{1}{13} & \\frac{1}{14} & \\frac{1}{15} & \\frac{1}{16} & \\frac{1}{17} & \\frac{1}{18} \\\\\n",
       "\\frac{1}{10} & \\frac{1}{11} & \\frac{1}{12} & \\frac{1}{13} & \\frac{1}{14} & \\frac{1}{15} & \\frac{1}{16} & \\frac{1}{17} & \\frac{1}{18} & \\frac{1}{19} \\\\\n",
       "\\frac{1}{11} & \\frac{1}{12} & \\frac{1}{13} & \\frac{1}{14} & \\frac{1}{15} & \\frac{1}{16} & \\frac{1}{17} & \\frac{1}{18} & \\frac{1}{19} & \\frac{1}{20}\n",
       "\\end{array}\\right)$$"
      ],
      "text/plain": [
       "[ 1/2  1/3  1/4  1/5  1/6  1/7  1/8  1/9 1/10 1/11]\n",
       "[ 1/3  1/4  1/5  1/6  1/7  1/8  1/9 1/10 1/11 1/12]\n",
       "[ 1/4  1/5  1/6  1/7  1/8  1/9 1/10 1/11 1/12 1/13]\n",
       "[ 1/5  1/6  1/7  1/8  1/9 1/10 1/11 1/12 1/13 1/14]\n",
       "[ 1/6  1/7  1/8  1/9 1/10 1/11 1/12 1/13 1/14 1/15]\n",
       "[ 1/7  1/8  1/9 1/10 1/11 1/12 1/13 1/14 1/15 1/16]\n",
       "[ 1/8  1/9 1/10 1/11 1/12 1/13 1/14 1/15 1/16 1/17]\n",
       "[ 1/9 1/10 1/11 1/12 1/13 1/14 1/15 1/16 1/17 1/18]\n",
       "[1/10 1/11 1/12 1/13 1/14 1/15 1/16 1/17 1/18 1/19]\n",
       "[1/11 1/12 1/13 1/14 1/15 1/16 1/17 1/18 1/19 1/20]"
      ]
     },
     "metadata": {},
     "output_type": "display_data"
    }
   ],
   "source": [
    "A=Matrix(QQ,10,10,[1/(j+k) for j in range(1,11) for k in range(1,11)])\n",
    "show(A)"
   ]
  },
  {
   "cell_type": "markdown",
   "metadata": {},
   "source": [
    "### Rang d'una matriu"
   ]
  },
  {
   "cell_type": "code",
   "execution_count": 3,
   "metadata": {},
   "outputs": [
    {
     "data": {
      "text/plain": [
       "10"
      ]
     },
     "execution_count": 3,
     "metadata": {},
     "output_type": "execute_result"
    }
   ],
   "source": [
    "A.rank()"
   ]
  },
  {
   "cell_type": "markdown",
   "metadata": {},
   "source": [
    "## Matriu + Matriu"
   ]
  },
  {
   "cell_type": "code",
   "execution_count": 4,
   "metadata": {},
   "outputs": [
    {
     "data": {
      "text/html": [
       "<html><script type=\"math/tex; mode=display\">\\newcommand{\\Bold}[1]{\\mathbf{#1}}\\left(\\begin{array}{rrrr}\n",
       "1 & 0 & 4 & 4 \\\\\n",
       "1 & 2 & 0 & 3 \\\\\n",
       "0 & 1 & -2 & -1 \\\\\n",
       "1 & 1 & a & 3\n",
       "\\end{array}\\right)</script></html>"
      ],
      "text/latex": [
       "$$\\newcommand{\\Bold}[1]{\\mathbf{#1}}\\left(\\begin{array}{rrrr}\n",
       "1 & 0 & 4 & 4 \\\\\n",
       "1 & 2 & 0 & 3 \\\\\n",
       "0 & 1 & -2 & -1 \\\\\n",
       "1 & 1 & a & 3\n",
       "\\end{array}\\right)$$"
      ],
      "text/plain": [
       "[ 1  0  4  4]\n",
       "[ 1  2  0  3]\n",
       "[ 0  1 -2 -1]\n",
       "[ 1  1  a  3]"
      ]
     },
     "metadata": {},
     "output_type": "display_data"
    },
    {
     "data": {
      "text/html": [
       "<html><script type=\"math/tex; mode=display\">\\newcommand{\\Bold}[1]{\\mathbf{#1}}\\left(\\begin{array}{r}\n",
       "1 \\\\\n",
       "0 \\\\\n",
       "a - 1 \\\\\n",
       "a\n",
       "\\end{array}\\right)</script></html>"
      ],
      "text/latex": [
       "$$\\newcommand{\\Bold}[1]{\\mathbf{#1}}\\left(\\begin{array}{r}\n",
       "1 \\\\\n",
       "0 \\\\\n",
       "a - 1 \\\\\n",
       "a\n",
       "\\end{array}\\right)$$"
      ],
      "text/plain": [
       "[    1]\n",
       "[    0]\n",
       "[a - 1]\n",
       "[    a]"
      ]
     },
     "metadata": {},
     "output_type": "display_data"
    },
    {
     "data": {
      "text/html": [
       "<html><script type=\"math/tex; mode=display\">\\newcommand{\\Bold}[1]{\\mathbf{#1}}\\left(\\begin{array}{rrrr|r}\n",
       "1 & 0 & 4 & 4 & 1 \\\\\n",
       "1 & 2 & 0 & 3 & 0 \\\\\n",
       "0 & 1 & -2 & -1 & a - 1 \\\\\n",
       "1 & 1 & a & 3 & a\n",
       "\\end{array}\\right)</script></html>"
      ],
      "text/latex": [
       "$$\\newcommand{\\Bold}[1]{\\mathbf{#1}}\\left(\\begin{array}{rrrr|r}\n",
       "1 & 0 & 4 & 4 & 1 \\\\\n",
       "1 & 2 & 0 & 3 & 0 \\\\\n",
       "0 & 1 & -2 & -1 & a - 1 \\\\\n",
       "1 & 1 & a & 3 & a\n",
       "\\end{array}\\right)$$"
      ],
      "text/plain": [
       "[    1     0     4     4|    1]\n",
       "[    1     2     0     3|    0]\n",
       "[    0     1    -2    -1|a - 1]\n",
       "[    1     1     a     3|    a]"
      ]
     },
     "metadata": {},
     "output_type": "display_data"
    }
   ],
   "source": [
    "var('a')\n",
    "C=matrix(4,4,[1,0,4,4,\n",
    "             1,2,0,3,\n",
    "             0,1,-2,-1,\n",
    "              1,1,a,3])\n",
    "show(C)\n",
    "\n",
    "T=matrix(4,1,[1,0,a-1,a])\n",
    "show(T)\n",
    "\n",
    "S=block_matrix(1,2,[C,T])\n",
    "show(S)"
   ]
  },
  {
   "cell_type": "markdown",
   "metadata": {},
   "source": [
    "## Matriu identitat"
   ]
  },
  {
   "cell_type": "code",
   "execution_count": 5,
   "metadata": {},
   "outputs": [
    {
     "data": {
      "text/html": [
       "<html><script type=\"math/tex; mode=display\">\\newcommand{\\Bold}[1]{\\mathbf{#1}}\\left(\\begin{array}{rrrrr}\n",
       "1 & 0 & 0 & 0 & 0 \\\\\n",
       "0 & 1 & 0 & 0 & 0 \\\\\n",
       "0 & 0 & 1 & 0 & 0 \\\\\n",
       "0 & 0 & 0 & 1 & 0 \\\\\n",
       "0 & 0 & 0 & 0 & 1\n",
       "\\end{array}\\right)</script></html>"
      ],
      "text/latex": [
       "$$\\newcommand{\\Bold}[1]{\\mathbf{#1}}\\left(\\begin{array}{rrrrr}\n",
       "1 & 0 & 0 & 0 & 0 \\\\\n",
       "0 & 1 & 0 & 0 & 0 \\\\\n",
       "0 & 0 & 1 & 0 & 0 \\\\\n",
       "0 & 0 & 0 & 1 & 0 \\\\\n",
       "0 & 0 & 0 & 0 & 1\n",
       "\\end{array}\\right)$$"
      ],
      "text/plain": [
       "[1 0 0 0 0]\n",
       "[0 1 0 0 0]\n",
       "[0 0 1 0 0]\n",
       "[0 0 0 1 0]\n",
       "[0 0 0 0 1]"
      ]
     },
     "metadata": {},
     "output_type": "display_data"
    }
   ],
   "source": [
    "identitat = identity_matrix(5)\n",
    "show(identitat)"
   ]
  },
  {
   "cell_type": "markdown",
   "metadata": {},
   "source": [
    "## Matriu zero"
   ]
  },
  {
   "cell_type": "code",
   "execution_count": 6,
   "metadata": {},
   "outputs": [
    {
     "data": {
      "text/html": [
       "<html><script type=\"math/tex; mode=display\">\\newcommand{\\Bold}[1]{\\mathbf{#1}}\\left(\\begin{array}{rrrrr}\n",
       "0 & 0 & 0 & 0 & 0 \\\\\n",
       "0 & 0 & 0 & 0 & 0 \\\\\n",
       "0 & 0 & 0 & 0 & 0 \\\\\n",
       "0 & 0 & 0 & 0 & 0\n",
       "\\end{array}\\right)</script></html>"
      ],
      "text/latex": [
       "$$\\newcommand{\\Bold}[1]{\\mathbf{#1}}\\left(\\begin{array}{rrrrr}\n",
       "0 & 0 & 0 & 0 & 0 \\\\\n",
       "0 & 0 & 0 & 0 & 0 \\\\\n",
       "0 & 0 & 0 & 0 & 0 \\\\\n",
       "0 & 0 & 0 & 0 & 0\n",
       "\\end{array}\\right)$$"
      ],
      "text/plain": [
       "[0 0 0 0 0]\n",
       "[0 0 0 0 0]\n",
       "[0 0 0 0 0]\n",
       "[0 0 0 0 0]"
      ]
     },
     "metadata": {},
     "output_type": "display_data"
    }
   ],
   "source": [
    "zeros = zero_matrix(4,5)\n",
    "show(zeros)"
   ]
  },
  {
   "cell_type": "markdown",
   "metadata": {},
   "source": [
    "## Diagonal "
   ]
  },
  {
   "cell_type": "code",
   "execution_count": 7,
   "metadata": {},
   "outputs": [
    {
     "data": {
      "text/html": [
       "<html><script type=\"math/tex; mode=display\">\\newcommand{\\Bold}[1]{\\mathbf{#1}}\\left(\\begin{array}{rrrrrr}\n",
       "7 & 0 & 0 & 0 & 0 & 0 \\\\\n",
       "0 & 2 & 0 & 0 & 0 & 0 \\\\\n",
       "0 & 0 & 0 & 0 & 0 & 0 \\\\\n",
       "0 & 0 & 0 & 4 & 0 & 0 \\\\\n",
       "0 & 0 & 0 & 0 & 5 & 0 \\\\\n",
       "0 & 0 & 0 & 0 & 0 & 6\n",
       "\\end{array}\\right)</script></html>"
      ],
      "text/latex": [
       "$$\\newcommand{\\Bold}[1]{\\mathbf{#1}}\\left(\\begin{array}{rrrrrr}\n",
       "7 & 0 & 0 & 0 & 0 & 0 \\\\\n",
       "0 & 2 & 0 & 0 & 0 & 0 \\\\\n",
       "0 & 0 & 0 & 0 & 0 & 0 \\\\\n",
       "0 & 0 & 0 & 4 & 0 & 0 \\\\\n",
       "0 & 0 & 0 & 0 & 5 & 0 \\\\\n",
       "0 & 0 & 0 & 0 & 0 & 6\n",
       "\\end{array}\\right)$$"
      ],
      "text/plain": [
       "[7 0 0 0 0 0]\n",
       "[0 2 0 0 0 0]\n",
       "[0 0 0 0 0 0]\n",
       "[0 0 0 4 0 0]\n",
       "[0 0 0 0 5 0]\n",
       "[0 0 0 0 0 6]"
      ]
     },
     "metadata": {},
     "output_type": "display_data"
    }
   ],
   "source": [
    "diagonal = diagonal_matrix([7,2,0,4,5,6])\n",
    "show(diagonal)"
   ]
  },
  {
   "cell_type": "markdown",
   "metadata": {},
   "source": [
    "# Vectors"
   ]
  },
  {
   "cell_type": "markdown",
   "metadata": {},
   "source": [
    "## Creació Vectors"
   ]
  },
  {
   "cell_type": "code",
   "execution_count": 8,
   "metadata": {},
   "outputs": [
    {
     "data": {
      "text/html": [
       "<html><script type=\"math/tex; mode=display\">\\newcommand{\\Bold}[1]{\\mathbf{#1}}\\left(11,\\,12,\\,13,\\,14,\\,15,\\,16\\right)</script></html>"
      ],
      "text/latex": [
       "$$\\newcommand{\\Bold}[1]{\\mathbf{#1}}\\left(11,\\,12,\\,13,\\,14,\\,15,\\,16\\right)$$"
      ],
      "text/plain": [
       "(11, 12, 13, 14, 15, 16)"
      ]
     },
     "metadata": {},
     "output_type": "display_data"
    }
   ],
   "source": [
    "v = vector(QQ,[11,12,..16])\n",
    "show(v)"
   ]
  },
  {
   "cell_type": "markdown",
   "metadata": {},
   "source": [
    "## Construcció s.e.v - e.v generat per uns quants vectors"
   ]
  },
  {
   "cell_type": "code",
   "execution_count": 9,
   "metadata": {},
   "outputs": [
    {
     "data": {
      "text/html": [
       "<html><script type=\"math/tex; mode=display\">\\newcommand{\\Bold}[1]{\\mathbf{#1}}\\mathrm{RowSpan}_{\\Bold{Q}}\\left(\\begin{array}{rrr}\n",
       "1 & 0 & \\frac{1}{2} \\\\\n",
       "0 & 1 & \\frac{1}{4}\n",
       "\\end{array}\\right)</script></html>"
      ],
      "text/latex": [
       "$$\\newcommand{\\Bold}[1]{\\mathbf{#1}}\\mathrm{RowSpan}_{\\Bold{Q}}\\left(\\begin{array}{rrr}\n",
       "1 & 0 & \\frac{1}{2} \\\\\n",
       "0 & 1 & \\frac{1}{4}\n",
       "\\end{array}\\right)$$"
      ],
      "text/plain": [
       "Vector space of degree 3 and dimension 2 over Rational Field\n",
       "Basis matrix:\n",
       "[  1   0 1/2]\n",
       "[  0   1 1/4]"
      ]
     },
     "metadata": {},
     "output_type": "display_data"
    },
    {
     "data": {
      "text/html": [
       "<html><script type=\"math/tex; mode=display\">\\newcommand{\\Bold}[1]{\\mathbf{#1}}\\left(\\begin{array}{rrr}\n",
       "1 & 2 & 1 \\\\\n",
       "2 & 0 & 1 \\\\\n",
       "-1 & 2 & 0 \\\\\n",
       "3 & 2 & 2\n",
       "\\end{array}\\right)</script></html>"
      ],
      "text/latex": [
       "$$\\newcommand{\\Bold}[1]{\\mathbf{#1}}\\left(\\begin{array}{rrr}\n",
       "1 & 2 & 1 \\\\\n",
       "2 & 0 & 1 \\\\\n",
       "-1 & 2 & 0 \\\\\n",
       "3 & 2 & 2\n",
       "\\end{array}\\right)$$"
      ],
      "text/plain": [
       "[ 1  2  1]\n",
       "[ 2  0  1]\n",
       "[-1  2  0]\n",
       "[ 3  2  2]"
      ]
     },
     "metadata": {},
     "output_type": "display_data"
    },
    {
     "data": {
      "text/html": [
       "<html><script type=\"math/tex; mode=display\">\\newcommand{\\Bold}[1]{\\mathbf{#1}}\\left(\\begin{array}{rrrrrrr}\n",
       "1 & 0 & \\frac{1}{2} & 0 & 0 & -\\frac{1}{4} & \\frac{1}{4} \\\\\n",
       "0 & 1 & \\frac{1}{4} & 0 & 0 & \\frac{3}{8} & \\frac{1}{8} \\\\\n",
       "0 & 0 & 0 & 1 & 0 & -\\frac{1}{2} & -\\frac{1}{2} \\\\\n",
       "0 & 0 & 0 & 0 & 1 & \\frac{1}{2} & -\\frac{1}{2}\n",
       "\\end{array}\\right)</script></html>"
      ],
      "text/latex": [
       "$$\\newcommand{\\Bold}[1]{\\mathbf{#1}}\\left(\\begin{array}{rrrrrrr}\n",
       "1 & 0 & \\frac{1}{2} & 0 & 0 & -\\frac{1}{4} & \\frac{1}{4} \\\\\n",
       "0 & 1 & \\frac{1}{4} & 0 & 0 & \\frac{3}{8} & \\frac{1}{8} \\\\\n",
       "0 & 0 & 0 & 1 & 0 & -\\frac{1}{2} & -\\frac{1}{2} \\\\\n",
       "0 & 0 & 0 & 0 & 1 & \\frac{1}{2} & -\\frac{1}{2}\n",
       "\\end{array}\\right)$$"
      ],
      "text/plain": [
       "[   1    0  1/2    0    0 -1/4  1/4]\n",
       "[   0    1  1/4    0    0  3/8  1/8]\n",
       "[   0    0    0    1    0 -1/2 -1/2]\n",
       "[   0    0    0    0    1  1/2 -1/2]"
      ]
     },
     "metadata": {},
     "output_type": "display_data"
    }
   ],
   "source": [
    "V=span(QQ,[[1,2,1],[2,0,1],[-1,2,0],[3,2,2]])\n",
    "show(V) # s'eliminen generadors innecessaris - s'ensenya la reducció G-J\n",
    "aux = matrix(QQ,[[1,2,1],[2,0,1],[-1,2,0],[3,2,2]])\n",
    "show(aux)\n",
    "show(aux.extended_echelon_form())"
   ]
  },
  {
   "cell_type": "code",
   "execution_count": 10,
   "metadata": {},
   "outputs": [
    {
     "data": {
      "text/html": [
       "<html><script type=\"math/tex; mode=display\">\\newcommand{\\Bold}[1]{\\mathbf{#1}}\\left(1,\\,2,\\,3\\right)</script></html>"
      ],
      "text/latex": [
       "$$\\newcommand{\\Bold}[1]{\\mathbf{#1}}\\left(1,\\,2,\\,3\\right)$$"
      ],
      "text/plain": [
       "(1, 2, 3)"
      ]
     },
     "metadata": {},
     "output_type": "display_data"
    },
    {
     "data": {
      "text/html": [
       "<html><script type=\"math/tex; mode=display\">\\newcommand{\\Bold}[1]{\\mathbf{#1}}\\left(20,\\,-4,\\,9\\right)</script></html>"
      ],
      "text/latex": [
       "$$\\newcommand{\\Bold}[1]{\\mathbf{#1}}\\left(20,\\,-4,\\,9\\right)$$"
      ],
      "text/plain": [
       "(20, -4, 9)"
      ]
     },
     "metadata": {},
     "output_type": "display_data"
    },
    {
     "data": {
      "text/html": [
       "<html><script type=\"math/tex; mode=display\">\\newcommand{\\Bold}[1]{\\mathbf{#1}}\\left[\\left(1,\\,0,\\,\\frac{1}{2}\\right), \\left(0,\\,1,\\,\\frac{1}{4}\\right)\\right]</script></html>"
      ],
      "text/latex": [
       "$$\\newcommand{\\Bold}[1]{\\mathbf{#1}}\\left[\\left(1,\\,0,\\,\\frac{1}{2}\\right), \\left(0,\\,1,\\,\\frac{1}{4}\\right)\\right]$$"
      ],
      "text/plain": [
       "[\n",
       "(1, 0, 1/2),\n",
       "(0, 1, 1/4)\n",
       "]"
      ]
     },
     "metadata": {},
     "output_type": "display_data"
    },
    {
     "data": {
      "text/html": [
       "<html><script type=\"math/tex; mode=display\">\\newcommand{\\Bold}[1]{\\mathbf{#1}}2</script></html>"
      ],
      "text/latex": [
       "$$\\newcommand{\\Bold}[1]{\\mathbf{#1}}2$$"
      ],
      "text/plain": [
       "2"
      ]
     },
     "metadata": {},
     "output_type": "display_data"
    }
   ],
   "source": [
    "v=vector([1,2,3])\n",
    "show(v)\n",
    "v in V #per saber si v és subespai vectorial de V\n",
    "w=vector([20,-4,9])\n",
    "show(w)\n",
    "w in V\n",
    "w1=V.basis() #base més senzilla (a partir de GJ) -- una família independent de generadors \n",
    "show(w1) \n",
    "show(V.dimension()) #nombre de vectors d'una base"
   ]
  },
  {
   "cell_type": "markdown",
   "metadata": {},
   "source": [
    "# Matriu + Vector"
   ]
  },
  {
   "cell_type": "code",
   "execution_count": 11,
   "metadata": {},
   "outputs": [
    {
     "data": {
      "text/html": [
       "<html><script type=\"math/tex; mode=display\">\\newcommand{\\Bold}[1]{\\mathbf{#1}}\\left(\\begin{array}{rrrrrr|r}\n",
       "7 & 0 & 0 & 0 & 0 & 0 & 11 \\\\\n",
       "0 & 2 & 0 & 0 & 0 & 0 & 12 \\\\\n",
       "0 & 0 & 0 & 0 & 0 & 0 & 13 \\\\\n",
       "0 & 0 & 0 & 4 & 0 & 0 & 14 \\\\\n",
       "0 & 0 & 0 & 0 & 5 & 0 & 15 \\\\\n",
       "0 & 0 & 0 & 0 & 0 & 6 & 16\n",
       "\\end{array}\\right)</script></html>"
      ],
      "text/latex": [
       "$$\\newcommand{\\Bold}[1]{\\mathbf{#1}}\\left(\\begin{array}{rrrrrr|r}\n",
       "7 & 0 & 0 & 0 & 0 & 0 & 11 \\\\\n",
       "0 & 2 & 0 & 0 & 0 & 0 & 12 \\\\\n",
       "0 & 0 & 0 & 0 & 0 & 0 & 13 \\\\\n",
       "0 & 0 & 0 & 4 & 0 & 0 & 14 \\\\\n",
       "0 & 0 & 0 & 0 & 5 & 0 & 15 \\\\\n",
       "0 & 0 & 0 & 0 & 0 & 6 & 16\n",
       "\\end{array}\\right)$$"
      ],
      "text/plain": [
       "[ 7  0  0  0  0  0|11]\n",
       "[ 0  2  0  0  0  0|12]\n",
       "[ 0  0  0  0  0  0|13]\n",
       "[ 0  0  0  4  0  0|14]\n",
       "[ 0  0  0  0  5  0|15]\n",
       "[ 0  0  0  0  0  6|16]"
      ]
     },
     "metadata": {},
     "output_type": "display_data"
    },
    {
     "data": {
      "text/html": [
       "<html><script type=\"math/tex; mode=display\">\\newcommand{\\Bold}[1]{\\mathbf{#1}}\\left(\\begin{array}{rrrrrr|r}\n",
       "7 & 0 & 0 & 0 & 0 & 0 & 11 \\\\\n",
       "0 & 2 & 0 & 0 & 0 & 0 & 12 \\\\\n",
       "0 & 0 & 0 & 4 & 0 & 0 & 1 \\\\\n",
       "0 & 0 & 0 & 0 & 5 & 0 & 2 \\\\\n",
       "0 & 0 & 0 & 0 & 0 & 6 & 3 \\\\\n",
       "0 & 0 & 0 & 0 & 0 & 0 & 13\n",
       "\\end{array}\\right)</script></html>"
      ],
      "text/latex": [
       "$$\\newcommand{\\Bold}[1]{\\mathbf{#1}}\\left(\\begin{array}{rrrrrr|r}\n",
       "7 & 0 & 0 & 0 & 0 & 0 & 11 \\\\\n",
       "0 & 2 & 0 & 0 & 0 & 0 & 12 \\\\\n",
       "0 & 0 & 0 & 4 & 0 & 0 & 1 \\\\\n",
       "0 & 0 & 0 & 0 & 5 & 0 & 2 \\\\\n",
       "0 & 0 & 0 & 0 & 0 & 6 & 3 \\\\\n",
       "0 & 0 & 0 & 0 & 0 & 0 & 13\n",
       "\\end{array}\\right)$$"
      ],
      "text/plain": [
       "[ 7  0  0  0  0  0|11]\n",
       "[ 0  2  0  0  0  0|12]\n",
       "[ 0  0  0  4  0  0| 1]\n",
       "[ 0  0  0  0  5  0| 2]\n",
       "[ 0  0  0  0  0  6| 3]\n",
       "[ 0  0  0  0  0  0|13]"
      ]
     },
     "metadata": {},
     "output_type": "display_data"
    },
    {
     "data": {
      "text/html": [
       "<html><script type=\"math/tex; mode=display\">\\newcommand{\\Bold}[1]{\\mathbf{#1}}\\left(\\begin{array}{rrrrrrrrrrrrr}\n",
       "1 & 0 & 0 & 0 & 0 & 0 & 0 & \\frac{1}{7} & 0 & -\\frac{11}{91} & 0 & 0 & 0 \\\\\n",
       "0 & 1 & 0 & 0 & 0 & 0 & 0 & 0 & \\frac{1}{2} & -\\frac{6}{13} & 0 & 0 & 0 \\\\\n",
       "0 & 0 & 0 & 1 & 0 & 0 & 0 & 0 & 0 & -\\frac{7}{26} & \\frac{1}{4} & 0 & 0 \\\\\n",
       "0 & 0 & 0 & 0 & 1 & 0 & 0 & 0 & 0 & -\\frac{3}{13} & 0 & \\frac{1}{5} & 0 \\\\\n",
       "0 & 0 & 0 & 0 & 0 & 1 & 0 & 0 & 0 & -\\frac{8}{39} & 0 & 0 & \\frac{1}{6} \\\\\n",
       "0 & 0 & 0 & 0 & 0 & 0 & 1 & 0 & 0 & \\frac{1}{13} & 0 & 0 & 0\n",
       "\\end{array}\\right)</script></html>"
      ],
      "text/latex": [
       "$$\\newcommand{\\Bold}[1]{\\mathbf{#1}}\\left(\\begin{array}{rrrrrrrrrrrrr}\n",
       "1 & 0 & 0 & 0 & 0 & 0 & 0 & \\frac{1}{7} & 0 & -\\frac{11}{91} & 0 & 0 & 0 \\\\\n",
       "0 & 1 & 0 & 0 & 0 & 0 & 0 & 0 & \\frac{1}{2} & -\\frac{6}{13} & 0 & 0 & 0 \\\\\n",
       "0 & 0 & 0 & 1 & 0 & 0 & 0 & 0 & 0 & -\\frac{7}{26} & \\frac{1}{4} & 0 & 0 \\\\\n",
       "0 & 0 & 0 & 0 & 1 & 0 & 0 & 0 & 0 & -\\frac{3}{13} & 0 & \\frac{1}{5} & 0 \\\\\n",
       "0 & 0 & 0 & 0 & 0 & 1 & 0 & 0 & 0 & -\\frac{8}{39} & 0 & 0 & \\frac{1}{6} \\\\\n",
       "0 & 0 & 0 & 0 & 0 & 0 & 1 & 0 & 0 & \\frac{1}{13} & 0 & 0 & 0\n",
       "\\end{array}\\right)$$"
      ],
      "text/plain": [
       "[     1      0      0      0      0      0      0    1/7      0 -11/91      0      0      0]\n",
       "[     0      1      0      0      0      0      0      0    1/2  -6/13      0      0      0]\n",
       "[     0      0      0      1      0      0      0      0      0  -7/26    1/4      0      0]\n",
       "[     0      0      0      0      1      0      0      0      0  -3/13      0    1/5      0]\n",
       "[     0      0      0      0      0      1      0      0      0  -8/39      0      0    1/6]\n",
       "[     0      0      0      0      0      0      1      0      0   1/13      0      0      0]"
      ]
     },
     "metadata": {},
     "output_type": "display_data"
    }
   ],
   "source": [
    "v = vector(QQ,[11,12,..16])\n",
    "sistema = diagonal.augment(v,subdivide=True)\n",
    "show(sistema)\n",
    "show(sistema.echelon_form())\n",
    "\n",
    "w = matrix(QQ,6,1,[11,12,..16])\n",
    "dw = block_matrix(1,2,[diagonal, w])\n",
    "show(dw.extended_echelon_form())"
   ]
  },
  {
   "cell_type": "markdown",
   "metadata": {},
   "source": [
    "## Canvi de files"
   ]
  },
  {
   "cell_type": "code",
   "execution_count": 12,
   "metadata": {},
   "outputs": [
    {
     "data": {
      "text/html": [
       "<html><script type=\"math/tex; mode=display\">\\newcommand{\\Bold}[1]{\\mathbf{#1}}\\left(\\begin{array}{rrrrrr|r}\n",
       "7 & 0 & 0 & 0 & 0 & 0 & 11 \\\\\n",
       "0 & 0 & 0 & 0 & 0 & 0 & 13 \\\\\n",
       "0 & 2 & 0 & 0 & 0 & 0 & 12 \\\\\n",
       "0 & 0 & 0 & 4 & 0 & 0 & 14 \\\\\n",
       "0 & 0 & 0 & 0 & 5 & 0 & 15 \\\\\n",
       "0 & 0 & 0 & 0 & 0 & 6 & 16\n",
       "\\end{array}\\right)</script></html>"
      ],
      "text/latex": [
       "$$\\newcommand{\\Bold}[1]{\\mathbf{#1}}\\left(\\begin{array}{rrrrrr|r}\n",
       "7 & 0 & 0 & 0 & 0 & 0 & 11 \\\\\n",
       "0 & 0 & 0 & 0 & 0 & 0 & 13 \\\\\n",
       "0 & 2 & 0 & 0 & 0 & 0 & 12 \\\\\n",
       "0 & 0 & 0 & 4 & 0 & 0 & 14 \\\\\n",
       "0 & 0 & 0 & 0 & 5 & 0 & 15 \\\\\n",
       "0 & 0 & 0 & 0 & 0 & 6 & 16\n",
       "\\end{array}\\right)$$"
      ],
      "text/plain": [
       "[ 7  0  0  0  0  0|11]\n",
       "[ 0  0  0  0  0  0|13]\n",
       "[ 0  2  0  0  0  0|12]\n",
       "[ 0  0  0  4  0  0|14]\n",
       "[ 0  0  0  0  5  0|15]\n",
       "[ 0  0  0  0  0  6|16]"
      ]
     },
     "metadata": {},
     "output_type": "display_data"
    }
   ],
   "source": [
    "sistema.swap_rows(1,2)\n",
    "show(sistema)"
   ]
  },
  {
   "cell_type": "markdown",
   "metadata": {},
   "source": [
    "### A.add_multiple_of_row(i,j,a) = a*(row j) + row i"
   ]
  },
  {
   "cell_type": "code",
   "execution_count": 13,
   "metadata": {},
   "outputs": [
    {
     "data": {
      "text/html": [
       "<html><script type=\"math/tex; mode=display\">\\newcommand{\\Bold}[1]{\\mathbf{#1}}\\left(\\begin{array}{rrrrrr|r}\n",
       "7 & 0 & 0 & 0 & 0 & 0 & 11 \\\\\n",
       "0 & 0 & 0 & 0 & 0 & 0 & 13 \\\\\n",
       "0 & 2 & 0 & 0 & 0 & 0 & 12 \\\\\n",
       "0 & 0 & 0 & 4 & 0 & 0 & 13014 \\\\\n",
       "0 & 0 & 0 & 0 & 5 & 0 & 15 \\\\\n",
       "0 & 0 & 0 & 0 & 0 & 6 & 16\n",
       "\\end{array}\\right)</script></html>"
      ],
      "text/latex": [
       "$$\\newcommand{\\Bold}[1]{\\mathbf{#1}}\\left(\\begin{array}{rrrrrr|r}\n",
       "7 & 0 & 0 & 0 & 0 & 0 & 11 \\\\\n",
       "0 & 0 & 0 & 0 & 0 & 0 & 13 \\\\\n",
       "0 & 2 & 0 & 0 & 0 & 0 & 12 \\\\\n",
       "0 & 0 & 0 & 4 & 0 & 0 & 13014 \\\\\n",
       "0 & 0 & 0 & 0 & 5 & 0 & 15 \\\\\n",
       "0 & 0 & 0 & 0 & 0 & 6 & 16\n",
       "\\end{array}\\right)$$"
      ],
      "text/plain": [
       "[    7     0     0     0     0     0|   11]\n",
       "[    0     0     0     0     0     0|   13]\n",
       "[    0     2     0     0     0     0|   12]\n",
       "[    0     0     0     4     0     0|13014]\n",
       "[    0     0     0     0     5     0|   15]\n",
       "[    0     0     0     0     0     6|   16]"
      ]
     },
     "metadata": {},
     "output_type": "display_data"
    }
   ],
   "source": [
    "sistema.add_multiple_of_row(3,1,1000)\n",
    "show(sistema)"
   ]
  },
  {
   "cell_type": "markdown",
   "metadata": {},
   "source": [
    "## A.rescale_row(i,a) = a*(row i)"
   ]
  },
  {
   "cell_type": "code",
   "execution_count": 14,
   "metadata": {},
   "outputs": [
    {
     "data": {
      "text/html": [
       "<html><script type=\"math/tex; mode=display\">\\newcommand{\\Bold}[1]{\\mathbf{#1}}\\left(\\begin{array}{rrrrrr|r}\n",
       "7 & 0 & 0 & 0 & 0 & 0 & 11 \\\\\n",
       "0 & 0 & 0 & 0 & 0 & 0 & 13 \\\\\n",
       "0 & 2 & 0 & 0 & 0 & 0 & 12 \\\\\n",
       "0 & 0 & 0 & 4 & 0 & 0 & 13014 \\\\\n",
       "0 & 0 & 0 & 0 & 50 & 0 & 150 \\\\\n",
       "0 & 0 & 0 & 0 & 0 & 6 & 16\n",
       "\\end{array}\\right)</script></html>"
      ],
      "text/latex": [
       "$$\\newcommand{\\Bold}[1]{\\mathbf{#1}}\\left(\\begin{array}{rrrrrr|r}\n",
       "7 & 0 & 0 & 0 & 0 & 0 & 11 \\\\\n",
       "0 & 0 & 0 & 0 & 0 & 0 & 13 \\\\\n",
       "0 & 2 & 0 & 0 & 0 & 0 & 12 \\\\\n",
       "0 & 0 & 0 & 4 & 0 & 0 & 13014 \\\\\n",
       "0 & 0 & 0 & 0 & 50 & 0 & 150 \\\\\n",
       "0 & 0 & 0 & 0 & 0 & 6 & 16\n",
       "\\end{array}\\right)$$"
      ],
      "text/plain": [
       "[    7     0     0     0     0     0|   11]\n",
       "[    0     0     0     0     0     0|   13]\n",
       "[    0     2     0     0     0     0|   12]\n",
       "[    0     0     0     4     0     0|13014]\n",
       "[    0     0     0     0    50     0|  150]\n",
       "[    0     0     0     0     0     6|   16]"
      ]
     },
     "metadata": {},
     "output_type": "display_data"
    }
   ],
   "source": [
    "sistema.rescale_row(4,10)\n",
    "show(sistema)"
   ]
  },
  {
   "cell_type": "markdown",
   "metadata": {},
   "source": [
    "# Substitució variable"
   ]
  },
  {
   "cell_type": "code",
   "execution_count": 15,
   "metadata": {},
   "outputs": [
    {
     "data": {
      "text/html": [
       "<html><script type=\"math/tex; mode=display\">\\newcommand{\\Bold}[1]{\\mathbf{#1}}\\left(\\begin{array}{rrrr|r}\n",
       "1 & 0 & 4 & 4 & 1 \\\\\n",
       "1 & 2 & 0 & 3 & 0 \\\\\n",
       "0 & 1 & -2 & -1 & a - 1 \\\\\n",
       "1 & 1 & a & 3 & a\n",
       "\\end{array}\\right)</script></html>"
      ],
      "text/latex": [
       "$$\\newcommand{\\Bold}[1]{\\mathbf{#1}}\\left(\\begin{array}{rrrr|r}\n",
       "1 & 0 & 4 & 4 & 1 \\\\\n",
       "1 & 2 & 0 & 3 & 0 \\\\\n",
       "0 & 1 & -2 & -1 & a - 1 \\\\\n",
       "1 & 1 & a & 3 & a\n",
       "\\end{array}\\right)$$"
      ],
      "text/plain": [
       "[    1     0     4     4|    1]\n",
       "[    1     2     0     3|    0]\n",
       "[    0     1    -2    -1|a - 1]\n",
       "[    1     1     a     3|    a]"
      ]
     },
     "metadata": {},
     "output_type": "display_data"
    },
    {
     "data": {
      "text/html": [
       "<html><script type=\"math/tex; mode=display\">\\newcommand{\\Bold}[1]{\\mathbf{#1}}\\left(\\begin{array}{rrrrr}\n",
       "1 & 0 & 4 & 4 & 1 \\\\\n",
       "1 & 2 & 0 & 3 & 0 \\\\\n",
       "0 & 1 & -2 & -1 & 1 \\\\\n",
       "1 & 1 & 2 & 3 & 2\n",
       "\\end{array}\\right)</script></html>"
      ],
      "text/latex": [
       "$$\\newcommand{\\Bold}[1]{\\mathbf{#1}}\\left(\\begin{array}{rrrrr}\n",
       "1 & 0 & 4 & 4 & 1 \\\\\n",
       "1 & 2 & 0 & 3 & 0 \\\\\n",
       "0 & 1 & -2 & -1 & 1 \\\\\n",
       "1 & 1 & 2 & 3 & 2\n",
       "\\end{array}\\right)$$"
      ],
      "text/plain": [
       "[ 1  0  4  4  1]\n",
       "[ 1  2  0  3  0]\n",
       "[ 0  1 -2 -1  1]\n",
       "[ 1  1  2  3  2]"
      ]
     },
     "metadata": {},
     "output_type": "display_data"
    }
   ],
   "source": [
    "S2 = S.subs(a=2)\n",
    "show(S)\n",
    "show(S2)"
   ]
  },
  {
   "cell_type": "markdown",
   "metadata": {},
   "source": [
    "# Gauss-Jordan"
   ]
  },
  {
   "cell_type": "code",
   "execution_count": 16,
   "metadata": {},
   "outputs": [
    {
     "data": {
      "text/html": [
       "<html><script type=\"math/tex; mode=display\">\\newcommand{\\Bold}[1]{\\mathbf{#1}}\\left(\\begin{array}{rrrrr}\n",
       "1 & 0 & 4 & 0 & 13 \\\\\n",
       "0 & 1 & -2 & 0 & -2 \\\\\n",
       "0 & 0 & 0 & 1 & -3 \\\\\n",
       "0 & 0 & 0 & 0 & 0\n",
       "\\end{array}\\right)</script></html>"
      ],
      "text/latex": [
       "$$\\newcommand{\\Bold}[1]{\\mathbf{#1}}\\left(\\begin{array}{rrrrr}\n",
       "1 & 0 & 4 & 0 & 13 \\\\\n",
       "0 & 1 & -2 & 0 & -2 \\\\\n",
       "0 & 0 & 0 & 1 & -3 \\\\\n",
       "0 & 0 & 0 & 0 & 0\n",
       "\\end{array}\\right)$$"
      ],
      "text/plain": [
       "[ 1  0  4  0 13]\n",
       "[ 0  1 -2  0 -2]\n",
       "[ 0  0  0  1 -3]\n",
       "[ 0  0  0  0  0]"
      ]
     },
     "metadata": {},
     "output_type": "display_data"
    },
    {
     "data": {
      "text/html": [
       "<html><script type=\"math/tex; mode=display\">\\newcommand{\\Bold}[1]{\\mathbf{#1}}\\left(\\begin{array}{rrrrrrrrr}\n",
       "1 & 0 & 4 & 0 & 13 & 0 & -4 & 3 & 5 \\\\\n",
       "0 & 1 & -2 & 0 & -2 & 0 & 1 & 0 & -1 \\\\\n",
       "0 & 0 & 0 & 1 & -3 & 0 & 1 & -1 & -1 \\\\\n",
       "0 & 0 & 0 & 0 & 0 & 1 & 0 & 1 & -1\n",
       "\\end{array}\\right)</script></html>"
      ],
      "text/latex": [
       "$$\\newcommand{\\Bold}[1]{\\mathbf{#1}}\\left(\\begin{array}{rrrrrrrrr}\n",
       "1 & 0 & 4 & 0 & 13 & 0 & -4 & 3 & 5 \\\\\n",
       "0 & 1 & -2 & 0 & -2 & 0 & 1 & 0 & -1 \\\\\n",
       "0 & 0 & 0 & 1 & -3 & 0 & 1 & -1 & -1 \\\\\n",
       "0 & 0 & 0 & 0 & 0 & 1 & 0 & 1 & -1\n",
       "\\end{array}\\right)$$"
      ],
      "text/plain": [
       "[ 1  0  4  0 13  0 -4  3  5]\n",
       "[ 0  1 -2  0 -2  0  1  0 -1]\n",
       "[ 0  0  0  1 -3  0  1 -1 -1]\n",
       "[ 0  0  0  0  0  1  0  1 -1]"
      ]
     },
     "metadata": {},
     "output_type": "display_data"
    },
    {
     "data": {
      "text/html": [
       "<html><script type=\"math/tex; mode=display\">\\newcommand{\\Bold}[1]{\\mathbf{#1}}\\left(\\begin{array}{rrrrr|rrrr}\n",
       "1 & 0 & 4 & 0 & 13 & 0 & -4 & 3 & 5 \\\\\n",
       "0 & 1 & -2 & 0 & -2 & 0 & 1 & 0 & -1 \\\\\n",
       "0 & 0 & 0 & 1 & -3 & 0 & 1 & -1 & -1 \\\\\n",
       "0 & 0 & 0 & 0 & 0 & 1 & 0 & 1 & -1\n",
       "\\end{array}\\right)</script></html>"
      ],
      "text/latex": [
       "$$\\newcommand{\\Bold}[1]{\\mathbf{#1}}\\left(\\begin{array}{rrrrr|rrrr}\n",
       "1 & 0 & 4 & 0 & 13 & 0 & -4 & 3 & 5 \\\\\n",
       "0 & 1 & -2 & 0 & -2 & 0 & 1 & 0 & -1 \\\\\n",
       "0 & 0 & 0 & 1 & -3 & 0 & 1 & -1 & -1 \\\\\n",
       "0 & 0 & 0 & 0 & 0 & 1 & 0 & 1 & -1\n",
       "\\end{array}\\right)$$"
      ],
      "text/plain": [
       "[ 1  0  4  0 13| 0 -4  3  5]\n",
       "[ 0  1 -2  0 -2| 0  1  0 -1]\n",
       "[ 0  0  0  1 -3| 0  1 -1 -1]\n",
       "[ 0  0  0  0  0| 1  0  1 -1]"
      ]
     },
     "metadata": {},
     "output_type": "display_data"
    }
   ],
   "source": [
    "# show(S2.jordan_form(transformation=True)) -- NOMÉS VA B SI MATRIU QUADRADA \n",
    "show(S2.echelon_form()) # Gauss-Jordan\n",
    "show(S2.extended_echelon_form()) # Gauss-Jordan amb matriu informació\n",
    "\n",
    "S2_extended = copy(S2.extended_echelon_form())\n",
    "S2_extended.subdivide([], [5])\n",
    "show(S2_extended)"
   ]
  },
  {
   "cell_type": "markdown",
   "metadata": {},
   "source": [
    "#### Millor manera per veure G-J"
   ]
  },
  {
   "cell_type": "code",
   "execution_count": 17,
   "metadata": {},
   "outputs": [
    {
     "data": {
      "text/html": [
       "<html><script type=\"math/tex; mode=display\">\\newcommand{\\Bold}[1]{\\mathbf{#1}}\\left(\\begin{array}{rrrr|rrrr}\n",
       "1 & 0 & 4 & 4 & 1 & 0 & 0 & 0 \\\\\n",
       "1 & 2 & 0 & 3 & 0 & 1 & 0 & 0 \\\\\n",
       "0 & 1 & -2 & -1 & 0 & 0 & 1 & 0 \\\\\n",
       "1 & 1 & a & 3 & 0 & 0 & 0 & 1\n",
       "\\end{array}\\right)</script></html>"
      ],
      "text/latex": [
       "$$\\newcommand{\\Bold}[1]{\\mathbf{#1}}\\left(\\begin{array}{rrrr|rrrr}\n",
       "1 & 0 & 4 & 4 & 1 & 0 & 0 & 0 \\\\\n",
       "1 & 2 & 0 & 3 & 0 & 1 & 0 & 0 \\\\\n",
       "0 & 1 & -2 & -1 & 0 & 0 & 1 & 0 \\\\\n",
       "1 & 1 & a & 3 & 0 & 0 & 0 & 1\n",
       "\\end{array}\\right)$$"
      ],
      "text/plain": [
       "[ 1  0  4  4| 1  0  0  0]\n",
       "[ 1  2  0  3| 0  1  0  0]\n",
       "[ 0  1 -2 -1| 0  0  1  0]\n",
       "[ 1  1  a  3| 0  0  0  1]"
      ]
     },
     "metadata": {},
     "output_type": "display_data"
    },
    {
     "data": {
      "text/html": [
       "<html><script type=\"math/tex; mode=display\">\\newcommand{\\Bold}[1]{\\mathbf{#1}}\\left(\\begin{array}{rrrrrrrr}\n",
       "1 & 0 & 0 & 0 & \\frac{4}{a - 2} + 5 & -4 & \\frac{4}{a - 2} + 8 & -\\frac{4}{a - 2} \\\\\n",
       "0 & 1 & 0 & 0 & -\\frac{2}{a - 2} - 1 & 1 & -\\frac{2}{a - 2} - 1 & \\frac{2}{a - 2} \\\\\n",
       "0 & 0 & 1 & 0 & -\\frac{1}{a - 2} & 0 & -\\frac{1}{a - 2} & \\frac{1}{a - 2} \\\\\n",
       "0 & 0 & 0 & 1 & -1 & 1 & -2 & 0\n",
       "\\end{array}\\right)</script></html>"
      ],
      "text/latex": [
       "$$\\newcommand{\\Bold}[1]{\\mathbf{#1}}\\left(\\begin{array}{rrrrrrrr}\n",
       "1 & 0 & 0 & 0 & \\frac{4}{a - 2} + 5 & -4 & \\frac{4}{a - 2} + 8 & -\\frac{4}{a - 2} \\\\\n",
       "0 & 1 & 0 & 0 & -\\frac{2}{a - 2} - 1 & 1 & -\\frac{2}{a - 2} - 1 & \\frac{2}{a - 2} \\\\\n",
       "0 & 0 & 1 & 0 & -\\frac{1}{a - 2} & 0 & -\\frac{1}{a - 2} & \\frac{1}{a - 2} \\\\\n",
       "0 & 0 & 0 & 1 & -1 & 1 & -2 & 0\n",
       "\\end{array}\\right)$$"
      ],
      "text/plain": [
       "[             1              0              0              0  4/(a - 2) + 5             -4  4/(a - 2) + 8     -4/(a - 2)]\n",
       "[             0              1              0              0 -2/(a - 2) - 1              1 -2/(a - 2) - 1      2/(a - 2)]\n",
       "[             0              0              1              0     -1/(a - 2)              0     -1/(a - 2)      1/(a - 2)]\n",
       "[             0              0              0              1             -1              1             -2              0]"
      ]
     },
     "metadata": {},
     "output_type": "display_data"
    },
    {
     "data": {
      "text/html": [
       "<html><script type=\"math/tex; mode=display\">\\newcommand{\\Bold}[1]{\\mathbf{#1}}\\left(\\begin{array}{rrrr|rrrr}\n",
       "1 & 0 & 0 & 0 & \\frac{4}{a - 2} + 5 & -4 & \\frac{4}{a - 2} + 8 & -\\frac{4}{a - 2} \\\\\n",
       "0 & 1 & 0 & 0 & -\\frac{2}{a - 2} - 1 & 1 & -\\frac{2}{a - 2} - 1 & \\frac{2}{a - 2} \\\\\n",
       "0 & 0 & 1 & 0 & -\\frac{1}{a - 2} & 0 & -\\frac{1}{a - 2} & \\frac{1}{a - 2} \\\\\n",
       "0 & 0 & 0 & 1 & -1 & 1 & -2 & 0\n",
       "\\end{array}\\right)</script></html>"
      ],
      "text/latex": [
       "$$\\newcommand{\\Bold}[1]{\\mathbf{#1}}\\left(\\begin{array}{rrrr|rrrr}\n",
       "1 & 0 & 0 & 0 & \\frac{4}{a - 2} + 5 & -4 & \\frac{4}{a - 2} + 8 & -\\frac{4}{a - 2} \\\\\n",
       "0 & 1 & 0 & 0 & -\\frac{2}{a - 2} - 1 & 1 & -\\frac{2}{a - 2} - 1 & \\frac{2}{a - 2} \\\\\n",
       "0 & 0 & 1 & 0 & -\\frac{1}{a - 2} & 0 & -\\frac{1}{a - 2} & \\frac{1}{a - 2} \\\\\n",
       "0 & 0 & 0 & 1 & -1 & 1 & -2 & 0\n",
       "\\end{array}\\right)$$"
      ],
      "text/plain": [
       "[             1              0              0              0| 4/(a - 2) + 5             -4  4/(a - 2) + 8     -4/(a - 2)]\n",
       "[             0              1              0              0|-2/(a - 2) - 1              1 -2/(a - 2) - 1      2/(a - 2)]\n",
       "[             0              0              1              0|    -1/(a - 2)              0     -1/(a - 2)      1/(a - 2)]\n",
       "[             0              0              0              1|            -1              1             -2              0]"
      ]
     },
     "metadata": {},
     "output_type": "display_data"
    }
   ],
   "source": [
    "var('a')\n",
    "C=matrix(4,4,[1,0,4,4,\n",
    "             1,2,0,3,\n",
    "             0,1,-2,-1,\n",
    "              1,1,a,3])\n",
    "I = identity_matrix(4)\n",
    "S=block_matrix(1,2,[C,I])\n",
    "show(S)\n",
    "show(C.extended_echelon_form())\n",
    "show(S.echelon_form())"
   ]
  },
  {
   "cell_type": "markdown",
   "metadata": {},
   "source": [
    "#### Per quedar-nos la matriu informació"
   ]
  },
  {
   "cell_type": "code",
   "execution_count": 18,
   "metadata": {
    "scrolled": true
   },
   "outputs": [
    {
     "data": {
      "text/html": [
       "<html><script type=\"math/tex; mode=display\">\\newcommand{\\Bold}[1]{\\mathbf{#1}}\\left(\\begin{array}{rrrr}\n",
       "0 & -4 & 3 & 5 \\\\\n",
       "0 & 1 & 0 & -1 \\\\\n",
       "0 & 1 & -1 & -1 \\\\\n",
       "1 & 0 & 1 & -1\n",
       "\\end{array}\\right)</script></html>"
      ],
      "text/latex": [
       "$$\\newcommand{\\Bold}[1]{\\mathbf{#1}}\\left(\\begin{array}{rrrr}\n",
       "0 & -4 & 3 & 5 \\\\\n",
       "0 & 1 & 0 & -1 \\\\\n",
       "0 & 1 & -1 & -1 \\\\\n",
       "1 & 0 & 1 & -1\n",
       "\\end{array}\\right)$$"
      ],
      "text/plain": [
       "[ 0 -4  3  5]\n",
       "[ 0  1  0 -1]\n",
       "[ 0  1 -1 -1]\n",
       "[ 1  0  1 -1]"
      ]
     },
     "metadata": {},
     "output_type": "display_data"
    }
   ],
   "source": [
    "P=S2.extended_echelon_form().matrix_from_columns([5..8])\n",
    "show(P)"
   ]
  },
  {
   "cell_type": "markdown",
   "metadata": {},
   "source": [
    "# Pseudoinversa / Inversa generalitzada"
   ]
  },
  {
   "cell_type": "code",
   "execution_count": 33,
   "metadata": {},
   "outputs": [
    {
     "data": {
      "text/html": [
       "<html><script type=\"math/tex; mode=display\">\\newcommand{\\Bold}[1]{\\mathbf{#1}}\\left(\\begin{array}{rrrrr}\n",
       "1 & 0 & -1 & 0 & 1 \\\\\n",
       "0 & 1 & 0 & 0 & 0 \\\\\n",
       "0 & -1 & 0 & 1 & 0 \\\\\n",
       "0 & 0 & -1 & 0 & -1 \\\\\n",
       "0 & 1 & 0 & -1 & 0\n",
       "\\end{array}\\right)</script></html>"
      ],
      "text/latex": [
       "$$\\newcommand{\\Bold}[1]{\\mathbf{#1}}\\left(\\begin{array}{rrrrr}\n",
       "1 & 0 & -1 & 0 & 1 \\\\\n",
       "0 & 1 & 0 & 0 & 0 \\\\\n",
       "0 & -1 & 0 & 1 & 0 \\\\\n",
       "0 & 0 & -1 & 0 & -1 \\\\\n",
       "0 & 1 & 0 & -1 & 0\n",
       "\\end{array}\\right)$$"
      ],
      "text/plain": [
       "[ 1  0 -1  0  1]\n",
       "[ 0  1  0  0  0]\n",
       "[ 0 -1  0  1  0]\n",
       "[ 0  0 -1  0 -1]\n",
       "[ 0  1  0 -1  0]"
      ]
     },
     "metadata": {},
     "output_type": "display_data"
    }
   ],
   "source": [
    "A = Matrix(ZZ,5,5,[1,0,-1,0,1,0,1,0,0,0,0,-1,0,1,0,0,0,-1,0,-1,0,1,0,-1,0])\n",
    "show(A)"
   ]
  },
  {
   "cell_type": "code",
   "execution_count": 20,
   "metadata": {},
   "outputs": [
    {
     "data": {
      "text/html": [
       "<html><script type=\"math/tex; mode=display\">\\newcommand{\\Bold}[1]{\\mathbf{#1}}\\left(\\begin{array}{rrrrr}\n",
       "\\frac{1}{3} & 0 & 0 & 0 & 0 \\\\\n",
       "0 & 1 & 0 & 0 & 0 \\\\\n",
       "-\\frac{1}{3} & 0 & 0 & -\\frac{1}{2} & 0 \\\\\n",
       "0 & 1 & \\frac{1}{2} & 0 & -\\frac{1}{2} \\\\\n",
       "\\frac{1}{3} & 0 & 0 & -\\frac{1}{2} & 0\n",
       "\\end{array}\\right)</script></html>"
      ],
      "text/latex": [
       "$$\\newcommand{\\Bold}[1]{\\mathbf{#1}}\\left(\\begin{array}{rrrrr}\n",
       "\\frac{1}{3} & 0 & 0 & 0 & 0 \\\\\n",
       "0 & 1 & 0 & 0 & 0 \\\\\n",
       "-\\frac{1}{3} & 0 & 0 & -\\frac{1}{2} & 0 \\\\\n",
       "0 & 1 & \\frac{1}{2} & 0 & -\\frac{1}{2} \\\\\n",
       "\\frac{1}{3} & 0 & 0 & -\\frac{1}{2} & 0\n",
       "\\end{array}\\right)$$"
      ],
      "text/plain": [
       "[ 1/3    0    0    0    0]\n",
       "[   0    1    0    0    0]\n",
       "[-1/3    0    0 -1/2    0]\n",
       "[   0    1  1/2    0 -1/2]\n",
       "[ 1/3    0    0 -1/2    0]"
      ]
     },
     "metadata": {},
     "output_type": "display_data"
    },
    {
     "data": {
      "text/html": [
       "<html><script type=\"math/tex; mode=display\">\\newcommand{\\Bold}[1]{\\mathbf{#1}}\\left(\\begin{array}{rrrrr}\n",
       "1 & 0 & -1 & 0 & 1 \\\\\n",
       "0 & 1 & 0 & 0 & 0 \\\\\n",
       "0 & -1 & 0 & 1 & 0 \\\\\n",
       "0 & 0 & -1 & 0 & -1 \\\\\n",
       "0 & 1 & 0 & -1 & 0\n",
       "\\end{array}\\right)</script></html>"
      ],
      "text/latex": [
       "$$\\newcommand{\\Bold}[1]{\\mathbf{#1}}\\left(\\begin{array}{rrrrr}\n",
       "1 & 0 & -1 & 0 & 1 \\\\\n",
       "0 & 1 & 0 & 0 & 0 \\\\\n",
       "0 & -1 & 0 & 1 & 0 \\\\\n",
       "0 & 0 & -1 & 0 & -1 \\\\\n",
       "0 & 1 & 0 & -1 & 0\n",
       "\\end{array}\\right)$$"
      ],
      "text/plain": [
       "[ 1  0 -1  0  1]\n",
       "[ 0  1  0  0  0]\n",
       "[ 0 -1  0  1  0]\n",
       "[ 0  0 -1  0 -1]\n",
       "[ 0  1  0 -1  0]"
      ]
     },
     "metadata": {},
     "output_type": "display_data"
    },
    {
     "data": {
      "text/html": [
       "<html><script type=\"math/tex; mode=display\">\\newcommand{\\Bold}[1]{\\mathbf{#1}}\\left(\\begin{array}{rrrrr}\n",
       "1 & 0 & -1 & 0 & 1 \\\\\n",
       "0 & 1 & 0 & 0 & 0 \\\\\n",
       "0 & -1 & 0 & 1 & 0 \\\\\n",
       "0 & 0 & -1 & 0 & -1 \\\\\n",
       "0 & 1 & 0 & -1 & 0\n",
       "\\end{array}\\right)</script></html>"
      ],
      "text/latex": [
       "$$\\newcommand{\\Bold}[1]{\\mathbf{#1}}\\left(\\begin{array}{rrrrr}\n",
       "1 & 0 & -1 & 0 & 1 \\\\\n",
       "0 & 1 & 0 & 0 & 0 \\\\\n",
       "0 & -1 & 0 & 1 & 0 \\\\\n",
       "0 & 0 & -1 & 0 & -1 \\\\\n",
       "0 & 1 & 0 & -1 & 0\n",
       "\\end{array}\\right)$$"
      ],
      "text/plain": [
       "[ 1  0 -1  0  1]\n",
       "[ 0  1  0  0  0]\n",
       "[ 0 -1  0  1  0]\n",
       "[ 0  0 -1  0 -1]\n",
       "[ 0  1  0 -1  0]"
      ]
     },
     "metadata": {},
     "output_type": "display_data"
    }
   ],
   "source": [
    "# S'ha de complir AGA = A\n",
    "\n",
    "G = A.pseudoinverse() # sempre existeix un G inversa generalitzada\n",
    "show(G)\n",
    "show(A*G*A)\n",
    "show(A)"
   ]
  },
  {
   "cell_type": "markdown",
   "metadata": {},
   "source": [
    "### PAQ reducció"
   ]
  },
  {
   "cell_type": "code",
   "execution_count": 34,
   "metadata": {},
   "outputs": [
    {
     "data": {
      "text/html": [
       "<html><script type=\"math/tex; mode=display\">\\newcommand{\\Bold}[1]{\\mathbf{#1}}\\left(\\begin{array}{rr|rrr}\n",
       "1 & 1 & 0 & 0 & 0 \\\\\n",
       "0 & 1 & 0 & 0 & 0 \\\\\n",
       "\\hline\n",
       " 0 & 0 & 0 & 1 & 0 \\\\\n",
       "0 & 0 & 0 & 0 & 1 \\\\\n",
       "0 & 0 & 0 & 0 & 0\n",
       "\\end{array}\\right)</script></html>"
      ],
      "text/latex": [
       "$$\\newcommand{\\Bold}[1]{\\mathbf{#1}}\\left(\\begin{array}{rr|rrr}\n",
       "1 & 1 & 0 & 0 & 0 \\\\\n",
       "0 & 1 & 0 & 0 & 0 \\\\\n",
       "\\hline\n",
       " 0 & 0 & 0 & 1 & 0 \\\\\n",
       "0 & 0 & 0 & 0 & 1 \\\\\n",
       "0 & 0 & 0 & 0 & 0\n",
       "\\end{array}\\right)$$"
      ],
      "text/plain": [
       "[1 1|0 0 0]\n",
       "[0 1|0 0 0]\n",
       "[---+-----]\n",
       "[0 0|0 1 0]\n",
       "[0 0|0 0 1]\n",
       "[0 0|0 0 0]"
      ]
     },
     "metadata": {},
     "output_type": "display_data"
    },
    {
     "data": {
      "text/html": [
       "<html><script type=\"math/tex; mode=display\">\\newcommand{\\Bold}[1]{\\mathbf{#1}}\\left(\\begin{array}{rrrrr}\n",
       "1 & 0 & 0 & 0 & 2 \\\\\n",
       "0 & 1 & 0 & 0 & 0 \\\\\n",
       "0 & 0 & 1 & 0 & 1 \\\\\n",
       "0 & 0 & 0 & 1 & 0 \\\\\n",
       "0 & 0 & 0 & 0 & 0\n",
       "\\end{array}\\right)</script></html>"
      ],
      "text/latex": [
       "$$\\newcommand{\\Bold}[1]{\\mathbf{#1}}\\left(\\begin{array}{rrrrr}\n",
       "1 & 0 & 0 & 0 & 2 \\\\\n",
       "0 & 1 & 0 & 0 & 0 \\\\\n",
       "0 & 0 & 1 & 0 & 1 \\\\\n",
       "0 & 0 & 0 & 1 & 0 \\\\\n",
       "0 & 0 & 0 & 0 & 0\n",
       "\\end{array}\\right)$$"
      ],
      "text/plain": [
       "[1 0 0 0 2]\n",
       "[0 1 0 0 0]\n",
       "[0 0 1 0 1]\n",
       "[0 0 0 1 0]\n",
       "[0 0 0 0 0]"
      ]
     },
     "metadata": {},
     "output_type": "display_data"
    },
    {
     "data": {
      "text/html": [
       "<html><script type=\"math/tex; mode=display\">\\newcommand{\\Bold}[1]{\\mathbf{#1}}\\left(\\begin{array}{rr|rrr}\n",
       "1 & 1 & 0 & 0 & 0 \\\\\n",
       "0 & 1 & 0 & 0 & 0 \\\\\n",
       "\\hline\n",
       " 0 & 0 & 0 & 1 & 0 \\\\\n",
       "0 & 0 & 0 & 0 & 1 \\\\\n",
       "0 & 0 & 0 & 0 & 0\n",
       "\\end{array}\\right)</script></html>"
      ],
      "text/latex": [
       "$$\\newcommand{\\Bold}[1]{\\mathbf{#1}}\\left(\\begin{array}{rr|rrr}\n",
       "1 & 1 & 0 & 0 & 0 \\\\\n",
       "0 & 1 & 0 & 0 & 0 \\\\\n",
       "\\hline\n",
       " 0 & 0 & 0 & 1 & 0 \\\\\n",
       "0 & 0 & 0 & 0 & 1 \\\\\n",
       "0 & 0 & 0 & 0 & 0\n",
       "\\end{array}\\right)$$"
      ],
      "text/plain": [
       "[1 1|0 0 0]\n",
       "[0 1|0 0 0]\n",
       "[---+-----]\n",
       "[0 0|0 1 0]\n",
       "[0 0|0 0 1]\n",
       "[0 0|0 0 0]"
      ]
     },
     "metadata": {},
     "output_type": "display_data"
    }
   ],
   "source": [
    "\"\"\"\n",
    "RECORDATORI PAQ-reducció\n",
    "\n",
    "1r// (A|I filesA) ~ (GJ A|P)\n",
    "2n// ((GJ A)**t|I columnA) ~((PAQ)**t|Q**t)\n",
    "\n",
    "\n",
    "Com trobar PAQ reducció amb Sage i una P i una Q?\n",
    "\n",
    "A és 5x5\n",
    "\"\"\"\n",
    "GJ_ns = A.jordan_form() # no dona GJ de A\n",
    "show(GJ_ns)\n",
    "GJ = A.echelon_form()\n",
    "show(GJ)\n",
    "show(GJ_ns)\n",
    "GJtransp = GJ.transpose()\n",
    "trPAQ = GJtransp.extended_echelon_form()\n",
    "trQ = trPAQ.matrix_from_columns([0..4])\n",
    "PAQ = trPAQ.transpose() # és una matriu amb la matriu identitat amb mida rang matriu i la resta 0\n",
    "Q = trQ.transpose()\n",
    "\n",
    "# G = Q*trPAQ*P"
   ]
  },
  {
   "cell_type": "code",
   "execution_count": 22,
   "metadata": {},
   "outputs": [
    {
     "data": {
      "text/html": [
       "<html><script type=\"math/tex; mode=display\">\\newcommand{\\Bold}[1]{\\mathbf{#1}}\\left[1, 1, 0, 0, 0\\right]</script></html>"
      ],
      "text/latex": [
       "$$\\newcommand{\\Bold}[1]{\\mathbf{#1}}\\left[1, 1, 0, 0, 0\\right]$$"
      ],
      "text/plain": [
       "[1, 1, 0, 0, 0]"
      ]
     },
     "metadata": {},
     "output_type": "display_data"
    }
   ],
   "source": [
    "show(A.diagonal())"
   ]
  },
  {
   "cell_type": "markdown",
   "metadata": {},
   "source": [
    "# Resolució de sistemes"
   ]
  },
  {
   "cell_type": "code",
   "execution_count": 23,
   "metadata": {},
   "outputs": [
    {
     "data": {
      "text/html": [
       "<html><script type=\"math/tex; mode=display\">\\newcommand{\\Bold}[1]{\\mathbf{#1}}\\left(\\begin{array}{r}\n",
       "0 \\\\\n",
       "0 \\\\\n",
       "0\n",
       "\\end{array}\\right)</script></html>"
      ],
      "text/latex": [
       "$$\\newcommand{\\Bold}[1]{\\mathbf{#1}}\\left(\\begin{array}{r}\n",
       "0 \\\\\n",
       "0 \\\\\n",
       "0\n",
       "\\end{array}\\right)$$"
      ],
      "text/plain": [
       "[0]\n",
       "[0]\n",
       "[0]"
      ]
     },
     "metadata": {},
     "output_type": "display_data"
    },
    {
     "data": {
      "text/html": [
       "<html><script type=\"math/tex; mode=display\">\\newcommand{\\Bold}[1]{\\mathbf{#1}}\\left(\\begin{array}{rrr}\n",
       "1 & 4 & 1 \\\\\n",
       "4 & 13 & 7 \\\\\n",
       "7 & 22 & 13\n",
       "\\end{array}\\right)</script></html>"
      ],
      "text/latex": [
       "$$\\newcommand{\\Bold}[1]{\\mathbf{#1}}\\left(\\begin{array}{rrr}\n",
       "1 & 4 & 1 \\\\\n",
       "4 & 13 & 7 \\\\\n",
       "7 & 22 & 13\n",
       "\\end{array}\\right)$$"
      ],
      "text/plain": [
       "[ 1  4  1]\n",
       "[ 4 13  7]\n",
       "[ 7 22 13]"
      ]
     },
     "metadata": {},
     "output_type": "display_data"
    },
    {
     "data": {
      "text/html": [
       "<html><script type=\"math/tex; mode=display\">\\newcommand{\\Bold}[1]{\\mathbf{#1}}\\left(\\begin{array}{r}\n",
       "0 \\\\\n",
       "0 \\\\\n",
       "0\n",
       "\\end{array}\\right)</script></html>"
      ],
      "text/latex": [
       "$$\\newcommand{\\Bold}[1]{\\mathbf{#1}}\\left(\\begin{array}{r}\n",
       "0 \\\\\n",
       "0 \\\\\n",
       "0\n",
       "\\end{array}\\right)$$"
      ],
      "text/plain": [
       "[0]\n",
       "[0]\n",
       "[0]"
      ]
     },
     "metadata": {},
     "output_type": "display_data"
    },
    {
     "data": {
      "text/html": [
       "<html><script type=\"math/tex; mode=display\">\\newcommand{\\Bold}[1]{\\mathbf{#1}}\\mathrm{RowSpan}_{\\Bold{Z}}\\left(\\begin{array}{rrr}\n",
       "1 & 1 & 1 \\\\\n",
       "0 & 3 & 6\n",
       "\\end{array}\\right)</script></html>"
      ],
      "text/latex": [
       "$$\\newcommand{\\Bold}[1]{\\mathbf{#1}}\\mathrm{RowSpan}_{\\Bold{Z}}\\left(\\begin{array}{rrr}\n",
       "1 & 1 & 1 \\\\\n",
       "0 & 3 & 6\n",
       "\\end{array}\\right)$$"
      ],
      "text/plain": [
       "Free module of degree 3 and rank 2 over Integer Ring\n",
       "Echelon basis matrix:\n",
       "[1 1 1]\n",
       "[0 3 6]"
      ]
     },
     "metadata": {},
     "output_type": "display_data"
    },
    {
     "name": "stdout",
     "output_type": "stream",
     "text": [
      "Gauss-Jordan\n"
     ]
    },
    {
     "data": {
      "text/html": [
       "<html><script type=\"math/tex; mode=display\">\\newcommand{\\Bold}[1]{\\mathbf{#1}}\\left(\\begin{array}{rrr}\n",
       "1 & 1 & 4 \\\\\n",
       "0 & 3 & -3 \\\\\n",
       "0 & 0 & 0\n",
       "\\end{array}\\right)</script></html>"
      ],
      "text/latex": [
       "$$\\newcommand{\\Bold}[1]{\\mathbf{#1}}\\left(\\begin{array}{rrr}\n",
       "1 & 1 & 4 \\\\\n",
       "0 & 3 & -3 \\\\\n",
       "0 & 0 & 0\n",
       "\\end{array}\\right)$$"
      ],
      "text/plain": [
       "[ 1  1  4]\n",
       "[ 0  3 -3]\n",
       "[ 0  0  0]"
      ]
     },
     "metadata": {},
     "output_type": "display_data"
    }
   ],
   "source": [
    "C = Matrix(ZZ, [[1, 4, 1],[4, 13, 7],[7, 22, 13]])\n",
    "b = Matrix(ZZ, 3, 1, [0, 0, 0])\n",
    "show(b)\n",
    "show(C)\n",
    "show(C.solve_right(b))\n",
    "show(C.column_space()) # rang de columnes\n",
    "print(\"Gauss-Jordan\") \n",
    "show(C.echelon_form())"
   ]
  },
  {
   "cell_type": "markdown",
   "metadata": {},
   "source": [
    "## Solucions d'un sist. d'eq homogeni"
   ]
  },
  {
   "cell_type": "code",
   "execution_count": 24,
   "metadata": {},
   "outputs": [
    {
     "data": {
      "text/html": [
       "<html><script type=\"math/tex; mode=display\">\\newcommand{\\Bold}[1]{\\mathbf{#1}}\\left[t + x - y = 0, t + x + y + z = 0\\right]</script></html>"
      ],
      "text/latex": [
       "$$\\newcommand{\\Bold}[1]{\\mathbf{#1}}\\left[t + x - y = 0, t + x + y + z = 0\\right]$$"
      ],
      "text/plain": [
       "[t + x - y == 0, t + x + y + z == 0]"
      ]
     },
     "metadata": {},
     "output_type": "display_data"
    },
    {
     "data": {
      "text/html": [
       "<html><script type=\"math/tex; mode=display\">\\newcommand{\\Bold}[1]{\\mathbf{#1}}\\left[\\left[1, -1, 0, 1\\right], \\left[1, 1, 1, 1\\right]\\right]</script></html>"
      ],
      "text/latex": [
       "$$\\newcommand{\\Bold}[1]{\\mathbf{#1}}\\left[\\left[1, -1, 0, 1\\right], \\left[1, 1, 1, 1\\right]\\right]$$"
      ],
      "text/plain": [
       "[[1, -1, 0, 1], [1, 1, 1, 1]]"
      ]
     },
     "metadata": {},
     "output_type": "display_data"
    },
    {
     "data": {
      "text/html": [
       "<html><script type=\"math/tex; mode=display\">\\newcommand{\\Bold}[1]{\\mathbf{#1}}\\left(\\begin{array}{rrrr}\n",
       "1 & -1 & 0 & 1 \\\\\n",
       "1 & 1 & 1 & 1\n",
       "\\end{array}\\right)</script></html>"
      ],
      "text/latex": [
       "$$\\newcommand{\\Bold}[1]{\\mathbf{#1}}\\left(\\begin{array}{rrrr}\n",
       "1 & -1 & 0 & 1 \\\\\n",
       "1 & 1 & 1 & 1\n",
       "\\end{array}\\right)$$"
      ],
      "text/plain": [
       "[ 1 -1  0  1]\n",
       "[ 1  1  1  1]"
      ]
     },
     "metadata": {},
     "output_type": "display_data"
    }
   ],
   "source": [
    "var('y z t')\n",
    "equacions=[\n",
    "    x-y+t==0,\n",
    "    x+y+z+t==0\n",
    "]\n",
    "show(equacions)\n",
    "coeficients=[\n",
    "    [\n",
    "        eq.lhs().coefficient(v)\n",
    "        for v in [x,y,z,t]\n",
    "    ]\n",
    "    for eq in equacions\n",
    "]\n",
    "show(coeficients)\n",
    "A=matrix(QQ,coeficients)\n",
    "show(A)"
   ]
  },
  {
   "cell_type": "code",
   "execution_count": 25,
   "metadata": {},
   "outputs": [
    {
     "data": {
      "text/html": [
       "<html><script type=\"math/tex; mode=display\">\\newcommand{\\Bold}[1]{\\mathbf{#1}}\\mathrm{RowSpan}_{\\Bold{Q}}\\left(\\begin{array}{rrrr}\n",
       "1 & 0 & 0 & -1 \\\\\n",
       "0 & 1 & -2 & 1\n",
       "\\end{array}\\right)</script></html>"
      ],
      "text/latex": [
       "$$\\newcommand{\\Bold}[1]{\\mathbf{#1}}\\mathrm{RowSpan}_{\\Bold{Q}}\\left(\\begin{array}{rrrr}\n",
       "1 & 0 & 0 & -1 \\\\\n",
       "0 & 1 & -2 & 1\n",
       "\\end{array}\\right)$$"
      ],
      "text/plain": [
       "Vector space of degree 4 and dimension 2 over Rational Field\n",
       "Basis matrix:\n",
       "[ 1  0  0 -1]\n",
       "[ 0  1 -2  1]"
      ]
     },
     "metadata": {},
     "output_type": "display_data"
    }
   ],
   "source": [
    "W=A.right_kernel() #és un e.v\n",
    "show(W) #ens passa la solució del sist. fins arribar a GJ"
   ]
  },
  {
   "cell_type": "markdown",
   "metadata": {},
   "source": [
    "## Sumes i interseccions de subespais vectorials"
   ]
  },
  {
   "cell_type": "code",
   "execution_count": 26,
   "metadata": {},
   "outputs": [
    {
     "data": {
      "text/html": [
       "<html><script type=\"math/tex; mode=display\">\\newcommand{\\Bold}[1]{\\mathbf{#1}}\\mathrm{RowSpan}_{\\Bold{Q}}\\left(\\begin{array}{rrr}\n",
       "1 & 0 & -\\frac{1}{2} \\\\\n",
       "0 & 1 & -\\frac{1}{2}\n",
       "\\end{array}\\right)</script></html>"
      ],
      "text/latex": [
       "$$\\newcommand{\\Bold}[1]{\\mathbf{#1}}\\mathrm{RowSpan}_{\\Bold{Q}}\\left(\\begin{array}{rrr}\n",
       "1 & 0 & -\\frac{1}{2} \\\\\n",
       "0 & 1 & -\\frac{1}{2}\n",
       "\\end{array}\\right)$$"
      ],
      "text/plain": [
       "Vector space of degree 3 and dimension 2 over Rational Field\n",
       "Basis matrix:\n",
       "[   1    0 -1/2]\n",
       "[   0    1 -1/2]"
      ]
     },
     "metadata": {},
     "output_type": "display_data"
    },
    {
     "data": {
      "text/html": [
       "<html><script type=\"math/tex; mode=display\">\\newcommand{\\Bold}[1]{\\mathbf{#1}}\\mathrm{RowSpan}_{\\Bold{Q}}\\left(\\begin{array}{rrr}\n",
       "1 & 0 & -1 \\\\\n",
       "0 & 1 & \\frac{2}{3}\n",
       "\\end{array}\\right)</script></html>"
      ],
      "text/latex": [
       "$$\\newcommand{\\Bold}[1]{\\mathbf{#1}}\\mathrm{RowSpan}_{\\Bold{Q}}\\left(\\begin{array}{rrr}\n",
       "1 & 0 & -1 \\\\\n",
       "0 & 1 & \\frac{2}{3}\n",
       "\\end{array}\\right)$$"
      ],
      "text/plain": [
       "Vector space of degree 3 and dimension 2 over Rational Field\n",
       "Basis matrix:\n",
       "[  1   0  -1]\n",
       "[  0   1 2/3]"
      ]
     },
     "metadata": {},
     "output_type": "display_data"
    }
   ],
   "source": [
    "v1=vector(QQ,[1,1,-1]) # si afegim un núm a v1 i a v2, a la comanda S=F+G ens dona error\n",
    "v2=vector(QQ,[2,0,-1]) # si traiem les QQ tmb error\n",
    "w1=vector(QQ,[1,0,-1])\n",
    "w2=vector(QQ,[2,3,0])\n",
    "w3=vector(QQ,[4,3,-2])\n",
    "F=span([v1,v2])\n",
    "G=span([w1,w2,w3])\n",
    "show(F)\n",
    "show(G)"
   ]
  },
  {
   "cell_type": "code",
   "execution_count": 27,
   "metadata": {},
   "outputs": [
    {
     "data": {
      "text/html": [
       "<html><script type=\"math/tex; mode=display\">\\newcommand{\\Bold}[1]{\\mathbf{#1}}\\mathrm{RowSpan}_{\\Bold{Q}}\\left(\\begin{array}{rrr}\n",
       "1 & 0 & 0 \\\\\n",
       "0 & 1 & 0 \\\\\n",
       "0 & 0 & 1\n",
       "\\end{array}\\right)</script></html>"
      ],
      "text/latex": [
       "$$\\newcommand{\\Bold}[1]{\\mathbf{#1}}\\mathrm{RowSpan}_{\\Bold{Q}}\\left(\\begin{array}{rrr}\n",
       "1 & 0 & 0 \\\\\n",
       "0 & 1 & 0 \\\\\n",
       "0 & 0 & 1\n",
       "\\end{array}\\right)$$"
      ],
      "text/plain": [
       "Vector space of degree 3 and dimension 3 over Rational Field\n",
       "Basis matrix:\n",
       "[1 0 0]\n",
       "[0 1 0]\n",
       "[0 0 1]"
      ]
     },
     "metadata": {},
     "output_type": "display_data"
    },
    {
     "data": {
      "text/html": [
       "<html><script type=\"math/tex; mode=display\">\\newcommand{\\Bold}[1]{\\mathbf{#1}}3</script></html>"
      ],
      "text/latex": [
       "$$\\newcommand{\\Bold}[1]{\\mathbf{#1}}3$$"
      ],
      "text/plain": [
       "3"
      ]
     },
     "metadata": {},
     "output_type": "display_data"
    },
    {
     "data": {
      "text/html": [
       "<html><script type=\"math/tex; mode=display\">\\newcommand{\\Bold}[1]{\\mathbf{#1}}\\left[\\left(1,\\,\\frac{3}{7},\\,-\\frac{5}{7}\\right)\\right]</script></html>"
      ],
      "text/latex": [
       "$$\\newcommand{\\Bold}[1]{\\mathbf{#1}}\\left[\\left(1,\\,\\frac{3}{7},\\,-\\frac{5}{7}\\right)\\right]$$"
      ],
      "text/plain": [
       "[\n",
       "(1, 3/7, -5/7)\n",
       "]"
      ]
     },
     "metadata": {},
     "output_type": "display_data"
    },
    {
     "data": {
      "text/html": [
       "<html><script type=\"math/tex; mode=display\">\\newcommand{\\Bold}[1]{\\mathbf{#1}}\\mathrm{RowSpan}_{\\Bold{Q}}\\left(\\begin{array}{rrr}\n",
       "1 & \\frac{3}{7} & -\\frac{5}{7}\n",
       "\\end{array}\\right)</script></html>"
      ],
      "text/latex": [
       "$$\\newcommand{\\Bold}[1]{\\mathbf{#1}}\\mathrm{RowSpan}_{\\Bold{Q}}\\left(\\begin{array}{rrr}\n",
       "1 & \\frac{3}{7} & -\\frac{5}{7}\n",
       "\\end{array}\\right)$$"
      ],
      "text/plain": [
       "Vector space of degree 3 and dimension 1 over Rational Field\n",
       "Basis matrix:\n",
       "[   1  3/7 -5/7]"
      ]
     },
     "metadata": {},
     "output_type": "display_data"
    },
    {
     "data": {
      "text/html": [
       "<html><script type=\"math/tex; mode=display\">\\newcommand{\\Bold}[1]{\\mathbf{#1}}1</script></html>"
      ],
      "text/latex": [
       "$$\\newcommand{\\Bold}[1]{\\mathbf{#1}}1$$"
      ],
      "text/plain": [
       "1"
      ]
     },
     "metadata": {},
     "output_type": "display_data"
    }
   ],
   "source": [
    "# Suma i intersecció\n",
    "\n",
    "S=F+G \n",
    "show(S)\n",
    "show(S.dimension())\n",
    "\n",
    "\"\"\"\n",
    "dimensió F = 2\n",
    "dim G = 2\n",
    "dim F+G = 0 --> dim F intersecció G = 1\n",
    "\"\"\"\n",
    "\n",
    "Intrs=F.intersection(G)\n",
    "show(Intrs.basis())\n",
    "show(Intrs)\n",
    "show(Intrs.dimension())"
   ]
  },
  {
   "cell_type": "markdown",
   "metadata": {},
   "source": [
    "# Definició subespai de R format per x files de la matriu A"
   ]
  },
  {
   "cell_type": "markdown",
   "metadata": {},
   "source": [
    "<font color=green> Definiu el subespai $F$ de $\\mathbb{Q}^7$ format per les primeres 4 files de la matriu $A$. </font>"
   ]
  },
  {
   "cell_type": "code",
   "execution_count": 28,
   "metadata": {},
   "outputs": [
    {
     "ename": "IndexError",
     "evalue": "row index out of range",
     "output_type": "error",
     "traceback": [
      "\u001b[0;31m---------------------------------------------------------------------------\u001b[0m",
      "\u001b[0;31mIndexError\u001b[0m                                Traceback (most recent call last)",
      "\u001b[0;32m<ipython-input-28-09703adf5a52>\u001b[0m in \u001b[0;36m<module>\u001b[0;34m\u001b[0m\n\u001b[0;32m----> 1\u001b[0;31m \u001b[0mF\u001b[0m\u001b[0;34m=\u001b[0m\u001b[0;34m(\u001b[0m\u001b[0mQQ\u001b[0m\u001b[0;34m**\u001b[0m\u001b[0mInteger\u001b[0m\u001b[0;34m(\u001b[0m\u001b[0;36m7\u001b[0m\u001b[0;34m)\u001b[0m\u001b[0;34m)\u001b[0m\u001b[0;34m.\u001b[0m\u001b[0mspan\u001b[0m\u001b[0;34m(\u001b[0m\u001b[0mA\u001b[0m\u001b[0;34m.\u001b[0m\u001b[0mmatrix_from_rows\u001b[0m\u001b[0;34m(\u001b[0m\u001b[0;34m(\u001b[0m\u001b[0mellipsis_range\u001b[0m\u001b[0;34m(\u001b[0m\u001b[0mInteger\u001b[0m\u001b[0;34m(\u001b[0m\u001b[0;36m0\u001b[0m\u001b[0;34m)\u001b[0m\u001b[0;34m,\u001b[0m\u001b[0mEllipsis\u001b[0m\u001b[0;34m,\u001b[0m\u001b[0mInteger\u001b[0m\u001b[0;34m(\u001b[0m\u001b[0;36m3\u001b[0m\u001b[0;34m)\u001b[0m\u001b[0;34m)\u001b[0m\u001b[0;34m)\u001b[0m\u001b[0;34m)\u001b[0m\u001b[0;34m)\u001b[0m\u001b[0;34m\u001b[0m\u001b[0;34m\u001b[0m\u001b[0m\n\u001b[0m\u001b[1;32m      2\u001b[0m \u001b[0mshow\u001b[0m\u001b[0;34m(\u001b[0m\u001b[0mF\u001b[0m\u001b[0;34m)\u001b[0m\u001b[0;34m\u001b[0m\u001b[0;34m\u001b[0m\u001b[0m\n\u001b[1;32m      3\u001b[0m \u001b[0;34m\u001b[0m\u001b[0m\n\u001b[1;32m      4\u001b[0m \u001b[0;31m# per fer agafar det columnes fer la transposada\u001b[0m\u001b[0;34m\u001b[0m\u001b[0;34m\u001b[0m\u001b[0;34m\u001b[0m\u001b[0m\n",
      "\u001b[0;32m/opt/sagemath-9.3/local/lib/python3.7/site-packages/sage/matrix/matrix1.pyx\u001b[0m in \u001b[0;36msage.matrix.matrix1.Matrix.matrix_from_rows (build/cythonized/sage/matrix/matrix1.c:16600)\u001b[0;34m()\u001b[0m\n\u001b[1;32m   1876\u001b[0m         \u001b[0;32mfor\u001b[0m \u001b[0mi\u001b[0m\u001b[0;34m,\u001b[0m \u001b[0mrow\u001b[0m \u001b[0;32min\u001b[0m \u001b[0menumerate\u001b[0m\u001b[0;34m(\u001b[0m\u001b[0mrows\u001b[0m\u001b[0;34m)\u001b[0m\u001b[0;34m:\u001b[0m\u001b[0;34m\u001b[0m\u001b[0;34m\u001b[0m\u001b[0m\n\u001b[1;32m   1877\u001b[0m             \u001b[0;32mif\u001b[0m \u001b[0mrow\u001b[0m \u001b[0;34m<\u001b[0m \u001b[0;36m0\u001b[0m \u001b[0;32mor\u001b[0m \u001b[0mrow\u001b[0m \u001b[0;34m>=\u001b[0m \u001b[0mself\u001b[0m\u001b[0;34m.\u001b[0m\u001b[0m_nrows\u001b[0m\u001b[0;34m:\u001b[0m\u001b[0;34m\u001b[0m\u001b[0;34m\u001b[0m\u001b[0m\n\u001b[0;32m-> 1878\u001b[0;31m                 \u001b[0;32mraise\u001b[0m \u001b[0mIndexError\u001b[0m\u001b[0;34m(\u001b[0m\u001b[0;34m\"row index out of range\"\u001b[0m\u001b[0;34m)\u001b[0m\u001b[0;34m\u001b[0m\u001b[0;34m\u001b[0m\u001b[0m\n\u001b[0m\u001b[1;32m   1879\u001b[0m             \u001b[0;32mfor\u001b[0m \u001b[0mj\u001b[0m \u001b[0;32min\u001b[0m \u001b[0mrange\u001b[0m\u001b[0;34m(\u001b[0m\u001b[0mself\u001b[0m\u001b[0;34m.\u001b[0m\u001b[0m_ncols\u001b[0m\u001b[0;34m)\u001b[0m\u001b[0;34m:\u001b[0m\u001b[0;34m\u001b[0m\u001b[0;34m\u001b[0m\u001b[0m\n\u001b[1;32m   1880\u001b[0m                 \u001b[0mA\u001b[0m\u001b[0;34m.\u001b[0m\u001b[0mset_unsafe\u001b[0m\u001b[0;34m(\u001b[0m\u001b[0mi\u001b[0m\u001b[0;34m,\u001b[0m \u001b[0mj\u001b[0m\u001b[0;34m,\u001b[0m \u001b[0mself\u001b[0m\u001b[0;34m.\u001b[0m\u001b[0mget_unsafe\u001b[0m\u001b[0;34m(\u001b[0m\u001b[0mrow\u001b[0m\u001b[0;34m,\u001b[0m \u001b[0mj\u001b[0m\u001b[0;34m)\u001b[0m\u001b[0;34m)\u001b[0m\u001b[0;34m\u001b[0m\u001b[0;34m\u001b[0m\u001b[0m\n",
      "\u001b[0;31mIndexError\u001b[0m: row index out of range"
     ]
    }
   ],
   "source": [
    "F=(QQ^7).span(A.matrix_from_rows([0..3]))\n",
    "show(F)\n",
    "\n",
    "# per fer agafar det columnes fer la transposada"
   ]
  },
  {
   "cell_type": "markdown",
   "metadata": {},
   "source": [
    "# Canvi de coordenades"
   ]
  },
  {
   "cell_type": "code",
   "execution_count": null,
   "metadata": {},
   "outputs": [],
   "source": [
    "v1=vector(QQ,[1,-1,1])\n",
    "v2=vector(QQ,[2,3,-1])\n",
    "E=span(QQ,[v1,v2]) # espai ambient, definit amb comb. linelas dels vectors, agafant els eixos més senzills\n",
    "Ev=(QQ^3).subspace_with_basis([v1,v2])\n",
    "show(E)\n",
    "show(Ev)\n",
    "show(\"Son iguals?\")\n",
    "show(E==Ev)\n",
    "v=vector(QQ,[4,1,1])\n",
    "show(v)\n",
    "v in E\n",
    "v in Ev\n",
    "\n",
    "Ev.coordinates(v)\n",
    "2*v1+v2,v\n",
    "E.coordinates(v)\n",
    "E.0 # eix q agafa E predeterminadament\n",
    "E.1 # eix q agafa E predeterminadament"
   ]
  },
  {
   "cell_type": "markdown",
   "metadata": {},
   "source": [
    "# Polinomi característic"
   ]
  },
  {
   "cell_type": "code",
   "execution_count": null,
   "metadata": {},
   "outputs": [],
   "source": [
    "A=matrix(QQ,4,4,[3, -6, -8, 6, \n",
    "                 2, -3, -4, 4, \n",
    "                 -2, 3, 3, -3, \n",
    "                 -2, 1, -2, 0])\n",
    "show(A)\n",
    "show(A.charpoly())\n",
    "show((A-x*identity_matrix(4)).det())\n",
    "show(A.charpoly('t')) # per diferenciar variables en cas d'haver una x a la matriu\n",
    "show(\"descomposició: \", A.charpoly().factor())"
   ]
  },
  {
   "cell_type": "code",
   "execution_count": null,
   "metadata": {},
   "outputs": [],
   "source": [
    "var('a')\n",
    "diag = diagonal_matrix([-a,-a,-a])\n",
    "mat_x = aux + diag\n",
    "substitucio = mat_x.subs(a=92.6112784468182)"
   ]
  },
  {
   "cell_type": "code",
   "execution_count": null,
   "metadata": {},
   "outputs": [],
   "source": [
    "A.is_diagonalizable() # problema d'aproximació"
   ]
  },
  {
   "cell_type": "markdown",
   "metadata": {},
   "source": [
    "## Polinomi mínim "
   ]
  },
  {
   "cell_type": "code",
   "execution_count": null,
   "metadata": {},
   "outputs": [],
   "source": [
    "show(A.minimal_polynomial())"
   ]
  },
  {
   "cell_type": "markdown",
   "metadata": {},
   "source": [
    "### valors propis"
   ]
  },
  {
   "cell_type": "code",
   "execution_count": null,
   "metadata": {},
   "outputs": [],
   "source": [
    "show(A.eigenvalues())"
   ]
  },
  {
   "cell_type": "markdown",
   "metadata": {},
   "source": [
    "### vectors propis"
   ]
  },
  {
   "cell_type": "code",
   "execution_count": null,
   "metadata": {},
   "outputs": [],
   "source": [
    "show(A.eigenspaces_right()) # vectors per la dreta, iguala la matriu nucli a 0\n",
    "\n",
    "# ens retorna (vap, base de vap)"
   ]
  },
  {
   "cell_type": "code",
   "execution_count": null,
   "metadata": {},
   "outputs": [],
   "source": [
    "# llista de tripletes formades pel valor propi, una base de \n",
    "# l'espai de vectors propis associats i la multiplicitat.\n",
    "show(A.eigenvectors_right())"
   ]
  },
  {
   "cell_type": "markdown",
   "metadata": {},
   "source": [
    "#### impressió VAPs i VEPs"
   ]
  },
  {
   "cell_type": "code",
   "execution_count": null,
   "metadata": {},
   "outputs": [],
   "source": [
    "VP = A.eigenspaces_right() # injectiva (nucli vector 0) --> NO ho és pq té VAP = 0 \n",
    "show(VP)\n",
    "\n",
    "for vp in VP:\n",
    "    show(\"valor propi: \")\n",
    "    show(vp[0])\n",
    "    show(\"base:\")\n",
    "    show(vp[1].basis())\n",
    "    print(\"-------\")"
   ]
  },
  {
   "cell_type": "markdown",
   "metadata": {},
   "source": [
    "## Matriu canvi de base "
   ]
  },
  {
   "cell_type": "code",
   "execution_count": null,
   "metadata": {},
   "outputs": [],
   "source": [
    "[D,M]=A.eigenmatrix_right()\n",
    "show(D)\n",
    "show(M) # M = P"
   ]
  },
  {
   "cell_type": "code",
   "execution_count": null,
   "metadata": {},
   "outputs": [],
   "source": [
    "show(M.inverse()*A*M)\n",
    "show(D)"
   ]
  },
  {
   "cell_type": "code",
   "execution_count": null,
   "metadata": {},
   "outputs": [],
   "source": [
    "show(M*D*M.inverse())\n",
    "show(A)"
   ]
  },
  {
   "cell_type": "markdown",
   "metadata": {},
   "source": [
    "# Gram-Schmidt"
   ]
  },
  {
   "cell_type": "code",
   "execution_count": null,
   "metadata": {},
   "outputs": [],
   "source": [
    "v1 = vector(RR,[1,1,1,1])\n",
    "v2 = vector(RR,[-1,4,4,-1])\n",
    "v3 = vector(RR,[4,-2,2,0])\n",
    "B = [v1,v2,v3]\n",
    "F = (RR^4).subspace_with_basis(B)\n",
    "show(F)\n",
    "type(F)"
   ]
  },
  {
   "cell_type": "code",
   "execution_count": null,
   "metadata": {},
   "outputs": [],
   "source": [
    "BO = [] # on afegim els vectors de la base ortogonal\n",
    "w1 = B[0]/sqrt(B[0]*B[0]) # vector entre la seva norma (1r vector de la base)\n",
    "BO.append(w1)\n",
    "print(BO[0],\" té norma \",sqrt(BO[0]*BO[0]))"
   ]
  },
  {
   "cell_type": "code",
   "execution_count": null,
   "metadata": {},
   "outputs": [],
   "source": [
    "w2temp = B[1] - (B[1]*BO[0])*BO[0]\n",
    "w2 = w2temp/sqrt(w2temp*w2temp)  # segon vector\n",
    "BO.append(w2)\n",
    "print(BO)\n",
    "print(\"Els dos primers vectors de B i BO generen el mateix: \",span(B[0:2]) == span(BO))\n",
    "print(BO[1],\" té norma \",sqrt(BO[1]*BO[1]))\n",
    "print(\"El producte escalar entre \",BO[0],\" i \",BO[1],\" és \",BO[0]*BO[1])"
   ]
  },
  {
   "cell_type": "code",
   "execution_count": null,
   "metadata": {},
   "outputs": [],
   "source": [
    "w3temp = B[2] - sum([(B[2]*BO[j])*BO[j] for j in range(2)])\n",
    "w3 = w3temp/sqrt(w3temp*w3temp)\n",
    "BO.append(w3)\n",
    "print(BO)\n",
    "print(span(RR,B[0:3]) == span(RR,BO))\n",
    "print(BO[2],\" té norma \",sqrt(BO[2]*BO[2]))\n",
    "for j in range(3):\n",
    "    for k in range(j,3):\n",
    "        print(\"El producte escalar entre \",BO[j],\" i \",BO[k],\" és \",BO[j]*BO[k])"
   ]
  },
  {
   "cell_type": "markdown",
   "metadata": {},
   "source": [
    "# Diagonalització per matrius simètriques"
   ]
  },
  {
   "cell_type": "code",
   "execution_count": null,
   "metadata": {},
   "outputs": [],
   "source": [
    "\"\"\"\n",
    "Si tenim A quadrada i simètrica sempre diagonalitza. És a dir existeix una matriu P invertible i D diagonal on A=PDP^1.\n",
    "Però a més existeix P1 invertible on A = P1*D*P1^-1 i ORTOGONAL (=> P^-1 = P^transposta)\n",
    "\"\"\"\n",
    "A=matrix(QQ,3,3,[1,2,3,2,1,2,3,2,1]);\n",
    "show(A)"
   ]
  },
  {
   "cell_type": "code",
   "execution_count": null,
   "metadata": {},
   "outputs": [],
   "source": [
    "D,P=A.eigenmatrix_right();\n",
    "show(P); # són els vectors de cada VAP posats ens columnes\n",
    "show(D); # ens dona una aproximació de la diagonal => tenim 3 valors propis"
   ]
  },
  {
   "cell_type": "code",
   "execution_count": null,
   "metadata": {},
   "outputs": [],
   "source": [
    "\"\"\"\n",
    "Si fem P*Ptransposada i no surt MId --> P NO ORTOGONAL\n",
    "\"\"\"\n",
    "P2=P.transpose();\n",
    "show(P2*P)"
   ]
  },
  {
   "cell_type": "code",
   "execution_count": null,
   "metadata": {},
   "outputs": [],
   "source": [
    "show(P2.gram_schmidt()[0]); # ho fa en files\n",
    "R=P2.gram_schmidt()[0].transpose(); # fer transposta i després normes\n",
    "show(R) "
   ]
  },
  {
   "cell_type": "markdown",
   "metadata": {},
   "source": [
    "### funció normalització columnes"
   ]
  },
  {
   "cell_type": "code",
   "execution_count": null,
   "metadata": {},
   "outputs": [],
   "source": [
    "def normalize_columns(M):\n",
    "    return column_matrix([v/v.norm() for v in M.columns()]);\n",
    "P3=normalize_columns(R);\n",
    "show(P3)\n",
    "show(P3.transpose()*P3)"
   ]
  },
  {
   "cell_type": "code",
   "execution_count": null,
   "metadata": {},
   "outputs": [],
   "source": [
    "show(P3*D*P3.transpose()); # ENS HA DE SORTIR LA M ORTOGONAL BUSCADA\n",
    "show(A);"
   ]
  },
  {
   "cell_type": "markdown",
   "metadata": {},
   "source": [
    "### funció orotgonalitació "
   ]
  },
  {
   "cell_type": "code",
   "execution_count": null,
   "metadata": {},
   "outputs": [],
   "source": [
    "def ortogonalitzacioGM(B):\n",
    "    # Omplir el codi aquí\n",
    "    # hauríem de posar un if per veure si els vectors són LI \n",
    "    # es podria fer una matriu i mirar el rang\n",
    "    BO = []\n",
    "    for i,v in enumerate(B):\n",
    "        wt = v - sum([(v*BO[j])*BO[j] for j in range(i)])\n",
    "        w = wt/sqrt(wt*wt)\n",
    "        BO.append(w)\n",
    "    return BO # retorna els vecotrs de la BOrtogonal\n",
    "\"\"\"\n",
    "Si hem creat un espai com a continuació, hem de passar a la funció B.basis() pq no hi hagi divisió 0\n",
    "\"\"\"\n",
    "ex4 = matrix(QQ,4,4,[1,2,3,4,2,3,4,5,3,4,5,6,1,1,2,1])\n",
    "F=(QQ^4).span(ex4.matrix_from_rows([0..3]))\n",
    "show(ex4)\n",
    "U,X=matrix(F.basis()).gram_schmidt()\n",
    "show(U)\n",
    "show(X)\n",
    "show([u/u.norm() for u in U.rows()])\n",
    "show(ortogonalitzacioGM(F.basis()))"
   ]
  },
  {
   "cell_type": "markdown",
   "metadata": {},
   "source": [
    "# Factorització de Valors Singulars"
   ]
  },
  {
   "cell_type": "markdown",
   "metadata": {},
   "source": [
    "Hem vist a classe la factorització en valors singulars on A=USigmaV^t on U,V matrius ortogonals i Sigma sol té valors \n",
    "no zeros en les posicions (i,i) de la matriu, corresponent als valors singulars de A de més gran a més petits"
   ]
  },
  {
   "cell_type": "code",
   "execution_count": null,
   "metadata": {},
   "outputs": [],
   "source": [
    "C=matrix(CDF, [[1,2,3],[1,4,7]]); # CDF és un aproximació molt precisa\n",
    "show(C)\n",
    "Uu,Sig,Vv=C.SVD(); # Singular Value Decomposition\n",
    "show(Sig);show(Uu);show(Vv);\n",
    "show(Uu*Sig*Vv.transpose()); # surt igual que C"
   ]
  },
  {
   "cell_type": "code",
   "execution_count": null,
   "metadata": {},
   "outputs": [],
   "source": [
    "show(Uu) # es troben a partir de cada valor singular de A*At --> (1/v.sing)*(S)*(vector de v.sing)\n",
    "show(Sig) # són els VAPs de A\n",
    "show(Vv) # són els VEPs (en base ortonormal) de A*Atransformada - VAP(Id)"
   ]
  },
  {
   "cell_type": "code",
   "execution_count": null,
   "metadata": {},
   "outputs": [],
   "source": [
    "CtranspC = C.transpose()*C\n",
    "show(CtranspC)\n",
    "# busquem valors propis i base de A^t*A\n",
    "(CtranspC.eigenvalues())\n",
    "sqrt(CtranspC.eigenvalues()[1])"
   ]
  },
  {
   "cell_type": "code",
   "execution_count": null,
   "metadata": {},
   "outputs": [],
   "source": [
    "# no ho sé si va aquí\n",
    "D, P = CtranspC.eigenmatrix_right()\n",
    "show(D)\n",
    "show(P)\n",
    "show(P*P.transpose()) \n",
    "# ens surt gairebé tot és 0 -- és gairebé ortogonal\n",
    "show(normalize_columns(P)) # surt igual que la Vv"
   ]
  },
  {
   "cell_type": "markdown",
   "metadata": {},
   "source": [
    "# Solució mínims quadrats"
   ]
  },
  {
   "cell_type": "code",
   "execution_count": null,
   "metadata": {},
   "outputs": [],
   "source": [
    "ex3 = matrix(3,3,[1,2,3,2,3,4,3,4,5])\n",
    "v = matrix(3,1,[1,5,-2])\n",
    "# show(ex3.solve_right(v)) -- ens dona error pq SI\n",
    "\n",
    "# apliquem A*At*(x,y,z) = At*v\n",
    "i = ex3*ex3.transpose()\n",
    "show(i)\n",
    "show(j)\n",
    "j = (ex3.transpose()*v)\n",
    "\n",
    "k = i.augment(j,subdivide=True)\n",
    "show(k)\n",
    "show(k.echelon_form())\n",
    "show(i.solve_right(j))\n",
    "show(i.right_kernel(j)) # si SCD ens dona u*, si no ho és ns com"
   ]
  },
  {
   "cell_type": "markdown",
   "metadata": {},
   "source": [
    "# Injectiva o bijectiva"
   ]
  },
  {
   "cell_type": "code",
   "execution_count": null,
   "metadata": {},
   "outputs": [],
   "source": [
    "print('Es exhaustiva? ',f.is_surjective())\n",
    "print('Es injectiva? ',f.is_injective())\n",
    "\n",
    "# DOS TRUE ÉS IGUAL EXHAUSTIVA"
   ]
  },
  {
   "cell_type": "markdown",
   "metadata": {},
   "source": [
    "# Base subespai nucli"
   ]
  },
  {
   "cell_type": "code",
   "execution_count": null,
   "metadata": {},
   "outputs": [],
   "source": [
    "f = linear_transformation(A[0:4].transpose())\n",
    "show(f)\n",
    "show(f.kernel().basis())"
   ]
  },
  {
   "cell_type": "markdown",
   "metadata": {},
   "source": [
    "# <font color=red> MIRAR lo de dalt\n",
    "</font>"
   ]
  },
  {
   "cell_type": "markdown",
   "metadata": {},
   "source": [
    "# Base subespai imatge"
   ]
  },
  {
   "cell_type": "code",
   "execution_count": null,
   "metadata": {},
   "outputs": [],
   "source": [
    "show(f.image().basis())"
   ]
  }
 ],
 "metadata": {
  "kernelspec": {
   "display_name": "SageMath 9.3",
   "language": "sage",
   "name": "sagemath"
  },
  "language_info": {
   "codemirror_mode": {
    "name": "ipython",
    "version": 3
   },
   "file_extension": ".py",
   "mimetype": "text/x-python",
   "name": "python",
   "nbconvert_exporter": "python",
   "pygments_lexer": "ipython3",
   "version": "3.7.10"
  }
 },
 "nbformat": 4,
 "nbformat_minor": 4
}
