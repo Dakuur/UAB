{
 "cells": [
  {
   "cell_type": "markdown",
   "metadata": {},
   "source": [
    "# Resolució de Sistemes: Determinants, Inverses Generalitzades i rang.\n",
    "### Inverses generalitzades"
   ]
  },
  {
   "cell_type": "markdown",
   "metadata": {},
   "source": [
    "<font color=green>\n",
    "        Considereu la matriu:\n",
    "$$A=\\left(\\begin{array}{rrrrr}\n",
    "1 & 0 & -1 & 0 & 1 \\\\\n",
    "0 & 1 & 0 & 0 & 0 \\\\\n",
    "0 & -1 & 0 & 1 & 0 \\\\\n",
    "0 & 0 & -1 & 0 & -1 \\\\\n",
    "0 & 1 & 0 & -1 & 0\n",
    "\\end{array}\\right)$$\n",
    "</font>\n",
    "<font color=green>\n",
    "    <ol>\n",
    "        <li> Comproveu que no és invertible calculant el seu rang (surt 4). </li>\n",
    "        <li> Utilitzeu <font color=blue>pseudoinverse( )</font> per obtenir una inversa generalitzada $G$ de $A$. </li>\n",
    "        <li> Comproveu que el producte $A\\cdot G\\cdot A$ dona com a resultat la matriu $A$ (com correspon a una inversa generalitzada).</li>\n",
    "    </ol>\n",
    "</font>        "
   ]
  },
  {
   "cell_type": "code",
   "execution_count": 1,
   "metadata": {},
   "outputs": [
    {
     "data": {
      "text/html": [
       "<html><script type=\"math/tex; mode=display\">\\newcommand{\\Bold}[1]{\\mathbf{#1}}\\verb|A=| \\left(\\begin{array}{rrrrr}\n",
       "1 & 0 & -1 & 0 & 1 \\\\\n",
       "0 & 1 & 0 & 0 & 0 \\\\\n",
       "0 & -1 & 0 & 1 & 0 \\\\\n",
       "0 & 0 & -1 & 0 & -1 \\\\\n",
       "0 & 1 & 0 & -1 & 0\n",
       "\\end{array}\\right)</script></html>"
      ],
      "text/plain": [
       "'A= ' [ 1  0 -1  0  1]\n",
       "[ 0  1  0  0  0]\n",
       "[ 0 -1  0  1  0]\n",
       "[ 0  0 -1  0 -1]\n",
       "[ 0  1  0 -1  0]"
      ]
     },
     "metadata": {},
     "output_type": "display_data"
    }
   ],
   "source": [
    "A=matrix(QQ,5,5,[1,0,-1,0,1,\n",
    "                0,1,0,0,0,\n",
    "                0,-1,0,1,0,\n",
    "                0,0,-1,0,-1,\n",
    "                0,1,0,-1,0])\n",
    "show(\"A= \",A)"
   ]
  },
  {
   "cell_type": "code",
   "execution_count": null,
   "metadata": {},
   "outputs": [],
   "source": []
  },
  {
   "cell_type": "code",
   "execution_count": null,
   "metadata": {},
   "outputs": [],
   "source": []
  },
  {
   "cell_type": "code",
   "execution_count": null,
   "metadata": {},
   "outputs": [],
   "source": []
  },
  {
   "cell_type": "code",
   "execution_count": null,
   "metadata": {},
   "outputs": [],
   "source": []
  },
  {
   "cell_type": "markdown",
   "metadata": {},
   "source": [
    "<font color=green>\n",
    "      La matriu inversa generalitzada, tot i que sempre existeix, no és única. En general, donada una matriu $A$, hi pot haver vàries matrius $G$ tals que $A\\cdot G\\cdot A= A$. Recordeu que una manera d'obtenir inverses generaitzades $G$ consisteix a aprofitar les matrius $P$ i $Q$ que apareixen quan es fa la reducció per files i columnes de la matriu $A$; o sigui que compleixen que $P\\cdot A \\cdot Q=R$ on $R$ és la forma reduida per files i columnes de $A$. \n",
    "    \n",
    "   Una inversa generalitzada és aleshores $G=Q\\cdot R^T \\cdot P$, on $R^T$ és la transposta de $R$. \n",
    "</font>"
   ]
  },
  {
   "cell_type": "markdown",
   "metadata": {},
   "source": [
    "<font color=green> \n",
    "    Una manera d'obtenir la P i la Q és primer obtenir la matrius de Gauss-Jordan J i la P corresponent via extended_echelon_form, i després obtenir la Q fent el mateix per la J transposada i transposar de nou. Comproveu que el següent codi fa això\n",
    "</font>"
   ]
  },
  {
   "cell_type": "code",
   "execution_count": 2,
   "metadata": {},
   "outputs": [],
   "source": [
    "AE=A.extended_echelon_form()\n",
    "J=AE.matrix_from_columns([0..A.ncols()-1])\n",
    "P=AE.matrix_from_columns([A.ncols()..A.ncols()+A.nrows()-1])\n",
    "JT=J.transpose()\n",
    "JTE=JT.extended_echelon_form()\n",
    "IT=JTE.matrix_from_columns([0..JT.ncols()-1])\n",
    "QT=JTE.matrix_from_columns([JT.ncols()..JT.ncols()+JT.nrows()-1])\n",
    "I=IT.transpose()\n",
    "Q=QT.transpose()"
   ]
  },
  {
   "cell_type": "code",
   "execution_count": null,
   "metadata": {},
   "outputs": [],
   "source": []
  },
  {
   "cell_type": "code",
   "execution_count": null,
   "metadata": {},
   "outputs": [],
   "source": []
  },
  {
   "cell_type": "code",
   "execution_count": null,
   "metadata": {},
   "outputs": [],
   "source": []
  },
  {
   "cell_type": "markdown",
   "metadata": {},
   "source": [
    "<font color=green>  L'altre dia ja varem fer unes funcions que calculen la PAQ reducció. Si voleu podeu utilitzar-les. Calculeu amb la A, la P i la Q una inversa generalitzada. Surt la mateixa que a dalt? Comproveu que G és realment una inversa generalitzada fent el producte A·G·A i veient que coincideix amb A.</font>"
   ]
  },
  {
   "cell_type": "code",
   "execution_count": 3,
   "metadata": {},
   "outputs": [],
   "source": [
    "def PAreduccio(A): \n",
    "    n=A.nrows()\n",
    "    m=A.ncols()\n",
    "    AA=A.augment(matrix.identity(n))\n",
    "    AAR=AA.rref()\n",
    "    AR=AAR.matrix_from_columns(range(0,m))\n",
    "    P=AAR.matrix_from_columns(range(m,m+n))\n",
    "    return P,AR\n",
    "def PAQreduccio(A):\n",
    "    P,AR=PAreduccio(A)\n",
    "    ART=AR.transpose()\n",
    "    QT,BT=PAreduccio(ART)\n",
    "    Q=QT.transpose()\n",
    "    B=BT.transpose()\n",
    "    return P,B,Q"
   ]
  },
  {
   "cell_type": "code",
   "execution_count": null,
   "metadata": {},
   "outputs": [],
   "source": []
  },
  {
   "cell_type": "code",
   "execution_count": null,
   "metadata": {},
   "outputs": [],
   "source": []
  },
  {
   "cell_type": "code",
   "execution_count": null,
   "metadata": {},
   "outputs": [],
   "source": []
  },
  {
   "cell_type": "code",
   "execution_count": null,
   "metadata": {},
   "outputs": [],
   "source": []
  },
  {
   "cell_type": "markdown",
   "metadata": {},
   "source": [
    "<font color=green> Feu la funció InversaGeneralitzada(A) que et doni la inversa generalitzada de A a partir de la PAQreduccio </font>"
   ]
  },
  {
   "cell_type": "code",
   "execution_count": null,
   "metadata": {},
   "outputs": [],
   "source": []
  },
  {
   "cell_type": "code",
   "execution_count": null,
   "metadata": {},
   "outputs": [],
   "source": []
  },
  {
   "cell_type": "code",
   "execution_count": null,
   "metadata": {},
   "outputs": [],
   "source": []
  },
  {
   "cell_type": "code",
   "execution_count": null,
   "metadata": {},
   "outputs": [],
   "source": []
  },
  {
   "cell_type": "markdown",
   "metadata": {},
   "source": [
    "<font color=red>\n",
    "    x----------------------------------------------------------------x</font>"
   ]
  },
  {
   "cell_type": "markdown",
   "metadata": {},
   "source": [
    "<font color=green>\n",
    "    Determineu les $PAQ$-reduccions de les matrius\n",
    "    $$\n",
    "    \\begin{pmatrix}\n",
    " 2&-8&1&-1\\\\5&-20&-4&-22\\\\-3&12&5&21\n",
    "\\end{pmatrix}, \\quad\n",
    "\\begin{pmatrix}\n",
    " 1&2&3\\\\0&4&6\\\\-1&0&0\n",
    "\\end{pmatrix},\\quad\n",
    "\\begin{pmatrix}\n",
    " 2&3&2&-1\\\\5&8&0&1\\\\1&2&-2&3\n",
    "\\end{pmatrix}.\n",
    "    $$\n",
    "    </font>\n",
    "<font color=green>    \n",
    "    i calculeu una inversa generalitzada per a cada una d'elles a partir del càlculs anteriors. Comproveu si aquestes inverses generalitzades coincideixen amb la que dona la funció <font color=blue>pseudoinverse( )</font>\n",
    "</font>"
   ]
  },
  {
   "cell_type": "markdown",
   "metadata": {},
   "source": [
    "**_Aneu en compte amb el fet que hi ha matrius que no són quadrades_**"
   ]
  },
  {
   "cell_type": "code",
   "execution_count": null,
   "metadata": {},
   "outputs": [],
   "source": []
  },
  {
   "cell_type": "code",
   "execution_count": null,
   "metadata": {},
   "outputs": [],
   "source": []
  },
  {
   "cell_type": "code",
   "execution_count": null,
   "metadata": {},
   "outputs": [],
   "source": []
  },
  {
   "cell_type": "markdown",
   "metadata": {},
   "source": [
    "<font color=red>\n",
    "    x----------------------------------------------------------------x</font>"
   ]
  },
  {
   "cell_type": "markdown",
   "metadata": {},
   "source": [
    "<font color=green>\n",
    "    Utilitzeu la matriu inversa generalitzada que heu calculat per a donar les solucions del sistema d'equacions\n",
    "    $$\n",
    "    \\begin{pmatrix}\n",
    " 2&-8&1&-1\\\\5&-20&-4&-22\\\\-3&12&5&21\n",
    "\\end{pmatrix}\\cdot \\begin{pmatrix} x1\\\\x2\\\\x3\\\\x4\\end{pmatrix}=\n",
    "\\begin{pmatrix} 9\\\\3\\\\6 \\end{pmatrix}\n",
    "    $$\n",
    "</font>"
   ]
  },
  {
   "cell_type": "code",
   "execution_count": null,
   "metadata": {},
   "outputs": [],
   "source": []
  },
  {
   "cell_type": "code",
   "execution_count": null,
   "metadata": {},
   "outputs": [],
   "source": []
  },
  {
   "cell_type": "code",
   "execution_count": null,
   "metadata": {},
   "outputs": [],
   "source": []
  },
  {
   "cell_type": "markdown",
   "metadata": {},
   "source": [
    "<font color=green>\n",
    "    Per què, si apliqueu el mateix mètode al sistema\n",
    "    $$\n",
    "    \\begin{pmatrix}\n",
    " 2&-8&1&-1\\\\5&-20&-4&-22\\\\-3&12&5&21\n",
    "\\end{pmatrix}\\cdot \\begin{pmatrix} x1\\\\x2\\\\x3\\\\x4\\end{pmatrix}=\n",
    "\\begin{pmatrix} 3\\\\-3\\\\1 \\end{pmatrix}\n",
    "    $$\n",
    "i dieu $S$ al vector resultant, resultat que \n",
    "$$\n",
    "    \\begin{pmatrix}\n",
    " 2&-8&1&-1\\\\5&-20&-4&-22\\\\-3&12&5&21\n",
    "\\end{pmatrix}\\cdot S \\ne \\begin{pmatrix} 3\\\\-3\\\\1 \\end{pmatrix}?\n",
    "    $$\n",
    "</font>"
   ]
  },
  {
   "cell_type": "code",
   "execution_count": null,
   "metadata": {},
   "outputs": [],
   "source": []
  },
  {
   "cell_type": "code",
   "execution_count": null,
   "metadata": {},
   "outputs": [],
   "source": []
  },
  {
   "cell_type": "code",
   "execution_count": null,
   "metadata": {},
   "outputs": [],
   "source": []
  },
  {
   "cell_type": "code",
   "execution_count": null,
   "metadata": {},
   "outputs": [],
   "source": []
  },
  {
   "cell_type": "code",
   "execution_count": null,
   "metadata": {},
   "outputs": [],
   "source": []
  },
  {
   "cell_type": "markdown",
   "metadata": {},
   "source": [
    "# Rangs i sistemes d'equacions amb paràmetres"
   ]
  },
  {
   "cell_type": "markdown",
   "metadata": {},
   "source": [
    "Hi ha moltes situacions en les que les funcions de <font color=blue>**SageMath**</font> no poden tenir en compte tots els casos possibles. Els següents exercicis d'aquesta sessió estan pensats amb la finalitat de mostrar algunes d'aquestes situacions, posant especial atenció en els problemes _que depenen de paràmetres_. En aquests tipus de problemes s'obtenen sovint solucions que només són **parcialment** vàlides i en els que cal actuar manualment per tenir en compte totes les possibilitats."
   ]
  },
  {
   "cell_type": "markdown",
   "metadata": {},
   "source": [
    "<font color=green>\n",
    "<p>  Considereu les matrius de la forma:\n",
    "    $$\n",
    "    \\begin{pmatrix}\n",
    "    3 & -a - 4 & -a + 3 & 7 \\, a - 10 & 2 \\, a - 7 \\\\\n",
    "a - 1 & 5 \\, a - 7 & -5 \\, a + 7 & 6 \\, a - 9 & -a + 1 \\\\\n",
    "-3 & -4 \\, a + 11 & 5 \\, a - 9 & -11 \\, a + 17 & -2 \\, a + 7 \\\\\n",
    "-1 & 2 \\, a - 1 & -a + 1 & -a + 1 & -a + 3\n",
    "    \\end{pmatrix}\n",
    "    $$\n",
    "(on $a$ és un paràmetre real).\n",
    "</p>\n",
    "<p>\n",
    "<ul>\n",
    "    <li>Determineu en quins casos el rang és $4$.</li>\n",
    "    <li>En els altres casos, quin és el rang en cada un d'ells?</li>\n",
    "</ul>\n",
    "</p>\n",
    "</font>"
   ]
  },
  {
   "cell_type": "markdown",
   "metadata": {},
   "source": [
    "Es declara $a$ com a símbol i s'introdueix la família de matrius en una variable."
   ]
  },
  {
   "cell_type": "code",
   "execution_count": 4,
   "metadata": {},
   "outputs": [
    {
     "data": {
      "text/html": [
       "<html><script type=\"math/tex; mode=display\">\\newcommand{\\Bold}[1]{\\mathbf{#1}}\\left(\\begin{array}{rrrrr}\n",
       "3 & -a - 4 & -a + 3 & 7 \\, a - 10 & 2 \\, a - 7 \\\\\n",
       "a - 1 & 5 \\, a - 7 & -5 \\, a + 7 & 6 \\, a - 9 & -a + 1 \\\\\n",
       "-3 & -4 \\, a + 11 & 5 \\, a - 9 & -11 \\, a + 17 & -2 \\, a + 7 \\\\\n",
       "-1 & 2 \\, a - 1 & -a + 1 & -a + 1 & -a + 3\n",
       "\\end{array}\\right)</script></html>"
      ],
      "text/plain": [
       "[         3     -a - 4     -a + 3   7*a - 10    2*a - 7]\n",
       "[     a - 1    5*a - 7   -5*a + 7    6*a - 9     -a + 1]\n",
       "[        -3  -4*a + 11    5*a - 9 -11*a + 17   -2*a + 7]\n",
       "[        -1    2*a - 1     -a + 1     -a + 1     -a + 3]"
      ]
     },
     "metadata": {},
     "output_type": "display_data"
    }
   ],
   "source": [
    "var('a')\n",
    "A_a=matrix(4,5,[\n",
    "    3,-a-4,-a+3,7*a-10,2*a-7,\n",
    "    a-1,5*a-7,-5*a+7,6*a-9,-a+1,\n",
    "    -3,-4*a+11,5*a-9,-11*a+17,-2*a+7,\n",
    "    -1,2*a-1,-a+1,-a+1,-a+3\n",
    "])\n",
    "show(A_a)"
   ]
  },
  {
   "cell_type": "markdown",
   "metadata": {},
   "source": [
    "Si es demana el rang de les matrius $A\\_a$ el resultat serà el que correspon a acceptar __qualsevol__ divisió per una expressió que no sigui idènticament nul·la (permetent divisions que, per a certs valors del paràmetre $a$ no estarien permeses)."
   ]
  },
  {
   "cell_type": "code",
   "execution_count": 5,
   "metadata": {},
   "outputs": [
    {
     "data": {
      "text/plain": [
       "4"
      ]
     },
     "execution_count": 5,
     "metadata": {},
     "output_type": "execute_result"
    }
   ],
   "source": [
    "A_a.rank()"
   ]
  },
  {
   "cell_type": "markdown",
   "metadata": {},
   "source": [
    "Només que es demani la forma esglaonada, ja es veu que hi ha __casos especials__."
   ]
  },
  {
   "cell_type": "code",
   "execution_count": 6,
   "metadata": {},
   "outputs": [
    {
     "data": {
      "text/html": [
       "<html><script type=\"math/tex; mode=display\">\\newcommand{\\Bold}[1]{\\mathbf{#1}}\\left(\\begin{array}{rrrrr}\n",
       "1 & 0 & 0 & -\\frac{7 \\, a - 8}{3 \\, {\\left(a - 1\\right)}} & 0 \\\\\n",
       "0 & 1 & 0 & -\\frac{8 \\, a - 9}{3 \\, {\\left(a - 1\\right)}} & 0 \\\\\n",
       "0 & 0 & 1 & -\\frac{13 \\, a - 14}{3 \\, {\\left(a - 1\\right)}} & 0 \\\\\n",
       "0 & 0 & 0 & 0 & 1\n",
       "\\end{array}\\right)</script></html>"
      ],
      "text/plain": [
       "[                       1                        0                        0   -1/3*(7*a - 8)/(a - 1)                        0]\n",
       "[                       0                        1                        0   -1/3*(8*a - 9)/(a - 1)                        0]\n",
       "[                       0                        0                        1 -1/3*(13*a - 14)/(a - 1)                        0]\n",
       "[                       0                        0                        0                        0                        1]"
      ]
     },
     "metadata": {},
     "output_type": "display_data"
    }
   ],
   "source": [
    "show(A_a.echelon_form().simplify_full())"
   ]
  },
  {
   "cell_type": "markdown",
   "metadata": {},
   "source": [
    "Per tal d'evitar __perdre res pel camí dels càlculs__ es pot començar fixant una submatriu quadrada de $A\\_a$ de 4 columnes. Quan el determinant d'aquesta matriu sigui diferent de 0 el seu rang serà 4 i es podrà assegurar que el rang de la matriu $A\\_a$ que la conté també és el màxim possible (4)."
   ]
  },
  {
   "cell_type": "code",
   "execution_count": 7,
   "metadata": {},
   "outputs": [
    {
     "data": {
      "text/html": [
       "<html><script type=\"math/tex; mode=display\">\\newcommand{\\Bold}[1]{\\mathbf{#1}}\\left(\\begin{array}{rrrr}\n",
       "3 & -a - 4 & -a + 3 & 7 \\, a - 10 \\\\\n",
       "a - 1 & 5 \\, a - 7 & -5 \\, a + 7 & 6 \\, a - 9 \\\\\n",
       "-3 & -4 \\, a + 11 & 5 \\, a - 9 & -11 \\, a + 17 \\\\\n",
       "-1 & 2 \\, a - 1 & -a + 1 & -a + 1\n",
       "\\end{array}\\right)</script></html>"
      ],
      "text/plain": [
       "[         3     -a - 4     -a + 3   7*a - 10]\n",
       "[     a - 1    5*a - 7   -5*a + 7    6*a - 9]\n",
       "[        -3  -4*a + 11    5*a - 9 -11*a + 17]\n",
       "[        -1    2*a - 1     -a + 1     -a + 1]"
      ]
     },
     "metadata": {},
     "output_type": "display_data"
    },
    {
     "data": {
      "text/plain": [
       "0"
      ]
     },
     "execution_count": 7,
     "metadata": {},
     "output_type": "execute_result"
    }
   ],
   "source": [
    "Aq=A_a.matrix_from_columns([0..3]) # Triem les quatre primeres columnes\n",
    "show(Aq)\n",
    "Aq.det()"
   ]
  },
  {
   "cell_type": "markdown",
   "metadata": {},
   "source": [
    "Com que el determinant és identicament nul, no ens va bé. \n",
    "Una altra tria pot donar resultats més satisfactoris."
   ]
  },
  {
   "cell_type": "code",
   "execution_count": 8,
   "metadata": {},
   "outputs": [
    {
     "data": {
      "text/html": [
       "<html><script type=\"math/tex; mode=display\">\\newcommand{\\Bold}[1]{\\mathbf{#1}}\\left(\\begin{array}{rrrr}\n",
       "3 & -a - 4 & -a + 3 & 2 \\, a - 7 \\\\\n",
       "a - 1 & 5 \\, a - 7 & -5 \\, a + 7 & -a + 1 \\\\\n",
       "-3 & -4 \\, a + 11 & 5 \\, a - 9 & -2 \\, a + 7 \\\\\n",
       "-1 & 2 \\, a - 1 & -a + 1 & -a + 3\n",
       "\\end{array}\\right)</script></html>"
      ],
      "text/plain": [
       "[        3    -a - 4    -a + 3   2*a - 7]\n",
       "[    a - 1   5*a - 7  -5*a + 7    -a + 1]\n",
       "[       -3 -4*a + 11   5*a - 9  -2*a + 7]\n",
       "[       -1   2*a - 1    -a + 1    -a + 3]"
      ]
     },
     "metadata": {},
     "output_type": "display_data"
    },
    {
     "data": {
      "text/html": [
       "<html><script type=\"math/tex; mode=display\">\\newcommand{\\Bold}[1]{\\mathbf{#1}}-3 \\, a^{4} + 18 \\, a^{3} - 39 \\, a^{2} + 36 \\, a - 12</script></html>"
      ],
      "text/plain": [
       "-3*a^4 + 18*a^3 - 39*a^2 + 36*a - 12"
      ]
     },
     "metadata": {},
     "output_type": "display_data"
    }
   ],
   "source": [
    "Aq=A_a.matrix_from_columns([0..2,4]) #Triem les columnes 0,1,2,4 (eliminant la quarta)\n",
    "show(Aq)\n",
    "dt=Aq.determinant()\n",
    "show(dt)"
   ]
  },
  {
   "cell_type": "code",
   "execution_count": 9,
   "metadata": {},
   "outputs": [
    {
     "data": {
      "text/html": [
       "<html><script type=\"math/tex; mode=display\">\\newcommand{\\Bold}[1]{\\mathbf{#1}}\\left[a = 1, a = 2\\right]</script></html>"
      ],
      "text/plain": [
       "[a == 1, a == 2]"
      ]
     },
     "metadata": {},
     "output_type": "display_data"
    }
   ],
   "source": [
    "casos=solve(dt==0,a)\n",
    "show(casos)"
   ]
  },
  {
   "cell_type": "markdown",
   "metadata": {},
   "source": [
    "Sempre que $a\\ne 1$ i $a\\ne 2$ es pot assegurar que el rang de $Aq$, i per tant de $A\\_a$, és 4. Només queda analitzar els dos casos que quedaran."
   ]
  },
  {
   "cell_type": "code",
   "execution_count": 10,
   "metadata": {},
   "outputs": [
    {
     "data": {
      "text/html": [
       "<html><script type=\"math/tex; mode=display\">\\newcommand{\\Bold}[1]{\\mathbf{#1}}\\left(\\begin{array}{rrrrr}\n",
       "3 & -5 & 2 & -3 & -5 \\\\\n",
       "0 & -2 & 2 & -3 & 0 \\\\\n",
       "-3 & 7 & -4 & 6 & 5 \\\\\n",
       "-1 & 1 & 0 & 0 & 2\n",
       "\\end{array}\\right)</script></html>"
      ],
      "text/plain": [
       "[ 3 -5  2 -3 -5]\n",
       "[ 0 -2  2 -3  0]\n",
       "[-3  7 -4  6  5]\n",
       "[-1  1  0  0  2]"
      ]
     },
     "metadata": {},
     "output_type": "display_data"
    },
    {
     "data": {
      "text/plain": [
       "3"
      ]
     },
     "execution_count": 10,
     "metadata": {},
     "output_type": "execute_result"
    }
   ],
   "source": [
    "show(A_a.subs(a=1))\n",
    "A_a.subs(a=1).rank()"
   ]
  },
  {
   "cell_type": "code",
   "execution_count": 11,
   "metadata": {},
   "outputs": [
    {
     "data": {
      "text/html": [
       "<html><script type=\"math/tex; mode=display\">\\newcommand{\\Bold}[1]{\\mathbf{#1}}\\left(\\begin{array}{rrrrr}\n",
       "3 & -6 & 1 & 4 & -3 \\\\\n",
       "1 & 3 & -3 & 3 & -1 \\\\\n",
       "-3 & 3 & 1 & -5 & 3 \\\\\n",
       "-1 & 3 & -1 & -1 & 1\n",
       "\\end{array}\\right)</script></html>"
      ],
      "text/plain": [
       "[ 3 -6  1  4 -3]\n",
       "[ 1  3 -3  3 -1]\n",
       "[-3  3  1 -5  3]\n",
       "[-1  3 -1 -1  1]"
      ]
     },
     "metadata": {},
     "output_type": "display_data"
    },
    {
     "data": {
      "text/plain": [
       "2"
      ]
     },
     "execution_count": 11,
     "metadata": {},
     "output_type": "execute_result"
    }
   ],
   "source": [
    "show(A_a.subs(a=2))\n",
    "A_a.subs(a=2).rank()"
   ]
  },
  {
   "cell_type": "code",
   "execution_count": 12,
   "metadata": {},
   "outputs": [
    {
     "data": {
      "text/html": [
       "<html><script type=\"math/tex; mode=display\">\\newcommand{\\Bold}[1]{\\mathbf{#1}}\\left(\\begin{array}{rrrrr}\n",
       "1 & 0 & -1 & \\frac{3}{2} & 0 \\\\\n",
       "0 & 1 & -1 & \\frac{3}{2} & 0 \\\\\n",
       "0 & 0 & 0 & 0 & 1 \\\\\n",
       "0 & 0 & 0 & 0 & 0\n",
       "\\end{array}\\right)</script></html>"
      ],
      "text/plain": [
       "[  1   0  -1 3/2   0]\n",
       "[  0   1  -1 3/2   0]\n",
       "[  0   0   0   0   1]\n",
       "[  0   0   0   0   0]"
      ]
     },
     "metadata": {},
     "output_type": "display_data"
    }
   ],
   "source": [
    "show(A_a.subs(a=1).echelon_form())"
   ]
  },
  {
   "cell_type": "code",
   "execution_count": 13,
   "metadata": {},
   "outputs": [
    {
     "data": {
      "text/html": [
       "<html><script type=\"math/tex; mode=display\">\\newcommand{\\Bold}[1]{\\mathbf{#1}}\\left(\\begin{array}{rrrrr}\n",
       "1 & 0 & -1 & 2 & -1 \\\\\n",
       "0 & 1 & -\\frac{2}{3} & \\frac{1}{3} & 0 \\\\\n",
       "0 & 0 & 0 & 0 & 0 \\\\\n",
       "0 & 0 & 0 & 0 & 0\n",
       "\\end{array}\\right)</script></html>"
      ],
      "text/plain": [
       "[   1    0   -1    2   -1]\n",
       "[   0    1 -2/3  1/3    0]\n",
       "[   0    0    0    0    0]\n",
       "[   0    0    0    0    0]"
      ]
     },
     "metadata": {},
     "output_type": "display_data"
    }
   ],
   "source": [
    "show(A_a.subs(a=2).echelon_form())"
   ]
  },
  {
   "cell_type": "markdown",
   "metadata": {},
   "source": [
    "<font color=green>\n",
    "<p>  Considereu els sistemes d'equacions de la forma:\n",
    "    $$\n",
    "    \\left.\n",
    "    \\begin{aligned}\n",
    "   3 \\, x_{1}-{\\left(a + 4\\right)}\\, x_{2} - {\\left(a - 3\\right)}\\, x_{3} + {\\left(7 \\, a - 10\\right)}\\, x_{4} &= 2 \\, a  - 7\n",
    "   \\\\\n",
    "   {\\left(a - 1\\right)}\\, x_{1} + {\\left(5 \\, a - 7\\right)}\\, x_{2} - {\\left(5 \\, a - 7\\right)}\\, x_{3} + 3 \\, {\\left(2 \\, a - 3\\right)}\\, x_{4}&= - a + 1\n",
    "   \\\\\n",
    "   - 3 \\, x_{1}-{\\left(4 \\, a - 11\\right)}\\, x_{2} + {\\left(5 \\, a - 9\\right)}\\, x_{3} - {\\left(11 \\, a - 17\\right)}\\, x_{4}&= - 2 \\, a  + 7\n",
    "   \\\\\n",
    "   - x_{1}+{\\left(2 \\, a - 1\\right)}\\, x_{2} - {\\left(a - 1\\right)} \\,x_{3} - {\\left(a - 1\\right)}\\, x_{4}&= - a  + 3\n",
    "    \\end{aligned}\n",
    "    \\right\\}\n",
    "    $$\n",
    "(on $a$ és un paràmetre real).\n",
    "</p>\n",
    "<p>\n",
    "<ul>\n",
    "    <li>Determineu en quins casos el sistema és compatible.</li>\n",
    "    <li>Quins casos corresponen a sistemes determinats i quins a indeterminats?</li>\n",
    "    <li>Quina és la dimensió de l'espai dels vectors $(x_1,x_2,x_3,x_4)$ que són solucions del sistema?</li>\n",
    "</ul>\n",
    "</p>\n",
    "</font>"
   ]
  },
  {
   "cell_type": "code",
   "execution_count": null,
   "metadata": {},
   "outputs": [],
   "source": []
  },
  {
   "cell_type": "code",
   "execution_count": null,
   "metadata": {},
   "outputs": [],
   "source": []
  },
  {
   "cell_type": "code",
   "execution_count": null,
   "metadata": {},
   "outputs": [],
   "source": []
  },
  {
   "cell_type": "code",
   "execution_count": null,
   "metadata": {},
   "outputs": [],
   "source": []
  },
  {
   "cell_type": "code",
   "execution_count": null,
   "metadata": {},
   "outputs": [],
   "source": []
  },
  {
   "cell_type": "markdown",
   "metadata": {},
   "source": [
    "<font color=green> \n",
    "<p>    Resoleu, segons els valors del paràmetre $a\\in\\mathbb{R}$ els\n",
    "sistemes següents:\n",
    "\n",
    "$$\n",
    "\\left. \\begin{aligned} x+a^2y+z=&\\,a\\\\ x+ay+az=&\\,1\\\\\n",
    " ax+ay+z=&\\,1\n",
    "\\end{aligned}\n",
    "\\right\\} \\qquad\n",
    "\\left. \\begin{aligned} -x+y+2z+3t=&\\,a\\\\ 2x+ay+at=&\\,0\\\\\n",
    " ax+2y-2z=&\\,-a\n",
    "\\end{aligned}\n",
    "\\right\\}\\qquad\n",
    "\\left. \\begin{aligned} -2y+3z=&\\,1\\\\ x+y-z=&\\,0\\\\\n",
    " -3x+y+az=&\\,1\n",
    "\\end{aligned}\n",
    "\\right\\} $$\n",
    "<fp>"
   ]
  },
  {
   "cell_type": "code",
   "execution_count": null,
   "metadata": {},
   "outputs": [],
   "source": []
  }
 ],
 "metadata": {
  "kernelspec": {
   "display_name": "SageMath 8.5",
   "language": "",
   "name": "sagemath"
  },
  "language_info": {
   "codemirror_mode": {
    "name": "ipython",
    "version": 2
   },
   "file_extension": ".py",
   "mimetype": "text/x-python",
   "name": "python",
   "nbconvert_exporter": "python",
   "pygments_lexer": "ipython2",
   "version": "2.7.15"
  }
 },
 "nbformat": 4,
 "nbformat_minor": 1
}
