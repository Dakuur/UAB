{
 "cells": [
  {
   "cell_type": "markdown",
   "metadata": {},
   "source": [
    "# Espais Vectorials i bases "
   ]
  },
  {
   "cell_type": "markdown",
   "metadata": {},
   "source": [
    "# <font color=blue>Consideracions inicials</font>\n",
    "Per tal de treballar amb _vectors_ amb **<font color=blue>SAGEMATH</font>** cal introduir els objectes amb la instrucció <font color=blue>vector( )</font> així el programa pot reaccionar _correctament_ a les manipulacions que es vulguin fer amb aquest tipus d'objectes. Si proveu les intruccions que apreixen a continuació veureu com **<font color=blue>SAGEMATH</font>** sap que s'està treballant amb vectors d'un espai vectorial i realitza correctament les operacions bàsiques."
   ]
  },
  {
   "cell_type": "code",
   "execution_count": 1,
   "metadata": {},
   "outputs": [
    {
     "data": {
      "text/html": [
       "<html><script type=\"math/tex; mode=display\">\\newcommand{\\Bold}[1]{\\mathbf{#1}}\\left(1,\\,0,\\,2,\\,-1,\\,2\\right)</script></html>"
      ],
      "text/plain": [
       "(1, 0, 2, -1, 2)"
      ]
     },
     "metadata": {},
     "output_type": "display_data"
    },
    {
     "data": {
      "text/html": [
       "<html><script type=\"math/tex; mode=display\">\\newcommand{\\Bold}[1]{\\mathbf{#1}}\\left(0,\\,-1,\\,1,\\,2,\\,1\\right)</script></html>"
      ],
      "text/plain": [
       "(0, -1, 1, 2, 1)"
      ]
     },
     "metadata": {},
     "output_type": "display_data"
    },
    {
     "name": "stdout",
     "output_type": "stream",
     "text": [
      "(1, 0, 2, -1, 2) és un element de: Vector space of dimension 5 over Rational Field\n"
     ]
    },
    {
     "data": {
      "text/html": [
       "<html><script type=\"math/tex; mode=display\">\\newcommand{\\Bold}[1]{\\mathbf{#1}}\\Bold{Q}^{5}</script></html>"
      ],
      "text/plain": [
       "Vector space of dimension 5 over Rational Field"
      ]
     },
     "metadata": {},
     "output_type": "display_data"
    }
   ],
   "source": [
    "v=vector(QQ,[1,0,2,-1,2]) # és convenient especificar que cal entendre \n",
    "w=vector(QQ,[0,-1,1,2,1]) # tots els coeficients com a racionals\n",
    "                          # altrament poden aparèixer resultats inesperats\n",
    "show(v)\n",
    "show(w)\n",
    "print v ,\"és un element de:\", v.parent()\n",
    "show(v.parent())"
   ]
  },
  {
   "cell_type": "code",
   "execution_count": 2,
   "metadata": {},
   "outputs": [
    {
     "data": {
      "text/plain": [
       "(1, -1, 3, 1, 3)"
      ]
     },
     "execution_count": 2,
     "metadata": {},
     "output_type": "execute_result"
    }
   ],
   "source": [
    "v+w"
   ]
  },
  {
   "cell_type": "code",
   "execution_count": 3,
   "metadata": {},
   "outputs": [
    {
     "data": {
      "text/plain": [
       "(2, 0, 4, -2, 4)"
      ]
     },
     "execution_count": 3,
     "metadata": {},
     "output_type": "execute_result"
    }
   ],
   "source": [
    "2*v"
   ]
  },
  {
   "cell_type": "code",
   "execution_count": 4,
   "metadata": {},
   "outputs": [
    {
     "data": {
      "text/plain": [
       "(0, 1, -1, -2, -1)"
      ]
     },
     "execution_count": 4,
     "metadata": {},
     "output_type": "execute_result"
    }
   ],
   "source": [
    "-w"
   ]
  },
  {
   "cell_type": "code",
   "execution_count": 5,
   "metadata": {},
   "outputs": [
    {
     "data": {
      "text/plain": [
       "(2, 3, 1, -8, 1)"
      ]
     },
     "execution_count": 5,
     "metadata": {},
     "output_type": "execute_result"
    }
   ],
   "source": [
    "2*v-3*w"
   ]
  },
  {
   "cell_type": "markdown",
   "metadata": {},
   "source": [
    "<font color=red>**Nota important:**</font> Observeu que els vectors es representen com a **_files_**. Això no és cap inconvenient ni necessita manipulacions especials quan es volen fer multiplicacions per matrius ja que el programa tindrà en compte com cal interpretar cada objecte segons quina operació es plantegi (si és que té sentit).\n",
    "\n",
    "Observeu també que es poden construir matrius posant vectors en una llista. "
   ]
  },
  {
   "cell_type": "code",
   "execution_count": 6,
   "metadata": {},
   "outputs": [
    {
     "data": {
      "text/html": [
       "<html><script type=\"math/tex; mode=display\">\\newcommand{\\Bold}[1]{\\mathbf{#1}}\\left(\\begin{array}{rr}\n",
       "1 & 0 \\\\\n",
       "0 & -1 \\\\\n",
       "2 & 1 \\\\\n",
       "-1 & 2 \\\\\n",
       "2 & 1\n",
       "\\end{array}\\right)</script></html>"
      ],
      "text/plain": [
       "[ 1  0]\n",
       "[ 0 -1]\n",
       "[ 2  1]\n",
       "[-1  2]\n",
       "[ 2  1]"
      ]
     },
     "metadata": {},
     "output_type": "display_data"
    },
    {
     "data": {
      "text/html": [
       "<html><script type=\"math/tex; mode=display\">\\newcommand{\\Bold}[1]{\\mathbf{#1}}\\left(a,\\,b\\right)</script></html>"
      ],
      "text/plain": [
       "(a, b)"
      ]
     },
     "metadata": {},
     "output_type": "display_data"
    },
    {
     "data": {
      "text/html": [
       "<html><script type=\"math/tex; mode=display\">\\newcommand{\\Bold}[1]{\\mathbf{#1}}\\left(a,\\,-b,\\,2 \\, a + b,\\,-a + 2 \\, b,\\,2 \\, a + b\\right)</script></html>"
      ],
      "text/plain": [
       "(a, -b, 2*a + b, -a + 2*b, 2*a + b)"
      ]
     },
     "metadata": {},
     "output_type": "display_data"
    },
    {
     "data": {
      "text/html": [
       "<html><script type=\"math/tex; mode=display\">\\newcommand{\\Bold}[1]{\\mathbf{#1}}\\left(\\begin{array}{rrr}\n",
       "1 & 2 & 3 \\\\\n",
       "3 & 2 & 1\n",
       "\\end{array}\\right)</script></html>"
      ],
      "text/plain": [
       "[1 2 3]\n",
       "[3 2 1]"
      ]
     },
     "metadata": {},
     "output_type": "display_data"
    },
    {
     "data": {
      "text/html": [
       "<html><script type=\"math/tex; mode=display\">\\newcommand{\\Bold}[1]{\\mathbf{#1}}\\left(a + 3 \\, b,\\,2 \\, a + 2 \\, b,\\,3 \\, a + b\\right)</script></html>"
      ],
      "text/plain": [
       "(a + 3*b, 2*a + 2*b, 3*a + b)"
      ]
     },
     "metadata": {},
     "output_type": "display_data"
    }
   ],
   "source": [
    "A=matrix(QQ,[v,w]).transpose()\n",
    "show(A)\n",
    "var('a b')\n",
    "e=vector([a,b])\n",
    "show(e)\n",
    "show(A*e)\n",
    "B=matrix(QQ,2,3,[1,2,3,3,2,1])\n",
    "show(B)\n",
    "show(e*B)"
   ]
  },
  {
   "cell_type": "code",
   "execution_count": 7,
   "metadata": {},
   "outputs": [],
   "source": [
    "# B*e  aquesta operació no té sentit. v només té 2 coeficients i en calen 3"
   ]
  },
  {
   "cell_type": "markdown",
   "metadata": {},
   "source": [
    "**Base d'un espai generat per una llista de vectors**\n",
    "\n",
    "Si volem trobar una base del espai generat per una llista de vectors, podem posar-los en una matriu, trobar la forma esglaonada reduïda i considerar les files no nul·les. La base obtinguda s'anomena la base de Gauss-Jordan (o també base canònica)."
   ]
  },
  {
   "cell_type": "code",
   "execution_count": 7,
   "metadata": {},
   "outputs": [],
   "source": [
    "A=matrix(QQ,[[1,2,1],[2,0,1],[-1,2,0],[3,2,2]])"
   ]
  },
  {
   "cell_type": "code",
   "execution_count": 8,
   "metadata": {},
   "outputs": [
    {
     "data": {
      "text/html": [
       "<html><script type=\"math/tex; mode=display\">\\newcommand{\\Bold}[1]{\\mathbf{#1}}\\left(\\begin{array}{rrr}\n",
       "1 & 0 & \\frac{1}{2} \\\\\n",
       "0 & 1 & \\frac{1}{4} \\\\\n",
       "0 & 0 & 0 \\\\\n",
       "0 & 0 & 0\n",
       "\\end{array}\\right)</script></html>"
      ],
      "text/plain": [
       "[  1   0 1/2]\n",
       "[  0   1 1/4]\n",
       "[  0   0   0]\n",
       "[  0   0   0]"
      ]
     },
     "metadata": {},
     "output_type": "display_data"
    }
   ],
   "source": [
    "R=A.rref()\n",
    "show(R)"
   ]
  },
  {
   "cell_type": "code",
   "execution_count": 9,
   "metadata": {},
   "outputs": [
    {
     "data": {
      "text/html": [
       "<html><script type=\"math/tex; mode=display\">\\newcommand{\\Bold}[1]{\\mathbf{#1}}\\left[\\left(1,\\,0,\\,\\frac{1}{2}\\right), \\left(0,\\,1,\\,\\frac{1}{4}\\right)\\right]</script></html>"
      ],
      "text/plain": [
       "[(1, 0, 1/2), (0, 1, 1/4)]"
      ]
     },
     "metadata": {},
     "output_type": "display_data"
    }
   ],
   "source": [
    "show([R[i] for i in [0..1]])"
   ]
  },
  {
   "cell_type": "markdown",
   "metadata": {},
   "source": [
    "**Espai generat per una família de vectors:**\n",
    "\n",
    "Si es vol treballar amb l'espai vectorial generat per uns quants vectors, la instrucció que construeix el subespai vectorial corresponent és <font color=blue>span( )</font>. Un cop definit un espai vectorial d'aquesta manera es pot comprovar directament si un vector en forma pert o no."
   ]
  },
  {
   "cell_type": "code",
   "execution_count": 10,
   "metadata": {},
   "outputs": [],
   "source": [
    "V=span(QQ,[[1,2,1],[2,0,1],[-1,2,0],[3,2,2]])"
   ]
  },
  {
   "cell_type": "code",
   "execution_count": 11,
   "metadata": {},
   "outputs": [
    {
     "data": {
      "text/html": [
       "<html><script type=\"math/tex; mode=display\">\\newcommand{\\Bold}[1]{\\mathbf{#1}}\\mathrm{RowSpan}_{\\Bold{Q}}\\left(\\begin{array}{rrr}\n",
       "1 & 0 & \\frac{1}{2} \\\\\n",
       "0 & 1 & \\frac{1}{4}\n",
       "\\end{array}\\right)</script></html>"
      ],
      "text/plain": [
       "Vector space of degree 3 and dimension 2 over Rational Field\n",
       "Basis matrix:\n",
       "[  1   0 1/2]\n",
       "[  0   1 1/4]"
      ]
     },
     "metadata": {},
     "output_type": "display_data"
    }
   ],
   "source": [
    "show(V) # En el moment de definir V ja es calcula la base anterior. "
   ]
  },
  {
   "cell_type": "code",
   "execution_count": 19,
   "metadata": {},
   "outputs": [
    {
     "data": {
      "text/plain": [
       "[\n",
       "(1, 0, 1/2),\n",
       "(0, 1, 1/4)\n",
       "]"
      ]
     },
     "execution_count": 19,
     "metadata": {},
     "output_type": "execute_result"
    }
   ],
   "source": [
    "V.basis()"
   ]
  },
  {
   "cell_type": "code",
   "execution_count": 14,
   "metadata": {},
   "outputs": [
    {
     "data": {
      "text/html": [
       "<html><script type=\"math/tex; mode=display\">\\newcommand{\\Bold}[1]{\\mathbf{#1}}\\mathrm{RowSpan}_{\\Bold{Z}}\\left(\\begin{array}{rrr}\n",
       "1 & 2 & 1 \\\\\n",
       "0 & 4 & 1\n",
       "\\end{array}\\right)</script></html>"
      ],
      "text/plain": [
       "Free module of degree 3 and rank 2 over Integer Ring\n",
       "Echelon basis matrix:\n",
       "[1 2 1]\n",
       "[0 4 1]"
      ]
     },
     "metadata": {},
     "output_type": "display_data"
    }
   ],
   "source": [
    "show(span(ZZ,[[1,2,1],[2,0,1],[-1,2,0],[3,2,2]]))"
   ]
  },
  {
   "cell_type": "code",
   "execution_count": 15,
   "metadata": {},
   "outputs": [
    {
     "data": {
      "text/html": [
       "<html><script type=\"math/tex; mode=display\">\\newcommand{\\Bold}[1]{\\mathbf{#1}}\\left(1,\\,2,\\,3\\right)</script></html>"
      ],
      "text/plain": [
       "(1, 2, 3)"
      ]
     },
     "metadata": {},
     "output_type": "display_data"
    }
   ],
   "source": [
    "v=vector([1,2,3])\n",
    "show(v)"
   ]
  },
  {
   "cell_type": "code",
   "execution_count": 16,
   "metadata": {},
   "outputs": [
    {
     "data": {
      "text/plain": [
       "False"
      ]
     },
     "execution_count": 16,
     "metadata": {},
     "output_type": "execute_result"
    }
   ],
   "source": [
    "v in V"
   ]
  },
  {
   "cell_type": "code",
   "execution_count": 17,
   "metadata": {},
   "outputs": [],
   "source": [
    "w=vector([20,-4,9])"
   ]
  },
  {
   "cell_type": "code",
   "execution_count": 18,
   "metadata": {},
   "outputs": [
    {
     "data": {
      "text/plain": [
       "True"
      ]
     },
     "execution_count": 18,
     "metadata": {},
     "output_type": "execute_result"
    }
   ],
   "source": [
    "w in V"
   ]
  },
  {
   "cell_type": "markdown",
   "metadata": {},
   "source": [
    "**Solucions d'un sistema d'equacions homogeni:**\n",
    "\n",
    "Alternativament, també es pot determinar un (sub)espai vectorial com la solució d'un cert sistema d'equacions lineals.\n",
    "Utilitzant la matriu del sistema podem obtenir fàcilment, com objecte de tipus _espai vectorial_, l'espai vectorial corresponent. A continuació hi ha un exemple simple."
   ]
  },
  {
   "cell_type": "code",
   "execution_count": 20,
   "metadata": {},
   "outputs": [
    {
     "data": {
      "text/html": [
       "<html><script type=\"math/tex; mode=display\">\\newcommand{\\Bold}[1]{\\mathbf{#1}}\\left(\\begin{array}{rrrr}\n",
       "1 & -1 & 0 & 1 \\\\\n",
       "1 & 1 & 1 & 1\n",
       "\\end{array}\\right)</script></html>"
      ],
      "text/plain": [
       "[ 1 -1  0  1]\n",
       "[ 1  1  1  1]"
      ]
     },
     "metadata": {},
     "output_type": "display_data"
    }
   ],
   "source": [
    "var('y z t')\n",
    "equacions=[\n",
    "    x-y+t==0,\n",
    "    x+y+z+t==0\n",
    "]\n",
    "# show(equacions)\n",
    "coeficients=[\n",
    "    [\n",
    "        eq.lhs().coefficient(vv)\n",
    "        for vv in [x,y,z,t]\n",
    "    ]\n",
    "    for eq in equacions\n",
    "]\n",
    "# show(coeficients)\n",
    "A=matrix(QQ,coeficients)\n",
    "show(A)"
   ]
  },
  {
   "cell_type": "code",
   "execution_count": 22,
   "metadata": {},
   "outputs": [
    {
     "data": {
      "text/html": [
       "<html><script type=\"math/tex; mode=display\">\\newcommand{\\Bold}[1]{\\mathbf{#1}}\\mathrm{RowSpan}_{\\Bold{Q}}\\left(\\begin{array}{rrrr}\n",
       "1 & 0 & 0 & -1 \\\\\n",
       "0 & 1 & -2 & 1\n",
       "\\end{array}\\right)</script></html>"
      ],
      "text/plain": [
       "Vector space of degree 4 and dimension 2 over Rational Field\n",
       "Basis matrix:\n",
       "[ 1  0  0 -1]\n",
       "[ 0  1 -2  1]"
      ]
     },
     "metadata": {},
     "output_type": "display_data"
    },
    {
     "data": {
      "text/plain": [
       "Vector space of degree 4 and dimension 2 over Rational Field\n",
       "Basis matrix:\n",
       "[ 1  0  0 -1]\n",
       "[ 0  1 -2  1]"
      ]
     },
     "execution_count": 22,
     "metadata": {},
     "output_type": "execute_result"
    }
   ],
   "source": [
    "W=A.right_kernel()\n",
    "show(W)\n",
    "W"
   ]
  },
  {
   "cell_type": "code",
   "execution_count": 23,
   "metadata": {},
   "outputs": [
    {
     "data": {
      "text/html": [
       "<html><script type=\"math/tex; mode=display\">\\newcommand{\\Bold}[1]{\\mathbf{#1}}\\left[\\left(1,\\,0,\\,0,\\,-1\\right), \\left(0,\\,1,\\,-2,\\,1\\right)\\right]</script></html>"
      ],
      "text/plain": [
       "[\n",
       "(1, 0, 0, -1),\n",
       "(0, 1, -2, 1)\n",
       "]"
      ]
     },
     "metadata": {},
     "output_type": "display_data"
    }
   ],
   "source": [
    "G=W.basis() # basis() dona una família independent de generadors de l'espai\n",
    "show(G)     # "
   ]
  },
  {
   "cell_type": "code",
   "execution_count": 24,
   "metadata": {},
   "outputs": [
    {
     "data": {
      "text/html": [
       "<html><script type=\"math/tex; mode=display\">\\newcommand{\\Bold}[1]{\\mathbf{#1}}\\left(0,\\,0\\right)</script></html>"
      ],
      "text/plain": [
       "(0, 0)"
      ]
     },
     "metadata": {},
     "output_type": "display_data"
    },
    {
     "data": {
      "text/html": [
       "<html><script type=\"math/tex; mode=display\">\\newcommand{\\Bold}[1]{\\mathbf{#1}}\\left(0,\\,0\\right)</script></html>"
      ],
      "text/plain": [
       "(0, 0)"
      ]
     },
     "metadata": {},
     "output_type": "display_data"
    }
   ],
   "source": [
    "show(A*G[0]) # Les multiplicacions permeten comprovar que els dos vectors \n",
    "show(A*G[1]) # de la llista G són de l'espai vectorial que s'està considerant"
   ]
  },
  {
   "cell_type": "markdown",
   "metadata": {},
   "source": [
    "**Bases alternatives de espais vectorials**\n",
    "\n",
    "Si voleu donar un subespai vectorial V en una base que no sigui la base de Gauss-Jordan ho podeu fer amb la instrucció V.subspace_with_basis(). "
   ]
  },
  {
   "cell_type": "code",
   "execution_count": 25,
   "metadata": {},
   "outputs": [
    {
     "data": {
      "text/html": [
       "<html><script type=\"math/tex; mode=display\">\\newcommand{\\Bold}[1]{\\mathbf{#1}}\\left(1,\\,2,\\,3\\right)</script></html>"
      ],
      "text/plain": [
       "(1, 2, 3)"
      ]
     },
     "metadata": {},
     "output_type": "display_data"
    }
   ],
   "source": [
    "show(v)\n",
    "Ev=(QQ^3).subspace_with_basis([v,w])\n",
    "E=span(QQ,[v,w])"
   ]
  },
  {
   "cell_type": "code",
   "execution_count": 26,
   "metadata": {},
   "outputs": [
    {
     "data": {
      "text/html": [
       "<html><script type=\"math/tex; mode=display\">\\newcommand{\\Bold}[1]{\\mathbf{#1}}\\mathrm{RowSpan}_{\\Bold{Q}}\\left(\\begin{array}{rrr}\n",
       "1 & 2 & 3 \\\\\n",
       "20 & -4 & 9\n",
       "\\end{array}\\right)</script></html>"
      ],
      "text/plain": [
       "Vector space of degree 3 and dimension 2 over Rational Field\n",
       "User basis matrix:\n",
       "[ 1  2  3]\n",
       "[20 -4  9]"
      ]
     },
     "metadata": {},
     "output_type": "display_data"
    },
    {
     "data": {
      "text/html": [
       "<html><script type=\"math/tex; mode=display\">\\newcommand{\\Bold}[1]{\\mathbf{#1}}\\mathrm{RowSpan}_{\\Bold{Q}}\\left(\\begin{array}{rrr}\n",
       "1 & 0 & \\frac{15}{22} \\\\\n",
       "0 & 1 & \\frac{51}{44}\n",
       "\\end{array}\\right)</script></html>"
      ],
      "text/plain": [
       "Vector space of degree 3 and dimension 2 over Rational Field\n",
       "Basis matrix:\n",
       "[    1     0 15/22]\n",
       "[    0     1 51/44]"
      ]
     },
     "metadata": {},
     "output_type": "display_data"
    }
   ],
   "source": [
    "show(Ev)\n",
    "show(E)"
   ]
  },
  {
   "cell_type": "code",
   "execution_count": 27,
   "metadata": {},
   "outputs": [
    {
     "data": {
      "text/plain": [
       "True"
      ]
     },
     "execution_count": 27,
     "metadata": {},
     "output_type": "execute_result"
    }
   ],
   "source": [
    "Ev==E"
   ]
  },
  {
   "cell_type": "markdown",
   "metadata": {},
   "source": [
    "La utilitat principal és que ens permet trobar les coordenades d'un vector respecte la base donada"
   ]
  },
  {
   "cell_type": "code",
   "execution_count": 28,
   "metadata": {},
   "outputs": [],
   "source": [
    "u=vector([10,-24,-21])"
   ]
  },
  {
   "cell_type": "code",
   "execution_count": 29,
   "metadata": {},
   "outputs": [
    {
     "data": {
      "text/plain": [
       "[10, -24]"
      ]
     },
     "execution_count": 29,
     "metadata": {},
     "output_type": "execute_result"
    }
   ],
   "source": [
    "E.coordinates(u)"
   ]
  },
  {
   "cell_type": "code",
   "execution_count": 30,
   "metadata": {},
   "outputs": [
    {
     "data": {
      "text/plain": [
       "[-10, 1]"
      ]
     },
     "execution_count": 30,
     "metadata": {},
     "output_type": "execute_result"
    }
   ],
   "source": [
    "Ev.coordinates(u)"
   ]
  },
  {
   "cell_type": "markdown",
   "metadata": {},
   "source": [
    "$\\rule{15cm}{3pt}$"
   ]
  },
  {
   "cell_type": "markdown",
   "metadata": {},
   "source": [
    "# <font color=green>Exercicis</font>"
   ]
  },
  {
   "cell_type": "markdown",
   "metadata": {},
   "source": [
    "$\\rule{15cm}{3pt}$"
   ]
  },
  {
   "cell_type": "markdown",
   "metadata": {},
   "source": [
    "<font color=green>\n",
    "    Comproveu si els vectors\n",
    "</font>"
   ]
  },
  {
   "cell_type": "markdown",
   "metadata": {},
   "source": [
    "<font color=green>\n",
    "$$\n",
    "    \\begin{aligned}\n",
    "    \\vec{v}_1 &= \\left(-1,\\,-1,\\,0,\\,1\\right)\\\\\n",
    "    \\vec{v}_2 &= \\left(1,\\,-3,\\,-4,\\,11\\right) \\\\\n",
    "    \\vec{v}_3 &= \\left(1,\\,-1,\\,-2,\\,5\\right) \\\\\n",
    "    \\vec{v}_4 &= \\left(0,\\,1,\\,1,\\,-3\\right)\n",
    "    \\end{aligned}\n",
    "    $$\n",
    "</font>"
   ]
  },
  {
   "cell_type": "markdown",
   "metadata": {},
   "source": [
    "<font color=green>\n",
    "són linealment independents entre si o no. Com que resulta que no ho són, expresseu cada un d'ells com una combinació lineal dels altres si és possible. \n",
    "</font>"
   ]
  },
  {
   "cell_type": "code",
   "execution_count": 42,
   "metadata": {},
   "outputs": [
    {
     "data": {
      "text/html": [
       "<html><script type=\"math/tex; mode=display\">\\newcommand{\\Bold}[1]{\\mathbf{#1}}\\mathrm{RowSpan}_{\\Bold{Q}}\\left(\\begin{array}{rrrr}\n",
       "1 & 0 & -1 & 2 \\\\\n",
       "0 & 1 & 1 & -3\n",
       "\\end{array}\\right)</script></html>"
      ],
      "text/plain": [
       "Vector space of degree 4 and dimension 2 over Rational Field\n",
       "Basis matrix:\n",
       "[ 1  0 -1  2]\n",
       "[ 0  1  1 -3]"
      ]
     },
     "metadata": {},
     "output_type": "display_data"
    }
   ],
   "source": [
    "v1=vector(QQ,[-1,-1,0,1])\n",
    "v2=vector(QQ,[1,-3,-4,11])\n",
    "v3=vector(QQ,[1,-1,-2,5])\n",
    "v4=vector(QQ,[0,1,1,-3])\n",
    "V=span(QQ,[v1,v2,v3,v4])\n",
    "show(V)"
   ]
  },
  {
   "cell_type": "code",
   "execution_count": 43,
   "metadata": {},
   "outputs": [
    {
     "data": {
      "text/html": [
       "<html><script type=\"math/tex; mode=display\">\\newcommand{\\Bold}[1]{\\mathbf{#1}}\\mathrm{RowSpan}_{\\Bold{Q}}\\left(\\begin{array}{rrrr}\n",
       "-1 & -1 & 0 & 1 \\\\\n",
       "1 & -3 & -4 & 11\n",
       "\\end{array}\\right)</script></html>"
      ],
      "text/plain": [
       "Vector space of degree 4 and dimension 2 over Rational Field\n",
       "User basis matrix:\n",
       "[-1 -1  0  1]\n",
       "[ 1 -3 -4 11]"
      ]
     },
     "metadata": {},
     "output_type": "display_data"
    }
   ],
   "source": [
    "E=(QQ^4).subspace_with_basis([v1,v2])\n",
    "show(E)"
   ]
  },
  {
   "cell_type": "code",
   "execution_count": 44,
   "metadata": {},
   "outputs": [
    {
     "data": {
      "text/plain": [
       "[-1/2, 1/2]"
      ]
     },
     "execution_count": 44,
     "metadata": {},
     "output_type": "execute_result"
    }
   ],
   "source": [
    "E.coordinates(v3)"
   ]
  },
  {
   "cell_type": "code",
   "execution_count": 45,
   "metadata": {},
   "outputs": [
    {
     "data": {
      "text/plain": [
       "True"
      ]
     },
     "execution_count": 45,
     "metadata": {},
     "output_type": "execute_result"
    }
   ],
   "source": [
    "(-1/2)*v1+(1/2)*v2==v3"
   ]
  },
  {
   "cell_type": "code",
   "execution_count": 46,
   "metadata": {},
   "outputs": [],
   "source": [
    "v1=vector(QQ,[-1,-1,0,1])\n",
    "v2=vector(QQ,[1,-3,-4,11])\n",
    "v3=vector(QQ,[1,-1,-2,3])\n",
    "v4=v1+v3\n",
    "V=span(QQ,[v1,v2,v3,v4])"
   ]
  },
  {
   "cell_type": "code",
   "execution_count": 47,
   "metadata": {},
   "outputs": [
    {
     "data": {
      "text/html": [
       "<html><script type=\"math/tex; mode=display\">\\newcommand{\\Bold}[1]{\\mathbf{#1}}\\mathrm{RowSpan}_{\\Bold{Q}}\\left(\\begin{array}{rrrr}\n",
       "1 & 0 & -1 & 0 \\\\\n",
       "0 & 1 & 1 & 0 \\\\\n",
       "0 & 0 & 0 & 1\n",
       "\\end{array}\\right)</script></html>"
      ],
      "text/plain": [
       "Vector space of degree 4 and dimension 3 over Rational Field\n",
       "Basis matrix:\n",
       "[ 1  0 -1  0]\n",
       "[ 0  1  1  0]\n",
       "[ 0  0  0  1]"
      ]
     },
     "metadata": {},
     "output_type": "display_data"
    }
   ],
   "source": [
    "show(V)"
   ]
  },
  {
   "cell_type": "code",
   "execution_count": 48,
   "metadata": {},
   "outputs": [
    {
     "ename": "ValueError",
     "evalue": "The given basis vectors must be linearly independent.",
     "output_type": "error",
     "traceback": [
      "\u001b[0;31m---------------------------------------------------------------------------\u001b[0m",
      "\u001b[0;31mValueError\u001b[0m                                Traceback (most recent call last)",
      "\u001b[0;32m<ipython-input-48-2845d2c1f6f3>\u001b[0m in \u001b[0;36m<module>\u001b[0;34m()\u001b[0m\n\u001b[0;32m----> 1\u001b[0;31m \u001b[0mEv\u001b[0m\u001b[0;34m=\u001b[0m\u001b[0;34m(\u001b[0m\u001b[0mQQ\u001b[0m\u001b[0;34m**\u001b[0m\u001b[0mInteger\u001b[0m\u001b[0;34m(\u001b[0m\u001b[0;36m4\u001b[0m\u001b[0;34m)\u001b[0m\u001b[0;34m)\u001b[0m\u001b[0;34m.\u001b[0m\u001b[0msubspace_with_basis\u001b[0m\u001b[0;34m(\u001b[0m\u001b[0;34m[\u001b[0m\u001b[0mv1\u001b[0m\u001b[0;34m,\u001b[0m\u001b[0mv3\u001b[0m\u001b[0;34m,\u001b[0m\u001b[0mv4\u001b[0m\u001b[0;34m]\u001b[0m\u001b[0;34m)\u001b[0m\u001b[0;34m\u001b[0m\u001b[0m\n\u001b[0m",
      "\u001b[0;32m/opt/sagemath-8.6/local/lib/python2.7/site-packages/sage/modules/free_module.pyc\u001b[0m in \u001b[0;36msubspace_with_basis\u001b[0;34m(self, gens, check, already_echelonized)\u001b[0m\n\u001b[1;32m   4050\u001b[0m             \u001b[0mTrue\u001b[0m\u001b[0;34m\u001b[0m\u001b[0m\n\u001b[1;32m   4051\u001b[0m         \"\"\"\n\u001b[0;32m-> 4052\u001b[0;31m         \u001b[0;32mreturn\u001b[0m \u001b[0mself\u001b[0m\u001b[0;34m.\u001b[0m\u001b[0msubmodule_with_basis\u001b[0m\u001b[0;34m(\u001b[0m\u001b[0mgens\u001b[0m\u001b[0;34m,\u001b[0m \u001b[0mcheck\u001b[0m\u001b[0;34m=\u001b[0m\u001b[0mcheck\u001b[0m\u001b[0;34m,\u001b[0m \u001b[0malready_echelonized\u001b[0m\u001b[0;34m=\u001b[0m\u001b[0malready_echelonized\u001b[0m\u001b[0;34m)\u001b[0m\u001b[0;34m\u001b[0m\u001b[0m\n\u001b[0m\u001b[1;32m   4053\u001b[0m \u001b[0;34m\u001b[0m\u001b[0m\n\u001b[1;32m   4054\u001b[0m     \u001b[0;32mdef\u001b[0m \u001b[0mcomplement\u001b[0m\u001b[0;34m(\u001b[0m\u001b[0mself\u001b[0m\u001b[0;34m)\u001b[0m\u001b[0;34m:\u001b[0m\u001b[0;34m\u001b[0m\u001b[0m\n",
      "\u001b[0;32m/opt/sagemath-8.6/local/lib/python2.7/site-packages/sage/modules/free_module.pyc\u001b[0m in \u001b[0;36msubmodule_with_basis\u001b[0;34m(self, basis, check, already_echelonized)\u001b[0m\n\u001b[1;32m   3373\u001b[0m             \u001b[0;34m[\u001b[0m \u001b[0;36m2\u001b[0m  \u001b[0;36m0\u001b[0m \u001b[0;34m-\u001b[0m\u001b[0mx\u001b[0m\u001b[0;34m]\u001b[0m\u001b[0;34m\u001b[0m\u001b[0m\n\u001b[1;32m   3374\u001b[0m         \"\"\"\n\u001b[0;32m-> 3375\u001b[0;31m         \u001b[0mV\u001b[0m \u001b[0;34m=\u001b[0m \u001b[0mself\u001b[0m\u001b[0;34m.\u001b[0m\u001b[0mspan_of_basis\u001b[0m\u001b[0;34m(\u001b[0m\u001b[0mbasis\u001b[0m\u001b[0;34m=\u001b[0m\u001b[0mbasis\u001b[0m\u001b[0;34m,\u001b[0m \u001b[0mcheck\u001b[0m\u001b[0;34m=\u001b[0m\u001b[0mcheck\u001b[0m\u001b[0;34m,\u001b[0m \u001b[0malready_echelonized\u001b[0m\u001b[0;34m=\u001b[0m\u001b[0malready_echelonized\u001b[0m\u001b[0;34m)\u001b[0m\u001b[0;34m\u001b[0m\u001b[0m\n\u001b[0m\u001b[1;32m   3376\u001b[0m         \u001b[0;32mif\u001b[0m \u001b[0mcheck\u001b[0m\u001b[0;34m:\u001b[0m\u001b[0;34m\u001b[0m\u001b[0m\n\u001b[1;32m   3377\u001b[0m             \u001b[0;32mif\u001b[0m \u001b[0;32mnot\u001b[0m \u001b[0mV\u001b[0m\u001b[0;34m.\u001b[0m\u001b[0mis_submodule\u001b[0m\u001b[0;34m(\u001b[0m\u001b[0mself\u001b[0m\u001b[0;34m)\u001b[0m\u001b[0;34m:\u001b[0m\u001b[0;34m\u001b[0m\u001b[0m\n",
      "\u001b[0;32m/opt/sagemath-8.6/local/lib/python2.7/site-packages/sage/modules/free_module.pyc\u001b[0m in \u001b[0;36mspan_of_basis\u001b[0;34m(self, basis, base_ring, check, already_echelonized)\u001b[0m\n\u001b[1;32m   3903\u001b[0m         \u001b[0;32mif\u001b[0m \u001b[0mbase_ring\u001b[0m \u001b[0;32mis\u001b[0m \u001b[0mNone\u001b[0m\u001b[0;34m:\u001b[0m\u001b[0;34m\u001b[0m\u001b[0m\n\u001b[1;32m   3904\u001b[0m             return FreeModule_submodule_with_basis_field(\n\u001b[0;32m-> 3905\u001b[0;31m                 self.ambient_module(), basis=basis, check=check, already_echelonized=already_echelonized)\n\u001b[0m\u001b[1;32m   3906\u001b[0m         \u001b[0;32melse\u001b[0m\u001b[0;34m:\u001b[0m\u001b[0;34m\u001b[0m\u001b[0m\n\u001b[1;32m   3907\u001b[0m             \u001b[0;32mtry\u001b[0m\u001b[0;34m:\u001b[0m\u001b[0;34m\u001b[0m\u001b[0m\n",
      "\u001b[0;32m/opt/sagemath-8.6/local/lib/python2.7/site-packages/sage/modules/free_module.pyc\u001b[0m in \u001b[0;36m__init__\u001b[0;34m(self, ambient, basis, check, echelonize, echelonized_basis, already_echelonized)\u001b[0m\n\u001b[1;32m   6764\u001b[0m         FreeModule_submodule_with_basis_pid.__init__(\n\u001b[1;32m   6765\u001b[0m             \u001b[0mself\u001b[0m\u001b[0;34m,\u001b[0m \u001b[0mambient\u001b[0m\u001b[0;34m,\u001b[0m \u001b[0mbasis\u001b[0m\u001b[0;34m=\u001b[0m\u001b[0mbasis\u001b[0m\u001b[0;34m,\u001b[0m \u001b[0mcheck\u001b[0m\u001b[0;34m=\u001b[0m\u001b[0mcheck\u001b[0m\u001b[0;34m,\u001b[0m \u001b[0mechelonize\u001b[0m\u001b[0;34m=\u001b[0m\u001b[0mechelonize\u001b[0m\u001b[0;34m,\u001b[0m\u001b[0;34m\u001b[0m\u001b[0m\n\u001b[0;32m-> 6766\u001b[0;31m             echelonized_basis=echelonized_basis, already_echelonized=already_echelonized)\n\u001b[0m\u001b[1;32m   6767\u001b[0m \u001b[0;34m\u001b[0m\u001b[0m\n\u001b[1;32m   6768\u001b[0m     \u001b[0;32mdef\u001b[0m \u001b[0m_repr_\u001b[0m\u001b[0;34m(\u001b[0m\u001b[0mself\u001b[0m\u001b[0;34m)\u001b[0m\u001b[0;34m:\u001b[0m\u001b[0;34m\u001b[0m\u001b[0m\n",
      "\u001b[0;32m/opt/sagemath-8.6/local/lib/python2.7/site-packages/sage/modules/free_module.pyc\u001b[0m in \u001b[0;36m__init__\u001b[0;34m(self, ambient, basis, check, echelonize, echelonized_basis, already_echelonized)\u001b[0m\n\u001b[1;32m   5713\u001b[0m             \u001b[0mself\u001b[0m\u001b[0;34m.\u001b[0m\u001b[0m__echelonized_basis\u001b[0m \u001b[0;34m=\u001b[0m \u001b[0mbasis_seq\u001b[0m\u001b[0;34m(\u001b[0m\u001b[0mself\u001b[0m\u001b[0;34m,\u001b[0m \u001b[0mw\u001b[0m\u001b[0;34m)\u001b[0m\u001b[0;34m\u001b[0m\u001b[0m\n\u001b[1;32m   5714\u001b[0m         \u001b[0;32mif\u001b[0m \u001b[0mcheck\u001b[0m \u001b[0;32mand\u001b[0m \u001b[0mlen\u001b[0m\u001b[0;34m(\u001b[0m\u001b[0mbasis\u001b[0m\u001b[0;34m)\u001b[0m \u001b[0;34m!=\u001b[0m \u001b[0mlen\u001b[0m\u001b[0;34m(\u001b[0m\u001b[0mself\u001b[0m\u001b[0;34m.\u001b[0m\u001b[0m__echelonized_basis\u001b[0m\u001b[0;34m)\u001b[0m\u001b[0;34m:\u001b[0m\u001b[0;34m\u001b[0m\u001b[0m\n\u001b[0;32m-> 5715\u001b[0;31m             raise ValueError(\"The given basis vectors must be linearly \"\n\u001b[0m\u001b[1;32m   5716\u001b[0m                              \"independent.\")\n\u001b[1;32m   5717\u001b[0m \u001b[0;34m\u001b[0m\u001b[0m\n",
      "\u001b[0;31mValueError\u001b[0m: The given basis vectors must be linearly independent."
     ]
    }
   ],
   "source": [
    "Ev=(QQ^4).subspace_with_basis([v1,v3,v4])"
   ]
  },
  {
   "cell_type": "markdown",
   "metadata": {},
   "source": [
    "$\\rule{15cm}{2pt}$"
   ]
  },
  {
   "cell_type": "markdown",
   "metadata": {},
   "source": [
    "El problema és que v2 no es pot posar com a combinació lineal de v1,v3,v4 en aquest cas. "
   ]
  },
  {
   "cell_type": "markdown",
   "metadata": {},
   "source": [
    "<font color=green>\n",
    "    Considereu l'espai vectorial $V$ que generen els vectors $\\vec{v}_1$, $\\vec{v}_2$, $\\vec{v}_3$, $\\vec{v}_4$, $\\vec{v}_5$ _fabricats_  amb les instruccions\n",
    "</font>"
   ]
  },
  {
   "cell_type": "code",
   "execution_count": 49,
   "metadata": {},
   "outputs": [],
   "source": [
    "v1 =vector(QQ, [7, 4, -16, 5, -35] )\n",
    "v2 =vector(QQ, [-2, -1, 5, -2, 10] )\n",
    "v3 =vector(QQ, [4, 4, -5, -3, -21] )\n",
    "v4 =vector(QQ, [-3, -5, -1, 9, 17] )\n",
    "v5 =vector(QQ, [1, 2, 1, -4, -6] )"
   ]
  },
  {
   "cell_type": "markdown",
   "metadata": {},
   "source": [
    "<font color=green>\n",
    "Comproveu que el vector $\\vec{v}= (-4, 1, 9, -6, 10)$ és un vector de $V$ i, a més, doneu una combinació lineal de $\\vec{v}_1$, $\\vec{v}_2$, $\\vec{v}_3$, $\\vec{v}_4$, $\\vec{v}_5$ que doni com a resultat aquest vector.\n",
    "</font>"
   ]
  },
  {
   "cell_type": "code",
   "execution_count": 52,
   "metadata": {},
   "outputs": [],
   "source": [
    "V=span(QQ,[v1,v2,v3,v4,v5])\n",
    "v=vector([-4,1,9,-6,10])"
   ]
  },
  {
   "cell_type": "code",
   "execution_count": 53,
   "metadata": {},
   "outputs": [
    {
     "data": {
      "text/plain": [
       "True"
      ]
     },
     "execution_count": 53,
     "metadata": {},
     "output_type": "execute_result"
    }
   ],
   "source": [
    "v in V"
   ]
  },
  {
   "cell_type": "code",
   "execution_count": 54,
   "metadata": {},
   "outputs": [
    {
     "data": {
      "text/html": [
       "<html><script type=\"math/tex; mode=display\">\\newcommand{\\Bold}[1]{\\mathbf{#1}}\\mathrm{RowSpan}_{\\Bold{Q}}\\left(\\begin{array}{rrrrr}\n",
       "1 & 0 & 0 & -1 & -1 \\\\\n",
       "0 & 1 & 0 & -1 & -3 \\\\\n",
       "0 & 0 & 1 & -1 & 1\n",
       "\\end{array}\\right)</script></html>"
      ],
      "text/plain": [
       "Vector space of degree 5 and dimension 3 over Rational Field\n",
       "Basis matrix:\n",
       "[ 1  0  0 -1 -1]\n",
       "[ 0  1  0 -1 -3]\n",
       "[ 0  0  1 -1  1]"
      ]
     },
     "metadata": {},
     "output_type": "display_data"
    }
   ],
   "source": [
    "show(V)"
   ]
  },
  {
   "cell_type": "markdown",
   "metadata": {},
   "source": [
    "Hi ha tres vectors entre els vi que són linealment independents, i per tant una base de V. "
   ]
  },
  {
   "cell_type": "code",
   "execution_count": 63,
   "metadata": {},
   "outputs": [],
   "source": [
    "Ev=(QQ^5).subspace_with_basis([v1,v3,v5])"
   ]
  },
  {
   "cell_type": "code",
   "execution_count": 64,
   "metadata": {},
   "outputs": [
    {
     "data": {
      "text/plain": [
       "True"
      ]
     },
     "execution_count": 64,
     "metadata": {},
     "output_type": "execute_result"
    }
   ],
   "source": [
    "Ev==V"
   ]
  },
  {
   "cell_type": "code",
   "execution_count": 65,
   "metadata": {},
   "outputs": [
    {
     "data": {
      "text/plain": [
       "[29/2, -77/2, 97/2]"
      ]
     },
     "execution_count": 65,
     "metadata": {},
     "output_type": "execute_result"
    }
   ],
   "source": [
    "coor=Ev.coordinates(v)\n",
    "coor"
   ]
  },
  {
   "cell_type": "code",
   "execution_count": 66,
   "metadata": {},
   "outputs": [
    {
     "data": {
      "text/plain": [
       "True"
      ]
     },
     "execution_count": 66,
     "metadata": {},
     "output_type": "execute_result"
    }
   ],
   "source": [
    "coor[0]*v1+coor[1]*v3+coor[2]*v5==v"
   ]
  },
  {
   "cell_type": "markdown",
   "metadata": {},
   "source": [
    "$\\rule{15cm}{2pt}$"
   ]
  },
  {
   "cell_type": "markdown",
   "metadata": {},
   "source": [
    "<font color=green>\n",
    "Sigui $V$ l'espai vectorial formats pels $\\vec{x}=(x_1,x_2,x_3,x_4)$ tals, que\n",
    "</font>"
   ]
  },
  {
   "cell_type": "markdown",
   "metadata": {},
   "source": [
    "<font color=green>\n",
    "$$\n",
    "\\left.\n",
    "\\begin{aligned}\n",
    "    x_{1} - 2 \\, x_{3} + x_{4}&=0\\\\\n",
    "    -3 \\, x_{1} + x_{2} + 4 \\, x_{3} - x_{4}&=0\\\\\n",
    "    x_{2} - 2 \\, x_{3} + 2 \\, x_{4}&=0\\\\\n",
    "    x_{1} - x_{2} - x_{4}&=0\\\\\n",
    "    -3 \\, x_{1} + 2 \\, x_{2} + 2 \\, x_{3} + x_{4}&=0\n",
    "\\end{aligned}\n",
    "\\right\\}\n",
    "$$\n",
    "</font>"
   ]
  },
  {
   "cell_type": "markdown",
   "metadata": {},
   "source": [
    "<font color=green>\n",
    "    <ul>\n",
    "        <li>Comproveu que el vector $\\vec{v}=(-2, 6, -5, -8)$ és de $V$ i que $\\vec{w}=(1,1,3,-1)$ no.</li>\n",
    "        <li>Doneu una base de $V$.</li>\n",
    "    </ul>\n",
    " </font>"
   ]
  },
  {
   "cell_type": "code",
   "execution_count": 74,
   "metadata": {},
   "outputs": [
    {
     "data": {
      "text/plain": [
       "[x1 - 2*x3 + x4 == 0,\n",
       " -3*x1 + x2 + 4*x3 - x4 == 0,\n",
       " x2 - 2*x3 + 2*x4 == 0,\n",
       " x1 - x2 - x4 == 0,\n",
       " -3*x1 + 2*x2 + 2*x3 + x4 == 0]"
      ]
     },
     "execution_count": 74,
     "metadata": {},
     "output_type": "execute_result"
    }
   ],
   "source": [
    "var('x1 x2 x3 x4')\n",
    "equacions=[x1-2*x3+x4==0,-3*x1+x2+4*x3-x4==0, x2-2*x3+2*x4==0, x1-x2-x4==0, -3*x1+2*x2+2*x3+x4==0]\n",
    "equacions"
   ]
  },
  {
   "cell_type": "code",
   "execution_count": 75,
   "metadata": {},
   "outputs": [
    {
     "data": {
      "text/html": [
       "<html><script type=\"math/tex; mode=display\">\\newcommand{\\Bold}[1]{\\mathbf{#1}}\\left(\\begin{array}{rrrr}\n",
       "1 & 0 & -2 & 1 \\\\\n",
       "-3 & 1 & 4 & -1 \\\\\n",
       "0 & 1 & -2 & 2 \\\\\n",
       "1 & -1 & 0 & -1 \\\\\n",
       "-3 & 2 & 2 & 1\n",
       "\\end{array}\\right)</script></html>"
      ],
      "text/plain": [
       "[ 1  0 -2  1]\n",
       "[-3  1  4 -1]\n",
       "[ 0  1 -2  2]\n",
       "[ 1 -1  0 -1]\n",
       "[-3  2  2  1]"
      ]
     },
     "metadata": {},
     "output_type": "display_data"
    }
   ],
   "source": [
    "coeficients=[\n",
    "    [\n",
    "        eq.lhs().coefficient(vv)\n",
    "        for vv in [x1,x2,x3,x4]\n",
    "    ]\n",
    "    for eq in equacions\n",
    "]\n",
    "# show(coeficients)\n",
    "A=matrix(QQ,coeficients)\n",
    "show(A)"
   ]
  },
  {
   "cell_type": "code",
   "execution_count": 76,
   "metadata": {},
   "outputs": [
    {
     "data": {
      "text/plain": [
       "(0, 0, 0, 0, 0)"
      ]
     },
     "execution_count": 76,
     "metadata": {},
     "output_type": "execute_result"
    }
   ],
   "source": [
    "A*vector(QQ,[-2,6,-5,-8]) #Com que dón a (0,..,0) el vector està a V"
   ]
  },
  {
   "cell_type": "code",
   "execution_count": 77,
   "metadata": {},
   "outputs": [
    {
     "data": {
      "text/plain": [
       "(-6, 11, -7, 1, 4)"
      ]
     },
     "execution_count": 77,
     "metadata": {},
     "output_type": "execute_result"
    }
   ],
   "source": [
    "A*vector(QQ,[1,1,3,-1])  #Com que no dóna 0, no està a V"
   ]
  },
  {
   "cell_type": "code",
   "execution_count": 79,
   "metadata": {},
   "outputs": [
    {
     "data": {
      "text/html": [
       "<html><script type=\"math/tex; mode=display\">\\newcommand{\\Bold}[1]{\\mathbf{#1}}\\left[\\left(1,\\,0,\\,1,\\,1\\right), \\left(0,\\,1,\\,-\\frac{1}{2},\\,-1\\right)\\right]</script></html>"
      ],
      "text/plain": [
       "[\n",
       "(1, 0, 1, 1),\n",
       "(0, 1, -1/2, -1)\n",
       "]"
      ]
     },
     "metadata": {},
     "output_type": "display_data"
    }
   ],
   "source": [
    "V=A.right_kernel()\n",
    "show(V.basis())"
   ]
  },
  {
   "cell_type": "markdown",
   "metadata": {},
   "source": [
    "$\\rule{15cm}{2pt}$"
   ]
  },
  {
   "cell_type": "markdown",
   "metadata": {},
   "source": [
    "<font color=green>\n",
    "    <ul>\n",
    "        <li>Comproveu que els vectors $\\vec{v}_1=(1,2,1)$, $\\vec{v}_2=(2,1,2)$ i $\\vec{w}_1=(1,-1,1)$, $\\vec{w}_2=(3,1,3)$ generen (i són bases) del mateix espai vectorial $E$.</li>\n",
    "        <li>Calculeu les coordenades de $\\vec{v}_1$ i $\\vec{v}_2$ respecte la base $\\vec{w}_1$, $\\vec{w}_2$</li>\n",
    "        <li>Poseu els coeficients que acabeu de calcular com a _columnes_ d'una la matriu $M$.</li>\n",
    "        <li>Comproveu que la matriu $M$ obtinguda transforma les coordenades d'un vector $u$ de $E$ respecte la base $\\vec{v}_1$, $\\vec{v}_2$ ens les seves coordenades respecte la base $\\vec{w}_1$, $\\vec{w}_2$ fent-ho amb el vectors $\\vec{u}_1=-3\\, \\vec{v}_1+2\\, \\vec{v}_2$ i $\\vec{u}_2=5\\, \\vec{v}_1-4\\, \\vec{v}_2$.</li>\n",
    "    </ul>\n",
    "</font>"
   ]
  },
  {
   "cell_type": "code",
   "execution_count": 82,
   "metadata": {},
   "outputs": [
    {
     "data": {
      "text/plain": [
       "True"
      ]
     },
     "execution_count": 82,
     "metadata": {},
     "output_type": "execute_result"
    }
   ],
   "source": [
    "v1=vector(QQ,[1,2,1])\n",
    "v2=vector(QQ,[2,1,2])\n",
    "w1=vector(QQ,[1,-1,1])\n",
    "w2=vector(QQ,[3,1,3])\n",
    "V=(QQ^3).subspace_with_basis([v1,v2])\n",
    "W=(QQ^3).subspace_with_basis([w1,w2])\n",
    "V==W"
   ]
  },
  {
   "cell_type": "code",
   "execution_count": 86,
   "metadata": {},
   "outputs": [
    {
     "data": {
      "text/plain": [
       "[-5/4 -1/4]\n",
       "[ 3/4  3/4]"
      ]
     },
     "execution_count": 86,
     "metadata": {},
     "output_type": "execute_result"
    }
   ],
   "source": [
    "M=matrix(QQ,[W.coordinates(v1),W.coordinates(v2)]).transpose()\n",
    "M"
   ]
  },
  {
   "cell_type": "code",
   "execution_count": 95,
   "metadata": {},
   "outputs": [
    {
     "data": {
      "text/html": [
       "<html><script type=\"math/tex; mode=display\">\\newcommand{\\Bold}[1]{\\mathbf{#1}}\\left(1,\\,-4,\\,1\\right)</script></html>"
      ],
      "text/plain": [
       "(1, -4, 1)"
      ]
     },
     "metadata": {},
     "output_type": "display_data"
    },
    {
     "data": {
      "text/plain": [
       "(13/4, -3/4)"
      ]
     },
     "execution_count": 95,
     "metadata": {},
     "output_type": "execute_result"
    }
   ],
   "source": [
    "u1=-3*v1+2*v2\n",
    "show(u1)\n",
    "vector(QQ,W.coordinates(u1))"
   ]
  },
  {
   "cell_type": "code",
   "execution_count": 94,
   "metadata": {},
   "outputs": [
    {
     "data": {
      "text/plain": [
       "(1, -4, 1)"
      ]
     },
     "execution_count": 94,
     "metadata": {},
     "output_type": "execute_result"
    }
   ],
   "source": [
    "13/4*w1+(-3/4)*w2"
   ]
  },
  {
   "cell_type": "code",
   "execution_count": 96,
   "metadata": {},
   "outputs": [
    {
     "data": {
      "text/plain": [
       "(13/4, -3/4)"
      ]
     },
     "execution_count": 96,
     "metadata": {},
     "output_type": "execute_result"
    }
   ],
   "source": [
    "M*vector(QQ,[-3,2])"
   ]
  },
  {
   "cell_type": "code",
   "execution_count": null,
   "metadata": {},
   "outputs": [],
   "source": []
  },
  {
   "cell_type": "markdown",
   "metadata": {},
   "source": [
    "La suma i la intersecció de subespais vectorials donats és una de les situacions naturals en les que es _fabriquen_ espais vectorials nous a partir dels que ja es tenen. El problema bàsic en aquestes situacions és determinar bases d'aquests _productes_ a partir de les dades que es tinguin dels espais originals. Si es treballa amb <font color=blue>**SageMath**</font> i es tenen definits un parell d'espais vectorials $V$ i $W$, la instrucció <font color=blue>intesection( )</font> genera $V\\cap W$, mentre que com en molts altres casos _l'operador suma <font color=blue>$+$</font>_ permet obtenir $V+W$ de forma immediata. D'aquesta forma els resultats són, també, objectes de la categoria _espai vectorial_ i, pert tant, es disposa de tota la bateria de funcions associades (dimensió, base,...)\n",
    "\n",
    "**Exemple:** Considerem el subespai vectorial $F$ generat per $\\vec{v}_1=(1,1,-1)$, $\\vec{v}_2=(2,0,-1)$ i el subespai vectorial $G$ generat per $\\vec{w}_1=(1,0,-1)$, $\\vec{w}_2=(2,3,0)$, $\\vec{w}_3=(4,3,-2)$. "
   ]
  },
  {
   "cell_type": "code",
   "execution_count": 97,
   "metadata": {},
   "outputs": [
    {
     "data": {
      "text/html": [
       "<html><script type=\"math/tex; mode=display\">\\newcommand{\\Bold}[1]{\\mathbf{#1}}\\mathrm{RowSpan}_{\\Bold{Q}}\\left(\\begin{array}{rrr}\n",
       "1 & 0 & -\\frac{1}{2} \\\\\n",
       "0 & 1 & -\\frac{1}{2}\n",
       "\\end{array}\\right)</script></html>"
      ],
      "text/plain": [
       "Vector space of degree 3 and dimension 2 over Rational Field\n",
       "Basis matrix:\n",
       "[   1    0 -1/2]\n",
       "[   0    1 -1/2]"
      ]
     },
     "metadata": {},
     "output_type": "display_data"
    },
    {
     "data": {
      "text/html": [
       "<html><script type=\"math/tex; mode=display\">\\newcommand{\\Bold}[1]{\\mathbf{#1}}\\mathrm{RowSpan}_{\\Bold{Q}}\\left(\\begin{array}{rrr}\n",
       "1 & 0 & -1 \\\\\n",
       "0 & 1 & \\frac{2}{3}\n",
       "\\end{array}\\right)</script></html>"
      ],
      "text/plain": [
       "Vector space of degree 3 and dimension 2 over Rational Field\n",
       "Basis matrix:\n",
       "[  1   0  -1]\n",
       "[  0   1 2/3]"
      ]
     },
     "metadata": {},
     "output_type": "display_data"
    }
   ],
   "source": [
    "v1=vector(QQ,[1,1,-1])\n",
    "v2=vector(QQ,[2,0,-1])\n",
    "w1=vector(QQ,[1,0,-1])\n",
    "w2=vector(QQ,[2,3,0])\n",
    "w3=vector(QQ,[4,3,-2])\n",
    "F=span([v1,v2])\n",
    "G=span([w1,w2,w3])\n",
    "show(F)\n",
    "show(G)"
   ]
  },
  {
   "cell_type": "code",
   "execution_count": 98,
   "metadata": {},
   "outputs": [
    {
     "data": {
      "text/html": [
       "<html><script type=\"math/tex; mode=display\">\\newcommand{\\Bold}[1]{\\mathbf{#1}}\\mathrm{RowSpan}_{\\Bold{Q}}\\left(\\begin{array}{rrr}\n",
       "1 & 0 & 0 \\\\\n",
       "0 & 1 & 0 \\\\\n",
       "0 & 0 & 1\n",
       "\\end{array}\\right)</script></html>"
      ],
      "text/plain": [
       "Vector space of degree 3 and dimension 3 over Rational Field\n",
       "Basis matrix:\n",
       "[1 0 0]\n",
       "[0 1 0]\n",
       "[0 0 1]"
      ]
     },
     "metadata": {},
     "output_type": "display_data"
    },
    {
     "data": {
      "text/html": [
       "<html><script type=\"math/tex; mode=display\">\\newcommand{\\Bold}[1]{\\mathbf{#1}}3</script></html>"
      ],
      "text/plain": [
       "3"
      ]
     },
     "metadata": {},
     "output_type": "display_data"
    }
   ],
   "source": [
    "S=F+G\n",
    "show(S)\n",
    "show(S.dimension())"
   ]
  },
  {
   "cell_type": "code",
   "execution_count": 99,
   "metadata": {},
   "outputs": [
    {
     "data": {
      "text/html": [
       "<html><script type=\"math/tex; mode=display\">\\newcommand{\\Bold}[1]{\\mathbf{#1}}\\left[\\left(1,\\,\\frac{3}{7},\\,-\\frac{5}{7}\\right)\\right]</script></html>"
      ],
      "text/plain": [
       "[\n",
       "(1, 3/7, -5/7)\n",
       "]"
      ]
     },
     "metadata": {},
     "output_type": "display_data"
    },
    {
     "data": {
      "text/html": [
       "<html><script type=\"math/tex; mode=display\">\\newcommand{\\Bold}[1]{\\mathbf{#1}}1</script></html>"
      ],
      "text/plain": [
       "1"
      ]
     },
     "metadata": {},
     "output_type": "display_data"
    }
   ],
   "source": [
    "Intrs=F.intersection(G)\n",
    "show(Intrs.basis())\n",
    "show(Intrs.dimension())"
   ]
  },
  {
   "cell_type": "markdown",
   "metadata": {},
   "source": [
    "# <font color=green> Exercici </font>"
   ]
  },
  {
   "cell_type": "markdown",
   "metadata": {},
   "source": [
    "<font color=green>\n",
    "    Sigui $E$ el subespai vectorial donat pels vectors $\\vec{x}=(x_1,x_2,x_3,x_4,x_5)$ que compleixen\n",
    "    $$\n",
    "    \\left.\n",
    "    \\begin{aligned}\n",
    "    -x_{1} + x_{2} + x_{3} - 5 \\, x_{5}&=0 \\\\\n",
    "-x_{1} + x_{3} - 2 \\, x_{4} - 2 \\, x_{5}&=0 \\\\\n",
    "x_{2} + 2 \\, x_{4} - 3 \\, x_{5}&=0 \\\\\n",
    "x_{1} + x_{2} - x_{3} + 4 \\, x_{4} - x_{5}&=0\n",
    "\\end{aligned}\n",
    "\\right\\}\n",
    "    $$\n",
    "</font>\n",
    "\n",
    "<font color=green>\n",
    "    Sigui $F$ el subespai vectorial generat pels vectors\n",
    "    $$\n",
    "    \\begin{aligned}\n",
    "    \\vec{v}_1 &=\\left(-5,\\,5,\\,-5,\\,-1,\\,1\\right),\\\\\n",
    "    \\vec{v}_2 &=\\left(-15,\\,-15,\\,5,\\,9,\\,1\\right),\\\\ \n",
    "    \\vec{v}_3 &=\\left(-5,\\,35,\\,-25,\\,-13,\\,3\\right),\\\\ \n",
    "    \\vec{v}_4 &=\\left(-15,\\,1,\\,-4,\\,3,\\,1\\right)\n",
    "    \\end{aligned}\n",
    "    $$\n",
    "</font>\n",
    "\n",
    "<font color=green>\n",
    "    <ul>\n",
    "        <li>Doneu una base de $E$ i una de $F$. Quines són les dimensions de cada un dels espais?</li>\n",
    "        <li>Calculeu els espais $G=E\\cap F$ i $S=E+F$.</li>\n",
    "        <li>Doneu bases de $G$ i $S$.</li>\n",
    "        <li>Comproveu que \n",
    "            $$\n",
    "            \\dim(S)=\\dim(E)+\\dim(F)-\\dim(G)\n",
    "            $$\n",
    "    </ul>\n",
    "</font>"
   ]
  },
  {
   "cell_type": "code",
   "execution_count": 103,
   "metadata": {},
   "outputs": [
    {
     "data": {
      "text/html": [
       "<html><script type=\"math/tex; mode=display\">\\newcommand{\\Bold}[1]{\\mathbf{#1}}\\mathrm{RowSpan}_{\\Bold{Q}}\\left(\\begin{array}{rrrrr}\n",
       "1 & 0 & 0 & -\\frac{7}{25} & \\frac{2}{25} \\\\\n",
       "0 & 1 & 0 & -\\frac{6}{25} & -\\frac{9}{25} \\\\\n",
       "0 & 0 & 1 & \\frac{6}{25} & -\\frac{16}{25}\n",
       "\\end{array}\\right)</script></html>"
      ],
      "text/plain": [
       "Vector space of degree 5 and dimension 3 over Rational Field\n",
       "Basis matrix:\n",
       "[     1      0      0  -7/25   2/25]\n",
       "[     0      1      0  -6/25  -9/25]\n",
       "[     0      0      1   6/25 -16/25]"
      ]
     },
     "metadata": {},
     "output_type": "display_data"
    },
    {
     "data": {
      "text/plain": [
       "[-x1 + x2 + x3 - 5*x5 == 0,\n",
       " -x1 + x3 - 2*x4 - 2*x5 == 0,\n",
       " x2 + 2*x4 - 3*x5 == 0,\n",
       " x1 + x2 - x3 + 4*x4 - x5 == 0]"
      ]
     },
     "execution_count": 103,
     "metadata": {},
     "output_type": "execute_result"
    }
   ],
   "source": [
    "F=span(QQ,[[-5,5,-5,-1,1],[-15,-15,5,9,1],[-5,35,-25,-13,3],[-15,1,-4,3,1]])\n",
    "show(F)\n",
    "var('x1 x2 x3 x4 x5')\n",
    "equacions=[-x1+x2+x3-5*x5==0,-x1+x3-2*x4-2*x5==0, x2+2*x4-3*x5==0, x1+x2-x3+4*x4-x5==0]\n",
    "equacions"
   ]
  },
  {
   "cell_type": "code",
   "execution_count": 101,
   "metadata": {},
   "outputs": [
    {
     "data": {
      "text/html": [
       "<html><script type=\"math/tex; mode=display\">\\newcommand{\\Bold}[1]{\\mathbf{#1}}\\left(\\begin{array}{rrrrr}\n",
       "-1 & 1 & 1 & 0 & -5 \\\\\n",
       "-1 & 0 & 1 & -2 & -2 \\\\\n",
       "0 & 1 & 0 & 2 & -3 \\\\\n",
       "1 & 1 & -1 & 4 & -1\n",
       "\\end{array}\\right)</script></html>"
      ],
      "text/plain": [
       "[-1  1  1  0 -5]\n",
       "[-1  0  1 -2 -2]\n",
       "[ 0  1  0  2 -3]\n",
       "[ 1  1 -1  4 -1]"
      ]
     },
     "metadata": {},
     "output_type": "display_data"
    }
   ],
   "source": [
    "coeficients=[\n",
    "    [\n",
    "        eq.lhs().coefficient(vv)\n",
    "        for vv in [x1,x2,x3,x4,x5]\n",
    "    ]\n",
    "    for eq in equacions\n",
    "]\n",
    "# show(coeficients)\n",
    "A=matrix(QQ,coeficients)\n",
    "show(A)"
   ]
  },
  {
   "cell_type": "code",
   "execution_count": 102,
   "metadata": {},
   "outputs": [
    {
     "data": {
      "text/html": [
       "<html><script type=\"math/tex; mode=display\">\\newcommand{\\Bold}[1]{\\mathbf{#1}}\\mathrm{RowSpan}_{\\Bold{Q}}\\left(\\begin{array}{rrrrr}\n",
       "1 & 0 & 0 & -\\frac{3}{10} & -\\frac{1}{5} \\\\\n",
       "0 & 1 & 0 & -\\frac{1}{5} & \\frac{1}{5} \\\\\n",
       "0 & 0 & 1 & \\frac{3}{10} & \\frac{1}{5}\n",
       "\\end{array}\\right)</script></html>"
      ],
      "text/plain": [
       "Vector space of degree 5 and dimension 3 over Rational Field\n",
       "Basis matrix:\n",
       "[    1     0     0 -3/10  -1/5]\n",
       "[    0     1     0  -1/5   1/5]\n",
       "[    0     0     1  3/10   1/5]"
      ]
     },
     "metadata": {},
     "output_type": "display_data"
    }
   ],
   "source": [
    "E=A.right_kernel()\n",
    "show(E)"
   ]
  },
  {
   "cell_type": "code",
   "execution_count": 108,
   "metadata": {},
   "outputs": [
    {
     "data": {
      "text/html": [
       "<html><script type=\"math/tex; mode=display\">\\newcommand{\\Bold}[1]{\\mathbf{#1}}\\left[\\left(1,\\,0,\\,0,\\,0,\\,4\\right), \\left(0,\\,1,\\,0,\\,0,\\,3\\right), \\left(0,\\,0,\\,1,\\,0,\\,-4\\right), \\left(0,\\,0,\\,0,\\,1,\\,14\\right)\\right]</script></html>"
      ],
      "text/plain": [
       "[\n",
       "(1, 0, 0, 0, 4),\n",
       "(0, 1, 0, 0, 3),\n",
       "(0, 0, 1, 0, -4),\n",
       "(0, 0, 0, 1, 14)\n",
       "]"
      ]
     },
     "metadata": {},
     "output_type": "display_data"
    }
   ],
   "source": [
    "S=E+F\n",
    "show(S.basis())"
   ]
  },
  {
   "cell_type": "code",
   "execution_count": 109,
   "metadata": {},
   "outputs": [
    {
     "data": {
      "text/html": [
       "<html><script type=\"math/tex; mode=display\">\\newcommand{\\Bold}[1]{\\mathbf{#1}}\\left[\\left(1,\\,0,\\,\\frac{1}{3},\\,-\\frac{1}{5},\\,-\\frac{2}{15}\\right), \\left(0,\\,1,\\,-\\frac{2}{3},\\,-\\frac{2}{5},\\,\\frac{1}{15}\\right)\\right]</script></html>"
      ],
      "text/plain": [
       "[\n",
       "(1, 0, 1/3, -1/5, -2/15),\n",
       "(0, 1, -2/3, -2/5, 1/15)\n",
       "]"
      ]
     },
     "metadata": {},
     "output_type": "display_data"
    }
   ],
   "source": [
    "G=E.intersection(F)\n",
    "show(G.basis())"
   ]
  },
  {
   "cell_type": "code",
   "execution_count": 110,
   "metadata": {},
   "outputs": [
    {
     "data": {
      "text/plain": [
       "True"
      ]
     },
     "execution_count": 110,
     "metadata": {},
     "output_type": "execute_result"
    }
   ],
   "source": [
    "G.dimension()+S.dimension()==F.dimension()+E.dimension()"
   ]
  },
  {
   "cell_type": "code",
   "execution_count": 112,
   "metadata": {},
   "outputs": [
    {
     "data": {
      "text/plain": [
       "[-x1 + x2 + x3 - 5*x5 == 0,\n",
       " -x1 + x3 - 2*x4 - 2*x5 == 0,\n",
       " x2 + 2*x4 - 3*x5 == 0,\n",
       " x1 + x2 - x3 + 4*x4 - x5 == 0]"
      ]
     },
     "execution_count": 112,
     "metadata": {},
     "output_type": "execute_result"
    }
   ],
   "source": [
    "equacions"
   ]
  },
  {
   "cell_type": "code",
   "execution_count": 114,
   "metadata": {},
   "outputs": [
    {
     "data": {
      "text/plain": [
       "[[x1 == -2*r1 - 2*r2 + r3, x2 == 3*r1 - 2*r2, x3 == r3, x4 == r2, x5 == r1]]"
      ]
     },
     "execution_count": 114,
     "metadata": {},
     "output_type": "execute_result"
    }
   ],
   "source": [
    "solve(equacions,x1,x2,x3,x4,x5)"
   ]
  },
  {
   "cell_type": "code",
   "execution_count": null,
   "metadata": {},
   "outputs": [],
   "source": []
  }
 ],
 "metadata": {
  "kernelspec": {
   "display_name": "SageMath 8.6",
   "language": "",
   "name": "sagemath"
  },
  "language_info": {
   "codemirror_mode": {
    "name": "ipython",
    "version": 2
   },
   "file_extension": ".py",
   "mimetype": "text/x-python",
   "name": "python",
   "nbconvert_exporter": "python",
   "pygments_lexer": "ipython2",
   "version": "2.7.15"
  }
 },
 "nbformat": 4,
 "nbformat_minor": 2
}
