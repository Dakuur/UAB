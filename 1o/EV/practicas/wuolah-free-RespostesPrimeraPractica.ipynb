{
 "cells": [
  {
   "cell_type": "markdown",
   "metadata": {},
   "source": [
    "# Pràctica 1. Matrius, sistemes d'equacions"
   ]
  },
  {
   "cell_type": "markdown",
   "metadata": {},
   "source": [
    "\n",
    "1. Creeu una matriu $A$ de mida 2 x 3 que tingui entrades racionals.\n",
    "1. Creeu una matriu $B$ de mida 10 x 20 que tingui per entrades nombres enters aleatoris entre -5 i 5 (inclosos).\n",
    "1. Creeu una matriu $C$ de mida 20 x 10 que tingui a l'entrada $(i,j)$ el valor $2i+j$. (la primera entrada és $3$).\n",
    "1. Calculeu la matriu $BC$ i trobeu-ne el rang (descobriu com fer-ho amb `SageMath`).\n",
    "1. Creeu una matriu $H$ de mida 15 x 15 amb entrades racionals que tingui un $1$ a l'entrada $(1,1)$, que tingui $1/2$ a les entrades $(1,2)$ i $(2,1)$, que tingui $1/3$ a les entrades $(1,3), (2,2), (3,1)$, i així successivament. Calculeu la seva inversa $H^{-1}$ i comproveu que $H H^{-1} = H^{-1} H = \\text{Id}$. Repetiu el mateix càlcul però inicialitzant $H$ com una matriu en els reals (`RR`). Què observeu?\n",
    "1. Trobeu totes les solucions del sistema: \n",
    "\\begin{eqnarray}\n",
    "x + 4y + z &= 0\\\\\n",
    "4x+13y+7z &= 0\\\\\n",
    "7x+22y+13z&=1.\n",
    "\\end{eqnarray}\n",
    "1. Trobeu totes les solucions del sistema: \n",
    "\\begin{eqnarray}\n",
    "x + 2y &= a\\\\\n",
    "3x + 5y &= b.\n",
    "\\end{eqnarray}\n",
    "1. Discutiu el següent sistema, segons el valor del paràmetre $k$. \n",
    "\\begin{eqnarray}\n",
    "x + y - z &= 2\\\\\n",
    "x + 2y + z &= 3\\\\\n",
    "x+ y + (k^2-5)z &= k.\n",
    "\\end{eqnarray}\n",
    "1. Resoleu el següent sistema d'equacions, realitzant a mà (fent servir els mètodes `rescale_row`, `add_multiple_of_row` i/o `swap_rows`) les transformacions de files. (1.2.17)\n",
    "\\begin{eqnarray}\n",
    " 2x_1 + 4x_2 + 3x_3 + 5x_4 + 6x_5 &= 37\\\\\n",
    " 4x_1 + 8x_2 + 7x_3 + 5x_4 + 2x_5 &= 74\\\\\n",
    "-2x_1 - 4x_2 + 3x_3 + 4x_4 - 5x_5 &= 20\\\\\n",
    "  x_1 + 2x_2 + 2x_3 -  x_4 + 2x_5 &= 26\\\\\n",
    " 5x_1 - 10x_2 +4x_3 + 6x_4 + 4x_5 &= 24.\n",
    "\\end{eqnarray}\n"
   ]
  },
  {
   "cell_type": "code",
   "execution_count": null,
   "metadata": {},
   "outputs": [],
   "source": [
    "[1,2,3] * 2"
   ]
  },
  {
   "cell_type": "code",
   "execution_count": null,
   "metadata": {},
   "outputs": [],
   "source": [
    "Matrix(ZZ, [0, 1, 2, 3, 4, 5])"
   ]
  },
  {
   "cell_type": "code",
   "execution_count": null,
   "metadata": {},
   "outputs": [],
   "source": [
    "B = Matrix(ZZ, 10, 20, [ZZ.random_element(-5,6) for i in range(10*20)])"
   ]
  },
  {
   "cell_type": "code",
   "execution_count": null,
   "metadata": {},
   "outputs": [],
   "source": [
    "[(i, j, i+j) for i in range(3) for j in range(2)]"
   ]
  },
  {
   "cell_type": "code",
   "execution_count": null,
   "metadata": {},
   "outputs": [],
   "source": [
    "C = Matrix(ZZ, 20, 10, [ 2*i + j for i in range(1,21)for j in range(1, 11)])"
   ]
  },
  {
   "cell_type": "code",
   "execution_count": null,
   "metadata": {},
   "outputs": [],
   "source": [
    "show(C)"
   ]
  },
  {
   "cell_type": "code",
   "execution_count": null,
   "metadata": {},
   "outputs": [],
   "source": [
    "producte = B * C"
   ]
  },
  {
   "cell_type": "code",
   "execution_count": null,
   "metadata": {},
   "outputs": [],
   "source": [
    "producte.rank()"
   ]
  },
  {
   "cell_type": "code",
   "execution_count": null,
   "metadata": {},
   "outputs": [],
   "source": [
    "n = 5; H = Matrix(RR, n, n, [1/(i+j+1) for i in range(n) for j in range(n)])\n",
    "show(H)"
   ]
  },
  {
   "cell_type": "code",
   "execution_count": null,
   "metadata": {},
   "outputs": [],
   "source": [
    "Hinv = H**-1"
   ]
  },
  {
   "cell_type": "code",
   "execution_count": null,
   "metadata": {},
   "outputs": [],
   "source": [
    "Hinv"
   ]
  },
  {
   "cell_type": "code",
   "execution_count": null,
   "metadata": {},
   "outputs": [],
   "source": [
    "Hinv * H"
   ]
  },
  {
   "cell_type": "code",
   "execution_count": null,
   "metadata": {},
   "outputs": [],
   "source": [
    "def PAQreduccio(A): \n",
    "        PAR=PAreduccio(A)\n",
    "        AR=PAR[1]\n",
    "        P=PAR[0]\n",
    "        QAR=PAreduccio(AR.transpose())\n",
    "        B=QAR[1].transpose()\n",
    "        Q=QAR[0].transpose()\n",
    "        return P,B,Q\n",
    "PAQ=PAQreduccio(AB)\n",
    "show(PAQ)"
   ]
  }
 ],
 "metadata": {
  "kernelspec": {
   "display_name": "SageMath 8.5",
   "language": "",
   "name": "sagemath"
  },
  "language_info": {
   "codemirror_mode": {
    "name": "ipython",
    "version": 2
   },
   "file_extension": ".py",
   "mimetype": "text/x-python",
   "name": "python",
   "nbconvert_exporter": "python",
   "pygments_lexer": "ipython2",
   "version": "2.7.15"
  }
 },
 "nbformat": 4,
 "nbformat_minor": 2
}
