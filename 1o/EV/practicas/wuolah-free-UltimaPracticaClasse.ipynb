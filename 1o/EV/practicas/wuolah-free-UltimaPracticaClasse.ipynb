{
 "cells": [
  {
   "cell_type": "markdown",
   "metadata": {},
   "source": [
    "# Diagonalització i valors singulars"
   ]
  },
  {
   "cell_type": "markdown",
   "metadata": {},
   "source": [
    "## Polinomi característic."
   ]
  },
  {
   "cell_type": "markdown",
   "metadata": {},
   "source": [
    "La funció de **<font color=blue>SageMath</font>** que calcula el polinomi característic d'una matriu és <font color=blue>charpoly</font> (o <font color=blue>characteristic_polynomial</font> si no es té mandra d'escriure una mica més). Si es vol calcular el polinomi característic de la matriu \n",
    "$$\n",
    "A= \\begin{pmatrix}\n",
    "3 & -6 & -8 & 6 \\\\\n",
    "2 & -3 & -4 & 4 \\\\\n",
    "-2 & 3 & 3 & -3 \\\\\n",
    "-2 & 1 & -2 & 0\n",
    "\\end{pmatrix}\n",
    "$$\n",
    "només s'haurà de fer:"
   ]
  },
  {
   "cell_type": "code",
   "execution_count": 1,
   "metadata": {},
   "outputs": [
    {
     "data": {
      "text/html": [
       "<html><script type=\"math/tex; mode=display\">\\newcommand{\\Bold}[1]{\\mathbf{#1}}\\left(\\begin{array}{rrrr}\n",
       "3 & -6 & -8 & 6 \\\\\n",
       "2 & -3 & -4 & 4 \\\\\n",
       "-2 & 3 & 3 & -3 \\\\\n",
       "-2 & 1 & -2 & 0\n",
       "\\end{array}\\right)</script></html>"
      ],
      "text/plain": [
       "[ 3 -6 -8  6]\n",
       "[ 2 -3 -4  4]\n",
       "[-2  3  3 -3]\n",
       "[-2  1 -2  0]"
      ]
     },
     "metadata": {},
     "output_type": "display_data"
    },
    {
     "data": {
      "text/html": [
       "<html><script type=\"math/tex; mode=display\">\\newcommand{\\Bold}[1]{\\mathbf{#1}}x^{4} - 3 x^{3} + x^{2} + 3 x - 2</script></html>"
      ],
      "text/plain": [
       "x^4 - 3*x^3 + x^2 + 3*x - 2"
      ]
     },
     "metadata": {},
     "output_type": "display_data"
    }
   ],
   "source": [
    "A=matrix(QQ,4,4,[3, -6, -8, 6, \n",
    "                 2, -3, -4, 4, \n",
    "                 -2, 3, 3, -3, \n",
    "                 -2, 1, -2, 0])\n",
    "show(A)\n",
    "show(A.charpoly())"
   ]
  },
  {
   "cell_type": "markdown",
   "metadata": {},
   "source": [
    "Podeu veure que el resultat coincideix amb el que apareix si calculem directament utilitzant determinants."
   ]
  },
  {
   "cell_type": "code",
   "execution_count": 2,
   "metadata": {},
   "outputs": [
    {
     "data": {
      "text/html": [
       "<html><script type=\"math/tex; mode=display\">\\newcommand{\\Bold}[1]{\\mathbf{#1}}x^{4} - 3 \\, x^{3} + x^{2} + 3 \\, x - 2</script></html>"
      ],
      "text/plain": [
       "x^4 - 3*x^3 + x^2 + 3*x - 2"
      ]
     },
     "metadata": {},
     "output_type": "display_data"
    }
   ],
   "source": [
    "show((A-x*identity_matrix(4)).det())"
   ]
  },
  {
   "cell_type": "markdown",
   "metadata": {},
   "source": [
    "Si es vol utilitzar algun altre símbol com indeterminada del polinomi (hi podria haver conflictes si hi ha paràmetres simbòlics entre els coeficients de la matriu), es pot especificar en els arguments:"
   ]
  },
  {
   "cell_type": "code",
   "execution_count": 3,
   "metadata": {},
   "outputs": [
    {
     "data": {
      "text/html": [
       "<html><script type=\"math/tex; mode=display\">\\newcommand{\\Bold}[1]{\\mathbf{#1}}t^{4} - 3 t^{3} + t^{2} + 3 t - 2</script></html>"
      ],
      "text/plain": [
       "t^4 - 3*t^3 + t^2 + 3*t - 2"
      ]
     },
     "metadata": {},
     "output_type": "display_data"
    }
   ],
   "source": [
    "show(A.charpoly('t'))"
   ]
  },
  {
   "cell_type": "code",
   "execution_count": 4,
   "metadata": {},
   "outputs": [
    {
     "data": {
      "text/html": [
       "<html><script type=\"math/tex; mode=display\">\\newcommand{\\Bold}[1]{\\mathbf{#1}}\\left(\\begin{array}{rrrr}\n",
       "x & -6 & x^{2} & 6 \\\\\n",
       "2 & -3 & -4 & 4 \\\\\n",
       "-2 & 3 & x - 1 & -3 \\\\\n",
       "-2 & 1 & -2 & 0\n",
       "\\end{array}\\right)</script></html>"
      ],
      "text/plain": [
       "[    x    -6   x^2     6]\n",
       "[    2    -3    -4     4]\n",
       "[   -2     3 x - 1    -3]\n",
       "[   -2     1    -2     0]"
      ]
     },
     "metadata": {},
     "output_type": "display_data"
    }
   ],
   "source": [
    "B=matrix(4,4,[x, -6, x^2, 6, \n",
    "                 2, -3, -4, 4, \n",
    "                 -2, 3, x-1, -3, \n",
    "                 -2, 1, -2, 0])\n",
    "show(B)\n"
   ]
  },
  {
   "cell_type": "code",
   "execution_count": 5,
   "metadata": {},
   "outputs": [
    {
     "data": {
      "text/html": [
       "<html><script type=\"math/tex; mode=display\">\\newcommand{\\Bold}[1]{\\mathbf{#1}}x^{4} + \\left(-2 \\, x + 4\\right) x^{3} + \\left(3 \\, x^{2} - 7 \\, x + 29\\right) x^{2} + \\left(-3 \\, x^{2} - 25 \\, x + 14\\right) x + 34 \\, x - 48</script></html>"
      ],
      "text/plain": [
       "x^4 + (-2*x + 4)*x^3 + (3*x^2 - 7*x + 29)*x^2 + (-3*x^2 - 25*x + 14)*x + 34*x - 48"
      ]
     },
     "metadata": {},
     "output_type": "display_data"
    },
    {
     "data": {
      "text/html": [
       "<html><script type=\"math/tex; mode=display\">\\newcommand{\\Bold}[1]{\\mathbf{#1}}\\lambda^{4} + \\left(-2 \\, x + 4\\right) \\lambda^{3} + \\left(3 \\, x^{2} - 7 \\, x + 29\\right) \\lambda^{2} + \\left(-3 \\, x^{2} - 25 \\, x + 14\\right) \\lambda + 34 \\, x - 48</script></html>"
      ],
      "text/plain": [
       "lambda^4 + (-2*x + 4)*lambda^3 + (3*x^2 - 7*x + 29)*lambda^2 + (-3*x^2 - 25*x + 14)*lambda + 34*x - 48"
      ]
     },
     "metadata": {},
     "output_type": "display_data"
    }
   ],
   "source": [
    "show(B.charpoly()) # La x té dos significats diferents!!!!\n",
    "show(B.charpoly('lambda')) # D'aquesta forma desapareix la indeterminació"
   ]
  },
  {
   "cell_type": "markdown",
   "metadata": {},
   "source": [
    "<font color=red>**Observació tècnica:** El resultat de la funció <font color=blue>charpoly</font> és un objecte de la categoria _polinomi_ </font>"
   ]
  },
  {
   "cell_type": "code",
   "execution_count": 6,
   "metadata": {},
   "outputs": [
    {
     "data": {
      "text/html": [
       "<html><script type=\"math/tex; mode=display\">\\newcommand{\\Bold}[1]{\\mathbf{#1}}\\Bold{Q}[x]</script></html>"
      ],
      "text/plain": [
       "Univariate Polynomial Ring in x over Rational Field"
      ]
     },
     "metadata": {},
     "output_type": "display_data"
    }
   ],
   "source": [
    "show(A.charpoly().parent())"
   ]
  },
  {
   "cell_type": "markdown",
   "metadata": {},
   "source": [
    "## Valors propis"
   ]
  },
  {
   "cell_type": "markdown",
   "metadata": {},
   "source": [
    "La instrucció per obtenir els valors propis d'una matriu és <font color=blue>eigenvalues( )</font>. El resultat és una llista d'aquests valors propis tenint en compte la multiplicitat."
   ]
  },
  {
   "cell_type": "code",
   "execution_count": 7,
   "metadata": {},
   "outputs": [
    {
     "data": {
      "text/html": [
       "<html><script type=\"math/tex; mode=display\">\\newcommand{\\Bold}[1]{\\mathbf{#1}}\\left[2, -1, 1, 1\\right]</script></html>"
      ],
      "text/plain": [
       "[2, -1, 1, 1]"
      ]
     },
     "metadata": {},
     "output_type": "display_data"
    }
   ],
   "source": [
    "show(A.eigenvalues())"
   ]
  },
  {
   "cell_type": "markdown",
   "metadata": {},
   "source": [
    "Es pot veure com el valor $1$ és _doble_ fent la factorització del polinomi característic."
   ]
  },
  {
   "cell_type": "code",
   "execution_count": 8,
   "metadata": {},
   "outputs": [
    {
     "data": {
      "text/html": [
       "<html><script type=\"math/tex; mode=display\">\\newcommand{\\Bold}[1]{\\mathbf{#1}}(x - 2) \\cdot (x + 1) \\cdot (x - 1)^{2}</script></html>"
      ],
      "text/plain": [
       "(x - 2) * (x + 1) * (x - 1)^2"
      ]
     },
     "metadata": {},
     "output_type": "display_data"
    }
   ],
   "source": [
    "show(A.charpoly().factor())"
   ]
  },
  {
   "cell_type": "markdown",
   "metadata": {},
   "source": [
    "<font color=red>Com que els valors propis són les solucions d'una equació polinòmica, el _normal_ és que siguin **números complexos** amb parts real i imaginària no entera. Per tant, si feu proves amb matrius a l'atzar, en general veureu uns resultats _complicats_.</font>"
   ]
  },
  {
   "cell_type": "code",
   "execution_count": 14,
   "metadata": {},
   "outputs": [],
   "source": [
    "C=matrix(RDF,4,4,[random() for i in range(16)])"
   ]
  },
  {
   "cell_type": "code",
   "execution_count": 15,
   "metadata": {
    "scrolled": true
   },
   "outputs": [
    {
     "data": {
      "text/html": [
       "<html><script type=\"math/tex; mode=display\">\\newcommand{\\Bold}[1]{\\mathbf{#1}}\\left[1.9023358674920132, -0.19629614275561624, 0.41975402642211995, 0.28204727165160465\\right]</script></html>"
      ],
      "text/plain": [
       "[1.9023358674920132,\n",
       " -0.19629614275561624,\n",
       " 0.41975402642211995,\n",
       " 0.28204727165160465]"
      ]
     },
     "metadata": {},
     "output_type": "display_data"
    }
   ],
   "source": [
    "E=C.eigenvalues()\n",
    "show(E)"
   ]
  },
  {
   "cell_type": "code",
   "execution_count": 16,
   "metadata": {},
   "outputs": [
    {
     "data": {
      "text/plain": [
       "Complex Double Field"
      ]
     },
     "execution_count": 16,
     "metadata": {},
     "output_type": "execute_result"
    }
   ],
   "source": [
    "E[3].parent()"
   ]
  },
  {
   "cell_type": "code",
   "execution_count": 20,
   "metadata": {},
   "outputs": [
    {
     "ename": "NotImplementedError",
     "evalue": "eigenspaces cannot be computed reliably for inexact rings such as Real Double Field,\nconsult numerical or symbolic matrix classes for other options",
     "output_type": "error",
     "traceback": [
      "\u001b[0;31m---------------------------------------------------------------------------\u001b[0m",
      "\u001b[0;31mNotImplementedError\u001b[0m                       Traceback (most recent call last)",
      "\u001b[0;32m<ipython-input-20-5967ff0ee6d6>\u001b[0m in \u001b[0;36m<module>\u001b[0;34m()\u001b[0m\n\u001b[0;32m----> 1\u001b[0;31m \u001b[0mshow\u001b[0m\u001b[0;34m(\u001b[0m\u001b[0mC\u001b[0m\u001b[0;34m.\u001b[0m\u001b[0meigenspaces_right\u001b[0m\u001b[0;34m(\u001b[0m\u001b[0;34m)\u001b[0m\u001b[0;34m)\u001b[0m\u001b[0;34m\u001b[0m\u001b[0m\n\u001b[0m",
      "\u001b[0;32m/opt/sagemath-8.6/local/lib/python2.7/site-packages/sage/matrix/matrix2.pyx\u001b[0m in \u001b[0;36msage.matrix.matrix2.Matrix.eigenspaces_right (build/cythonized/sage/matrix/matrix2.c:42225)\u001b[0;34m()\u001b[0m\n\u001b[1;32m   5846\u001b[0m             msg = (\"eigenspaces cannot be computed reliably for inexact rings such as {0},\\n\",\n\u001b[1;32m   5847\u001b[0m                    \"consult numerical or symbolic matrix classes for other options\")\n\u001b[0;32m-> 5848\u001b[0;31m             \u001b[0;32mraise\u001b[0m \u001b[0mNotImplementedError\u001b[0m\u001b[0;34m(\u001b[0m\u001b[0;34m''\u001b[0m\u001b[0;34m.\u001b[0m\u001b[0mjoin\u001b[0m\u001b[0;34m(\u001b[0m\u001b[0mmsg\u001b[0m\u001b[0;34m)\u001b[0m\u001b[0;34m.\u001b[0m\u001b[0mformat\u001b[0m\u001b[0;34m(\u001b[0m\u001b[0mself\u001b[0m\u001b[0;34m.\u001b[0m\u001b[0mbase_ring\u001b[0m\u001b[0;34m(\u001b[0m\u001b[0;34m)\u001b[0m\u001b[0;34m)\u001b[0m\u001b[0;34m)\u001b[0m\u001b[0;34m\u001b[0m\u001b[0m\n\u001b[0m\u001b[1;32m   5849\u001b[0m \u001b[0;34m\u001b[0m\u001b[0m\n\u001b[1;32m   5850\u001b[0m         \u001b[0mformat\u001b[0m \u001b[0;34m=\u001b[0m \u001b[0mself\u001b[0m\u001b[0;34m.\u001b[0m\u001b[0m_eigenspace_format\u001b[0m\u001b[0;34m(\u001b[0m\u001b[0mformat\u001b[0m\u001b[0;34m)\u001b[0m\u001b[0;34m\u001b[0m\u001b[0m\n",
      "\u001b[0;31mNotImplementedError\u001b[0m: eigenspaces cannot be computed reliably for inexact rings such as Real Double Field,\nconsult numerical or symbolic matrix classes for other options"
     ]
    }
   ],
   "source": [
    "show(C.eigenspaces_right())"
   ]
  },
  {
   "cell_type": "code",
   "execution_count": null,
   "metadata": {},
   "outputs": [],
   "source": []
  },
  {
   "cell_type": "markdown",
   "metadata": {},
   "source": [
    "## Vectors propis"
   ]
  },
  {
   "cell_type": "markdown",
   "metadata": {},
   "source": [
    "Cada valor propi $\\lambda$ de la matriu $A$ té associat el subespai vectorial dels _vectors propis_ corresponents. Que són els vectors $\\vec{v}$ que compleixen $A\\cdot \\vec{v}=\\lambda\\, \\vec{v}$. Poden obtenir aquestes dades amb <font color=blue>eigenspaces_right( )</font> o <font color=blue>eigenvectors_right( )</font>."
   ]
  },
  {
   "cell_type": "code",
   "execution_count": 17,
   "metadata": {},
   "outputs": [
    {
     "data": {
      "text/html": [
       "<html><script type=\"math/tex; mode=display\">\\newcommand{\\Bold}[1]{\\mathbf{#1}}\\left[\\left(2, \\mathrm{RowSpan}_{\\Bold{Q}}\\left(\\begin{array}{rrrr}\n",
       "1 & \\frac{2}{3} & -\\frac{1}{2} & -\\frac{1}{6}\n",
       "\\end{array}\\right)\\right), \\left(-1, \\mathrm{RowSpan}_{\\Bold{Q}}\\left(\\begin{array}{rrrr}\n",
       "1 & 1 & -1 & -1\n",
       "\\end{array}\\right)\\right), \\left(1, \\mathrm{RowSpan}_{\\Bold{Q}}\\left(\\begin{array}{rrrr}\n",
       "1 & 0 & -\\frac{1}{2} & -1 \\\\\n",
       "0 & 1 & 0 & 1\n",
       "\\end{array}\\right)\\right)\\right]</script></html>"
      ],
      "text/plain": [
       "[\n",
       "(2, Vector space of degree 4 and dimension 1 over Rational Field\n",
       "User basis matrix:\n",
       "[   1  2/3 -1/2 -1/6]),\n",
       "(-1, Vector space of degree 4 and dimension 1 over Rational Field\n",
       "User basis matrix:\n",
       "[ 1  1 -1 -1]),\n",
       "(1, Vector space of degree 4 and dimension 2 over Rational Field\n",
       "User basis matrix:\n",
       "[   1    0 -1/2   -1]\n",
       "[   0    1    0    1])\n",
       "]"
      ]
     },
     "metadata": {},
     "output_type": "display_data"
    }
   ],
   "source": [
    "show(A.eigenspaces_right())"
   ]
  },
  {
   "cell_type": "markdown",
   "metadata": {},
   "source": [
    "$\\rule{15cm}{3pt}$"
   ]
  },
  {
   "cell_type": "markdown",
   "metadata": {},
   "source": [
    "## <font color=green> Exercicis </font>"
   ]
  },
  {
   "cell_type": "markdown",
   "metadata": {},
   "source": [
    "$\\rule{15cm}{3pt}$"
   ]
  },
  {
   "cell_type": "markdown",
   "metadata": {},
   "source": [
    "<font color=green>\n",
    "    Calculeu, per a cada una de les matrius següents, el polinomi característic, els valors propis i els espais de vectors propis corresponents a cada un d'ells (donant una base de cada un d'ells).\n",
    "    </font>"
   ]
  },
  {
   "cell_type": "code",
   "execution_count": 18,
   "metadata": {},
   "outputs": [
    {
     "data": {
      "text/html": [
       "<html><script type=\"math/tex; mode=display\">\\newcommand{\\Bold}[1]{\\mathbf{#1}}\\verb|A1=| \\left(\\begin{array}{rrr}\n",
       "-8 & -4 & 24 \\\\\n",
       "8 & 5 & -20 \\\\\n",
       "-2 & -1 & 6\n",
       "\\end{array}\\right)</script></html>"
      ],
      "text/plain": [
       "'A1=' [ -8  -4  24]\n",
       "[  8   5 -20]\n",
       "[ -2  -1   6]"
      ]
     },
     "metadata": {},
     "output_type": "display_data"
    },
    {
     "data": {
      "text/html": [
       "<html><script type=\"math/tex; mode=display\">\\newcommand{\\Bold}[1]{\\mathbf{#1}}\\verb|A2=| \\left(\\begin{array}{rrrr}\n",
       "-2 & -1 & -2 & 1 \\\\\n",
       "1 & 1 & 1 & 0 \\\\\n",
       "-1 & -3 & 3 & -1 \\\\\n",
       "-2 & -5 & 3 & -2\n",
       "\\end{array}\\right)</script></html>"
      ],
      "text/plain": [
       "'A2=' [-2 -1 -2  1]\n",
       "[ 1  1  1  0]\n",
       "[-1 -3  3 -1]\n",
       "[-2 -5  3 -2]"
      ]
     },
     "metadata": {},
     "output_type": "display_data"
    },
    {
     "data": {
      "text/html": [
       "<html><script type=\"math/tex; mode=display\">\\newcommand{\\Bold}[1]{\\mathbf{#1}}\\verb|A3=| \\left(\\begin{array}{rrrr}\n",
       "-4 & 2 & -4 & -2 \\\\\n",
       "-7 & 4 & -5 & -2 \\\\\n",
       "1 & -2 & -5 & -4 \\\\\n",
       "1 & 2 & 11 & 8\n",
       "\\end{array}\\right)</script></html>"
      ],
      "text/plain": [
       "'A3=' [-4  2 -4 -2]\n",
       "[-7  4 -5 -2]\n",
       "[ 1 -2 -5 -4]\n",
       "[ 1  2 11  8]"
      ]
     },
     "metadata": {},
     "output_type": "display_data"
    },
    {
     "data": {
      "text/html": [
       "<html><script type=\"math/tex; mode=display\">\\newcommand{\\Bold}[1]{\\mathbf{#1}}\\verb|A4=| \\left(\\begin{array}{rrrrr}\n",
       "7 & 3 & 2 & 18 & 12 \\\\\n",
       "-2 & 0 & 0 & -4 & -4 \\\\\n",
       "5 & 3 & 2 & 12 & 10 \\\\\n",
       "-1 & -1 & 0 & 0 & -2 \\\\\n",
       "-2 & 0 & -1 & -9 & -3\n",
       "\\end{array}\\right)</script></html>"
      ],
      "text/plain": [
       "'A4=' [ 7  3  2 18 12]\n",
       "[-2  0  0 -4 -4]\n",
       "[ 5  3  2 12 10]\n",
       "[-1 -1  0  0 -2]\n",
       "[-2  0 -1 -9 -3]"
      ]
     },
     "metadata": {},
     "output_type": "display_data"
    }
   ],
   "source": [
    "A1=matrix(QQ,3,3,[-8 , -4 , 24,8 , 5 , -20,-2 , -1 , 6])\n",
    "show('A1=', A1)\n",
    "A2=matrix(QQ,4,4,[-2 , -1 , -2 , 1,1 , 1 , 1 , 0 ,-1 , -3 , 3 , -1,-2 , -5 , 3 , -2])\n",
    "show('A2=',A2)\n",
    "A3=matrix(QQ,4,4,[-4, 2 , -4 , -2,-7 , 4 , -5 , -2 ,1 , -2 , -5 , -4 ,1 , 2 , 11 , 8])\n",
    "show('A3=',A3)\n",
    "A4=matrix(QQ,5,5,[7,3,2,18,12,-2,0,0,-4,-4,5,3,2,12,10,-1,-1,0,0,-2,-2,0,-1,-9,-3])\n",
    "show('A4=',A4)\n"
   ]
  },
  {
   "cell_type": "code",
   "execution_count": 19,
   "metadata": {},
   "outputs": [
    {
     "data": {
      "text/html": [
       "<html><script type=\"math/tex; mode=display\">\\newcommand{\\Bold}[1]{\\mathbf{#1}}\\left[\\left(2, \\mathrm{RowSpan}_{\\Bold{Q}}\\left(\\begin{array}{rrr}\n",
       "1 & -1 & \\frac{1}{4}\n",
       "\\end{array}\\right)\\right), \\left(1, \\mathrm{RowSpan}_{\\Bold{Q}}\\left(\\begin{array}{rrr}\n",
       "1 & -\\frac{3}{4} & \\frac{1}{4}\n",
       "\\end{array}\\right)\\right), \\left(0, \\mathrm{RowSpan}_{\\Bold{Q}}\\left(\\begin{array}{rrr}\n",
       "1 & -\\frac{4}{5} & \\frac{1}{5}\n",
       "\\end{array}\\right)\\right)\\right]</script></html>"
      ],
      "text/plain": [
       "[\n",
       "(2, Vector space of degree 3 and dimension 1 over Rational Field\n",
       "User basis matrix:\n",
       "[  1  -1 1/4]),\n",
       "(1, Vector space of degree 3 and dimension 1 over Rational Field\n",
       "User basis matrix:\n",
       "[   1 -3/4  1/4]),\n",
       "(0, Vector space of degree 3 and dimension 1 over Rational Field\n",
       "User basis matrix:\n",
       "[   1 -4/5  1/5])\n",
       "]"
      ]
     },
     "metadata": {},
     "output_type": "display_data"
    }
   ],
   "source": [
    "show(A1.eigenspaces_right())"
   ]
  },
  {
   "cell_type": "code",
   "execution_count": 21,
   "metadata": {},
   "outputs": [
    {
     "data": {
      "text/html": [
       "<html><script type=\"math/tex; mode=display\">\\newcommand{\\Bold}[1]{\\mathbf{#1}}\\left[\\left(1, \\mathrm{RowSpan}_{\\Bold{Q}}\\left(\\begin{array}{rrrr}\n",
       "1 & -1 & -1 & 0\n",
       "\\end{array}\\right)\\right), \\left(-1, \\mathrm{RowSpan}_{\\Bold{Q}}\\left(\\begin{array}{rrrr}\n",
       "1 & -\\frac{1}{2} & 0 & \\frac{1}{2}\n",
       "\\end{array}\\right)\\right)\\right]</script></html>"
      ],
      "text/plain": [
       "[\n",
       "(1, Vector space of degree 4 and dimension 1 over Rational Field\n",
       "User basis matrix:\n",
       "[ 1 -1 -1  0]),\n",
       "(-1, Vector space of degree 4 and dimension 1 over Rational Field\n",
       "User basis matrix:\n",
       "[   1 -1/2    0  1/2])\n",
       "]"
      ]
     },
     "metadata": {},
     "output_type": "display_data"
    }
   ],
   "source": [
    "show(A2.eigenspaces_right())"
   ]
  },
  {
   "cell_type": "code",
   "execution_count": 34,
   "metadata": {},
   "outputs": [
    {
     "data": {
      "text/plain": [
       "(x - 1)^2 * (x + 1)^2"
      ]
     },
     "execution_count": 34,
     "metadata": {},
     "output_type": "execute_result"
    }
   ],
   "source": [
    "A2.charpoly().factor()"
   ]
  },
  {
   "cell_type": "code",
   "execution_count": 35,
   "metadata": {},
   "outputs": [
    {
     "data": {
      "text/plain": [
       "(x - 2) * (x - 1) * x^2"
      ]
     },
     "execution_count": 35,
     "metadata": {},
     "output_type": "execute_result"
    }
   ],
   "source": [
    "A3.charpoly().factor()"
   ]
  },
  {
   "cell_type": "code",
   "execution_count": 22,
   "metadata": {},
   "outputs": [
    {
     "data": {
      "text/html": [
       "<html><script type=\"math/tex; mode=display\">\\newcommand{\\Bold}[1]{\\mathbf{#1}}\\left[\\left(2, \\mathrm{RowSpan}_{\\Bold{Q}}\\left(\\begin{array}{rrrr}\n",
       "1 & 2 & -1 & 1\n",
       "\\end{array}\\right)\\right), \\left(1, \\mathrm{RowSpan}_{\\Bold{Q}}\\left(\\begin{array}{rrrr}\n",
       "1 & \\frac{7}{4} & -\\frac{1}{4} & -\\frac{1}{4}\n",
       "\\end{array}\\right)\\right), \\left(0, \\mathrm{RowSpan}_{\\Bold{Q}}\\left(\\begin{array}{rrrr}\n",
       "1 & 0 & -3 & 4 \\\\\n",
       "0 & 1 & 2 & -3\n",
       "\\end{array}\\right)\\right)\\right]</script></html>"
      ],
      "text/plain": [
       "[\n",
       "(2, Vector space of degree 4 and dimension 1 over Rational Field\n",
       "User basis matrix:\n",
       "[ 1  2 -1  1]),\n",
       "(1, Vector space of degree 4 and dimension 1 over Rational Field\n",
       "User basis matrix:\n",
       "[   1  7/4 -1/4 -1/4]),\n",
       "(0, Vector space of degree 4 and dimension 2 over Rational Field\n",
       "User basis matrix:\n",
       "[ 1  0 -3  4]\n",
       "[ 0  1  2 -3])\n",
       "]"
      ]
     },
     "metadata": {},
     "output_type": "display_data"
    }
   ],
   "source": [
    "show(A3.eigenspaces_right())"
   ]
  },
  {
   "cell_type": "code",
   "execution_count": 23,
   "metadata": {},
   "outputs": [
    {
     "data": {
      "text/html": [
       "<html><script type=\"math/tex; mode=display\">\\newcommand{\\Bold}[1]{\\mathbf{#1}}\\left[\\left(0, \\mathrm{RowSpan}_{\\Bold{Q}}\\left(\\begin{array}{rrrrr}\n",
       "1 & -\\frac{1}{2} & 1 & -\\frac{1}{4} & -\\frac{1}{4}\n",
       "\\end{array}\\right)\\right), \\left(2, \\mathrm{RowSpan}_{\\Bold{Q}}\\left(\\begin{array}{rrrrr}\n",
       "1 & 0 & \\frac{1}{2} & 0 & -\\frac{1}{2} \\\\\n",
       "0 & 1 & -\\frac{3}{2} & 1 & -\\frac{3}{2}\n",
       "\\end{array}\\right)\\right), \\left(1, \\mathrm{RowSpan}_{\\Bold{Q}}\\left(\\begin{array}{rrrrr}\n",
       "1 & 0 & 0 & 0 & -\\frac{1}{2} \\\\\n",
       "0 & 1 & -\\frac{3}{2} & \\frac{1}{2} & -\\frac{3}{4}\n",
       "\\end{array}\\right)\\right)\\right]</script></html>"
      ],
      "text/plain": [
       "[\n",
       "(0, Vector space of degree 5 and dimension 1 over Rational Field\n",
       "User basis matrix:\n",
       "[   1 -1/2    1 -1/4 -1/4]),\n",
       "(2, Vector space of degree 5 and dimension 2 over Rational Field\n",
       "User basis matrix:\n",
       "[   1    0  1/2    0 -1/2]\n",
       "[   0    1 -3/2    1 -3/2]),\n",
       "(1, Vector space of degree 5 and dimension 2 over Rational Field\n",
       "User basis matrix:\n",
       "[   1    0    0    0 -1/2]\n",
       "[   0    1 -3/2  1/2 -3/4])\n",
       "]"
      ]
     },
     "metadata": {},
     "output_type": "display_data"
    }
   ],
   "source": [
    "show(A4.eigenspaces_right())"
   ]
  },
  {
   "cell_type": "markdown",
   "metadata": {},
   "source": [
    "$\\rule{15cm}{3pt}$"
   ]
  },
  {
   "cell_type": "markdown",
   "metadata": {},
   "source": [
    "## Diagonalització"
   ]
  },
  {
   "cell_type": "markdown",
   "metadata": {},
   "source": [
    "<p>\n",
    "    Amb els càlculs que surten en els exercicis anteriors ja és possible determinar quan una matriu és diagonalitzable o no. No obstant, també hi ha funcions específiques (basades en les que ja heu utilitzat) per a decidir directament si una matriu és diagonalitzable i, fins i tot, obtenir la matriu de canvi de base.\n",
    "</p>\n",
    "<p>\n",
    "    Es pot saber si una matriu és diagonalitzable amb el _test_ <font color=blue>is_diagonalizable( )</font> (dona com a resultat **cert** o **fals**) i s'obté la forma diagonal i la matriu de canvi de base amb la instrucció <font color=blue>eigenmatrix_right( )</font> (quan s'aplica s'obté una llista amb aquests dos elements).\n",
    "</p>\n",
    "<p>\n",
    "    Amb la matriu $A$ que hi ha definida des del principi (que és diagonalitzable com ja deveu haver vist) tindrem:\n",
    "</p>"
   ]
  },
  {
   "cell_type": "code",
   "execution_count": 24,
   "metadata": {},
   "outputs": [
    {
     "data": {
      "text/plain": [
       "True"
      ]
     },
     "execution_count": 24,
     "metadata": {},
     "output_type": "execute_result"
    }
   ],
   "source": [
    "A.is_diagonalizable()"
   ]
  },
  {
   "cell_type": "code",
   "execution_count": 25,
   "metadata": {},
   "outputs": [
    {
     "data": {
      "text/html": [
       "<html><script type=\"math/tex; mode=display\">\\newcommand{\\Bold}[1]{\\mathbf{#1}}\\left(\\begin{array}{rrrr}\n",
       "2 & 0 & 0 & 0 \\\\\n",
       "0 & -1 & 0 & 0 \\\\\n",
       "0 & 0 & 1 & 0 \\\\\n",
       "0 & 0 & 0 & 1\n",
       "\\end{array}\\right)</script></html>"
      ],
      "text/plain": [
       "[ 2  0  0  0]\n",
       "[ 0 -1  0  0]\n",
       "[ 0  0  1  0]\n",
       "[ 0  0  0  1]"
      ]
     },
     "metadata": {},
     "output_type": "display_data"
    },
    {
     "data": {
      "text/html": [
       "<html><script type=\"math/tex; mode=display\">\\newcommand{\\Bold}[1]{\\mathbf{#1}}\\left(\\begin{array}{rrrr}\n",
       "1 & 1 & 1 & 0 \\\\\n",
       "\\frac{2}{3} & 1 & 0 & 1 \\\\\n",
       "-\\frac{1}{2} & -1 & -\\frac{1}{2} & 0 \\\\\n",
       "-\\frac{1}{6} & -1 & -1 & 1\n",
       "\\end{array}\\right)</script></html>"
      ],
      "text/plain": [
       "[   1    1    1    0]\n",
       "[ 2/3    1    0    1]\n",
       "[-1/2   -1 -1/2    0]\n",
       "[-1/6   -1   -1    1]"
      ]
     },
     "metadata": {},
     "output_type": "display_data"
    }
   ],
   "source": [
    "[D,M]=A.eigenmatrix_right()\n",
    "show(D)\n",
    "show(M)"
   ]
  },
  {
   "cell_type": "code",
   "execution_count": 15,
   "metadata": {},
   "outputs": [
    {
     "data": {
      "text/plain": [
       "True"
      ]
     },
     "execution_count": 15,
     "metadata": {},
     "output_type": "execute_result"
    }
   ],
   "source": [
    "M*D*M.inverse()==A\n",
    "M.inverse()*A*M==D\n"
   ]
  },
  {
   "cell_type": "code",
   "execution_count": 26,
   "metadata": {},
   "outputs": [
    {
     "data": {
      "text/html": [
       "<html><script type=\"math/tex; mode=display\">\\newcommand{\\Bold}[1]{\\mathbf{#1}}\\left(\\begin{array}{rrrr}\n",
       "1.9023358674920128 & 0.0 & 0.0 & 0.0 \\\\\n",
       "0.0 & -0.19629614275561644 & 0.0 & 0.0 \\\\\n",
       "0.0 & 0.0 & 0.4197540264221205 & 0.0 \\\\\n",
       "0.0 & 0.0 & 0.0 & 0.2820472716516043\n",
       "\\end{array}\\right)</script></html>"
      ],
      "text/plain": [
       "[  1.9023358674920128                  0.0                  0.0                  0.0]\n",
       "[                 0.0 -0.19629614275561644                  0.0                  0.0]\n",
       "[                 0.0                  0.0   0.4197540264221205                  0.0]\n",
       "[                 0.0                  0.0                  0.0   0.2820472716516043]"
      ]
     },
     "metadata": {},
     "output_type": "display_data"
    },
    {
     "data": {
      "text/html": [
       "<html><script type=\"math/tex; mode=display\">\\newcommand{\\Bold}[1]{\\mathbf{#1}}\\left(\\begin{array}{rrrr}\n",
       "-0.7783923042620083 & -0.6061700147531929 & 0.4396968273562398 & -0.3421238258132834 \\\\\n",
       "-0.5207311969024687 & 0.7893802784958011 & 0.3632264071192612 & -0.3043600772138745 \\\\\n",
       "-0.2596312305311396 & -0.09608224911895555 & -0.18579256903825042 & -0.030425265875645403 \\\\\n",
       "-0.23566091184388135 & -0.014313998052552972 & -0.8001339878259495 & 0.8884765243976022\n",
       "\\end{array}\\right)</script></html>"
      ],
      "text/plain": [
       "[  -0.7783923042620083   -0.6061700147531929    0.4396968273562398   -0.3421238258132834]\n",
       "[  -0.5207311969024687    0.7893802784958011    0.3632264071192612   -0.3043600772138745]\n",
       "[  -0.2596312305311396  -0.09608224911895555  -0.18579256903825042 -0.030425265875645403]\n",
       "[ -0.23566091184388135 -0.014313998052552972   -0.8001339878259495    0.8884765243976022]"
      ]
     },
     "metadata": {},
     "output_type": "display_data"
    }
   ],
   "source": [
    "[D,M]=C.eigenmatrix_right()\n",
    "show(D)\n",
    "show(M)"
   ]
  },
  {
   "cell_type": "code",
   "execution_count": 32,
   "metadata": {},
   "outputs": [
    {
     "data": {
      "text/plain": [
       "False"
      ]
     },
     "execution_count": 32,
     "metadata": {},
     "output_type": "execute_result"
    }
   ],
   "source": [
    "(M*D*M.inverse()).zero_at(1e-10)==C.zero_at(1e-10)"
   ]
  },
  {
   "cell_type": "code",
   "execution_count": 30,
   "metadata": {},
   "outputs": [
    {
     "data": {
      "text/html": [
       "<html><script type=\"math/tex; mode=display\">\\newcommand{\\Bold}[1]{\\mathbf{#1}}\\left(\\begin{array}{rrrr}\n",
       "0.0 & 0.0 & 0.0 & 0.0 \\\\\n",
       "0.0 & 0.0 & 0.0 & 0.0 \\\\\n",
       "0.0 & 0.0 & 0.0 & 0.0 \\\\\n",
       "0.0 & 0.0 & 0.0 & 0.0\n",
       "\\end{array}\\right)</script></html>"
      ],
      "text/plain": [
       "[0.0 0.0 0.0 0.0]\n",
       "[0.0 0.0 0.0 0.0]\n",
       "[0.0 0.0 0.0 0.0]\n",
       "[0.0 0.0 0.0 0.0]"
      ]
     },
     "metadata": {},
     "output_type": "display_data"
    }
   ],
   "source": [
    "show((M*D*M.inverse()-C).zero_at(1e-12))"
   ]
  },
  {
   "cell_type": "code",
   "execution_count": null,
   "metadata": {},
   "outputs": [],
   "source": []
  },
  {
   "cell_type": "code",
   "execution_count": null,
   "metadata": {},
   "outputs": [],
   "source": []
  },
  {
   "cell_type": "code",
   "execution_count": null,
   "metadata": {},
   "outputs": [],
   "source": []
  },
  {
   "cell_type": "code",
   "execution_count": null,
   "metadata": {},
   "outputs": [],
   "source": []
  },
  {
   "cell_type": "code",
   "execution_count": null,
   "metadata": {},
   "outputs": [],
   "source": []
  },
  {
   "cell_type": "code",
   "execution_count": null,
   "metadata": {},
   "outputs": [],
   "source": []
  },
  {
   "cell_type": "markdown",
   "metadata": {},
   "source": [
    "$\\rule{15cm}{3pt}$"
   ]
  },
  {
   "cell_type": "markdown",
   "metadata": {},
   "source": [
    "## <font color=green> Exercicis </font>"
   ]
  },
  {
   "cell_type": "markdown",
   "metadata": {},
   "source": [
    "$\\rule{15cm}{3pt}$"
   ]
  },
  {
   "cell_type": "markdown",
   "metadata": {},
   "source": [
    "<font color=green>\n",
    "    Determineu quines de les matrius de l'apartat anterior són diagonalitzables. Doneu la matriu de canvi de base en aquests casos.\n",
    "    </font>"
   ]
  },
  {
   "cell_type": "code",
   "execution_count": 36,
   "metadata": {},
   "outputs": [
    {
     "data": {
      "text/html": [
       "<html><script type=\"math/tex; mode=display\">\\newcommand{\\Bold}[1]{\\mathbf{#1}}\\left(\\begin{array}{rrr}\n",
       "2 & 0 & 0 \\\\\n",
       "0 & 1 & 0 \\\\\n",
       "0 & 0 & 0\n",
       "\\end{array}\\right)</script></html>"
      ],
      "text/plain": [
       "[2 0 0]\n",
       "[0 1 0]\n",
       "[0 0 0]"
      ]
     },
     "metadata": {},
     "output_type": "display_data"
    },
    {
     "data": {
      "text/html": [
       "<html><script type=\"math/tex; mode=display\">\\newcommand{\\Bold}[1]{\\mathbf{#1}}\\left(\\begin{array}{rrr}\n",
       "1 & 1 & 1 \\\\\n",
       "-1 & -\\frac{3}{4} & -\\frac{4}{5} \\\\\n",
       "\\frac{1}{4} & \\frac{1}{4} & \\frac{1}{5}\n",
       "\\end{array}\\right)</script></html>"
      ],
      "text/plain": [
       "[   1    1    1]\n",
       "[  -1 -3/4 -4/5]\n",
       "[ 1/4  1/4  1/5]"
      ]
     },
     "metadata": {},
     "output_type": "display_data"
    }
   ],
   "source": [
    "[D,M]=A1.eigenmatrix_right()\n",
    "show(D)\n",
    "show(M)"
   ]
  },
  {
   "cell_type": "code",
   "execution_count": 37,
   "metadata": {},
   "outputs": [
    {
     "data": {
      "text/html": [
       "<html><script type=\"math/tex; mode=display\">\\newcommand{\\Bold}[1]{\\mathbf{#1}}\\left(\\begin{array}{rrrr}\n",
       "1 & 0 & 0 & 0 \\\\\n",
       "0 & 1 & 0 & 0 \\\\\n",
       "0 & 0 & -1 & 0 \\\\\n",
       "0 & 0 & 0 & -1\n",
       "\\end{array}\\right)</script></html>"
      ],
      "text/plain": [
       "[ 1  0  0  0]\n",
       "[ 0  1  0  0]\n",
       "[ 0  0 -1  0]\n",
       "[ 0  0  0 -1]"
      ]
     },
     "metadata": {},
     "output_type": "display_data"
    },
    {
     "data": {
      "text/html": [
       "<html><script type=\"math/tex; mode=display\">\\newcommand{\\Bold}[1]{\\mathbf{#1}}\\left(\\begin{array}{rrrr}\n",
       "1 & 0 & 1 & 0 \\\\\n",
       "-1 & 0 & -\\frac{1}{2} & 0 \\\\\n",
       "-1 & 0 & 0 & 0 \\\\\n",
       "0 & 0 & \\frac{1}{2} & 0\n",
       "\\end{array}\\right)</script></html>"
      ],
      "text/plain": [
       "[   1    0    1    0]\n",
       "[  -1    0 -1/2    0]\n",
       "[  -1    0    0    0]\n",
       "[   0    0  1/2    0]"
      ]
     },
     "metadata": {},
     "output_type": "display_data"
    }
   ],
   "source": [
    "[D,M]=A2.eigenmatrix_right()\n",
    "show(D)\n",
    "show(M)"
   ]
  },
  {
   "cell_type": "markdown",
   "metadata": {},
   "source": [
    "<font color=red> IMPORTANT: Si la matriu no es diagonalitzable, la resposta de eigenmatrix_right és un parell amb una matriu diagonal i una matriu que no és invertible </font>"
   ]
  },
  {
   "cell_type": "code",
   "execution_count": 39,
   "metadata": {},
   "outputs": [
    {
     "data": {
      "text/html": [
       "<html><script type=\"math/tex; mode=display\">\\newcommand{\\Bold}[1]{\\mathbf{#1}}\\left(\\left(\\begin{array}{rrrr}\n",
       "2 & 0 & 0 & 0 \\\\\n",
       "0 & 1 & 0 & 0 \\\\\n",
       "0 & 0 & 0 & 0 \\\\\n",
       "0 & 0 & 0 & 0\n",
       "\\end{array}\\right), \\left(\\begin{array}{rrrr}\n",
       "1 & 1 & 1 & 0 \\\\\n",
       "2 & \\frac{7}{4} & 0 & 1 \\\\\n",
       "-1 & -\\frac{1}{4} & -3 & 2 \\\\\n",
       "1 & -\\frac{1}{4} & 4 & -3\n",
       "\\end{array}\\right)\\right)</script></html>"
      ],
      "text/plain": [
       "(\n",
       "[2 0 0 0]  [   1    1    1    0]\n",
       "[0 1 0 0]  [   2  7/4    0    1]\n",
       "[0 0 0 0]  [  -1 -1/4   -3    2]\n",
       "[0 0 0 0], [   1 -1/4    4   -3]\n",
       ")"
      ]
     },
     "metadata": {},
     "output_type": "display_data"
    }
   ],
   "source": [
    "show(A3.eigenmatrix_right())"
   ]
  },
  {
   "cell_type": "code",
   "execution_count": 41,
   "metadata": {},
   "outputs": [
    {
     "data": {
      "text/html": [
       "<html><script type=\"math/tex; mode=display\">\\newcommand{\\Bold}[1]{\\mathbf{#1}}\\mathrm{True}</script></html>"
      ],
      "text/plain": [
       "True"
      ]
     },
     "metadata": {},
     "output_type": "display_data"
    },
    {
     "data": {
      "text/html": [
       "<html><script type=\"math/tex; mode=display\">\\newcommand{\\Bold}[1]{\\mathbf{#1}}\\left(\\left(\\begin{array}{rrrrr}\n",
       "0 & 0 & 0 & 0 & 0 \\\\\n",
       "0 & 2 & 0 & 0 & 0 \\\\\n",
       "0 & 0 & 2 & 0 & 0 \\\\\n",
       "0 & 0 & 0 & 1 & 0 \\\\\n",
       "0 & 0 & 0 & 0 & 1\n",
       "\\end{array}\\right), \\left(\\begin{array}{rrrrr}\n",
       "1 & 1 & 0 & 1 & 0 \\\\\n",
       "-\\frac{1}{2} & 0 & 1 & 0 & 1 \\\\\n",
       "1 & \\frac{1}{2} & -\\frac{3}{2} & 0 & -\\frac{3}{2} \\\\\n",
       "-\\frac{1}{4} & 0 & 1 & 0 & \\frac{1}{2} \\\\\n",
       "-\\frac{1}{4} & -\\frac{1}{2} & -\\frac{3}{2} & -\\frac{1}{2} & -\\frac{3}{4}\n",
       "\\end{array}\\right)\\right)</script></html>"
      ],
      "text/plain": [
       "(\n",
       "[0 0 0 0 0]  [   1    1    0    1    0]\n",
       "[0 2 0 0 0]  [-1/2    0    1    0    1]\n",
       "[0 0 2 0 0]  [   1  1/2 -3/2    0 -3/2]\n",
       "[0 0 0 1 0]  [-1/4    0    1    0  1/2]\n",
       "[0 0 0 0 1], [-1/4 -1/2 -3/2 -1/2 -3/4]\n",
       ")"
      ]
     },
     "metadata": {},
     "output_type": "display_data"
    }
   ],
   "source": [
    "show(A4.is_diagonalizable())\n",
    "show(A4.eigenmatrix_right())"
   ]
  },
  {
   "cell_type": "markdown",
   "metadata": {},
   "source": [
    "## Diagonalització de matrius simètriques "
   ]
  },
  {
   "cell_type": "markdown",
   "metadata": {},
   "source": [
    "Recordeu que una matriu simmètrica $M$ es pot diagonalitzar sempre en els reals usant una matriu ortogonal $Q$ (una matriu tal que $Q^{-1}=Q^t$)."
   ]
  },
  {
   "cell_type": "markdown",
   "metadata": {},
   "source": [
    "La funció que dòna aquesta siagonalització és M.schur() (qe donada una matriu al cos RDF, respon dues matrius, la matriu ortogonal $Q$ i la mariu diagonal $D$). Compte que son matrius en un cos que no és exacte, així que per a reconeixer el \"zero\" cal dir-li amb quantes xifres estem treballant. "
   ]
  },
  {
   "cell_type": "code",
   "execution_count": 43,
   "metadata": {},
   "outputs": [
    {
     "data": {
      "text/html": [
       "<html><script type=\"math/tex; mode=display\">\\newcommand{\\Bold}[1]{\\mathbf{#1}}\\left(\\begin{array}{rrr}\n",
       "1.0 & 2.0 & 3.0 \\\\\n",
       "2.0 & 1.0 & 4.0 \\\\\n",
       "3.0 & 4.0 & 1.0\n",
       "\\end{array}\\right)</script></html>"
      ],
      "text/plain": [
       "[1.0 2.0 3.0]\n",
       "[2.0 1.0 4.0]\n",
       "[3.0 4.0 1.0]"
      ]
     },
     "metadata": {},
     "output_type": "display_data"
    },
    {
     "data": {
      "text/html": [
       "<html><script type=\"math/tex; mode=display\">\\newcommand{\\Bold}[1]{\\mathbf{#1}}\\mathrm{True}</script></html>"
      ],
      "text/plain": [
       "True"
      ]
     },
     "metadata": {},
     "output_type": "display_data"
    },
    {
     "data": {
      "text/html": [
       "<html><script type=\"math/tex; mode=display\">\\newcommand{\\Bold}[1]{\\mathbf{#1}}\\left(\\begin{array}{rrr}\n",
       "0.5057852072840953 & 0.8240377308542701 & -0.2552315462891109 \\\\\n",
       "0.5843738280904734 & -0.5449250859307992 & -0.6013018208572104 \\\\\n",
       "0.6345774603115607 & -0.15497893034814927 & 0.7571611308121098\n",
       "\\end{array}\\right)</script></html>"
      ],
      "text/plain": [
       "[  0.5057852072840953   0.8240377308542701  -0.2552315462891109]\n",
       "[  0.5843738280904734  -0.5449250859307992  -0.6013018208572104]\n",
       "[  0.6345774603115607 -0.15497893034814927   0.7571611308121098]"
      ]
     },
     "metadata": {},
     "output_type": "display_data"
    },
    {
     "data": {
      "text/html": [
       "<html><script type=\"math/tex; mode=display\">\\newcommand{\\Bold}[1]{\\mathbf{#1}}\\left(\\begin{array}{rrr}\n",
       "7.0746735825151275 & 0.0 & 0.0 \\\\\n",
       "0.0 & -0.8867909862503724 & 0.0 \\\\\n",
       "0.0 & 0.0 & -3.1878825962647523\n",
       "\\end{array}\\right)</script></html>"
      ],
      "text/plain": [
       "[ 7.0746735825151275                 0.0                 0.0]\n",
       "[                0.0 -0.8867909862503724                 0.0]\n",
       "[                0.0                 0.0 -3.1878825962647523]"
      ]
     },
     "metadata": {},
     "output_type": "display_data"
    }
   ],
   "source": [
    "M=matrix(RDF,[[1,2,3],[2,1,4],[3,4,1]])\n",
    "show(M)\n",
    "show(M.is_symmetric())\n",
    "Q, T = M.schur()\n",
    "show(Q)\n",
    "show(T.zero_at(1e-12))\n"
   ]
  },
  {
   "cell_type": "markdown",
   "metadata": {},
   "source": [
    "Comprovem que la matriu Q és ortogonal (i li diem que el usem 12 xifres decimals)"
   ]
  },
  {
   "cell_type": "code",
   "execution_count": 44,
   "metadata": {},
   "outputs": [
    {
     "data": {
      "text/html": [
       "<html><script type=\"math/tex; mode=display\">\\newcommand{\\Bold}[1]{\\mathbf{#1}}\\left(\\begin{array}{rrr}\n",
       "1.0000000000000002 & 0.0 & 0.0 \\\\\n",
       "0.0 & 0.9999999999999999 & 0.0 \\\\\n",
       "0.0 & 0.0 & 0.9999999999999998\n",
       "\\end{array}\\right)</script></html>"
      ],
      "text/plain": [
       "[1.0000000000000002                0.0                0.0]\n",
       "[               0.0 0.9999999999999999                0.0]\n",
       "[               0.0                0.0 0.9999999999999998]"
      ]
     },
     "metadata": {},
     "output_type": "display_data"
    }
   ],
   "source": [
    "show((Q*Q.transpose()).zero_at(1e-12))"
   ]
  },
  {
   "cell_type": "markdown",
   "metadata": {},
   "source": [
    "Comprovem que ens donen una diagonalització simmetrica. "
   ]
  },
  {
   "cell_type": "code",
   "execution_count": 46,
   "metadata": {
    "scrolled": true
   },
   "outputs": [
    {
     "data": {
      "text/html": [
       "<html><script type=\"math/tex; mode=display\">\\newcommand{\\Bold}[1]{\\mathbf{#1}}\\left(\\begin{array}{rrr}\n",
       "1.0000000000000013 & 2.0000000000000004 & 3.000000000000001 \\\\\n",
       "2.0000000000000013 & 1.0 & 4.000000000000002 \\\\\n",
       "3.000000000000001 & 3.999999999999999 & 0.9999999999999998\n",
       "\\end{array}\\right)</script></html>"
      ],
      "text/plain": [
       "[1.0000000000000013 2.0000000000000004  3.000000000000001]\n",
       "[2.0000000000000013                1.0  4.000000000000002]\n",
       "[ 3.000000000000001  3.999999999999999 0.9999999999999998]"
      ]
     },
     "metadata": {},
     "output_type": "display_data"
    }
   ],
   "source": [
    "show(Q*T*Q.transpose())"
   ]
  },
  {
   "cell_type": "code",
   "execution_count": 48,
   "metadata": {},
   "outputs": [
    {
     "data": {
      "text/html": [
       "<html><script type=\"math/tex; mode=display\">\\newcommand{\\Bold}[1]{\\mathbf{#1}}\\left(\\begin{array}{rrr}\n",
       "7.074673582515124 & 0.0 & 0.0 \\\\\n",
       "0.0 & -0.8867909862503726 & 0.0 \\\\\n",
       "0.0 & 0.0 & -3.1878825962647532\n",
       "\\end{array}\\right)</script></html>"
      ],
      "text/plain": [
       "[  7.074673582515124                 0.0                 0.0]\n",
       "[                0.0 -0.8867909862503726                 0.0]\n",
       "[                0.0                 0.0 -3.1878825962647532]"
      ]
     },
     "metadata": {},
     "output_type": "display_data"
    }
   ],
   "source": [
    "show((Q.transpose()*M*Q).zero_at(1e-10))"
   ]
  },
  {
   "cell_type": "markdown",
   "metadata": {},
   "source": [
    "## Valors singulars i la descomposició SVD"
   ]
  },
  {
   "cell_type": "markdown",
   "metadata": {},
   "source": [
    "Per a fer la descomposició SVD (amb valors singulars) d'una matriu qualsevol podem utilitzar la funció .SVD() (sempre que la matriu estigui en un cos real RDF)"
   ]
  },
  {
   "cell_type": "markdown",
   "metadata": {},
   "source": [
    "La resposta de la funció són tres matrius $U$, $S$ i $V$ de manera que $U*S*V^t$ és la matriu original, "
   ]
  },
  {
   "cell_type": "code",
   "execution_count": 49,
   "metadata": {},
   "outputs": [
    {
     "data": {
      "text/html": [
       "<html><script type=\"math/tex; mode=display\">\\newcommand{\\Bold}[1]{\\mathbf{#1}}\\left(\\begin{array}{rr}\n",
       "1.0000000000000009 & 0.0 \\\\\n",
       "0.0 & 1.0000000000000009\n",
       "\\end{array}\\right)</script></html>"
      ],
      "text/plain": [
       "[1.0000000000000009                0.0]\n",
       "[               0.0 1.0000000000000009]"
      ]
     },
     "metadata": {},
     "output_type": "display_data"
    },
    {
     "data": {
      "text/html": [
       "<html><script type=\"math/tex; mode=display\">\\newcommand{\\Bold}[1]{\\mathbf{#1}}\\left(\\begin{array}{rrr}\n",
       "1.0000000000000004 & -3.3306690738754696 \\times 10^{-16} & -2.498001805406602 \\times 10^{-16} \\\\\n",
       "-3.3306690738754696 \\times 10^{-16} & 1.0 & 0.0 \\\\\n",
       "-2.498001805406602 \\times 10^{-16} & 0.0 & 1.0000000000000002\n",
       "\\end{array}\\right)</script></html>"
      ],
      "text/plain": [
       "[     1.0000000000000004 -3.3306690738754696e-16  -2.498001805406602e-16]\n",
       "[-3.3306690738754696e-16                     1.0                     0.0]\n",
       "[ -2.498001805406602e-16                     0.0      1.0000000000000002]"
      ]
     },
     "metadata": {},
     "output_type": "display_data"
    },
    {
     "data": {
      "text/html": [
       "<html><script type=\"math/tex; mode=display\">\\newcommand{\\Bold}[1]{\\mathbf{#1}}\\left(\\begin{array}{rrr}\n",
       "11.10049149632825 & 0.0 & 0.0 \\\\\n",
       "0.0 & 0.8826599231550794 & 0.0\n",
       "\\end{array}\\right)</script></html>"
      ],
      "text/plain": [
       "[ 11.10049149632825                0.0                0.0]\n",
       "[               0.0 0.8826599231550794                0.0]"
      ]
     },
     "metadata": {},
     "output_type": "display_data"
    },
    {
     "data": {
      "text/html": [
       "<html><script type=\"math/tex; mode=display\">\\newcommand{\\Bold}[1]{\\mathbf{#1}}\\left(\\begin{array}{rrr}\n",
       "0.9999999999999999 & 2.0 & 3.000000000000001 \\\\\n",
       "4.999999999999999 & 6.0 & 7.000000000000001\n",
       "\\end{array}\\right)</script></html>"
      ],
      "text/plain": [
       "[0.9999999999999999                2.0  3.000000000000001]\n",
       "[ 4.999999999999999                6.0  7.000000000000001]"
      ]
     },
     "metadata": {},
     "output_type": "display_data"
    }
   ],
   "source": [
    "M=matrix(RDF,[[1,2,3],[5,6,7]])\n",
    "U,S,V=M.SVD()\n",
    "show(U*U.transpose().zero_at(1e-12))\n",
    "show(V*V.transpose().zero_at(1e-12))\n",
    "show(S)\n",
    "show(U*S*V.transpose())"
   ]
  },
  {
   "cell_type": "markdown",
   "metadata": {},
   "source": [
    "Anem a veure com els primers valors de la diagonal de S contenen molta informació sobre la matriu original. Construim la matriu que conté tots els nombres de 1 a 100 ordenats, i trobem la descomposicío SVD. Fixem-nos en els tres primers valors."
   ]
  },
  {
   "cell_type": "code",
   "execution_count": 51,
   "metadata": {},
   "outputs": [
    {
     "data": {
      "text/html": [
       "<html><script type=\"math/tex; mode=display\">\\newcommand{\\Bold}[1]{\\mathbf{#1}}\\left(\\begin{array}{rrrrr}\n",
       "581.5055633612106 & 0.0 & 0.0 & 0.0 & 0.0 \\\\\n",
       "0.0 & 14.187310525996459 & 0.0 & 0.0 & 0.0 \\\\\n",
       "0.0 & 0.0 & 2.467608272293344 \\times 10^{-14} & 0.0 & 0.0 \\\\\n",
       "0.0 & 0.0 & 0.0 & 1.7231596997996365 \\times 10^{-14} & 0.0 \\\\\n",
       "0.0 & 0.0 & 0.0 & 0.0 & 1.1636494966301168 \\times 10^{-14}\n",
       "\\end{array}\\right)</script></html>"
      ],
      "text/plain": [
       "[     581.5055633612106                    0.0                    0.0                    0.0                    0.0]\n",
       "[                   0.0     14.187310525996459                    0.0                    0.0                    0.0]\n",
       "[                   0.0                    0.0  2.467608272293344e-14                    0.0                    0.0]\n",
       "[                   0.0                    0.0                    0.0 1.7231596997996365e-14                    0.0]\n",
       "[                   0.0                    0.0                    0.0                    0.0 1.1636494966301168e-14]"
      ]
     },
     "metadata": {},
     "output_type": "display_data"
    }
   ],
   "source": [
    "M=matrix(RDF,10,10,range(1,101))\n",
    "U,S,V=M.SVD()\n",
    "show(S[0:5,0:5])"
   ]
  },
  {
   "cell_type": "markdown",
   "metadata": {},
   "source": [
    "Podeu veure que el tercer valor és molt petit. I de fet la resta de valors són encara més petits. Si ara substituim tots els altres valors per zero en tenim prou per a recuperar la matriu. De fet només cal utilitzar les dues primeres columnes de U i de V. En resum, només guardant els dos primers valors de S i les dues primeres columnes de U i de V podem recuperar S amb bastanta aproximació. "
   ]
  },
  {
   "cell_type": "code",
   "execution_count": 54,
   "metadata": {},
   "outputs": [
    {
     "data": {
      "text/html": [
       "<html><script type=\"math/tex; mode=display\">\\newcommand{\\Bold}[1]{\\mathbf{#1}}\\left(\\begin{array}{rrrrrrrrrr}\n",
       "-0.030552895657447676 & -0.5869591689559768 & 0.7691066252948353 & -0.17588324545407422 & 0.10353501416345454 & -0.1291833672351795 & 0.00901028532964016 & 0.03625258273894211 & -0.05392712682743747 & -0.019342334624143087 \\\\\n",
       "-0.08488355629096525 & -0.4912022295920967 & -0.30396911731331305 & 0.18006680508592293 & 0.06142008394005427 & 0.09443425984718942 & 0.28333538681580517 & 0.15574137678793257 & 0.28029503246098253 & 0.6564327792766059 \\\\\n",
       "-0.13921421692448227 & -0.39544529022821717 & -0.2637433464148537 & 0.12865796796774032 & -0.09791212720869219 & -0.18719517712604564 & -0.27777501113170017 & -0.06662651154412988 & 0.5651397775093223 & -0.5408504070220392 \\\\\n",
       "-0.19354487755799932 & -0.29968835086433754 & -0.15055094534099772 & 0.15847612524472166 & -0.32413909620971615 & 0.052542017037300145 & 0.17934114747572155 & -0.6900106785881451 & -0.4530432294389807 & -0.05995026756856597 \\\\\n",
       "-0.24787553819151634 & -0.20393141150045788 & -0.3248860015898914 & -0.10487390084262023 & 0.02604350202024595 & -0.3702617226958157 & 0.10015075938630652 & 0.5564490961074829 & -0.5303249613172972 & -0.20429856781399355 \\\\\n",
       "-0.30220619882503336 & -0.10817447213657835 & -0.09329811291994805 & -0.04704840314773488 & 0.2684113717203248 & 0.2743485445291603 & -0.796233045428896 & -0.047322263375257405 & -0.21903710852913694 & 0.233529664808842 \\\\\n",
       "-0.3565368594585504 & -0.012417532772698608 & 0.05279919247160253 & 0.1178829978351359 & 0.3361557510271549 & 0.67828800664438 & 0.3494462646141335 & 0.13228652742094002 & 0.00931478987105325 & -0.3785084218568715 \\\\\n",
       "-0.4108675200920674 & 0.0833394065911808 & -0.0949009903065281 & -0.8357530514189783 & -0.16987926737552086 & 0.02576753177062901 & 0.1306621831867847 & -0.12581763411609534 & 0.21581939240269976 & 0.08803089708027884 \\\\\n",
       "-0.4651981807255845 & 0.1790963459550609 & 0.2883292706304432 & 0.3213724672933652 & -0.6655280465853383 & 0.0698057158856615 & -0.10488224485754927 & 0.2960646523168289 & 0.07345490211217934 & 0.1151108832147667 \\\\\n",
       "-0.5195288413591015 & 0.2748532853189399 & 0.1211134254886505 & 0.2571022374365219 & 0.4618928145080327 & -0.5085458086572792 & 0.12694427460975383 & -0.24701714774849848 & 0.11230853175661505 & 0.10984577450511983\n",
       "\\end{array}\\right)</script></html>"
      ],
      "text/plain": [
       "[-0.030552895657447676   -0.5869591689559768    0.7691066252948353  -0.17588324545407422   0.10353501416345454   -0.1291833672351795   0.00901028532964016   0.03625258273894211  -0.05392712682743747 -0.019342334624143087]\n",
       "[ -0.08488355629096525   -0.4912022295920967  -0.30396911731331305   0.18006680508592293   0.06142008394005427   0.09443425984718942   0.28333538681580517   0.15574137678793257   0.28029503246098253    0.6564327792766059]\n",
       "[ -0.13921421692448227  -0.39544529022821717   -0.2637433464148537   0.12865796796774032  -0.09791212720869219  -0.18719517712604564  -0.27777501113170017  -0.06662651154412988    0.5651397775093223   -0.5408504070220392]\n",
       "[ -0.19354487755799932  -0.29968835086433754  -0.15055094534099772   0.15847612524472166  -0.32413909620971615  0.052542017037300145   0.17934114747572155   -0.6900106785881451   -0.4530432294389807  -0.05995026756856597]\n",
       "[ -0.24787553819151634  -0.20393141150045788   -0.3248860015898914  -0.10487390084262023   0.02604350202024595   -0.3702617226958157   0.10015075938630652    0.5564490961074829   -0.5303249613172972  -0.20429856781399355]\n",
       "[ -0.30220619882503336  -0.10817447213657835  -0.09329811291994805  -0.04704840314773488    0.2684113717203248    0.2743485445291603    -0.796233045428896 -0.047322263375257405  -0.21903710852913694     0.233529664808842]\n",
       "[  -0.3565368594585504 -0.012417532772698608   0.05279919247160253    0.1178829978351359    0.3361557510271549      0.67828800664438    0.3494462646141335   0.13228652742094002   0.00931478987105325   -0.3785084218568715]\n",
       "[  -0.4108675200920674    0.0833394065911808   -0.0949009903065281   -0.8357530514189783  -0.16987926737552086   0.02576753177062901    0.1306621831867847  -0.12581763411609534   0.21581939240269976   0.08803089708027884]\n",
       "[  -0.4651981807255845    0.1790963459550609    0.2883292706304432    0.3213724672933652   -0.6655280465853383    0.0698057158856615  -0.10488224485754927    0.2960646523168289   0.07345490211217934    0.1151108832147667]\n",
       "[  -0.5195288413591015    0.2748532853189399    0.1211134254886505    0.2571022374365219    0.4618928145080327   -0.5085458086572792   0.12694427460975383  -0.24701714774849848   0.11230853175661505   0.10984577450511983]"
      ]
     },
     "metadata": {},
     "output_type": "display_data"
    },
    {
     "data": {
      "text/html": [
       "<html><script type=\"math/tex; mode=display\">\\newcommand{\\Bold}[1]{\\mathbf{#1}}\\left(\\begin{array}{rr}\n",
       "-0.030552895657447676 & -0.5869591689559768 \\\\\n",
       "-0.08488355629096525 & -0.4912022295920967 \\\\\n",
       "-0.13921421692448227 & -0.39544529022821717 \\\\\n",
       "-0.19354487755799932 & -0.29968835086433754 \\\\\n",
       "-0.24787553819151634 & -0.20393141150045788 \\\\\n",
       "-0.30220619882503336 & -0.10817447213657835 \\\\\n",
       "-0.3565368594585504 & -0.012417532772698608 \\\\\n",
       "-0.4108675200920674 & 0.0833394065911808 \\\\\n",
       "-0.4651981807255845 & 0.1790963459550609 \\\\\n",
       "-0.5195288413591015 & 0.2748532853189399\n",
       "\\end{array}\\right)</script></html>"
      ],
      "text/plain": [
       "[-0.030552895657447676   -0.5869591689559768]\n",
       "[ -0.08488355629096525   -0.4912022295920967]\n",
       "[ -0.13921421692448227  -0.39544529022821717]\n",
       "[ -0.19354487755799932  -0.29968835086433754]\n",
       "[ -0.24787553819151634  -0.20393141150045788]\n",
       "[ -0.30220619882503336  -0.10817447213657835]\n",
       "[  -0.3565368594585504 -0.012417532772698608]\n",
       "[  -0.4108675200920674    0.0833394065911808]\n",
       "[  -0.4651981807255845    0.1790963459550609]\n",
       "[  -0.5195288413591015    0.2748532853189399]"
      ]
     },
     "metadata": {},
     "output_type": "display_data"
    }
   ],
   "source": [
    "show(U)\n",
    "show(U[:,0:2])\n"
   ]
  },
  {
   "cell_type": "code",
   "execution_count": 56,
   "metadata": {},
   "outputs": [
    {
     "data": {
      "text/html": [
       "<html><script type=\"math/tex; mode=display\">\\newcommand{\\Bold}[1]{\\mathbf{#1}}\\left(\\begin{array}{rr}\n",
       "-0.29465168578280093 & 0.5085616280451161 \\\\\n",
       "-0.2993814920965785 & 0.39856689611014484 \\\\\n",
       "-0.3041112984103564 & 0.28857216417517334 \\\\\n",
       "-0.30884110472413423 & 0.17857743224020065 \\\\\n",
       "-0.31357091103791196 & 0.06858270030522978 \\\\\n",
       "-0.3183007173516897 & -0.041412031629742434 \\\\\n",
       "-0.3230305236654674 & -0.15140676356471414 \\\\\n",
       "-0.3277603299792452 & -0.261401495499685 \\\\\n",
       "-0.332490136293023 & -0.3713962274346573 \\\\\n",
       "-0.33721994260680077 & -0.48139095936962867\n",
       "\\end{array}\\right)</script></html>"
      ],
      "text/plain": [
       "[ -0.29465168578280093    0.5085616280451161]\n",
       "[  -0.2993814920965785   0.39856689611014484]\n",
       "[  -0.3041112984103564   0.28857216417517334]\n",
       "[ -0.30884110472413423   0.17857743224020065]\n",
       "[ -0.31357091103791196   0.06858270030522978]\n",
       "[  -0.3183007173516897 -0.041412031629742434]\n",
       "[  -0.3230305236654674  -0.15140676356471414]\n",
       "[  -0.3277603299792452    -0.261401495499685]\n",
       "[   -0.332490136293023   -0.3713962274346573]\n",
       "[ -0.33721994260680077  -0.48139095936962867]"
      ]
     },
     "metadata": {},
     "output_type": "display_data"
    }
   ],
   "source": [
    "show(V[:,0:2])"
   ]
  },
  {
   "cell_type": "code",
   "execution_count": 58,
   "metadata": {},
   "outputs": [
    {
     "data": {
      "text/html": [
       "<html><script type=\"math/tex; mode=display\">\\newcommand{\\Bold}[1]{\\mathbf{#1}}\\left(\\begin{array}{rr}\n",
       "581.5055633612106 & 0.0 \\\\\n",
       "0.0 & 14.187310525996459\n",
       "\\end{array}\\right)</script></html>"
      ],
      "text/plain": [
       "[ 581.5055633612106                0.0]\n",
       "[               0.0 14.187310525996459]"
      ]
     },
     "metadata": {},
     "output_type": "display_data"
    }
   ],
   "source": [
    "show(S[0:2,0:2])"
   ]
  },
  {
   "cell_type": "code",
   "execution_count": 52,
   "metadata": {},
   "outputs": [
    {
     "data": {
      "text/html": [
       "<html><script type=\"math/tex; mode=display\">\\newcommand{\\Bold}[1]{\\mathbf{#1}}\\left(\\begin{array}{rrrrrrrrrr}\n",
       "0.9999999999999032 & 1.999999999999896 & 2.9999999999998965 & 3.9999999999999063 & 4.999999999999899 & 5.999999999999901 & 6.999999999999901 & 7.999999999999894 & 8.9999999999999 & 9.999999999999897 \\\\\n",
       "10.999999999999998 & 11.999999999999986 & 12.999999999999991 & 14.000000000000004 & 14.999999999999995 & 15.999999999999996 & 16.999999999999996 & 17.999999999999993 & 18.999999999999996 & 19.999999999999996 \\\\\n",
       "20.999999999999993 & 21.999999999999975 & 22.999999999999986 & 23.999999999999996 & 24.999999999999993 & 25.999999999999993 & 26.99999999999999 & 27.999999999999986 & 28.999999999999993 & 29.99999999999999 \\\\\n",
       "30.99999999999999 & 31.999999999999968 & 32.999999999999986 & 34.0 & 34.999999999999986 & 35.999999999999986 & 36.99999999999998 & 37.99999999999998 & 38.99999999999999 & 39.99999999999999 \\\\\n",
       "40.99999999999999 & 41.99999999999996 & 42.99999999999997 & 43.99999999999999 & 44.99999999999998 & 45.99999999999998 & 46.99999999999997 & 47.99999999999998 & 48.99999999999998 & 49.999999999999986 \\\\\n",
       "50.99999999999998 & 51.99999999999994 & 52.999999999999964 & 53.99999999999998 & 54.99999999999997 & 55.999999999999964 & 56.999999999999964 & 57.999999999999964 & 58.999999999999964 & 59.99999999999997 \\\\\n",
       "60.999999999999986 & 61.99999999999994 & 62.99999999999997 & 63.999999999999986 & 64.99999999999997 & 65.99999999999997 & 66.99999999999996 & 67.99999999999996 & 68.99999999999997 & 69.99999999999997 \\\\\n",
       "70.99999999999999 & 71.99999999999993 & 72.99999999999996 & 73.99999999999997 & 74.99999999999997 & 75.99999999999996 & 76.99999999999996 & 77.99999999999994 & 78.99999999999996 & 79.99999999999996 \\\\\n",
       "80.99999999999999 & 81.99999999999994 & 82.99999999999997 & 84.0 & 84.99999999999997 & 85.99999999999997 & 86.99999999999996 & 87.99999999999997 & 88.99999999999996 & 89.99999999999997 \\\\\n",
       "90.99999999999997 & 91.99999999999991 & 92.99999999999994 & 93.99999999999997 & 94.99999999999996 & 95.99999999999994 & 96.99999999999994 & 97.99999999999994 & 98.99999999999996 & 99.99999999999996\n",
       "\\end{array}\\right)</script></html>"
      ],
      "text/plain": [
       "[0.9999999999999032  1.999999999999896 2.9999999999998965 3.9999999999999063  4.999999999999899  5.999999999999901  6.999999999999901  7.999999999999894    8.9999999999999  9.999999999999897]\n",
       "[10.999999999999998 11.999999999999986 12.999999999999991 14.000000000000004 14.999999999999995 15.999999999999996 16.999999999999996 17.999999999999993 18.999999999999996 19.999999999999996]\n",
       "[20.999999999999993 21.999999999999975 22.999999999999986 23.999999999999996 24.999999999999993 25.999999999999993  26.99999999999999 27.999999999999986 28.999999999999993  29.99999999999999]\n",
       "[ 30.99999999999999 31.999999999999968 32.999999999999986               34.0 34.999999999999986 35.999999999999986  36.99999999999998  37.99999999999998  38.99999999999999  39.99999999999999]\n",
       "[ 40.99999999999999  41.99999999999996  42.99999999999997  43.99999999999999  44.99999999999998  45.99999999999998  46.99999999999997  47.99999999999998  48.99999999999998 49.999999999999986]\n",
       "[ 50.99999999999998  51.99999999999994 52.999999999999964  53.99999999999998  54.99999999999997 55.999999999999964 56.999999999999964 57.999999999999964 58.999999999999964  59.99999999999997]\n",
       "[60.999999999999986  61.99999999999994  62.99999999999997 63.999999999999986  64.99999999999997  65.99999999999997  66.99999999999996  67.99999999999996  68.99999999999997  69.99999999999997]\n",
       "[ 70.99999999999999  71.99999999999993  72.99999999999996  73.99999999999997  74.99999999999997  75.99999999999996  76.99999999999996  77.99999999999994  78.99999999999996  79.99999999999996]\n",
       "[ 80.99999999999999  81.99999999999994  82.99999999999997               84.0  84.99999999999997  85.99999999999997  86.99999999999996  87.99999999999997  88.99999999999996  89.99999999999997]\n",
       "[ 90.99999999999997  91.99999999999991  92.99999999999994  93.99999999999997  94.99999999999996  95.99999999999994  96.99999999999994  97.99999999999994  98.99999999999996  99.99999999999996]"
      ]
     },
     "metadata": {},
     "output_type": "display_data"
    }
   ],
   "source": [
    "show(U[:,0:2]*S[0:2,0:2]*V[:,0:2].transpose())"
   ]
  },
  {
   "cell_type": "markdown",
   "metadata": {},
   "source": [
    "Si només utilitzem un número de S el error ja massa gran, tot i que en les ultimes files tampoc està tant malament."
   ]
  },
  {
   "cell_type": "code",
   "execution_count": 22,
   "metadata": {},
   "outputs": [
    {
     "data": {
      "text/html": [
       "<html><script type=\"math/tex; mode=display\">\\newcommand{\\Bold}[1]{\\mathbf{#1}}\\left(\\begin{array}{rrrrrrrrrr}\n",
       "5.23498185965311 & 5.319014809223778 & 5.403047758794451 & 5.487080708365124 & 5.571113657935794 & 5.655146607506464 & 5.739179557077135 & 5.823212506647806 & 5.907245456218478 & 5.991278405789149 \\\\\n",
       "14.544083884819184 & 14.777548355262555 & 15.011012825705944 & 15.244477296149329 & 15.477941766592707 & 15.711406237036087 & 15.944870707479467 & 16.17833517792285 & 16.41179964836623 & 16.645264118809614 \\\\\n",
       "23.85318590998516 & 24.236081901301237 & 24.618977892617337 & 25.00187388393343 & 25.38476987524952 & 25.767665866565608 & 26.150561857881694 & 26.533457849197784 & 26.916353840513878 & 27.299249831829968 \\\\\n",
       "33.16228793515114 & 33.69461544733992 & 34.226942959528735 & 34.75927047171754 & 35.291597983906335 & 35.82392549609513 & 36.35625300828392 & 36.88858052047272 & 37.42090803266153 & 37.95323554485033 \\\\\n",
       "42.471389960317126 & 43.1531489933786 & 43.834908026440125 & 44.51666705950165 & 45.198426092563146 & 45.88018512562465 & 46.56194415868615 & 47.24370319174766 & 47.92546222480917 & 48.607221257870684 \\\\\n",
       "51.780491985483096 & 52.611682539417274 & 53.442873093351515 & 54.27406364728574 & 55.10525420121996 & 55.93644475515416 & 56.76763530908838 & 57.5988258630226 & 58.43001641695681 & 59.26120697089103 \\\\\n",
       "61.08959401064909 & 62.07021608545597 & 63.05083816026292 & 64.03146023506986 & 65.01208230987677 & 65.99270438468369 & 66.97332645949061 & 67.95394853429754 & 68.93457060910447 & 69.9151926839114 \\\\\n",
       "70.39869603581506 & 71.52874963149465 & 72.6588032271743 & 73.78885682285396 & 74.91891041853359 & 76.04896401421321 & 77.17901760989284 & 78.30907120557247 & 79.4391248012521 & 80.56917839693175 \\\\\n",
       "79.70779806098105 & 80.98728317753334 & 82.26676829408572 & 83.54625341063809 & 84.82573852719041 & 86.10522364374275 & 87.38470876029508 & 88.66419387684743 & 89.94367899339977 & 91.22316410995212 \\\\\n",
       "89.01690008614702 & 90.44581672357201 & 91.8747333609971 & 93.30364999842217 & 94.7325666358472 & 96.16148327327225 & 97.5903999106973 & 99.01931654812235 & 100.44823318554741 & 101.87714982297247\n",
       "\\end{array}\\right)</script></html>"
      ],
      "text/plain": [
       "[  5.23498185965311  5.319014809223778  5.403047758794451  5.487080708365124  5.571113657935794  5.655146607506464  5.739179557077135  5.823212506647806  5.907245456218478  5.991278405789149]\n",
       "[14.544083884819184 14.777548355262555 15.011012825705944 15.244477296149329 15.477941766592707 15.711406237036087 15.944870707479467  16.17833517792285  16.41179964836623 16.645264118809614]\n",
       "[ 23.85318590998516 24.236081901301237 24.618977892617337  25.00187388393343  25.38476987524952 25.767665866565608 26.150561857881694 26.533457849197784 26.916353840513878 27.299249831829968]\n",
       "[ 33.16228793515114  33.69461544733992 34.226942959528735  34.75927047171754 35.291597983906335  35.82392549609513  36.35625300828392  36.88858052047272  37.42090803266153  37.95323554485033]\n",
       "[42.471389960317126   43.1531489933786 43.834908026440125  44.51666705950165 45.198426092563146  45.88018512562465  46.56194415868615  47.24370319174766  47.92546222480917 48.607221257870684]\n",
       "[51.780491985483096 52.611682539417274 53.442873093351515  54.27406364728574  55.10525420121996  55.93644475515416  56.76763530908838   57.5988258630226  58.43001641695681  59.26120697089103]\n",
       "[ 61.08959401064909  62.07021608545597  63.05083816026292  64.03146023506986  65.01208230987677  65.99270438468369  66.97332645949061  67.95394853429754  68.93457060910447   69.9151926839114]\n",
       "[ 70.39869603581506  71.52874963149465   72.6588032271743  73.78885682285396  74.91891041853359  76.04896401421321  77.17901760989284  78.30907120557247   79.4391248012521  80.56917839693175]\n",
       "[ 79.70779806098105  80.98728317753334  82.26676829408572  83.54625341063809  84.82573852719041  86.10522364374275  87.38470876029508  88.66419387684743  89.94367899339977  91.22316410995212]\n",
       "[ 89.01690008614702  90.44581672357201   91.8747333609971  93.30364999842217   94.7325666358472  96.16148327327225   97.5903999106973  99.01931654812235 100.44823318554741 101.87714982297247]"
      ]
     },
     "metadata": {},
     "output_type": "display_data"
    }
   ],
   "source": [
    "\n",
    "show(U[:,0]*S[0,0]*V.transpose()[0,:])"
   ]
  },
  {
   "cell_type": "markdown",
   "metadata": {},
   "source": [
    "## <font color=green> Exercicis </font>"
   ]
  },
  {
   "cell_type": "markdown",
   "metadata": {},
   "source": [
    "Construiu una matriu 10x10 amb coefficients que siguin nombres reals a l'atzar entre -10 i 10. Calculeu la descomposició SVD i mireu quin és l'error que es produeix si fem el producte usant només els dos primers coefficients. L'error ha de ser el maxim del valor absolut de la resta entre el coefficient de S i el corresponent prenen només dos coefficients. Feu-ho també prenen només un coefficient. Experimenteu-ho amb varies matrius."
   ]
  },
  {
   "cell_type": "code",
   "execution_count": 88,
   "metadata": {},
   "outputs": [],
   "source": [
    "C=matrix(RDF,10,10,[(random()*20-10) for i in range(100)])\n",
    "U,S,V=C.SVD()"
   ]
  },
  {
   "cell_type": "code",
   "execution_count": 89,
   "metadata": {},
   "outputs": [
    {
     "data": {
      "text/html": [
       "<html><script type=\"math/tex; mode=display\">\\newcommand{\\Bold}[1]{\\mathbf{#1}}\\left[31.3907191568235, 28.16993746136143, 22.501527414782572, 21.414933353649683, 16.66014664252483, 14.033735913147213, 12.072741966667166, 10.709713720553244, 6.191350368901555, 0.6100915161005532\\right]</script></html>"
      ],
      "text/plain": [
       "[31.3907191568235,\n",
       " 28.16993746136143,\n",
       " 22.501527414782572,\n",
       " 21.414933353649683,\n",
       " 16.66014664252483,\n",
       " 14.033735913147213,\n",
       " 12.072741966667166,\n",
       " 10.709713720553244,\n",
       " 6.191350368901555,\n",
       " 0.6100915161005532]"
      ]
     },
     "metadata": {},
     "output_type": "display_data"
    }
   ],
   "source": [
    "show([S[i,i] for i in range(10)])"
   ]
  },
  {
   "cell_type": "code",
   "execution_count": 94,
   "metadata": {},
   "outputs": [
    {
     "data": {
      "text/plain": [
       "7.2389093827085675"
      ]
     },
     "execution_count": 94,
     "metadata": {},
     "output_type": "execute_result"
    }
   ],
   "source": [
    "d=5\n",
    "CE=C-U[:,0:d]*S[0:d,0:d]*V[:,0:d].transpose()\n",
    "LCE=CE.list()\n",
    "max(x.abs() for x in LCE)"
   ]
  },
  {
   "cell_type": "code",
   "execution_count": 95,
   "metadata": {},
   "outputs": [
    {
     "data": {
      "text/plain": [
       "7.2389093827085675"
      ]
     },
     "execution_count": 95,
     "metadata": {},
     "output_type": "execute_result"
    }
   ],
   "source": [
    "max([CE[i,j].abs() for i in range(10) for j in range(10)])"
   ]
  },
  {
   "cell_type": "code",
   "execution_count": null,
   "metadata": {},
   "outputs": [],
   "source": []
  },
  {
   "cell_type": "code",
   "execution_count": null,
   "metadata": {},
   "outputs": [],
   "source": []
  },
  {
   "cell_type": "markdown",
   "metadata": {},
   "source": [
    "## Aplicació a la compressió d'imatges "
   ]
  },
  {
   "cell_type": "markdown",
   "metadata": {},
   "source": [
    "Aquesta idea que em fet es pot utilitzar per a comprimir imatges. Es tracta de associar una matriu a cada imatge i viceversa, fer la descomposició SVD i després quedar-se només alguns valors. "
   ]
  },
  {
   "cell_type": "markdown",
   "metadata": {},
   "source": [
    "Per a manipular imatges i matrius usarem algunes llibreries de python."
   ]
  },
  {
   "cell_type": "code",
   "execution_count": 96,
   "metadata": {},
   "outputs": [],
   "source": [
    "import pylab, numpy, urllib2\n",
    "\n",
    "# Llegeix una imatge en format jpeg com a \"numpy array\".\n",
    "url = 'http://wikis.liveoaksf.org/math/images/f/fd/PaulErdos.png'\n",
    "A0 = pylab.imread(urllib2.urlopen(url))\n",
    "\n",
    "# Per imatges en color. Per imatges en blanc i negre no cal fer res\n",
    "if len(A0.shape) == 3:\n",
    "    A0 = .3 * A0[:,:,0] + .59 * A0[:,:,1] + .11 * A0[:,:,2]\n",
    "# Volem els valors de la matriu entre 0 i 1\n",
    "A0 = 1/A0.max()*A0\n",
    "\n",
    "# Finalment, declarem una matriu en Sage.\n",
    "A = Matrix(A0)\n",
    "A =A.change_ring(RDF)"
   ]
  },
  {
   "cell_type": "code",
   "execution_count": 102,
   "metadata": {},
   "outputs": [
    {
     "data": {
      "text/plain": [
       "332"
      ]
     },
     "execution_count": 102,
     "metadata": {},
     "output_type": "execute_result"
    }
   ],
   "source": [
    "A.ncols()"
   ]
  },
  {
   "cell_type": "markdown",
   "metadata": {},
   "source": [
    "Fem la descomposició SVD, i ens quedem només alguns dels valors. Pendrem \"només\" els 40 primers valors. "
   ]
  },
  {
   "cell_type": "code",
   "execution_count": 97,
   "metadata": {},
   "outputs": [],
   "source": [
    "U,S,V=A.SVD()"
   ]
  },
  {
   "cell_type": "code",
   "execution_count": 111,
   "metadata": {},
   "outputs": [],
   "source": [
    "d=30"
   ]
  },
  {
   "cell_type": "markdown",
   "metadata": {},
   "source": [
    "Usem el matrix plot per a reconvertir la matriu en la imatge. "
   ]
  },
  {
   "cell_type": "code",
   "execution_count": 112,
   "metadata": {},
   "outputs": [
    {
     "data": {
      "image/png": "[encoded data removed]",
      "text/plain": [
       "Graphics object consisting of 1 graphics primitive"
      ]
     },
     "execution_count": 112,
     "metadata": {},
     "output_type": "execute_result"
    }
   ],
   "source": [
    "matrix_plot((U[:,0:d])*S[0:d,0:d]*(V.transpose()[0:d]),cmap = 'gray')\n"
   ]
  },
  {
   "cell_type": "code",
   "execution_count": 113,
   "metadata": {},
   "outputs": [
    {
     "data": {
      "image/png": "[encoded data removed]",
      "text/plain": [
       "Graphics object consisting of 1 graphics primitive"
      ]
     },
     "execution_count": 113,
     "metadata": {},
     "output_type": "execute_result"
    }
   ],
   "source": [
    "matrix_plot((A),cmap = 'gray')"
   ]
  },
  {
   "cell_type": "markdown",
   "metadata": {},
   "source": [
    "Utilitzant la funció de Sage interact podem fer que s'imprimeixi i que nosaltres poguem moure els valors de d de on volguem a on volguem. "
   ]
  },
  {
   "cell_type": "code",
   "execution_count": 115,
   "metadata": {},
   "outputs": [
    {
     "data": {
      "application/vnd.jupyter.widget-view+json": {
       "model_id": "f055da409e0a431dab92158c61c0c9fc",
       "version_major": 2,
       "version_minor": 0
      },
      "text/plain": [
       "SW50ZXJhY3RpdmUgZnVuY3Rpb24gPGZ1bmN0aW9uIF8gYXQgMHg2ZmY1NmE3ZGQ3MD4gd2l0aCAxIHdpZGdldAogIGQ6IFRyYW5zZm9ybUludFNsaWRlcih2YWx1ZT0xMCwgZGVzY3JpcHRpb27igKY=\n"
      ]
     },
     "metadata": {},
     "output_type": "display_data"
    }
   ],
   "source": [
    "@interact\n",
    "def _(d=slider(10,30, step_size=2)):\n",
    "    show(matrix_plot((U[:,0:d])*S[0:d,0:d]*(V.transpose()[0:d]),cmap = 'gray'))"
   ]
  },
  {
   "cell_type": "code",
   "execution_count": null,
   "metadata": {},
   "outputs": [],
   "source": []
  },
  {
   "cell_type": "markdown",
   "metadata": {},
   "source": [
    "1. Carregueu una imatge qualsevol com a matriu.\n",
    "1. Escriviu una funció que, donat un enter $n$, retorni el nombre d'entrades que cal desar si només considerem els $n$ primers valors singulars com a no-negligibles. Calculeu el factor de compressió que això representa, comparant amb el nombre d'entrades de la matriu $A$.\n",
    "1. Dibuixeu, per a valors de $n$ variant entre $1$ i $25$, la imatge resultant de negligir tots els valors singulars excepte els primers $n$. Presenteu el resultat mitjançant un \"interact\" de Sage. \n",
    "1. Per a cada valor de $n$, heu de donar el factor de compressió (en %)."
   ]
  },
  {
   "cell_type": "code",
   "execution_count": null,
   "metadata": {},
   "outputs": [],
   "source": []
  },
  {
   "cell_type": "code",
   "execution_count": null,
   "metadata": {},
   "outputs": [],
   "source": []
  }
 ],
 "metadata": {
  "kernelspec": {
   "display_name": "SageMath 8.6",
   "language": "",
   "name": "sagemath"
  },
  "language_info": {
   "codemirror_mode": {
    "name": "ipython",
    "version": 2
   },
   "file_extension": ".py",
   "mimetype": "text/x-python",
   "name": "python",
   "nbconvert_exporter": "python",
   "pygments_lexer": "ipython2",
   "version": "2.7.15"
  }
 },
 "nbformat": 4,
 "nbformat_minor": 1
}
