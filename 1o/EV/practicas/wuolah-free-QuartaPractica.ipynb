{
 "cells": [
  {
   "cell_type": "markdown",
   "metadata": {},
   "source": [
    "# Espais Vectorials i aplicacions lineals "
   ]
  },
  {
   "cell_type": "markdown",
   "metadata": {},
   "source": [
    "# <font color=blue>Aplicacions lineals</font>\n",
    "Considerarem les aplicacions lineals entre $K^n$ i $K^m$ com a matrius $m\\times n$, amb els vectors operan per la dreta. Per tant les matrius A corresponen a l'aplicació $f_A(v)=A*v$. Això està en contraposició a com ho fa el SAGE (que és com es fa a U.S.A.) de considerar-les per l'esquerra (o sigui $f_A(v)=v*A$)."
   ]
  },
  {
   "cell_type": "code",
   "execution_count": 1,
   "metadata": {},
   "outputs": [],
   "source": [
    "v=vector(QQ,[1,0,2,-1,2]) \n",
    "w=vector(QQ,[0,-1,1,2,1]) \n",
    "A=matrix(QQ,[v,w]).transpose()"
   ]
  },
  {
   "cell_type": "code",
   "execution_count": 2,
   "metadata": {},
   "outputs": [],
   "source": [
    "A=matrix(QQ,[v,w,v+w]).transpose()"
   ]
  },
  {
   "cell_type": "code",
   "execution_count": 3,
   "metadata": {},
   "outputs": [
    {
     "data": {
      "text/html": [
       "<html><script type=\"math/tex; mode=display\">\\newcommand{\\Bold}[1]{\\mathbf{#1}}\\text{vector space morphism from }\n",
       "\\Bold{Q}^{5}\\text{ to }\n",
       "\\Bold{Q}^{3}\\text{ represented by the matrix }\n",
       "\\left(\\begin{array}{rrr}\n",
       "1 & 0 & 1 \\\\\n",
       "0 & -1 & -1 \\\\\n",
       "2 & 1 & 3 \\\\\n",
       "-1 & 2 & 1 \\\\\n",
       "2 & 1 & 3\n",
       "\\end{array}\\right)</script></html>"
      ]
     },
     "execution_count": 3,
     "metadata": {},
     "output_type": "execute_result"
    }
   ],
   "source": [
    "phi=linear_transformation(A)\n",
    "show(phi)"
   ]
  },
  {
   "cell_type": "markdown",
   "metadata": {},
   "source": [
    "Com podeu veure ens dòna una aplicació de $\\mathbb{Q}^5$ a $\\mathbb{Q}^3$, quan per nosaltres hauria de ser a l'inrevés. El que podem fer és, o bé treballar amb la transposa de la matriu o bé fer nosaltres mateixos les funcions. "
   ]
  },
  {
   "cell_type": "code",
   "execution_count": 4,
   "metadata": {},
   "outputs": [
    {
     "data": {
      "text/html": [
       "<html><script type=\"math/tex; mode=display\">\\newcommand{\\Bold}[1]{\\mathbf{#1}}\\text{vector space morphism from }\n",
       "\\Bold{Q}^{3}\\text{ to }\n",
       "\\Bold{Q}^{5}\\text{ represented by the matrix }\n",
       "\\left(\\begin{array}{rrrrr}\n",
       "1 & 0 & 2 & -1 & 2 \\\\\n",
       "0 & -1 & 1 & 2 & 1 \\\\\n",
       "1 & -1 & 3 & 1 & 3\n",
       "\\end{array}\\right)</script></html>"
      ]
     },
     "execution_count": 4,
     "metadata": {},
     "output_type": "execute_result"
    }
   ],
   "source": [
    "phi=linear_transformation(A.transpose())\n",
    "show(phi)"
   ]
  },
  {
   "cell_type": "markdown",
   "metadata": {},
   "source": [
    "<font color=red>**Nota important:**</font> A partir d'ara cal recordar que quan ens demanin la matriu d'una aplicació lineal cal transposar la resposta del SAGE. "
   ]
  },
  {
   "cell_type": "code",
   "execution_count": 5,
   "metadata": {},
   "outputs": [
    {
     "data": {
      "text/plain": [
       "Vector space of degree 3 and dimension 1 over Rational Field\n",
       "Basis matrix:\n",
       "[ 1  1 -1]"
      ]
     },
     "execution_count": 5,
     "metadata": {},
     "output_type": "execute_result"
    }
   ],
   "source": [
    "phi.kernel()"
   ]
  },
  {
   "cell_type": "code",
   "execution_count": 6,
   "metadata": {},
   "outputs": [
    {
     "data": {
      "text/plain": [
       "False"
      ]
     },
     "execution_count": 6,
     "metadata": {},
     "output_type": "execute_result"
    }
   ],
   "source": [
    "phi.is_injective()"
   ]
  },
  {
   "cell_type": "code",
   "execution_count": 7,
   "metadata": {},
   "outputs": [
    {
     "data": {
      "text/plain": [
       "Vector space of degree 5 and dimension 2 over Rational Field\n",
       "Basis matrix:\n",
       "[ 1  0  2 -1  2]\n",
       "[ 0  1 -1 -2 -1]"
      ]
     },
     "execution_count": 7,
     "metadata": {},
     "output_type": "execute_result"
    }
   ],
   "source": [
    "phi.image()"
   ]
  },
  {
   "cell_type": "markdown",
   "metadata": {},
   "source": [
    "Podeu observar que al demanar la imatge (i el nucli) ens donen un subespai vectorial ja amb una base \"canònica\". "
   ]
  },
  {
   "cell_type": "markdown",
   "metadata": {},
   "source": [
    "Una altra manera de donar les aplicacions lineals és via les equacions. Recordeu que cal introduir les variables \"simbóliques\". "
   ]
  },
  {
   "cell_type": "code",
   "execution_count": 8,
   "metadata": {},
   "outputs": [],
   "source": [
    "K=QQ\n",
    "U=K^3\n",
    "V=K^2\n",
    "x, y, z = var('x y z')"
   ]
  },
  {
   "cell_type": "code",
   "execution_count": 9,
   "metadata": {},
   "outputs": [
    {
     "data": {
      "text/html": [
       "<html><script type=\"math/tex; mode=display\">\\newcommand{\\Bold}[1]{\\mathbf{#1}}\\text{vector space morphism from }\n",
       "\\Bold{Q}^{3}\\text{ to }\n",
       "\\Bold{Q}^{2}\\text{ represented by the matrix }\n",
       "\\left(\\begin{array}{rr}\n",
       "2 & 1 \\\\\n",
       "3 & 0 \\\\\n",
       "7 & 1\n",
       "\\end{array}\\right)</script></html>"
      ]
     },
     "execution_count": 9,
     "metadata": {},
     "output_type": "execute_result"
    }
   ],
   "source": [
    "f(x, y, z) = [2*x + 3*y + 7*z, x + z]\n",
    "rho = linear_transformation(U, V, f)\n",
    "show(rho)"
   ]
  },
  {
   "cell_type": "markdown",
   "metadata": {},
   "source": [
    "**Recordeu que la matriu que ens dóna és la transposada de la matriu que nosaltres utilitzem**\n",
    "Podem obtenir la matriu que volem posant "
   ]
  },
  {
   "cell_type": "code",
   "execution_count": 10,
   "metadata": {},
   "outputs": [
    {
     "data": {
      "text/plain": [
       "[2 3 7]\n",
       "[1 0 1]"
      ]
     },
     "execution_count": 10,
     "metadata": {},
     "output_type": "execute_result"
    }
   ],
   "source": [
    "rho.matrix().transpose()"
   ]
  },
  {
   "cell_type": "markdown",
   "metadata": {},
   "source": [
    "**Imatges i antiimatges**\n",
    "\n",
    "Per a calcular la imatge per $f$ d'un vector $v$ és molt fàcil: sols cal posar $f(v)$. Per a calcular la antiimatge pots posar $f.lift(v)$."
   ]
  },
  {
   "cell_type": "code",
   "execution_count": 11,
   "metadata": {},
   "outputs": [
    {
     "data": {
      "text/plain": [
       "(4, -5, 13, 6, 13)"
      ]
     },
     "execution_count": 11,
     "metadata": {},
     "output_type": "execute_result"
    }
   ],
   "source": [
    "phi([1,2,3])"
   ]
  },
  {
   "cell_type": "code",
   "execution_count": 12,
   "metadata": {},
   "outputs": [
    {
     "data": {
      "text/plain": [
       "(1, 3, 0)"
      ]
     },
     "execution_count": 12,
     "metadata": {},
     "output_type": "execute_result"
    }
   ],
   "source": [
    "phi.lift(v+3*w)"
   ]
  },
  {
   "cell_type": "code",
   "execution_count": 13,
   "metadata": {},
   "outputs": [
    {
     "ename": "ValueError",
     "evalue": "element is not in the image",
     "output_type": "error",
     "traceback": [
      "\u001b[0;31m---------------------------------------------------------------------------\u001b[0m",
      "\u001b[0;31mValueError\u001b[0m                                Traceback (most recent call last)",
      "\u001b[0;32m<ipython-input-13-385bbecc3a5b>\u001b[0m in \u001b[0;36m<module>\u001b[0;34m()\u001b[0m\n\u001b[0;32m----> 1\u001b[0;31m \u001b[0mphi\u001b[0m\u001b[0;34m.\u001b[0m\u001b[0mlift\u001b[0m\u001b[0;34m(\u001b[0m\u001b[0;34m[\u001b[0m\u001b[0mInteger\u001b[0m\u001b[0;34m(\u001b[0m\u001b[0;36m1\u001b[0m\u001b[0;34m)\u001b[0m\u001b[0;34m,\u001b[0m\u001b[0mInteger\u001b[0m\u001b[0;34m(\u001b[0m\u001b[0;36m2\u001b[0m\u001b[0;34m)\u001b[0m\u001b[0;34m,\u001b[0m\u001b[0mInteger\u001b[0m\u001b[0;34m(\u001b[0m\u001b[0;36m3\u001b[0m\u001b[0;34m)\u001b[0m\u001b[0;34m,\u001b[0m\u001b[0mInteger\u001b[0m\u001b[0;34m(\u001b[0m\u001b[0;36m4\u001b[0m\u001b[0;34m)\u001b[0m\u001b[0;34m,\u001b[0m\u001b[0mInteger\u001b[0m\u001b[0;34m(\u001b[0m\u001b[0;36m5\u001b[0m\u001b[0;34m)\u001b[0m\u001b[0;34m]\u001b[0m\u001b[0;34m)\u001b[0m\u001b[0;34m\u001b[0m\u001b[0m\n\u001b[0m",
      "\u001b[0;32m/ext/sage/sage-8.7_1804/local/lib/python2.7/site-packages/sage/modules/free_module_morphism.pyc\u001b[0m in \u001b[0;36mlift\u001b[0;34m(self, x)\u001b[0m\n\u001b[1;32m    397\u001b[0m                 \u001b[0mC\u001b[0m \u001b[0;34m=\u001b[0m \u001b[0mA\u001b[0m\u001b[0;34m.\u001b[0m\u001b[0msolve_left\u001b[0m\u001b[0;34m(\u001b[0m\u001b[0mx\u001b[0m\u001b[0;34m)\u001b[0m\u001b[0;34m\u001b[0m\u001b[0m\n\u001b[1;32m    398\u001b[0m             \u001b[0;32mexcept\u001b[0m \u001b[0mValueError\u001b[0m\u001b[0;34m:\u001b[0m\u001b[0;34m\u001b[0m\u001b[0m\n\u001b[0;32m--> 399\u001b[0;31m                 \u001b[0;32mraise\u001b[0m \u001b[0mValueError\u001b[0m\u001b[0;34m(\u001b[0m\u001b[0;34m\"element is not in the image\"\u001b[0m\u001b[0;34m)\u001b[0m\u001b[0;34m\u001b[0m\u001b[0m\n\u001b[0m\u001b[1;32m    400\u001b[0m         \u001b[0;32melse\u001b[0m\u001b[0;34m:\u001b[0m\u001b[0;34m\u001b[0m\u001b[0m\n\u001b[1;32m    401\u001b[0m             \u001b[0;31m# see inverse_image for similar code but with comments\u001b[0m\u001b[0;34m\u001b[0m\u001b[0;34m\u001b[0m\u001b[0m\n",
      "\u001b[0;31mValueError\u001b[0m: element is not in the image"
     ]
    }
   ],
   "source": [
    "phi.lift([1,2,3,4,5])"
   ]
  },
  {
   "cell_type": "markdown",
   "metadata": {},
   "source": [
    "Podeu veure que un vector pot no tenir antiimatge, i aleshores ens dóna error (diu que \"element is not in the image\"). "
   ]
  },
  {
   "cell_type": "markdown",
   "metadata": {},
   "source": [
    "La composició d'aplicacions és el producte $*$. Recordeu que la composició de $f$ i $g$ és $g\\circ f$, i això segueix essent així al SAGE. "
   ]
  },
  {
   "cell_type": "code",
   "execution_count": 14,
   "metadata": {},
   "outputs": [
    {
     "data": {
      "text/html": [
       "<html><script type=\"math/tex; mode=display\">\\newcommand{\\Bold}[1]{\\mathbf{#1}}\\text{vector space morphism from }\n",
       "\\Bold{Q}^{5}\\text{ to }\n",
       "\\Bold{Q}^{3}\\text{ represented by the matrix }\n",
       "\\left(\\begin{array}{rrr}\n",
       "1 & 0 & 1 \\\\\n",
       "0 & -1 & -1 \\\\\n",
       "2 & 1 & 3 \\\\\n",
       "-1 & 2 & 1 \\\\\n",
       "2 & 1 & 3\n",
       "\\end{array}\\right)</script></html>"
      ]
     },
     "execution_count": 14,
     "metadata": {},
     "output_type": "execute_result"
    }
   ],
   "source": [
    "psi=linear_transformation(A)\n",
    "show(psi)"
   ]
  },
  {
   "cell_type": "code",
   "execution_count": 15,
   "metadata": {},
   "outputs": [
    {
     "data": {
      "text/html": [
       "<html><script type=\"math/tex; mode=display\">\\newcommand{\\Bold}[1]{\\mathbf{#1}}\\text{vector space morphism from }\n",
       "\\Bold{Q}^{5}\\text{ to }\n",
       "\\Bold{Q}^{2}\\text{ represented by the matrix }\n",
       "\\left(\\begin{array}{rr}\n",
       "9 & 2 \\\\\n",
       "-10 & -1 \\\\\n",
       "28 & 5 \\\\\n",
       "11 & 0 \\\\\n",
       "28 & 5\n",
       "\\end{array}\\right)</script></html>"
      ]
     },
     "execution_count": 15,
     "metadata": {},
     "output_type": "execute_result"
    }
   ],
   "source": [
    "show(rho*psi)"
   ]
  },
  {
   "cell_type": "markdown",
   "metadata": {},
   "source": [
    "També es pot demanar la antiiimatge d'un subespai donat, utilitzant inverse_image. En aquest cas       "
   ]
  },
  {
   "cell_type": "code",
   "execution_count": 16,
   "metadata": {},
   "outputs": [
    {
     "data": {
      "text/plain": [
       "Vector space of degree 3 and dimension 2 over Rational Field\n",
       "Basis matrix:\n",
       "[ 1  0  0]\n",
       "[ 0  1 -1]"
      ]
     },
     "execution_count": 16,
     "metadata": {},
     "output_type": "execute_result"
    }
   ],
   "source": [
    "W=span([v,vector(QQ,[1,2,3,4,5])])\n",
    "phi.inverse_image(W)"
   ]
  },
  {
   "cell_type": "code",
   "execution_count": 17,
   "metadata": {},
   "outputs": [
    {
     "data": {
      "text/plain": [
       "Vector space of degree 3 and dimension 1 over Rational Field\n",
       "Basis matrix:\n",
       "[ 1  1 -1]"
      ]
     },
     "execution_count": 17,
     "metadata": {},
     "output_type": "execute_result"
    }
   ],
   "source": [
    "phi.inverse_image((QQ^5).span([[1,2,3,4,5]]))"
   ]
  },
  {
   "cell_type": "markdown",
   "metadata": {},
   "source": [
    "Podeu observar que la antiimatge del subespai generat per un vector que no té antiimatge és el nucli de l'aplicació. Perquè? "
   ]
  },
  {
   "cell_type": "code",
   "execution_count": 18,
   "metadata": {},
   "outputs": [
    {
     "data": {
      "text/plain": [
       "True"
      ]
     },
     "execution_count": 18,
     "metadata": {},
     "output_type": "execute_result"
    }
   ],
   "source": [
    "phi.inverse_image((QQ^5).span([[1,2,3,4,5]])) == phi.kernel()"
   ]
  },
  {
   "cell_type": "markdown",
   "metadata": {},
   "source": [
    "**Aplicacions lineals entre dos subespais amb base donades**\n",
    "\n",
    "Si volem poder donar una aplicació lineal entre dos subespais de K^n i K^m, que ens la determinen amb dues bases concretes, ho podem fer sense problemes amb les funcions subspace_with_basis i el conjunt Hom"
   ]
  },
  {
   "cell_type": "code",
   "execution_count": 19,
   "metadata": {},
   "outputs": [
    {
     "data": {
      "text/html": [
       "<html><script type=\"math/tex; mode=display\">\\newcommand{\\Bold}[1]{\\mathbf{#1}}\\begin{array}{l}\n",
       "\\verb|Set|\\phantom{\\verb!x!}\\verb|of|\\phantom{\\verb!x!}\\verb|Morphisms|\\phantom{\\verb!x!}\\verb|(Linear|\\phantom{\\verb!x!}\\verb|Transformations)|\\phantom{\\verb!x!}\\verb|from|\\phantom{\\verb!x!}\\verb|Vector|\\phantom{\\verb!x!}\\verb|space|\\phantom{\\verb!x!}\\verb|of|\\phantom{\\verb!x!}\\verb|degree|\\phantom{\\verb!x!}\\verb|5|\\phantom{\\verb!x!}\\verb|and|\\phantom{\\verb!x!}\\verb|dimension|\\phantom{\\verb!x!}\\verb|2|\\phantom{\\verb!x!}\\verb|over|\\phantom{\\verb!x!}\\verb|Rational|\\phantom{\\verb!x!}\\verb|Field|\\\\\n",
       "\\verb|User|\\phantom{\\verb!x!}\\verb|basis|\\phantom{\\verb!x!}\\verb|matrix:|\\\\\n",
       "\\verb|[1|\\phantom{\\verb!x!}\\verb|1|\\phantom{\\verb!x!}\\verb|2|\\phantom{\\verb!x!}\\verb|3|\\phantom{\\verb!x!}\\verb|4]|\\\\\n",
       "\\verb|[1|\\phantom{\\verb!x!}\\verb|0|\\phantom{\\verb!x!}\\verb|1|\\phantom{\\verb!x!}\\verb|2|\\phantom{\\verb!x!}\\verb|1]|\\phantom{\\verb!x!}\\verb|to|\\phantom{\\verb!x!}\\verb|Vector|\\phantom{\\verb!x!}\\verb|space|\\phantom{\\verb!x!}\\verb|of|\\phantom{\\verb!x!}\\verb|degree|\\phantom{\\verb!x!}\\verb|3|\\phantom{\\verb!x!}\\verb|and|\\phantom{\\verb!x!}\\verb|dimension|\\phantom{\\verb!x!}\\verb|2|\\phantom{\\verb!x!}\\verb|over|\\phantom{\\verb!x!}\\verb|Rational|\\phantom{\\verb!x!}\\verb|Field|\\\\\n",
       "\\verb|User|\\phantom{\\verb!x!}\\verb|basis|\\phantom{\\verb!x!}\\verb|matrix:|\\\\\n",
       "\\verb|[1|\\phantom{\\verb!x!}\\verb|2|\\phantom{\\verb!x!}\\verb|1]|\\\\\n",
       "\\verb|[1|\\phantom{\\verb!x!}\\verb|0|\\phantom{\\verb!x!}\\verb|1]|\n",
       "\\end{array}</script></html>"
      ]
     },
     "execution_count": 19,
     "metadata": {},
     "output_type": "execute_result"
    }
   ],
   "source": [
    "U=(QQ^5).subspace_with_basis([[1,1,2,3,4],[1,0,1,2,1]])\n",
    "V=(QQ^3).subspace_with_basis([[1,2,1],[1,0,1]])\n",
    "H=Hom(U,V)\n",
    "show(H)"
   ]
  },
  {
   "cell_type": "code",
   "execution_count": 20,
   "metadata": {},
   "outputs": [
    {
     "data": {
      "text/html": [
       "<html><script type=\"math/tex; mode=display\">\\newcommand{\\Bold}[1]{\\mathbf{#1}}\\text{vector space morphism from }\n",
       "\\mathrm{RowSpan}_{\\Bold{Q}}\\left(\\begin{array}{rrrrr}\n",
       "1 & 1 & 2 & 3 & 4 \\\\\n",
       "1 & 0 & 1 & 2 & 1\n",
       "\\end{array}\\right)\\text{ to }\n",
       "\\mathrm{RowSpan}_{\\Bold{Q}}\\left(\\begin{array}{rrr}\n",
       "1 & 2 & 1 \\\\\n",
       "1 & 0 & 1\n",
       "\\end{array}\\right)\\text{ represented by the matrix }\n",
       "\\left(\\begin{array}{rr}\n",
       "1 & 3 \\\\\n",
       "1 & 2\n",
       "\\end{array}\\right)</script></html>"
      ]
     },
     "execution_count": 20,
     "metadata": {},
     "output_type": "execute_result"
    }
   ],
   "source": [
    "B=matrix([[1,3],[1,2]])\n",
    "tau=H(B)\n",
    "show(tau)"
   ]
  },
  {
   "cell_type": "code",
   "execution_count": 21,
   "metadata": {},
   "outputs": [
    {
     "data": {
      "text/plain": [
       "(7, 4, 7)"
      ]
     },
     "execution_count": 21,
     "metadata": {},
     "output_type": "execute_result"
    }
   ],
   "source": [
    "tau(vector([2,1,3,5,5]))"
   ]
  },
  {
   "cell_type": "code",
   "execution_count": 22,
   "metadata": {},
   "outputs": [
    {
     "ename": "TypeError",
     "evalue": "(1, 0, 0, 0, 1) fails to convert into the map's domain Vector space of degree 5 and dimension 2 over Rational Field\nUser basis matrix:\n[1 1 2 3 4]\n[1 0 1 2 1], but a `pushforward` method is not properly implemented",
     "output_type": "error",
     "traceback": [
      "\u001b[0;31m---------------------------------------------------------------------------\u001b[0m",
      "\u001b[0;31mTypeError\u001b[0m                                 Traceback (most recent call last)",
      "\u001b[0;32m<ipython-input-22-55d85caf6f14>\u001b[0m in \u001b[0;36m<module>\u001b[0;34m()\u001b[0m\n\u001b[0;32m----> 1\u001b[0;31m \u001b[0mtau\u001b[0m\u001b[0;34m(\u001b[0m\u001b[0mvector\u001b[0m\u001b[0;34m(\u001b[0m\u001b[0;34m[\u001b[0m\u001b[0mInteger\u001b[0m\u001b[0;34m(\u001b[0m\u001b[0;36m1\u001b[0m\u001b[0;34m)\u001b[0m\u001b[0;34m,\u001b[0m\u001b[0mInteger\u001b[0m\u001b[0;34m(\u001b[0m\u001b[0;36m0\u001b[0m\u001b[0;34m)\u001b[0m\u001b[0;34m,\u001b[0m\u001b[0mInteger\u001b[0m\u001b[0;34m(\u001b[0m\u001b[0;36m0\u001b[0m\u001b[0;34m)\u001b[0m\u001b[0;34m,\u001b[0m\u001b[0mInteger\u001b[0m\u001b[0;34m(\u001b[0m\u001b[0;36m0\u001b[0m\u001b[0;34m)\u001b[0m\u001b[0;34m,\u001b[0m\u001b[0mInteger\u001b[0m\u001b[0;34m(\u001b[0m\u001b[0;36m1\u001b[0m\u001b[0;34m)\u001b[0m\u001b[0;34m]\u001b[0m\u001b[0;34m)\u001b[0m\u001b[0;34m)\u001b[0m\u001b[0;34m\u001b[0m\u001b[0m\n\u001b[0m",
      "\u001b[0;32m/ext/sage/sage-8.7_1804/local/lib/python2.7/site-packages/sage/categories/map.pyx\u001b[0m in \u001b[0;36msage.categories.map.Map.__call__ (build/cythonized/sage/categories/map.c:6758)\u001b[0;34m()\u001b[0m\n\u001b[1;32m    780\u001b[0m                 \u001b[0mx\u001b[0m \u001b[0;34m=\u001b[0m \u001b[0mD\u001b[0m\u001b[0;34m(\u001b[0m\u001b[0mx\u001b[0m\u001b[0;34m)\u001b[0m\u001b[0;34m\u001b[0m\u001b[0m\n\u001b[1;32m    781\u001b[0m             \u001b[0;32mexcept\u001b[0m \u001b[0;34m(\u001b[0m\u001b[0mTypeError\u001b[0m\u001b[0;34m,\u001b[0m \u001b[0mNotImplementedError\u001b[0m\u001b[0;34m)\u001b[0m\u001b[0;34m:\u001b[0m\u001b[0;34m\u001b[0m\u001b[0m\n\u001b[0;32m--> 782\u001b[0;31m                 \u001b[0;32mraise\u001b[0m \u001b[0mTypeError\u001b[0m\u001b[0;34m(\u001b[0m\u001b[0;34m\"%s fails to convert into the map's domain %s, but a `pushforward` method is not properly implemented\"\u001b[0m \u001b[0;34m%\u001b[0m \u001b[0;34m(\u001b[0m\u001b[0mx\u001b[0m\u001b[0;34m,\u001b[0m \u001b[0mD\u001b[0m\u001b[0;34m)\u001b[0m\u001b[0;34m)\u001b[0m\u001b[0;34m\u001b[0m\u001b[0m\n\u001b[0m\u001b[1;32m    783\u001b[0m         \u001b[0;32melse\u001b[0m\u001b[0;34m:\u001b[0m\u001b[0;34m\u001b[0m\u001b[0m\n\u001b[1;32m    784\u001b[0m             \u001b[0mx\u001b[0m \u001b[0;34m=\u001b[0m \u001b[0mconverter\u001b[0m\u001b[0;34m(\u001b[0m\u001b[0mx\u001b[0m\u001b[0;34m)\u001b[0m\u001b[0;34m\u001b[0m\u001b[0m\n",
      "\u001b[0;31mTypeError\u001b[0m: (1, 0, 0, 0, 1) fails to convert into the map's domain Vector space of degree 5 and dimension 2 over Rational Field\nUser basis matrix:\n[1 1 2 3 4]\n[1 0 1 2 1], but a `pushforward` method is not properly implemented"
     ]
    }
   ],
   "source": [
    "tau(vector([1,0,0,0,1]))"
   ]
  },
  {
   "cell_type": "markdown",
   "metadata": {},
   "source": [
    "Ens dóna error doncs el vector no esta a U!"
   ]
  },
  {
   "cell_type": "code",
   "execution_count": 23,
   "metadata": {},
   "outputs": [
    {
     "data": {
      "text/plain": [
       "True"
      ]
     },
     "execution_count": 23,
     "metadata": {},
     "output_type": "execute_result"
    }
   ],
   "source": [
    "tau.is_bijective()"
   ]
  },
  {
   "cell_type": "code",
   "execution_count": 24,
   "metadata": {},
   "outputs": [
    {
     "data": {
      "text/plain": [
       "Vector space morphism represented by the matrix:\n",
       "[-2  3]\n",
       "[ 1 -1]\n",
       "Domain: Vector space of degree 3 and dimension 2 over Rational Field\n",
       "User basis matrix:\n",
       "[1 2 1]\n",
       "[1 0 1]\n",
       "Codomain: Vector space of degree 5 and dimension 2 over Rational Field\n",
       "User basis matrix:\n",
       "[1 1 2 3 4]\n",
       "[1 0 1 2 1]"
      ]
     },
     "execution_count": 24,
     "metadata": {},
     "output_type": "execute_result"
    }
   ],
   "source": [
    "tau.inverse()"
   ]
  },
  {
   "cell_type": "code",
   "execution_count": 25,
   "metadata": {},
   "outputs": [
    {
     "data": {
      "text/plain": [
       "Vector space morphism represented by the matrix:\n",
       "[1 0]\n",
       "[0 1]\n",
       "Domain: Vector space of degree 3 and dimension 2 over Rational Field\n",
       "User basis matrix:\n",
       "[1 2 1]\n",
       "[1 0 1]\n",
       "Codomain: Vector space of degree 3 and dimension 2 over Rational Field\n",
       "User basis matrix:\n",
       "[1 2 1]\n",
       "[1 0 1]"
      ]
     },
     "execution_count": 25,
     "metadata": {},
     "output_type": "execute_result"
    }
   ],
   "source": [
    "tau*tau.inverse()"
   ]
  },
  {
   "cell_type": "markdown",
   "metadata": {},
   "source": [
    "$\\rule{15cm}{3pt}$"
   ]
  },
  {
   "cell_type": "markdown",
   "metadata": {},
   "source": [
    "# <font color=green>Exercicis</font>"
   ]
  },
  {
   "cell_type": "markdown",
   "metadata": {},
   "source": [
    "$\\rule{15cm}{3pt}$"
   ]
  },
  {
   "cell_type": "markdown",
   "metadata": {},
   "source": [
    "<font color=green>\n",
    "    Definiu la aplicació lineal $f$ de $\\mathbb{Q}^4$ a $\\mathbb{Q}^6$ determinada per \n",
    " </font>"
   ]
  },
  {
   "cell_type": "markdown",
   "metadata": {},
   "source": [
    "<font color=green> Si\n",
    "$$\n",
    "    \\begin{aligned}\n",
    "    \\vec{v}_1 &= \\left(-1,\\,-1,\\,0,\\,1\\right)\\\\\n",
    "    \\vec{v}_2 &= \\left(1,\\,-3,\\,-4,\\,11\\right) \\\\\n",
    "    \\vec{v}_3 &= \\left(1,\\,-1,\\,-2,\\,5\\right) \\\\\n",
    "    \\vec{v}_4 &= \\left(0,\\,1,\\,1,\\,0\\right)\n",
    "    \\end{aligned}\n",
    "    $$\n",
    "aleshores\n",
    "$$\n",
    "    \\begin{aligned}\n",
    "    f(\\vec{v}_1) &= \\left(1,\\,1,\\,1,\\,1,\\,1\\right)\\\\\n",
    "    f(\\vec{v}_2) &= \\left(0,\\,-1,\\,-2,\\,-3,\\,-4\\right) \\\\\n",
    "    f(\\vec{v}_3) &= \\left(5,\\,6,\\,7,\\,8,\\, 9\\right) \\\\\n",
    "    f(\\vec{v}_4) &= \\left(3,\\,3,\\,3,\\, 3,\\, 3\\right)\n",
    "    \\end{aligned}\n",
    "    $$\n",
    "</font>\n"
   ]
  },
  {
   "cell_type": "markdown",
   "metadata": {},
   "source": [
    "<font color=green>\n",
    "Calculeu una base del nucli de $f$, una base de la imatge de $f$, la antiimatge de $(2,2,2,2,2)$, la matriu de l'aplicació $f$ ara respecte les bases canoniques. És $f$ injectiva? És exhaustiva? És bijectiva?\n",
    "</font>"
   ]
  },
  {
   "cell_type": "code",
   "execution_count": 0,
   "metadata": {},
   "outputs": [],
   "source": []
  },
  {
   "cell_type": "code",
   "execution_count": 0,
   "metadata": {},
   "outputs": [],
   "source": []
  },
  {
   "cell_type": "code",
   "execution_count": 0,
   "metadata": {},
   "outputs": [],
   "source": []
  },
  {
   "cell_type": "markdown",
   "metadata": {},
   "source": [
    "$\\rule{15cm}{2pt}$"
   ]
  },
  {
   "cell_type": "markdown",
   "metadata": {},
   "source": [
    "<font color=green>\n",
    "    Considereu l'espai vectorial $U\\subset \\mathbb{Q}^6$ que generen els vectors $\\vec{u}_1$, $\\vec{u}_2$, $\\vec{u}_3$,  _fabricats_  amb les instruccions\n",
    "</font>"
   ]
  },
  {
   "cell_type": "code",
   "execution_count": 26,
   "metadata": {},
   "outputs": [],
   "source": [
    "u1 =vector(QQ, [7, 4, -16, 5, -35, 12] )\n",
    "u2 =vector(QQ, [-2, -1, 5, -2, 10, 11] )\n",
    "u3 =vector(QQ, [4, 4, -5, -3, -21, 23] )"
   ]
  },
  {
   "cell_type": "markdown",
   "metadata": {},
   "source": [
    "<font color=green>\n",
    "Comproveu que són una base de $U$. Definiu la aplicació lineal $g:U\\to \\mathbb{Q}^3$ que té la següent matriu $A$\n",
    "    $$ A:=\\begin{pmatrix} 1 & 2 & 3 \\\\ 0& 1 & 2 \\\\ 1 & -1 & 1 \\end{pmatrix}\n",
    "    $$\n",
    "respecte les bases $\\vec{u}_1$, $\\vec{u}_2$, $\\vec{u}_3$ i la base canònica de $\\mathbb{Q}^3$.\n",
    "    \n",
    "\n",
    "Comproveu que $g$ és bijectiva, determineu la aplicació inversa i calculeu la matriu d'aquesta aplicació ara entre $\\mathbb{Q}^3$ i $\\mathbb{Q}^5$.\n",
    "</font>"
   ]
  },
  {
   "cell_type": "code",
   "execution_count": 0,
   "metadata": {},
   "outputs": [],
   "source": []
  },
  {
   "cell_type": "code",
   "execution_count": 0,
   "metadata": {},
   "outputs": [],
   "source": []
  },
  {
   "cell_type": "code",
   "execution_count": 0,
   "metadata": {},
   "outputs": [],
   "source": []
  },
  {
   "cell_type": "markdown",
   "metadata": {},
   "source": [
    "$\\rule{15cm}{2pt}$"
   ]
  },
  {
   "cell_type": "markdown",
   "metadata": {},
   "source": [
    "# Espais vectorials de polinomis "
   ]
  },
  {
   "cell_type": "markdown",
   "metadata": {},
   "source": [
    "En el reste de la pràctica provarem de treballar amb espais vectorials donats com a subespais dels polinomis, via el isomorfisme mirall. \n",
    "Primer cal introduir els polinomis adequadament. La manera més abreviada és "
   ]
  },
  {
   "cell_type": "code",
   "execution_count": 27,
   "metadata": {},
   "outputs": [
    {
     "data": {
      "text/html": [
       "<html><script type=\"math/tex; mode=display\">\\newcommand{\\Bold}[1]{\\mathbf{#1}}\\Bold{Q}[x]</script></html>"
      ]
     },
     "execution_count": 27,
     "metadata": {},
     "output_type": "execute_result"
    }
   ],
   "source": [
    "P.<x>=QQ[]\n",
    "show(P)"
   ]
  },
  {
   "cell_type": "code",
   "execution_count": 28,
   "metadata": {},
   "outputs": [
    {
     "data": {
      "text/html": [
       "<html><script type=\"math/tex; mode=display\">\\newcommand{\\Bold}[1]{\\mathbf{#1}}\\Bold{Q}[x]</script></html>"
      ]
     },
     "execution_count": 28,
     "metadata": {},
     "output_type": "execute_result"
    }
   ],
   "source": [
    "show(x.parent())"
   ]
  },
  {
   "cell_type": "code",
   "execution_count": 29,
   "metadata": {},
   "outputs": [
    {
     "data": {
      "text/html": [
       "<html><script type=\"math/tex; mode=display\">\\newcommand{\\Bold}[1]{\\mathbf{#1}}x^{3} + 3 x + 1</script></html>"
      ]
     },
     "execution_count": 29,
     "metadata": {},
     "output_type": "execute_result"
    }
   ],
   "source": [
    "pol1=x^3+3*x+1\n",
    "show(pol1)"
   ]
  },
  {
   "cell_type": "code",
   "execution_count": 30,
   "metadata": {},
   "outputs": [
    {
     "data": {
      "text/plain": [
       "Univariate Polynomial Ring in x over Rational Field"
      ]
     },
     "execution_count": 30,
     "metadata": {},
     "output_type": "execute_result"
    }
   ],
   "source": [
    "pol1.parent()"
   ]
  },
  {
   "cell_type": "markdown",
   "metadata": {},
   "source": [
    "Podeu veure que si té la variable x ja enten que és de P. Però que fem amb una constant?"
   ]
  },
  {
   "cell_type": "code",
   "execution_count": 31,
   "metadata": {},
   "outputs": [
    {
     "data": {
      "text/plain": [
       "Univariate Polynomial Ring in x over Rational Field"
      ]
     },
     "execution_count": 31,
     "metadata": {},
     "output_type": "execute_result"
    }
   ],
   "source": [
    "P(1).parent()"
   ]
  },
  {
   "cell_type": "markdown",
   "metadata": {},
   "source": [
    "Podem donar un polinomi amb una llista. "
   ]
  },
  {
   "cell_type": "code",
   "execution_count": 32,
   "metadata": {},
   "outputs": [
    {
     "data": {
      "text/plain": [
       "5*x^4 + 4*x^3 + 3*x^2 + 2*x + 1"
      ]
     },
     "execution_count": 32,
     "metadata": {},
     "output_type": "execute_result"
    }
   ],
   "source": [
    "P([1,2,3,4,5])"
   ]
  },
  {
   "cell_type": "markdown",
   "metadata": {},
   "source": [
    "Podem recuperar la llista demanant els coefficients amb list. Noteu però que coefficients ens dóna els coefficients no nuls!"
   ]
  },
  {
   "cell_type": "code",
   "execution_count": 33,
   "metadata": {},
   "outputs": [
    {
     "data": {
      "text/plain": [
       "[1, 3, 0, 1]"
      ]
     },
     "execution_count": 33,
     "metadata": {},
     "output_type": "execute_result"
    }
   ],
   "source": [
    "pol1.list()"
   ]
  },
  {
   "cell_type": "code",
   "execution_count": 34,
   "metadata": {},
   "outputs": [
    {
     "data": {
      "text/plain": [
       "[1, 3, 1]"
      ]
     },
     "execution_count": 34,
     "metadata": {},
     "output_type": "execute_result"
    }
   ],
   "source": [
    "pol1.coefficients()"
   ]
  },
  {
   "cell_type": "markdown",
   "metadata": {},
   "source": [
    "Volem calcular bases de subespais donats per una llista de polinomis. Ho podem fer via el ismorfisme mirall. Utilitzarem la base dels polinomis fins a grau n donada per $1,x,x^2,x^3,x^4,\\dots,x^n$. Els coefficients respecte aquesta base és simplement la llista donada abans... però amb compte, que si algun polinomi té grau més petit caldrà afegir zeros al final"
   ]
  },
  {
   "cell_type": "code",
   "execution_count": 35,
   "metadata": {},
   "outputs": [
    {
     "data": {
      "text/plain": [
       "[[3, 0, 1], [3, 0, 1, 1], [-3, 0, -1, 1], [-1, 0, 0, 1], [2, 0, 1, 1]]"
      ]
     },
     "execution_count": 35,
     "metadata": {},
     "output_type": "execute_result"
    }
   ],
   "source": [
    "W=[x^2+3,x^3+x^2+3,x^3-x^2-3,x^3-1,x^3+x^2+2]\n",
    "Wm=[w.list() for w in W ]\n",
    "Wm"
   ]
  },
  {
   "cell_type": "code",
   "execution_count": 36,
   "metadata": {},
   "outputs": [
    {
     "ename": "TypeError",
     "evalue": "each element of basis must be in the ambient vector space",
     "output_type": "error",
     "traceback": [
      "\u001b[0;31m---------------------------------------------------------------------------\u001b[0m",
      "\u001b[0;31mTypeError\u001b[0m                                 Traceback (most recent call last)",
      "\u001b[0;32m<ipython-input-36-6ba525d02279>\u001b[0m in \u001b[0;36m<module>\u001b[0;34m()\u001b[0m\n\u001b[0;32m----> 1\u001b[0;31m \u001b[0mU\u001b[0m\u001b[0;34m=\u001b[0m\u001b[0;34m(\u001b[0m\u001b[0mQQ\u001b[0m\u001b[0;34m**\u001b[0m\u001b[0mInteger\u001b[0m\u001b[0;34m(\u001b[0m\u001b[0;36m4\u001b[0m\u001b[0;34m)\u001b[0m\u001b[0;34m)\u001b[0m\u001b[0;34m.\u001b[0m\u001b[0mspan\u001b[0m\u001b[0;34m(\u001b[0m\u001b[0mWm\u001b[0m\u001b[0;34m)\u001b[0m\u001b[0;34m\u001b[0m\u001b[0m\n\u001b[0m",
      "\u001b[0;32m/ext/sage/sage-8.7_1804/local/lib/python2.7/site-packages/sage/modules/free_module.pyc\u001b[0m in \u001b[0;36mspan\u001b[0;34m(self, gens, base_ring, check, already_echelonized)\u001b[0m\n\u001b[1;32m   3847\u001b[0m         \u001b[0;32mif\u001b[0m \u001b[0mbase_ring\u001b[0m \u001b[0;32mis\u001b[0m \u001b[0mNone\u001b[0m \u001b[0;32mor\u001b[0m \u001b[0mbase_ring\u001b[0m \u001b[0;32mis\u001b[0m \u001b[0mself\u001b[0m\u001b[0;34m.\u001b[0m\u001b[0mbase_ring\u001b[0m\u001b[0;34m(\u001b[0m\u001b[0;34m)\u001b[0m\u001b[0;34m:\u001b[0m\u001b[0;34m\u001b[0m\u001b[0m\n\u001b[1;32m   3848\u001b[0m             return FreeModule_submodule_field(\n\u001b[0;32m-> 3849\u001b[0;31m                 self.ambient_module(), gens=gens, check=check, already_echelonized=already_echelonized)\n\u001b[0m\u001b[1;32m   3850\u001b[0m         \u001b[0;32melse\u001b[0m\u001b[0;34m:\u001b[0m\u001b[0;34m\u001b[0m\u001b[0m\n\u001b[1;32m   3851\u001b[0m             \u001b[0;32mtry\u001b[0m\u001b[0;34m:\u001b[0m\u001b[0;34m\u001b[0m\u001b[0m\n",
      "\u001b[0;32m/ext/sage/sage-8.7_1804/local/lib/python2.7/site-packages/sage/modules/free_module.pyc\u001b[0m in \u001b[0;36m__init__\u001b[0;34m(self, ambient, gens, check, already_echelonized)\u001b[0m\n\u001b[1;32m   6962\u001b[0m             \u001b[0mgens\u001b[0m \u001b[0;34m=\u001b[0m \u001b[0mgens\u001b[0m\u001b[0;34m.\u001b[0m\u001b[0mgens\u001b[0m\u001b[0;34m(\u001b[0m\u001b[0;34m)\u001b[0m\u001b[0;34m\u001b[0m\u001b[0m\n\u001b[1;32m   6963\u001b[0m         FreeModule_submodule_with_basis_field.__init__(self, ambient, basis=gens, check=check,\n\u001b[0;32m-> 6964\u001b[0;31m             echelonize=not already_echelonized, already_echelonized=already_echelonized)\n\u001b[0m\u001b[1;32m   6965\u001b[0m \u001b[0;34m\u001b[0m\u001b[0m\n\u001b[1;32m   6966\u001b[0m     \u001b[0;32mdef\u001b[0m \u001b[0m_repr_\u001b[0m\u001b[0;34m(\u001b[0m\u001b[0mself\u001b[0m\u001b[0;34m)\u001b[0m\u001b[0;34m:\u001b[0m\u001b[0;34m\u001b[0m\u001b[0m\n",
      "\u001b[0;32m/ext/sage/sage-8.7_1804/local/lib/python2.7/site-packages/sage/modules/free_module.pyc\u001b[0m in \u001b[0;36m__init__\u001b[0;34m(self, ambient, basis, check, echelonize, echelonized_basis, already_echelonized)\u001b[0m\n\u001b[1;32m   6764\u001b[0m         FreeModule_submodule_with_basis_pid.__init__(\n\u001b[1;32m   6765\u001b[0m             \u001b[0mself\u001b[0m\u001b[0;34m,\u001b[0m \u001b[0mambient\u001b[0m\u001b[0;34m,\u001b[0m \u001b[0mbasis\u001b[0m\u001b[0;34m=\u001b[0m\u001b[0mbasis\u001b[0m\u001b[0;34m,\u001b[0m \u001b[0mcheck\u001b[0m\u001b[0;34m=\u001b[0m\u001b[0mcheck\u001b[0m\u001b[0;34m,\u001b[0m \u001b[0mechelonize\u001b[0m\u001b[0;34m=\u001b[0m\u001b[0mechelonize\u001b[0m\u001b[0;34m,\u001b[0m\u001b[0;34m\u001b[0m\u001b[0m\n\u001b[0;32m-> 6766\u001b[0;31m             echelonized_basis=echelonized_basis, already_echelonized=already_echelonized)\n\u001b[0m\u001b[1;32m   6767\u001b[0m \u001b[0;34m\u001b[0m\u001b[0m\n\u001b[1;32m   6768\u001b[0m     \u001b[0;32mdef\u001b[0m \u001b[0m_repr_\u001b[0m\u001b[0;34m(\u001b[0m\u001b[0mself\u001b[0m\u001b[0;34m)\u001b[0m\u001b[0;34m:\u001b[0m\u001b[0;34m\u001b[0m\u001b[0m\n",
      "\u001b[0;32m/ext/sage/sage-8.7_1804/local/lib/python2.7/site-packages/sage/modules/free_module.pyc\u001b[0m in \u001b[0;36m__init__\u001b[0;34m(self, ambient, basis, check, echelonize, echelonized_basis, already_echelonized)\u001b[0m\n\u001b[1;32m   5689\u001b[0m                 \u001b[0mbasis\u001b[0m \u001b[0;34m=\u001b[0m \u001b[0;34m[\u001b[0m\u001b[0mV\u001b[0m\u001b[0;34m(\u001b[0m\u001b[0mx\u001b[0m\u001b[0;34m)\u001b[0m \u001b[0;32mfor\u001b[0m \u001b[0mx\u001b[0m \u001b[0;32min\u001b[0m \u001b[0mbasis\u001b[0m\u001b[0;34m]\u001b[0m\u001b[0;34m\u001b[0m\u001b[0m\n\u001b[1;32m   5690\u001b[0m             \u001b[0;32mexcept\u001b[0m \u001b[0mTypeError\u001b[0m\u001b[0;34m:\u001b[0m\u001b[0;34m\u001b[0m\u001b[0m\n\u001b[0;32m-> 5691\u001b[0;31m                 raise TypeError(\"each element of basis must be in \"\n\u001b[0m\u001b[1;32m   5692\u001b[0m                                 \"the ambient vector space\")\n\u001b[1;32m   5693\u001b[0m \u001b[0;34m\u001b[0m\u001b[0m\n",
      "\u001b[0;31mTypeError\u001b[0m: each element of basis must be in the ambient vector space"
     ]
    }
   ],
   "source": [
    "U=(QQ^4).span(Wm)"
   ]
  },
  {
   "cell_type": "code",
   "execution_count": 37,
   "metadata": {},
   "outputs": [
    {
     "data": {
      "text/plain": [
       "4"
      ]
     },
     "execution_count": 37,
     "metadata": {},
     "output_type": "execute_result"
    }
   ],
   "source": [
    "d=max([w.degree() for w in W])+1\n",
    "d"
   ]
  },
  {
   "cell_type": "code",
   "execution_count": 38,
   "metadata": {},
   "outputs": [
    {
     "data": {
      "text/plain": [
       "[[3, 0, 1, 0], [3, 0, 1, 1], [-3, 0, -1, 1], [-1, 0, 0, 1], [2, 0, 1, 1]]"
      ]
     },
     "execution_count": 38,
     "metadata": {},
     "output_type": "execute_result"
    }
   ],
   "source": [
    "WW=[w.padded_list(d) for w in W]\n",
    "WW"
   ]
  },
  {
   "cell_type": "code",
   "execution_count": 39,
   "metadata": {},
   "outputs": [
    {
     "data": {
      "text/plain": [
       "Vector space of degree 4 and dimension 3 over Rational Field\n",
       "Basis matrix:\n",
       "[1 0 0 0]\n",
       "[0 0 1 0]\n",
       "[0 0 0 1]"
      ]
     },
     "execution_count": 39,
     "metadata": {},
     "output_type": "execute_result"
    }
   ],
   "source": [
    "U=(QQ^d).span(WW)\n",
    "U"
   ]
  },
  {
   "cell_type": "code",
   "execution_count": 40,
   "metadata": {},
   "outputs": [
    {
     "data": {
      "text/plain": [
       "[1, x^2, x^3]"
      ]
     },
     "execution_count": 40,
     "metadata": {},
     "output_type": "execute_result"
    }
   ],
   "source": [
    "WB=[P(v.list()) for v in U.basis()]\n",
    "WB"
   ]
  },
  {
   "cell_type": "code",
   "execution_count": 0,
   "metadata": {},
   "outputs": [],
   "source": []
  },
  {
   "cell_type": "code",
   "execution_count": 0,
   "metadata": {},
   "outputs": [],
   "source": []
  },
  {
   "cell_type": "markdown",
   "metadata": {},
   "source": [
    "# <font color=green> Exercicis </font>"
   ]
  },
  {
   "cell_type": "markdown",
   "metadata": {},
   "source": [
    "<font color=green>\n",
    "Siguin $E$ i $F$ és subespais de $\\mathbb{Q}[x]$ generats per \n",
    "    $$ \n",
    "    E=\\langle x^6+x+1,x^5+x^4+x+1,x^6+x^5+x^4+2x+2, \\rangle\n",
    "    $$\n",
    "    $$ \n",
    "    F=\\langle x^6+3x+5,x^6-x^5-x^4,x^5+x^4-3x-5, \\rangle\n",
    "    $$\n",
    "</font>\n",
    "\n",
    "<font color=green>\n",
    "    <ul>\n",
    "        <li>Doneu una base de $E$ i una de $F$. Quines són les dimensions de cada un dels espais?</li>\n",
    "        <li>Calculeu els espais $G=E\\cap F$ i $S=E+F$.</li>\n",
    "        <li>Doneu bases de $G$ i $S$.</li>\n",
    "        <li> Amplieu la base de $S$ a una base de $\\mathbb{Q}[x]_6$ (el espai dels polinomis de grau menor o igual que 6). </li> \n",
    "    </ul>\n",
    "</font>"
   ]
  },
  {
   "cell_type": "code",
   "execution_count": 0,
   "metadata": {},
   "outputs": [],
   "source": []
  },
  {
   "cell_type": "code",
   "execution_count": 0,
   "metadata": {},
   "outputs": [],
   "source": []
  },
  {
   "cell_type": "code",
   "execution_count": 0,
   "metadata": {},
   "outputs": [],
   "source": []
  },
  {
   "cell_type": "code",
   "execution_count": 0,
   "metadata": {},
   "outputs": [],
   "source": []
  },
  {
   "cell_type": "code",
   "execution_count": 0,
   "metadata": {},
   "outputs": [],
   "source": []
  },
  {
   "cell_type": "markdown",
   "metadata": {},
   "source": [
    "<font color=green>\n",
    "Sigui $F=\\mathbb{Q}[x]_n$ l'espai dels polinomis de grau menor o igual que $n$. Considereu l'aplicació lineal \n",
    "    $$f: F \\to \\mathbb{Q}^{n+1}$$\n",
    "   donada per $f(p(x))=(p(0),p(1),\\dots,p(n))$. \n",
    "</font>\n",
    "\n",
    "\n",
    "<font color=green>\n",
    "Definiu una funció \"Interpolacio\" tal que, per a tot $\\vec{u}=(a_0,a_1,\\dots,a_n)\\in \\mathbb{Q}^{n+1}$ calculi el (únic) polinomi $p_{\\vec{u}}$  tal que $f(p_{\\vec{u}})={\\vec{u}}$ \n",
    "</font>"
   ]
  },
  {
   "cell_type": "code",
   "execution_count": null,
   "metadata": {},
   "outputs": [],
   "source": []
  },
  {
   "cell_type": "code",
   "execution_count": null,
   "metadata": {},
   "outputs": [],
   "source": []
  },
  {
   "cell_type": "code",
   "execution_count": null,
   "metadata": {},
   "outputs": [],
   "source": []
  },
  {
   "cell_type": "code",
   "execution_count": null,
   "metadata": {},
   "outputs": [],
   "source": []
  },
  {
   "cell_type": "code",
   "execution_count": null,
   "metadata": {},
   "outputs": [],
   "source": []
  },
  {
   "cell_type": "code",
   "execution_count": null,
   "metadata": {},
   "outputs": [],
   "source": []
  }
 ],
 "metadata": {
  "kernelspec": {
   "display_name": "SageMath 8.5",
   "language": "",
   "name": "sagemath"
  },
  "language_info": {
   "codemirror_mode": {
    "name": "ipython",
    "version": 2
   },
   "file_extension": ".py",
   "mimetype": "text/x-python",
   "name": "python",
   "nbconvert_exporter": "python",
   "pygments_lexer": "ipython2",
   "version": "2.7.15"
  }
 },
 "nbformat": 4,
 "nbformat_minor": 1
}
