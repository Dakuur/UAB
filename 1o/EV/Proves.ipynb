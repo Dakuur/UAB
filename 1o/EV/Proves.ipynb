{
 "cells": [
  {
   "cell_type": "code",
   "execution_count": 1,
   "metadata": {},
   "outputs": [
    {
     "data": {
      "text/html": [
       "<html><script type=\"math/tex; mode=display\">\\newcommand{\\Bold}[1]{\\mathbf{#1}}\\left(\\begin{array}{rr}\n",
       "1 & 2 \\\\\n",
       "2 & 3\n",
       "\\end{array}\\right)</script></html>"
      ],
      "text/latex": [
       "$$\\newcommand{\\Bold}[1]{\\mathbf{#1}}\\left(\\begin{array}{rr}\n",
       "1 & 2 \\\\\n",
       "2 & 3\n",
       "\\end{array}\\right)$$"
      ],
      "text/plain": [
       "[1 2]\n",
       "[2 3]"
      ]
     },
     "metadata": {},
     "output_type": "display_data"
    },
    {
     "data": {
      "text/html": [
       "<html><script type=\"math/tex; mode=display\">\\newcommand{\\Bold}[1]{\\mathbf{#1}}\\left(\\begin{array}{rr}\n",
       "-\\sqrt{5} - 1 & 2 \\\\\n",
       "2 & -\\sqrt{5} + 1\n",
       "\\end{array}\\right)</script></html>"
      ],
      "text/latex": [
       "$$\\newcommand{\\Bold}[1]{\\mathbf{#1}}\\left(\\begin{array}{rr}\n",
       "-\\sqrt{5} - 1 & 2 \\\\\n",
       "2 & -\\sqrt{5} + 1\n",
       "\\end{array}\\right)$$"
      ],
      "text/plain": [
       "[-sqrt(5) - 1            2]\n",
       "[           2 -sqrt(5) + 1]"
      ]
     },
     "metadata": {},
     "output_type": "display_data"
    },
    {
     "data": {
      "text/html": [
       "<html><script type=\"math/tex; mode=display\">\\newcommand{\\Bold}[1]{\\mathbf{#1}}\\mathrm{RowSpan}_{\\text{SR}}\\left(\\begin{array}{rr}\n",
       "1 & \\frac{1}{2} \\, \\sqrt{5} + \\frac{1}{2}\n",
       "\\end{array}\\right)</script></html>"
      ],
      "text/latex": [
       "$$\\newcommand{\\Bold}[1]{\\mathbf{#1}}\\mathrm{RowSpan}_{\\text{SR}}\\left(\\begin{array}{rr}\n",
       "1 & \\frac{1}{2} \\, \\sqrt{5} + \\frac{1}{2}\n",
       "\\end{array}\\right)$$"
      ],
      "text/plain": [
       "Vector space of degree 2 and dimension 1 over Symbolic Ring\n",
       "Basis matrix:\n",
       "[                1 1/2*sqrt(5) + 1/2]"
      ]
     },
     "metadata": {},
     "output_type": "display_data"
    }
   ],
   "source": [
    "A=Matrix(2,2,[1,2,2,3])\n",
    "show(A)\n",
    "A2 = A - (2+sqrt(5))*identity_matrix(2)\n",
    "show(A2)\n",
    "show(A2.kernel())"
   ]
  },
  {
   "cell_type": "code",
   "execution_count": 8,
   "metadata": {},
   "outputs": [
    {
     "data": {
      "text/html": [
       "<html><script type=\"math/tex; mode=display\">\\newcommand{\\Bold}[1]{\\mathbf{#1}}\\left(\\begin{array}{rr}\n",
       "1.0 & -2.0 \\\\\n",
       "-2.0 & 1.0\n",
       "\\end{array}\\right)</script></html>"
      ],
      "text/latex": [
       "$$\\newcommand{\\Bold}[1]{\\mathbf{#1}}\\left(\\begin{array}{rr}\n",
       "1.0 & -2.0 \\\\\n",
       "-2.0 & 1.0\n",
       "\\end{array}\\right)$$"
      ],
      "text/plain": [
       "[ 1.0 -2.0]\n",
       "[-2.0  1.0]"
      ]
     },
     "metadata": {},
     "output_type": "display_data"
    },
    {
     "data": {
      "text/html": [
       "<html><script type=\"math/tex; mode=display\">\\newcommand{\\Bold}[1]{\\mathbf{#1}}\\verb|U| \\left(\\begin{array}{rr}\n",
       "-0.7071067811865476 & -0.7071067811865474 \\\\\n",
       "0.7071067811865474 & -0.7071067811865476\n",
       "\\end{array}\\right)</script></html>"
      ],
      "text/latex": [
       "$$\\newcommand{\\Bold}[1]{\\mathbf{#1}}\\verb|U| \\left(\\begin{array}{rr}\n",
       "-0.7071067811865476 & -0.7071067811865474 \\\\\n",
       "0.7071067811865474 & -0.7071067811865476\n",
       "\\end{array}\\right)$$"
      ],
      "text/plain": [
       "'U' [-0.7071067811865476 -0.7071067811865474]\n",
       "[ 0.7071067811865474 -0.7071067811865476]"
      ]
     },
     "metadata": {},
     "output_type": "display_data"
    },
    {
     "data": {
      "text/html": [
       "<html><script type=\"math/tex; mode=display\">\\newcommand{\\Bold}[1]{\\mathbf{#1}}\\verb|Sigma| \\left(\\begin{array}{rr}\n",
       "2.9999999999999996 & 0.0 \\\\\n",
       "0.0 & 1.0\n",
       "\\end{array}\\right)</script></html>"
      ],
      "text/latex": [
       "$$\\newcommand{\\Bold}[1]{\\mathbf{#1}}\\verb|Sigma| \\left(\\begin{array}{rr}\n",
       "2.9999999999999996 & 0.0 \\\\\n",
       "0.0 & 1.0\n",
       "\\end{array}\\right)$$"
      ],
      "text/plain": [
       "'Sigma' [2.9999999999999996                0.0]\n",
       "[               0.0                1.0]"
      ]
     },
     "metadata": {},
     "output_type": "display_data"
    },
    {
     "data": {
      "text/html": [
       "<html><script type=\"math/tex; mode=display\">\\newcommand{\\Bold}[1]{\\mathbf{#1}}\\verb|V|\\phantom{\\verb!x!}\\verb|transposta| \\left(\\begin{array}{rr}\n",
       "-0.7071067811865472 & 0.7071067811865475 \\\\\n",
       "0.7071067811865475 & 0.7071067811865475\n",
       "\\end{array}\\right)</script></html>"
      ],
      "text/latex": [
       "$$\\newcommand{\\Bold}[1]{\\mathbf{#1}}\\verb|V|\\phantom{\\verb!x!}\\verb|transposta| \\left(\\begin{array}{rr}\n",
       "-0.7071067811865472 & 0.7071067811865475 \\\\\n",
       "0.7071067811865475 & 0.7071067811865475\n",
       "\\end{array}\\right)$$"
      ],
      "text/plain": [
       "'V transposta' [-0.7071067811865472  0.7071067811865475]\n",
       "[ 0.7071067811865475  0.7071067811865475]"
      ]
     },
     "metadata": {},
     "output_type": "display_data"
    }
   ],
   "source": [
    "A = Matrix(2,2,[1,-2,-2,1])\n",
    "A1 = matrix(CDF, A)\n",
    "show(A1)\n",
    "Vt, S, U = A1.SVD()\n",
    "\n",
    "show(\"U\", U)\n",
    "show(\"Sigma\", S)\n",
    "show(\"V transposta\", Vt)"
   ]
  },
  {
   "cell_type": "code",
   "execution_count": 1,
   "metadata": {},
   "outputs": [
    {
     "data": {
      "text/html": [
       "<html><script type=\"math/tex; mode=display\">\\newcommand{\\Bold}[1]{\\mathbf{#1}}\\left(\\begin{array}{rr}\n",
       "1 & 1 \\\\\n",
       "-1 & 1\n",
       "\\end{array}\\right)</script></html>"
      ],
      "text/latex": [
       "$$\\newcommand{\\Bold}[1]{\\mathbf{#1}}\\left(\\begin{array}{rr}\n",
       "1 & 1 \\\\\n",
       "-1 & 1\n",
       "\\end{array}\\right)$$"
      ],
      "text/plain": [
       "[ 1  1]\n",
       "[-1  1]"
      ]
     },
     "metadata": {},
     "output_type": "display_data"
    },
    {
     "data": {
      "text/html": [
       "<html><script type=\"math/tex; mode=display\">\\newcommand{\\Bold}[1]{\\mathbf{#1}}\\left(\\begin{array}{rr}\n",
       "3 & 0 \\\\\n",
       "0 & -1\n",
       "\\end{array}\\right)</script></html>"
      ],
      "text/latex": [
       "$$\\newcommand{\\Bold}[1]{\\mathbf{#1}}\\left(\\begin{array}{rr}\n",
       "3 & 0 \\\\\n",
       "0 & -1\n",
       "\\end{array}\\right)$$"
      ],
      "text/plain": [
       "[ 3  0]\n",
       "[ 0 -1]"
      ]
     },
     "metadata": {},
     "output_type": "display_data"
    },
    {
     "data": {
      "text/html": [
       "<html><script type=\"math/tex; mode=display\">\\newcommand{\\Bold}[1]{\\mathbf{#1}}\\left(\\begin{array}{rr}\n",
       "\\frac{1}{2} & -\\frac{1}{2} \\\\\n",
       "\\frac{1}{2} & \\frac{1}{2}\n",
       "\\end{array}\\right)</script></html>"
      ],
      "text/latex": [
       "$$\\newcommand{\\Bold}[1]{\\mathbf{#1}}\\left(\\begin{array}{rr}\n",
       "\\frac{1}{2} & -\\frac{1}{2} \\\\\n",
       "\\frac{1}{2} & \\frac{1}{2}\n",
       "\\end{array}\\right)$$"
      ],
      "text/plain": [
       "[ 1/2 -1/2]\n",
       "[ 1/2  1/2]"
      ]
     },
     "metadata": {},
     "output_type": "display_data"
    }
   ],
   "source": [
    "A = Matrix(2,2,[1,-2,-2,1])\n",
    "D,P=A.eigenmatrix_right();\n",
    "show(P); # són els vectors de cada VAP posats ens columnes\n",
    "show(D); # ens dona una aproximació de la diagonal => tenim 3 valors propis\n",
    "show(P.inverse())"
   ]
  },
  {
   "cell_type": "code",
   "execution_count": 2,
   "metadata": {},
   "outputs": [
    {
     "data": {
      "text/html": [
       "<html><script type=\"math/tex; mode=display\">\\newcommand{\\Bold}[1]{\\mathbf{#1}}\\left(\\begin{array}{rr}\n",
       "5 & -4 \\\\\n",
       "-4 & 5\n",
       "\\end{array}\\right)</script></html>"
      ],
      "text/latex": [
       "$$\\newcommand{\\Bold}[1]{\\mathbf{#1}}\\left(\\begin{array}{rr}\n",
       "5 & -4 \\\\\n",
       "-4 & 5\n",
       "\\end{array}\\right)$$"
      ],
      "text/plain": [
       "[ 5 -4]\n",
       "[-4  5]"
      ]
     },
     "metadata": {},
     "output_type": "display_data"
    }
   ],
   "source": [
    "show(A.transpose()*A)"
   ]
  }
 ],
 "metadata": {
  "kernelspec": {
   "display_name": "SageMath 9.3",
   "language": "sage",
   "name": "sagemath"
  },
  "language_info": {
   "codemirror_mode": {
    "name": "ipython",
    "version": 3
   },
   "file_extension": ".py",
   "mimetype": "text/x-python",
   "name": "python",
   "nbconvert_exporter": "python",
   "pygments_lexer": "ipython3",
   "version": "3.7.10"
  }
 },
 "nbformat": 4,
 "nbformat_minor": 4
}
