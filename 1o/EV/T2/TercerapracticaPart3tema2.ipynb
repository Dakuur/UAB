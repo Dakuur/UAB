{
 "cells": [
  {
   "cell_type": "markdown",
   "metadata": {},
   "source": [
    "# Espais Vectorials\n",
    "## Grau d'Enginyeria de Dades.\n",
    "# Sumes i interseccions de subespais vectorials, Coordenades."
   ]
  },
  {
   "cell_type": "markdown",
   "metadata": {},
   "source": [
    "La suma i la intersecció de subespais vectorials donats és una de les situacions naturals en les que es _fabriquen_ espais vectorials nous a partir dels que ja es tenen. El problema bàsic en aquestes situacions és determinar bases d'aquests _productes_ a partir de les dades que es tinguin dels espais originals. Si es treballa amb <font color=blue>**SageMath**</font> i es tenen definits un parell d'espais vectorials $V$ i $W$, la instrucció <font color=blue>intesection( )</font> genera $V\\cap W$, mentre que com en molts altres casos _l'operador suma <font color=blue>$+$</font>_ permet obtenir $V+W$ de forma immediata. D'aquesta forma els resultats són, també, objectes de la categoria _espai vectorial_ i, pert tant, es disposa de tota la bateria de funcions associades (dimensió, base,...)"
   ]
  },
  {
   "cell_type": "markdown",
   "metadata": {},
   "source": [
    "**Exemple:** Considerem el subespai vectorial $F$ generat per $\\vec{v}_1=(1,1,-1)$, $\\vec{v}_2=(2,0,-1)$ i el subespai vectorial $G$ generat per $\\vec{w}_1=(1,0,-1)$, $\\vec{w}_2=(2,3,0)$, $\\vec{w}_3=(4,3,-2)$. "
   ]
  },
  {
   "cell_type": "code",
   "execution_count": 1,
   "metadata": {},
   "outputs": [
    {
     "data": {
      "text/html": [
       "<html><script type=\"math/tex; mode=display\">\\newcommand{\\Bold}[1]{\\mathbf{#1}}\\mathrm{RowSpan}_{\\Bold{Q}}\\left(\\begin{array}{rrr}\n",
       "1 & 0 & -\\frac{1}{2} \\\\\n",
       "0 & 1 & -\\frac{1}{2}\n",
       "\\end{array}\\right)</script></html>"
      ],
      "text/plain": [
       "Vector space of degree 3 and dimension 2 over Rational Field\n",
       "Basis matrix:\n",
       "[   1    0 -1/2]\n",
       "[   0    1 -1/2]"
      ]
     },
     "metadata": {},
     "output_type": "display_data"
    },
    {
     "data": {
      "text/html": [
       "<html><script type=\"math/tex; mode=display\">\\newcommand{\\Bold}[1]{\\mathbf{#1}}\\mathrm{RowSpan}_{\\Bold{Q}}\\left(\\begin{array}{rrr}\n",
       "1 & 0 & -1 \\\\\n",
       "0 & 1 & \\frac{2}{3}\n",
       "\\end{array}\\right)</script></html>"
      ],
      "text/plain": [
       "Vector space of degree 3 and dimension 2 over Rational Field\n",
       "Basis matrix:\n",
       "[  1   0  -1]\n",
       "[  0   1 2/3]"
      ]
     },
     "metadata": {},
     "output_type": "display_data"
    }
   ],
   "source": [
    "v1=vector(QQ,[1,1,-1])\n",
    "v2=vector(QQ,[2,0,-1])\n",
    "w1=vector(QQ,[1,0,-1])\n",
    "w2=vector(QQ,[2,3,0])\n",
    "w3=vector(QQ,[4,3,-2])\n",
    "F=span([v1,v2])\n",
    "G=span([w1,w2,w3])\n",
    "show(F)\n",
    "show(G)"
   ]
  },
  {
   "cell_type": "markdown",
   "metadata": {},
   "source": [
    "Ara ja es pot construir la suma i la intersecció:"
   ]
  },
  {
   "cell_type": "code",
   "execution_count": 2,
   "metadata": {},
   "outputs": [
    {
     "data": {
      "text/html": [
       "<html><script type=\"math/tex; mode=display\">\\newcommand{\\Bold}[1]{\\mathbf{#1}}\\mathrm{RowSpan}_{\\Bold{Q}}\\left(\\begin{array}{rrr}\n",
       "1 & 0 & 0 \\\\\n",
       "0 & 1 & 0 \\\\\n",
       "0 & 0 & 1\n",
       "\\end{array}\\right)</script></html>"
      ],
      "text/plain": [
       "Vector space of degree 3 and dimension 3 over Rational Field\n",
       "Basis matrix:\n",
       "[1 0 0]\n",
       "[0 1 0]\n",
       "[0 0 1]"
      ]
     },
     "metadata": {},
     "output_type": "display_data"
    },
    {
     "data": {
      "text/html": [
       "<html><script type=\"math/tex; mode=display\">\\newcommand{\\Bold}[1]{\\mathbf{#1}}3</script></html>"
      ],
      "text/plain": [
       "3"
      ]
     },
     "metadata": {},
     "output_type": "display_data"
    }
   ],
   "source": [
    "S=F+G\n",
    "show(S)\n",
    "show(S.dimension())"
   ]
  },
  {
   "cell_type": "code",
   "execution_count": 3,
   "metadata": {},
   "outputs": [
    {
     "data": {
      "text/html": [
       "<html><script type=\"math/tex; mode=display\">\\newcommand{\\Bold}[1]{\\mathbf{#1}}\\left[\\left(1,\\,\\frac{3}{7},\\,-\\frac{5}{7}\\right)\\right]</script></html>"
      ],
      "text/plain": [
       "[\n",
       "(1, 3/7, -5/7)\n",
       "]"
      ]
     },
     "metadata": {},
     "output_type": "display_data"
    }
   ],
   "source": [
    "Intrs=F.intersection(G)\n",
    "show(Intrs.basis())"
   ]
  },
  {
   "cell_type": "code",
   "execution_count": 4,
   "metadata": {},
   "outputs": [
    {
     "data": {
      "text/html": [
       "<html><script type=\"math/tex; mode=display\">\\newcommand{\\Bold}[1]{\\mathbf{#1}}1</script></html>"
      ],
      "text/plain": [
       "1"
      ]
     },
     "metadata": {},
     "output_type": "display_data"
    }
   ],
   "source": [
    "show(Intrs.dimension())"
   ]
  },
  {
   "cell_type": "code",
   "execution_count": null,
   "metadata": {},
   "outputs": [],
   "source": []
  },
  {
   "cell_type": "markdown",
   "metadata": {},
   "source": [
    "$\\rule{15cm}{3pt}$"
   ]
  },
  {
   "cell_type": "markdown",
   "metadata": {},
   "source": [
    "# <font color=green> Exercici </font>"
   ]
  },
  {
   "cell_type": "markdown",
   "metadata": {},
   "source": [
    "$\\rule{15cm}{3pt}$"
   ]
  },
  {
   "cell_type": "markdown",
   "metadata": {},
   "source": [
    "<font color=green>\n",
    "    Sigui $E$ el subespai vectorial donat pels vectors $\\vec{x}=(x_1,x_2,x_3,x_4,x_5)$ que compleixen\n",
    "    $$\n",
    "    \\left.\n",
    "    \\begin{aligned}\n",
    "    -x_{1} + x_{2} + x_{3} - 5 \\, x_{5}&=0 \\\\\n",
    "-x_{1} + x_{3} - 2 \\, x_{4} - 2 \\, x_{5}&=0 \\\\\n",
    "x_{2} + 2 \\, x_{4} - 3 \\, x_{5}&=0 \\\\\n",
    "x_{1} + x_{2} - x_{3} + 4 \\, x_{4} - x_{5}&=0\n",
    "\\end{aligned}\n",
    "\\right\\}\n",
    "    $$\n",
    "</font>"
   ]
  },
  {
   "cell_type": "markdown",
   "metadata": {},
   "source": [
    "<font color=green>\n",
    "    Sigui $F$ el subespai vectorial generat pels vectors\n",
    "    $$\n",
    "    \\begin{aligned}\n",
    "    \\vec{v}_1 &=\\left(-5,\\,5,\\,-5,\\,-1,\\,1\\right),\\\\\n",
    "    \\vec{v}_2 &=\\left(-15,\\,-15,\\,5,\\,9,\\,1\\right),\\\\ \n",
    "    \\vec{v}_3 &=\\left(-5,\\,35,\\,-25,\\,-13,\\,3\\right),\\\\ \n",
    "    \\vec{v}_4 &=\\left(-15,\\,1,\\,-4,\\,3,\\,1\\right)\n",
    "    \\end{aligned}\n",
    "    $$\n",
    "</font>"
   ]
  },
  {
   "cell_type": "markdown",
   "metadata": {},
   "source": [
    "<font color=green>\n",
    "    <ul>\n",
    "        <li>Doneu una base de $E$ i una de $F$. Quines són les dimensions de cada un dels espais?</li>\n",
    "        <li>Calculeu els espais $G=E\\cap F$ i $S=E+F$.</li>\n",
    "        <li>Doneu bases de $G$ i $S$.</li>\n",
    "        <li>Comproveu que \n",
    "            $$\n",
    "            \\dim(S)=\\dim(E)+\\dim(F)-\\dim(G)\n",
    "            $$\n",
    "    </ul>\n",
    "</font>"
   ]
  },
  {
   "cell_type": "code",
   "execution_count": 6,
   "metadata": {},
   "outputs": [
    {
     "data": {
      "text/html": [
       "<html><script type=\"math/tex; mode=display\">\\newcommand{\\Bold}[1]{\\mathbf{#1}}\\left(\\begin{array}{rrrrr}\n",
       "-1 & 1 & 1 & 0 & -5 \\\\\n",
       "-1 & 0 & 1 & -2 & -2 \\\\\n",
       "0 & 1 & 0 & 2 & -3 \\\\\n",
       "1 & 1 & -1 & 4 & -1\n",
       "\\end{array}\\right)</script></html>"
      ],
      "text/plain": [
       "[-1  1  1  0 -5]\n",
       "[-1  0  1 -2 -2]\n",
       "[ 0  1  0  2 -3]\n",
       "[ 1  1 -1  4 -1]"
      ]
     },
     "metadata": {},
     "output_type": "display_data"
    }
   ],
   "source": [
    "M=matrix(QQ,4,5,[\n",
    "    -1,1,1,0,-5,\n",
    "    -1,0,1,-2,-2,\n",
    "    0,1,0,2,-3,\n",
    "    1,1,-1,4,-1\n",
    "])\n",
    "show(M)"
   ]
  },
  {
   "cell_type": "code",
   "execution_count": 7,
   "metadata": {},
   "outputs": [
    {
     "data": {
      "text/html": [
       "<html><script type=\"math/tex; mode=display\">\\newcommand{\\Bold}[1]{\\mathbf{#1}}\\mathrm{RowSpan}_{\\Bold{Q}}\\left(\\begin{array}{rrrrr}\n",
       "1 & 0 & 0 & -\\frac{3}{10} & -\\frac{1}{5} \\\\\n",
       "0 & 1 & 0 & -\\frac{1}{5} & \\frac{1}{5} \\\\\n",
       "0 & 0 & 1 & \\frac{3}{10} & \\frac{1}{5}\n",
       "\\end{array}\\right)</script></html>"
      ],
      "text/plain": [
       "Vector space of degree 5 and dimension 3 over Rational Field\n",
       "Basis matrix:\n",
       "[    1     0     0 -3/10  -1/5]\n",
       "[    0     1     0  -1/5   1/5]\n",
       "[    0     0     1  3/10   1/5]"
      ]
     },
     "metadata": {},
     "output_type": "display_data"
    }
   ],
   "source": [
    "E=M.right_kernel()\n",
    "show(E)"
   ]
  },
  {
   "cell_type": "code",
   "execution_count": 9,
   "metadata": {},
   "outputs": [
    {
     "data": {
      "text/html": [
       "<html><script type=\"math/tex; mode=display\">\\newcommand{\\Bold}[1]{\\mathbf{#1}}\\mathrm{RowSpan}_{\\Bold{Q}}\\left(\\begin{array}{rrrrr}\n",
       "1 & 0 & 0 & -\\frac{7}{25} & \\frac{2}{25} \\\\\n",
       "0 & 1 & 0 & -\\frac{6}{25} & -\\frac{9}{25} \\\\\n",
       "0 & 0 & 1 & \\frac{6}{25} & -\\frac{16}{25}\n",
       "\\end{array}\\right)</script></html>"
      ],
      "text/plain": [
       "Vector space of degree 5 and dimension 3 over Rational Field\n",
       "Basis matrix:\n",
       "[     1      0      0  -7/25   2/25]\n",
       "[     0      1      0  -6/25  -9/25]\n",
       "[     0      0      1   6/25 -16/25]"
      ]
     },
     "metadata": {},
     "output_type": "display_data"
    }
   ],
   "source": [
    "v1=vector(QQ,[-5,5,-5,-1,1])\n",
    "v2=vector(QQ,[-15,-15,5,9,1])\n",
    "v3=vector(QQ,[-5,35,-25,-13,3])\n",
    "v4=vector(QQ,[-15,1,-4,3,1])\n",
    "F=span([v1,v2,v3,v4])\n",
    "show(F)"
   ]
  },
  {
   "cell_type": "code",
   "execution_count": 10,
   "metadata": {},
   "outputs": [
    {
     "data": {
      "text/html": [
       "<html><script type=\"math/tex; mode=display\">\\newcommand{\\Bold}[1]{\\mathbf{#1}}\\left[\\left(1,\\,0,\\,0,\\,-\\frac{3}{10},\\,-\\frac{1}{5}\\right), \\left(0,\\,1,\\,0,\\,-\\frac{1}{5},\\,\\frac{1}{5}\\right), \\left(0,\\,0,\\,1,\\,\\frac{3}{10},\\,\\frac{1}{5}\\right)\\right]</script></html>"
      ],
      "text/plain": [
       "[\n",
       "(1, 0, 0, -3/10, -1/5),\n",
       "(0, 1, 0, -1/5, 1/5),\n",
       "(0, 0, 1, 3/10, 1/5)\n",
       "]"
      ]
     },
     "metadata": {},
     "output_type": "display_data"
    },
    {
     "data": {
      "text/html": [
       "<html><script type=\"math/tex; mode=display\">\\newcommand{\\Bold}[1]{\\mathbf{#1}}3</script></html>"
      ],
      "text/plain": [
       "3"
      ]
     },
     "metadata": {},
     "output_type": "display_data"
    },
    {
     "data": {
      "text/html": [
       "<html><script type=\"math/tex; mode=display\">\\newcommand{\\Bold}[1]{\\mathbf{#1}}\\left[\\left(1,\\,0,\\,0,\\,-\\frac{7}{25},\\,\\frac{2}{25}\\right), \\left(0,\\,1,\\,0,\\,-\\frac{6}{25},\\,-\\frac{9}{25}\\right), \\left(0,\\,0,\\,1,\\,\\frac{6}{25},\\,-\\frac{16}{25}\\right)\\right]</script></html>"
      ],
      "text/plain": [
       "[\n",
       "(1, 0, 0, -7/25, 2/25),\n",
       "(0, 1, 0, -6/25, -9/25),\n",
       "(0, 0, 1, 6/25, -16/25)\n",
       "]"
      ]
     },
     "metadata": {},
     "output_type": "display_data"
    },
    {
     "data": {
      "text/html": [
       "<html><script type=\"math/tex; mode=display\">\\newcommand{\\Bold}[1]{\\mathbf{#1}}3</script></html>"
      ],
      "text/plain": [
       "3"
      ]
     },
     "metadata": {},
     "output_type": "display_data"
    }
   ],
   "source": [
    "show(E.basis())\n",
    "show(E.dimension())\n",
    "show(F.basis())\n",
    "show(F.dimension())"
   ]
  },
  {
   "cell_type": "code",
   "execution_count": 11,
   "metadata": {},
   "outputs": [
    {
     "data": {
      "text/html": [
       "<html><script type=\"math/tex; mode=display\">\\newcommand{\\Bold}[1]{\\mathbf{#1}}\\mathrm{RowSpan}_{\\Bold{Q}}\\left(\\begin{array}{rrrrr}\n",
       "1 & 0 & \\frac{1}{3} & -\\frac{1}{5} & -\\frac{2}{15} \\\\\n",
       "0 & 1 & -\\frac{2}{3} & -\\frac{2}{5} & \\frac{1}{15}\n",
       "\\end{array}\\right)</script></html>"
      ],
      "text/plain": [
       "Vector space of degree 5 and dimension 2 over Rational Field\n",
       "Basis matrix:\n",
       "[    1     0   1/3  -1/5 -2/15]\n",
       "[    0     1  -2/3  -2/5  1/15]"
      ]
     },
     "metadata": {},
     "output_type": "display_data"
    }
   ],
   "source": [
    "G=E.intersection(F)\n",
    "show(G)"
   ]
  },
  {
   "cell_type": "code",
   "execution_count": 12,
   "metadata": {},
   "outputs": [
    {
     "data": {
      "text/html": [
       "<html><script type=\"math/tex; mode=display\">\\newcommand{\\Bold}[1]{\\mathbf{#1}}\\mathrm{RowSpan}_{\\Bold{Q}}\\left(\\begin{array}{rrrrr}\n",
       "1 & 0 & 0 & 0 & 4 \\\\\n",
       "0 & 1 & 0 & 0 & 3 \\\\\n",
       "0 & 0 & 1 & 0 & -4 \\\\\n",
       "0 & 0 & 0 & 1 & 14\n",
       "\\end{array}\\right)</script></html>"
      ],
      "text/plain": [
       "Vector space of degree 5 and dimension 4 over Rational Field\n",
       "Basis matrix:\n",
       "[ 1  0  0  0  4]\n",
       "[ 0  1  0  0  3]\n",
       "[ 0  0  1  0 -4]\n",
       "[ 0  0  0  1 14]"
      ]
     },
     "metadata": {},
     "output_type": "display_data"
    }
   ],
   "source": [
    "S=E+F\n",
    "show(S)"
   ]
  },
  {
   "cell_type": "code",
   "execution_count": 13,
   "metadata": {},
   "outputs": [
    {
     "data": {
      "text/html": [
       "<html><script type=\"math/tex; mode=display\">\\newcommand{\\Bold}[1]{\\mathbf{#1}}\\left[\\left(1,\\,0,\\,\\frac{1}{3},\\,-\\frac{1}{5},\\,-\\frac{2}{15}\\right), \\left(0,\\,1,\\,-\\frac{2}{3},\\,-\\frac{2}{5},\\,\\frac{1}{15}\\right)\\right]</script></html>"
      ],
      "text/plain": [
       "[\n",
       "(1, 0, 1/3, -1/5, -2/15),\n",
       "(0, 1, -2/3, -2/5, 1/15)\n",
       "]"
      ]
     },
     "metadata": {},
     "output_type": "display_data"
    }
   ],
   "source": [
    "show(G.basis())"
   ]
  },
  {
   "cell_type": "code",
   "execution_count": 14,
   "metadata": {},
   "outputs": [
    {
     "data": {
      "text/html": [
       "<html><script type=\"math/tex; mode=display\">\\newcommand{\\Bold}[1]{\\mathbf{#1}}\\left[\\left(1,\\,0,\\,0,\\,0,\\,4\\right), \\left(0,\\,1,\\,0,\\,0,\\,3\\right), \\left(0,\\,0,\\,1,\\,0,\\,-4\\right), \\left(0,\\,0,\\,0,\\,1,\\,14\\right)\\right]</script></html>"
      ],
      "text/plain": [
       "[\n",
       "(1, 0, 0, 0, 4),\n",
       "(0, 1, 0, 0, 3),\n",
       "(0, 0, 1, 0, -4),\n",
       "(0, 0, 0, 1, 14)\n",
       "]"
      ]
     },
     "metadata": {},
     "output_type": "display_data"
    }
   ],
   "source": [
    "show(S.basis())"
   ]
  },
  {
   "cell_type": "code",
   "execution_count": 15,
   "metadata": {},
   "outputs": [
    {
     "data": {
      "text/plain": [
       "True"
      ]
     },
     "execution_count": 15,
     "metadata": {},
     "output_type": "execute_result"
    }
   ],
   "source": [
    "S.dimension()==E.dimension()+F.dimension()-G.dimension()"
   ]
  },
  {
   "cell_type": "code",
   "execution_count": null,
   "metadata": {},
   "outputs": [],
   "source": []
  },
  {
   "cell_type": "markdown",
   "metadata": {},
   "source": [
    "$\\rule{15cm}{3pt}$"
   ]
  },
  {
   "cell_type": "markdown",
   "metadata": {},
   "source": [
    "# Canvis de coordenades."
   ]
  },
  {
   "cell_type": "markdown",
   "metadata": {},
   "source": [
    "Quan en un mateix espai vectorial es consideren bases diferents, es poden _assignar coordenades_ a cada vector de l'espai, que depenen de la base que es prengui com a referència. La transformació que relaciona les coordenades d'un cert vector respecte dues bases diferents de l'espai on s'està treballant queda determinada per la matriu construida amb les coordenades dels vectors d'una de les bases en funció de l'altra. Determinar les coordenades d'un vector respecte una base donada i calcular aquestes matrius de _canvi de base_ són problemes que es poden resoldre, de forma més o menys immediata, utilitzant les intruccions de <font color=blue>**SageMath**</font> adequades. La instrucció clau en aquests problemes és <font color=blue>subspace_with_basis( )</font>. Aquesta funció permet definir un subespai vectorial explicitant una base concreta amb la que es vol treballar i, a més, es pot combinar amb la funció <font color=blue>coordinates( )</font> que calcula les coordenades d'un vector respecte la base que tingui assignada l'espai vectorial donat."
   ]
  },
  {
   "cell_type": "markdown",
   "metadata": {},
   "source": [
    "**Exemple:** Considerem l'espai $E$ generat pels vectors independents (base) $\\vec{v}_1=(1,-1,1)$, $\\vec{v}_2=(2,3,-1)$."
   ]
  },
  {
   "cell_type": "markdown",
   "metadata": {},
   "source": [
    "**Comprovem en primer lloc que el vector $\\vec{v}=(4,1,1)$ és un vector de $E$**"
   ]
  },
  {
   "cell_type": "code",
   "execution_count": 16,
   "metadata": {},
   "outputs": [
    {
     "data": {
      "text/html": [
       "<html><script type=\"math/tex; mode=display\">\\newcommand{\\Bold}[1]{\\mathbf{#1}}\\mathrm{RowSpan}_{\\Bold{Q}}\\left(\\begin{array}{rrr}\n",
       "1 & 0 & \\frac{2}{5} \\\\\n",
       "0 & 1 & -\\frac{3}{5}\n",
       "\\end{array}\\right)</script></html>"
      ],
      "text/plain": [
       "Vector space of degree 3 and dimension 2 over Rational Field\n",
       "Basis matrix:\n",
       "[   1    0  2/5]\n",
       "[   0    1 -3/5]"
      ]
     },
     "metadata": {},
     "output_type": "display_data"
    },
    {
     "data": {
      "text/html": [
       "<html><script type=\"math/tex; mode=display\">\\newcommand{\\Bold}[1]{\\mathbf{#1}}\\mathrm{RowSpan}_{\\Bold{Q}}\\left(\\begin{array}{rrr}\n",
       "1 & -1 & 1 \\\\\n",
       "2 & 3 & -1\n",
       "\\end{array}\\right)</script></html>"
      ],
      "text/plain": [
       "Vector space of degree 3 and dimension 2 over Rational Field\n",
       "User basis matrix:\n",
       "[ 1 -1  1]\n",
       "[ 2  3 -1]"
      ]
     },
     "metadata": {},
     "output_type": "display_data"
    },
    {
     "data": {
      "text/html": [
       "<html><script type=\"math/tex; mode=display\">\\newcommand{\\Bold}[1]{\\mathbf{#1}}\\verb|Son|\\phantom{\\verb!x!}\\verb|iguals?|</script></html>"
      ],
      "text/plain": [
       "'Son iguals?'"
      ]
     },
     "metadata": {},
     "output_type": "display_data"
    },
    {
     "data": {
      "text/html": [
       "<html><script type=\"math/tex; mode=display\">\\newcommand{\\Bold}[1]{\\mathbf{#1}}\\mathrm{True}</script></html>"
      ],
      "text/plain": [
       "True"
      ]
     },
     "metadata": {},
     "output_type": "display_data"
    }
   ],
   "source": [
    "v1=vector(QQ,[1,-1,1])\n",
    "v2=vector(QQ,[2,3,-1])\n",
    "E=span(QQ,[v1,v2])\n",
    "Ev=(QQ^3).subspace_with_basis([v1,v2])\n",
    "show(E)\n",
    "show(Ev)\n",
    "show(\"Son iguals?\")\n",
    "show(E==Ev)"
   ]
  },
  {
   "cell_type": "code",
   "execution_count": 17,
   "metadata": {},
   "outputs": [
    {
     "data": {
      "text/html": [
       "<html><script type=\"math/tex; mode=display\">\\newcommand{\\Bold}[1]{\\mathbf{#1}}\\left(4,\\,1,\\,1\\right)</script></html>"
      ],
      "text/plain": [
       "(4, 1, 1)"
      ]
     },
     "metadata": {},
     "output_type": "display_data"
    }
   ],
   "source": [
    "v=vector(QQ,[4,1,1])\n",
    "show(v)"
   ]
  },
  {
   "cell_type": "code",
   "execution_count": 18,
   "metadata": {},
   "outputs": [
    {
     "data": {
      "text/plain": [
       "True"
      ]
     },
     "execution_count": 18,
     "metadata": {},
     "output_type": "execute_result"
    }
   ],
   "source": [
    "# Es pot comprovar que v\n",
    "# es de E\n",
    "v in E"
   ]
  },
  {
   "cell_type": "code",
   "execution_count": 19,
   "metadata": {},
   "outputs": [
    {
     "data": {
      "text/plain": [
       "True"
      ]
     },
     "execution_count": 19,
     "metadata": {},
     "output_type": "execute_result"
    }
   ],
   "source": [
    "# O fer-ho en la versió\n",
    "# Ev que genera el mateix espai\n",
    "v in Ev"
   ]
  },
  {
   "cell_type": "markdown",
   "metadata": {},
   "source": [
    "**Ara es poden calcular tant les coordenades de $\\vec{v}$ respecte la base $\\vec{v}_1$, $\\vec{v}_2$ (Ev) com les que corresponen a la _base reduida_ que surt en definir l'espai amb un <font color=blue>span( )</font> (E).** "
   ]
  },
  {
   "cell_type": "code",
   "execution_count": 20,
   "metadata": {},
   "outputs": [
    {
     "data": {
      "text/plain": [
       "[2, 1]"
      ]
     },
     "execution_count": 20,
     "metadata": {},
     "output_type": "execute_result"
    }
   ],
   "source": [
    "Ev.coordinates(v)"
   ]
  },
  {
   "cell_type": "code",
   "execution_count": 21,
   "metadata": {},
   "outputs": [
    {
     "data": {
      "text/plain": [
       "((4, 1, 1), (4, 1, 1))"
      ]
     },
     "execution_count": 21,
     "metadata": {},
     "output_type": "execute_result"
    }
   ],
   "source": [
    "2*v1+v2,v"
   ]
  },
  {
   "cell_type": "code",
   "execution_count": 22,
   "metadata": {},
   "outputs": [
    {
     "data": {
      "text/plain": [
       "[4, 1]"
      ]
     },
     "execution_count": 22,
     "metadata": {},
     "output_type": "execute_result"
    }
   ],
   "source": [
    "E.coordinates(v)"
   ]
  },
  {
   "cell_type": "code",
   "execution_count": 23,
   "metadata": {},
   "outputs": [
    {
     "data": {
      "text/plain": [
       "(1, 0, 2/5)"
      ]
     },
     "execution_count": 23,
     "metadata": {},
     "output_type": "execute_result"
    }
   ],
   "source": [
    "E.0"
   ]
  },
  {
   "cell_type": "code",
   "execution_count": 24,
   "metadata": {},
   "outputs": [
    {
     "data": {
      "text/plain": [
       "(0, 1, -3/5)"
      ]
     },
     "execution_count": 24,
     "metadata": {},
     "output_type": "execute_result"
    }
   ],
   "source": [
    "E.1"
   ]
  },
  {
   "cell_type": "code",
   "execution_count": 25,
   "metadata": {},
   "outputs": [
    {
     "data": {
      "text/plain": [
       "((4, 1, 1), (4, 1, 1))"
      ]
     },
     "execution_count": 25,
     "metadata": {},
     "output_type": "execute_result"
    }
   ],
   "source": [
    "4*E.0+E.1,v"
   ]
  },
  {
   "cell_type": "code",
   "execution_count": null,
   "metadata": {},
   "outputs": [],
   "source": []
  },
  {
   "cell_type": "markdown",
   "metadata": {},
   "source": [
    "$\\rule{15cm}{3pt}$"
   ]
  },
  {
   "cell_type": "markdown",
   "metadata": {},
   "source": [
    "# <font color=green> Exercicis </font>"
   ]
  },
  {
   "cell_type": "markdown",
   "metadata": {},
   "source": [
    "$\\rule{15cm}{3pt}$"
   ]
  },
  {
   "cell_type": "markdown",
   "metadata": {},
   "source": [
    "<font color=green>\n",
    "    <ul>\n",
    "        <li>Comproveu en primer lloc que els vectors $\\vec{v}_1=(1,2,1)$, $\\vec{v}_2=(2,1,2)$ i $\\vec{w}_1=(1,-1,1)$, $\\vec{w}_2=(3,1,3)$ generen (i són bases) del mateix espai vectorial $E$.</li>\n",
    "        <li>Calculeu les coordenades de $\\vec{v}_1$ i $\\vec{v}_2$ respecte la base $\\vec{w}_1$, $\\vec{w}_2$</li>\n",
    "        <li>Tenint en compte que els coeficients que acabeu de calcular són les _columnes_ de la matriu de canvi de coordenades, determineu la matriu $M$ que permet obtenir les coordenades d'un vector qualsevol de $E$ respecte la base $\\vec{w}_1$, $\\vec{w}_2$ en funció de les seves coordenades respecte la base $\\vec{v}_1$, $\\vec{v}_2$.</li>\n",
    "        <li>Comproveu que els càlculs estan ben fets obtenint les coordenades del vector de $E$ donat per $\\vec{x}=-3\\, \\vec{v}_1+2\\, \\vec{v}_2$ respecte la base $\\vec{w}_1$, $\\vec{w}_2$ fent la multiplicació de matrius adequada i comparant el resultat amb el que apareix si ho feu directament.</li>\n",
    "    </ul>\n",
    "</font>"
   ]
  },
  {
   "cell_type": "code",
   "execution_count": 26,
   "metadata": {},
   "outputs": [],
   "source": [
    "v1=vector(QQ,[1,2,1])\n",
    "v2=vector(QQ,[2,1,2])\n",
    "w1=vector(QQ,[1,-1,1])\n",
    "w2=vector(QQ,[3,1,3])"
   ]
  },
  {
   "cell_type": "code",
   "execution_count": 27,
   "metadata": {},
   "outputs": [
    {
     "data": {
      "text/plain": [
       "True"
      ]
     },
     "execution_count": 27,
     "metadata": {},
     "output_type": "execute_result"
    }
   ],
   "source": [
    "Ev=(QQ^3).subspace_with_basis([v1,v2])\n",
    "Ew=(QQ^3).subspace_with_basis([w1,w2])\n",
    "Ev==Ew"
   ]
  },
  {
   "cell_type": "code",
   "execution_count": 28,
   "metadata": {},
   "outputs": [
    {
     "data": {
      "text/html": [
       "<html><script type=\"math/tex; mode=display\">\\newcommand{\\Bold}[1]{\\mathbf{#1}}\\left[-\\frac{5}{4}, \\frac{3}{4}\\right]</script></html>"
      ],
      "text/plain": [
       "[-5/4, 3/4]"
      ]
     },
     "metadata": {},
     "output_type": "display_data"
    },
    {
     "data": {
      "text/html": [
       "<html><script type=\"math/tex; mode=display\">\\newcommand{\\Bold}[1]{\\mathbf{#1}}\\left[-\\frac{1}{4}, \\frac{3}{4}\\right]</script></html>"
      ],
      "text/plain": [
       "[-1/4, 3/4]"
      ]
     },
     "metadata": {},
     "output_type": "display_data"
    }
   ],
   "source": [
    "c1=Ew.coordinates(v1)\n",
    "show(c1)\n",
    "c2=Ew.coordinates(v2)\n",
    "show(c2)"
   ]
  },
  {
   "cell_type": "code",
   "execution_count": 31,
   "metadata": {},
   "outputs": [
    {
     "data": {
      "text/html": [
       "<html><script type=\"math/tex; mode=display\">\\newcommand{\\Bold}[1]{\\mathbf{#1}}\\left(\\begin{array}{rr}\n",
       "-\\frac{5}{4} & -\\frac{1}{4} \\\\\n",
       "\\frac{3}{4} & \\frac{3}{4}\n",
       "\\end{array}\\right)</script></html>"
      ],
      "text/plain": [
       "[-5/4 -1/4]\n",
       "[ 3/4  3/4]"
      ]
     },
     "metadata": {},
     "output_type": "display_data"
    }
   ],
   "source": [
    "M=matrix([c1,c2]).transpose()\n",
    "show(M)"
   ]
  },
  {
   "cell_type": "code",
   "execution_count": 32,
   "metadata": {},
   "outputs": [
    {
     "data": {
      "text/html": [
       "<html><script type=\"math/tex; mode=display\">\\newcommand{\\Bold}[1]{\\mathbf{#1}}\\left(\\frac{13}{4},\\,-\\frac{3}{4}\\right)</script></html>"
      ],
      "text/plain": [
       "(13/4, -3/4)"
      ]
     },
     "metadata": {},
     "output_type": "display_data"
    }
   ],
   "source": [
    "cx_w=M*vector([-3,2])\n",
    "show(cx_w)"
   ]
  },
  {
   "cell_type": "code",
   "execution_count": 35,
   "metadata": {},
   "outputs": [
    {
     "data": {
      "text/plain": [
       "[13/4, -3/4]"
      ]
     },
     "execution_count": 35,
     "metadata": {},
     "output_type": "execute_result"
    }
   ],
   "source": [
    "Ew.coordinates(-3*v1+2*v2)"
   ]
  },
  {
   "cell_type": "code",
   "execution_count": 33,
   "metadata": {},
   "outputs": [
    {
     "data": {
      "text/plain": [
       "(1, -4, 1)"
      ]
     },
     "execution_count": 33,
     "metadata": {},
     "output_type": "execute_result"
    }
   ],
   "source": [
    "cx_w[0]*w1+cx_w[1]*w2"
   ]
  },
  {
   "cell_type": "code",
   "execution_count": 34,
   "metadata": {},
   "outputs": [
    {
     "data": {
      "text/plain": [
       "(1, -4, 1)"
      ]
     },
     "execution_count": 34,
     "metadata": {},
     "output_type": "execute_result"
    }
   ],
   "source": [
    "-3*v1+2*v2"
   ]
  },
  {
   "cell_type": "code",
   "execution_count": null,
   "metadata": {},
   "outputs": [],
   "source": []
  },
  {
   "cell_type": "markdown",
   "metadata": {},
   "source": [
    "$\\rule{15cm}{3pt}$"
   ]
  },
  {
   "cell_type": "markdown",
   "metadata": {},
   "source": [
    "<font color=green>\n",
    "    <ul>\n",
    "        <li>Comproveu que els vectors\n",
    "            $$\n",
    "            \\begin{aligned}\n",
    "            \\vec{v}_1 &=\\left(0,\\,4,\\,1,\\,1\\right),\\\\\n",
    "            \\vec{v}_2 &=\\left(-1,\\,-2,\\,-4,\\,2\\right),\\\\\n",
    "            \\vec{v}_3 &=\\left(0,\\,4,\\,1,\\,2\\right),\\\\\n",
    "            \\vec{v}_4 &=\\left(1,\\,-1,\\,3,\\,-2\\right)\n",
    "            \\end{aligned}\n",
    "            $$\n",
    "  Determinen una base (de l'espai total de dimensió 4).\n",
    "         </li>\n",
    "         <li>Calculeu la matriu de canvi de base $M$ que permet obtenir les coordenades d'un vector qualsevol respecte aquesta base a partir de les seves components en la base canònica.</li>\n",
    "         <li>Calculeu les coordenades del vector que s'expressa canònicament com $\\vec{x}=(5,-1,2,1)$ respecte la base $\\vec{v}_1$, $\\vec{v}_2$, $\\vec{v}_3$, $\\vec{v}_4$.</li>\n",
    "    </ul>\n",
    "</font>"
   ]
  },
  {
   "cell_type": "code",
   "execution_count": 36,
   "metadata": {},
   "outputs": [
    {
     "data": {
      "text/html": [
       "<html><script type=\"math/tex; mode=display\">\\newcommand{\\Bold}[1]{\\mathbf{#1}}\\left(\\begin{array}{rrrr}\n",
       "0 & -1 & 0 & 1 \\\\\n",
       "4 & -2 & 4 & -1 \\\\\n",
       "1 & -4 & 1 & 3 \\\\\n",
       "1 & 2 & 2 & -2\n",
       "\\end{array}\\right)</script></html>"
      ],
      "text/plain": [
       "[ 0 -1  0  1]\n",
       "[ 4 -2  4 -1]\n",
       "[ 1 -4  1  3]\n",
       "[ 1  2  2 -2]"
      ]
     },
     "metadata": {},
     "output_type": "display_data"
    }
   ],
   "source": [
    "v1=vector(QQ,[0,4,1,1])\n",
    "v2=vector(QQ,[-1,-2,-4,2])\n",
    "v3=vector(QQ,[0,4,1,2])\n",
    "v4=vector(QQ,[1,-1,3,-2])\n",
    "M=matrix([v1,v2,v3,v4]).transpose()\n",
    "show(M)"
   ]
  },
  {
   "cell_type": "code",
   "execution_count": 37,
   "metadata": {},
   "outputs": [
    {
     "data": {
      "text/plain": [
       "4"
      ]
     },
     "execution_count": 37,
     "metadata": {},
     "output_type": "execute_result"
    }
   ],
   "source": [
    "rank(M)"
   ]
  },
  {
   "cell_type": "code",
   "execution_count": 38,
   "metadata": {},
   "outputs": [
    {
     "data": {
      "text/html": [
       "<html><script type=\"math/tex; mode=display\">\\newcommand{\\Bold}[1]{\\mathbf{#1}}\\left(\\begin{array}{rrrr}\n",
       "18 & 2 & -6 & -1 \\\\\n",
       "13 & 1 & -4 & 0 \\\\\n",
       "-8 & -1 & 3 & 1 \\\\\n",
       "14 & 1 & -4 & 0\n",
       "\\end{array}\\right)</script></html>"
      ],
      "text/plain": [
       "[18  2 -6 -1]\n",
       "[13  1 -4  0]\n",
       "[-8 -1  3  1]\n",
       "[14  1 -4  0]"
      ]
     },
     "metadata": {},
     "output_type": "display_data"
    }
   ],
   "source": [
    "CB=M^(-1)\n",
    "show(CB)"
   ]
  },
  {
   "cell_type": "code",
   "execution_count": 40,
   "metadata": {},
   "outputs": [
    {
     "data": {
      "text/html": [
       "<html><script type=\"math/tex; mode=display\">\\newcommand{\\Bold}[1]{\\mathbf{#1}}\\left(75,\\,56,\\,-32,\\,61\\right)</script></html>"
      ],
      "text/plain": [
       "(75, 56, -32, 61)"
      ]
     },
     "metadata": {},
     "output_type": "display_data"
    }
   ],
   "source": [
    "x=vector([5,-1,2,1])\n",
    "cx=CB*x\n",
    "show(cx)"
   ]
  },
  {
   "cell_type": "code",
   "execution_count": 41,
   "metadata": {},
   "outputs": [
    {
     "data": {
      "text/plain": [
       "(5, -1, 2, 1)"
      ]
     },
     "execution_count": 41,
     "metadata": {},
     "output_type": "execute_result"
    }
   ],
   "source": [
    "cx[0]*v1+cx[1]*v2+cx[2]*v3+cx[3]*v4"
   ]
  },
  {
   "cell_type": "code",
   "execution_count": null,
   "metadata": {},
   "outputs": [],
   "source": []
  },
  {
   "cell_type": "markdown",
   "metadata": {},
   "source": [
    "$\\rule{15cm}{3pt}$"
   ]
  },
  {
   "cell_type": "markdown",
   "metadata": {},
   "source": [
    "<font color=green>\n",
    "Considereu l'aplicació lineal que, respecte les bases canòniques dels espais, ve determinada per la matriu\n",
    "$$\n",
    "A=\\begin{pmatrix}\n",
    "4 & 2 & 2 & -2 \\\\\n",
    "-1 & 2 & 0 & -1 \\\\\n",
    "-2 & -1 & 4 & 4\n",
    "\\end{pmatrix}\n",
    "$$\n",
    "Si a l'espai de sortida es considera la base determinada pels vectors\n",
    "    $$\n",
    "            \\begin{aligned}\n",
    "            \\vec{v}_1 &=\\left(-2,\\,1,\\,-1,\\,-2\\right),\\\\\n",
    "            \\vec{v}_2 &=\\left(-1,\\,0,\\,-1,\\,-1\\right),\\\\\n",
    "            \\vec{v}_3 &=\\left(0,\\,-2,\\,-1,\\,2\\right),\\\\\n",
    "            \\vec{v}_4 &=\\left(-1,\\,1,\\,-1,\\,-2\\right)\n",
    "            \\end{aligned}\n",
    "    $$\n",
    "i en el d'arribada la que donen    \n",
    "    $$\n",
    "    \\begin{aligned}\n",
    "            \\vec{w}_1 &=\\left(-2,\\,1,\\,-2\\right),\\\\\n",
    "            \\vec{w}_2 &=\\left(0,\\,1,\\,-3\\right),\\\\\n",
    "            \\vec{w}_3 &=\\left(3,\\,-2,\\,4\\right)\n",
    "    \\end{aligned}\n",
    "    $$\n",
    "quina és la matriu de l'aplicació lineal respecte aquestes bases?\n",
    "</font>    "
   ]
  },
  {
   "cell_type": "code",
   "execution_count": 1,
   "metadata": {},
   "outputs": [
    {
     "data": {
      "text/html": [
       "<html><script type=\"math/tex; mode=display\">\\newcommand{\\Bold}[1]{\\mathbf{#1}}\\left(\\begin{array}{rrrr}\n",
       "4 & 2 & 2 & -2 \\\\\n",
       "-1 & 2 & 0 & -1 \\\\\n",
       "-2 & -1 & 4 & 4\n",
       "\\end{array}\\right)</script></html>"
      ],
      "text/plain": [
       "[ 4  2  2 -2]\n",
       "[-1  2  0 -1]\n",
       "[-2 -1  4  4]"
      ]
     },
     "metadata": {},
     "output_type": "display_data"
    }
   ],
   "source": [
    "A=matrix(3,4,[\n",
    "    4,2,2,-2,\n",
    "    -1,2,0,-1,\n",
    "    -2,-1,4,4\n",
    "])\n",
    "show(A)"
   ]
  },
  {
   "cell_type": "code",
   "execution_count": 2,
   "metadata": {},
   "outputs": [
    {
     "data": {
      "text/html": [
       "<html><script type=\"math/tex; mode=display\">\\newcommand{\\Bold}[1]{\\mathbf{#1}}\\left(\\begin{array}{rrrr}\n",
       "-2 & -1 & 0 & -1 \\\\\n",
       "1 & 0 & -2 & 1 \\\\\n",
       "-1 & -1 & -1 & -1 \\\\\n",
       "-2 & -1 & 2 & -2\n",
       "\\end{array}\\right)</script></html>"
      ],
      "text/plain": [
       "[-2 -1  0 -1]\n",
       "[ 1  0 -2  1]\n",
       "[-1 -1 -1 -1]\n",
       "[-2 -1  2 -2]"
      ]
     },
     "metadata": {},
     "output_type": "display_data"
    },
    {
     "data": {
      "text/html": [
       "<html><script type=\"math/tex; mode=display\">\\newcommand{\\Bold}[1]{\\mathbf{#1}}\\left(\\begin{array}{rrr}\n",
       "-2 & 0 & 3 \\\\\n",
       "1 & 1 & -2 \\\\\n",
       "-2 & -3 & 4\n",
       "\\end{array}\\right)</script></html>"
      ],
      "text/plain": [
       "[-2  0  3]\n",
       "[ 1  1 -2]\n",
       "[-2 -3  4]"
      ]
     },
     "metadata": {},
     "output_type": "display_data"
    }
   ],
   "source": [
    "V=matrix(4,4,[\n",
    "    -2,1,-1,-2,\n",
    "    -1,0,-1,-1,\n",
    "    0,-2,-1,2,\n",
    "    -1,1,-1,-2\n",
    "]).transpose()\n",
    "show(V)\n",
    "W=matrix(3,3,[\n",
    "    -2,1,-2,\n",
    "    0,1,-3,\n",
    "    3,-2,4\n",
    "]).transpose()\n",
    "show(W)"
   ]
  },
  {
   "cell_type": "code",
   "execution_count": 3,
   "metadata": {},
   "outputs": [
    {
     "data": {
      "text/html": [
       "<html><script type=\"math/tex; mode=display\">\\newcommand{\\Bold}[1]{\\mathbf{#1}}\\left(\\begin{array}{rrrr}\n",
       "-19 & 8 & 56 & -12 \\\\\n",
       "-3 & 2 & 6 & 1 \\\\\n",
       "-14 & 4 & 34 & -8\n",
       "\\end{array}\\right)</script></html>"
      ],
      "text/plain": [
       "[-19   8  56 -12]\n",
       "[ -3   2   6   1]\n",
       "[-14   4  34  -8]"
      ]
     },
     "metadata": {},
     "output_type": "display_data"
    }
   ],
   "source": [
    "show(W.inverse()*A*V)"
   ]
  },
  {
   "cell_type": "code",
   "execution_count": null,
   "metadata": {},
   "outputs": [],
   "source": []
  }
 ],
 "metadata": {
  "kernelspec": {
   "display_name": "SageMath 9.3",
   "language": "sage",
   "name": "sagemath"
  },
  "language_info": {
   "codemirror_mode": {
    "name": "ipython",
    "version": 3
   },
   "file_extension": ".py",
   "mimetype": "text/x-python",
   "name": "python",
   "nbconvert_exporter": "python",
   "pygments_lexer": "ipython3",
   "version": "3.7.10"
  }
 },
 "nbformat": 4,
 "nbformat_minor": 2
}
