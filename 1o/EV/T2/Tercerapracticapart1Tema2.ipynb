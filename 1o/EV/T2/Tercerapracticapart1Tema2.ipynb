{
 "cells": [
  {
   "cell_type": "markdown",
   "metadata": {},
   "source": [
    "# Espais Vectorials i bases "
   ]
  },
  {
   "cell_type": "markdown",
   "metadata": {},
   "source": [
    "# <font color=blue>Consideracions inicials</font>\n",
    "Per tal de treballar amb _vectors_ amb **<font color=blue>SAGEMATH</font>** cal introduir els objectes amb la instrucció <font color=blue>vector( )</font> així el programa pot reaccionar _correctament_ a les manipulacions que es vulguin fer amb aquest tipus d'objectes. Si proveu les intruccions que apreixen a continuació veureu com **<font color=blue>SAGEMATH</font>** sap que s'està treballant amb vectors d'un espai vectorial i realitza correctament les operacions bàsiques."
   ]
  },
  {
   "cell_type": "code",
   "execution_count": 0,
   "metadata": {},
   "outputs": [],
   "source": [
    "v=vector(QQ,[1,0,2,-1,2]) # és convenient especificar que cal entendre \n",
    "w=vector(QQ,[0,-1,1,2,1]) # tots els coeficients com a racionals\n",
    "                          # altrament poden aparèixer resultats inesperats\n",
    "show(v)\n",
    "show(w)\n",
    "print v ,\"és un element de:\", v.parent()\n",
    "show(v.parent())"
   ]
  },
  {
   "cell_type": "code",
   "execution_count": 0,
   "metadata": {},
   "outputs": [],
   "source": [
    "v+w"
   ]
  },
  {
   "cell_type": "code",
   "execution_count": 0,
   "metadata": {},
   "outputs": [],
   "source": [
    "2*v"
   ]
  },
  {
   "cell_type": "code",
   "execution_count": 0,
   "metadata": {},
   "outputs": [],
   "source": [
    "-w"
   ]
  },
  {
   "cell_type": "code",
   "execution_count": 0,
   "metadata": {},
   "outputs": [],
   "source": [
    "2*v-3*w"
   ]
  },
  {
   "cell_type": "markdown",
   "metadata": {},
   "source": [
    "<font color=red>**Nota important:**</font> Observeu que els vectors es representen com a **_files_**. Això no és cap inconvenient ni necessita manipulacions especials quan es volen fer multiplicacions per matrius ja que el programa tindrà en compte com cal interpretar cada objecte segons quina operació es plantegi (si és que té sentit).\n",
    "\n",
    "Observeu també que es poden construir matrius posant vectors en una llista. "
   ]
  },
  {
   "cell_type": "code",
   "execution_count": 0,
   "metadata": {},
   "outputs": [],
   "source": [
    "A=matrix(QQ,[v,w]).transpose()\n",
    "show(A)\n",
    "var('a b')\n",
    "e=vector([a,b])\n",
    "show(e)\n",
    "show(A*e)\n",
    "B=matrix(QQ,2,3,[1,2,3,3,2,1])\n",
    "show(B)\n",
    "show(e*B)"
   ]
  },
  {
   "cell_type": "code",
   "execution_count": 0,
   "metadata": {},
   "outputs": [],
   "source": [
    "# B*e  aquesta operació no té sentit. v només té 2 coeficients i en calen 3"
   ]
  },
  {
   "cell_type": "markdown",
   "metadata": {},
   "source": [
    "**Base d'un espai generat per una llista de vectors**\n",
    "\n",
    "Si volem trobar una base del espai generat per una llista de vectors, podem posar-los en una matriu, trobar la forma esglaonada reduïda i considerar les files no nul·les. La base obtinguda s'anomena la base de Gauss-Jordan (o també base canònica)."
   ]
  },
  {
   "cell_type": "code",
   "execution_count": 0,
   "metadata": {},
   "outputs": [],
   "source": [
    "A=matrix(QQ,[[1,2,1],[2,0,1],[-1,2,0],[3,2,2]])"
   ]
  },
  {
   "cell_type": "code",
   "execution_count": 0,
   "metadata": {},
   "outputs": [],
   "source": [
    "R=A.rref()\n",
    "show(R)"
   ]
  },
  {
   "cell_type": "code",
   "execution_count": 0,
   "metadata": {},
   "outputs": [],
   "source": [
    "show([R[i] for i in [0..1]])"
   ]
  },
  {
   "cell_type": "markdown",
   "metadata": {},
   "source": [
    "**Espai generat per una família de vectors:**\n",
    "\n",
    "Si es vol treballar amb l'espai vectorial generat per uns quants vectors, la instrucció que construeix el subespai vectorial corresponent és <font color=blue>span( )</font>. Un cop definit un espai vectorial d'aquesta manera es pot comprovar directament si un vector en forma pert o no."
   ]
  },
  {
   "cell_type": "code",
   "execution_count": 0,
   "metadata": {},
   "outputs": [],
   "source": [
    "V=span(QQ,[[1,2,1],[2,0,1],[-1,2,0],[3,2,2]])"
   ]
  },
  {
   "cell_type": "code",
   "execution_count": 0,
   "metadata": {},
   "outputs": [],
   "source": [
    "show(V) # En el moment de definir V ja es calcula la base anterior. "
   ]
  },
  {
   "cell_type": "code",
   "execution_count": 0,
   "metadata": {},
   "outputs": [],
   "source": [
    "v=vector([1,2,3])\n",
    "show(v)"
   ]
  },
  {
   "cell_type": "code",
   "execution_count": 0,
   "metadata": {},
   "outputs": [],
   "source": [
    "v in V"
   ]
  },
  {
   "cell_type": "code",
   "execution_count": 0,
   "metadata": {},
   "outputs": [],
   "source": [
    "w=vector([20,-4,9])"
   ]
  },
  {
   "cell_type": "code",
   "execution_count": 0,
   "metadata": {},
   "outputs": [],
   "source": [
    "w in V"
   ]
  },
  {
   "cell_type": "markdown",
   "metadata": {},
   "source": [
    "**Solucions d'un sistema d'equacions homogeni:**\n",
    "\n",
    "Alternativament, també es pot determinar un (sub)espai vectorial com la solució d'un cert sistema d'equacions lineals.\n",
    "Utilitzant la matriu del sistema podem obtenir fàcilment, com objecte de tipus _espai vectorial_, l'espai vectorial corresponent. A continuació hi ha un exemple simple."
   ]
  },
  {
   "cell_type": "code",
   "execution_count": 0,
   "metadata": {},
   "outputs": [],
   "source": [
    "var('y z t')\n",
    "equacions=[\n",
    "    x-y+t==0,\n",
    "    x+y+z+t==0\n",
    "]\n",
    "# show(equacions)\n",
    "coeficients=[\n",
    "    [\n",
    "        eq.lhs().coefficient(vv)\n",
    "        for vv in [x,y,z,t]\n",
    "    ]\n",
    "    for eq in equacions\n",
    "]\n",
    "# show(coeficients)\n",
    "A=matrix(QQ,coeficients)\n",
    "show(A)"
   ]
  },
  {
   "cell_type": "code",
   "execution_count": 0,
   "metadata": {},
   "outputs": [],
   "source": [
    "W=A.right_kernel()\n",
    "show(W)\n",
    "W"
   ]
  },
  {
   "cell_type": "code",
   "execution_count": 0,
   "metadata": {},
   "outputs": [],
   "source": [
    "G=W.basis() # basis() dona una família independent de generadors de l'espai\n",
    "show(G)     # "
   ]
  },
  {
   "cell_type": "code",
   "execution_count": 0,
   "metadata": {},
   "outputs": [],
   "source": [
    "show(A*G[0]) # Les multiplicacions permeten comprovar que els dos vectors \n",
    "show(A*G[1]) # de la llista G són de l'espai vectorial que s'està considerant"
   ]
  },
  {
   "cell_type": "markdown",
   "metadata": {},
   "source": [
    "**Bases alternatives de espais vectorials**\n",
    "\n",
    "Si voleu donar un subespai vectorial V en una base que no sigui la base de Gauss-Jordan ho podeu fer amb la instrucció V.subspace_with_basis(). "
   ]
  },
  {
   "cell_type": "code",
   "execution_count": 0,
   "metadata": {},
   "outputs": [],
   "source": [
    "show(v)\n",
    "Ev=(QQ^3).subspace_with_basis([v,w])\n",
    "E=span(QQ,[v,w])"
   ]
  },
  {
   "cell_type": "code",
   "execution_count": 0,
   "metadata": {},
   "outputs": [],
   "source": [
    "show(Ev)\n",
    "show(E)"
   ]
  },
  {
   "cell_type": "code",
   "execution_count": 0,
   "metadata": {},
   "outputs": [],
   "source": [
    "Ev==E"
   ]
  },
  {
   "cell_type": "markdown",
   "metadata": {},
   "source": [
    "La utilitat principal és que ens permet trobar les coordenades d'un vector respecte la base donada"
   ]
  },
  {
   "cell_type": "code",
   "execution_count": 0,
   "metadata": {},
   "outputs": [],
   "source": [
    "u=vector([10,-24,-21])"
   ]
  },
  {
   "cell_type": "code",
   "execution_count": 0,
   "metadata": {},
   "outputs": [],
   "source": [
    "E.coordinates(u)"
   ]
  },
  {
   "cell_type": "code",
   "execution_count": 0,
   "metadata": {},
   "outputs": [],
   "source": [
    "Ev.coordinates(u)"
   ]
  },
  {
   "cell_type": "markdown",
   "metadata": {},
   "source": [
    "$\\rule{15cm}{3pt}$"
   ]
  },
  {
   "cell_type": "markdown",
   "metadata": {},
   "source": [
    "# <font color=green>Exercicis</font>"
   ]
  },
  {
   "cell_type": "markdown",
   "metadata": {},
   "source": [
    "$\\rule{15cm}{3pt}$"
   ]
  },
  {
   "cell_type": "markdown",
   "metadata": {},
   "source": [
    "<font color=green>\n",
    "    Comproveu si els vectors\n",
    "</font>"
   ]
  },
  {
   "cell_type": "markdown",
   "metadata": {},
   "source": [
    "<font color=green>\n",
    "$$\n",
    "    \\begin{aligned}\n",
    "    \\vec{v}_1 &= \\left(-1,\\,-1,\\,0,\\,1\\right)\\\\\n",
    "    \\vec{v}_2 &= \\left(1,\\,-3,\\,-4,\\,11\\right) \\\\\n",
    "    \\vec{v}_3 &= \\left(1,\\,-1,\\,-2,\\,5\\right) \\\\\n",
    "    \\vec{v}_4 &= \\left(0,\\,1,\\,1,\\,-3\\right)\n",
    "    \\end{aligned}\n",
    "    $$\n",
    "</font>"
   ]
  },
  {
   "cell_type": "markdown",
   "metadata": {},
   "source": [
    "<font color=green>\n",
    "són linealment independents entre si o no. Com que resulta que no ho són, expresseu cada un d'ells com una combinació lineal dels altres si és possible. \n",
    "</font>"
   ]
  },
  {
   "cell_type": "code",
   "execution_count": 0,
   "metadata": {},
   "outputs": [],
   "source": []
  },
  {
   "cell_type": "code",
   "execution_count": 0,
   "metadata": {},
   "outputs": [],
   "source": []
  },
  {
   "cell_type": "code",
   "execution_count": 0,
   "metadata": {},
   "outputs": [],
   "source": []
  },
  {
   "cell_type": "markdown",
   "metadata": {},
   "source": [
    "$\\rule{15cm}{2pt}$"
   ]
  },
  {
   "cell_type": "markdown",
   "metadata": {},
   "source": [
    "<font color=green>\n",
    "    Considereu l'espai vectorial $V$ que generen els vectors $\\vec{v}_1$, $\\vec{v}_2$, $\\vec{v}_3$, $\\vec{v}_4$, $\\vec{v}_5$ _fabricats_  amb les instruccions\n",
    "</font>"
   ]
  },
  {
   "cell_type": "code",
   "execution_count": 0,
   "metadata": {},
   "outputs": [],
   "source": [
    "v1 =vector(QQ, [7, 4, -16, 5, -35] )\n",
    "v2 =vector(QQ, [-2, -1, 5, -2, 10] )\n",
    "v3 =vector(QQ, [4, 4, -5, -3, -21] )\n",
    "v4 =vector(QQ, [-3, -5, -1, 9, 17] )\n",
    "v5 =vector(QQ, [1, 2, 1, -4, -6] )"
   ]
  },
  {
   "cell_type": "markdown",
   "metadata": {},
   "source": [
    "<font color=green>\n",
    "Comproveu que el vector $\\vec{v}= (-4, 1, 9, -6, 10)$ és un vector de $V$ i, a més, doneu una combinació lineal de $\\vec{v}_1$, $\\vec{v}_2$, $\\vec{v}_3$, $\\vec{v}_4$, $\\vec{v}_5$ que doni com a resultat aquest vector.\n",
    "</font>"
   ]
  },
  {
   "cell_type": "code",
   "execution_count": 0,
   "metadata": {},
   "outputs": [],
   "source": []
  },
  {
   "cell_type": "code",
   "execution_count": 0,
   "metadata": {},
   "outputs": [],
   "source": []
  },
  {
   "cell_type": "code",
   "execution_count": 0,
   "metadata": {},
   "outputs": [],
   "source": []
  },
  {
   "cell_type": "markdown",
   "metadata": {},
   "source": [
    "$\\rule{15cm}{2pt}$"
   ]
  },
  {
   "cell_type": "markdown",
   "metadata": {},
   "source": [
    "<font color=green>\n",
    "Sigui $V$ l'espai vectorial formats pels $\\vec{x}=(x_1,x_2,x_3,x_4)$ tals, que\n",
    "</font>"
   ]
  },
  {
   "cell_type": "markdown",
   "metadata": {},
   "source": [
    "<font color=green>\n",
    "$$\n",
    "\\left.\n",
    "\\begin{aligned}\n",
    "    x_{1} - 2 \\, x_{3} + x_{4}&=0\\\\\n",
    "    -3 \\, x_{1} + x_{2} + 4 \\, x_{3} - x_{4}&=0\\\\\n",
    "    x_{2} - 2 \\, x_{3} + 2 \\, x_{4}&=0\\\\\n",
    "    x_{1} - x_{2} - x_{4}&=0\\\\\n",
    "    -3 \\, x_{1} + 2 \\, x_{2} + 2 \\, x_{3} + x_{4}&=0\n",
    "\\end{aligned}\n",
    "\\right\\}\n",
    "$$\n",
    "</font>"
   ]
  },
  {
   "cell_type": "markdown",
   "metadata": {},
   "source": [
    "<font color=green>\n",
    "    <ul>\n",
    "        <li>Comproveu que el vector $\\vec{v}=(-2, 6, -5, -8)$ és de $V$ i que $\\vec{w}=(1,1,3,-1)$ no.</li>\n",
    "        <li>Doneu una base de $V$.</li>\n",
    "    </ul>\n",
    " </font>"
   ]
  },
  {
   "cell_type": "code",
   "execution_count": 0,
   "metadata": {},
   "outputs": [],
   "source": []
  },
  {
   "cell_type": "code",
   "execution_count": 0,
   "metadata": {},
   "outputs": [],
   "source": []
  },
  {
   "cell_type": "code",
   "execution_count": 0,
   "metadata": {},
   "outputs": [],
   "source": []
  },
  {
   "cell_type": "markdown",
   "metadata": {},
   "source": [
    "$\\rule{15cm}{2pt}$"
   ]
  },
  {
   "cell_type": "markdown",
   "metadata": {},
   "source": [
    "<font color=green>\n",
    "    <ul>\n",
    "        <li>Comproveu que els vectors $\\vec{v}_1=(1,2,1)$, $\\vec{v}_2=(2,1,2)$ i $\\vec{w}_1=(1,-1,1)$, $\\vec{w}_2=(3,1,3)$ generen (i són bases) del mateix espai vectorial $E$.</li>\n",
    "        <li>Calculeu les coordenades de $\\vec{v}_1$ i $\\vec{v}_2$ respecte la base $\\vec{w}_1$, $\\vec{w}_2$</li>\n",
    "        <li>Poseu els coeficients que acabeu de calcular com a _columnes_ d'una la matriu $M$.</li>\n",
    "        <li>Comproveu que la matriu $M$ obtinguda transforma les coordenades d'un vector $u$ de $E$ respecte la base $\\vec{w}_1$, $\\vec{w}_2$ ens les seves coordenades respecte la base $\\vec{v}_1$, $\\vec{v}_2$ fent-ho amb el vectors $\\vec{u}_1=-3\\, \\vec{v}_1+2\\, \\vec{v}_2$ i $\\vec{u}_2=5\\, \\vec{v}_1-4\\, \\vec{v}_2$.</li>\n",
    "    </ul>\n",
    "</font>"
   ]
  },
  {
   "cell_type": "code",
   "execution_count": 0,
   "metadata": {},
   "outputs": [],
   "source": []
  },
  {
   "cell_type": "code",
   "execution_count": 0,
   "metadata": {},
   "outputs": [],
   "source": []
  },
  {
   "cell_type": "code",
   "execution_count": 0,
   "metadata": {},
   "outputs": [],
   "source": []
  },
  {
   "cell_type": "code",
   "execution_count": 0,
   "metadata": {},
   "outputs": [],
   "source": []
  },
  {
   "cell_type": "code",
   "execution_count": 0,
   "metadata": {},
   "outputs": [],
   "source": []
  },
  {
   "cell_type": "code",
   "execution_count": 0,
   "metadata": {},
   "outputs": [],
   "source": []
  },
  {
   "cell_type": "code",
   "execution_count": 0,
   "metadata": {},
   "outputs": [],
   "source": []
  }
 ],
 "metadata": {
  "kernelspec": {
   "display_name": "SageMath 9.3",
   "language": "sage",
   "name": "sagemath"
  },
  "language_info": {
   "codemirror_mode": {
    "name": "ipython",
    "version": 3
   },
   "file_extension": ".py",
   "mimetype": "text/x-python",
   "name": "python",
   "nbconvert_exporter": "python",
   "pygments_lexer": "ipython3",
   "version": "3.7.10"
  }
 },
 "nbformat": 4,
 "nbformat_minor": 1
}
