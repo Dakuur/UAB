{
 "cells": [
  {
   "cell_type": "markdown",
   "metadata": {},
   "source": [
    " Espais Vectorials (Eng.Dades)\n",
    " \n",
    " Tema 2:Espais vectorials"
   ]
  },
  {
   "cell_type": "markdown",
   "metadata": {},
   "source": [
    "### Consideracions inicials\n",
    "Per tal de treballar amb _vectors_ amb **SageMath** cal introduir els objectes amb la instrucció `vector( )` així el programa pot reaccionar _correctament_ a les manipulacions que es vulguin fer amb aquest tipus d'objectes. Si proveu les intruccions que apreixen a continuació veureu com **SageMath** sap que s'està treballant amb vectors d'un espai vectorial i realitza correctament les operacions bàsiques."
   ]
  },
  {
   "cell_type": "code",
   "execution_count": null,
   "metadata": {},
   "outputs": [],
   "source": [
    "v=vector(QQ,[1,0,2,-1,2]) # és convenient especificar que cal entendre \n",
    "w=vector(QQ,[0,-1,1,2,1]) # tots els coeficients com a racionals\n",
    "                          # altrament poden aparèixer resultats inesperats\n",
    "show(v)\n",
    "show(w)\n",
    "print(v ,\"és un element de:\", v.parent())\n",
    "show(v.parent())"
   ]
  },
  {
   "cell_type": "code",
   "execution_count": null,
   "metadata": {},
   "outputs": [],
   "source": [
    "v+w"
   ]
  },
  {
   "cell_type": "code",
   "execution_count": null,
   "metadata": {},
   "outputs": [],
   "source": [
    "2*v"
   ]
  },
  {
   "cell_type": "code",
   "execution_count": null,
   "metadata": {},
   "outputs": [],
   "source": [
    "-w"
   ]
  },
  {
   "cell_type": "code",
   "execution_count": null,
   "metadata": {},
   "outputs": [],
   "source": [
    "2*v-3*w"
   ]
  },
  {
   "cell_type": "markdown",
   "metadata": {},
   "source": [
    "<font color=red>**Nota important:**</font> Observeu que els vectors es representen com a **_files_**. Això no és cap inconvenient ni necessita manipulacions especials quan es volen fer multiplicacions per matrius ja que el programa tindrà en compte com cal interpretar cada objecte segons quina operació es plantegi (si és que té sentit)."
   ]
  },
  {
   "cell_type": "code",
   "execution_count": null,
   "metadata": {},
   "outputs": [],
   "source": [
    "A=matrix(QQ,2,2,[4,1,-2,3])\n",
    "var('a b')\n",
    "v=vector([a,b])\n",
    "show(v)\n",
    "show(A)\n",
    "show(A*v)\n",
    "show(v*A)\n",
    "B=matrix(QQ,2,3,[1,2,3,3,2,1])\n",
    "show(B)\n",
    "show(v*B)"
   ]
  },
  {
   "cell_type": "code",
   "execution_count": null,
   "metadata": {},
   "outputs": [],
   "source": [
    "B*v # aquesta operació no té sentit. v només té 2 coeficients i en calen 3"
   ]
  },
  {
   "cell_type": "markdown",
   "metadata": {},
   "source": [
    "**Espai generat per una família de vectors:**\n",
    "\n",
    "Si es vol treballar amb l'espai vectorial generat per uns quants vectors, la instrucció que construeix el subespai vectorial corresponent és `span( )`. Un cop definit un espai vectorial d'aquesta manera es pot comprovar directament si un vector en forma pert o no."
   ]
  },
  {
   "cell_type": "code",
   "execution_count": null,
   "metadata": {},
   "outputs": [],
   "source": [
    "V=span(QQ,[[1,2,1],[2,0,1],[-1,2,0],[3,2,2]])"
   ]
  },
  {
   "cell_type": "code",
   "execution_count": null,
   "metadata": {},
   "outputs": [],
   "source": [
    "show(V) # En el moment de definir V ja s'eliminen generadors innecessaris"
   ]
  },
  {
   "cell_type": "code",
   "execution_count": null,
   "metadata": {},
   "outputs": [],
   "source": [
    "v=vector([1,2,3])\n",
    "show(v)"
   ]
  },
  {
   "cell_type": "code",
   "execution_count": null,
   "metadata": {},
   "outputs": [],
   "source": [
    "v in V"
   ]
  },
  {
   "cell_type": "code",
   "execution_count": null,
   "metadata": {},
   "outputs": [],
   "source": [
    "w=vector([20,-4,9])"
   ]
  },
  {
   "cell_type": "code",
   "execution_count": null,
   "metadata": {},
   "outputs": [],
   "source": [
    "w in V"
   ]
  },
  {
   "cell_type": "markdown",
   "metadata": {},
   "source": [
    "**Solucions d'un sistema d'equacions homogeni:**\n",
    "\n",
    "Alternativament, també es pot determinar un (sub)espai vectorial com la solució d'un cert sistema d'equacions lineals.\n",
    "Utilitzant la matriu del sistema podem obtenir fàcilment, com objecte de tipus _espai vectorial_, l'espai vectorial corresponent. A continuació hi ha un exemple simple."
   ]
  },
  {
   "cell_type": "code",
   "execution_count": null,
   "metadata": {},
   "outputs": [],
   "source": [
    "var('y z t')\n",
    "equacions=[\n",
    "    x-y+t==0,\n",
    "    x+y+z+t==0\n",
    "]\n",
    "# show(equacions)\n",
    "coeficients=[\n",
    "    [\n",
    "        eq.lhs().coefficient(v)\n",
    "        for v in [x,y,z,t]\n",
    "    ]\n",
    "    for eq in equacions\n",
    "]\n",
    "# show(coeficients)\n",
    "A=matrix(QQ,coeficients)\n",
    "show(A)"
   ]
  },
  {
   "cell_type": "code",
   "execution_count": null,
   "metadata": {},
   "outputs": [],
   "source": [
    "W=A.right_kernel()\n",
    "show(W)\n",
    "W"
   ]
  },
  {
   "cell_type": "code",
   "execution_count": null,
   "metadata": {},
   "outputs": [],
   "source": [
    "G=W.basis() # basis() dona una família independent de generadors de l'espai\n",
    "show(G)     # "
   ]
  },
  {
   "cell_type": "code",
   "execution_count": null,
   "metadata": {},
   "outputs": [],
   "source": [
    "show(A*G[0]) # Les multiplicacions permeten comprovar que els dos vectors \n",
    "show(A*G[1]) # de la llista G són de l'espai vectorial que s'està considerant"
   ]
  },
  {
   "cell_type": "markdown",
   "metadata": {},
   "source": [
    "$\\rule{15cm}{3pt}$"
   ]
  },
  {
   "cell_type": "markdown",
   "metadata": {},
   "source": [
    "### Exercicis"
   ]
  },
  {
   "cell_type": "markdown",
   "metadata": {},
   "source": [
    "$\\rule{15cm}{3pt}$"
   ]
  },
  {
   "cell_type": "markdown",
   "metadata": {},
   "source": [
    "Comproveu si els vectors\n",
    "$$\n",
    "    \\begin{aligned}\n",
    "    \\vec{v}_1 &= \\left(-1,\\,-1,\\,0,\\,1\\right)\\\\\n",
    "    \\vec{v}_2 &= \\left(1,\\,-3,\\,-4,\\,11\\right) \\\\\n",
    "    \\vec{v}_3 &= \\left(1,\\,-1,\\,-2,\\,5\\right) \\\\\n",
    "    \\vec{v}_4 &= \\left(0,\\,1,\\,1,\\,-3\\right)\n",
    "    \\end{aligned}\n",
    "    $$\n",
    "són linealment independents entre si o no. Com que resulta que no ho són, expresseu cada un d'ells com una combinació lineal dels altres. (Probablement, la millor estratègia consisteix a trobar com són les combinacions lineals de la família que donen com a resultat el vector $\\vec0$, o localitzar si hi ha alguna instrucció de **SageMath** _que ja sap fer els càlculs_).\n"
   ]
  },
  {
   "cell_type": "code",
   "execution_count": null,
   "metadata": {},
   "outputs": [],
   "source": []
  },
  {
   "cell_type": "markdown",
   "metadata": {},
   "source": [
    "$\\rule{15cm}{2pt}$"
   ]
  },
  {
   "cell_type": "markdown",
   "metadata": {},
   "source": [
    "Considereu l'espai vectorial $V$ que generen els vectors $\\vec{v}_1$, $\\vec{v}_2$, $\\vec{v}_3$, $\\vec{v}_4$, $\\vec{v}_5$ *fabricats* amb les instruccions"
   ]
  },
  {
   "cell_type": "code",
   "execution_count": null,
   "metadata": {},
   "outputs": [],
   "source": [
    "v1 =vector(QQ, [7, 4, -16, 5, -35] )\n",
    "v2 =vector(QQ, [-2, -1, 5, -2, 10] )\n",
    "v3 =vector(QQ, [4, 4, -5, -3, -21] )\n",
    "v4 =vector(QQ, [-3, -5, -1, 9, 17] )\n",
    "v5 =vector(QQ, [1, 2, 1, -4, -6] )"
   ]
  },
  {
   "cell_type": "markdown",
   "metadata": {},
   "source": [
    "Comproveu que el vector $\\vec{v}= (-4, 1, 9, -6, 10)$ és un vector de $V$ i, a més, doneu una combinació lineal de $\\vec{v}_1$, $\\vec{v}_2$, $\\vec{v}_3$, $\\vec{v}_4$, $\\vec{v}_5$ que doni com a resultat aquest vector."
   ]
  },
  {
   "cell_type": "code",
   "execution_count": null,
   "metadata": {},
   "outputs": [],
   "source": []
  },
  {
   "cell_type": "markdown",
   "metadata": {},
   "source": [
    "$\\rule{15cm}{2pt}$"
   ]
  },
  {
   "cell_type": "markdown",
   "metadata": {},
   "source": [
    "Sigui $V$ l'espai vectorial formats pels $\\vec{x}=(x_1,x_2,x_3,x_4)$ tals, que\n",
    "$$\n",
    "\\left.\n",
    "\\begin{aligned}\n",
    "    x_{1} - 2 \\, x_{3} + x_{4}&=0\\\\\n",
    "    -3 \\, x_{1} + x_{2} + 4 \\, x_{3} - x_{4}&=0\\\\\n",
    "    x_{2} - 2 \\, x_{3} + 2 \\, x_{4}&=0\\\\\n",
    "    x_{1} - x_{2} - x_{4}&=0\\\\\n",
    "    -3 \\, x_{1} + 2 \\, x_{2} + 2 \\, x_{3} + x_{4}&=0\n",
    "\\end{aligned}\n",
    "\\right\\}\n",
    "$$\n",
    "<ul>\n",
    "        <li>Comproveu que el vector $\\vec{v}=(-2, 6, -5, -8)$ és de $V$ i que $\\vec{w}=(1,1,3,-1)$ no.</li>\n",
    "        <li>Doneu un sistema de generadors de $V$.</li>\n",
    "</ul>"
   ]
  },
  {
   "cell_type": "code",
   "execution_count": null,
   "metadata": {},
   "outputs": [],
   "source": []
  },
  {
   "cell_type": "markdown",
   "metadata": {},
   "source": [
    "$\\rule{15cm}{2pt}$"
   ]
  },
  {
   "cell_type": "code",
   "execution_count": null,
   "metadata": {},
   "outputs": [],
   "source": []
  }
 ],
 "metadata": {
  "kernelspec": {
   "display_name": "SageMath 9.3",
   "language": "sage",
   "name": "sagemath"
  },
  "language_info": {
   "codemirror_mode": {
    "name": "ipython",
    "version": 3
   },
   "file_extension": ".py",
   "mimetype": "text/x-python",
   "name": "python",
   "nbconvert_exporter": "python",
   "pygments_lexer": "ipython3",
   "version": "3.7.10"
  }
 },
 "nbformat": 4,
 "nbformat_minor": 2
}
