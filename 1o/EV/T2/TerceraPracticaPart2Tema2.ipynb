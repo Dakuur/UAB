{
 "cells": [
  {
   "cell_type": "markdown",
   "metadata": {},
   "source": [
    "# Suma i intersecció de subespais"
   ]
  },
  {
   "cell_type": "markdown",
   "metadata": {},
   "source": [
    "La suma i la intersecció de subespais vectorials donats és una de les situacions naturals en les que es _fabriquen_ espais vectorials nous a partir dels que ja es tenen. El problema bàsic en aquestes situacions és determinar bases d'aquests _productes_ a partir de les dades que es tinguin dels espais originals. Si es treballa amb <font color=blue>**SageMath**</font> i es tenen definits un parell d'espais vectorials $V$ i $W$, la instrucció <font color=blue>intesection( )</font> genera $V\\cap W$, mentre que com en molts altres casos _l'operador suma <font color=blue>$+$</font>_ permet obtenir $V+W$ de forma immediata. D'aquesta forma els resultats són, també, objectes de la categoria _espai vectorial_ i, pert tant, es disposa de tota la bateria de funcions associades (dimensió, base,...)\n",
    "\n",
    "**Exemple:** Considerem el subespai vectorial $F$ generat per $\\vec{v}_1=(1,1,-1)$, $\\vec{v}_2=(2,0,-1)$ i el subespai vectorial $G$ generat per $\\vec{w}_1=(1,0,-1)$, $\\vec{w}_2=(2,3,0)$, $\\vec{w}_3=(4,3,-2)$. "
   ]
  },
  {
   "cell_type": "code",
   "execution_count": 28,
   "metadata": {},
   "outputs": [
    {
     "data": {
      "text/html": [
       "<html><script type=\"math/tex; mode=display\">\\newcommand{\\Bold}[1]{\\mathbf{#1}}\\mathrm{RowSpan}_{\\Bold{Q}}\\left(\\begin{array}{rrr}\n",
       "1 & 0 & -\\frac{1}{2} \\\\\n",
       "0 & 1 & -\\frac{1}{2}\n",
       "\\end{array}\\right)</script></html>"
      ],
      "text/plain": [
       "Vector space of degree 3 and dimension 2 over Rational Field\n",
       "Basis matrix:\n",
       "[   1    0 -1/2]\n",
       "[   0    1 -1/2]"
      ]
     },
     "execution_count": 28,
     "metadata": {},
     "output_type": "execute_result"
    },
    {
     "data": {
      "text/html": [
       "<html><script type=\"math/tex; mode=display\">\\newcommand{\\Bold}[1]{\\mathbf{#1}}\\mathrm{RowSpan}_{\\Bold{Q}}\\left(\\begin{array}{rrr}\n",
       "1 & 0 & -1 \\\\\n",
       "0 & 1 & \\frac{2}{3}\n",
       "\\end{array}\\right)</script></html>"
      ],
      "text/plain": [
       "Vector space of degree 3 and dimension 2 over Rational Field\n",
       "Basis matrix:\n",
       "[  1   0  -1]\n",
       "[  0   1 2/3]"
      ]
     },
     "execution_count": 28,
     "metadata": {},
     "output_type": "execute_result"
    }
   ],
   "source": [
    "v1=vector(QQ,[1,1,-1])\n",
    "v2=vector(QQ,[2,0,-1])\n",
    "w1=vector(QQ,[1,0,-1])\n",
    "w2=vector(QQ,[2,3,0])\n",
    "w3=vector(QQ,[4,3,-2])\n",
    "F=span([v1,v2])\n",
    "G=span([w1,w2,w3])\n",
    "show(F)\n",
    "show(G)"
   ]
  },
  {
   "cell_type": "code",
   "execution_count": 29,
   "metadata": {},
   "outputs": [
    {
     "data": {
      "text/html": [
       "<html><script type=\"math/tex; mode=display\">\\newcommand{\\Bold}[1]{\\mathbf{#1}}\\mathrm{RowSpan}_{\\Bold{Q}}\\left(\\begin{array}{rrr}\n",
       "1 & 0 & 0 \\\\\n",
       "0 & 1 & 0 \\\\\n",
       "0 & 0 & 1\n",
       "\\end{array}\\right)</script></html>"
      ],
      "text/plain": [
       "Vector space of degree 3 and dimension 3 over Rational Field\n",
       "Basis matrix:\n",
       "[1 0 0]\n",
       "[0 1 0]\n",
       "[0 0 1]"
      ]
     },
     "execution_count": 29,
     "metadata": {},
     "output_type": "execute_result"
    },
    {
     "data": {
      "text/html": [
       "<html><script type=\"math/tex; mode=display\">\\newcommand{\\Bold}[1]{\\mathbf{#1}}3</script></html>"
      ],
      "text/plain": [
       "3"
      ]
     },
     "execution_count": 29,
     "metadata": {},
     "output_type": "execute_result"
    }
   ],
   "source": [
    "S=F+G\n",
    "show(S)\n",
    "show(S.dimension())"
   ]
  },
  {
   "cell_type": "code",
   "execution_count": 30,
   "metadata": {},
   "outputs": [
    {
     "data": {
      "text/html": [
       "<html><script type=\"math/tex; mode=display\">\\newcommand{\\Bold}[1]{\\mathbf{#1}}\\left[\\left(1,\\,\\frac{3}{7},\\,-\\frac{5}{7}\\right)\\right]</script></html>"
      ],
      "text/plain": [
       "[\n",
       "(1, 3/7, -5/7)\n",
       "]"
      ]
     },
     "execution_count": 30,
     "metadata": {},
     "output_type": "execute_result"
    },
    {
     "data": {
      "text/html": [
       "<html><script type=\"math/tex; mode=display\">\\newcommand{\\Bold}[1]{\\mathbf{#1}}1</script></html>"
      ],
      "text/plain": [
       "1"
      ]
     },
     "execution_count": 30,
     "metadata": {},
     "output_type": "execute_result"
    }
   ],
   "source": [
    "Intrs=F.intersection(G)\n",
    "show(Intrs.basis())\n",
    "show(Intrs.dimension())"
   ]
  },
  {
   "cell_type": "markdown",
   "metadata": {},
   "source": [
    "# <font color=green> Exercici </font>"
   ]
  },
  {
   "cell_type": "markdown",
   "metadata": {},
   "source": [
    "<font color=green>\n",
    "    Sigui $E$ el subespai vectorial donat pels vectors $\\vec{x}=(x_1,x_2,x_3,x_4,x_5)$ que compleixen\n",
    "    $$\n",
    "    \\left.\n",
    "    \\begin{aligned}\n",
    "    -x_{1} + x_{2} + x_{3} - 5 \\, x_{5}&=0 \\\\\n",
    "-x_{1} + x_{3} - 2 \\, x_{4} - 2 \\, x_{5}&=0 \\\\\n",
    "x_{2} + 2 \\, x_{4} - 3 \\, x_{5}&=0 \\\\\n",
    "x_{1} + x_{2} - x_{3} + 4 \\, x_{4} - x_{5}&=0\n",
    "\\end{aligned}\n",
    "\\right\\}\n",
    "    $$\n",
    "</font>\n",
    "\n",
    "<font color=green>\n",
    "    Sigui $F$ el subespai vectorial generat pels vectors\n",
    "    $$\n",
    "    \\begin{aligned}\n",
    "    \\vec{v}_1 &=\\left(-5,\\,5,\\,-5,\\,-1,\\,1\\right),\\\\\n",
    "    \\vec{v}_2 &=\\left(-15,\\,-15,\\,5,\\,9,\\,1\\right),\\\\ \n",
    "    \\vec{v}_3 &=\\left(-5,\\,35,\\,-25,\\,-13,\\,3\\right),\\\\ \n",
    "    \\vec{v}_4 &=\\left(-15,\\,1,\\,-4,\\,3,\\,1\\right)\n",
    "    \\end{aligned}\n",
    "    $$\n",
    "</font>\n",
    "\n",
    "<font color=green>\n",
    "    <ul>\n",
    "        <li>Doneu una base de $E$ i una de $F$. Quines són les dimensions de cada un dels espais?</li>\n",
    "        <li>Calculeu els espais $G=E\\cap F$ i $S=E+F$.</li>\n",
    "        <li>Doneu bases de $G$ i $S$.</li>\n",
    "        <li>Comproveu que \n",
    "            $$\n",
    "            \\dim(S)=\\dim(E)+\\dim(F)-\\dim(G)\n",
    "            $$\n",
    "    </ul>\n",
    "</font>"
   ]
  },
  {
   "cell_type": "markdown",
   "metadata": {},
   "source": [
    "Exercici.\n",
    "\n",
    "Considereu l'aplicació lineal $f$ que queda determinada per la matriu\n",
    "    $$\n",
    "    A=\\begin{pmatrix}\n",
    "    1 & 1 & 2 & -3 & 3 \\\\\n",
    "-2 & -1 & -3 & 5 & -4 \\\\\n",
    "-3 & -2 & -4 & 6 & -5 \\\\\n",
    "2 & 3 & 3 & -3 & 4\n",
    "    \\end{pmatrix}\n",
    "    $$\n",
    "    <ul>\n",
    "        <li>Comproveu que el vector $\\vec{v}= (0,−1,1,−5)$ és de l'espai $\\operatorname{Im}(f)$.</li>\n",
    "        <li>Tenint en compte que $\\operatorname{Im}(f)$ és l'espai generat per les **columnes** de $A$, determineu-ne un sistema de generadors linealment independents (base).</li>\n",
    "        <li>Expresseu $\\vec v$ com combinació lineal del sistema generador que heu calculat a l'apartat anterior.</li>\n",
    "    </ul>"
   ]
  },
  {
   "cell_type": "code",
   "execution_count": null,
   "metadata": {},
   "outputs": [],
   "source": []
  },
  {
   "cell_type": "code",
   "execution_count": 0,
   "metadata": {},
   "outputs": [],
   "source": []
  },
  {
   "cell_type": "code",
   "execution_count": 0,
   "metadata": {},
   "outputs": [],
   "source": []
  },
  {
   "cell_type": "code",
   "execution_count": 0,
   "metadata": {},
   "outputs": [],
   "source": []
  },
  {
   "cell_type": "code",
   "execution_count": 0,
   "metadata": {},
   "outputs": [],
   "source": []
  }
 ],
 "metadata": {
  "kernelspec": {
   "display_name": "SageMath 9.3",
   "language": "sage",
   "name": "sagemath"
  },
  "language_info": {
   "codemirror_mode": {
    "name": "ipython",
    "version": 3
   },
   "file_extension": ".py",
   "mimetype": "text/x-python",
   "name": "python",
   "nbconvert_exporter": "python",
   "pygments_lexer": "ipython3",
   "version": "3.7.10"
  }
 },
 "nbformat": 4,
 "nbformat_minor": 1
}
