{
 "cells": [
  {
   "cell_type": "markdown",
   "metadata": {},
   "source": [
    "# Pràctica Interpolació Polinomis "
   ]
  },
  {
   "cell_type": "markdown",
   "metadata": {},
   "source": [
    "## 1a part. Interpolació amb  polinomis"
   ]
  },
  {
   "cell_type": "markdown",
   "metadata": {},
   "source": [
    "1. Escriviu una funció que prengui com a entrada una llista de $n+1$ punts del pla $(x_i,y_i)$ i retorni un polinomi $p(x)$ de grau $n$ satisfent $p(x_i) = y_i$. Direm que $p(x)$ \"interpola\" els punts donats.\n",
    "2. Escriviu una funció que prengui com entrada una funció matemàtica, un interval $[a, b]$ i un natural $n$ i retorni el polinomi interpolador de la funció en els $n+1$ punts resultant de dividir l'interval en $n$ subintervals d'igual longitud.\n",
    "3. Grafiqueu a la vegada la funció $\\sin(x)$ i el polinomi interpolador de grau $n$ en l'interval $[-2\\pi, 2\\pi]$ per $n$ des de $1$ fins a $20$.\n",
    "4. Feu el mateix per la funció $f(x)=\\frac{1}{1+25x^2}$, i l'interval $[-1, 1]$."
   ]
  },
  {
   "cell_type": "code",
   "execution_count": 1,
   "metadata": {},
   "outputs": [],
   "source": [
    "def interpolate(point_list):\n",
    "    n = len(point_list)\n",
    "    A = Matrix(RR, n, n, 0)\n",
    "    b = Matrix(RR, n, 1, 0)\n",
    "    for i, (x,y) in enumerate(point_list):\n",
    "        xj = 1\n",
    "        for j in range(n):\n",
    "            A[i, j] = xj\n",
    "            xj *= x\n",
    "        b[i, 0] = y\n",
    "    return RR['x'](A.solve_right(b).list())\n",
    "            "
   ]
  },
  {
   "cell_type": "code",
   "execution_count": 2,
   "metadata": {},
   "outputs": [],
   "source": [
    "def interpolate_function(f, a, b, n):\n",
    "    xlist = [RR(a+ i * (b-a) / n) for i in range(n+1)]\n",
    "    point_list = [(x, f(x)) for x in xlist]\n",
    "    return interpolate(point_list)\n",
    "    "
   ]
  },
  {
   "cell_type": "code",
   "execution_count": 3,
   "metadata": {},
   "outputs": [
    {
     "data": {
      "application/vnd.jupyter.widget-view+json": {
       "model_id": "a6ea4912bd664b8fa1390669c9204a05",
       "version_major": 2,
       "version_minor": 0
      },
      "text/plain": [
       "Interactive function <function myplot at 0x6ffeda045320> with 1 widget\n",
       "  n: IntSlider(value=6, description='n'…"
      ]
     },
     "metadata": {},
     "output_type": "display_data"
    }
   ],
   "source": [
    "a = -2*RR(pi)\n",
    "b = 2*RR(pi)\n",
    "p1 = plot(sin, xmin=a, xmax=b, color = 'red')\n",
    "@interact\n",
    "def myplot(n = (1,12)):\n",
    "    p2 = plot(interpolate_function(sin, a, b, n), xmin = a, xmax = b, color = 'blue')\n",
    "    p3 = scatter_plot([(a+i * (b-a)/n, sin(a+i*(b-a)/n)) for i in range(n+1)],marker='.')\n",
    "    p = p1+p2+p3\n",
    "    p.axes_range(ymin=-2, ymax=2)\n",
    "    p.show()"
   ]
  },
  {
   "cell_type": "code",
   "execution_count": 4,
   "metadata": {},
   "outputs": [
    {
     "data": {
      "application/vnd.jupyter.widget-view+json": {
       "model_id": "653ee99c0e804bd6b49c2638b4103616",
       "version_major": 2,
       "version_minor": 0
      },
      "text/plain": [
       "Interactive function <function _ at 0x6ffed0295320> with 1 widget\n",
       "  n: IntSlider(value=15, description='n', ma…"
      ]
     },
     "metadata": {},
     "output_type": "display_data"
    }
   ],
   "source": [
    "a = -1\n",
    "b = 1\n",
    "h = lambda x:1/(1+25*x^2)\n",
    "p1 = plot(h, xmin=a, xmax=b, color = 'red')\n",
    "@interact\n",
    "def _(n = (1,30)):\n",
    "    p2 = plot(interpolate_function(h, a, b, n), xmin = a, xmax = b, color = 'blue')\n",
    "    p3 = scatter_plot([(a+i * (b-a)/n, h(a+i*(b-a)/n)) for i in range(n+1)],marker='.')\n",
    "    p = (p1+p2+p3)\n",
    "    p.axes_range(ymin=-2, ymax=2)\n",
    "    p.show()"
   ]
  }
 ],
 "metadata": {
  "kernelspec": {
   "display_name": "SageMath 9.3",
   "language": "sage",
   "name": "sagemath"
  },
  "language_info": {
   "codemirror_mode": {
    "name": "ipython",
    "version": 3
   },
   "file_extension": ".py",
   "mimetype": "text/x-python",
   "name": "python",
   "nbconvert_exporter": "python",
   "pygments_lexer": "ipython3",
   "version": "3.7.10"
  }
 },
 "nbformat": 4,
 "nbformat_minor": 2
}
