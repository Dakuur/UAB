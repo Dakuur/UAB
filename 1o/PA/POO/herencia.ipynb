{
 "cells": [
  {
   "cell_type": "markdown",
   "id": "46322ba6-6591-4701-81d6-87466717be67",
   "metadata": {
    "tags": []
   },
   "source": [
    "# **Herència**"
   ]
  },
  {
   "cell_type": "markdown",
   "id": "751a84c8-02ad-4bd4-bd2a-a2b455eb3425",
   "metadata": {
    "tags": []
   },
   "source": [
    "**Exemple**\n",
    "\n",
    "Suposem que tenim una classe `CompteCorrent` per gestionar els comptes corrents dels clients d’una entitat bancària. Aquesta classe guarda la informació del titular del compte, el saldo actual i una llista amb tots els moviments que s’han fet al compte. Per guardar els moviments s’utilitza una classe `Moviment` que guarda una descripció del moviment, l’import del moviment (positiu o negatiu) i la data en què s’ha fet. \n",
    "A nivell d’interfície pública, la classe `Moviment` només té els getters i setters dels atributs. La classe `CompteCorrent` té com a interfície pública getters per recuperar el titular i el saldo actual i un mètode per registrar les dades d’un moviment. \n"
   ]
  },
  {
   "cell_type": "code",
   "execution_count": 2,
   "id": "99ab96a6-9619-46cb-acf8-a60370fadfeb",
   "metadata": {},
   "outputs": [],
   "source": [
    "from dataclasses import dataclass, field, InitVar\n",
    "from typing import List\n",
    "from datetime import date, datetime\n",
    "\n",
    "@dataclass\n",
    "class Moviment:\n",
    "    _descripcio: str\n",
    "    _valor: float\n",
    "    _data: date\n",
    "\n",
    "    def __init__(self, descripcio: str = \"\", valor: float = 0.0, data: str = '') -> None:\n",
    "        self._descripcio = descripcio\n",
    "        self._valor = valor\n",
    "        if data == '':\n",
    "            self._data = date.today()\n",
    "        else:\n",
    "            self._data = datetime.strptime(data, '%d/%m/%Y')\n",
    "        \n",
    "    @property\n",
    "    def descripcio(self) -> str:\n",
    "        return self._descripcio\n",
    "    \n",
    "    @descripcio.setter\n",
    "    def descripcio(self, valor: str) -> None:\n",
    "        self._descripcio = valor\n",
    "        \n",
    "    @property\n",
    "    def valor(self) -> float:\n",
    "        return self._valor\n",
    "    \n",
    "    @valor.setter\n",
    "    def valor(self, valor: float) -> None:\n",
    "        self._valor = valor\n",
    "        \n",
    "    @property\n",
    "    def data(self) -> str:\n",
    "        return datetime.strftime(self._data, '%d/%m/%Y')\n",
    "    \n",
    "    @data.setter\n",
    "    def data(self, valor: str) -> None:\n",
    "        self._data = datetime.strptime(valor, '%d/%m/%Y')\n",
    "\n",
    "@dataclass\n",
    "class CompteCorrent:\n",
    "    _titular: str\n",
    "    _saldo: float = 0.0\n",
    "    _moviments: List[Moviment] = field(default_factory=list)\n",
    "    \n",
    "    @property\n",
    "    def titular(self) -> str:\n",
    "        return self._titular\n",
    "    \n",
    "    @property\n",
    "    def saldo(self) -> float:\n",
    "        return self._saldo\n",
    "    \n",
    "    def afegeix_moviment(self, descripcio: str, valor: float, data: str) -> None:\n",
    "        moviment = Moviment(descripcio, valor, data)\n",
    "        self._moviments.append(moviment)\n",
    "        self._saldo += valor\n"
   ]
  },
  {
   "cell_type": "code",
   "execution_count": 3,
   "id": "e401adb1-8456-44a7-b5da-f7b112ff47ca",
   "metadata": {},
   "outputs": [
    {
     "name": "stdout",
     "output_type": "stream",
     "text": [
      "ernest 0.0\n"
     ]
    }
   ],
   "source": [
    "c = CompteCorrent(\"ernest\")\n",
    "print(c.titular, c.saldo)"
   ]
  },
  {
   "cell_type": "code",
   "execution_count": 4,
   "id": "4bf74a14-a933-447c-9f78-5ec71ecfc035",
   "metadata": {},
   "outputs": [
    {
     "name": "stdout",
     "output_type": "stream",
     "text": [
      "100.0\n"
     ]
    }
   ],
   "source": [
    "c.afegeix_moviment(\"desc1\", 200, \"1/1/2022\")\n",
    "c.afegeix_moviment(\"desc2\", -100, \"1/1/2022\")\n",
    "print(c.saldo)"
   ]
  },
  {
   "cell_type": "markdown",
   "id": "46a4d6ac-115d-495f-994c-23aba4c8c938",
   "metadata": {
    "tags": []
   },
   "source": [
    "**Exemple**\n",
    "\n",
    "Imaginem ara que l’entitat bancària vol oferir un nou tipus de compte, el Compte Jove, que té una operativa molt similar al compte corrent bàsic, amb la diferència que el Compte Jove permet acumular punts que després es poden bescanviar per regals. Els punts s’acumulen cada cop que el client fa un ingrés en el compte: per cada 100 euros ingressats s’acumula 1 punt. \n"
   ]
  },
  {
   "cell_type": "markdown",
   "id": "4b7f9f55-2db7-4404-a693-04af22f219d7",
   "metadata": {
    "tags": []
   },
   "source": [
    "#### **Herència**\n",
    "- És la utilització d’una classe genèrica ja existent (classe base `CompteCorrent`) per crear altres  classes més específiques (classe derivada `CompteJove`) que especialitzen la classe genèrica i extenen/modifiquen la seva funcionalitat.\n",
    "- Les classes derivades (o també subclasses) hereten els atributs (dades)  i els mètodes (comportament) de la classe base (o també superclasse). \n"
   ]
  },
  {
   "cell_type": "code",
   "execution_count": 5,
   "id": "cf525ccb-82b4-49ca-bbdf-aaa324f902da",
   "metadata": {},
   "outputs": [],
   "source": [
    "@dataclass\n",
    "class CompteJove(CompteCorrent):\n",
    "    pass\n",
    "    "
   ]
  },
  {
   "cell_type": "code",
   "execution_count": 10,
   "id": "d6272548-b44c-4ac8-8cfc-5988af89ea35",
   "metadata": {},
   "outputs": [
    {
     "name": "stdout",
     "output_type": "stream",
     "text": [
      "ernest 0.0\n",
      "100.0\n"
     ]
    }
   ],
   "source": [
    "cj = CompteJove('ernest')\n",
    "print(cj.titular, cj.saldo)\n",
    "cj.afegeix_moviment(\"desc1\", 200, \"1/1/2022\")\n",
    "cj.afegeix_moviment(\"desc2\", -100, \"1/1/2022\")\n",
    "print(cj.saldo)"
   ]
  },
  {
   "cell_type": "markdown",
   "id": "c55a94a0-8e23-4bd5-95dc-8aaa331a6fcd",
   "metadata": {
    "tags": []
   },
   "source": [
    "- Les classes derivades poden afegir atributs i mètodes específics propis només de la subclasse.\n",
    "- Les subclasses també poden modificar el comportament dels mètodes de la classe base per adaptar-lo a la seva especifitat"
   ]
  },
  {
   "cell_type": "code",
   "execution_count": 7,
   "id": "e1a6ea82-d2b6-4129-9304-de119fe9f732",
   "metadata": {},
   "outputs": [],
   "source": [
    "@dataclass\n",
    "class CompteJove(CompteCorrent):\n",
    "    _punts: int = 0\n",
    "    \n",
    "    @property\n",
    "    def punts(self) -> int:\n",
    "        return self._punts\n",
    "       \n",
    "    def afegeix_moviment(self, descripcio: str, valor: float, data: str) -> None:\n",
    "        moviment = Moviment(descripcio, valor, data)\n",
    "        self._moviments.append(moviment)\n",
    "        self._saldo += valor        \n",
    "        if valor > 0:\n",
    "            self._punts += int(valor/100)\n"
   ]
  },
  {
   "cell_type": "code",
   "execution_count": 9,
   "id": "2287b61c-6cfc-409b-81eb-4ced8e5c5502",
   "metadata": {},
   "outputs": [
    {
     "name": "stdout",
     "output_type": "stream",
     "text": [
      "CompteJove(_titular='ernest', _saldo=0.0, _moviments=[], _punts=0)\n",
      "ernest 0.0 0\n",
      "100.0 2\n"
     ]
    }
   ],
   "source": [
    "cj = CompteJove('ernest')\n",
    "print(cj)\n",
    "print(cj.titular, cj.saldo, cj.punts)\n",
    "cj.afegeix_moviment(\"desc1\", 200, \"1/1/2022\")\n",
    "cj.afegeix_moviment(\"desc2\", -100, \"1/1/2022\")\n",
    "print(cj.saldo, cj.punts)"
   ]
  },
  {
   "cell_type": "code",
   "execution_count": null,
   "id": "ad54a7b1-0c59-4a97-b273-7b7aa757a7ca",
   "metadata": {},
   "outputs": [],
   "source": []
  }
 ],
 "metadata": {
  "kernelspec": {
   "display_name": "Python 3 (ipykernel)",
   "language": "python",
   "name": "python3"
  },
  "language_info": {
   "codemirror_mode": {
    "name": "ipython",
    "version": 3
   },
   "file_extension": ".py",
   "mimetype": "text/x-python",
   "name": "python",
   "nbconvert_exporter": "python",
   "pygments_lexer": "ipython3",
   "version": "3.10.8"
  }
 },
 "nbformat": 4,
 "nbformat_minor": 5
}
