{
 "cells": [
  {
   "cell_type": "markdown",
   "metadata": {},
   "source": [
    "# Exercicis"
   ]
  },
  {
   "cell_type": "markdown",
   "metadata": {},
   "source": [
    "## **Exercici Sudoku**\n",
    "\n",
    "El Sudoku és un trencaclosques format per 81 cel·les distribuïdes en una graella de 9x9 que es divideix en 9 subgraelles de 3x3. Les regles per emplenar les cel·les es resumeixen amb:\n",
    "- A cada casella hi ha d’haver un nombre entre 1 i 9.\n",
    "- A cada fila, columna i subgraella, hi ha d’haver els 9 nombres, sense repetir-ne cap.\n",
    "A tots els Sudokus, venen donades d’entrada tota una sèrie de xifres que s’anomenen pistes, i que serveixen com a punt de partida per a començar a resoldre el trencaclosques, a més de dotar-lo de solució única.\n"
   ]
  },
  {
   "cell_type": "markdown",
   "metadata": {},
   "source": [
    "Implementar la funció `es_valid` que rebi com a paràmetres un sudoku, un número (entre 1 i 9) i un valor de fila i columna (entre 0 i 8) i comprovi si és vàlid posar un número en una determinada posició del sudoku. Recordem que en un sudoku és vàlid posar un número en una casella si no hi ha cap altre número igual ni a la mateixa fila ni a la mateixa columna ni a la subgraella 3x3 de la casella, i a més a més, la casella no està ocupada per un altre número.\n",
    "\n",
    "Feu dues implementacions diferents de la funció `es_valid`, una representant el sudoku com a llista i l'altra representant el sudoku com un array 2D"
   ]
  },
  {
   "cell_type": "markdown",
   "metadata": {},
   "source": [
    "**Implementació amb llistes**"
   ]
  },
  {
   "cell_type": "code",
   "execution_count": null,
   "metadata": {},
   "outputs": [],
   "source": [
    "def es_valid(sudoku, numero, fila, columna):  \n"
   ]
  },
  {
   "cell_type": "code",
   "execution_count": null,
   "metadata": {},
   "outputs": [],
   "source": [
    "sudoku = np.loadtxt('sudoku.txt', dtype='int')\n",
    "sudoku_list = sudoku.tolist()\n",
    "print(sudoku_list)\n",
    "numero = int(input(\"Numero: \"))\n",
    "fila = int(input(\"Fila: \"))\n",
    "col = int(input(\"Columna: \"))\n",
    "valid = es_valid(sudoku_list, numero, fila, col)\n",
    "if (valid):\n",
    "    print(\"El numero SI es valid a aquesta posicio\")\n",
    "else:\n",
    "    print(\"El numero NO es valid a aquesta posicio\")"
   ]
  },
  {
   "cell_type": "markdown",
   "metadata": {},
   "source": [
    "**Implementació amb arrays**"
   ]
  },
  {
   "cell_type": "code",
   "execution_count": null,
   "metadata": {},
   "outputs": [],
   "source": [
    "def es_valid(sudoku, numero, fila, columna):  \n"
   ]
  },
  {
   "cell_type": "code",
   "execution_count": null,
   "metadata": {},
   "outputs": [],
   "source": [
    "sudoku = np.loadtxt('sudoku.txt', dtype='int')\n",
    "print(sudoku)\n",
    "numero = int(input(\"Numero: \"))\n",
    "fila = int(input(\"Fila: \"))\n",
    "col = int(input(\"Columna: \"))\n",
    "valid = es_valid(sudoku, numero, fila, col)\n",
    "if (valid):\n",
    "    print(\"El numero SI es valid a aquesta posicio\")\n",
    "else:\n",
    "    print(\"El numero NO es valid a aquesta posicio\")"
   ]
  },
  {
   "cell_type": "code",
   "execution_count": null,
   "metadata": {},
   "outputs": [],
   "source": []
  },
  {
   "cell_type": "markdown",
   "metadata": {},
   "source": [
    "## Exercici"
   ]
  },
  {
   "cell_type": "markdown",
   "metadata": {},
   "source": [
    "**Exercici**: Implementar una funció que calculi la distància euclidiana entre dos vectors de dimensió N representats com a arrays:\n",
    "\n",
    "$d(u,v) = \\sqrt{\\sum_{i=1}^{n}{(u(i) - v(i))^2}}$"
   ]
  },
  {
   "cell_type": "code",
   "execution_count": null,
   "metadata": {},
   "outputs": [],
   "source": [
    "u = np.array([1, 2, 3, 4])\n",
    "v = np.array([4, 5, 6, 7])\n",
    "distancia = np.sqrt(((u-v)**2).sum())"
   ]
  },
  {
   "cell_type": "markdown",
   "metadata": {},
   "source": [
    "## Exercici"
   ]
  },
  {
   "cell_type": "markdown",
   "metadata": {},
   "source": [
    "**Exercici**: Implementar una funció que calculi la multiplicació de dues matrius representades com a arrays, sense utilitzar la funció np.dot. S’ha de comprovar que les dimensions de les dues matrius siguin compatibles per fer la multiplicació. Si no ho són s’ha de retornar una matriu buida."
   ]
  },
  {
   "cell_type": "code",
   "execution_count": null,
   "metadata": {},
   "outputs": [],
   "source": []
  }
 ],
 "metadata": {
  "kernelspec": {
   "display_name": "Python 3 (ipykernel)",
   "language": "python",
   "name": "python3"
  },
  "language_info": {
   "codemirror_mode": {
    "name": "ipython",
    "version": 3
   },
   "file_extension": ".py",
   "mimetype": "text/x-python",
   "name": "python",
   "nbconvert_exporter": "python",
   "pygments_lexer": "ipython3",
   "version": "3.8.8"
  }
 },
 "nbformat": 4,
 "nbformat_minor": 4
}
