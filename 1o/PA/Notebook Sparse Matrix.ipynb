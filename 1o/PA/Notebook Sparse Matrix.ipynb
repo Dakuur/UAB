{
 "cells": [
  {
   "cell_type": "markdown",
   "id": "0a3170ef-6b3d-418c-8e45-e83ae7ba179f",
   "metadata": {},
   "source": [
    "### **Sparse Matrix**"
   ]
  },
  {
   "cell_type": "markdown",
   "id": "93f56d07-03fc-4f57-84be-a06e3ee54a17",
   "metadata": {},
   "source": [
    "Permet guardar matrius esparses (amb molts pocs elements diferents de zero) molt grosses de forma eficient i ocupant poca memòria. Hi ha diversos formats per representar una matriu esparsa: lil, csr, css, coo, ...\n",
    "\n",
    "Documentació: https://docs.scipy.org/doc/scipy/reference/sparse.html"
   ]
  },
  {
   "cell_type": "code",
   "execution_count": 1,
   "id": "b5ceb171-5dfd-4eb1-a41b-476a611e9efc",
   "metadata": {},
   "outputs": [],
   "source": [
    "import numpy as np\n",
    "from scipy.sparse import lil_matrix\n",
    "import time"
   ]
  },
  {
   "cell_type": "markdown",
   "id": "e1b70464-e3af-4228-a925-0b01d8b5c272",
   "metadata": {},
   "source": [
    "Provem de crear una matriu densa amb `numpy` de 100.000 x 100.000 elements"
   ]
  },
  {
   "cell_type": "code",
   "execution_count": 2,
   "id": "a5583f77-c62b-4113-a8f3-318ecaf8020f",
   "metadata": {},
   "outputs": [],
   "source": [
    "a = np.empty((10000, 10000))"
   ]
  },
  {
   "cell_type": "markdown",
   "id": "710460cb-9eab-4e13-b59a-2893614ef64e",
   "metadata": {},
   "source": [
    "Provem ara de crear la mateixa matriu però en format *sparse* utilitzant la representació `lil`."
   ]
  },
  {
   "cell_type": "code",
   "execution_count": 3,
   "id": "1cb12999-a578-48f0-bc12-9b629738f561",
   "metadata": {},
   "outputs": [],
   "source": [
    "a = lil_matrix((100000, 100000))"
   ]
  },
  {
   "cell_type": "markdown",
   "id": "f8bb2b3b-18cc-4167-8ec3-f1444d039cfa",
   "metadata": {},
   "source": [
    "Inicialitzem la matriu amb valors aleatoris"
   ]
  },
  {
   "cell_type": "code",
   "execution_count": 4,
   "id": "ace0162b-3e72-40cd-bcb9-dbf36e93de0e",
   "metadata": {},
   "outputs": [],
   "source": [
    "import random\n",
    "for i in range(1000000):\n",
    "    fil = random.randrange(0,100000)\n",
    "    col = random.randrange(0,100000)\n",
    "    a[fil,col] = 1"
   ]
  },
  {
   "cell_type": "markdown",
   "id": "e05b78d3-3781-4ae7-93b8-d4083da12f83",
   "metadata": {},
   "source": [
    "Amb les matrius *sparse* podem fer pràcticament totes les mateixes operacions que podem fer amb les matrius denses amb `numpy`: operacions aritmètiques, càlculs agregats (suma, mitjana, etc.), indexació, ..."
   ]
  },
  {
   "cell_type": "code",
   "execution_count": 5,
   "id": "ffd3385a-7542-45ed-859a-25342305d7f8",
   "metadata": {},
   "outputs": [
    {
     "name": "stdout",
     "output_type": "stream",
     "text": [
      "999938.0 9.999379999999999e-05\n"
     ]
    }
   ],
   "source": [
    "print(a.sum(), a.mean())"
   ]
  },
  {
   "cell_type": "code",
   "execution_count": 6,
   "id": "13b2a642-77cb-4483-be66-65ed6561797e",
   "metadata": {},
   "outputs": [
    {
     "name": "stdout",
     "output_type": "stream",
     "text": [
      "[[11.]\n",
      " [ 8.]\n",
      " [10.]\n",
      " ...\n",
      " [11.]\n",
      " [11.]\n",
      " [15.]]\n"
     ]
    }
   ],
   "source": [
    "# suma de tots els elements de les files\n",
    "print(a.sum(1))"
   ]
  },
  {
   "cell_type": "code",
   "execution_count": 7,
   "id": "033061c9-2284-4391-9a93-6ce86563674c",
   "metadata": {},
   "outputs": [
    {
     "name": "stdout",
     "output_type": "stream",
     "text": [
      "[[12. 12. 15. ... 13.  9.  9.]]\n"
     ]
    }
   ],
   "source": [
    "# suma de tots els elements de les columnes\n",
    "print(a.sum(0))"
   ]
  },
  {
   "cell_type": "code",
   "execution_count": 8,
   "id": "f6b1c915-b60e-450f-a11a-8f829278d725",
   "metadata": {},
   "outputs": [
    {
     "name": "stdout",
     "output_type": "stream",
     "text": [
      "  (0, 8300)\t1.0\n",
      "  (0, 8382)\t1.0\n",
      "  (0, 11627)\t1.0\n",
      "  (0, 13116)\t1.0\n",
      "  (0, 26155)\t1.0\n",
      "  (0, 54832)\t1.0\n",
      "  (0, 97233)\t1.0\n",
      "  (0, 99793)\t1.0\n",
      "  (9299, 0)\t1.0\n",
      "  (10555, 0)\t1.0\n",
      "  (14047, 0)\t1.0\n",
      "  (24493, 0)\t1.0\n",
      "  (25428, 0)\t1.0\n",
      "  (27595, 0)\t1.0\n",
      "  (40006, 0)\t1.0\n",
      "  (79845, 0)\t1.0\n",
      "  (82456, 0)\t1.0\n",
      "  (85325, 0)\t1.0\n",
      "  (88815, 0)\t1.0\n",
      "  (97052, 0)\t1.0\n"
     ]
    }
   ],
   "source": [
    "# indexació per files o columnes\n",
    "print(a[1,:])\n",
    "print(a[:,1])"
   ]
  },
  {
   "cell_type": "code",
   "execution_count": 9,
   "id": "ba43d952-6b06-4922-b10f-9986eb084398",
   "metadata": {},
   "outputs": [
    {
     "name": "stdout",
     "output_type": "stream",
     "text": [
      "  (0, 8300)\tTrue\n",
      "  (0, 8382)\tTrue\n",
      "  (0, 11627)\tTrue\n",
      "  (0, 13116)\tTrue\n",
      "  (0, 26155)\tTrue\n",
      "  (0, 54832)\tTrue\n",
      "  (0, 97233)\tTrue\n",
      "  (0, 99793)\tTrue\n",
      "  (0, 8300)\t2.0\n",
      "  (0, 8382)\t2.0\n",
      "  (0, 11627)\t2.0\n",
      "  (0, 13116)\t2.0\n",
      "  (0, 26155)\t2.0\n",
      "  (0, 54832)\t2.0\n",
      "  (0, 97233)\t2.0\n",
      "  (0, 99793)\t2.0\n"
     ]
    }
   ],
   "source": [
    "# Indexacio amb elements booleans\n",
    "b = a[1,:] == 1.0\n",
    "print(b)\n",
    "a[a != 0] = 2.0\n",
    "print(a[1,:])"
   ]
  },
  {
   "cell_type": "code",
   "execution_count": 10,
   "id": "0ce1bbd3-1661-4320-9bc2-4aef143a7c8c",
   "metadata": {},
   "outputs": [
    {
     "name": "stdout",
     "output_type": "stream",
     "text": [
      "  (0, 1)\t10.0\n",
      "  (0, 3)\t10.0\n",
      "  (0, 5)\t10.0\n",
      "  (0, 8300)\t2.0\n",
      "  (0, 8382)\t2.0\n",
      "  (0, 11627)\t2.0\n",
      "  (0, 13116)\t2.0\n",
      "  (0, 26155)\t2.0\n",
      "  (0, 54832)\t2.0\n",
      "  (0, 97233)\t2.0\n",
      "  (0, 99793)\t2.0\n"
     ]
    }
   ],
   "source": [
    "# Indexació amb llistes de índexs enters\n",
    "idxs = [1, 3, 5]\n",
    "a[1,idxs] = 10\n",
    "fila = a[1,:]\n",
    "print(fila)"
   ]
  },
  {
   "cell_type": "markdown",
   "id": "d15b0f27-1cca-4568-a1b5-d9edf48fec32",
   "metadata": {},
   "source": [
    "Segons el tipus d'operació que vulguem fer pot ser més convenient guardar la matriu en diferents formats. Per exemple el format `lil` és adequat si volem fer operacions per les files de la matriu. En canvi, si volem treballar amb les columnes pot ser més eficient utilitzar el format `csc`."
   ]
  },
  {
   "cell_type": "code",
   "execution_count": 11,
   "id": "7ac12942-be98-488d-a952-b632cc8cc036",
   "metadata": {},
   "outputs": [
    {
     "name": "stdout",
     "output_type": "stream",
     "text": [
      "[[22.]\n",
      " [46.]\n",
      " [20.]\n",
      " ...\n",
      " [22.]\n",
      " [22.]\n",
      " [30.]]\n",
      "0.0645139217376709\n"
     ]
    }
   ],
   "source": [
    "# suma per files\n",
    "start = time.time()\n",
    "print(a.sum(1))\n",
    "end = time.time()\n",
    "print(end - start)"
   ]
  },
  {
   "cell_type": "code",
   "execution_count": 12,
   "id": "e4abe8c2-77c2-4d2c-ada1-88722d3e7335",
   "metadata": {},
   "outputs": [
    {
     "name": "stdout",
     "output_type": "stream",
     "text": [
      "[[24. 34. 30. ... 26. 18. 18.]]\n",
      "0.5141887664794922\n"
     ]
    }
   ],
   "source": [
    "# suma per columnes\n",
    "start = time.time()\n",
    "print(a.sum(0))\n",
    "end = time.time()\n",
    "print(end - start)"
   ]
  },
  {
   "cell_type": "code",
   "execution_count": 13,
   "id": "f26f0bed-47ca-4e64-ac66-fdb89bedeb92",
   "metadata": {},
   "outputs": [
    {
     "name": "stdout",
     "output_type": "stream",
     "text": [
      "[[24. 34. 30. ... 26. 18. 18.]]\n",
      "0.10441851615905762\n"
     ]
    }
   ],
   "source": [
    "# conversió de format i suma per columnes\n",
    "start = time.time()\n",
    "b = a.tocsc()\n",
    "print(b.sum(0))\n",
    "end = time.time()\n",
    "print(end - start)"
   ]
  },
  {
   "cell_type": "markdown",
   "id": "c014e224-b465-4ff5-af17-4ee06623273f",
   "metadata": {},
   "source": [
    "### **Eficiència de les operacions**"
   ]
  },
  {
   "cell_type": "markdown",
   "id": "fd0458cf-7edd-468c-86e0-2f4d1b3aa911",
   "metadata": {},
   "source": [
    "Hem de procurar utilitzar al màxim les possibilitats de manipulació de les matrius que ens ofereixen tant les matrius *sparse* com les matrius denses en `numpy` ja que sempre seran més eficients que realitzar el càlcul en el nostre codi amb bucles. Hem d'evitar al màxim possible la utilització de bucles per recórrer els elements de les matrius."
   ]
  },
  {
   "cell_type": "code",
   "execution_count": 14,
   "id": "8a0c0ff0-3931-4cb5-8280-7004a04fc619",
   "metadata": {},
   "outputs": [
    {
     "name": "stdout",
     "output_type": "stream",
     "text": [
      "7.31172776222229\n",
      "[11. 11. 10. ... 11. 11. 15.]\n"
     ]
    }
   ],
   "source": [
    "def get_num_vots_users(matrix):\n",
    "    num_vots = np.zeros(matrix.shape[0])\n",
    "    for i in range(matrix.shape[0]):\n",
    "        num_vots[i] = matrix[i,:].count_nonzero()\n",
    "    return num_vots\n",
    "\n",
    "start = time.time()\n",
    "n_vots = get_num_vots_users(a)\n",
    "end = time.time()\n",
    "print(end - start)\n",
    "print(n_vots)"
   ]
  },
  {
   "cell_type": "code",
   "execution_count": 15,
   "id": "9496cb27-4879-4cba-831d-c28835173a43",
   "metadata": {},
   "outputs": [
    {
     "name": "stdout",
     "output_type": "stream",
     "text": [
      "0.0781404972076416\n",
      "[[11]\n",
      " [11]\n",
      " [10]\n",
      " ...\n",
      " [11]\n",
      " [11]\n",
      " [15]]\n"
     ]
    }
   ],
   "source": [
    "def get_num_vots_users(matrix):\n",
    "    return (matrix != 0).sum(1)\n",
    "\n",
    "start = time.time()\n",
    "n_vots = get_num_vots_users(a)\n",
    "end = time.time()\n",
    "print(end - start)\n",
    "print(n_vots)"
   ]
  }
 ],
 "metadata": {
  "kernelspec": {
   "display_name": "Python 3 (ipykernel)",
   "language": "python",
   "name": "python3"
  },
  "language_info": {
   "codemirror_mode": {
    "name": "ipython",
    "version": 3
   },
   "file_extension": ".py",
   "mimetype": "text/x-python",
   "name": "python",
   "nbconvert_exporter": "python",
   "pygments_lexer": "ipython3",
   "version": "3.11.2"
  }
 },
 "nbformat": 4,
 "nbformat_minor": 5
}
