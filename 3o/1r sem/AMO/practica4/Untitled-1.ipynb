{
 "cells": [
  {
   "cell_type": "markdown",
   "metadata": {},
   "source": [
    "# Import Required Libraries\n",
    "Import the necessary libraries, including random and string."
   ]
  },
  {
   "cell_type": "code",
   "execution_count": 28,
   "metadata": {},
   "outputs": [],
   "source": [
    "import random\n",
    "import string"
   ]
  },
  {
   "cell_type": "markdown",
   "metadata": {},
   "source": [
    "# Define Parameters\n",
    "Define the parameters for the genetic algorithm, such as population size, word length, and target word."
   ]
  },
  {
   "cell_type": "code",
   "execution_count": 29,
   "metadata": {},
   "outputs": [],
   "source": [
    "# Define Parameters\n",
    "\n",
    "# Parameters for the genetic algorithm\n",
    "tamany_poblacio = 10  # Population size\n",
    "longitud_paraula = 3  # Length of the word\n",
    "lletra_objectiu = \"CAT\"  # Target word\n",
    "\n",
    "# Optional: Seed the random number generator for reproducibility\n",
    "# random.seed(1666540)"
   ]
  },
  {
   "cell_type": "markdown",
   "metadata": {},
   "source": [
    "# Generate Initial Population\n",
    "Generate the initial population of random words."
   ]
  },
  {
   "cell_type": "code",
   "execution_count": 30,
   "metadata": {},
   "outputs": [
    {
     "name": "stdout",
     "output_type": "stream",
     "text": [
      "Població inicial: ['UTS', 'LLJ', 'EVS', 'TAY', 'KHG', 'LHN', 'GKE', 'IDO', 'BXL', 'JST']\n"
     ]
    }
   ],
   "source": [
    "# Generate Initial Population\n",
    "\n",
    "# Function to generate a random string of fixed length\n",
    "def generar_cadena():\n",
    "    return \"\".join(random.choice(string.ascii_uppercase) for _ in range(longitud_paraula))\n",
    "\n",
    "# Generate initial population\n",
    "poblacio = [generar_cadena() for _ in range(tamany_poblacio)]\n",
    "print(\"Població inicial:\", poblacio)"
   ]
  },
  {
   "cell_type": "markdown",
   "metadata": {},
   "source": [
    "# Calculate Fitness\n",
    "Define the fitness function and calculate the fitness of the initial population."
   ]
  },
  {
   "cell_type": "code",
   "execution_count": 31,
   "metadata": {},
   "outputs": [
    {
     "name": "stdout",
     "output_type": "stream",
     "text": [
      "Fitness de la població: [0, 0, 0, 1, 0, 0, 0, 0, 0, 1]\n"
     ]
    }
   ],
   "source": [
    "# Define the fitness function\n",
    "def calcular_fitness(cadena):\n",
    "    return sum(1 if cadena[i] == lletra_objectiu[i] else 0 for i in range(len(cadena)))\n",
    "\n",
    "# Calculate the fitness of the initial population\n",
    "fitness = [calcular_fitness(cadena) for cadena in poblacio]\n",
    "print(\"Fitness de la població:\", fitness)"
   ]
  },
  {
   "cell_type": "markdown",
   "metadata": {},
   "source": [
    "# Selection\n",
    "Define the selection function and select parents based on their fitness."
   ]
  },
  {
   "cell_type": "code",
   "execution_count": 32,
   "metadata": {},
   "outputs": [
    {
     "name": "stdout",
     "output_type": "stream",
     "text": [
      "Pares seleccionats: ['JST', 'TAY', 'TAY', 'GKE', 'JST']\n"
     ]
    }
   ],
   "source": [
    "# Selection\n",
    "\n",
    "def seleccio(poblacio, fitness, k=3):\n",
    "    pares = []\n",
    "    k = min(k, len(poblacio))  # Ensure k is not larger than the population size\n",
    "    for _ in range(len(poblacio) // 2):\n",
    "        torneig = random.sample(range(len(poblacio)), k)\n",
    "        guanyador = max(torneig, key=lambda i: fitness[i])\n",
    "        pares.append(poblacio[guanyador])\n",
    "    return pares\n",
    "\n",
    "# Select parents based on their fitness\n",
    "pares = seleccio(poblacio, fitness)\n",
    "print(\"Pares seleccionats:\", pares)"
   ]
  },
  {
   "cell_type": "markdown",
   "metadata": {},
   "source": [
    "# Crossover\n",
    "Define the crossover function and generate offspring from selected parents."
   ]
  },
  {
   "cell_type": "code",
   "execution_count": 33,
   "metadata": {},
   "outputs": [
    {
     "name": "stdout",
     "output_type": "stream",
     "text": [
      "Fills després de creuament: ['JSY', 'TAT', 'TKE', 'GAY', 'JST']\n"
     ]
    }
   ],
   "source": [
    "# Crossover\n",
    "\n",
    "# Define the crossover function\n",
    "def creuament(pare1, pare2):\n",
    "    punt = random.randint(1, longitud_paraula - 1)  # Select a crossover point\n",
    "    fill1 = pare1[:punt] + pare2[punt:]  # Create first offspring\n",
    "    fill2 = pare2[:punt] + pare1[punt:]  # Create second offspring\n",
    "    return fill1, fill2\n",
    "\n",
    "# Generate offspring from selected parents\n",
    "fills = []\n",
    "for i in range(0, len(pares) - 1, 2):\n",
    "    pare1, pare2 = pares[i], pares[i + 1]\n",
    "    fill1, fill2 = creuament(pare1, pare2)\n",
    "    fills.extend([fill1, fill2])\n",
    "\n",
    "# If the number of parents is odd, handle the last parent\n",
    "if len(pares) % 2 == 1:\n",
    "    fills.append(pares[-1])\n",
    "\n",
    "print(\"Fills després de creuament:\", fills)"
   ]
  },
  {
   "cell_type": "markdown",
   "metadata": {},
   "source": [
    "# Mutation\n",
    "Define the mutation function and apply mutations to the offspring."
   ]
  },
  {
   "cell_type": "code",
   "execution_count": 34,
   "metadata": {},
   "outputs": [
    {
     "name": "stdout",
     "output_type": "stream",
     "text": [
      "Fills després de mutació: ['JSQ', 'TAT', 'TKE', 'GAY', 'JST']\n"
     ]
    }
   ],
   "source": [
    "# Mutation\n",
    "\n",
    "# Define the mutation function\n",
    "def mutacio(cadena, taxa_mutacio=0.1):\n",
    "    cadena_llista = list(cadena)\n",
    "    for i in range(len(cadena)):\n",
    "        if random.random() < taxa_mutacio:\n",
    "            cadena_llista[i] = random.choice(string.ascii_uppercase)\n",
    "    return \"\".join(cadena_llista)\n",
    "\n",
    "# Apply mutations to the offspring\n",
    "fills_mutats = [mutacio(fill) for fill in fills]\n",
    "print(\"Fills després de mutació:\", fills_mutats)"
   ]
  },
  {
   "cell_type": "markdown",
   "metadata": {},
   "source": [
    "# Create New Population\n",
    "Create a new population from the offspring."
   ]
  },
  {
   "cell_type": "code",
   "execution_count": 35,
   "metadata": {},
   "outputs": [
    {
     "name": "stdout",
     "output_type": "stream",
     "text": [
      "Nova població: ['TAY', 'TAY', 'LLL', 'BXJ']\n"
     ]
    }
   ],
   "source": [
    "# Create New Population\n",
    "\n",
    "# Create a new population from the offspring\n",
    "def nova_poblacio(poblacio, fitness):\n",
    "    pares = seleccio(poblacio, fitness)\n",
    "    fills = []\n",
    "    for pare1, pare2 in zip(pares[::2], pares[1::2]):\n",
    "        fill1, fill2 = creuament(pare1, pare2)\n",
    "        fills.extend([mutacio(fill1), mutacio(fill2)])\n",
    "    return fills\n",
    "\n",
    "# Generate new population\n",
    "poblacio_nova = nova_poblacio(poblacio, fitness)\n",
    "print(\"Nova població:\", poblacio_nova)"
   ]
  },
  {
   "cell_type": "markdown",
   "metadata": {},
   "source": [
    "# Run Genetic Algorithm\n",
    "Run the genetic algorithm iteratively until the target word is found or a maximum number of generations is reached."
   ]
  },
  {
   "cell_type": "code",
   "execution_count": 36,
   "metadata": {},
   "outputs": [
    {
     "name": "stdout",
     "output_type": "stream",
     "text": [
      "Generació 0: Millor fitness = 1\n",
      "Generació 1: Millor fitness = 1\n",
      "Generació 2: Millor fitness = 1\n",
      "La població està buida.\n"
     ]
    }
   ],
   "source": [
    "# Run Genetic Algorithm\n",
    "\n",
    "# Parameters for the genetic algorithm\n",
    "max_generacions = 1000  # Maximum number of generations\n",
    "\n",
    "# Run the genetic algorithm\n",
    "for generacio in range(max_generacions):\n",
    "    # Calculate fitness of the population\n",
    "    fitness = [calcular_fitness(cadena) for cadena in poblacio]\n",
    "    \n",
    "    # Check if the target word is found\n",
    "    if lletra_objectiu in poblacio:\n",
    "        print(f\"Paraula objectiu trobada a la generació {generacio}: {lletra_objectiu}\")\n",
    "        break\n",
    "    \n",
    "    # Check if the population is empty\n",
    "    if not poblacio:\n",
    "        print(\"La població està buida.\")\n",
    "        break\n",
    "    \n",
    "    # Generate new population\n",
    "    poblacio = nova_poblacio(poblacio, fitness)\n",
    "    \n",
    "    # Print the current generation and best fitness\n",
    "    if fitness:  # Ensure fitness is not empty\n",
    "        millor_fitness = max(fitness)\n",
    "        print(f\"Generació {generacio}: Millor fitness = {millor_fitness}\")\n",
    "    else:\n",
    "        print(f\"Generació {generacio}: No hi ha individus a la població.\")\n",
    "\n",
    "# If the loop completes without finding the target word\n",
    "else:\n",
    "    print(\"No s'ha trobat la paraula objectiu.\")"
   ]
  }
 ],
 "metadata": {
  "kernelspec": {
   "display_name": "Python 3",
   "language": "python",
   "name": "python3"
  },
  "language_info": {
   "codemirror_mode": {
    "name": "ipython",
    "version": 3
   },
   "file_extension": ".py",
   "mimetype": "text/x-python",
   "name": "python",
   "nbconvert_exporter": "python",
   "pygments_lexer": "ipython3",
   "version": "3.13.0"
  }
 },
 "nbformat": 4,
 "nbformat_minor": 2
}
