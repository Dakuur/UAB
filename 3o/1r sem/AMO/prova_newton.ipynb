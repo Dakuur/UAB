{
 "cells": [
  {
   "cell_type": "code",
   "execution_count": 5,
   "metadata": {},
   "outputs": [
    {
     "name": "stdout",
     "output_type": "stream",
     "text": [
      "   Iter        xi     f(xi)    f'(xi)    f''(xi)      xi+1   f(xi+1)     Error\n",
      "0     1  0.785398  4.828427  2.828427 -10.828427 -0.921709 -5.112679  1.707107\n",
      "1     2 -0.921709 -5.112679  1.340814  10.891090  2.891408  0.030832  3.813117\n",
      "2     3  2.891408  0.030832 -0.365844   2.847663  2.975685  0.009071  0.084277\n",
      "3     4  2.975685  0.009071 -0.163265   1.945488  3.031243  0.002679  0.055558\n",
      "4     5  3.031243  0.002679 -0.072692   1.310795  3.068101  0.000793  0.036858\n"
     ]
    }
   ],
   "source": [
    "import numpy as np\n",
    "import pandas as pd\n",
    "\n",
    "# Definimos la función f(x) y sus derivadas\n",
    "def f(x):\n",
    "    return 4 * np.sin(x) * (1 + np.cos(x))\n",
    "\n",
    "def df(x):\n",
    "    return (1+np.cos(x))*4*np.cos(x)-4*np.sin(x)**2\n",
    "\n",
    "def d2f(x):\n",
    "    return (-16*np.cos(x)-4)*np.sin(x)\n",
    "\n",
    "# Parámetros iniciales\n",
    "x0 = np.pi / 4\n",
    "n_iter = 5  # Número de iteraciones\n",
    "tolerance = 1e-6\n",
    "\n",
    "# Creamos una lista para almacenar los datos de la tabla\n",
    "data = []\n",
    "\n",
    "# Método de Newton\n",
    "for i in range(n_iter):\n",
    "    f_xi = f(x0)\n",
    "    df_xi = df(x0)\n",
    "    d2f_xi = d2f(x0)\n",
    "    x_next = x0 - f_xi / df_xi\n",
    "    f_x_next = f(x_next)\n",
    "    error = abs(x_next - x0)\n",
    "    \n",
    "    # Guardamos los datos en la lista\n",
    "    data.append([i + 1, x0, f_xi, df_xi, d2f_xi, x_next, f_x_next, error])\n",
    "    \n",
    "    # Actualizamos el valor de x0\n",
    "    x0 = x_next\n",
    "    \n",
    "    # Condición de parada (opcional)\n",
    "    if error < tolerance:\n",
    "        break\n",
    "\n",
    "# Creamos el DataFrame\n",
    "df = pd.DataFrame(data, columns=['Iter', 'xi', 'f(xi)', \"f'(xi)\", \"f''(xi)\", 'xi+1', 'f(xi+1)', 'Error'])\n",
    "\n",
    "# Mostramos la tabla\n",
    "print(df)\n"
   ]
  }
 ],
 "metadata": {
  "kernelspec": {
   "display_name": "usr",
   "language": "python",
   "name": "python3"
  },
  "language_info": {
   "codemirror_mode": {
    "name": "ipython",
    "version": 3
   },
   "file_extension": ".py",
   "mimetype": "text/x-python",
   "name": "python",
   "nbconvert_exporter": "python",
   "pygments_lexer": "ipython3",
   "version": "3.12.3"
  }
 },
 "nbformat": 4,
 "nbformat_minor": 2
}
