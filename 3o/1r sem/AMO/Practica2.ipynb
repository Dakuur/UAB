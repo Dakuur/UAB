{
 "cells": [
  {
   "cell_type": "markdown",
   "metadata": {},
   "source": [
    "***Nom: David Morillo Massagué***\n",
    "\n",
    "***NIU: 1666540***"
   ]
  },
  {
   "cell_type": "markdown",
   "metadata": {},
   "source": [
    "Utilitzant linprog:"
   ]
  },
  {
   "cell_type": "code",
   "execution_count": 1,
   "metadata": {},
   "outputs": [
    {
     "name": "stdout",
     "output_type": "stream",
     "text": [
      "Estado: Optimization terminated successfully. (HiGHS Status 7: Optimal)\n",
      "Valor óptimo de x1: 6.5\n",
      "Valor óptimo de x2: 3.5\n",
      "Valor óptimo de Z: 53.5\n"
     ]
    }
   ],
   "source": [
    "from scipy.optimize import linprog\n",
    "\n",
    "# Coef funcion z (equivalente a minimizar -5x1 - 6x2)\n",
    "c = [-5, -6]\n",
    "\n",
    "# Coef restricciones (minimizando el contrario)\n",
    "A = [\n",
    "    [1, 1],     # x1 + x2 <= 10\n",
    "    [-1, 1],    # equivalente a x1 - x2 >= 3 \n",
    "    [-5, -4]    # equivalente a 5x1 + 4x2 >= 35\n",
    "]\n",
    "\n",
    "# Costado derecho de las restricciones\n",
    "b = [10, -3, -35]\n",
    "\n",
    "# Límite para las variables x1 y x2\n",
    "x1_bounds = (0, None)\n",
    "x2_bounds = (0, None)\n",
    "\n",
    "# Solve\n",
    "res = linprog(c, A_ub=A, b_ub=b, bounds=[x1_bounds, x2_bounds], method='highs')\n",
    "\n",
    "# Resultados\n",
    "print(f\"Estado: {res.message}\")\n",
    "print(f\"Valor óptimo de x1: {res.x[0]}\")\n",
    "print(f\"Valor óptimo de x2: {res.x[1]}\")\n",
    "print(f\"Valor óptimo de Z: {-res.fun}\")\n"
   ]
  },
  {
   "cell_type": "markdown",
   "metadata": {},
   "source": [
    "Utilitzant pulp:"
   ]
  },
  {
   "cell_type": "code",
   "execution_count": 2,
   "metadata": {},
   "outputs": [
    {
     "name": "stdout",
     "output_type": "stream",
     "text": [
      "Estado: Optimal\n",
      "Valor óptimo de x1: 6.5\n",
      "Valor óptimo de x2: 3.5\n",
      "Valor óptimo de Z: 53.5\n"
     ]
    }
   ],
   "source": [
    "import pulp\n",
    "\n",
    "# Problema\n",
    "model = pulp.LpProblem(\"Maximization Problem\", pulp.LpMaximize)\n",
    "\n",
    "# Variables\n",
    "x1 = pulp.LpVariable('x1', lowBound=0)  # x1 >= 0\n",
    "x2 = pulp.LpVariable('x2', lowBound=0)  # x2 >= 0\n",
    "\n",
    "# Función objetivo\n",
    "model += 5 * x1 + 6 * x2, \"Z\"\n",
    "\n",
    "# Restricciones\n",
    "model += x1 + x2 <= 10, \"R1\"\n",
    "model += x1 - x2 >= 3, \"R2\"\n",
    "model += 5 * x1 + 4 * x2 >= 35, \"R3\"\n",
    "\n",
    "# Resolver\n",
    "model.solve()\n",
    "\n",
    "# Imprimir\n",
    "print(f\"Estado: {pulp.LpStatus[model.status]}\")\n",
    "print(f\"Valor óptimo de x1: {x1.varValue}\")\n",
    "print(f\"Valor óptimo de x2: {x2.varValue}\")\n",
    "print(f\"Valor óptimo de Z: {pulp.value(model.objective)}\")\n"
   ]
  }
 ],
 "metadata": {
  "kernelspec": {
   "display_name": "Python 3",
   "language": "python",
   "name": "python3"
  },
  "language_info": {
   "codemirror_mode": {
    "name": "ipython",
    "version": 3
   },
   "file_extension": ".py",
   "mimetype": "text/x-python",
   "name": "python",
   "nbconvert_exporter": "python",
   "pygments_lexer": "ipython3",
   "version": "3.12.2"
  }
 },
 "nbformat": 4,
 "nbformat_minor": 2
}
