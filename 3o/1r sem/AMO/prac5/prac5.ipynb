{
 "cells": [
  {
   "cell_type": "markdown",
   "metadata": {},
   "source": [
    "Nom: David Morillo Massagué\n",
    "\n",
    "NIU: 1666540"
   ]
  },
  {
   "cell_type": "code",
   "execution_count": null,
   "metadata": {},
   "outputs": [
    {
     "name": "stdout",
     "output_type": "stream",
     "text": [
      "Based on limited information, after an incubation period that could be as short as 2-4 days, the disease presents initially with non-specific flu-like symptoms, including fever, anorexia (loss of appetite), general malaise, diarrhea, and vomiting; a second phase has appeared in some patients, and in\n"
     ]
    }
   ],
   "source": [
    "import pandas as pd\n",
    "from sklearn.feature_extraction.text import TfidfVectorizer\n",
    "from sklearn.metrics.pairwise import cosine_similarity\n",
    "import random\n",
    "\n",
    "# medical questions and answers dataset from kaggle\n",
    "# https://www.kaggle.com/datasets/thedevastator/comprehensive-medical-q-a-dataset\n",
    "df = pd.read_csv(\"medical.csv\")\n",
    "\n",
    "# limitar a 1000 les q/a per a que sigui més ràpid\n",
    "df = df.head(1000)\n",
    "# limitar respostes a 300 caracters\n",
    "df[\"answer\"] = df[\"answer\"].apply(lambda x: x[:300])\n",
    "\n",
    "vectorizer = TfidfVectorizer()\n",
    "tfidf_matrix = vectorizer.fit_transform(df[\"question\"].tolist() + df[\"answer\"].tolist())\n",
    "prompt_vectors = tfidf_matrix[: len(df[\"question\"])]\n",
    "resposta_vectors = tfidf_matrix[len(df[\"question\"]) :]\n",
    "\n",
    "\n",
    "def fitness(prompt_vector, resposta_vector):\n",
    "    return cosine_similarity(prompt_vector, resposta_vector)[0][0]\n",
    "\n",
    "#print(millor_resposta(\"Why do i cough and sneeze?\"))\n",
    "def genetic_algorithm(prompt, generations=100, population_size=20, mutation_rate=0.01):\n",
    "    def create_individual():\n",
    "        return random.sample(range(len(df[\"answer\"])), len(df[\"answer\"]))\n",
    "\n",
    "    def crossover(parent1, parent2):\n",
    "        crossover_point = random.randint(0, len(parent1) - 1)\n",
    "        child = parent1[:crossover_point] + parent2[crossover_point:]\n",
    "        return child\n",
    "\n",
    "    def mutate(individual):\n",
    "        for i in range(len(individual)):\n",
    "            if random.random() < mutation_rate:\n",
    "                swap_with = random.randint(0, len(individual) - 1)\n",
    "                individual[i], individual[swap_with] = individual[swap_with], individual[i]\n",
    "\n",
    "    def fitness_function(individual):\n",
    "        prompt_vector = vectorizer.transform([prompt])\n",
    "        return sum(fitness(prompt_vector, resposta_vectors[i]) for i in individual) / len(individual)\n",
    "\n",
    "    population = [create_individual() for _ in range(population_size)]\n",
    "    for generation in range(generations):\n",
    "        population = sorted(population, key=fitness_function, reverse=True)\n",
    "        next_generation = population[:2]\n",
    "        for _ in range(population_size - 2):\n",
    "            parent1, parent2 = random.sample(population[:10], 2)\n",
    "            child = crossover(parent1, parent2)\n",
    "            mutate(child)\n",
    "            next_generation.append(child)\n",
    "        population = next_generation\n",
    "\n",
    "    best_individual = max(population, key=fitness_function)\n",
    "    best_answer_index = best_individual[0]\n",
    "    return df[\"answer\"][best_answer_index]\n",
    "\n",
    "print(genetic_algorithm(\"How do I prevent parasites?\"))"
   ]
  },
  {
   "cell_type": "code",
   "execution_count": 18,
   "metadata": {},
   "outputs": [
    {
     "name": "stdout",
     "output_type": "stream",
     "text": [
      "Summary : When you cough or sneeze, you send tiny germ-filled droplets into the air. Colds and flu usually spread that way. You can help stop the spread of germs by       - Covering your mouth and nose when you sneeze or cough. Sneeze or cough into your elbow, not your hands.    - Cleaning your hands often - always before you eat or prepare food, and after you use the bathroom or change a diaper     - Avoiding touching your eyes, nose or mouth       Hand washing is one of the most effective and most overlooked ways to stop disease. Soap and water work well to kill germs. Wash for at least 20 seconds and rub your hands briskly. Disposable hand wipes or gel sanitizers also work well.\n"
     ]
    }
   ],
   "source": [
    "df = pd.read_csv(\"medical.csv\")\n",
    "\n",
    "vectorizer = TfidfVectorizer()\n",
    "tfidf_matrix = vectorizer.fit_transform(df[\"question\"].tolist() + df[\"answer\"].tolist())\n",
    "prompt_vectors = tfidf_matrix[: len(df[\"question\"])]\n",
    "resposta_vectors = tfidf_matrix[len(df[\"question\"]) :]\n",
    "\n",
    "def millor_resposta(prompt):\n",
    "    prompt_vector = vectorizer.transform([prompt])\n",
    "    best_answer = None\n",
    "    best_fitness = 0\n",
    "    for i in range(len(df[\"answer\"])):\n",
    "        f = fitness(prompt_vector, resposta_vectors[i])\n",
    "        if f > best_fitness:\n",
    "            best_fitness = f\n",
    "            best_answer = df[\"answer\"][i]\n",
    "    return best_answer\n",
    "\n",
    "print(millor_resposta(\"Why do I cough and sneeze?\"))"
   ]
  },
  {
   "cell_type": "code",
   "execution_count": 19,
   "metadata": {},
   "outputs": [
    {
     "name": "stdout",
     "output_type": "stream",
     "text": [
      "Espaol\n",
      "                \n",
      "A heart attack happens when the flow of oxygen-rich blood to a section of heart muscle suddenly becomes blocked and the heart cant get oxygen. If blood flow isnt restored quickly, the section of heart muscle begins to die.\n",
      "                \n",
      "Heart attack treatment works best when its given right after symptoms occur. If you think you or someone else is having a heart attack, even if youre not sure, call 911 right away.\n",
      "                \n",
      "Overview\n",
      "                \n",
      "Heart attacks most often occur as a result of coronary heart disease (CHD), also called coronary artery disease. CHD is a condition in which a waxy substance called plaque builds up inside the coronary arteries. These arteries supply oxygen-rich blood to your heart.\n",
      "                \n",
      "When plaque builds up in the arteries, the condition is called atherosclerosis. The buildup of plaque occurs over many years.\n",
      "                \n",
      "Eventually, an area of plaque can rupture (break open) inside of an artery. This causes a blood clot to form on the plaque's surface. If the clot becomes large enough, it can mostly or completely block blood flow through a coronary artery.\n",
      "                \n",
      "If the blockage isn't treated quickly, the portion of heart muscle fed by the artery begins to die. Healthy heart tissue is replaced with scar tissue. This heart damage may not be obvious, or it may cause severe or long-lasting problems.\n",
      "                \n",
      "Heart With Muscle Damage and a Blocked Artery\n",
      "                \n",
      "\n",
      "                \n",
      "A less common cause of heart attack is a severe spasm (tightening) of a coronary artery. The spasm cuts off blood flow through the artery. Spasms can occur in coronary arteries that aren't affected by atherosclerosis.\n",
      "                \n",
      "Heart attacks can be associated with or lead to severe health problems, such as heart failure and life-threatening arrhythmias.\n",
      "                \n",
      "Heart failure is a condition in which the heart can't pump enough blood to meet the body's needs. Arrhythmias are irregular heartbeats. Ventricular fibrillation is a life-threatening arrhythmia that can cause death if not treated right away.\n",
      "                \n",
      "Don't Wait--Get Help Quickly\n",
      "                \n",
      "Acting fast at the first sign of heart attack symptoms can save your life and limit damage to your heart. Treatment works best when it's given right after symptoms occur.\n",
      "                \n",
      "\n",
      "                \n",
      "Many people aren't sure what's wrong when they are having symptoms of a heart attack. Some of the most common warning symptoms of a heart attack for both men and women are:\n",
      "                \n",
      "Chest pain or discomfort.Most heart attacks involve discomfort in the center or left side of the chest. The discomfort usually lasts more than a few minutes or goes away and comes back. It can feel like pressure, squeezing, fullness, or pain. It also can feel like heartburn or indigestion.\n",
      "                \n",
      "Upper body discomfort.You may feel pain or discomfort in one or both arms, the back, shoulders, neck, jaw, or upper part of the stomach (above the belly button).\n",
      "                \n",
      "Shortness of breath.This may be your only symptom, or it may occur before or along with chest pain or discomfort. It can occur when you are resting or doing a little bit of physical activity.\n",
      "                \n",
      "Other possible symptoms of a heart attack include:\n",
      "                \n",
      "Breaking out in a cold sweat\n",
      "                \n",
      "Feeling unusually tired for no reason, sometimes for days (especially if you are a woman)\n",
      "                \n",
      "Nausea (feeling sick to the stomach) and vomiting\n",
      "                \n",
      "Light-headedness or sudden dizziness\n",
      "                \n",
      "Any sudden, new symptom or a change in the pattern of symptoms you already have (for example, if your symptoms become stronger or last longer than usual)\n",
      "                \n",
      "Not all heart attacks begin with the sudden, crushing chest pain that often is shown on TV or in the movies, or other common symptoms such as chest discomfort. The symptoms of a heart attack can vary from person to person. Some people can have few symptoms and are surprised to learn they've had a heart attack. If you've already had a heart attack, your symptoms may not be the same for another one.\n",
      "                \n",
      "Quick Action Can Save Your Life: Call 911\n",
      "                \n",
      "If you think you or someone else may be having heart attack symptoms or a heart attack, don't ignore it or feel embarrassed to call for help. Call 911 for emergency medical care. Acting fast can save your life.\n",
      "                \n",
      "Do not drive to the hospital or let someone else drive you. Call an ambulance so that medical personnel can begin life-saving treatment on the way to the emergency room. Take a nitroglycerin pill if your doctor has prescribed this type of treatment.\n"
     ]
    }
   ],
   "source": [
    "print(millor_resposta(\"What are the possible symptoms of a heart attack?\"))"
   ]
  },
  {
   "cell_type": "markdown",
   "metadata": {},
   "source": [
    "**1. Dataset: Quin conjunt de dades heu utilitzat per als prompts i respostes?** Hem utilitzat un dataset de preguntes i respostes en anglès relacionat amb la medicina, trobat a Kaggle: https://www.kaggle.com/datasets/thedevastator/comprehensive-medical-q-a-dataset\n",
    "Conté 60.000 files i les columnes [tipus, pregunta, resposta], les quals només hem utilitzat les columnes pregunta i resposta."
   ]
  },
  {
   "cell_type": "markdown",
   "metadata": {},
   "source": [
    "**2. Funció de Fitness: Quina mètrica de similitud heu escollit per a la funció de fitness?** Hem fet servir la mètrica de similitud de cosinus per comparar les respostes generades amb les respostes reals, ja que és una mètrica comuna per a la comparació de textos, i és fàcil d'utilitzar i comprendre."
   ]
  },
  {
   "cell_type": "markdown",
   "metadata": {},
   "source": [
    "**3. Paràmetres d’Algorisme: Quin efecte heu observat en la qualitat de\n",
    "les respostes en funció de la mida de la població, la taxa de mutació i el\n",
    "nombre de generacions?** En el nostre cas, no hem pogut experimentar molt amb aquestes variables, ja que a l'algoritme genètic les respostes no tenien gaire sentit, i hem pogut executar l'algoritme amb els parametres generations=100, population_size=20, mutation_rate=0.01, amb el dataset limitat a 1000 files. Això ha generat la resposta en més de 20 minuts, i la qualitat de les respostes no era gaire bona. Per tant, no hem pogut fer moltes proves amb aquestes variables."
   ]
  },
  {
   "cell_type": "markdown",
   "metadata": {},
   "source": [
    "**4. Resultats de Qualitat: Quina és la resposta de màxima similitud trobada per un prompt específic? Com compareu aquesta resposta amb les\n",
    "altres respostes possibles?** Hem fet servir dos algoritmes diferents:\n",
    "- **Algoritme purament genètic**: Per a aquest cas, les respostes es generaven a una velocitat molt baixa, i el millor resultat per el prompt \"How do I prevent parasites?\" no tenia gaire sentit (\"Based on limited information, after an incubation period that could be as short as 2-4 days, the disease presents initially with non-specific flu-like symptoms, including fever, anorexia (loss of appetite), general malaise, diarrhea, and vomiting; a second phase has appeared in some patients, and in\").\n",
    "- **Algoritme genètic amb model de llenguatge**: Amb aquest algoritme, les respostes generades eren molt més coherents i semblants a les respostes reals. Per al prompt \"Why do I cough and sneeze?\", la millor resposta generada va ser \"Summary : When you cough or sneeze, you send tiny germ-filled droplets into the air. Colds and flu usually spread that way. [...]\" Aquesta resposta és més coherent i útil que la generada per l'algoritme purament genètic, en la meva opinió.\n",
    "Pel cas del prompt \"What are the possible symptoms of a heart attack?\" ens va retornar la resposta \"A heart attack happens when the flow of oxygen-rich blood to a section of heart muscle suddenly becomes blocked and the heart cant get oxygen. [...]\" que és una resposta que al menys té sentit i és coherent amb el prompt."
   ]
  },
  {
   "cell_type": "markdown",
   "metadata": {},
   "source": [
    "**5. Convergència: Quantes generacions ha necessitat l’algorisme per aconseguir una resposta òptima o propera a l’òptima per als prompts seleccionats?** Com hem dit, l'algoritme genètic no ha pogut generar respostes de qualitat en el temps que hem pogut executar-lo. L'algoritme genètic amb model de llenguatge, en canvi, si que ha generat respostes de qualitat, però no podem extreure les generacions que ha necessitat per arribar a aquestes respostes, ja que fa servir un algoritme de generació diferent."
   ]
  },
  {
   "cell_type": "markdown",
   "metadata": {},
   "source": [
    "**6. Millores Potencials: Quins ajustaments faríeu a la funció de fitness o a l’algorisme per millorar la rellev`ancia de les respostes?** Per a l'algoritme genètic pur, podriem provar d'afegir més generacions, una població més gran i una taxa de mutació més gran per veure si això millora la qualitat de les respostes. Encara que hauriem de provar d'accelerar el porocés per a fer-ho en un temps raonable. Per a l'algoritme genètic amb model de llenguatge, podriem provar d'afegir més dades al model per millorar la qualitat de les respostes generades."
   ]
  }
 ],
 "metadata": {
  "kernelspec": {
   "display_name": "Python 3",
   "language": "python",
   "name": "python3"
  },
  "language_info": {
   "codemirror_mode": {
    "name": "ipython",
    "version": 3
   },
   "file_extension": ".py",
   "mimetype": "text/x-python",
   "name": "python",
   "nbconvert_exporter": "python",
   "pygments_lexer": "ipython3",
   "version": "3.13.0"
  }
 },
 "nbformat": 4,
 "nbformat_minor": 2
}
