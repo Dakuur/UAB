{
 "cells": [
  {
   "cell_type": "markdown",
   "metadata": {},
   "source": [
    "# Pràctica 9: Naive Bayes\n"
   ]
  },
  {
   "cell_type": "markdown",
   "metadata": {},
   "source": [
    "## Introducció\n",
    "\n",
    "Els models Naive Bayes són un grup d’algoritmes de classificació extremadament ràpids i senzills que sovint són adequats per a conjunts de dades de molt alta dimensió.\n",
    "\n",
    "Com que són tan ràpids i tenen tan pocs paràmetres, acaben sent molt útils com a ràpid baseline per a un problemes de classificació senzills.\n",
    "\n",
    "Aquesta secció se centrarà en una explicació intuïtiva de com funcionen els classificadors ingenus de Bayes.\n"
   ]
  },
  {
   "cell_type": "markdown",
   "metadata": {},
   "source": [
    "### Classificació bayesiana\n",
    "\n",
    "Els classificadors de Bayes ingenus es basen en el teorema de Bayes, que és una equació que descriu la relació de probabilitats condicionals de quantitats estadístiques.\n",
    "\n",
    "A la classificació bayesiana, ens interessa trobar la probabilitat d'una etiqueta donades algunes característiques observades, que podem escriure com $ P (y ~|~ X) $.\n",
    "\n",
    "El teorema de Bayes ens explica com expressar-ho en termes de quantitats que podem calcular més directament:\n",
    "\n",
    "$$\n",
    "P(y \\mid x_1, \\dots, x_n) = \\frac{P(y) P(x_1, \\dots, x_n \\mid y)}\n",
    "                                 {P(x_1, \\dots, x_n)}\n",
    "$$\n",
    "\n",
    "Utilitzant l'assumpció ingenua d'independencia condicional, podem simplificar la relació per tot $i$.\n",
    "\n",
    "$$\n",
    "P(y \\mid x_1, \\dots, x_n) = \\frac{P(y) \\prod_{i=1}^{n} P(x_i \\mid y)}\n",
    "                                 {P(x_1, \\dots, x_n)}\n",
    "$$\n",
    "\n",
    "Ja que $P(x_1, \\dots, x_n)$ és constant donada una entrada, es pot utilitzar la següent simplificació, que será donarà un resultat proporcional al real, per tant, tindrem la mateixa sortida.\n",
    "\n",
    "$$ P(y \\mid x_1, \\dots, x_n) \\propto P(y) \\prod_{i=1}^{n} P(x_i \\mid y) $$\n",
    "\n",
    "La classificació final s'obtindrà:\n",
    "\n",
    "$$ \\hat{y} = \\arg\\max_y P(y) \\prod_{i=1}^{n} P(x_i \\mid y) $$\n"
   ]
  },
  {
   "cell_type": "markdown",
   "metadata": {},
   "source": [
    "Tingueu en compte que $P (y)$ també s’anomena **probabilitat de classe** i $P (x_i | y)$ s’anomena **probabilitat condicional**. \n",
    "\n",
    "Els diferents classificadors ingenus de Bayes es diferencien principalment pels supòsits que fan sobre la distribució de $P (x_i | y)$. \n",
    "\n",
    "Intentem aplicar la fórmula anterior manualment al nostre conjunt de dades meteorològiques. \n",
    "    "
   ]
  },
  {
   "cell_type": "markdown",
   "metadata": {},
   "source": [
    "### Exemple:\n",
    "\n",
    "Anem a veure un exemple [(extret d'aquesta web)](https://www.geeksforgeeks.org/naive-bayes-classifiers/). Considereu aquestes dades meteorològiques:"
   ]
  },
  {
   "cell_type": "code",
   "execution_count": 1,
   "metadata": {},
   "outputs": [
    {
     "data": {
      "text/html": [
       "<div>\n",
       "<style scoped>\n",
       "    .dataframe tbody tr th:only-of-type {\n",
       "        vertical-align: middle;\n",
       "    }\n",
       "\n",
       "    .dataframe tbody tr th {\n",
       "        vertical-align: top;\n",
       "    }\n",
       "\n",
       "    .dataframe thead th {\n",
       "        text-align: right;\n",
       "    }\n",
       "</style>\n",
       "<table border=\"1\" class=\"dataframe\">\n",
       "  <thead>\n",
       "    <tr style=\"text-align: right;\">\n",
       "      <th></th>\n",
       "      <th>Outlook</th>\n",
       "      <th>Temperature</th>\n",
       "      <th>Humidity</th>\n",
       "      <th>Windy</th>\n",
       "      <th>PlayGolf</th>\n",
       "    </tr>\n",
       "  </thead>\n",
       "  <tbody>\n",
       "    <tr>\n",
       "      <th>0</th>\n",
       "      <td>Rainy</td>\n",
       "      <td>Hot</td>\n",
       "      <td>High</td>\n",
       "      <td>False</td>\n",
       "      <td>No</td>\n",
       "    </tr>\n",
       "    <tr>\n",
       "      <th>1</th>\n",
       "      <td>Rainy</td>\n",
       "      <td>Hot</td>\n",
       "      <td>High</td>\n",
       "      <td>True</td>\n",
       "      <td>No</td>\n",
       "    </tr>\n",
       "    <tr>\n",
       "      <th>2</th>\n",
       "      <td>Overcast</td>\n",
       "      <td>Hot</td>\n",
       "      <td>High</td>\n",
       "      <td>False</td>\n",
       "      <td>Yes</td>\n",
       "    </tr>\n",
       "    <tr>\n",
       "      <th>3</th>\n",
       "      <td>Sunny</td>\n",
       "      <td>Mild</td>\n",
       "      <td>High</td>\n",
       "      <td>False</td>\n",
       "      <td>Yes</td>\n",
       "    </tr>\n",
       "    <tr>\n",
       "      <th>4</th>\n",
       "      <td>Sunny</td>\n",
       "      <td>Cool</td>\n",
       "      <td>Normal</td>\n",
       "      <td>False</td>\n",
       "      <td>Yes</td>\n",
       "    </tr>\n",
       "    <tr>\n",
       "      <th>5</th>\n",
       "      <td>Sunny</td>\n",
       "      <td>Cool</td>\n",
       "      <td>Normal</td>\n",
       "      <td>True</td>\n",
       "      <td>No</td>\n",
       "    </tr>\n",
       "    <tr>\n",
       "      <th>6</th>\n",
       "      <td>Overcast</td>\n",
       "      <td>Cool</td>\n",
       "      <td>Normal</td>\n",
       "      <td>True</td>\n",
       "      <td>Yes</td>\n",
       "    </tr>\n",
       "    <tr>\n",
       "      <th>7</th>\n",
       "      <td>Rainy</td>\n",
       "      <td>Mild</td>\n",
       "      <td>High</td>\n",
       "      <td>False</td>\n",
       "      <td>No</td>\n",
       "    </tr>\n",
       "    <tr>\n",
       "      <th>8</th>\n",
       "      <td>Rainy</td>\n",
       "      <td>Cool</td>\n",
       "      <td>Normal</td>\n",
       "      <td>False</td>\n",
       "      <td>Yes</td>\n",
       "    </tr>\n",
       "    <tr>\n",
       "      <th>9</th>\n",
       "      <td>Sunny</td>\n",
       "      <td>Mild</td>\n",
       "      <td>Normal</td>\n",
       "      <td>False</td>\n",
       "      <td>Yes</td>\n",
       "    </tr>\n",
       "    <tr>\n",
       "      <th>10</th>\n",
       "      <td>Rainy</td>\n",
       "      <td>Mild</td>\n",
       "      <td>Normal</td>\n",
       "      <td>True</td>\n",
       "      <td>Yes</td>\n",
       "    </tr>\n",
       "    <tr>\n",
       "      <th>11</th>\n",
       "      <td>Overcast</td>\n",
       "      <td>Mild</td>\n",
       "      <td>High</td>\n",
       "      <td>True</td>\n",
       "      <td>Yes</td>\n",
       "    </tr>\n",
       "    <tr>\n",
       "      <th>12</th>\n",
       "      <td>Overcast</td>\n",
       "      <td>Hot</td>\n",
       "      <td>Normal</td>\n",
       "      <td>False</td>\n",
       "      <td>Yes</td>\n",
       "    </tr>\n",
       "    <tr>\n",
       "      <th>13</th>\n",
       "      <td>Sunny</td>\n",
       "      <td>Mild</td>\n",
       "      <td>High</td>\n",
       "      <td>True</td>\n",
       "      <td>No</td>\n",
       "    </tr>\n",
       "  </tbody>\n",
       "</table>\n",
       "</div>"
      ],
      "text/plain": [
       "     Outlook Temperature Humidity  Windy PlayGolf\n",
       "0      Rainy         Hot     High  False       No\n",
       "1      Rainy         Hot     High   True       No\n",
       "2   Overcast         Hot     High  False      Yes\n",
       "3      Sunny        Mild     High  False      Yes\n",
       "4      Sunny        Cool   Normal  False      Yes\n",
       "5      Sunny        Cool   Normal   True       No\n",
       "6   Overcast        Cool   Normal   True      Yes\n",
       "7      Rainy        Mild     High  False       No\n",
       "8      Rainy        Cool   Normal  False      Yes\n",
       "9      Sunny        Mild   Normal  False      Yes\n",
       "10     Rainy        Mild   Normal   True      Yes\n",
       "11  Overcast        Mild     High   True      Yes\n",
       "12  Overcast         Hot   Normal  False      Yes\n",
       "13     Sunny        Mild     High   True       No"
      ]
     },
     "metadata": {},
     "output_type": "display_data"
    }
   ],
   "source": [
    "import pandas as pd\n",
    "import numpy as np\n",
    "\n",
    "dataGolf = pd.read_csv('playgolf.csv', delimiter=';')\n",
    "display(dataGolf)"
   ]
  },
  {
   "cell_type": "markdown",
   "metadata": {},
   "source": [
    "<font color='blue'> Calcula la freqüència de les decisions de jugar a golf o no jugar, segmentades per cada tipus de pronòstic (Outlook) </font>"
   ]
  },
  {
   "cell_type": "code",
   "execution_count": 2,
   "metadata": {},
   "outputs": [
    {
     "name": "stdout",
     "output_type": "stream",
     "text": [
      "PlayGolf: Yes\n",
      "3\n",
      "4\n",
      "2\n",
      "\n",
      "PlayGolf: No\n",
      "2\n",
      "0\n",
      "3\n",
      "\n",
      " Outlook   PlayGolf\n",
      "Overcast  Yes         4\n",
      "Rainy     No          3\n",
      "          Yes         2\n",
      "Sunny     No          2\n",
      "          Yes         3\n",
      "dtype: int64\n"
     ]
    }
   ],
   "source": [
    "print('PlayGolf: Yes')\n",
    "print(((dataGolf['PlayGolf'] == 'Yes') & (dataGolf['Outlook'] == 'Sunny')).sum())\n",
    "print(((dataGolf['PlayGolf'] == 'Yes') & (dataGolf['Outlook'] == 'Overcast')).sum())\n",
    "print(((dataGolf['PlayGolf'] == 'Yes') & (dataGolf['Outlook'] == 'Rainy')).sum())\n",
    "\n",
    "print('\\nPlayGolf: No')\n",
    "print(((dataGolf['PlayGolf'] == 'No') & (dataGolf['Outlook'] == 'Sunny')).sum())\n",
    "print(((dataGolf['PlayGolf'] == 'No') & (dataGolf['Outlook'] == 'Overcast')).sum())\n",
    "print(((dataGolf['PlayGolf'] == 'No') & (dataGolf['Outlook'] == 'Rainy')).sum())\n",
    "\n",
    "print('\\n', dataGolf.groupby(['Outlook', 'PlayGolf']).size())\n",
    "\n"
   ]
  },
  {
   "cell_type": "markdown",
   "metadata": {},
   "source": [
    "Haurem de fer algunes precomputacions al nostre conjunt de dades. Hem de trobar $P (x_i | y_j)$ per a cada $x_i$ a $X$ i $y_j$ a $y$. Tots aquests càlculs es mostren a les taules següents:\n",
    "\n",
    "\n",
    "<img src=\"https://media.geeksforgeeks.org/wp-content/uploads/naive-bayes-classification.png\" width=500>\n",
    "\n"
   ]
  },
  {
   "cell_type": "markdown",
   "metadata": {},
   "source": [
    "Cada taula ha calculat $P(x_i | y_j)$ per cada $x_i$ en $X$ i $y_j$ en $y$. Per exemple, la probabilitat de jugar a golf donat que la temperatura és fresca, és a dir, $P(temperature = Cool | PlayGolf = Yes) = 3/9$.\n",
    "\n",
    "A més, hem de trobar les probabilitats de classe ($P (y)$). Per exemple, $P (PlayGolf = Yes) = 9/14$.\n",
    "\n",
    "Ja podem fer servir el classificador Naïve de Bayes. Per exemple, si avui tenim aquestes condicions climatològiques, jugarem al golf?"
   ]
  },
  {
   "cell_type": "code",
   "execution_count": 3,
   "metadata": {},
   "outputs": [],
   "source": [
    "import numpy as np\n",
    "\n",
    "today_golf = ['Sunny', 'Hot', 'Normal', False]\n",
    "today_golf = np.array([today_golf], dtype=object)"
   ]
  },
  {
   "cell_type": "markdown",
   "metadata": {},
   "source": [
    "$P(Yes|today) = \\frac{P(Outlook=Sunny|Yes) P(Temperature=Hot|Yes) P(Humidity=Normal|Yes) P(Wind=False|Yes) P(Yes)}{P(today)}$\n",
    "\n",
    "$P(No|today) = \\frac{P(Outlook=Sunny|No) P(Temperature=Hot|No) P(Humidity=Normal|No) P(Wind=False|No) P(No)}{P(today)}$\n",
    "\n",
    "Ignorem el $P(today)$ per què es comú a les dues probabilitats, i calculem:\n",
    "\n",
    "$$P(Yes|today) \\propto \\frac{3}{9}·\\frac{2}{9}·\\frac{6}{9}·\\frac{6}{9}·\\frac{9}{14} \\simeq 0.0212 $$\n",
    "\n",
    "\n",
    "$$P(No|today) \\propto \\frac{2}{5}·\\frac{2}{5}·\\frac{1}{5}·\\frac{2}{5}·\\frac{5}{14} \\simeq 0.0046 $$\n",
    "\n",
    "Podem normalitzar-ho per sumar 1, \n",
    "$$P(Yes|today) = \\frac{0.0212}{0.0046+0.0212}=0.82$$\n",
    "\n",
    "$$P(No|today) = \\frac{0.0046}{0.0046+0.0212}=0.18$$"
   ]
  },
  {
   "cell_type": "markdown",
   "metadata": {},
   "source": [
    "Per poder-ho automatizar podem usar els classificadors bayesians del sklearn com ara el [CategoricalNB](https://scikit-learn.org/stable/modules/generated/sklearn.naive_bayes.CategoricalNB.html). El problema és que les dades que li hem de passar són numèriques i haurem de recodificar la mostra matriu de dades.\n",
    "\n",
    "El resultat no es igula ja que les dades en l'exmple gràfic no corresponen al mateix dataset"
   ]
  },
  {
   "cell_type": "markdown",
   "metadata": {},
   "source": [
    "<font color='blue'> Omple els buits del següent codi per codificar de forma numèrica la base de dades i entrenar un Categorical Naive Bayes </font>"
   ]
  },
  {
   "cell_type": "code",
   "execution_count": 4,
   "metadata": {},
   "outputs": [
    {
     "data": {
      "text/plain": [
       "array([[1., 1., 0., 0.],\n",
       "       [1., 1., 0., 1.],\n",
       "       [0., 1., 0., 0.],\n",
       "       [2., 2., 0., 0.],\n",
       "       [2., 0., 1., 0.],\n",
       "       [2., 0., 1., 1.],\n",
       "       [0., 0., 1., 1.],\n",
       "       [1., 2., 0., 0.],\n",
       "       [1., 0., 1., 0.],\n",
       "       [2., 2., 1., 0.],\n",
       "       [1., 2., 1., 1.],\n",
       "       [0., 2., 0., 1.],\n",
       "       [0., 1., 1., 0.],\n",
       "       [2., 2., 0., 1.]])"
      ]
     },
     "metadata": {},
     "output_type": "display_data"
    },
    {
     "name": "stderr",
     "output_type": "stream",
     "text": [
      "c:\\Users\\david\\AppData\\Local\\Programs\\Python\\Python313\\Lib\\site-packages\\sklearn\\naive_bayes.py:1504: RuntimeWarning: divide by zero encountered in log\n",
      "  np.log(smoothed_cat_count) - np.log(smoothed_class_count.reshape(-1, 1))\n"
     ]
    },
    {
     "data": {
      "text/html": [
       "<style>#sk-container-id-1 {\n",
       "  /* Definition of color scheme common for light and dark mode */\n",
       "  --sklearn-color-text: black;\n",
       "  --sklearn-color-line: gray;\n",
       "  /* Definition of color scheme for unfitted estimators */\n",
       "  --sklearn-color-unfitted-level-0: #fff5e6;\n",
       "  --sklearn-color-unfitted-level-1: #f6e4d2;\n",
       "  --sklearn-color-unfitted-level-2: #ffe0b3;\n",
       "  --sklearn-color-unfitted-level-3: chocolate;\n",
       "  /* Definition of color scheme for fitted estimators */\n",
       "  --sklearn-color-fitted-level-0: #f0f8ff;\n",
       "  --sklearn-color-fitted-level-1: #d4ebff;\n",
       "  --sklearn-color-fitted-level-2: #b3dbfd;\n",
       "  --sklearn-color-fitted-level-3: cornflowerblue;\n",
       "\n",
       "  /* Specific color for light theme */\n",
       "  --sklearn-color-text-on-default-background: var(--sg-text-color, var(--theme-code-foreground, var(--jp-content-font-color1, black)));\n",
       "  --sklearn-color-background: var(--sg-background-color, var(--theme-background, var(--jp-layout-color0, white)));\n",
       "  --sklearn-color-border-box: var(--sg-text-color, var(--theme-code-foreground, var(--jp-content-font-color1, black)));\n",
       "  --sklearn-color-icon: #696969;\n",
       "\n",
       "  @media (prefers-color-scheme: dark) {\n",
       "    /* Redefinition of color scheme for dark theme */\n",
       "    --sklearn-color-text-on-default-background: var(--sg-text-color, var(--theme-code-foreground, var(--jp-content-font-color1, white)));\n",
       "    --sklearn-color-background: var(--sg-background-color, var(--theme-background, var(--jp-layout-color0, #111)));\n",
       "    --sklearn-color-border-box: var(--sg-text-color, var(--theme-code-foreground, var(--jp-content-font-color1, white)));\n",
       "    --sklearn-color-icon: #878787;\n",
       "  }\n",
       "}\n",
       "\n",
       "#sk-container-id-1 {\n",
       "  color: var(--sklearn-color-text);\n",
       "}\n",
       "\n",
       "#sk-container-id-1 pre {\n",
       "  padding: 0;\n",
       "}\n",
       "\n",
       "#sk-container-id-1 input.sk-hidden--visually {\n",
       "  border: 0;\n",
       "  clip: rect(1px 1px 1px 1px);\n",
       "  clip: rect(1px, 1px, 1px, 1px);\n",
       "  height: 1px;\n",
       "  margin: -1px;\n",
       "  overflow: hidden;\n",
       "  padding: 0;\n",
       "  position: absolute;\n",
       "  width: 1px;\n",
       "}\n",
       "\n",
       "#sk-container-id-1 div.sk-dashed-wrapped {\n",
       "  border: 1px dashed var(--sklearn-color-line);\n",
       "  margin: 0 0.4em 0.5em 0.4em;\n",
       "  box-sizing: border-box;\n",
       "  padding-bottom: 0.4em;\n",
       "  background-color: var(--sklearn-color-background);\n",
       "}\n",
       "\n",
       "#sk-container-id-1 div.sk-container {\n",
       "  /* jupyter's `normalize.less` sets `[hidden] { display: none; }`\n",
       "     but bootstrap.min.css set `[hidden] { display: none !important; }`\n",
       "     so we also need the `!important` here to be able to override the\n",
       "     default hidden behavior on the sphinx rendered scikit-learn.org.\n",
       "     See: https://github.com/scikit-learn/scikit-learn/issues/21755 */\n",
       "  display: inline-block !important;\n",
       "  position: relative;\n",
       "}\n",
       "\n",
       "#sk-container-id-1 div.sk-text-repr-fallback {\n",
       "  display: none;\n",
       "}\n",
       "\n",
       "div.sk-parallel-item,\n",
       "div.sk-serial,\n",
       "div.sk-item {\n",
       "  /* draw centered vertical line to link estimators */\n",
       "  background-image: linear-gradient(var(--sklearn-color-text-on-default-background), var(--sklearn-color-text-on-default-background));\n",
       "  background-size: 2px 100%;\n",
       "  background-repeat: no-repeat;\n",
       "  background-position: center center;\n",
       "}\n",
       "\n",
       "/* Parallel-specific style estimator block */\n",
       "\n",
       "#sk-container-id-1 div.sk-parallel-item::after {\n",
       "  content: \"\";\n",
       "  width: 100%;\n",
       "  border-bottom: 2px solid var(--sklearn-color-text-on-default-background);\n",
       "  flex-grow: 1;\n",
       "}\n",
       "\n",
       "#sk-container-id-1 div.sk-parallel {\n",
       "  display: flex;\n",
       "  align-items: stretch;\n",
       "  justify-content: center;\n",
       "  background-color: var(--sklearn-color-background);\n",
       "  position: relative;\n",
       "}\n",
       "\n",
       "#sk-container-id-1 div.sk-parallel-item {\n",
       "  display: flex;\n",
       "  flex-direction: column;\n",
       "}\n",
       "\n",
       "#sk-container-id-1 div.sk-parallel-item:first-child::after {\n",
       "  align-self: flex-end;\n",
       "  width: 50%;\n",
       "}\n",
       "\n",
       "#sk-container-id-1 div.sk-parallel-item:last-child::after {\n",
       "  align-self: flex-start;\n",
       "  width: 50%;\n",
       "}\n",
       "\n",
       "#sk-container-id-1 div.sk-parallel-item:only-child::after {\n",
       "  width: 0;\n",
       "}\n",
       "\n",
       "/* Serial-specific style estimator block */\n",
       "\n",
       "#sk-container-id-1 div.sk-serial {\n",
       "  display: flex;\n",
       "  flex-direction: column;\n",
       "  align-items: center;\n",
       "  background-color: var(--sklearn-color-background);\n",
       "  padding-right: 1em;\n",
       "  padding-left: 1em;\n",
       "}\n",
       "\n",
       "\n",
       "/* Toggleable style: style used for estimator/Pipeline/ColumnTransformer box that is\n",
       "clickable and can be expanded/collapsed.\n",
       "- Pipeline and ColumnTransformer use this feature and define the default style\n",
       "- Estimators will overwrite some part of the style using the `sk-estimator` class\n",
       "*/\n",
       "\n",
       "/* Pipeline and ColumnTransformer style (default) */\n",
       "\n",
       "#sk-container-id-1 div.sk-toggleable {\n",
       "  /* Default theme specific background. It is overwritten whether we have a\n",
       "  specific estimator or a Pipeline/ColumnTransformer */\n",
       "  background-color: var(--sklearn-color-background);\n",
       "}\n",
       "\n",
       "/* Toggleable label */\n",
       "#sk-container-id-1 label.sk-toggleable__label {\n",
       "  cursor: pointer;\n",
       "  display: block;\n",
       "  width: 100%;\n",
       "  margin-bottom: 0;\n",
       "  padding: 0.5em;\n",
       "  box-sizing: border-box;\n",
       "  text-align: center;\n",
       "}\n",
       "\n",
       "#sk-container-id-1 label.sk-toggleable__label-arrow:before {\n",
       "  /* Arrow on the left of the label */\n",
       "  content: \"▸\";\n",
       "  float: left;\n",
       "  margin-right: 0.25em;\n",
       "  color: var(--sklearn-color-icon);\n",
       "}\n",
       "\n",
       "#sk-container-id-1 label.sk-toggleable__label-arrow:hover:before {\n",
       "  color: var(--sklearn-color-text);\n",
       "}\n",
       "\n",
       "/* Toggleable content - dropdown */\n",
       "\n",
       "#sk-container-id-1 div.sk-toggleable__content {\n",
       "  max-height: 0;\n",
       "  max-width: 0;\n",
       "  overflow: hidden;\n",
       "  text-align: left;\n",
       "  /* unfitted */\n",
       "  background-color: var(--sklearn-color-unfitted-level-0);\n",
       "}\n",
       "\n",
       "#sk-container-id-1 div.sk-toggleable__content.fitted {\n",
       "  /* fitted */\n",
       "  background-color: var(--sklearn-color-fitted-level-0);\n",
       "}\n",
       "\n",
       "#sk-container-id-1 div.sk-toggleable__content pre {\n",
       "  margin: 0.2em;\n",
       "  border-radius: 0.25em;\n",
       "  color: var(--sklearn-color-text);\n",
       "  /* unfitted */\n",
       "  background-color: var(--sklearn-color-unfitted-level-0);\n",
       "}\n",
       "\n",
       "#sk-container-id-1 div.sk-toggleable__content.fitted pre {\n",
       "  /* unfitted */\n",
       "  background-color: var(--sklearn-color-fitted-level-0);\n",
       "}\n",
       "\n",
       "#sk-container-id-1 input.sk-toggleable__control:checked~div.sk-toggleable__content {\n",
       "  /* Expand drop-down */\n",
       "  max-height: 200px;\n",
       "  max-width: 100%;\n",
       "  overflow: auto;\n",
       "}\n",
       "\n",
       "#sk-container-id-1 input.sk-toggleable__control:checked~label.sk-toggleable__label-arrow:before {\n",
       "  content: \"▾\";\n",
       "}\n",
       "\n",
       "/* Pipeline/ColumnTransformer-specific style */\n",
       "\n",
       "#sk-container-id-1 div.sk-label input.sk-toggleable__control:checked~label.sk-toggleable__label {\n",
       "  color: var(--sklearn-color-text);\n",
       "  background-color: var(--sklearn-color-unfitted-level-2);\n",
       "}\n",
       "\n",
       "#sk-container-id-1 div.sk-label.fitted input.sk-toggleable__control:checked~label.sk-toggleable__label {\n",
       "  background-color: var(--sklearn-color-fitted-level-2);\n",
       "}\n",
       "\n",
       "/* Estimator-specific style */\n",
       "\n",
       "/* Colorize estimator box */\n",
       "#sk-container-id-1 div.sk-estimator input.sk-toggleable__control:checked~label.sk-toggleable__label {\n",
       "  /* unfitted */\n",
       "  background-color: var(--sklearn-color-unfitted-level-2);\n",
       "}\n",
       "\n",
       "#sk-container-id-1 div.sk-estimator.fitted input.sk-toggleable__control:checked~label.sk-toggleable__label {\n",
       "  /* fitted */\n",
       "  background-color: var(--sklearn-color-fitted-level-2);\n",
       "}\n",
       "\n",
       "#sk-container-id-1 div.sk-label label.sk-toggleable__label,\n",
       "#sk-container-id-1 div.sk-label label {\n",
       "  /* The background is the default theme color */\n",
       "  color: var(--sklearn-color-text-on-default-background);\n",
       "}\n",
       "\n",
       "/* On hover, darken the color of the background */\n",
       "#sk-container-id-1 div.sk-label:hover label.sk-toggleable__label {\n",
       "  color: var(--sklearn-color-text);\n",
       "  background-color: var(--sklearn-color-unfitted-level-2);\n",
       "}\n",
       "\n",
       "/* Label box, darken color on hover, fitted */\n",
       "#sk-container-id-1 div.sk-label.fitted:hover label.sk-toggleable__label.fitted {\n",
       "  color: var(--sklearn-color-text);\n",
       "  background-color: var(--sklearn-color-fitted-level-2);\n",
       "}\n",
       "\n",
       "/* Estimator label */\n",
       "\n",
       "#sk-container-id-1 div.sk-label label {\n",
       "  font-family: monospace;\n",
       "  font-weight: bold;\n",
       "  display: inline-block;\n",
       "  line-height: 1.2em;\n",
       "}\n",
       "\n",
       "#sk-container-id-1 div.sk-label-container {\n",
       "  text-align: center;\n",
       "}\n",
       "\n",
       "/* Estimator-specific */\n",
       "#sk-container-id-1 div.sk-estimator {\n",
       "  font-family: monospace;\n",
       "  border: 1px dotted var(--sklearn-color-border-box);\n",
       "  border-radius: 0.25em;\n",
       "  box-sizing: border-box;\n",
       "  margin-bottom: 0.5em;\n",
       "  /* unfitted */\n",
       "  background-color: var(--sklearn-color-unfitted-level-0);\n",
       "}\n",
       "\n",
       "#sk-container-id-1 div.sk-estimator.fitted {\n",
       "  /* fitted */\n",
       "  background-color: var(--sklearn-color-fitted-level-0);\n",
       "}\n",
       "\n",
       "/* on hover */\n",
       "#sk-container-id-1 div.sk-estimator:hover {\n",
       "  /* unfitted */\n",
       "  background-color: var(--sklearn-color-unfitted-level-2);\n",
       "}\n",
       "\n",
       "#sk-container-id-1 div.sk-estimator.fitted:hover {\n",
       "  /* fitted */\n",
       "  background-color: var(--sklearn-color-fitted-level-2);\n",
       "}\n",
       "\n",
       "/* Specification for estimator info (e.g. \"i\" and \"?\") */\n",
       "\n",
       "/* Common style for \"i\" and \"?\" */\n",
       "\n",
       ".sk-estimator-doc-link,\n",
       "a:link.sk-estimator-doc-link,\n",
       "a:visited.sk-estimator-doc-link {\n",
       "  float: right;\n",
       "  font-size: smaller;\n",
       "  line-height: 1em;\n",
       "  font-family: monospace;\n",
       "  background-color: var(--sklearn-color-background);\n",
       "  border-radius: 1em;\n",
       "  height: 1em;\n",
       "  width: 1em;\n",
       "  text-decoration: none !important;\n",
       "  margin-left: 1ex;\n",
       "  /* unfitted */\n",
       "  border: var(--sklearn-color-unfitted-level-1) 1pt solid;\n",
       "  color: var(--sklearn-color-unfitted-level-1);\n",
       "}\n",
       "\n",
       ".sk-estimator-doc-link.fitted,\n",
       "a:link.sk-estimator-doc-link.fitted,\n",
       "a:visited.sk-estimator-doc-link.fitted {\n",
       "  /* fitted */\n",
       "  border: var(--sklearn-color-fitted-level-1) 1pt solid;\n",
       "  color: var(--sklearn-color-fitted-level-1);\n",
       "}\n",
       "\n",
       "/* On hover */\n",
       "div.sk-estimator:hover .sk-estimator-doc-link:hover,\n",
       ".sk-estimator-doc-link:hover,\n",
       "div.sk-label-container:hover .sk-estimator-doc-link:hover,\n",
       ".sk-estimator-doc-link:hover {\n",
       "  /* unfitted */\n",
       "  background-color: var(--sklearn-color-unfitted-level-3);\n",
       "  color: var(--sklearn-color-background);\n",
       "  text-decoration: none;\n",
       "}\n",
       "\n",
       "div.sk-estimator.fitted:hover .sk-estimator-doc-link.fitted:hover,\n",
       ".sk-estimator-doc-link.fitted:hover,\n",
       "div.sk-label-container:hover .sk-estimator-doc-link.fitted:hover,\n",
       ".sk-estimator-doc-link.fitted:hover {\n",
       "  /* fitted */\n",
       "  background-color: var(--sklearn-color-fitted-level-3);\n",
       "  color: var(--sklearn-color-background);\n",
       "  text-decoration: none;\n",
       "}\n",
       "\n",
       "/* Span, style for the box shown on hovering the info icon */\n",
       ".sk-estimator-doc-link span {\n",
       "  display: none;\n",
       "  z-index: 9999;\n",
       "  position: relative;\n",
       "  font-weight: normal;\n",
       "  right: .2ex;\n",
       "  padding: .5ex;\n",
       "  margin: .5ex;\n",
       "  width: min-content;\n",
       "  min-width: 20ex;\n",
       "  max-width: 50ex;\n",
       "  color: var(--sklearn-color-text);\n",
       "  box-shadow: 2pt 2pt 4pt #999;\n",
       "  /* unfitted */\n",
       "  background: var(--sklearn-color-unfitted-level-0);\n",
       "  border: .5pt solid var(--sklearn-color-unfitted-level-3);\n",
       "}\n",
       "\n",
       ".sk-estimator-doc-link.fitted span {\n",
       "  /* fitted */\n",
       "  background: var(--sklearn-color-fitted-level-0);\n",
       "  border: var(--sklearn-color-fitted-level-3);\n",
       "}\n",
       "\n",
       ".sk-estimator-doc-link:hover span {\n",
       "  display: block;\n",
       "}\n",
       "\n",
       "/* \"?\"-specific style due to the `<a>` HTML tag */\n",
       "\n",
       "#sk-container-id-1 a.estimator_doc_link {\n",
       "  float: right;\n",
       "  font-size: 1rem;\n",
       "  line-height: 1em;\n",
       "  font-family: monospace;\n",
       "  background-color: var(--sklearn-color-background);\n",
       "  border-radius: 1rem;\n",
       "  height: 1rem;\n",
       "  width: 1rem;\n",
       "  text-decoration: none;\n",
       "  /* unfitted */\n",
       "  color: var(--sklearn-color-unfitted-level-1);\n",
       "  border: var(--sklearn-color-unfitted-level-1) 1pt solid;\n",
       "}\n",
       "\n",
       "#sk-container-id-1 a.estimator_doc_link.fitted {\n",
       "  /* fitted */\n",
       "  border: var(--sklearn-color-fitted-level-1) 1pt solid;\n",
       "  color: var(--sklearn-color-fitted-level-1);\n",
       "}\n",
       "\n",
       "/* On hover */\n",
       "#sk-container-id-1 a.estimator_doc_link:hover {\n",
       "  /* unfitted */\n",
       "  background-color: var(--sklearn-color-unfitted-level-3);\n",
       "  color: var(--sklearn-color-background);\n",
       "  text-decoration: none;\n",
       "}\n",
       "\n",
       "#sk-container-id-1 a.estimator_doc_link.fitted:hover {\n",
       "  /* fitted */\n",
       "  background-color: var(--sklearn-color-fitted-level-3);\n",
       "}\n",
       "</style><div id=\"sk-container-id-1\" class=\"sk-top-container\"><div class=\"sk-text-repr-fallback\"><pre>CategoricalNB(alpha=0)</pre><b>In a Jupyter environment, please rerun this cell to show the HTML representation or trust the notebook. <br />On GitHub, the HTML representation is unable to render, please try loading this page with nbviewer.org.</b></div><div class=\"sk-container\" hidden><div class=\"sk-item\"><div class=\"sk-estimator fitted sk-toggleable\"><input class=\"sk-toggleable__control sk-hidden--visually\" id=\"sk-estimator-id-1\" type=\"checkbox\" checked><label for=\"sk-estimator-id-1\" class=\"sk-toggleable__label fitted sk-toggleable__label-arrow fitted\">&nbsp;&nbsp;CategoricalNB<a class=\"sk-estimator-doc-link fitted\" rel=\"noreferrer\" target=\"_blank\" href=\"https://scikit-learn.org/1.5/modules/generated/sklearn.naive_bayes.CategoricalNB.html\">?<span>Documentation for CategoricalNB</span></a><span class=\"sk-estimator-doc-link fitted\">i<span>Fitted</span></span></label><div class=\"sk-toggleable__content fitted\"><pre>CategoricalNB(alpha=0)</pre></div> </div></div></div></div>"
      ],
      "text/plain": [
       "CategoricalNB(alpha=0)"
      ]
     },
     "execution_count": 4,
     "metadata": {},
     "output_type": "execute_result"
    }
   ],
   "source": [
    "from sklearn.preprocessing import OrdinalEncoder\n",
    "from sklearn.naive_bayes import CategoricalNB\n",
    "\n",
    "X_golf = dataGolf.drop(\"PlayGolf\", axis=\"columns\").values\n",
    "y_golf = dataGolf[\"PlayGolf\"].values\n",
    "\n",
    "enc = OrdinalEncoder()\n",
    "enc.fit(X_golf)\n",
    "X_golf_encoded = enc.transform(X_golf)\n",
    "display(X_golf_encoded)\n",
    "\n",
    "model_cat = CategoricalNB(alpha=0)\n",
    "model_cat.fit(X_golf_encoded, y_golf)"
   ]
  },
  {
   "cell_type": "markdown",
   "metadata": {},
   "source": [
    "Amb el model entrenat, volem fer la predicció de *today_golf*.\n",
    "\n",
    "<font color='blue'> Quina funció de *CategoricalNB* podem utilitzar per obtenir les estimacions de probabilitat pel vector *today_golf*? </font>"
   ]
  },
  {
   "cell_type": "code",
   "execution_count": 5,
   "metadata": {},
   "outputs": [
    {
     "name": "stdout",
     "output_type": "stream",
     "text": [
      "[[0.17763158 0.82236842]]\n",
      "[[0. 1.]]\n"
     ]
    }
   ],
   "source": [
    "today_golf = ['Sunny', 'Hot', 'Normal', False]\n",
    "today_golf = np.array([today_golf], dtype=object)\n",
    "today_golf_encoded = enc.transform(today_golf)\n",
    "print(model_cat.predict_proba(today_golf_encoded))\n",
    "\n",
    "\n",
    "today_golf = ['Overcast', 'Hot', 'Normal', False]\n",
    "today_golf = np.array([today_golf], dtype=object)\n",
    "today_golf_encoded = enc.transform(today_golf)\n",
    "print(model_cat.predict_proba(today_golf_encoded))\n"
   ]
  },
  {
   "cell_type": "markdown",
   "metadata": {},
   "source": [
    "Al model CategoricalNB, el paràmetre alpha controla la \"suavització de Laplace\". Suavitzar significa afegir un petit valor a les freqüències de cada classe per evitar problemes quan una categoria té una probabilitat zero (és a dir, quan no hi ha instàncies d'una combinació de característiques i classe en el conjunt d'entrenament).\n",
    "\n",
    "Utilitzar alpha=1 permet que el model sigui més flexible i s'adapti millor a noves dades, mentre que alpha=0 tendeix a sobreajustar les dades d'entrenament i pot fallar en casos no observats.\n",
    "\n",
    "<font color='blue'> Defineix un nou model *CategoricalNB* utilitzant *alpha=1*, entrena el model i fes la predicció per *today_golf_encoded*. Quina és la diferència observada? </font>"
   ]
  },
  {
   "cell_type": "code",
   "execution_count": 6,
   "metadata": {},
   "outputs": [
    {
     "name": "stdout",
     "output_type": "stream",
     "text": [
      "[[0.1837902 0.8162098]]\n",
      "[[0.00804215 0.99195785]]\n"
     ]
    }
   ],
   "source": [
    "model_cat = CategoricalNB(alpha=0.1)\n",
    "model_cat.fit(X_golf_encoded, y_golf)\n",
    "\n",
    "\n",
    "today_golf = ['Sunny', 'Hot', 'Normal', False]\n",
    "today_golf = np.array([today_golf], dtype=object)\n",
    "today_golf_encoded = enc.transform(today_golf)\n",
    "print(model_cat.predict_proba(today_golf_encoded))\n",
    "\n",
    "\n",
    "today_golf = ['Overcast', 'Hot', 'Normal', False]\n",
    "today_golf = np.array([today_golf], dtype=object)\n",
    "today_golf_encoded = enc.transform(today_golf)\n",
    "print(model_cat.predict_proba(today_golf_encoded))"
   ]
  },
  {
   "cell_type": "markdown",
   "metadata": {},
   "source": [
    "### Tipus de Classificadors Naive Bayes\n",
    "\n",
    "Els diferents tipus de classificador Naive Bayes s'utilitzen en funció de la naturalesa de les dades (continuïtat, comptes, binàries o categòriques). Cada un utilitza un model probabilístic específic que s'ajusta millor a les característiques de les dades en qüestió.\n",
    "\n",
    "#### [Gaussian Naive Bayes](https://scikit-learn.org/stable/modules/naive_bayes.html#gaussian-naive-bayes)\n",
    "\n",
    "\n",
    "\n",
    "El Gaussian Naive Bayes s'utilitza quan tenim dades contínues que es poden modelar amb una distribució normal. Aquesta distribució es caracteritza per dos paràmetres: la mitjana ($\\mu$) i la desviació estàndard ($\\sigma$). La probabilitat d'una dada $x_i$ donada una classe $y$ es calcula amb la següent fórmula:\n",
    "\n",
    "\n",
    "$$P(x_i \\mid y) = \\frac{1}{\\sqrt{2\\pi\\sigma^2_y}} \\exp\\left(-\\frac{(x_i - \\mu_y)^2}{2\\sigma^2_y}\\right)$$\n",
    "\n",
    "On:\n",
    "* $P(x_i \\mid y)$ és la probabilitat de l'atribut $x_i$ donat $y$.\n",
    "* $\\sigma^2_y$ és la variància de la classe $y$.\n",
    "* $\\mu_y$ és la mitjana de la classe $y$.\n",
    "\n",
    "\n",
    "#### [Multinomial Naive Bayes](https://scikit-learn.org/stable/modules/naive_bayes.html#multinomial-naive-bayes)\n",
    "El Multinomial Naive Bayes és adequat per a dades que representen comptes d'ocurrències, com és el cas del text. Aquí, es compta quantes vegades apareix un terme (una paraula) en un document. La probabilitat es pot expressar com: \n",
    "\n",
    "$$P(x_i \\mid y)\\sim \\hat{\\theta}_{yi} · x_i = \\frac{ N_{yi} + \\alpha}{N_y + \\alpha n} · x_i$$\n",
    "\n",
    "On:\n",
    "* $N_{yi}$ és el nombre d'instàncies del terme $i$ en la classe $y$.\n",
    "* $N_{y}$ és el nombre total d'instàncies de la classe $y$.\n",
    "* $\\alpha$ és un paràmetre de suavitzat (Laplace smoothing).\n",
    "* $n$ és el nombre total de diferents termes.\n",
    "\n",
    "\n",
    "#### [Bernoulli Naive Bayes](https://scikit-learn.org/stable/modules/naive_bayes.html#bernoulli-naive-bayes)\n",
    "El Bernoulli Naive Bayes s'utilitza quan les dades són binàries, és a dir, que només poden prendre dos valors (0 o 1). La probabilitat d'un atribut $x_i$ doanda una classe $y$ es calcula amb:\n",
    "\n",
    "$$P(x_i \\mid y) = P(i \\mid y) · x_i + (1 - P(i \\mid y)) · (1 - x_i)$$\n",
    "\n",
    "On:\n",
    "* $P(x_i \\mid y)$ és la probabilitat que l'atribut $x_i$ estigui present en la classe $y$.\n",
    "* $x_i$ és un valor binari (0 o 1).\n",
    "\n",
    "#### [Categorical Naive Bayes](https://scikit-learn.org/stable/modules/naive_bayes.html#categorical-naive-bayes)\n",
    "El Categorical Naive Bayes s'aplica quan les dades són categòriques (no numèriques). La probabilitat que un atribut $x_i$ prengui un valor $t$ donat una classe $y$ és:\n",
    "\n",
    "$$P(x_i = t \\mid y = c ; \\alpha) = \\frac{ N_{tic} + \\alpha}{N_{c} + \\alpha n_i}$$\n",
    "\n",
    "On:\n",
    "* $N_{tic}$ és el nombre d'instàncies on l'atribut $x_i$ és igual a $t$ i la classe és $c$.\n",
    "* $N_{c}$ és el nombre total d'instàncies de la classe $c$.\n",
    "* $\\alpha$ és el paràmetre de suavitzat (Laplace smoothing).\n",
    "* $n_i$ és el nombre de possibles valors que pot prendre l'atribut $x_i$."
   ]
  },
  {
   "cell_type": "markdown",
   "metadata": {},
   "source": [
    "### Datasets\n",
    "\n",
    "Es faràn servir varies bases de dades per comparar els mètodes més idonis depenent del tipus de dades:\n",
    "\n",
    "* [**playgolf**](https://medium.com/@hrishavkmr/naive-bayes-in-machine-learning-5c0972340b76) (db: `playgolf.csv`)\n",
    "* [**iris**](https://scikit-learn.org/stable/modules/generated/sklearn.datasets.load_iris.html) (db: `datasets.load_iris`)\n",
    "* [**zoo**](https://www.kaggle.com/uciml/zoo-animal-classification) (db: `zoo_animal.csv`)\n",
    "* [**heart-disease-uci**](https://www.kaggle.com/ronitf/heart-disease-uci) (db: `heart.csv`)\n",
    "* [**20newsgroups**](https://scikit-learn.org/stable/modules/generated/sklearn.datasets.fetch_20newsgroups.html) (db: `datasets.fetch_20newsgroups`) (Al appendix veure-ho com tranformar text en caracteristiques)\n"
   ]
  },
  {
   "cell_type": "markdown",
   "metadata": {},
   "source": [
    "## A. Ús Naive Bayes Sci-kit Learn\n",
    "\n",
    "En aquest apartat és recomanable usar funcions pròpies per a llegir una base de dades. D'aquesta forma podreu reaprofitar molt de codi.\n",
    "\n",
    "<font color='blue'> Omple els buits de la funció *load_dataset()* per llegir els datasets </font>\n",
    "\n"
   ]
  },
  {
   "cell_type": "code",
   "execution_count": 7,
   "metadata": {},
   "outputs": [],
   "source": [
    "from sklearn.model_selection import train_test_split, cross_val_score\n",
    "from sklearn.feature_extraction.text import TfidfVectorizer\n",
    "from sklearn.datasets import load_iris, fetch_20newsgroups\n",
    "\n",
    "def load_dataset(which):\n",
    "    X, y = None, None\n",
    "    if which == \"iris\":\n",
    "        data = load_iris()\n",
    "        X = data.data\n",
    "        y = data.target\n",
    "\n",
    "    elif which == \"playgolf\":\n",
    "        data = pd.read_csv('playgolf.csv', delimiter=';')\n",
    "        \n",
    "        XX = data.drop(\"PlayGolf\", axis=\"columns\")\n",
    "        y = data[\"PlayGolf\"]\n",
    "\n",
    "        enc = OrdinalEncoder()\n",
    "        enc.fit(XX)\n",
    "        X = enc.transform(XX)\n",
    "\n",
    "    elif which == \"zoo\":\n",
    "        data = pd.read_csv('zoo_animal.csv', delimiter=',')\n",
    "        \n",
    "        # X = data.drop([\"animal_name\", \"class_type\"], axis=\"columns\").values\n",
    "        X = data.drop([\"animal_name\"], axis=\"columns\")\n",
    "        y = data[\"class_type\"]\n",
    "\n",
    "    elif which == \"heart-disease-uci\":\n",
    "        data = pd.read_csv('heart.csv', delimiter=',')\n",
    "        X = data.drop([\"target\"], axis=\"columns\").values\n",
    "        y = data[\"target\"]\n",
    "\n",
    "    elif which == \"20newsgroups\":\n",
    "        categories = ['talk.religion.misc', 'soc.religion.christian', 'sci.space', 'comp.graphics']\n",
    "        data = fetch_20newsgroups(subset='train', categories=categories)\n",
    "        prep = TfidfVectorizer(max_features=100)\n",
    "        X = prep.fit_transform(data.data).toarray()\n",
    "        y = data.target\n",
    "    else:\n",
    "        raise (\"UNKNOWN DATASET\")\n",
    "    \n",
    "    return X, y\n",
    "    "
   ]
  },
  {
   "cell_type": "markdown",
   "metadata": {},
   "source": [
    "Donat que cada model de Naive Bayes utilitza un enfocament probabilístic específic que s'adapta millor a les característiques de les dades concretes, volem avaluar quin model funciona millor per a cadascun dels datasets de la pràctica.\n",
    "\n",
    "<font color='blue'> Omple els buits dels bucles anidats per entrenar tots els models amb tots els conjunts de dades (utilitza la funció definida anteriorment (*load_dataset()*)). Imprimeix l'accuracy mitjana de cada model amb les mateixes dades utilitzades per l'entrenament (sense fer train_test_split). </font>"
   ]
  },
  {
   "cell_type": "code",
   "execution_count": 9,
   "metadata": {},
   "outputs": [
    {
     "name": "stdout",
     "output_type": "stream",
     "text": [
      "iris + GaussianNB() = 0.960\n",
      "iris + MultinomialNB() = 0.953\n",
      "iris + BernoulliNB() = 0.333\n",
      "iris + CategoricalNB() = 0.933\n",
      "playgolf + GaussianNB() = 0.857\n",
      "playgolf + MultinomialNB() = 0.786\n",
      "playgolf + BernoulliNB() = 0.857\n",
      "playgolf + CategoricalNB() = 0.929\n",
      "zoo + GaussianNB() = 1.000\n",
      "zoo + MultinomialNB() = 0.970\n",
      "zoo + BernoulliNB() = 0.990\n",
      "zoo + CategoricalNB() = 1.000\n",
      "heart-disease-uci + GaussianNB() = 0.842\n",
      "heart-disease-uci + MultinomialNB() = 0.752\n",
      "heart-disease-uci + BernoulliNB() = 0.832\n",
      "heart-disease-uci + CategoricalNB() = 0.911\n",
      "20newsgroups + GaussianNB() = 0.653\n",
      "20newsgroups + MultinomialNB() = 0.698\n",
      "20newsgroups + BernoulliNB() = 0.592\n",
      "20newsgroups + CategoricalNB() = 0.278\n",
      "DONE\n"
     ]
    }
   ],
   "source": [
    "from sklearn.naive_bayes import GaussianNB, MultinomialNB, BernoulliNB, CategoricalNB\n",
    "\n",
    "models = [GaussianNB(), MultinomialNB(), BernoulliNB(), CategoricalNB()]\n",
    "datasets = ['iris', 'playgolf', 'zoo', 'heart-disease-uci', '20newsgroups']\n",
    "\n",
    "results = pd.DataFrame(columns=['dataset', 'model', 'score'])\n",
    "for d in datasets:\n",
    "    X, y = load_dataset(d)\n",
    "    for m in models:\n",
    "        model = m\n",
    "        model.fit(X, y)\n",
    "        r = model.score(X, y)\n",
    "        results.loc[len(results)] = [d, str(m), r]\n",
    "        print(f'{d} + {str(m)} = {r:.3f}')\n",
    "\n",
    "print(\"DONE\")"
   ]
  },
  {
   "cell_type": "markdown",
   "metadata": {},
   "source": [
    "Aquest fragment de codi serveix per visualitzar els resultats obtinguts després d'avaluar el rendiment de diferents models de Naive Bayes:"
   ]
  },
  {
   "cell_type": "code",
   "execution_count": 10,
   "metadata": {},
   "outputs": [
    {
     "data": {
      "image/png": "[encoded data removed]",
      "text/plain": [
       "<Figure size 1200x800 with 1 Axes>"
      ]
     },
     "metadata": {},
     "output_type": "display_data"
    }
   ],
   "source": [
    "import seaborn as sns\n",
    "import matplotlib.pyplot as plt\n",
    "\n",
    "plt.figure(figsize=(12, 8))\n",
    "ax = sns.barplot(data=results,x='dataset', y='score', hue='model')\n",
    "for b  in ax.containers:\n",
    "    ax.bar_label(b)\n",
    "plt.show()\n",
    "\n"
   ]
  },
  {
   "cell_type": "markdown",
   "metadata": {},
   "source": [
    "### Observacions\n",
    "1. **Iris:** Un dataset clàssic de classificació que conté característiques de flors, com la longitud i amplada del sèpal i el pètal.\n",
    "    * **Gaussian Naive Bayes:** Aquest model és adequat perquè les característiques són contínues i s'assumeix que segueixen una distribució normal. Els resultats mostren un rendiment excel·lent (0.960), el que confirma la seva efectivitat amb dades contínues.\n",
    "2. **playgolf:** Un dataset que conté decisions sobre si jugar a golf basat en el clima (temperatura, humitat, vent, etc.).\n",
    "    * **Categorical Naive Bayes**. Les característiques són categòriques, així que aquest model és apropiat per tractar variables discretes. El seu bon rendiment (0.929) indica que el model pot captar bé les relacions entre les variables i la decisió de jugar o no.\n",
    "3. **zoo:** Un dataset que classifica animals segons diverses característiques (nombre de potes, tipus de sang, etc.).\n",
    "    * **Categorical Naive Bayes**. Les característiques són categòriques, així que aquests models són apropiats per tractar variables discretes. El fet que **GaussianNB** funcioni tan bé suggereix que les dades poden estar distribuïdes de manera que compleixin les suposicions de normalitat. **Bernoulli Naive Bayes** obté un resultat casi perfecte; això és degut a que moltes de les característiques del dataset son binàries.\n",
    "4. **heart-disease-uci**: Un dataset que conté informació sobre pacients amb diferents característiques de salut i si tenen malaltia cardíaca.\n",
    "    * **GaussianNB** es comporta raonablement bé (0.842), indicant que algunes de les característiques contínues es poden aproximar a una distribució normal. **CategoricalNB** té el millor score (0.911), cosa que indica que s'ajusta millor a la naturalesa de les dades, probablement perquè s'adapta bé a les variables categòriques i contínues presents al dataset.\n",
    "5. **20newsgroups**: Un dataset de text que classifica documents de notícies en diferents grups temàtics.\n",
    "    * **Multinomial Naive Bayes** és el model que funciona millor, com s'esperaria per a un dataset de text on es tracten freqüències de paraules. Això s'alinea amb la naturalesa del problema, ja que aquest model està dissenyat per treballar amb dades de comptatge."
   ]
  },
  {
   "cell_type": "markdown",
   "metadata": {},
   "source": [
    "<font color='blue'> Fes el mateix amb train_test_split </font>"
   ]
  },
  {
   "cell_type": "code",
   "execution_count": 11,
   "metadata": {},
   "outputs": [
    {
     "name": "stdout",
     "output_type": "stream",
     "text": [
      "iris + GaussianNB() = 1.000\n",
      "iris + MultinomialNB() = 0.900\n",
      "iris + BernoulliNB() = 0.300\n",
      "iris + CategoricalNB() = 0.967\n",
      "playgolf + GaussianNB() = 0.667\n",
      "playgolf + MultinomialNB() = 0.667\n",
      "playgolf + BernoulliNB() = 0.667\n",
      "playgolf + CategoricalNB() = 0.333\n",
      "zoo + GaussianNB() = 0.952\n",
      "zoo + MultinomialNB() = 0.952\n",
      "zoo + BernoulliNB() = 0.952\n",
      "zoo + CategoricalNB() = 0.952\n",
      "20newsgroups + GaussianNB() = 0.601\n",
      "20newsgroups + MultinomialNB() = 0.701\n",
      "20newsgroups + BernoulliNB() = 0.575\n",
      "20newsgroups + CategoricalNB() = 0.255\n",
      "DONE\n"
     ]
    }
   ],
   "source": [
    "from sklearn.naive_bayes import GaussianNB, MultinomialNB, BernoulliNB, CategoricalNB\n",
    "\n",
    "models = [GaussianNB(), MultinomialNB(), BernoulliNB(), CategoricalNB()]\n",
    "datasets = ['iris', 'playgolf', 'zoo', 'heart-disease-uci', '20newsgroups']\n",
    "\n",
    "results = pd.DataFrame(columns=['dataset', 'model', 'score'])\n",
    "for d in datasets:\n",
    "    if d=='heart-disease-uci': continue\n",
    "    X, y = load_dataset(d)\n",
    "    X_train, X_test, y_train, y_test = train_test_split(X, y, test_size=0.2, random_state=42)\n",
    "    for m in models:\n",
    "        model = m\n",
    "        model.fit(X_train, y_train)\n",
    "        r = model.score(X_test, y_test)\n",
    "        results.loc[len(results)] = [d, str(m), r]\n",
    "        print(f'{d} + {str(m)} = {r:.3f}')\n",
    "\n",
    "print(\"DONE\")"
   ]
  },
  {
   "cell_type": "markdown",
   "metadata": {},
   "source": [
    "## B. Implementació Naive Bayes\n",
    "\n",
    "En aquest apartat implementarem un classificador Naïve de Bayes per cada un dels tipus de dades. Per fer això, i que sigui fàcil de comparar amb els resultats del apartat anterior, feu servir un esquelet similar al següent:\n",
    "        \n"
   ]
  },
  {
   "cell_type": "markdown",
   "metadata": {},
   "source": [
    "### Naive Bayes Base"
   ]
  },
  {
   "cell_type": "markdown",
   "metadata": {},
   "source": [
    "Explicació teòrica de la classe NaiveBayes amb el dataset *zoo_animal.csv*.\n",
    "\n",
    "* **Càlcul de probabilitats a priori (*calculate_priors*)**: La probabilitat a priori $P(y)$ representa la probabilitat de cada classe (Yes o No) al conjunt de dades d'entrenament, independentment de les característiques. La probabilitat a priori $P(y)$ per cada classe es calcula com:\n",
    "\n",
    "$$P(y = \\text{Yes}) = \\frac{\\text{nombre de 'Yes'}}{\\text{nombre total d'exemples}}$$\n",
    "$$P(y = \\text{No}) = \\frac{\\text{nombre de 'No'}}{\\text{nombre total d'exemples}}$$\n"
   ]
  },
  {
   "cell_type": "markdown",
   "metadata": {},
   "source": [
    "<font color='blue'> Omple els buits de la classe *NaiveBayes* </font>"
   ]
  },
  {
   "cell_type": "code",
   "execution_count": 12,
   "metadata": {},
   "outputs": [],
   "source": [
    "class NaiveBayes:\n",
    "    def __init__(self):\n",
    "        self.num_samples = 0\n",
    "        self.class_counts = []  # Nombre d'exemples en cada categoria\n",
    "        self.class_priors = []  # Probabilitat a priori per a cada categoria\n",
    "        self.classes = []       # Etiquetes de cada classe\n",
    "    \n",
    "    def __str__(self):\n",
    "        return f\"{self.__class__.__name__}()\"\n",
    "        \n",
    "    def get_data_agregation(self, X: np.ndarray, y: np.ndarray):\n",
    "        \"\"\"\n",
    "        Calcula i emmagatzema les estadístiques necessàries per a la distribució de les característiques condicionals per classe.\n",
    "        \"\"\"\n",
    "        raise NotImplementedError(\"Aquesta funció ha de ser implementada a cada subclasse\")\n",
    "    \n",
    "    def calculate_log_likelihood(self, X: np.ndarray) -> np.ndarray:\n",
    "        \"\"\"\n",
    "        Calcula la probabilitat posteriori logarítmica no normalitzada de X.\n",
    "        \"\"\"\n",
    "        raise NotImplementedError(\"Aquesta funció ha de ser implementada a cada subclasse\")\n",
    "\n",
    "    def calculate_priors(self, y: np.ndarray):\n",
    "        \"\"\"\n",
    "        Calcula les probabilitats a priori de cada classe.\n",
    "        \n",
    "        Parameters:\n",
    "        y (np.ndarray): Vector d'etiquetes de classe.\n",
    "        \n",
    "        Returns:\n",
    "        None. Actualitza self.class_priors i self.class_counts.\n",
    "        \"\"\"\n",
    "        self.class_counts = [np.sum(y == cls) for cls in self.classes]\n",
    "        self.class_priors = np.array(self.class_counts) / np.sum(self.class_counts)\n",
    "\n",
    "    def predict(self, X: np.ndarray) -> np.ndarray:\n",
    "        probs = self.predict_proba(X)\n",
    "        return self.classes[np.argmax(probs, axis=1)]\n",
    "    \n",
    "    def predict_proba(self, X: np.ndarray) -> np.ndarray:\n",
    "        probs = np.exp(self.predict_log_proba(X))\n",
    "        probs /= np.sum(probs, axis=1, keepdims=True)\n",
    "        return probs\n",
    "\n",
    "    def predict_log_proba(self, X: np.ndarray) -> np.ndarray:\n",
    "        log_probs = self.calculate_log_likelihood(X)\n",
    "        for i, prior in enumerate(self.class_priors):\n",
    "            log_probs[:, i] += np.log(prior)\n",
    "        return log_probs\n",
    "\n",
    "    def score(self, X: np.ndarray, y: np.ndarray) -> float:\n",
    "        return np.mean(self.predict(X) == y)\n",
    "        \n",
    "    def fit(self, X: np.ndarray, y: np.ndarray):\n",
    "        self.num_samples = X.shape[0]\n",
    "        self.classes = np.unique(y)\n",
    "        self.calculate_priors(y)\n",
    "        self.get_data_agregation(X, y)"
   ]
  },
  {
   "cell_type": "markdown",
   "metadata": {},
   "source": [
    "### Categorical Naive Bayes"
   ]
  },
  {
   "cell_type": "markdown",
   "metadata": {},
   "source": [
    "<font color='blue'> Omple els buits de la classe heredada *CategoricalNaiveBayes* </font>"
   ]
  },
  {
   "cell_type": "code",
   "execution_count": 13,
   "metadata": {},
   "outputs": [],
   "source": [
    "class CategoricalNaiveBayes(NaiveBayes):\n",
    "    def __init__(self, alpha=1.0):\n",
    "        super().__init__()\n",
    "        self.alpha = alpha \n",
    "        self.feature_counts = []  # Conteig d'ocurrències per valor de característica en cada classe\n",
    "    \n",
    "    def get_data_agregation(self, X: np.ndarray, y: np.ndarray):\n",
    "        \"\"\"\n",
    "        Calcula la probabilitat condicional de cada valor de cada característica donada la classe.\n",
    "        \n",
    "        Parameters:\n",
    "        X (np.ndarray): Matriu d'exemples (mostres x característiques).\n",
    "        y (np.ndarray): Vector d'etiquetes de classe.\n",
    "        \n",
    "        Returns:\n",
    "        None. Actualitza self.feature_counts amb els valors comptats.\n",
    "        \"\"\"\n",
    "        n_classes = len(self.classes)\n",
    "        n_features = X.shape[1]\n",
    "\n",
    "        # Inicialitza el conteig de característiques per classe i per valor de característica\n",
    "        self.feature_counts = [[] for _ in range(n_classes)]\n",
    "        # Per cada classe, calcular les probabilitats condicionals\n",
    "        for class_index, cls in enumerate(self.classes):\n",
    "            idx = y == cls  # Índex dels exemples de la classe actual\n",
    "            \n",
    "            # Inicialitza un diccionari per cada característica\n",
    "            self.feature_counts[class_index] = [{} for _ in range(n_features)]\n",
    "            for feature_index in range(n_features):\n",
    "                # Obtenir els valors de la característica actual per a la classe actual\n",
    "                feature_values = X[idx, feature_index]\n",
    "                \n",
    "                # Comptar les ocurrències de cada valor de la característica\n",
    "                unique_values, counts = np.unique(feature_values, return_counts=True)\n",
    "                \n",
    "                # Emmagatzemar el conteig ajustat per alpha\n",
    "                for value, count in zip(unique_values, counts):\n",
    "                    self.feature_counts[class_index][feature_index][value] = count + self.alpha\n",
    "                # Afegeix alpha a cada valor possible per aplicació de Laplace en cas que no aparegui\n",
    "                all_values = np.unique(X[:, feature_index])\n",
    "                for value in all_values:\n",
    "                    if value not in self.feature_counts[class_index][feature_index]:\n",
    "                        self.feature_counts[class_index][feature_index][value] = self.alpha\n",
    "\n",
    "    def calculate_log_likelihood(self, X: np.ndarray) -> np.ndarray:\n",
    "        \"\"\"\n",
    "        Calcula la probabilitat condicional logarítmica de X per a cada classe.\n",
    "\n",
    "        Parameters:\n",
    "        X (np.ndarray): Matriu d'exemples (mostres x característiques).\n",
    "\n",
    "        Returns:\n",
    "        np.ndarray: Matriu de probabilitats logarítmiques (mostres x classes).\n",
    "        \"\"\"\n",
    "        log_likelihood = np.zeros((X.shape[0], len(self.classes)))\n",
    "        for class_index, cls in enumerate(self.classes):\n",
    "            for feature_index in range(X.shape[1]):\n",
    "                # Obtenir els valors de la característica actual per a la classe actual\n",
    "                feature_counts = self.feature_counts[class_index][feature_index]\n",
    "                total_feature_count = sum(feature_counts.values())\n",
    "                # Calcular la log-probabilitat per a cada mostra\n",
    "                for sample_index in range(X.shape[0]):\n",
    "                    value = X[sample_index, feature_index]\n",
    "                    # Utilitzar el conteig amb Laplace smoothing\n",
    "                    count = feature_counts.get(value, self.alpha)\n",
    "                    log_likelihood[sample_index, class_index] += np.log(count / total_feature_count)\n",
    "        return log_likelihood"
   ]
  },
  {
   "cell_type": "markdown",
   "metadata": {},
   "source": [
    "Volem verificar si la classe *CategoricalNaiveBayes* que hem desenvolupat té un comportament similar al model *CategoricalNB* de *scikit-learn*.\n",
    "\n",
    "<font color='blue'>Utilitza el dataset *playgolf* per entrenar tots dos models i compara els resultats de les prediccions per *today_golf*. Imprimeix les probabilitats i les classes predites per a cada model.</font>"
   ]
  },
  {
   "cell_type": "code",
   "execution_count": 14,
   "metadata": {},
   "outputs": [
    {
     "name": "stdout",
     "output_type": "stream",
     "text": [
      "Probabilitats predictives per 'today_golf': [[0.22086561 0.77913439]]\n",
      "Probabilitats predictives (Scikit-Learn) per 'today_golf': [[0.22086561 0.77913439]]\n",
      "Predicció per 'today_golf': ['Yes']\n",
      "Predicció (Scikit-Learn) per 'today_golf': ['Yes']\n"
     ]
    }
   ],
   "source": [
    "X_golf = dataGolf.drop(\"PlayGolf\", axis=\"columns\").values\n",
    "y_golf = dataGolf[\"PlayGolf\"].values\n",
    "\n",
    "enc = OrdinalEncoder()\n",
    "enc.fit(X_golf)\n",
    "X_golf_encoded = enc.transform(X_golf)\n",
    "\n",
    "today_golf = ['Sunny', 'Hot', 'Normal', False]\n",
    "today_golf_encoded = enc.transform([today_golf])\n",
    "\n",
    "# Crear y entrenar el model CategoricalNaiveBayes propi\n",
    "cnb = CategoricalNaiveBayes(alpha=1.0)\n",
    "cnb.fit(X_golf_encoded, y_golf)\n",
    "# Crear y entrenar el model CategoricalNB de Sklearn\n",
    "cnb_sklearn = CategoricalNB(alpha=1.0)\n",
    "cnb_sklearn.fit(X_golf_encoded, y_golf)\n",
    "\n",
    "\n",
    "# Predir la probabilitat de today_golf\n",
    "proba_today_golf = cnb.predict_proba(today_golf_encoded)\n",
    "print(\"Probabilitats predictives per 'today_golf':\", proba_today_golf)\n",
    "proba_today_golf_sklearn = cnb_sklearn.predict_proba(today_golf_encoded)\n",
    "print(\"Probabilitats predictives (Scikit-Learn) per 'today_golf':\", proba_today_golf_sklearn)\n",
    "\n",
    "# Predir la classe de today_golf\n",
    "predicted_class = cnb.predict(today_golf_encoded)\n",
    "print(\"Predicció per 'today_golf':\", predicted_class)\n",
    "predicted_class_sklearn = cnb_sklearn.predict(enc.transform([today_golf]))\n",
    "print(\"Predicció (Scikit-Learn) per 'today_golf':\", predicted_class_sklearn)\n"
   ]
  },
  {
   "cell_type": "markdown",
   "metadata": {},
   "source": [
    "### Gaussian Naive Bayes\n",
    "\n",
    "<font color='blue'> Omple els buits de la classe heredada *GaussianNaiveBayes* </font>"
   ]
  },
  {
   "cell_type": "code",
   "execution_count": 15,
   "metadata": {},
   "outputs": [],
   "source": [
    "import numpy as np\n",
    "\n",
    "class GaussianNaiveBayes(NaiveBayes):\n",
    "    def __init__(self):\n",
    "        super().__init__()\n",
    "        self.means = None\n",
    "        self.variances = None\n",
    "    \n",
    "    def get_data_agregation(self, X: np.ndarray, y: np.ndarray):\n",
    "        \"\"\"\n",
    "        Calcula la mitjana i la variància de cada característica per cada classe sense suavitzat.\n",
    "        \n",
    "        Parameters:\n",
    "        X (np.ndarray): Matriu d'exemples (mostres x característiques).\n",
    "        y (np.ndarray): Vector d'etiquetes de classe.\n",
    "        \n",
    "        Returns:\n",
    "        None. Actualitza self.means i self.variances amb les estadístiques calculades.\n",
    "        \"\"\"\n",
    "        n_classes = len(self.classes)\n",
    "        n_features = X.shape[1]\n",
    "        \n",
    "        # Inicialitza matrius per a les mitjanes i les variàncies\n",
    "        self.means = np.zeros((n_classes, n_features))\n",
    "        self.variances = np.zeros((n_classes, n_features))\n",
    "        \n",
    "        # Per cada classe, calcula la mitjana i la variància de cada característica\n",
    "        for class_index, cls in enumerate(self.classes):\n",
    "            X_class = X[y == cls]\n",
    "            self.means[class_index, :] = X_class.mean(axis=0)\n",
    "            self.variances[class_index, :] = X_class.var(axis=0)\n",
    "    \n",
    "    def calculate_log_likelihood(self, X: np.ndarray) -> np.ndarray:\n",
    "        \"\"\"\n",
    "        Calcula la probabilitat condicional logarítmica de X per a cada classe.\n",
    "        \n",
    "        Parameters:\n",
    "        X (np.ndarray): Matriu d'exemples (mostres x característiques).\n",
    "        \n",
    "        Returns:\n",
    "        np.ndarray: Matriu de probabilitats logarítmiques (mostres x classes).\n",
    "        \"\"\"\n",
    "        n_samples, n_features = X.shape\n",
    "        log_likelihood = np.zeros((n_samples, len(self.classes)))\n",
    "        \n",
    "        # Calcula la probabilitat logarítmica per cada classe\n",
    "        for class_index in range(len(self.classes)):\n",
    "            mean = self.means[class_index]\n",
    "            variance = self.variances[class_index]\n",
    "            # Evitar la divisió per zero\n",
    "            variance[variance == 0] = 1e-9\n",
    "\n",
    "            # Calcula la probabilitat logarítmica per a cada característica\n",
    "            # En comptes de sumar logs, fem servir np.sum per a les files\n",
    "            log_prob = -0.5 * np.sum(np.log(2.0 * np.pi * variance))\n",
    "            log_prob -= 0.5 * np.sum(((X - mean) ** 2) / variance, axis=1)\n",
    "            log_likelihood[:, class_index] = log_prob\n",
    "            \n",
    "        return log_likelihood\n"
   ]
  },
  {
   "cell_type": "markdown",
   "metadata": {},
   "source": [
    "Volem verificar si la classe *GaussianNaiveBayes* que hem desenvolupat té un comportament similar al model *GaussianNB* de *scikit-learn*.\n",
    "\n",
    "<font color='blue'>Utilitza el dataset *playgolf* per entrenar tots dos models i compara els resultats de les prediccions per *today_golf*. Imprimeix les probabilitats i les classes predites per a cada model.</font>"
   ]
  },
  {
   "cell_type": "code",
   "execution_count": 16,
   "metadata": {},
   "outputs": [
    {
     "name": "stdout",
     "output_type": "stream",
     "text": [
      "Probabilitats predictives per 'today_golf' (model propi): [[0.12487422 0.87512578]]\n",
      "Probabilitats predictives (Scikit-Learn) per 'today_golf': [[0.12487422 0.87512578]]\n",
      "Predicció per 'today_golf' (model propi): ['Yes']\n",
      "Predicció (Scikit-Learn) per 'today_golf': ['Yes']\n",
      "Precisió del model propi GaussianNaiveBayes: 0.8571428571428571\n",
      "Precisió del model Scikit-Learn GaussianNB: 0.8571428571428571\n"
     ]
    }
   ],
   "source": [
    "from sklearn.metrics import accuracy_score\n",
    "\n",
    "# Crear i entrenar el model GaussianNaiveBayes propi\n",
    "gnb = GaussianNaiveBayes()\n",
    "gnb.fit(X_golf_encoded, y_golf)\n",
    "# Crear i entrenar el model GaussianNB de Scikit-Learn\n",
    "gnb_sklearn = GaussianNB()\n",
    "gnb_sklearn.fit(X_golf_encoded, y_golf)\n",
    "\n",
    "\n",
    "# Predir la probabilitat de 'today_golf' amb cada model\n",
    "proba_today_golf = gnb.predict_proba(today_golf_encoded)\n",
    "print(\"Probabilitats predictives per 'today_golf' (model propi):\", proba_today_golf)\n",
    "\n",
    "proba_today_golf_sklearn = gnb_sklearn.predict_proba(today_golf_encoded)\n",
    "print(\"Probabilitats predictives (Scikit-Learn) per 'today_golf':\", proba_today_golf_sklearn)\n",
    "\n",
    "\n",
    "# Predir la classe de 'today_golf' amb cada model\n",
    "predicted_class = gnb.predict(today_golf_encoded)\n",
    "print(\"Predicció per 'today_golf' (model propi):\", predicted_class)\n",
    "\n",
    "predicted_class_sklearn = gnb_sklearn.predict(today_golf_encoded)\n",
    "print(\"Predicció (Scikit-Learn) per 'today_golf':\", predicted_class_sklearn)\n",
    "\n",
    "\n",
    "# Comparar l'accuracy de cada model sobre el conjunt de dades complet\n",
    "predictions_gnb = gnb.predict(X_golf_encoded)\n",
    "accuracy_gnb = accuracy_score(y_golf, predictions_gnb)\n",
    "print(\"Precisió del model propi GaussianNaiveBayes:\", accuracy_gnb)\n",
    "\n",
    "predictions_sklearn = gnb_sklearn.predict(X_golf_encoded)\n",
    "accuracy_sklearn = accuracy_score(y_golf, predictions_sklearn)\n",
    "print(\"Precisió del model Scikit-Learn GaussianNB:\", accuracy_sklearn)"
   ]
  },
  {
   "cell_type": "markdown",
   "metadata": {},
   "source": [
    "### Bernoulli Naive Bayes"
   ]
  },
  {
   "cell_type": "code",
   "execution_count": 17,
   "metadata": {},
   "outputs": [],
   "source": [
    "class BernoulliNaiveBayes(NaiveBayes):\n",
    "    def __init__(self, alpha=1.0):\n",
    "        super().__init__()\n",
    "        self.alpha = alpha  # Paràmetre de suavitzat de Laplace\n",
    "        self.feature_probs = []  # Probabilitats de cada característica donada la classe\n",
    "\n",
    "    def get_data_agregation(self, X: np.ndarray, y: np.ndarray):\n",
    "        \"\"\"\n",
    "        Calcula les probabilitats condicionals de cada característica (binària) per classe.\n",
    "\n",
    "        Parameters:\n",
    "        X (np.ndarray): Matriu d'exemples (mostres x característiques).\n",
    "        y (np.ndarray): Vector d'etiquetes de classe.\n",
    "        \n",
    "        Returns:\n",
    "        None. Actualitza self.feature_probs amb les probabilitats de les característiques.\n",
    "        \"\"\"\n",
    "        n_classes = len(self.classes)\n",
    "        n_features = X.shape[1]\n",
    "\n",
    "        # Inicialitzar la llista de probabilitats de les característiques per a cada classe\n",
    "        self.feature_probs = [[] for _ in range(n_classes)]\n",
    "        for class_index, cls in enumerate(self.classes):\n",
    "            idx = y == cls  # Índex dels exemples de la classe actual\n",
    "            \n",
    "            # Calcular les probabilitats de cada característica per classe\n",
    "            for feature_index in range(n_features):\n",
    "                feature_values = X[idx, feature_index]\n",
    "                # Comptar les ocurrències de 1 (presència) i 0 (absència)\n",
    "                p_feature_1 = np.sum(feature_values) + self.alpha\n",
    "                p_feature_0 = len(feature_values) - np.sum(feature_values) + self.alpha\n",
    "                \n",
    "                # Suavitzat de Laplace\n",
    "                total = len(feature_values) + 2 * self.alpha\n",
    "                p_feature_1 /= total\n",
    "                p_feature_0 /= total\n",
    "                \n",
    "                self.feature_probs[class_index].append((p_feature_1, p_feature_0))\n",
    "\n",
    "    def calculate_log_likelihood(self, X: np.ndarray) -> np.ndarray:\n",
    "        \"\"\"\n",
    "        Calcula la probabilitat logarítmica de X per cada classe, basada en distribucions de Bernoulli.\n",
    "\n",
    "        Parameters:\n",
    "        X (np.ndarray): Matriu d'exemples (mostres x característiques).\n",
    "\n",
    "        Returns:\n",
    "        np.ndarray: Matriu de probabilitats logarítmiques (mostres x classes).\n",
    "        \"\"\"\n",
    "        log_likelihood = np.zeros((X.shape[0], len(self.classes)))\n",
    "        for class_index, cls in enumerate(self.classes):\n",
    "            for feature_index in range(X.shape[1]):\n",
    "                p_feature_1, p_feature_0 = self.feature_probs[class_index][feature_index]\n",
    "                for sample_index in range(X.shape[0]):\n",
    "                    value = X[sample_index, feature_index]\n",
    "                    # Si el valor és 1, afegir la log-probabilitat de p_feature_1\n",
    "                    # Si el valor és 0, afegir la log-probabilitat de p_feature_0\n",
    "                    if value == 1:\n",
    "                        log_likelihood[sample_index, class_index] += np.log(p_feature_1)\n",
    "                    else:\n",
    "                        log_likelihood[sample_index, class_index] += np.log(p_feature_0)\n",
    "        return log_likelihood\n"
   ]
  },
  {
   "cell_type": "markdown",
   "metadata": {},
   "source": [
    "### Multinomial Naive Bayes"
   ]
  },
  {
   "cell_type": "code",
   "execution_count": 18,
   "metadata": {},
   "outputs": [],
   "source": [
    "class MultinomialNaiveBayes(NaiveBayes):\n",
    "    def __init__(self, alpha=1.0):\n",
    "        super().__init__()\n",
    "        self.alpha = alpha  # Paràmetre de suavitzat de Laplace\n",
    "        self.feature_probs = []  # Probabilitats de cada característica per classe\n",
    "\n",
    "    def get_data_agregation(self, X: np.ndarray, y: np.ndarray):\n",
    "        \"\"\"\n",
    "        Calcula les probabilitats condicionals de cada característica per classe, \n",
    "        assumint una distribució multinomial.\n",
    "\n",
    "        Parameters:\n",
    "        X (np.ndarray): Matriu d'exemples (mostres x característiques).\n",
    "        y (np.ndarray): Vector d'etiquetes de classe.\n",
    "        \n",
    "        Returns:\n",
    "        None. Actualitza self.feature_probs amb les probabilitats de les característiques.\n",
    "        \"\"\"\n",
    "        n_classes = len(self.classes)\n",
    "        n_features = X.shape[1]\n",
    "\n",
    "        # Inicialitzar la llista de probabilitats de les característiques per a cada classe\n",
    "        self.feature_probs = [[] for _ in range(n_classes)]\n",
    "        for class_index, cls in enumerate(self.classes):\n",
    "            idx = y == cls  # Índex dels exemples de la classe actual\n",
    "            \n",
    "            # Calcular la suma total de les característiques per classe\n",
    "            class_feature_counts = np.sum(X[idx], axis=0)  # Freqüència total de cada característica per classe\n",
    "            total_class_count = np.sum(class_feature_counts) + self.alpha * n_features  # Suma total amb suavitzat\n",
    "            \n",
    "            # Calcular les probabilitats de cada característica per classe amb suavitzat de Laplace\n",
    "            for feature_index in range(n_features):\n",
    "                feature_count = class_feature_counts[feature_index] + self.alpha  # Suavitzat de Laplace\n",
    "                prob = feature_count / total_class_count\n",
    "                self.feature_probs[class_index].append(prob)\n",
    "\n",
    "    def calculate_log_likelihood(self, X: np.ndarray) -> np.ndarray:\n",
    "        \"\"\"\n",
    "        Calcula la probabilitat logarítmica de X per cada classe, basada en distribucions multinomials.\n",
    "\n",
    "        Parameters:\n",
    "        X (np.ndarray): Matriu d'exemples (mostres x característiques).\n",
    "\n",
    "        Returns:\n",
    "        np.ndarray: Matriu de probabilitats logarítmiques (mostres x classes).\n",
    "        \"\"\"\n",
    "        log_likelihood = np.zeros((X.shape[0], len(self.classes)))\n",
    "        for class_index, cls in enumerate(self.classes):\n",
    "            for feature_index in range(X.shape[1]):\n",
    "                p_feature = self.feature_probs[class_index][feature_index]\n",
    "                for sample_index in range(X.shape[0]):\n",
    "                    count = X[sample_index, feature_index]\n",
    "                    # La log-probabilitat es calcula per cada freqüència de la característica\n",
    "                    log_likelihood[sample_index, class_index] += count * np.log(p_feature)\n",
    "        return log_likelihood\n"
   ]
  },
  {
   "cell_type": "markdown",
   "metadata": {},
   "source": [
    "## Appendix \n",
    "#### (no s'hi ha de fer res, tan sols es per si us ajuda a entendre-ho tot millor)"
   ]
  },
  {
   "cell_type": "markdown",
   "metadata": {},
   "source": [
    "<!--BOOK_INFORMATION-->\n",
    "<img align=\"left\" style=\"padding-right:10px;\" src=\"https://github.com/jakevdp/PythonDataScienceHandbook/blob/master/notebooks/figures/PDSH-cover-small.png?raw=1\">\n",
    "\n",
    "*Aquesta subsecció conté parts extretes de [Python Data Science Handbook](http://shop.oreilly.com/product/0636920034919.do) by Jake VanderPlas; i està disponible a [GitHub](https://github.com/jakevdp/PythonDataScienceHandbook).*\n",
    "\n",
    "\n",
    "\n",
    "Naive Bayes models are a group of extremely fast and simple classification algorithms that are often suitable for very high-dimensional datasets.\n",
    "\n",
    "Because they are so fast and have so few tunable parameters, they end up being very useful as a quick-and-dirty baseline for a classification problem.\n",
    "\n",
    "This section will focus on an intuitive explanation of how naive Bayes classifiers work, followed by a couple examples of them in action on some datasets."
   ]
  },
  {
   "cell_type": "markdown",
   "metadata": {},
   "source": [
    "### Bayesian Classification\n",
    "\n",
    "Naive Bayes classifiers are built on Bayesian classification methods.\n",
    "\n",
    "These rely on Bayes's theorem, which is an equation describing the relationship of conditional probabilities of statistical quantities.\n",
    "\n",
    "In Bayesian classification, we're interested in finding the probability of a label given some observed features, which we can write as $P(L~|~{\\rm features})$.\n",
    "\n",
    "Bayes's theorem tells us how to express this in terms of quantities we can compute more directly:\n",
    "\n",
    "$$\n",
    "P(L~|~{\\rm features}) = \\frac{P({\\rm features}~|~L)P(L)}{P({\\rm features})}\n",
    "$$\n",
    "\n",
    "If we are trying to decide between two labels—let's call them $L_1$ and $L_2$—then one way to make this decision is to compute the ratio of the posterior probabilities for each label:\n",
    "\n",
    "$$\n",
    "\\frac{P(L_1~|~{\\rm features})}{P(L_2~|~{\\rm features})} = \\frac{P({\\rm features}~|~L_1)}{P({\\rm features}~|~L_2)}\\frac{P(L_1)}{P(L_2)}\n",
    "$$\n",
    "\n",
    "All we need now is some model by which we can compute $P({\\rm features}~|~L_i)$ for each label.\n",
    "\n",
    "Such a model is called a *generative model* because it specifies the hypothetical random process that generates the data.\n",
    "\n",
    "Specifying this generative model for each label is the main piece of the training of such a Bayesian classifier.\n",
    "\n",
    "The general version of such a training step is a very difficult task, but we can make it simpler through the use of some simplifying assumptions about the form of this model.\n",
    "\n",
    "This is where the \"naive\" in \"naive Bayes\" comes in: if we make very naive assumptions about the generative model for each label, we can find a rough approximation of the generative model for each class, and then proceed with the Bayesian classification.\n",
    "\n",
    "Different types of naive Bayes classifiers rest on different naive assumptions about the data, and we will examine a few of these in the following sections.\n",
    "\n",
    "We begin with the standard imports:"
   ]
  },
  {
   "cell_type": "code",
   "execution_count": 19,
   "metadata": {
    "pycharm": {
     "name": "#%%\n"
    }
   },
   "outputs": [],
   "source": [
    "%matplotlib inline\n",
    "import numpy as np\n",
    "import matplotlib.pyplot as plt\n",
    "import seaborn as sns"
   ]
  },
  {
   "cell_type": "markdown",
   "metadata": {},
   "source": [
    "### Gaussian Naive Bayes\n",
    "\n",
    "Perhaps the easiest naive Bayes classifier to understand is Gaussian naive Bayes.\n",
    "In this classifier, the assumption is that *data from each label is drawn from a simple Gaussian distribution*.\n",
    "Imagine that you have the following data:"
   ]
  },
  {
   "cell_type": "code",
   "execution_count": 20,
   "metadata": {
    "pycharm": {
     "name": "#%%\n"
    }
   },
   "outputs": [
    {
     "data": {
      "image/png": "[encoded data removed]",
      "text/plain": [
       "<Figure size 640x480 with 1 Axes>"
      ]
     },
     "metadata": {},
     "output_type": "display_data"
    }
   ],
   "source": [
    "from sklearn.datasets import make_blobs\n",
    "X, y = make_blobs(100, 2, centers=2, random_state=2, cluster_std=1.5)\n",
    "plt.scatter(X[:, 0], X[:, 1], c=y, s=50, cmap='RdBu');"
   ]
  },
  {
   "cell_type": "markdown",
   "metadata": {},
   "source": [
    "One extremely fast way to create a simple model is to assume that the data is described by a Gaussian distribution with no covariance between dimensions.\n",
    "\n",
    "This model can be fit by simply finding the mean and standard deviation of the points within each label, which is all you need to define such a distribution.\n",
    "\n",
    "The result of this naive Gaussian assumption is shown in the following figure:"
   ]
  },
  {
   "cell_type": "markdown",
   "metadata": {},
   "source": [
    "The ellipses here represent the Gaussian generative model for each label, with larger probability toward the center of the ellipses.\n",
    "\n",
    "With this generative model in place for each class, we have a simple recipe to compute the likelihood $P({\\rm features}~|~L_1)$ for any data point, and thus we can quickly compute the posterior ratio and determine which label is the most probable for a given point.\n",
    "\n",
    "This procedure is implemented in Scikit-Learn's ``sklearn.naive_bayes.GaussianNB`` estimator:"
   ]
  },
  {
   "cell_type": "code",
   "execution_count": 21,
   "metadata": {
    "pycharm": {
     "name": "#%%\n"
    }
   },
   "outputs": [
    {
     "data": {
      "text/html": [
       "<style>#sk-container-id-2 {\n",
       "  /* Definition of color scheme common for light and dark mode */\n",
       "  --sklearn-color-text: black;\n",
       "  --sklearn-color-line: gray;\n",
       "  /* Definition of color scheme for unfitted estimators */\n",
       "  --sklearn-color-unfitted-level-0: #fff5e6;\n",
       "  --sklearn-color-unfitted-level-1: #f6e4d2;\n",
       "  --sklearn-color-unfitted-level-2: #ffe0b3;\n",
       "  --sklearn-color-unfitted-level-3: chocolate;\n",
       "  /* Definition of color scheme for fitted estimators */\n",
       "  --sklearn-color-fitted-level-0: #f0f8ff;\n",
       "  --sklearn-color-fitted-level-1: #d4ebff;\n",
       "  --sklearn-color-fitted-level-2: #b3dbfd;\n",
       "  --sklearn-color-fitted-level-3: cornflowerblue;\n",
       "\n",
       "  /* Specific color for light theme */\n",
       "  --sklearn-color-text-on-default-background: var(--sg-text-color, var(--theme-code-foreground, var(--jp-content-font-color1, black)));\n",
       "  --sklearn-color-background: var(--sg-background-color, var(--theme-background, var(--jp-layout-color0, white)));\n",
       "  --sklearn-color-border-box: var(--sg-text-color, var(--theme-code-foreground, var(--jp-content-font-color1, black)));\n",
       "  --sklearn-color-icon: #696969;\n",
       "\n",
       "  @media (prefers-color-scheme: dark) {\n",
       "    /* Redefinition of color scheme for dark theme */\n",
       "    --sklearn-color-text-on-default-background: var(--sg-text-color, var(--theme-code-foreground, var(--jp-content-font-color1, white)));\n",
       "    --sklearn-color-background: var(--sg-background-color, var(--theme-background, var(--jp-layout-color0, #111)));\n",
       "    --sklearn-color-border-box: var(--sg-text-color, var(--theme-code-foreground, var(--jp-content-font-color1, white)));\n",
       "    --sklearn-color-icon: #878787;\n",
       "  }\n",
       "}\n",
       "\n",
       "#sk-container-id-2 {\n",
       "  color: var(--sklearn-color-text);\n",
       "}\n",
       "\n",
       "#sk-container-id-2 pre {\n",
       "  padding: 0;\n",
       "}\n",
       "\n",
       "#sk-container-id-2 input.sk-hidden--visually {\n",
       "  border: 0;\n",
       "  clip: rect(1px 1px 1px 1px);\n",
       "  clip: rect(1px, 1px, 1px, 1px);\n",
       "  height: 1px;\n",
       "  margin: -1px;\n",
       "  overflow: hidden;\n",
       "  padding: 0;\n",
       "  position: absolute;\n",
       "  width: 1px;\n",
       "}\n",
       "\n",
       "#sk-container-id-2 div.sk-dashed-wrapped {\n",
       "  border: 1px dashed var(--sklearn-color-line);\n",
       "  margin: 0 0.4em 0.5em 0.4em;\n",
       "  box-sizing: border-box;\n",
       "  padding-bottom: 0.4em;\n",
       "  background-color: var(--sklearn-color-background);\n",
       "}\n",
       "\n",
       "#sk-container-id-2 div.sk-container {\n",
       "  /* jupyter's `normalize.less` sets `[hidden] { display: none; }`\n",
       "     but bootstrap.min.css set `[hidden] { display: none !important; }`\n",
       "     so we also need the `!important` here to be able to override the\n",
       "     default hidden behavior on the sphinx rendered scikit-learn.org.\n",
       "     See: https://github.com/scikit-learn/scikit-learn/issues/21755 */\n",
       "  display: inline-block !important;\n",
       "  position: relative;\n",
       "}\n",
       "\n",
       "#sk-container-id-2 div.sk-text-repr-fallback {\n",
       "  display: none;\n",
       "}\n",
       "\n",
       "div.sk-parallel-item,\n",
       "div.sk-serial,\n",
       "div.sk-item {\n",
       "  /* draw centered vertical line to link estimators */\n",
       "  background-image: linear-gradient(var(--sklearn-color-text-on-default-background), var(--sklearn-color-text-on-default-background));\n",
       "  background-size: 2px 100%;\n",
       "  background-repeat: no-repeat;\n",
       "  background-position: center center;\n",
       "}\n",
       "\n",
       "/* Parallel-specific style estimator block */\n",
       "\n",
       "#sk-container-id-2 div.sk-parallel-item::after {\n",
       "  content: \"\";\n",
       "  width: 100%;\n",
       "  border-bottom: 2px solid var(--sklearn-color-text-on-default-background);\n",
       "  flex-grow: 1;\n",
       "}\n",
       "\n",
       "#sk-container-id-2 div.sk-parallel {\n",
       "  display: flex;\n",
       "  align-items: stretch;\n",
       "  justify-content: center;\n",
       "  background-color: var(--sklearn-color-background);\n",
       "  position: relative;\n",
       "}\n",
       "\n",
       "#sk-container-id-2 div.sk-parallel-item {\n",
       "  display: flex;\n",
       "  flex-direction: column;\n",
       "}\n",
       "\n",
       "#sk-container-id-2 div.sk-parallel-item:first-child::after {\n",
       "  align-self: flex-end;\n",
       "  width: 50%;\n",
       "}\n",
       "\n",
       "#sk-container-id-2 div.sk-parallel-item:last-child::after {\n",
       "  align-self: flex-start;\n",
       "  width: 50%;\n",
       "}\n",
       "\n",
       "#sk-container-id-2 div.sk-parallel-item:only-child::after {\n",
       "  width: 0;\n",
       "}\n",
       "\n",
       "/* Serial-specific style estimator block */\n",
       "\n",
       "#sk-container-id-2 div.sk-serial {\n",
       "  display: flex;\n",
       "  flex-direction: column;\n",
       "  align-items: center;\n",
       "  background-color: var(--sklearn-color-background);\n",
       "  padding-right: 1em;\n",
       "  padding-left: 1em;\n",
       "}\n",
       "\n",
       "\n",
       "/* Toggleable style: style used for estimator/Pipeline/ColumnTransformer box that is\n",
       "clickable and can be expanded/collapsed.\n",
       "- Pipeline and ColumnTransformer use this feature and define the default style\n",
       "- Estimators will overwrite some part of the style using the `sk-estimator` class\n",
       "*/\n",
       "\n",
       "/* Pipeline and ColumnTransformer style (default) */\n",
       "\n",
       "#sk-container-id-2 div.sk-toggleable {\n",
       "  /* Default theme specific background. It is overwritten whether we have a\n",
       "  specific estimator or a Pipeline/ColumnTransformer */\n",
       "  background-color: var(--sklearn-color-background);\n",
       "}\n",
       "\n",
       "/* Toggleable label */\n",
       "#sk-container-id-2 label.sk-toggleable__label {\n",
       "  cursor: pointer;\n",
       "  display: block;\n",
       "  width: 100%;\n",
       "  margin-bottom: 0;\n",
       "  padding: 0.5em;\n",
       "  box-sizing: border-box;\n",
       "  text-align: center;\n",
       "}\n",
       "\n",
       "#sk-container-id-2 label.sk-toggleable__label-arrow:before {\n",
       "  /* Arrow on the left of the label */\n",
       "  content: \"▸\";\n",
       "  float: left;\n",
       "  margin-right: 0.25em;\n",
       "  color: var(--sklearn-color-icon);\n",
       "}\n",
       "\n",
       "#sk-container-id-2 label.sk-toggleable__label-arrow:hover:before {\n",
       "  color: var(--sklearn-color-text);\n",
       "}\n",
       "\n",
       "/* Toggleable content - dropdown */\n",
       "\n",
       "#sk-container-id-2 div.sk-toggleable__content {\n",
       "  max-height: 0;\n",
       "  max-width: 0;\n",
       "  overflow: hidden;\n",
       "  text-align: left;\n",
       "  /* unfitted */\n",
       "  background-color: var(--sklearn-color-unfitted-level-0);\n",
       "}\n",
       "\n",
       "#sk-container-id-2 div.sk-toggleable__content.fitted {\n",
       "  /* fitted */\n",
       "  background-color: var(--sklearn-color-fitted-level-0);\n",
       "}\n",
       "\n",
       "#sk-container-id-2 div.sk-toggleable__content pre {\n",
       "  margin: 0.2em;\n",
       "  border-radius: 0.25em;\n",
       "  color: var(--sklearn-color-text);\n",
       "  /* unfitted */\n",
       "  background-color: var(--sklearn-color-unfitted-level-0);\n",
       "}\n",
       "\n",
       "#sk-container-id-2 div.sk-toggleable__content.fitted pre {\n",
       "  /* unfitted */\n",
       "  background-color: var(--sklearn-color-fitted-level-0);\n",
       "}\n",
       "\n",
       "#sk-container-id-2 input.sk-toggleable__control:checked~div.sk-toggleable__content {\n",
       "  /* Expand drop-down */\n",
       "  max-height: 200px;\n",
       "  max-width: 100%;\n",
       "  overflow: auto;\n",
       "}\n",
       "\n",
       "#sk-container-id-2 input.sk-toggleable__control:checked~label.sk-toggleable__label-arrow:before {\n",
       "  content: \"▾\";\n",
       "}\n",
       "\n",
       "/* Pipeline/ColumnTransformer-specific style */\n",
       "\n",
       "#sk-container-id-2 div.sk-label input.sk-toggleable__control:checked~label.sk-toggleable__label {\n",
       "  color: var(--sklearn-color-text);\n",
       "  background-color: var(--sklearn-color-unfitted-level-2);\n",
       "}\n",
       "\n",
       "#sk-container-id-2 div.sk-label.fitted input.sk-toggleable__control:checked~label.sk-toggleable__label {\n",
       "  background-color: var(--sklearn-color-fitted-level-2);\n",
       "}\n",
       "\n",
       "/* Estimator-specific style */\n",
       "\n",
       "/* Colorize estimator box */\n",
       "#sk-container-id-2 div.sk-estimator input.sk-toggleable__control:checked~label.sk-toggleable__label {\n",
       "  /* unfitted */\n",
       "  background-color: var(--sklearn-color-unfitted-level-2);\n",
       "}\n",
       "\n",
       "#sk-container-id-2 div.sk-estimator.fitted input.sk-toggleable__control:checked~label.sk-toggleable__label {\n",
       "  /* fitted */\n",
       "  background-color: var(--sklearn-color-fitted-level-2);\n",
       "}\n",
       "\n",
       "#sk-container-id-2 div.sk-label label.sk-toggleable__label,\n",
       "#sk-container-id-2 div.sk-label label {\n",
       "  /* The background is the default theme color */\n",
       "  color: var(--sklearn-color-text-on-default-background);\n",
       "}\n",
       "\n",
       "/* On hover, darken the color of the background */\n",
       "#sk-container-id-2 div.sk-label:hover label.sk-toggleable__label {\n",
       "  color: var(--sklearn-color-text);\n",
       "  background-color: var(--sklearn-color-unfitted-level-2);\n",
       "}\n",
       "\n",
       "/* Label box, darken color on hover, fitted */\n",
       "#sk-container-id-2 div.sk-label.fitted:hover label.sk-toggleable__label.fitted {\n",
       "  color: var(--sklearn-color-text);\n",
       "  background-color: var(--sklearn-color-fitted-level-2);\n",
       "}\n",
       "\n",
       "/* Estimator label */\n",
       "\n",
       "#sk-container-id-2 div.sk-label label {\n",
       "  font-family: monospace;\n",
       "  font-weight: bold;\n",
       "  display: inline-block;\n",
       "  line-height: 1.2em;\n",
       "}\n",
       "\n",
       "#sk-container-id-2 div.sk-label-container {\n",
       "  text-align: center;\n",
       "}\n",
       "\n",
       "/* Estimator-specific */\n",
       "#sk-container-id-2 div.sk-estimator {\n",
       "  font-family: monospace;\n",
       "  border: 1px dotted var(--sklearn-color-border-box);\n",
       "  border-radius: 0.25em;\n",
       "  box-sizing: border-box;\n",
       "  margin-bottom: 0.5em;\n",
       "  /* unfitted */\n",
       "  background-color: var(--sklearn-color-unfitted-level-0);\n",
       "}\n",
       "\n",
       "#sk-container-id-2 div.sk-estimator.fitted {\n",
       "  /* fitted */\n",
       "  background-color: var(--sklearn-color-fitted-level-0);\n",
       "}\n",
       "\n",
       "/* on hover */\n",
       "#sk-container-id-2 div.sk-estimator:hover {\n",
       "  /* unfitted */\n",
       "  background-color: var(--sklearn-color-unfitted-level-2);\n",
       "}\n",
       "\n",
       "#sk-container-id-2 div.sk-estimator.fitted:hover {\n",
       "  /* fitted */\n",
       "  background-color: var(--sklearn-color-fitted-level-2);\n",
       "}\n",
       "\n",
       "/* Specification for estimator info (e.g. \"i\" and \"?\") */\n",
       "\n",
       "/* Common style for \"i\" and \"?\" */\n",
       "\n",
       ".sk-estimator-doc-link,\n",
       "a:link.sk-estimator-doc-link,\n",
       "a:visited.sk-estimator-doc-link {\n",
       "  float: right;\n",
       "  font-size: smaller;\n",
       "  line-height: 1em;\n",
       "  font-family: monospace;\n",
       "  background-color: var(--sklearn-color-background);\n",
       "  border-radius: 1em;\n",
       "  height: 1em;\n",
       "  width: 1em;\n",
       "  text-decoration: none !important;\n",
       "  margin-left: 1ex;\n",
       "  /* unfitted */\n",
       "  border: var(--sklearn-color-unfitted-level-1) 1pt solid;\n",
       "  color: var(--sklearn-color-unfitted-level-1);\n",
       "}\n",
       "\n",
       ".sk-estimator-doc-link.fitted,\n",
       "a:link.sk-estimator-doc-link.fitted,\n",
       "a:visited.sk-estimator-doc-link.fitted {\n",
       "  /* fitted */\n",
       "  border: var(--sklearn-color-fitted-level-1) 1pt solid;\n",
       "  color: var(--sklearn-color-fitted-level-1);\n",
       "}\n",
       "\n",
       "/* On hover */\n",
       "div.sk-estimator:hover .sk-estimator-doc-link:hover,\n",
       ".sk-estimator-doc-link:hover,\n",
       "div.sk-label-container:hover .sk-estimator-doc-link:hover,\n",
       ".sk-estimator-doc-link:hover {\n",
       "  /* unfitted */\n",
       "  background-color: var(--sklearn-color-unfitted-level-3);\n",
       "  color: var(--sklearn-color-background);\n",
       "  text-decoration: none;\n",
       "}\n",
       "\n",
       "div.sk-estimator.fitted:hover .sk-estimator-doc-link.fitted:hover,\n",
       ".sk-estimator-doc-link.fitted:hover,\n",
       "div.sk-label-container:hover .sk-estimator-doc-link.fitted:hover,\n",
       ".sk-estimator-doc-link.fitted:hover {\n",
       "  /* fitted */\n",
       "  background-color: var(--sklearn-color-fitted-level-3);\n",
       "  color: var(--sklearn-color-background);\n",
       "  text-decoration: none;\n",
       "}\n",
       "\n",
       "/* Span, style for the box shown on hovering the info icon */\n",
       ".sk-estimator-doc-link span {\n",
       "  display: none;\n",
       "  z-index: 9999;\n",
       "  position: relative;\n",
       "  font-weight: normal;\n",
       "  right: .2ex;\n",
       "  padding: .5ex;\n",
       "  margin: .5ex;\n",
       "  width: min-content;\n",
       "  min-width: 20ex;\n",
       "  max-width: 50ex;\n",
       "  color: var(--sklearn-color-text);\n",
       "  box-shadow: 2pt 2pt 4pt #999;\n",
       "  /* unfitted */\n",
       "  background: var(--sklearn-color-unfitted-level-0);\n",
       "  border: .5pt solid var(--sklearn-color-unfitted-level-3);\n",
       "}\n",
       "\n",
       ".sk-estimator-doc-link.fitted span {\n",
       "  /* fitted */\n",
       "  background: var(--sklearn-color-fitted-level-0);\n",
       "  border: var(--sklearn-color-fitted-level-3);\n",
       "}\n",
       "\n",
       ".sk-estimator-doc-link:hover span {\n",
       "  display: block;\n",
       "}\n",
       "\n",
       "/* \"?\"-specific style due to the `<a>` HTML tag */\n",
       "\n",
       "#sk-container-id-2 a.estimator_doc_link {\n",
       "  float: right;\n",
       "  font-size: 1rem;\n",
       "  line-height: 1em;\n",
       "  font-family: monospace;\n",
       "  background-color: var(--sklearn-color-background);\n",
       "  border-radius: 1rem;\n",
       "  height: 1rem;\n",
       "  width: 1rem;\n",
       "  text-decoration: none;\n",
       "  /* unfitted */\n",
       "  color: var(--sklearn-color-unfitted-level-1);\n",
       "  border: var(--sklearn-color-unfitted-level-1) 1pt solid;\n",
       "}\n",
       "\n",
       "#sk-container-id-2 a.estimator_doc_link.fitted {\n",
       "  /* fitted */\n",
       "  border: var(--sklearn-color-fitted-level-1) 1pt solid;\n",
       "  color: var(--sklearn-color-fitted-level-1);\n",
       "}\n",
       "\n",
       "/* On hover */\n",
       "#sk-container-id-2 a.estimator_doc_link:hover {\n",
       "  /* unfitted */\n",
       "  background-color: var(--sklearn-color-unfitted-level-3);\n",
       "  color: var(--sklearn-color-background);\n",
       "  text-decoration: none;\n",
       "}\n",
       "\n",
       "#sk-container-id-2 a.estimator_doc_link.fitted:hover {\n",
       "  /* fitted */\n",
       "  background-color: var(--sklearn-color-fitted-level-3);\n",
       "}\n",
       "</style><div id=\"sk-container-id-2\" class=\"sk-top-container\"><div class=\"sk-text-repr-fallback\"><pre>GaussianNB()</pre><b>In a Jupyter environment, please rerun this cell to show the HTML representation or trust the notebook. <br />On GitHub, the HTML representation is unable to render, please try loading this page with nbviewer.org.</b></div><div class=\"sk-container\" hidden><div class=\"sk-item\"><div class=\"sk-estimator fitted sk-toggleable\"><input class=\"sk-toggleable__control sk-hidden--visually\" id=\"sk-estimator-id-2\" type=\"checkbox\" checked><label for=\"sk-estimator-id-2\" class=\"sk-toggleable__label fitted sk-toggleable__label-arrow fitted\">&nbsp;&nbsp;GaussianNB<a class=\"sk-estimator-doc-link fitted\" rel=\"noreferrer\" target=\"_blank\" href=\"https://scikit-learn.org/1.5/modules/generated/sklearn.naive_bayes.GaussianNB.html\">?<span>Documentation for GaussianNB</span></a><span class=\"sk-estimator-doc-link fitted\">i<span>Fitted</span></span></label><div class=\"sk-toggleable__content fitted\"><pre>GaussianNB()</pre></div> </div></div></div></div>"
      ],
      "text/plain": [
       "GaussianNB()"
      ]
     },
     "execution_count": 21,
     "metadata": {},
     "output_type": "execute_result"
    }
   ],
   "source": [
    "from sklearn.naive_bayes import GaussianNB\n",
    "model = GaussianNB()\n",
    "model.fit(X, y)"
   ]
  },
  {
   "cell_type": "markdown",
   "metadata": {},
   "source": [
    "Now let's generate some new data and predict the label:"
   ]
  },
  {
   "cell_type": "code",
   "execution_count": 22,
   "metadata": {
    "pycharm": {
     "name": "#%%\n"
    }
   },
   "outputs": [],
   "source": [
    "rng = np.random.RandomState(0)\n",
    "Xnew = [-6, -14] + [14, 18] * rng.rand(2000, 2)\n",
    "ynew = model.predict(Xnew)"
   ]
  },
  {
   "cell_type": "markdown",
   "metadata": {},
   "source": [
    "Now we can plot this new data to get an idea of where the decision boundary is:"
   ]
  },
  {
   "cell_type": "code",
   "execution_count": 23,
   "metadata": {
    "pycharm": {
     "name": "#%%\n"
    }
   },
   "outputs": [
    {
     "data": {
      "image/png": "[encoded data removed]",
      "text/plain": [
       "<Figure size 640x480 with 1 Axes>"
      ]
     },
     "metadata": {},
     "output_type": "display_data"
    }
   ],
   "source": [
    "plt.scatter(X[:, 0], X[:, 1], c=y, s=50, cmap='RdBu')\n",
    "lim = plt.axis()\n",
    "plt.scatter(Xnew[:, 0], Xnew[:, 1], c=ynew, s=20, cmap='RdBu', alpha=0.1)\n",
    "plt.axis(lim);"
   ]
  },
  {
   "cell_type": "markdown",
   "metadata": {},
   "source": [
    "We see a slightly curved boundary in the classifications—in general, the boundary in Gaussian naive Bayes is quadratic.\n",
    "\n",
    "A nice piece of this Bayesian formalism is that it naturally allows for probabilistic classification, which we can compute using the ``predict_proba`` method:"
   ]
  },
  {
   "cell_type": "code",
   "execution_count": 24,
   "metadata": {
    "pycharm": {
     "name": "#%%\n"
    }
   },
   "outputs": [
    {
     "data": {
      "text/plain": [
       "array([[0.89, 0.11],\n",
       "       [1.  , 0.  ],\n",
       "       [1.  , 0.  ],\n",
       "       [1.  , 0.  ],\n",
       "       [1.  , 0.  ],\n",
       "       [1.  , 0.  ],\n",
       "       [0.  , 1.  ],\n",
       "       [0.15, 0.85]])"
      ]
     },
     "execution_count": 24,
     "metadata": {},
     "output_type": "execute_result"
    }
   ],
   "source": [
    "yprob = model.predict_proba(Xnew)\n",
    "yprob[-8:].round(2)"
   ]
  },
  {
   "cell_type": "code",
   "execution_count": 25,
   "metadata": {},
   "outputs": [
    {
     "data": {
      "text/plain": [
       "array([0, 1])"
      ]
     },
     "execution_count": 25,
     "metadata": {},
     "output_type": "execute_result"
    }
   ],
   "source": [
    "model.classes_"
   ]
  },
  {
   "cell_type": "markdown",
   "metadata": {},
   "source": [
    "The columns give the posterior probabilities of the first and second label, respectively.\n",
    "If you are looking for estimates of uncertainty in your classification, Bayesian approaches like this can be a useful approach.\n",
    "\n",
    "Of course, the final classification will only be as good as the model assumptions that lead to it, which is why Gaussian naive Bayes often does not produce very good results.\n",
    "Still, in many cases—especially as the number of features becomes large—this assumption is not detrimental enough to prevent Gaussian naive Bayes from being a useful method."
   ]
  },
  {
   "cell_type": "markdown",
   "metadata": {},
   "source": [
    "## Multinomial Naive Bayes\n",
    "\n",
    "The Gaussian assumption just described is by no means the only simple assumption that could be used to specify the generative distribution for each label.\n",
    "Another useful example is multinomial naive Bayes, where the features are assumed to be generated from a simple multinomial distribution.\n",
    "The multinomial distribution describes the probability of observing counts among a number of categories, and thus multinomial naive Bayes is most appropriate for features that represent counts or count rates.\n",
    "\n",
    "The idea is precisely the same as before, except that instead of modeling the data distribution with the best-fit Gaussian, we model the data distribution with a best-fit multinomial distribution."
   ]
  },
  {
   "cell_type": "markdown",
   "metadata": {},
   "source": [
    "### Example: Classifying Text\n",
    "\n",
    "One place where multinomial naive Bayes is often used is in text classification, where the features are related to word counts or frequencies within the documents to be classified.\n",
    "We discussed the extraction of such features from text in [Feature Engineering](05.04-Feature-Engineering.ipynb); here we will use the sparse word count features from the 20 Newsgroups corpus to show how we might classify these short documents into categories.\n",
    "\n",
    "Let's download the data and take a look at the target names:"
   ]
  },
  {
   "cell_type": "code",
   "execution_count": 26,
   "metadata": {
    "pycharm": {
     "name": "#%%\n"
    }
   },
   "outputs": [
    {
     "data": {
      "text/plain": [
       "['alt.atheism',\n",
       " 'comp.graphics',\n",
       " 'comp.os.ms-windows.misc',\n",
       " 'comp.sys.ibm.pc.hardware',\n",
       " 'comp.sys.mac.hardware',\n",
       " 'comp.windows.x',\n",
       " 'misc.forsale',\n",
       " 'rec.autos',\n",
       " 'rec.motorcycles',\n",
       " 'rec.sport.baseball',\n",
       " 'rec.sport.hockey',\n",
       " 'sci.crypt',\n",
       " 'sci.electronics',\n",
       " 'sci.med',\n",
       " 'sci.space',\n",
       " 'soc.religion.christian',\n",
       " 'talk.politics.guns',\n",
       " 'talk.politics.mideast',\n",
       " 'talk.politics.misc',\n",
       " 'talk.religion.misc']"
      ]
     },
     "execution_count": 26,
     "metadata": {},
     "output_type": "execute_result"
    }
   ],
   "source": [
    "from sklearn.datasets import fetch_20newsgroups\n",
    "\n",
    "data = fetch_20newsgroups()\n",
    "data.target_names"
   ]
  },
  {
   "cell_type": "markdown",
   "metadata": {},
   "source": [
    "For simplicity here, we will select just a few of these categories, and download the training and testing set:"
   ]
  },
  {
   "cell_type": "code",
   "execution_count": 27,
   "metadata": {
    "pycharm": {
     "name": "#%%\n"
    }
   },
   "outputs": [],
   "source": [
    "categories = ['talk.religion.misc', 'soc.religion.christian',\n",
    "             'sci.space', 'comp.graphics']\n",
    "train = fetch_20newsgroups(subset='train', categories=categories)\n",
    "test = fetch_20newsgroups(subset='test', categories=categories)"
   ]
  },
  {
   "cell_type": "markdown",
   "metadata": {},
   "source": [
    "Here is a representative entry from the data:"
   ]
  },
  {
   "cell_type": "code",
   "execution_count": 28,
   "metadata": {
    "pycharm": {
     "name": "#%%\n"
    }
   },
   "outputs": [
    {
     "name": "stdout",
     "output_type": "stream",
     "text": [
      "From: dmcgee@uluhe.soest.hawaii.edu (Don McGee)\n",
      "Subject: Federal Hearing\n",
      "Originator: dmcgee@uluhe\n",
      "Organization: School of Ocean and Earth Science and Technology\n",
      "Distribution: usa\n",
      "Lines: 10\n",
      "\n",
      "\n",
      "Fact or rumor....?  Madalyn Murray O'Hare an atheist who eliminated the\n",
      "use of the bible reading and prayer in public schools 15 years ago is now\n",
      "going to appear before the FCC with a petition to stop the reading of the\n",
      "Gospel on the airways of America.  And she is also campaigning to remove\n",
      "Christmas programs, songs, etc from the public schools.  If it is true\n",
      "then mail to Federal Communications Commission 1919 H Street Washington DC\n",
      "20054 expressing your opposition to her request.  Reference Petition number\n",
      "\n",
      "2493.\n",
      "\n"
     ]
    }
   ],
   "source": [
    "print(train.data[5])"
   ]
  },
  {
   "cell_type": "markdown",
   "metadata": {},
   "source": [
    "Show the distributions of lengths of the emails"
   ]
  },
  {
   "cell_type": "code",
   "execution_count": 29,
   "metadata": {
    "pycharm": {
     "name": "#%%\n"
    }
   },
   "outputs": [
    {
     "data": {
      "image/png": "[encoded data removed]",
      "text/plain": [
       "<Figure size 640x480 with 1 Axes>"
      ]
     },
     "metadata": {},
     "output_type": "display_data"
    }
   ],
   "source": [
    "lens = [len(d) for d in train.data]\n",
    "\n",
    "def plot_loghist(x, bins):\n",
    "  hist, bins = np.histogram(x, bins=bins)\n",
    "  logbins = np.logspace(np.log10(bins[0]),np.log10(bins[-1]),len(bins))\n",
    "  plt.hist(x, bins=logbins)\n",
    "  plt.xscale('log')\n",
    "\n",
    "plot_loghist(lens, 10)\n"
   ]
  },
  {
   "cell_type": "markdown",
   "metadata": {},
   "source": [
    "In order to use this data for machine learning, we need to be able to convert the content of each string into a vector of numbers.\n",
    "For this we will use the TF-IDF vectorizer, and create a pipeline that attaches it to a multinomial naive Bayes classifier:"
   ]
  },
  {
   "cell_type": "code",
   "execution_count": 30,
   "metadata": {
    "pycharm": {
     "name": "#%%\n"
    }
   },
   "outputs": [],
   "source": [
    "from sklearn.feature_extraction.text import TfidfVectorizer\n",
    "from sklearn.naive_bayes import MultinomialNB\n",
    "from sklearn.pipeline import make_pipeline\n",
    "\n",
    "model = make_pipeline(TfidfVectorizer(), MultinomialNB())"
   ]
  },
  {
   "cell_type": "markdown",
   "metadata": {},
   "source": [
    "With this pipeline, we can apply the model to the training data, and predict labels for the test data:"
   ]
  },
  {
   "cell_type": "code",
   "execution_count": 31,
   "metadata": {
    "pycharm": {
     "name": "#%%\n"
    }
   },
   "outputs": [],
   "source": [
    "model.fit(train.data, train.target)\n",
    "labels = model.predict(test.data)"
   ]
  },
  {
   "cell_type": "markdown",
   "metadata": {},
   "source": [
    "Now that we have predicted the labels for the test data, we can evaluate them to learn about the performance of the estimator.\n",
    "For example, here is the confusion matrix between the true and predicted labels for the test data:"
   ]
  },
  {
   "cell_type": "code",
   "execution_count": 32,
   "metadata": {
    "pycharm": {
     "name": "#%%\n"
    }
   },
   "outputs": [
    {
     "data": {
      "image/png": "[encoded data removed]",
      "text/plain": [
       "<Figure size 2000x1400 with 1 Axes>"
      ]
     },
     "metadata": {},
     "output_type": "display_data"
    }
   ],
   "source": [
    "from sklearn.metrics import confusion_matrix\n",
    "mat = confusion_matrix(test.target, labels)\n",
    "plt.figure(figsize=(20,14))\n",
    "sns.heatmap(mat.T, square=True, annot=True, fmt='d', cbar=False,\n",
    "            xticklabels=train.target_names, yticklabels=train.target_names)\n",
    "plt.xlabel('true label')\n",
    "plt.ylabel('predicted label');"
   ]
  },
  {
   "cell_type": "markdown",
   "metadata": {},
   "source": [
    "Evidently, even this very simple classifier can successfully separate space talk from computer talk, but it gets confused between talk about religion and talk about Christianity.\n",
    "This is perhaps an expected area of confusion!\n",
    "\n",
    "The very cool thing here is that we now have the tools to determine the category for *any* string, using the ``predict()`` method of this pipeline.\n",
    "Here's a quick utility function that will return the prediction for a single string:"
   ]
  },
  {
   "cell_type": "code",
   "execution_count": 33,
   "metadata": {
    "pycharm": {
     "name": "#%%\n"
    }
   },
   "outputs": [
    {
     "name": "stdout",
     "output_type": "stream",
     "text": [
      "              precision    recall  f1-score   support\n",
      "\n",
      "           0       0.97      0.88      0.92       389\n",
      "           1       0.92      0.92      0.92       394\n",
      "           2       0.62      0.98      0.76       398\n",
      "           3       1.00      0.19      0.32       251\n",
      "\n",
      "    accuracy                           0.80      1432\n",
      "   macro avg       0.88      0.75      0.73      1432\n",
      "weighted avg       0.86      0.80      0.77      1432\n",
      "\n"
     ]
    }
   ],
   "source": [
    "from sklearn.metrics import classification_report\n",
    "print(classification_report(test.target, labels))\n"
   ]
  },
  {
   "cell_type": "code",
   "execution_count": 34,
   "metadata": {
    "pycharm": {
     "name": "#%%\n"
    }
   },
   "outputs": [],
   "source": [
    "def predict_category(s, train=train, model=model):\n",
    "    pred = model.predict([s])\n",
    "    return train.target_names[pred[0]]"
   ]
  },
  {
   "cell_type": "markdown",
   "metadata": {},
   "source": [
    "Let's try it out:"
   ]
  },
  {
   "cell_type": "code",
   "execution_count": 35,
   "metadata": {
    "pycharm": {
     "name": "#%%\n"
    }
   },
   "outputs": [
    {
     "data": {
      "text/plain": [
       "'sci.space'"
      ]
     },
     "execution_count": 35,
     "metadata": {},
     "output_type": "execute_result"
    }
   ],
   "source": [
    "predict_category('sending a payload to the ISS')"
   ]
  },
  {
   "cell_type": "code",
   "execution_count": 36,
   "metadata": {
    "pycharm": {
     "name": "#%%\n"
    }
   },
   "outputs": [
    {
     "data": {
      "text/plain": [
       "'comp.graphics'"
      ]
     },
     "execution_count": 36,
     "metadata": {},
     "output_type": "execute_result"
    }
   ],
   "source": [
    "predict_category('sending bytes to the network')"
   ]
  },
  {
   "cell_type": "code",
   "execution_count": 37,
   "metadata": {
    "pycharm": {
     "name": "#%%\n"
    }
   },
   "outputs": [
    {
     "data": {
      "text/plain": [
       "'sci.space'"
      ]
     },
     "execution_count": 37,
     "metadata": {},
     "output_type": "execute_result"
    }
   ],
   "source": [
    "predict_category('sending chocolate')"
   ]
  },
  {
   "cell_type": "code",
   "execution_count": 38,
   "metadata": {
    "pycharm": {
     "name": "#%%\n"
    }
   },
   "outputs": [
    {
     "data": {
      "text/plain": [
       "'soc.religion.christian'"
      ]
     },
     "execution_count": 38,
     "metadata": {},
     "output_type": "execute_result"
    }
   ],
   "source": [
    "predict_category('discussing islam vs atheism')"
   ]
  },
  {
   "cell_type": "code",
   "execution_count": 39,
   "metadata": {
    "pycharm": {
     "name": "#%%\n"
    }
   },
   "outputs": [
    {
     "data": {
      "text/plain": [
       "'comp.graphics'"
      ]
     },
     "execution_count": 39,
     "metadata": {},
     "output_type": "execute_result"
    }
   ],
   "source": [
    "predict_category('determining the screen resolution')"
   ]
  },
  {
   "cell_type": "markdown",
   "metadata": {},
   "source": [
    "Remember that this is nothing more sophisticated than a simple probability model for the (weighted) frequency of each word in the string; nevertheless, the result is striking.\n",
    "Even a very naive algorithm, when used carefully and trained on a large set of high-dimensional data, can be surprisingly effective."
   ]
  },
  {
   "cell_type": "markdown",
   "metadata": {},
   "source": [
    "## When to Use Naive Bayes\n",
    "\n",
    "Because naive Bayesian classifiers make such stringent assumptions about data, they will generally not perform as well as a more complicated model.\n",
    "That said, they have several advantages:\n",
    "\n",
    "- They are extremely fast for both training and prediction\n",
    "- They provide straightforward probabilistic prediction\n",
    "- They are often very easily interpretable\n",
    "- They have very few (if any) tunable parameters\n",
    "\n",
    "These advantages mean a naive Bayesian classifier is often a good choice as an initial baseline classification.\n",
    "If it performs suitably, then congratulations: you have a very fast, very interpretable classifier for your problem.\n",
    "If it does not perform well, then you can begin exploring more sophisticated models, with some baseline knowledge of how well they should perform.\n",
    "\n",
    "Naive Bayes classifiers tend to perform especially well in one of the following situations:\n",
    "\n",
    "- When the naive assumptions actually match the data (very rare in practice)\n",
    "- For very well-separated categories, when model complexity is less important\n",
    "- For very high-dimensional data, when model complexity is less important\n",
    "\n",
    "The last two points seem distinct, but they actually are related: as the dimension of a dataset grows, it is much less likely for any two points to be found close together (after all, they must be close in *every single dimension* to be close overall).\n",
    "This means that clusters in high dimensions tend to be more separated, on average, than clusters in low dimensions, assuming the new dimensions actually add information.\n",
    "For this reason, simplistic classifiers like naive Bayes tend to work as well or better than more complicated classifiers as the dimensionality grows: once you have enough data, even a simple model can be very powerful.\n",
    "\n",
    "\n"
   ]
  }
 ],
 "metadata": {
  "kernelspec": {
   "display_name": "Python 3",
   "language": "python",
   "name": "python3"
  },
  "language_info": {
   "codemirror_mode": {
    "name": "ipython",
    "version": 3
   },
   "file_extension": ".py",
   "mimetype": "text/x-python",
   "name": "python",
   "nbconvert_exporter": "python",
   "pygments_lexer": "ipython3",
   "version": "3.13.0"
  }
 },
 "nbformat": 4,
 "nbformat_minor": 4
}
