{
 "cells": [
  {
   "cell_type": "markdown",
   "id": "3723ac37-5d88-4067-9cca-306e382438ad",
   "metadata": {},
   "source": [
    "# Pràctica 3: Regressió Logistica\n"
   ]
  },
  {
   "cell_type": "markdown",
   "id": "growing-polyester",
   "metadata": {},
   "source": [
    "\n",
    "# Objectius de la Pràctica\n",
    "\n",
    "Els diferents objectius d'aquesta pràctica és que us comenceu a familiaritzar amb casos de classificació (tant binaria com multiclass). Per aquest motiu respecte a la pràctica haureu d'entendre:\n",
    "\n",
    "1. Generar un model de regressió Logística i entendre els diferents paràmetres que hi han i per a què serveixen\n",
    "2. Entendre com regularitzar el overfitting i el underfitting del model (entendre errors de variance, bias...)\n",
    "3. Entendre com cercar i evaluar el millor model \n",
    "4. Estratègies de validació i entrenament multiclass (Ovo, Ovr)"
   ]
  },
  {
   "cell_type": "markdown",
   "id": "e6b248e1-fa8d-4e63-8b8f-f3340b1bb6e7",
   "metadata": {},
   "source": [
    "## Introducció\n",
    "\n",
    "Per implementar una regressió logística, necessito una funció d'hipòtesi $h_{\\theta}(x)$\n",
    ", una funció de cost $J(\\theta)$ , i una funció de degradat que calcula les derivades parcials de $J(\\theta)$.\n",
    "\n",
    "En regressió logística,$h_{\\theta}(x)$ és la funció sigmoide. La funció sigmoide està fitada entre 0 i 1, i produeix un valor que es pot interpretar com una probabilitat. Aquest valor també pot ser una resposta sí / no amb un creuament, o un límit de decisió, a 0,5:\n",
    "\n",
    "$$\n",
    "h_{\\theta}(x) = \\frac{1}{1+e^{\\theta_x}}\n",
    "$$\n",
    "\n",
    "\n",
    "L'ús del MSE de la regressió lineal no és una bona idea aquí, ja que la funció de cost resultant no és convexa i, per tant, no és adequada per al descens de gradient. En canvi, la diferència de $h_{\\theta}(x^i)-y^i$ es calcula de manera diferent per y=0 & y=1 i el resultat es transforma logarítmicament en una funció convexa:\n",
    "\n",
    "$$\n",
    "J(\\theta) = \\frac{1}{m} \\cdot \\sum_{i=1}^m y^{(i)} log(h_{\\theta}(x^{(i)})) + (1-y^{(i)})log(1-h_{\\theta}(x^{(i)}))\n",
    "$$\n",
    "\n",
    "tot i així la derivada es comporta de manera idèntica només que la funció de cost es diferent.\n",
    "\n",
    "Anem a veure un exemple més visual de com es comporta el regressor"
   ]
  },
  {
   "cell_type": "code",
   "execution_count": 1,
   "id": "aa6708aa-32a2-4cae-a990-8cb769e1c126",
   "metadata": {},
   "outputs": [
    {
     "name": "stdout",
     "output_type": "stream",
     "text": [
      "[0.39930489] [0.52292973]\n",
      "[[6.79205667]] [0.35]\n"
     ]
    },
    {
     "data": {
      "text/plain": [
       "(-2.5529898158340787, 2.2697546239876076)"
      ]
     },
     "execution_count": 1,
     "metadata": {},
     "output_type": "execute_result"
    },
    {
     "data": {
      "image/png": "[encoded data removed]",
      "text/plain": [
       "<Figure size 432x288 with 1 Axes>"
      ]
     },
     "metadata": {
      "needs_background": "light"
     },
     "output_type": "display_data"
    }
   ],
   "source": [
    "import numpy as np\n",
    "from sklearn import linear_model\n",
    "import matplotlib.pyplot as plt\n",
    "import warnings\n",
    "warnings.filterwarnings(\"ignore\")\n",
    "#definim la funció de la sigmoide\n",
    "logistic = lambda s: 1.0 / (1.0 + np.exp(-s))\n",
    "\n",
    "xmin, xmax = -10, 10\n",
    "np.random.seed(0)\n",
    "d = 0\n",
    "X = np.random.normal(size = 100) + d\n",
    "xmin, xmax = X.min(), X.max()\n",
    "\n",
    "y = (X > d).astype(float) \n",
    "X = X[:, np.newaxis] \n",
    "X_pred = np.linspace(-4, 4, 50)\n",
    "\n",
    "# Linear Regression:\n",
    "rgr = linear_model.SGDRegressor( learning_rate='constant', eta0=0.01)\n",
    "rgr.fit(X, y)\n",
    "plt.plot(X_pred, rgr.coef_.ravel() * X_pred + rgr.intercept_, color = 'blue', linewidth = 2)\n",
    "\n",
    "print(rgr.coef_, rgr.intercept_)\n",
    "\n",
    "# Logistic Regression:\n",
    "clf = linear_model.SGDClassifier(learning_rate='constant', eta0=0.05, max_iter=1000000)\n",
    "clf.fit(X, y)\n",
    "loss = logistic(X_pred * clf.coef_ + clf.intercept_).ravel()\n",
    "plt.plot(X_pred, loss, color = 'red', linewidth = 2)\n",
    "\n",
    "print(clf.coef_, clf.intercept_)\n",
    "\n",
    "plt.axhline(0.5, color = 'black')\n",
    "plt.scatter(X, y, color = 'black')\n",
    "plt.scatter(X_pred, X_pred*0+0.5, color = 'red', marker='+')\n",
    "\n",
    "loss_nofit = logistic(X_pred).ravel()\n",
    "plt.plot(X_pred, loss_nofit, color = 'green', linewidth = 2)\n",
    "\n",
    "\n",
    "plt.ylabel('y')\n",
    "plt.xlabel('x')\n",
    "\n",
    "plt.ylim(-1, 2)\n",
    "plt.xlim(xmin, xmax)"
   ]
  },
  {
   "cell_type": "markdown",
   "id": "manual-martial",
   "metadata": {},
   "source": [
    "### Dataset per treballar aquesta pràctica:"
   ]
  },
  {
   "cell_type": "code",
   "execution_count": 2,
   "id": "naughty-license",
   "metadata": {},
   "outputs": [
    {
     "name": "stdout",
     "output_type": "stream",
     "text": [
      "Dimensionalitat de la BBDD: (6463, 14)\n"
     ]
    }
   ],
   "source": [
    "import numpy as np\n",
    "import pandas as pd\n",
    "%matplotlib inline\n",
    "from matplotlib import pyplot as plt\n",
    "import seaborn as sns\n",
    "#from ipywidgets import interact, interactive, fixed, interact_manual\n",
    "#import ipywidgets as widgets\n",
    "from sklearn.model_selection import GridSearchCV\n",
    "\n",
    "sns.set_theme()\n",
    "\n",
    "\n",
    "# Visualitzarem només 3 decimals per mostra, i definim el num de files i columnes a mostrar\n",
    "pd.set_option('display.float_format', lambda x: '%.3f' % x)\n",
    "pd.set_option('display.max_rows', 20)\n",
    "pd.set_option('display.max_columns', 50)\n",
    "\n",
    "# Funcio per a llegir dades en format csv\n",
    "def load_dataset(path):\n",
    "    dataset = pd.read_csv(path, header=0, delimiter=',')\n",
    "    return dataset\n",
    "\n",
    "# Carreguem dataset d'exemple\n",
    "dataset = load_dataset('winequalityN.csv')\n",
    "dataset = dataset.dropna()\n",
    "dataset['is_red_wine'] = (dataset[\"type\"] == 'red').astype(int)\n",
    "\n",
    "\n",
    "print(\"Dimensionalitat de la BBDD:\", dataset.shape)"
   ]
  },
  {
   "cell_type": "code",
   "execution_count": 3,
   "id": "formed-moment",
   "metadata": {},
   "outputs": [
    {
     "data": {
      "text/html": [
       "<div>\n",
       "<style scoped>\n",
       "    .dataframe tbody tr th:only-of-type {\n",
       "        vertical-align: middle;\n",
       "    }\n",
       "\n",
       "    .dataframe tbody tr th {\n",
       "        vertical-align: top;\n",
       "    }\n",
       "\n",
       "    .dataframe thead th {\n",
       "        text-align: right;\n",
       "    }\n",
       "</style>\n",
       "<table border=\"1\" class=\"dataframe\">\n",
       "  <thead>\n",
       "    <tr style=\"text-align: right;\">\n",
       "      <th></th>\n",
       "      <th>type</th>\n",
       "      <th>fixed acidity</th>\n",
       "      <th>volatile acidity</th>\n",
       "      <th>citric acid</th>\n",
       "      <th>residual sugar</th>\n",
       "      <th>chlorides</th>\n",
       "      <th>free sulfur dioxide</th>\n",
       "      <th>total sulfur dioxide</th>\n",
       "      <th>density</th>\n",
       "      <th>pH</th>\n",
       "      <th>sulphates</th>\n",
       "      <th>alcohol</th>\n",
       "      <th>quality</th>\n",
       "      <th>is_red_wine</th>\n",
       "    </tr>\n",
       "  </thead>\n",
       "  <tbody>\n",
       "    <tr>\n",
       "      <th>0</th>\n",
       "      <td>white</td>\n",
       "      <td>7.000</td>\n",
       "      <td>0.270</td>\n",
       "      <td>0.360</td>\n",
       "      <td>20.700</td>\n",
       "      <td>0.045</td>\n",
       "      <td>45.000</td>\n",
       "      <td>170.000</td>\n",
       "      <td>1.001</td>\n",
       "      <td>3.000</td>\n",
       "      <td>0.450</td>\n",
       "      <td>8.800</td>\n",
       "      <td>6</td>\n",
       "      <td>0</td>\n",
       "    </tr>\n",
       "    <tr>\n",
       "      <th>1</th>\n",
       "      <td>white</td>\n",
       "      <td>6.300</td>\n",
       "      <td>0.300</td>\n",
       "      <td>0.340</td>\n",
       "      <td>1.600</td>\n",
       "      <td>0.049</td>\n",
       "      <td>14.000</td>\n",
       "      <td>132.000</td>\n",
       "      <td>0.994</td>\n",
       "      <td>3.300</td>\n",
       "      <td>0.490</td>\n",
       "      <td>9.500</td>\n",
       "      <td>6</td>\n",
       "      <td>0</td>\n",
       "    </tr>\n",
       "    <tr>\n",
       "      <th>2</th>\n",
       "      <td>white</td>\n",
       "      <td>8.100</td>\n",
       "      <td>0.280</td>\n",
       "      <td>0.400</td>\n",
       "      <td>6.900</td>\n",
       "      <td>0.050</td>\n",
       "      <td>30.000</td>\n",
       "      <td>97.000</td>\n",
       "      <td>0.995</td>\n",
       "      <td>3.260</td>\n",
       "      <td>0.440</td>\n",
       "      <td>10.100</td>\n",
       "      <td>6</td>\n",
       "      <td>0</td>\n",
       "    </tr>\n",
       "    <tr>\n",
       "      <th>3</th>\n",
       "      <td>white</td>\n",
       "      <td>7.200</td>\n",
       "      <td>0.230</td>\n",
       "      <td>0.320</td>\n",
       "      <td>8.500</td>\n",
       "      <td>0.058</td>\n",
       "      <td>47.000</td>\n",
       "      <td>186.000</td>\n",
       "      <td>0.996</td>\n",
       "      <td>3.190</td>\n",
       "      <td>0.400</td>\n",
       "      <td>9.900</td>\n",
       "      <td>6</td>\n",
       "      <td>0</td>\n",
       "    </tr>\n",
       "    <tr>\n",
       "      <th>4</th>\n",
       "      <td>white</td>\n",
       "      <td>7.200</td>\n",
       "      <td>0.230</td>\n",
       "      <td>0.320</td>\n",
       "      <td>8.500</td>\n",
       "      <td>0.058</td>\n",
       "      <td>47.000</td>\n",
       "      <td>186.000</td>\n",
       "      <td>0.996</td>\n",
       "      <td>3.190</td>\n",
       "      <td>0.400</td>\n",
       "      <td>9.900</td>\n",
       "      <td>6</td>\n",
       "      <td>0</td>\n",
       "    </tr>\n",
       "    <tr>\n",
       "      <th>...</th>\n",
       "      <td>...</td>\n",
       "      <td>...</td>\n",
       "      <td>...</td>\n",
       "      <td>...</td>\n",
       "      <td>...</td>\n",
       "      <td>...</td>\n",
       "      <td>...</td>\n",
       "      <td>...</td>\n",
       "      <td>...</td>\n",
       "      <td>...</td>\n",
       "      <td>...</td>\n",
       "      <td>...</td>\n",
       "      <td>...</td>\n",
       "      <td>...</td>\n",
       "    </tr>\n",
       "    <tr>\n",
       "      <th>6491</th>\n",
       "      <td>red</td>\n",
       "      <td>6.800</td>\n",
       "      <td>0.620</td>\n",
       "      <td>0.080</td>\n",
       "      <td>1.900</td>\n",
       "      <td>0.068</td>\n",
       "      <td>28.000</td>\n",
       "      <td>38.000</td>\n",
       "      <td>0.997</td>\n",
       "      <td>3.420</td>\n",
       "      <td>0.820</td>\n",
       "      <td>9.500</td>\n",
       "      <td>6</td>\n",
       "      <td>1</td>\n",
       "    </tr>\n",
       "    <tr>\n",
       "      <th>6492</th>\n",
       "      <td>red</td>\n",
       "      <td>6.200</td>\n",
       "      <td>0.600</td>\n",
       "      <td>0.080</td>\n",
       "      <td>2.000</td>\n",
       "      <td>0.090</td>\n",
       "      <td>32.000</td>\n",
       "      <td>44.000</td>\n",
       "      <td>0.995</td>\n",
       "      <td>3.450</td>\n",
       "      <td>0.580</td>\n",
       "      <td>10.500</td>\n",
       "      <td>5</td>\n",
       "      <td>1</td>\n",
       "    </tr>\n",
       "    <tr>\n",
       "      <th>6494</th>\n",
       "      <td>red</td>\n",
       "      <td>6.300</td>\n",
       "      <td>0.510</td>\n",
       "      <td>0.130</td>\n",
       "      <td>2.300</td>\n",
       "      <td>0.076</td>\n",
       "      <td>29.000</td>\n",
       "      <td>40.000</td>\n",
       "      <td>0.996</td>\n",
       "      <td>3.420</td>\n",
       "      <td>0.750</td>\n",
       "      <td>11.000</td>\n",
       "      <td>6</td>\n",
       "      <td>1</td>\n",
       "    </tr>\n",
       "    <tr>\n",
       "      <th>6495</th>\n",
       "      <td>red</td>\n",
       "      <td>5.900</td>\n",
       "      <td>0.645</td>\n",
       "      <td>0.120</td>\n",
       "      <td>2.000</td>\n",
       "      <td>0.075</td>\n",
       "      <td>32.000</td>\n",
       "      <td>44.000</td>\n",
       "      <td>0.995</td>\n",
       "      <td>3.570</td>\n",
       "      <td>0.710</td>\n",
       "      <td>10.200</td>\n",
       "      <td>5</td>\n",
       "      <td>1</td>\n",
       "    </tr>\n",
       "    <tr>\n",
       "      <th>6496</th>\n",
       "      <td>red</td>\n",
       "      <td>6.000</td>\n",
       "      <td>0.310</td>\n",
       "      <td>0.470</td>\n",
       "      <td>3.600</td>\n",
       "      <td>0.067</td>\n",
       "      <td>18.000</td>\n",
       "      <td>42.000</td>\n",
       "      <td>0.995</td>\n",
       "      <td>3.390</td>\n",
       "      <td>0.660</td>\n",
       "      <td>11.000</td>\n",
       "      <td>6</td>\n",
       "      <td>1</td>\n",
       "    </tr>\n",
       "  </tbody>\n",
       "</table>\n",
       "<p>6463 rows × 14 columns</p>\n",
       "</div>"
      ],
      "text/plain": [
       "       type  fixed acidity  volatile acidity  citric acid  residual sugar  \\\n",
       "0     white          7.000             0.270        0.360          20.700   \n",
       "1     white          6.300             0.300        0.340           1.600   \n",
       "2     white          8.100             0.280        0.400           6.900   \n",
       "3     white          7.200             0.230        0.320           8.500   \n",
       "4     white          7.200             0.230        0.320           8.500   \n",
       "...     ...            ...               ...          ...             ...   \n",
       "6491    red          6.800             0.620        0.080           1.900   \n",
       "6492    red          6.200             0.600        0.080           2.000   \n",
       "6494    red          6.300             0.510        0.130           2.300   \n",
       "6495    red          5.900             0.645        0.120           2.000   \n",
       "6496    red          6.000             0.310        0.470           3.600   \n",
       "\n",
       "      chlorides  free sulfur dioxide  total sulfur dioxide  density    pH  \\\n",
       "0         0.045               45.000               170.000    1.001 3.000   \n",
       "1         0.049               14.000               132.000    0.994 3.300   \n",
       "2         0.050               30.000                97.000    0.995 3.260   \n",
       "3         0.058               47.000               186.000    0.996 3.190   \n",
       "4         0.058               47.000               186.000    0.996 3.190   \n",
       "...         ...                  ...                   ...      ...   ...   \n",
       "6491      0.068               28.000                38.000    0.997 3.420   \n",
       "6492      0.090               32.000                44.000    0.995 3.450   \n",
       "6494      0.076               29.000                40.000    0.996 3.420   \n",
       "6495      0.075               32.000                44.000    0.995 3.570   \n",
       "6496      0.067               18.000                42.000    0.995 3.390   \n",
       "\n",
       "      sulphates  alcohol  quality  is_red_wine  \n",
       "0         0.450    8.800        6            0  \n",
       "1         0.490    9.500        6            0  \n",
       "2         0.440   10.100        6            0  \n",
       "3         0.400    9.900        6            0  \n",
       "4         0.400    9.900        6            0  \n",
       "...         ...      ...      ...          ...  \n",
       "6491      0.820    9.500        6            1  \n",
       "6492      0.580   10.500        5            1  \n",
       "6494      0.750   11.000        6            1  \n",
       "6495      0.710   10.200        5            1  \n",
       "6496      0.660   11.000        6            1  \n",
       "\n",
       "[6463 rows x 14 columns]"
      ]
     },
     "metadata": {},
     "output_type": "display_data"
    }
   ],
   "source": [
    "display(dataset)"
   ]
  },
  {
   "cell_type": "code",
   "execution_count": 4,
   "id": "optional-showcase",
   "metadata": {},
   "outputs": [
    {
     "data": {
      "image/png": "[encoded data removed]",
      "text/plain": [
       "<Figure size 1008x864 with 2 Axes>"
      ]
     },
     "metadata": {},
     "output_type": "display_data"
    }
   ],
   "source": [
    "correlation = dataset.corr()\n",
    "#display(correlation)\n",
    "plt.figure(figsize=(14, 12))\n",
    "heatmap = sns.heatmap(correlation, annot=True, linewidths=0, vmin=-1, cmap=\"RdBu_r\")"
   ]
  },
  {
   "cell_type": "code",
   "execution_count": 5,
   "id": "detailed-stocks",
   "metadata": {},
   "outputs": [
    {
     "data": {
      "image/png": "[encoded data removed]",
      "text/plain": [
       "<Figure size 720x432 with 1 Axes>"
      ]
     },
     "metadata": {},
     "output_type": "display_data"
    },
    {
     "data": {
      "text/plain": [
       "<Figure size 432x288 with 0 Axes>"
      ]
     },
     "metadata": {},
     "output_type": "display_data"
    },
    {
     "data": {
      "image/png": "[encoded data removed]",
      "text/plain": [
       "<Figure size 720x432 with 1 Axes>"
      ]
     },
     "metadata": {},
     "output_type": "display_data"
    },
    {
     "data": {
      "text/plain": [
       "<Figure size 432x288 with 0 Axes>"
      ]
     },
     "metadata": {},
     "output_type": "display_data"
    }
   ],
   "source": [
    "fig, axs = plt.subplots(ncols=1,figsize=(10,6))\n",
    "sns.barplot(x='quality', y='alcohol', data=dataset[dataset.type==\"red\"], ax=axs)\n",
    "plt.title('quality VS alcohol in white')\n",
    "\n",
    "plt.tight_layout()\n",
    "plt.show()\n",
    "plt.gcf().clear()\n",
    "\n",
    "fig, axs = plt.subplots(ncols=1,figsize=(10,6))\n",
    "sns.barplot(x='quality', y='alcohol', data=dataset[dataset.type==\"white\"], ax=axs)\n",
    "plt.title('quality VS alcohol in red')\n",
    "\n",
    "plt.tight_layout()\n",
    "plt.show()\n",
    "plt.gcf().clear()"
   ]
  },
  {
   "cell_type": "markdown",
   "id": "compound-cheat",
   "metadata": {},
   "source": [
    "Abans de començar amb els exercicis, preparem les dades per a que sigui una **classificació binaria**"
   ]
  },
  {
   "cell_type": "code",
   "execution_count": 6,
   "id": "brazilian-blood",
   "metadata": {},
   "outputs": [],
   "source": [
    "from pandas import read_csv\n",
    "#Defining the splits for categories. 1-5 will be poor quality, 6-10 will be great\n",
    "bins = [1,5,10]\n",
    "\n",
    "#0 for low quality, 1 for great quality\n",
    "quality_labels=[0,1]\n",
    "dataset['quality_categorical'] = pd.cut(dataset['quality'], bins=bins, labels=quality_labels, include_lowest=True)\n",
    "# Split the data into features and target label\n",
    "quality_raw = dataset['quality_categorical']\n",
    "features_raw = dataset.drop(['type', 'quality', 'quality_categorical'], axis = 1)\n",
    "\n",
    "\n",
    "dataframe = read_csv(\"pima-indians-diabetes.csv\", header=0, names=[\"Pregnancies\", \"Glucose\", \"Blood Preassure\", \"SkinThickness\",\"Insulin\", \"BMI\", \"DiabetesPedigreeFunction\",\"Age\", \"class\"])\n",
    "# get the values\n",
    "values = dataframe.values\n",
    "X_pima, y_pima = values[:, :-1], values[:, -1]\n",
    "\n"
   ]
  },
  {
   "cell_type": "code",
   "execution_count": 7,
   "id": "overhead-sheet",
   "metadata": {},
   "outputs": [
    {
     "name": "stdout",
     "output_type": "stream",
     "text": [
      "Training set has 5170 samples. 63.1% is positive\n",
      "Testing set has 1293 samples. 64.3% is positive\n"
     ]
    },
    {
     "data": {
      "text/plain": [
       "array([[ 0.06004198, -0.54172432, -0.41586299, ..., -1.07443475,\n",
       "        -1.07834864, -0.56707552],\n",
       "       [-1.17544878, -0.78709703,  0.34376084, ...,  0.59933125,\n",
       "         0.09516402, -0.56707552],\n",
       "       [ 0.13726016,  0.13305062,  0.06753399, ..., -1.34223731,\n",
       "         0.59809801, -0.56707552],\n",
       "       ...,\n",
       "       [-0.63492157,  1.42125733, -2.07322407, ...,  1.00103509,\n",
       "        -0.82688164,  1.76343356],\n",
       "       [-0.01717619, -0.97112656, -0.07057943, ..., -0.87358283,\n",
       "         0.26280868, -0.56707552],\n",
       "       [-0.94379426,  0.4397665 , -0.76114655, ..., -0.07017515,\n",
       "         0.01134169, -0.56707552]])"
      ]
     },
     "metadata": {},
     "output_type": "display_data"
    },
    {
     "data": {
      "text/plain": [
       "3859    0\n",
       "4675    1\n",
       "513     1\n",
       "5490    0\n",
       "4329    0\n",
       "       ..\n",
       "410     1\n",
       "4562    1\n",
       "5626    0\n",
       "1248    1\n",
       "985     1\n",
       "Name: quality_categorical, Length: 1293, dtype: category\n",
       "Categories (2, int64): [0 < 1]"
      ]
     },
     "metadata": {},
     "output_type": "display_data"
    }
   ],
   "source": [
    "from sklearn.preprocessing import StandardScaler\n",
    "\n",
    "# Import train_test_split\n",
    "from sklearn.model_selection import train_test_split\n",
    "\n",
    "# Split the 'features' and 'income' data into training and testing sets\n",
    "X_train, X_test, y_train, y_test = train_test_split(features_raw, quality_raw, test_size = 0.2, random_state = 0)\n",
    "#X_train, X_test, y_train, y_test = train_test_split(X, y, test_size = 0.3, random_state = 0)\n",
    "\n",
    "scaler = StandardScaler().fit(X_train)\n",
    "X_train= scaler.transform(X_train)\n",
    "X_test= scaler.transform(X_test)\n",
    "# Show the results of the split\n",
    "print(\"Training set has {} samples. {:.1f}% is positive\".format(X_train.shape[0], 100*sum(y_train)/y_train.shape[0]))\n",
    "print(\"Testing set has {} samples. {:.1f}% is positive\".format(X_test.shape[0], 100*sum(y_test)/y_test.shape[0]))\n",
    "\n",
    "display(X_test)\n",
    "display(y_test)\n"
   ]
  },
  {
   "cell_type": "markdown",
   "id": "unlikely-shell",
   "metadata": {},
   "source": [
    "## Logistic Regression "
   ]
  },
  {
   "cell_type": "markdown",
   "id": "russian-match",
   "metadata": {},
   "source": [
    "En aquesta secció us demanem que apliqueu de sklearn el model de [LogisticRegression](https://scikit-learn.org/stable/modules/generated/sklearn.linear_model.LogisticRegression.html):"
   ]
  },
  {
   "cell_type": "markdown",
   "id": "13b146de-1369-401e-8ac9-019b2b3830f0",
   "metadata": {},
   "source": [
    "<font color=blue> Ompliu la funció *entrena_prediu_evalua*, amb la que s'entrena el model del paràmetre *learner* i es guarden els resultats de accuracy, precision, recall i F1-score.</font>"
   ]
  },
  {
   "cell_type": "code",
   "execution_count": 8,
   "id": "injured-hacker",
   "metadata": {},
   "outputs": [
    {
     "ename": "SyntaxError",
     "evalue": "invalid syntax (1320121180.py, line 41)",
     "output_type": "error",
     "traceback": [
      "\u001b[0;36m  File \u001b[0;32m\"/tmp/ipykernel_628033/1320121180.py\"\u001b[0;36m, line \u001b[0;32m41\u001b[0m\n\u001b[0;31m    results[\"test_accuracy\"] = ???\u001b[0m\n\u001b[0m                               ^\u001b[0m\n\u001b[0;31mSyntaxError\u001b[0m\u001b[0;31m:\u001b[0m invalid syntax\n"
     ]
    }
   ],
   "source": [
    "from sklearn.datasets import make_classification\n",
    "from sklearn.linear_model import LogisticRegression\n",
    "from sklearn.multiclass import OneVsRestClassifier, OneVsOneClassifier\n",
    "from sklearn.metrics import accuracy_score, precision_score, recall_score, f1_score\n",
    "from time import time\n",
    "import matplotlib.pyplot as plt\n",
    "from sklearn.metrics import precision_recall_curve\n",
    "from sklearn.metrics import confusion_matrix\n",
    "import seaborn as sns\n",
    "from sklearn.model_selection import GridSearchCV\n",
    "\n",
    "def entrena_prediu_evalua(learner,  X_train, y_train, X_test, y_test): \n",
    "    '''\n",
    "    inputs:\n",
    "       - learner: the learning algorithm to be trained and predicted on\n",
    "       - sample_size: the size of samples (number) to be drawn from training set\n",
    "       - X_train: features training set\n",
    "       - y_train: quality training set\n",
    "       - X_test: features testing set\n",
    "       - y_test: quality testing set\n",
    "    '''\n",
    "    \n",
    "    results = {}\n",
    "    \n",
    "    \"\"\"\n",
    "    Fit/train the learner to the training data using slicing with 'sample_size' \n",
    "    \"\"\"\n",
    "    start = time()\n",
    "    learner.fit(X_train, y_train)\n",
    "    end = time() \n",
    "    \n",
    "    results['train_time'] = end - start\n",
    "    \n",
    "    start = time()\n",
    "    predictions_train = learner.predict(X_train)\n",
    "    predictions_test = learner.predict(X_test)\n",
    "    end = time() \n",
    "    \n",
    "    results['pred_time'] = end - start\n",
    "    results[\"train_accuracy\"] = accuracy_score(y_train, predictions_train)\n",
    "    results[\"test_accuracy\"] = ???\n",
    "    \n",
    "    results[\"train_precision\"] = ???\n",
    "    results[\"test_precision\"] = ???\n",
    "    \n",
    "    results[\"train_recall\"] = ???\n",
    "    results[\"test_recall\"] = ???\n",
    "    \n",
    "    results[\"train_F1_score\"] = ???\n",
    "    results[\"test_F1_score\"] = ???\n",
    "          \n",
    "    return results\n"
   ]
  },
  {
   "cell_type": "markdown",
   "id": "501a79e0-687d-498a-ada9-5053612d692d",
   "metadata": {},
   "source": [
    "### Què fa el parametre *C*  (a teroria inversa de $\\lambda$).\n",
    "\n",
    "El paràmetre *C* determina la potència de l'efecte que té el regularitzador sobre l'entrenament. En concret, quan usem un regularitzador $R(\\theta)$, a la funció de pèrdua $J(\\theta)$ se li suma $\\frac{1}{C}R(\\theta)$. És a dir, quant més alt el valor de *C* menys efecte tindrá el regularitzador (menys generarà biaix i reduirà la variància) i quant més baix el seu valor més efecte tindrà el regularitzador (mes generarà biaix i reduirà la variància).\n",
    "\n",
    "**Quin és l'efecte del parametre C a les solucions que proporciona la regresió logisitica?**\n",
    "\n",
    "<font color=blue> Utilitzant la funció *entrena_prediu_evalua*, genera models de *LogisticRegression* amb diferents valors de *C* i grafica els resultats de les mètriques de rendiment.</font>"
   ]
  },
  {
   "cell_type": "code",
   "execution_count": null,
   "id": "4d829f4c-d4ee-4db7-9182-58516f3fac3b",
   "metadata": {},
   "outputs": [],
   "source": [
    "C_values = [0.01, 0.1, 1, 10, 100]\n",
    "\n",
    "accuracies, precisions, recalls, f1_scores = [], [], [], []\n",
    "accuracies_tr, precisions_tr, recalls_tr, f1_scores_tr = [], [], [], []\n",
    "\n",
    "X_train, X_test, y_train, y_test = train_test_split(X_pima, y_pima, test_size = 0.3, random_state = 0)\n",
    "for C in C_values:\n",
    "    lr = LogisticRegression(C=???, solver=???, max_iter=???, penalty=???)\n",
    "    results = ???\n",
    "    accuracies.append(results['test_accuracy'])\n",
    "    precisions.append(results['test_precision'])\n",
    "    recalls.append(results['test_recall'])\n",
    "    f1_scores.append(results['test_F1_score'])\n",
    "    accuracies_tr.append(results['train_accuracy'])\n",
    "    precisions_tr.append(results['train_precision'])\n",
    "    recalls_tr.append(results['train_recall'])\n",
    "    f1_scores_tr.append(results['train_F1_score'])\n",
    "\n",
    "plt.figure(figsize=(10, 6))\n",
    "plt.plot(C_values, accuracies, label='Accuracy', marker='o')\n",
    "plt.plot(C_values, precisions, label='Precision', marker='o')\n",
    "plt.plot(C_values, recalls, label='Recall', marker='o')\n",
    "plt.plot(C_values, f1_scores, label='F1-Score', marker='o')\n",
    "plt.ylim([0,1])\n",
    "\n",
    "plt.xscale('log')\n",
    "plt.xlabel('Valor de C (log-scale)')\n",
    "plt.ylabel('Métrica')\n",
    "plt.title('Efecto del valor de C en las métricas del modelo')\n",
    "plt.legend()\n",
    "plt.grid(True)\n",
    "plt.show()\n",
    "\n",
    "plt.figure(figsize=(10, 6))\n",
    "plt.plot(C_values, accuracies_tr, label='Accuracy train', marker='o')\n",
    "plt.plot(C_values, accuracies, '--', label='Accuracy test', marker='o')\n",
    "# plt.ylim([0,1])\n",
    "#plt.plot(C_values, precisions_tr, '--', label='Precision', marker='o')\n",
    "#plt.plot(C_values, recalls_tr, '--', label='Recall', marker='o')\n",
    "#plt.plot(C_values, f1_scores_tr, '--', label='F1-Score', marker='o')\n",
    "\n",
    "plt.xscale('log')\n",
    "plt.xlabel('Valor de C (log-scale)')\n",
    "plt.ylabel('Métrica')\n",
    "plt.title('Efecto del valor de C en las métricas del modelo')\n",
    "plt.legend()\n",
    "plt.grid(True)\n",
    "plt.show()"
   ]
  },
  {
   "cell_type": "markdown",
   "id": "b7df8e2b-9bfe-4e7d-974c-6936713bcf46",
   "metadata": {},
   "source": [
    "Observem que les métriques creixen amb *C*, i s'estaquen a partir de $C=10$. Això pasa perque, per a valors baixos de $C$ el biaix creix massa i impedeix que el model lineal modelitzi bé la distribució de dades. "
   ]
  },
  {
   "cell_type": "markdown",
   "id": "2caa717c-caa9-4e72-9b35-d74ade0ecc06",
   "metadata": {},
   "source": [
    "**Pensa que no se pot utilitzar l1 amb els algorismes que impliquen derivades, degut a que el p l1 no és continua i per tant no és derivable**"
   ]
  },
  {
   "cell_type": "markdown",
   "id": "2ca1f2d7-c793-48a6-b338-90de3755c4e9",
   "metadata": {},
   "source": [
    "Què passa si fem servir poques dades per entrenar? (mostra com varien els resultats segons % de entrenament)?\n",
    "\n",
    "<font color=blue> Utilitzant la funció *entrena_prediu_evalua*, genera models de *LogisticRegression* amb diferents quantitat de dades d'entrenament i grafica els resultats de les mètriques de rendiment.</font>\n"
   ]
  },
  {
   "cell_type": "code",
   "execution_count": null,
   "id": "ca0ee03d-5358-4578-870a-0d0e710e9dfa",
   "metadata": {},
   "outputs": [],
   "source": [
    "train_sizes = [0.05, 0.1, 0.3, 0.5, 0.7, 0.9, 1.0]\n",
    "accuracies, precisions, recalls, f1_scores = [], [], [], []\n",
    "lr = ???\n",
    "for size in train_sizes:\n",
    "    results = ???\n",
    "    display(lr.coef_)\n",
    "    accuracies.append(???)\n",
    "    precisions.append(???)\n",
    "    recalls.append(???)\n",
    "    f1_scores.append(???)\n",
    "\n",
    "    \n",
    "plt.figure(figsize=(10, 6))\n",
    "plt.plot(train_sizes, accuracies, marker='o', label='Accuracy', color='blue')\n",
    "#plt.plot(train_sizes, precisions, marker='o', label='Precision', color='green')\n",
    "#plt.plot(train_sizes, recalls, marker='o', label='Recall', color='orange')\n",
    "#plt.plot(train_sizes, f1_scores, marker='o', label='F1 Score', color='red')\n",
    "\n",
    "plt.title(\"Rendiment segons la quantitat de dades d'entrenament\")\n",
    "plt.xlabel(\"Mida del conjunt d'entrenament (%)\")\n",
    "plt.ylabel('Mètriques')\n",
    "plt.xticks(train_sizes, [f\"{int(size * 100)}%\" for size in train_sizes])\n",
    "plt.legend()\n",
    "plt.grid()\n",
    "plt.show()\n",
    "\n"
   ]
  },
  {
   "cell_type": "code",
   "execution_count": null,
   "id": "12966f6e-a6a0-4ad1-98dd-6649f26184b3",
   "metadata": {},
   "outputs": [],
   "source": []
  },
  {
   "cell_type": "markdown",
   "id": "81a9a5e5-1426-4607-bfa6-4cc22c353184",
   "metadata": {},
   "source": [
    "### GridSearchCV\n",
    "\n",
    "*GridSearchCV* és una eina d'optimització d'hiperparàmetres per a models d'aprenentatge automàtic. Consisteix a fer una cerca exhaustiva de combinacions d'hiperparàmetres possibles per a un model, amb l'objectiu de trobar la configuració que ofereixi el millor rendiment.\n",
    "\n",
    "En comptes d'ajustar manualment els hiperparàmetres del model, *GridSearchCV* automatitza aquest procés provant totes les combinacions dels valors definits per l'usuari. Aquest enfocament utilitza validació creuada per avaluar el rendiment de cada combinació, garantint que la selecció final d'hiperparàmetres estigui optimitzada i no depengui d'un conjunt de dades d'entrenament o prova únic."
   ]
  },
  {
   "cell_type": "code",
   "execution_count": null,
   "id": "64bd0355-28e4-4318-9f81-e3a7ae514e97",
   "metadata": {},
   "outputs": [],
   "source": [
    "parameters = {'max_iter':[500, 1000, 5000], 'C':[0.01,0.1, 1, 10,100],'penalty':['l2','l1','elasticnet'],'solver':[\"saga\", \"liblinear\"]}\n",
    "lr = LogisticRegression()\n",
    "clf_ = GridSearchCV(lr, parameters, n_jobs=14)\n",
    "clf_.fit(X_train,y_train)"
   ]
  },
  {
   "cell_type": "code",
   "execution_count": null,
   "id": "c63a8222-910c-4730-b2f8-e616c476db2c",
   "metadata": {},
   "outputs": [],
   "source": [
    "clf_.score(X_test,y_test),clf_.score(X_train,y_train)"
   ]
  },
  {
   "cell_type": "code",
   "execution_count": null,
   "id": "03ac2d33-b9a3-4857-bfad-769a778fc14e",
   "metadata": {},
   "outputs": [],
   "source": [
    "clf_.best_score_"
   ]
  },
  {
   "cell_type": "code",
   "execution_count": null,
   "id": "50fb2a56-9006-4b4c-a534-e59e3cf50533",
   "metadata": {},
   "outputs": [],
   "source": [
    "print(clf_.best_params_)\n",
    "print(clf_.__dict__.keys())\n"
   ]
  },
  {
   "cell_type": "markdown",
   "id": "0917f94c-da03-41f9-bc8e-a6043ad5f700",
   "metadata": {},
   "source": [
    "Els paràmetres obtinguts després d'aplicar GridSearchCV corresponen als millors valors trobats per al vostre model de regressió logística en base a les dades d'entrenament.\n",
    "\n",
    "* C = 10: Aquest paràmetre controla la regularització del model. És l'invers de la força de regularització, de manera que valors més alts de C impliquen menys regularització. En aquest cas, amb C = 10, el model té poca regularització, permetent més flexibilitat, cosa que pot ser útil si les dades tenen patrons complexos.\n",
    "\n",
    "* solver = 'liblinear': El solver és l'algorisme utilitzat per optimitzar el model. liblinear és adequat per a conjunts de dades petites i admet la regularització l1.\n",
    "\n",
    "* penalty = 'l1': És el tipus de regularització aplicada. La penalització l1 (també coneguda com a Lasso) força que alguns coeficients del model es tornin exactament zero, cosa que efectivament realitza una selecció de variables.\n",
    "\n",
    "* max_iter = 500: És el nombre màxim d'iteracions que l'algorisme d'optimització (en aquest cas, liblinear) permet intentar ajustar el model. Un valor de 500 indica que l'algorisme pot fer fins a 500 iteracions abans d'aturar-se."
   ]
  },
  {
   "cell_type": "code",
   "execution_count": null,
   "id": "6652aaa1-02c6-4d83-a0f6-26272c7218d6",
   "metadata": {},
   "outputs": [],
   "source": []
  },
  {
   "cell_type": "markdown",
   "id": "adjusted-malawi",
   "metadata": {},
   "source": [
    "## Multi-class classification\n",
    "La regressió logística multiclasse és una extensió de la regressió logística tradicional, dissenyada per resoldre problemes en què la variable dependent o de sortida té més de dues categories possibles.\n",
    "\n",
    "\n",
    "### One-Vs-Rest \n",
    "\n",
    "One-vs-rest (OvR  or One-vs-All/OvA) és un mètode heurístic per utilitzar algorismes de classificació binària per a la classificació multiclasse.\n",
    "\n",
    "Es tracta de dividir el conjunt de dades multiclasse en múltiples problemes de classificació binària. Un classificador binari és llavors entrenat en cada problema de classificació binària i les prediccions es fan utilitzant el model amb una probabilitat més alta (arg max pel tipus de classe que és).\n",
    "\n",
    "$$\n",
    "argmax\\{y_1, y_2, \\cdots y_n\\} | n \\in \\mathbb{R}\n",
    "$$\n",
    "\n",
    "### One-Vs-One\n",
    "\n",
    "OVO divideix un conjunt de dades de classificació multiclasse en problemes de classificació binaris. A diferència de OVR que el divideix en un conjunt de dades binari per a cada classe, l'enfocament del OVO és dividir el conjunt de dades respecte a un problema de classificació binaria de tots contra tots. Per tant tenim \n",
    "$$\n",
    "\\frac{n * (n-1 )}{2}\n",
    "$$\n",
    "on n $=$ nombre de classes\n",
    "\n",
    "Per exemple, considereu un problema de classificació multiclasse amb quatre classes: $vermell, blau, verd$ i $groc$. Això es podria dividir en sis conjunts de dades de classificació binaria:\n",
    "\n",
    "    Binary Classification Problem 1: red vs. blue\n",
    "    Binary Classification Problem 2: red vs. green\n",
    "    Binary Classification Problem 3: red vs. yellow\n",
    "    Binary Classification Problem 4: blue vs. green\n",
    "    Binary Classification Problem 5: blue vs. yellow\n",
    "    Binary Classification Problem 6: green vs. yellow\n",
    "    \n",
    "Tenint així 6 classificadors la sortida del final del model és \n",
    "$$\n",
    "max\\{{\\sum_{i=1}^6 argmax[Model_i = C]}\\}\n",
    "$$"
   ]
  },
  {
   "cell_type": "markdown",
   "id": "spoken-turkey",
   "metadata": {},
   "source": [
    "## Exemples amb dades sintètiques"
   ]
  },
  {
   "cell_type": "code",
   "execution_count": null,
   "id": "advanced-relation",
   "metadata": {},
   "outputs": [],
   "source": [
    "### OVR\n",
    "from sklearn.datasets import make_classification\n",
    "X, y = make_classification(n_samples=1000, n_features=10, n_informative=5, n_redundant=5, n_classes=3, random_state=1)\n",
    "# define model\n",
    "model = LogisticRegression()\n",
    "ovr = OneVsRestClassifier(model)\n",
    "# fit model\n",
    "ovr.fit(X, y)\n",
    "\n",
    "yhat = ovr.predict(X[:5])\n",
    "print(yhat)\n"
   ]
  },
  {
   "cell_type": "code",
   "execution_count": null,
   "id": "sapphire-sydney",
   "metadata": {},
   "outputs": [],
   "source": [
    "### OVO\n",
    "# define model\n",
    "model = LogisticRegression()\n",
    "ovr = OneVsOneClassifier(model)\n",
    "# fit model\n",
    "ovr.fit(X, y)\n",
    "\n",
    "yhat = ovr.predict(X[:5])\n",
    "print(yhat)\n"
   ]
  },
  {
   "cell_type": "code",
   "execution_count": null,
   "id": "heard-merchandise",
   "metadata": {},
   "outputs": [],
   "source": [
    "# Generar dades sintètiques\n",
    "X, y = make_classification(n_samples=1000, n_features=10, n_informative=5, n_redundant=5, n_classes=4, random_state=1)\n",
    "\n",
    "model = LogisticRegression()\n",
    "ovr = OneVsRestClassifier(model)\n",
    "\n",
    "ovr.fit(X, y)\n",
    "\n",
    "print(\"=== Clasificadores internos OVR ===\")\n",
    "for i, est in enumerate(ovr.estimators_):\n",
    "    print(f\"Clasificador {i+1} (clase {i} vs resto): {est}\")\n",
    "\n",
    "print(\"\\n=== Predicciones de cada clasificador (para las primeras 10 muestras) ===\")\n",
    "l = [est.predict(X[:10]) for est in ovr.estimators_]\n",
    "predicciones_internas = np.array(l).transpose()\n",
    "display(predicciones_internas)\n",
    "\n",
    "# Agregación de las probabilidades de los clasificadores\n",
    "print(\"\\n=== Agregación de las probabilidades de los clasificadores ===\")\n",
    "yhat_prob = ovr.predict_proba(X[:10])\n",
    "display(yhat_prob)\n",
    "\n",
    "# Predicción final agregada\n",
    "print(\"\\n=== Clasificación final (predicciones agregadas) ===\")\n",
    "yhat_final = ovr.predict(X[:10])\n",
    "display(np.array(yhat_final).transpose())"
   ]
  },
  {
   "cell_type": "markdown",
   "id": "shaped-realtor",
   "metadata": {},
   "source": [
    "*En aquest cas la sortida del classificador del OVR ve a partir d'un procés. Primerament veiem que tot i que és una classificació multinomial el OVR ha generat 4 Logistics per a fer la predicció. Tot i que estem en un problema de classificació multinomial cada estimador és binari (1 classe vs les altres (1, 0)) per això hi han 1 i 0.*\n",
    "\n",
    "\n",
    "*La següent passa és agregar la probabilitat de les classes de cada un dels estimadors que té els seus propis predict_proba i després de l'agregació finalment se queda amb el estimador amb la màxima prob agregada*"
   ]
  },
  {
   "cell_type": "code",
   "execution_count": null,
   "id": "de6723ee-7383-419b-b6e6-e9dbe0efa3bf",
   "metadata": {},
   "outputs": [],
   "source": [
    "# Definir modelo base y el esquema OneVsOne\n",
    "model = LogisticRegression()\n",
    "ovo = OneVsOneClassifier(model)\n",
    "\n",
    "# Entrenar el clasificador\n",
    "ovo.fit(X, y)\n",
    "\n",
    "# Mostrar los clasificadores internos OVO\n",
    "print(\"=== Clasificadores internos OVO ===\")\n",
    "for i, est in enumerate(ovo.estimators_):\n",
    "    print(f\"Clasificador {i+1}: {est}\")\n",
    "    \n",
    "# Predicciones de los clasificadores internos para las primeras 5 muestras\n",
    "print(\"\\n=== Predicciones de cada clasificador (para las primeras 10 muestras) ===\")\n",
    "l = [est.predict(X[:10]) for est in ovo.estimators_]\n",
    "predicciones_internas = np.array(l).transpose()\n",
    "display(predicciones_internas)\n",
    "\n",
    "# Agregación de las probabilidades de los clasificadores\n",
    "print(\"\\n=== Agregación de las probabilidades de los clasificadores ===\")\n",
    "yhat_decision = ovo.decision_function(X[:10])\n",
    "display(yhat_decision)\n",
    "\n",
    "# Predicción final agregada\n",
    "print(\"\\n=== Clasificación final (predicciones agregadas) ===\")\n",
    "yhat_final = ovo.predict(X[:10])\n",
    "display(np.array(yhat_final).transpose())\n",
    "\n"
   ]
  },
  {
   "cell_type": "markdown",
   "id": "auburn-evolution",
   "metadata": {},
   "source": [
    "*En aquest cas la sortida del classificador del OVO és diferent. Veiem en aquesta estratègia s'han generat 6 logístiques per a fer la predicció (la permutació binaria de totes amb totes com s'ha vist en s'explicació de dalt. Cada Logistic fa la predicció binaria respecte a les dues classes que està comparant.*\n",
    "\n",
    "\n",
    "*La següent passa és agregar el nombre de \"prediccions\" que ha tingut cada classe en els seus estimadors corresponents i segons una  normalització per evitar que hi hagi \"empats\". Finalment el model es queda amb la classe que ha tingut \"major\" nombre de vots (en aquest cas normalitzat)*"
   ]
  },
  {
   "cell_type": "markdown",
   "id": "outside-location",
   "metadata": {},
   "source": [
    "### D'aquí podeu veure que el el OVO és una bona estratègia quan tens unes dades molt balancejades i sobre tot va molt be quan en tens moltes, donat que estas entrenant models molt més petits.\n",
    "\n",
    "### Per l'altra banda en cas del OVR va be quan tens casos una mica més desbalancejats per a nivellar el aprenentatge de les classes."
   ]
  },
  {
   "cell_type": "code",
   "execution_count": null,
   "id": "ethical-blogger",
   "metadata": {},
   "outputs": [],
   "source": [
    "best_model = LogisticRegression(**clf_.best_params_)\n",
    "ovo = OneVsOneClassifier(best_model)\n",
    "ovr = OneVsRestClassifier(best_model)\n",
    "\n",
    "#Entrenament de les dues estratègies\n",
    "ovo.fit(X_train, y_train)\n",
    "ovr.fit(X_train, y_train)\n",
    "\n",
    "ovo_pred = ovo.predict(X_test)\n",
    "ovr_pred = ovr.predict(X_test)\n",
    "\n",
    "ovo_accuracy = accuracy_score(y_test, ovo_pred)\n",
    "ovr_accuracy = accuracy_score(y_test, ovr_pred)\n",
    "\n",
    "print(f'Accuracy One-vs-One: {ovo_accuracy}')\n",
    "print(f'Accuracy One-vs-Rest: {ovr_accuracy}')\n"
   ]
  },
  {
   "cell_type": "markdown",
   "id": "bac4df1b-363d-4d12-bcdd-fa0f9e94dd49",
   "metadata": {},
   "source": [
    "## Exemple amb un dataset"
   ]
  },
  {
   "cell_type": "code",
   "execution_count": null,
   "id": "9e4cf243",
   "metadata": {},
   "outputs": [],
   "source": [
    "df = read_csv('fish_data.csv')\n",
    "df.head()"
   ]
  },
  {
   "cell_type": "code",
   "execution_count": null,
   "id": "2e0a924d-6d2d-44ec-9e4f-3d313361eec7",
   "metadata": {},
   "outputs": [],
   "source": [
    "X = df.drop('species', axis = 1)\n",
    "y = df['species']"
   ]
  },
  {
   "cell_type": "code",
   "execution_count": null,
   "id": "782b9eb2-59fe-48b3-a46f-85774e5f7d86",
   "metadata": {},
   "outputs": [],
   "source": [
    "X.head()"
   ]
  },
  {
   "cell_type": "code",
   "execution_count": null,
   "id": "893eafc6-01d4-435e-ba5e-88e3a6a79cd8",
   "metadata": {},
   "outputs": [],
   "source": [
    "print(y.unique())"
   ]
  },
  {
   "cell_type": "code",
   "execution_count": null,
   "id": "2bbbb4b0-69f2-4a88-b925-76f3f49b4423",
   "metadata": {},
   "outputs": [],
   "source": [
    "X_train, X_test, y_train, y_test = train_test_split(X, y, test_size=0.2, random_state=42, stratify=y)"
   ]
  },
  {
   "cell_type": "markdown",
   "id": "3e69bcbf-8b3b-4dd3-884f-b111ec962893",
   "metadata": {},
   "source": [
    "### \n",
    "\n",
    "<font color=blue> Primer de tot, hem de transformar les dades </font>"
   ]
  },
  {
   "cell_type": "code",
   "execution_count": null,
   "id": "87a58fc1-4451-4f4f-a2b1-0d370f30321e",
   "metadata": {},
   "outputs": [],
   "source": [
    "from sklearn.preprocessing import StandardScaler\n",
    "\n",
    "scaler = ???\n",
    "\n",
    "scaler.fit(???)\n",
    "\n",
    "X_train_scaled = scaler.transform(???)\n",
    "X_test_scaled = ???"
   ]
  },
  {
   "cell_type": "markdown",
   "id": "374c1b49-047e-44ec-8721-51023bfb7b27",
   "metadata": {},
   "source": [
    "###\n",
    "\n",
    "<font color=blue> Quina estratègia funciona millor amb el dataset? Fes la comparació entre One vs Rest (OvR) i One vs One (OvO) </font>"
   ]
  },
  {
   "cell_type": "code",
   "execution_count": null,
   "id": "03b9cca2-3662-4f17-9ef5-0e6844ba5b5c",
   "metadata": {},
   "outputs": [],
   "source": [
    "### Logistic regression ###\n",
    "\n",
    "# Logistic Regression with OvR \n",
    "model = LogisticRegression()\n",
    "ovr_model = ???\n",
    "ovr_model.fit(???, ???)\n",
    "\n",
    "# Logistic Regression with OvO\n",
    "ovo = ???\n",
    "ovo.fit(???, ???)\n",
    "\n",
    "# Predictions for OvR model\n",
    "ovr_predict = ovr_model.predict(???)\n",
    "# Calculate accuracy for OvR\n",
    "ovr_accuracy = accuracy_score(???, ???)\n",
    "print(f\"Accuracy for Logistic Regression with OvR: {ovr_accuracy:.2f}\")\n",
    "\n",
    "# Predictions for OvO model\n",
    "ovo_predict = ovo.predict(???)\n",
    "# Calculate accuracy for OvO\n",
    "ovo_accuracy = accuracy_score(???, ???)\n",
    "print(f\"Accuracy for Logistic Regression with OvO: {ovo_accuracy:.2f}\")"
   ]
  },
  {
   "cell_type": "markdown",
   "id": "4876d03f-88f1-4f5d-bd05-6228910668c6",
   "metadata": {},
   "source": [
    "###  \n",
    "\n",
    "**També es poden utilitzar les estratègies OvO i OvR amb un classificador *KNN*.**\n",
    "\n",
    "<font color=blue> Quina estratègia funciona millor amb el dataset? Fes la comparació entre One vs Rest (OvR) i One vs One (OvO) utilitzant un *KNN* com a classificador </font>"
   ]
  },
  {
   "cell_type": "code",
   "execution_count": null,
   "id": "e4ecefcd-aa9f-49fa-bb9d-91be40fb2453",
   "metadata": {},
   "outputs": [],
   "source": [
    "from sklearn.neighbors import KNeighborsClassifier\n",
    "\n",
    "### KNN ###\n",
    "\n",
    "# KNN with OvR\n",
    "model = KNeighborsClassifier(n_neighbors = 29)\n",
    "knn_ovr = ???\n",
    "knn_ovr.fit(???, ???)\n",
    "\n",
    "# KNN with OvO\n",
    "knn_ovo = ???\n",
    "knn_ovo.fit(???, ???)\n",
    "\n",
    "# Predictions for OvR model\n",
    "knn_ovr_predict = ovr_model.predict(???)\n",
    "# Calculate accuracy for OvR\n",
    "knn_ovr_accuracy = ???\n",
    "print(f\"Accuracy for KNN with OvR: {knn_ovr_accuracy:.2f}\")\n",
    "\n",
    "# Predictions for OvO model\n",
    "knn_ovo_predict = ???\n",
    "# Calculate accuracy for OvO\n",
    "knn_ovo_accuracy = ???\n",
    "print(f\"Accuracy for KNN with OvO: {knn_ovo_accuracy:.2f}\")"
   ]
  },
  {
   "cell_type": "markdown",
   "id": "cc8748f9-ef2b-40a6-bc5d-230d752fe0bb",
   "metadata": {},
   "source": [
    "###  \n",
    "\n",
    "**Comparació utilitzant les mètriques**"
   ]
  },
  {
   "cell_type": "code",
   "execution_count": null,
   "id": "6f211ba2-ccd4-4604-938a-aafe84786abf",
   "metadata": {},
   "outputs": [],
   "source": [
    "def get_metrics(model, X_test, y_test):\n",
    "    # Get predictions\n",
    "    predictions = model.predict(X_test)\n",
    "    \n",
    "    # Calculate accuracy, precision, recall, f1 score\n",
    "    accuracy = accuracy_score(y_test, predictions)\n",
    "    precision = precision_score(y_test, predictions, average='weighted')\n",
    "    recall = recall_score(y_test, predictions, average='weighted')\n",
    "    f1 = f1_score(y_test, predictions, average='weighted')\n",
    "\n",
    "    return accuracy, precision, recall, f1"
   ]
  },
  {
   "cell_type": "code",
   "execution_count": null,
   "id": "4078bc7f-35bf-457c-bdbb-67e93ea15d35",
   "metadata": {},
   "outputs": [],
   "source": [
    "# Create the empty list for storing metrics for each model\n",
    "data = []\n",
    "\n",
    "# Logistic Regression OvR\n",
    "log_ovr_accuracy, log_ovr_precision, log_ovr_recall, log_ovr_f1 = get_metrics(ovr_model, X_test_scaled, y_test)\n",
    "data.append({'model': 'Logistic Regression', 'strategy': 'OvR', 'accuracy': log_ovr_accuracy, 'precision': log_ovr_precision, 'recall': log_ovr_recall, 'f1': log_ovr_f1})\n",
    "\n",
    "# Logistic Regression OvO\n",
    "log_ovo_accuracy, log_ovo_precision, log_ovo_recall, log_ovo_f1 = get_metrics(ovo, X_test_scaled, y_test)\n",
    "data.append({'model': 'Logistic Regression', 'strategy': 'OvO', 'accuracy': log_ovo_accuracy, 'precision': log_ovo_precision, 'recall': log_ovo_recall, 'f1': log_ovo_f1})\n",
    "\n",
    "# KNN OvR\n",
    "knn_ovr_accuracy, knn_ovr_precision, knn_ovr_recall, knn_ovr_f1 = get_metrics(knn_ovr, X_test_scaled, y_test)\n",
    "data.append({'model': 'KNN', 'strategy': 'OvR', 'accuracy': knn_ovr_accuracy, 'precision': knn_ovr_precision, 'recall': knn_ovr_recall, 'f1': knn_ovr_f1})\n",
    "\n",
    "# KNN OvO\n",
    "knn_ovo_accuracy, knn_ovo_precision, knn_ovo_recall, knn_ovo_f1 = get_metrics(knn_ovo, X_test_scaled, y_test)\n",
    "data.append({'model': 'KNN', 'strategy': 'OvO', 'accuracy': knn_ovo_accuracy, 'precision': knn_ovo_precision, 'recall': knn_ovo_recall, 'f1': knn_ovo_f1})\n",
    "\n",
    "# Convert the list of dictionaries to a DataFrame\n",
    "df = pd.DataFrame(data)\n",
    "df = round(df, 2)\n",
    "df = df.sort_values(by=['accuracy', 'precision', 'recall', 'f1'], ascending=False)\n",
    "\n",
    "# Display the DataFrame as a table\n",
    "print(df)"
   ]
  },
  {
   "cell_type": "code",
   "execution_count": null,
   "id": "16b09661-e2b6-481c-ac98-eff9e9493406",
   "metadata": {},
   "outputs": [],
   "source": []
  }
 ],
 "metadata": {
  "kernelspec": {
   "display_name": "Python 3 (ipykernel)",
   "language": "python",
   "name": "python3"
  },
  "language_info": {
   "codemirror_mode": {
    "name": "ipython",
    "version": 3
   },
   "file_extension": ".py",
   "mimetype": "text/x-python",
   "name": "python",
   "nbconvert_exporter": "python",
   "pygments_lexer": "ipython3",
   "version": "3.9.7"
  }
 },
 "nbformat": 4,
 "nbformat_minor": 5
}
