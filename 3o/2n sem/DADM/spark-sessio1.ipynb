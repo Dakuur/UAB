{
  "cells": [
    {
      "cell_type": "markdown",
      "source": [
        "Pràctica SPARK\n",
        "\n",
        "Integrants:\n",
        "    - David Morillo Massagué (1666540)\n",
        "    - Albert Guillaumet Mata (1672344)\n",
        "    - Adrià Muro Gómez (1665191)"
      ],
      "metadata": {
        "id": "Sq3m34IeZoD4"
      }
    },
    {
      "cell_type": "code",
      "execution_count": null,
      "metadata": {
        "colab": {
          "background_save": true,
          "base_uri": "https://localhost:8080/"
        },
        "id": "MvH6hBmiJr6H",
        "outputId": "e144d66c-8719-4d06-96e2-dfc49b05a403"
      },
      "outputs": [
        {
          "name": "stdout",
          "output_type": "stream",
          "text": [
            "Hit:1 https://cloud.r-project.org/bin/linux/ubuntu jammy-cran40/ InRelease\n",
            "Hit:2 https://developer.download.nvidia.com/compute/cuda/repos/ubuntu2204/x86_64  InRelease\n",
            "Hit:3 https://r2u.stat.illinois.edu/ubuntu jammy InRelease\n",
            "Hit:4 http://security.ubuntu.com/ubuntu jammy-security InRelease\n",
            "Hit:5 https://ppa.launchpadcontent.net/deadsnakes/ppa/ubuntu jammy InRelease\n",
            "Hit:6 http://archive.ubuntu.com/ubuntu jammy InRelease\n",
            "Hit:7 https://ppa.launchpadcontent.net/graphics-drivers/ppa/ubuntu jammy InRelease\n",
            "Hit:8 https://ppa.launchpadcontent.net/ubuntugis/ppa/ubuntu jammy InRelease\n",
            "Hit:9 http://archive.ubuntu.com/ubuntu jammy-updates InRelease\n",
            "Hit:10 http://archive.ubuntu.com/ubuntu jammy-backports InRelease\n",
            "Reading package lists... Done\n",
            "W: Skipping acquire of configured file 'main/source/Sources' as repository 'https://r2u.stat.illinois.edu/ubuntu jammy InRelease' does not seem to provide it (sources.list entry misspelt?)\n",
            "Reading package lists... Done\n",
            "Building dependency tree... Done\n",
            "Reading state information... Done\n",
            "openjdk-8-jre is already the newest version (8u452-ga~us1-0ubuntu1~22.04).\n",
            "0 upgraded, 0 newly installed, 0 to remove and 34 not upgraded.\n",
            "--2025-05-08 13:58:42--  https://archive.apache.org/dist/spark/spark-3.1.1/spark-3.1.1-bin-hadoop3.2.tgz\n",
            "Resolving archive.apache.org (archive.apache.org)... 65.108.204.189, 2a01:4f9:1a:a084::2\n",
            "Connecting to archive.apache.org (archive.apache.org)|65.108.204.189|:443... connected.\n",
            "HTTP request sent, awaiting response... 200 OK\n",
            "Length: 228721937 (218M) [application/x-gzip]\n",
            "Saving to: ‘spark-3.1.1-bin-hadoop3.2.tgz.1’\n",
            "\n",
            "spark-3.1.1-bin-had 100%[===================>] 218.13M  2.07MB/s    in 1m 58s  \n",
            "\n",
            "2025-05-08 14:00:40 (1.85 MB/s) - ‘spark-3.1.1-bin-hadoop3.2.tgz.1’ saved [228721937/228721937]\n",
            "\n"
          ]
        }
      ],
      "source": [
        "!sudo apt-get update\n",
        "!sudo apt-get install openjdk-8-jre\n",
        "!wget https://archive.apache.org/dist/spark/spark-3.1.1/spark-3.1.1-bin-hadoop3.2.tgz\n",
        "!tar xf spark-3.1.1-bin-hadoop3.2.tgz\n",
        "!pip install -q findspark\n"
      ]
    },
    {
      "cell_type": "code",
      "execution_count": null,
      "metadata": {
        "id": "PIif6cruJsho"
      },
      "outputs": [],
      "source": [
        "import findspark\n",
        "import os\n",
        "os.environ[\"JAVA_HOME\"] = \"/usr/lib/jvm/java-8-openjdk-amd64\"\n",
        "os.environ[\"SPARK_HOME\"] = \"/content/spark-3.1.1-bin-hadoop3.2\"\n",
        "\n",
        "findspark.init()\n",
        "from pyspark.sql import SparkSession\n",
        "from pyspark.sql.functions import *\n",
        "spark = SparkSession.builder.master(\"local[*]\").getOrCreate()\n",
        "spark.conf.set(\"spark.sql.repl.eagerEval.enabled\", True) # Property used to format output tables better spark"
      ]
    },
    {
      "cell_type": "code",
      "source": [
        "c = spark.read.csv(\n",
        "    \"customers.csv\", header=True)"
      ],
      "metadata": {
        "id": "RU4yvpEiPJ1U"
      },
      "execution_count": null,
      "outputs": []
    },
    {
      "cell_type": "markdown",
      "metadata": {
        "id": "PfafEm7XKoS8"
      },
      "source": [
        "Use any of the previous transformations to find the answer to these questions. You can export your Jupyter notebook final version as part of the deliverable. For each question, you must provide the following information: • What command are you going to use? Why? • Which is your Spark operation to solve the question? • Which output is providing your Spark command (3 lines max.)\n",
        "\n",
        "# Questions:\n",
        "\n",
        "**1-How many elements can we find (in our DataFrame)?**\n",
        "\n",
        "Volem saber quants registres hi ha en total al DataFrame, és a dir, quantes files representen compres o transaccions. Utilitzem count() perquè és una acció que retorna el nombre total de files del DataFrame, ideal per obtenir una visió general de la mida del dataset.\n",
        "\n",
        "\n",
        "\n"
      ]
    },
    {
      "cell_type": "code",
      "execution_count": null,
      "metadata": {
        "id": "IsGginLyLDYc",
        "colab": {
          "base_uri": "https://localhost:8080/"
        },
        "outputId": "9a818921-e775-4a66-9af6-257e11466241"
      },
      "outputs": [
        {
          "output_type": "execute_result",
          "data": {
            "text/plain": [
              "1003"
            ]
          },
          "metadata": {},
          "execution_count": 7
        }
      ],
      "source": [
        "c.count()"
      ]
    },
    {
      "cell_type": "markdown",
      "source": [
        "Veiem que el Dataset té 1003 files"
      ],
      "metadata": {
        "id": "pdHLwAStVJW2"
      }
    },
    {
      "cell_type": "markdown",
      "metadata": {
        "id": "GlvLJimVLpgp"
      },
      "source": [
        "**2-How many unique customers?**\n",
        "\n",
        "Volem saber quants clients diferents han fet compres, és a dir, quants valors únics hi ha a la columna customer. Utilitzem distinct() per eliminar duplicats de customer i després count() per obtenir el total de clients únics."
      ]
    },
    {
      "cell_type": "code",
      "execution_count": null,
      "metadata": {
        "id": "4zJwblAOL_hO",
        "colab": {
          "base_uri": "https://localhost:8080/"
        },
        "outputId": "d647aad7-5326-4f6c-d70d-02aefda58e5b"
      },
      "outputs": [
        {
          "output_type": "execute_result",
          "data": {
            "text/plain": [
              "31"
            ]
          },
          "metadata": {},
          "execution_count": 17
        }
      ],
      "source": [
        "c.select('customer').distinct().count()"
      ]
    },
    {
      "cell_type": "markdown",
      "source": [
        "Veiem que hi ha 31 clients únics"
      ],
      "metadata": {
        "id": "mQHaynY4VUW0"
      }
    },
    {
      "cell_type": "markdown",
      "metadata": {
        "id": "bxbSXX_7L_tG"
      },
      "source": [
        "**3-How many products were purchased by each customer?**\n",
        "\n",
        "Volem saber quants productes diferents ha comprat cada client al llarg de totes les seves compres. Amb groupBy() agrupem per client, i amb countDistinct() comptem els productes únics comprats per cada client."
      ]
    },
    {
      "cell_type": "code",
      "execution_count": null,
      "metadata": {
        "id": "YmCEGG9kL_3a",
        "colab": {
          "base_uri": "https://localhost:8080/"
        },
        "outputId": "8a70252f-f0c9-4aa3-f1cd-9bae28c5a080"
      },
      "outputs": [
        {
          "output_type": "stream",
          "name": "stdout",
          "text": [
            "+--------+---------------+\n",
            "|customer|unique_products|\n",
            "+--------+---------------+\n",
            "|     125|             10|\n",
            "|     124|             10|\n",
            "|     101|             10|\n",
            "|     112|             10|\n",
            "|     113|             10|\n",
            "|     110|             10|\n",
            "|     107|             10|\n",
            "|     100|             10|\n",
            "|     126|             10|\n",
            "|     120|             10|\n",
            "|     130|             10|\n",
            "|     118|             10|\n",
            "|     104|             10|\n",
            "|     128|             10|\n",
            "|     102|             10|\n",
            "|     111|             10|\n",
            "|     103|             10|\n",
            "|     115|             10|\n",
            "|     122|             10|\n",
            "|     108|             10|\n",
            "|     117|             10|\n",
            "|     114|             10|\n",
            "|     106|             10|\n",
            "|     116|             10|\n",
            "|     105|             10|\n",
            "+--------+---------------+\n",
            "only showing top 25 rows\n",
            "\n"
          ]
        }
      ],
      "source": [
        "c.groupBy(\"customer\").agg(expr(\"count(distinct(product)) as unique_products\")).show(25)"
      ]
    },
    {
      "cell_type": "markdown",
      "source": [
        "Veiem la cuantitat de productes comprats per a cada usuari"
      ],
      "metadata": {
        "id": "wH9ktW0YVZDU"
      }
    },
    {
      "cell_type": "markdown",
      "metadata": {
        "id": "GGBvT8EtMADL"
      },
      "source": [
        "**4-Sort customers by quantity**\n",
        "\n",
        "Ens interessa ordenar els clients segons la quantitat total de productes que han comprat (sumant totes les seves compres). Fem servir groupBy per client, sum(\"quantity\") per sumar el total de productes comprats, i orderBy per ordenar de major a menor."
      ]
    },
    {
      "cell_type": "code",
      "execution_count": null,
      "metadata": {
        "id": "CxU6zchhMAPj",
        "colab": {
          "base_uri": "https://localhost:8080/"
        },
        "outputId": "20b3d399-96cd-44c9-96ea-764ab1b33bfd"
      },
      "outputs": [
        {
          "output_type": "stream",
          "name": "stdout",
          "text": [
            "+--------+--------------+\n",
            "|customer|total_quantity|\n",
            "+--------+--------------+\n",
            "|     101|         196.0|\n",
            "|     122|         179.0|\n",
            "|     117|         176.0|\n",
            "|     100|         172.0|\n",
            "|     124|         165.0|\n",
            "+--------+--------------+\n",
            "only showing top 5 rows\n",
            "\n"
          ]
        }
      ],
      "source": [
        "c.groupBy(\"customer\").agg(expr(\"sum(quantity) as total_quantity\")).orderBy(desc(\"total_quantity\")).show(5)"
      ]
    },
    {
      "cell_type": "markdown",
      "source": [
        "La taula mostra els id's dels primers 5 usuaris amb la quantitat comprada per cadascú."
      ],
      "metadata": {
        "id": "2M4WTrWVVhfZ"
      }
    },
    {
      "cell_type": "markdown",
      "metadata": {
        "id": "dp93Lr6RMAZJ"
      },
      "source": [
        "**5-How many times customer id number 100 has purchased more than 5 items?**\n",
        "\n",
        "Volem saber quantes vegades el client amb ID 100 ha fet una compra de més de 5 unitats. Utilitzem la comanda where() per seleccionar les files que compleixen les dues condicions."
      ]
    },
    {
      "cell_type": "code",
      "execution_count": null,
      "metadata": {
        "id": "7LIw6lgKMKUT",
        "colab": {
          "base_uri": "https://localhost:8080/"
        },
        "outputId": "6cde17dd-7224-4a68-e102-191dc83fbb44"
      },
      "outputs": [
        {
          "output_type": "execute_result",
          "data": {
            "text/plain": [
              "16"
            ]
          },
          "metadata": {},
          "execution_count": 14
        }
      ],
      "source": [
        "c.where((col(\"customer\") == 100) & (col(\"quantity\") > 5)).count()"
      ]
    },
    {
      "cell_type": "markdown",
      "source": [
        "El resultat 16 és la quantitat de vegades que el comprador (100) ha comprat més de 5 items."
      ],
      "metadata": {
        "id": "MRcdwE-tYFRB"
      }
    },
    {
      "cell_type": "markdown",
      "metadata": {
        "id": "AjSHuup8MKfc"
      },
      "source": [
        "\n",
        "**6-Which were the products bought by customer with the largest number of transactions? We are interested in the customer that has done more purchases. You do not need to consider quantities of products, just how many times a customer has done a transaction.**\n",
        "\n",
        "Volem saber quins productes ha comprat el client que ha fet més transaccions (independentment de la quantitat comprada per transacció). Primer utilitzem groupBy i count() per saber quin client té més files (transaccions). Un cop identificat, utilitzem where() i distinct() per obtenir la llista de productes diferents que ha comprat."
      ]
    },
    {
      "cell_type": "code",
      "execution_count": null,
      "metadata": {
        "id": "U1mVcK7jMKtQ",
        "colab": {
          "base_uri": "https://localhost:8080/"
        },
        "outputId": "23ad8f05-c18d-4183-d9fb-173356bfd777"
      },
      "outputs": [
        {
          "output_type": "stream",
          "name": "stdout",
          "text": [
            "+-------+\n",
            "|product|\n",
            "+-------+\n",
            "|      7|\n",
            "|      3|\n",
            "|      8|\n",
            "|      5|\n",
            "|      6|\n",
            "|      9|\n",
            "|      1|\n",
            "|     10|\n",
            "|      4|\n",
            "|      2|\n",
            "+-------+\n",
            "\n"
          ]
        }
      ],
      "source": [
        "top_customer = c.groupBy(\"customer\").count().orderBy(desc(\"count\")).first()[\"customer\"]\n",
        "c.where(col(\"customer\") == top_customer).select(\"product\").distinct().show()"
      ]
    },
    {
      "cell_type": "markdown",
      "source": [
        " La taula mostra els diferents porductes de l'usuari que ha realitzat el màxim nombre de transaccions."
      ],
      "metadata": {
        "id": "vqVtES-yYR73"
      }
    }
  ],
  "metadata": {
    "colab": {
      "provenance": []
    },
    "kernelspec": {
      "display_name": "Python 3",
      "name": "python3"
    },
    "language_info": {
      "name": "python"
    }
  },
  "nbformat": 4,
  "nbformat_minor": 0
}