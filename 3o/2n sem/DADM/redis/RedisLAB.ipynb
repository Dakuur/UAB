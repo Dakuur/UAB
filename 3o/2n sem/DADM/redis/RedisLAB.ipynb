{
  "nbformat": 4,
  "nbformat_minor": 0,
  "metadata": {
    "colab": {
      "provenance": []
    },
    "kernelspec": {
      "name": "python3",
      "display_name": "Python 3"
    },
    "language_info": {
      "name": "python"
    }
  },
  "cells": [
    {
      "cell_type": "markdown",
      "source": [
        "Nom: David Morillo Massagué\n",
        "NIU: 1666540\n",
        "\n",
        "# Disseny d'Aplicacions Massives de Dades - Redis lab"
      ],
      "metadata": {
        "id": "zicozCMQJE-a"
      }
    },
    {
      "cell_type": "code",
      "execution_count": 43,
      "metadata": {
        "colab": {
          "base_uri": "https://localhost:8080/"
        },
        "collapsed": true,
        "id": "LEQUe-84I-MW",
        "outputId": "e5c2596e-11bb-45ae-d6de-8c577a922e5a"
      },
      "outputs": [
        {
          "output_type": "stream",
          "name": "stdout",
          "text": [
            "Reading package lists... Done\n",
            "Building dependency tree... Done\n",
            "Reading state information... Done\n",
            "redis is already the newest version (5:6.0.16-1ubuntu1).\n",
            "0 upgraded, 0 newly installed, 0 to remove and 30 not upgraded.\n",
            "Requirement already satisfied: redis in /usr/local/lib/python3.11/dist-packages (5.2.1)\n"
          ]
        }
      ],
      "source": [
        "!apt install -y redis\n",
        "!pip install redis\n",
        "!redis-server --daemonize yes"
      ]
    },
    {
      "cell_type": "code",
      "source": [
        "import redis\n",
        "c=redis.Redis(host='localhost', port=6379)\n",
        "c.ping()"
      ],
      "metadata": {
        "colab": {
          "base_uri": "https://localhost:8080/"
        },
        "id": "Y_cToYbwJSi8",
        "outputId": "3e553e2f-5884-47a8-8605-dc606f29fa98"
      },
      "execution_count": 44,
      "outputs": [
        {
          "output_type": "execute_result",
          "data": {
            "text/plain": [
              "True"
            ]
          },
          "metadata": {},
          "execution_count": 44
        }
      ]
    },
    {
      "cell_type": "markdown",
      "source": [
        "# STRINGS\n",
        "**Exercise 1**: add three of your favorite websites to the list with SET and with MSET."
      ],
      "metadata": {
        "id": "jy1M6NRlOiyX"
      }
    },
    {
      "cell_type": "code",
      "source": [
        "c.set('Jesucristo', 'https://open.spotify.com/intl-es/track/4Qn4NJZZhMQVxVROSb0Je1?si=9ec96e1f51114be4')\n",
        "\n",
        "c.mset({\n",
        "    \"FCB\": \"https://www.fcbarcelona.cat/ca/\",\n",
        "    \"Nano\": \"https://www.formula1.com/en/drivers/fernando-alonso\",\n",
        "    \"UFC\": \"https://www.ufc.com/events#events-list-upcoming\"\n",
        "})\n",
        "\n",
        "print(c.get(\"FCB\").decode())"
      ],
      "metadata": {
        "colab": {
          "base_uri": "https://localhost:8080/"
        },
        "id": "6hipMaq_M44p",
        "outputId": "24b8e202-a2be-41e8-bcee-90e993f29300"
      },
      "execution_count": 45,
      "outputs": [
        {
          "output_type": "stream",
          "name": "stdout",
          "text": [
            "https://www.fcbarcelona.cat/ca/\n"
          ]
        }
      ]
    },
    {
      "cell_type": "markdown",
      "source": [
        "# HASHES\n",
        "**Exercise 2**: add yourself to a new hash object using your username and a new password"
      ],
      "metadata": {
        "id": "5n28SlAwOnhc"
      }
    },
    {
      "cell_type": "code",
      "source": [
        "user = \"user:007\"\n",
        "c.hset(user, \"name\", \"David\")\n",
        "c.hset(user, \"age\", 20)\n",
        "c.hset(user, \"password\", \"hello1234\")"
      ],
      "metadata": {
        "colab": {
          "base_uri": "https://localhost:8080/"
        },
        "id": "OHW59pDrQuP9",
        "outputId": "ec2f4f7d-a3c9-4dee-b283-80905e880290"
      },
      "execution_count": 46,
      "outputs": [
        {
          "output_type": "execute_result",
          "data": {
            "text/plain": [
              "0"
            ]
          },
          "metadata": {},
          "execution_count": 46
        }
      ]
    },
    {
      "cell_type": "markdown",
      "source": [
        "# SETS\n",
        "**Exercise 3**: add a new type of URL called video and add there some examples: youtube.com, vimeo.com, netflix.com. Create a new dataset by joining tech and video websites from the previous example."
      ],
      "metadata": {
        "id": "G4s7--2gRTFc"
      }
    },
    {
      "cell_type": "code",
      "source": [
        "c.sadd(\"tech\",\"theverge.com\")\n",
        "c.sadd(\"tech\",\"cnet.com\")\n",
        "tech=c.smembers(\"tech\")\n",
        "\n",
        "c.sadd(\"video\", \"youtube.com\")\n",
        "c.sadd(\"video\", \"vimeo.com\")\n",
        "c.sadd(\"video\", \"netflix.com\")\n",
        "video=c.smembers(\"video\")\n",
        "\n",
        "c.sunionstore(\"tech-video\", \"tech\", \"video\")\n",
        "join=c.smembers(\"tech-video\")\n",
        "print(join)"
      ],
      "metadata": {
        "colab": {
          "base_uri": "https://localhost:8080/"
        },
        "id": "Kb4PVQ_RRfd6",
        "outputId": "635862e3-99cb-4366-c4f2-2ce6f0a6f242"
      },
      "execution_count": 47,
      "outputs": [
        {
          "output_type": "stream",
          "name": "stdout",
          "text": [
            "{b'cnet.com', b'vimeo.com', b'theverge.com', b'netflix.com', b'youtube.com'}\n"
          ]
        }
      ]
    },
    {
      "cell_type": "markdown",
      "source": [
        "# SORTED SETS\n",
        "**Exercise 4**: add two new short URLs to popular sorted list with their initial ranking values"
      ],
      "metadata": {
        "id": "t8O7pLmpVf7s"
      }
    },
    {
      "cell_type": "code",
      "source": [
        "score_zset='votes:'\n",
        "c.zadd(score_zset, {'uab' : 5})\n",
        "c.zadd(score_zset, {'google': 1000})\n",
        "c.zadd(score_zset, {'bing': 10})\n",
        "\n",
        "c.zadd(score_zset, {'youtube' : 777})\n",
        "c.zadd(score_zset, {'twitch': 3141})"
      ],
      "metadata": {
        "colab": {
          "base_uri": "https://localhost:8080/"
        },
        "id": "VN5K6BwkVkBw",
        "outputId": "2d485ca5-e5fd-4904-d4ce-7c4324571cd1"
      },
      "execution_count": 48,
      "outputs": [
        {
          "output_type": "execute_result",
          "data": {
            "text/plain": [
              "0"
            ]
          },
          "metadata": {},
          "execution_count": 48
        }
      ]
    },
    {
      "cell_type": "markdown",
      "source": [
        "**Exercise 5**: add a new item to popular ZSET with the value 9999. Check that the new item is inserted in popular by obtaining the top 5 list of items with largest decreasing score.\n"
      ],
      "metadata": {
        "id": "hjbMh8H8Y6pU"
      }
    },
    {
      "cell_type": "code",
      "source": [
        "c.zadd(score_zset, {'tiktok': 9999})\n",
        "\n",
        "top5 = c.zrevrange(score_zset, 0, 4, withscores=True)\n",
        "print(top5)"
      ],
      "metadata": {
        "colab": {
          "base_uri": "https://localhost:8080/"
        },
        "id": "75X63mlcWMst",
        "outputId": "8438c3c4-07ae-4daa-d903-983238dd555e"
      },
      "execution_count": 49,
      "outputs": [
        {
          "output_type": "stream",
          "name": "stdout",
          "text": [
            "[(b'tiktok', 9999.0), (b'twitch', 3141.0), (b'google', 1000.0), (b'youtube', 777.0), (b'bing', 10.0)]\n"
          ]
        }
      ]
    },
    {
      "cell_type": "markdown",
      "source": [
        "# ZUNION\n",
        "**Exercise 6**: apply the following union operation"
      ],
      "metadata": {
        "id": "iLuwyn5_aIpN"
      }
    },
    {
      "cell_type": "code",
      "source": [
        "visit_zset='visits:'\n",
        "c.zadd(visit_zset, {'uab' : 20})\n",
        "c.zadd(visit_zset, {'google' : 1234})\n",
        "\n",
        "c.zunionstore('relevance:', ['votes:','visits:'])\n",
        "c.zrange('relevance:', 0, 9, withscores=True)"
      ],
      "metadata": {
        "colab": {
          "base_uri": "https://localhost:8080/"
        },
        "id": "qNocWGTVaLMs",
        "outputId": "b2526bc9-3bbb-4243-86db-f389527aeb52"
      },
      "execution_count": 50,
      "outputs": [
        {
          "output_type": "execute_result",
          "data": {
            "text/plain": [
              "[(b'bing', 10.0),\n",
              " (b'uab', 25.0),\n",
              " (b'youtube', 777.0),\n",
              " (b'google', 2234.0),\n",
              " (b'twitch', 3141.0),\n",
              " (b'tiktok', 9999.0)]"
            ]
          },
          "metadata": {},
          "execution_count": 50
        }
      ]
    },
    {
      "cell_type": "markdown",
      "source": [
        "# LISTS"
      ],
      "metadata": {
        "id": "32kBMODRbJ18"
      }
    },
    {
      "cell_type": "code",
      "source": [
        "wishlist_pepe=\"pepe:wishlist\"\n",
        "c.lpush(wishlist_pepe, 'google')\n",
        "c.lpush(wishlist_pepe, 'bing')\n",
        "\n",
        "webs = c.lrange(wishlist_pepe, 0, -1)\n",
        "print(webs)\n",
        "\n",
        "num_len=c.llen(wishlist_pepe)\n",
        "print(num_len)"
      ],
      "metadata": {
        "colab": {
          "base_uri": "https://localhost:8080/"
        },
        "id": "ydu4M3tUos4o",
        "outputId": "5aae22f2-b7e3-445c-9442-01f98c2acf9e"
      },
      "execution_count": 51,
      "outputs": [
        {
          "output_type": "stream",
          "name": "stdout",
          "text": [
            "[b'bing', b'google', b'bing', b'google', b'bing', b'google']\n",
            "6\n"
          ]
        }
      ]
    },
    {
      "cell_type": "markdown",
      "source": [
        "# Questions due to April 27th 2025:"
      ],
      "metadata": {
        "id": "mviMrO_Ap4Jb"
      }
    },
    {
      "cell_type": "markdown",
      "source": [
        "# 2. Top 10 usuaris mes actius:\n",
        "\n",
        "- Definició d’activitat:\n",
        "Es defineix com publicar una nova URL o votar per una URL (només un cop per URL). Cada acció vàlida suma un punt d’activitat.\n",
        "\n",
        "- Estructures Redis utilitzades:\n",
        "ZSET: user_activity → emmagatzema l'activitat de cada usuari (la puntuació és el nombre d'accions).\n",
        "\n",
        "SET: url_votes:<url> → llista d’usuaris que han votat una URL per evitar recompte duplicat.\n",
        "\n",
        "- Operacions:\n",
        "ZINCRBY user_activity 1 <user> → incrementa l'activitat\n",
        "\n",
        "SADD url_votes:<url> <user> → afegeix l’usuari al conjunt de votants d’una URL\n",
        "\n",
        "ZREVRANGE user_activity 0 9 WITHSCORES → retorna el top 10\n",
        "\n",
        "- Reacció davant una nova acció:\n",
        "Quan l’usuari fa una acció (post o vot), s’actualitza el ZSET user_activity en temps real. Això manté sempre actualitzat el top 10.\n",
        "\n",
        "- Prevenció de vots duplicats:\n",
        "Si l’usuari ja està al SET url_votes:<url>, no es torna a incrementar la seva activitat. Això es controla amb SISMEMBER."
      ],
      "metadata": {
        "id": "XmAijCGwp-1i"
      }
    },
    {
      "cell_type": "code",
      "source": [
        "client = redis.Redis()\n",
        "\n",
        "# Funció per publicar una URL\n",
        "def publica(user, url):\n",
        "    # Incrementa activitat de l'usuari\n",
        "    client.zincrby(\"user_activity\", 1, user)\n",
        "\n",
        "# Funció per votar una URL (només una vegada)\n",
        "def vota(user, url):\n",
        "    if not client.sismember(f\"url_votes:{url}\", user):\n",
        "        client.sadd(f\"url_votes:{url}\", user)\n",
        "        client.zincrby(\"user_activity\", 1, user)\n",
        "\n",
        "# Obtenir top 10 usuaris més actius\n",
        "def top_usuaris():\n",
        "    return client.zrevrange(\"user_activity\", 0, 9, withscores=True)\n",
        "\n",
        "# Exemple d'ús\n",
        "publica(\"user123\", \"uab.cat\")\n",
        "vota(\"user123\", \"google.com\")\n",
        "vota(\"user123\", \"google.com\")  # No compta dues vegades\n",
        "vota(\"user456\", \"google.com\")\n",
        "\n",
        "print(top_usuaris())"
      ],
      "metadata": {
        "colab": {
          "base_uri": "https://localhost:8080/"
        },
        "id": "vyM8lNR9p8Kc",
        "outputId": "5826d25b-e32c-45d5-b3e9-a67a4185b8e2"
      },
      "execution_count": 52,
      "outputs": [
        {
          "output_type": "stream",
          "name": "stdout",
          "text": [
            "[(b'user123', 6.0), (b'user456', 1.0)]\n"
          ]
        }
      ]
    },
    {
      "cell_type": "markdown",
      "source": [
        "# 3. Ultims 10 llocs visitats per usuari\n",
        "\n",
        "- Objectiu:\n",
        "Guardar les últimes 10 webs visitades per cada usuari, ordenades per temps (la més recent primer).\n",
        "\n",
        "- Estructures Redis:\n",
        "LIST: recent:<usuari> → conté les URLs visitades en ordre cronològic invers.\n",
        "\n",
        "- Operacions:\n",
        "LREM recent:<user> 0 <url> → elimina la URL si ja existia per evitar duplicats\n",
        "\n",
        "LPUSH recent:<user> <url> → afegeix la URL al principi de la llista\n",
        "\n",
        "LTRIM recent:<user> 0 9 → manté només les 10 últimes visites\n",
        "\n",
        "LRANGE recent:<user> 0 -1 → retorna les visites en ordre\n",
        "\n",
        "- Reacció davant nova visita:\n",
        "Quan hi ha un nou esdeveniment (user123, \"www.google.com\"), la URL es col·loca al principi de la llista. Si ja hi era, es reordena per mostrar que ha estat la darrera visitada."
      ],
      "metadata": {
        "id": "EP-vQgucqUA7"
      }
    },
    {
      "cell_type": "code",
      "source": [
        "# Funció per registrar una visita\n",
        "def visita(user, url):\n",
        "    key = f\"recent:{user}\"\n",
        "    # Si ja existia, l'eliminem per evitar duplicats\n",
        "    client.lrem(key, 0, url)\n",
        "    # Afegim al principi\n",
        "    client.lpush(key, url)\n",
        "    # Mantenim només les 10 més recents\n",
        "    client.ltrim(key, 0, 9)\n",
        "\n",
        "# Llista de les últimes 10 webs visitades\n",
        "def ultimes_visites(user):\n",
        "    return client.lrange(f\"recent:{user}\", 0, -1)\n",
        "\n",
        "# Exemple d'ús\n",
        "visita(\"user123\", \"google.com\")\n",
        "visita(\"user123\", \"youtube.com\")\n",
        "visita(\"user123\", \"google.com\")  # Es mou al principi\n",
        "\n",
        "print([x.decode() for x in ultimes_visites(\"user123\")])"
      ],
      "metadata": {
        "colab": {
          "base_uri": "https://localhost:8080/"
        },
        "id": "fq2knIWrqaPt",
        "outputId": "3190fce5-fd12-4c54-adc5-9d998bbf3c08"
      },
      "execution_count": 53,
      "outputs": [
        {
          "output_type": "stream",
          "name": "stdout",
          "text": [
            "['google.com', 'youtube.com']\n"
          ]
        }
      ]
    },
    {
      "cell_type": "markdown",
      "source": [
        "# 4. Sistema de recomanacions\n",
        "\n",
        "- Objectiu:\n",
        "Recomanar URLs a un usuari basant-se en preferències compartides amb altres usuaris.\n",
        "\n",
        "- Estructures Redis:\n",
        "SET: likes:<usuari> → llista de URLs que l’usuari ha votat o marcat com a preferides\n",
        "\n",
        "- Operacions:\n",
        "SADD likes:<usuari> <url> → afegir una nova URL com a preferida\n",
        "\n",
        "SINTER likes:<usuari> likes:<altre> → troba interessos comuns entre usuaris\n",
        "\n",
        "SDIFF likes:<altre> likes:<usuari> → recomana URLs que el segon ha votat però el primer no\n",
        "\n",
        "- Buscar usuaris similars:\n",
        "Es recorre la base de dades (SCAN_ITER) per comparar conjunts likes:<user> i detectar coincidències.\n",
        "\n",
        "- Com fer recomanacions:\n",
        "Un cop detectats usuaris amb interessos compartits, es recomanen les seves URLs exclusives que l’usuari actual encara no ha visitat."
      ],
      "metadata": {
        "id": "ax-UsHjtrU3Y"
      }
    },
    {
      "cell_type": "code",
      "source": [
        "# Afegir URL favorita a un usuari\n",
        "def afegeix_like(user, url):\n",
        "    client.sadd(f\"likes:{user}\", url)\n",
        "\n",
        "# Recomanar URLs noves basades en usuaris similars\n",
        "def recomanacions(user):\n",
        "    usuaris = [u.decode().split(\":\")[1] for u in client.scan_iter(\"likes:*\")]\n",
        "    likes_usuari = f\"likes:{user}\"\n",
        "    recomanades = set()\n",
        "\n",
        "    for altre in usuaris:\n",
        "        if altre == user:\n",
        "            continue\n",
        "        # Si tenen interessos en comú\n",
        "        if client.sinter(likes_usuari, f\"likes:{altre}\"):\n",
        "            # Afegim les URLs de l’altre usuari que aquest no ha vist\n",
        "            noves = client.sdiff(f\"likes:{altre}\", likes_usuari)\n",
        "            recomanades.update(noves)\n",
        "\n",
        "    return [x.decode() for x in recomanades]\n",
        "\n",
        "# Exemple d'ús\n",
        "afegeix_like(\"user123\", \"youtube.com\")\n",
        "afegeix_like(\"user123\", \"google.com\")\n",
        "\n",
        "afegeix_like(\"user456\", \"youtube.com\")\n",
        "afegeix_like(\"user456\", \"reddit.com\")\n",
        "afegeix_like(\"user456\", \"medium.com\")\n",
        "\n",
        "print(recomanacions(\"user123\"))"
      ],
      "metadata": {
        "colab": {
          "base_uri": "https://localhost:8080/"
        },
        "id": "04ADH9y9rYCg",
        "outputId": "d261e5fd-bd6c-482c-9d8c-5c7877f5a281"
      },
      "execution_count": 54,
      "outputs": [
        {
          "output_type": "stream",
          "name": "stdout",
          "text": [
            "['medium.com', 'reddit.com']\n"
          ]
        }
      ]
    }
  ]
}