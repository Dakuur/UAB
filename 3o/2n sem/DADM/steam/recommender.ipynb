{
 "cells": [
  {
   "cell_type": "code",
   "execution_count": 2,
   "id": "12ebdb56",
   "metadata": {
    "_cell_guid": "b1076dfc-b9ad-4769-8c92-a6c4dae69d19",
    "_uuid": "8f2839f25d086af736a60e9eeb907d3b93b6e0e5",
    "execution": {
     "iopub.execute_input": "2023-03-20T17:16:20.970081Z",
     "iopub.status.busy": "2023-03-20T17:16:20.969491Z",
     "iopub.status.idle": "2023-03-20T17:16:22.358706Z",
     "shell.execute_reply": "2023-03-20T17:16:22.357149Z"
    },
    "papermill": {
     "duration": 1.404223,
     "end_time": "2023-03-20T17:16:22.362306",
     "exception": false,
     "start_time": "2023-03-20T17:16:20.958083",
     "status": "completed"
    },
    "tags": []
   },
   "outputs": [],
   "source": [
    "# This Python 3 environment comes with many helpful analytics libraries installed\n",
    "# It is defined by the kaggle/python Docker image: https://github.com/kaggle/docker-python\n",
    "# For example, here's several helpful packages to load\n",
    "\n",
    "import numpy as np # linear algebra\n",
    "import pandas as pd # data processing, CSV file I/O (e.g. pd.read_csv)\n",
    "\n",
    "from sklearn.feature_extraction.text import TfidfVectorizer\n",
    "from sklearn.metrics.pairwise import cosine_similarity\n",
    "\n",
    "# Input data files are available in the read-only \"../input/\" directory\n",
    "# For example, running this (by clicking run or pressing Shift+Enter) will list all files under the input directory\n",
    "\n",
    "pd.set_option('display.max_columns', None)\n",
    "pd.set_option('display.width', 500)\n",
    "pd.set_option('display.expand_frame_repr', False)\n",
    "\n",
    "import os\n",
    "for dirname, _, filenames in os.walk('/kaggle/input'):\n",
    "    for filename in filenames:\n",
    "        print(os.path.join(dirname, filename))\n",
    "\n",
    "# You can write up to 20GB to the current directory (/kaggle/working/) that gets preserved as output when you create a version using \"Save & Run All\" \n",
    "# You can also write temporary files to /kaggle/temp/, but they won't be saved outside of the current session"
   ]
  },
  {
   "cell_type": "markdown",
   "id": "4de4427c",
   "metadata": {
    "papermill": {
     "duration": 0.003786,
     "end_time": "2023-03-20T17:16:22.370771",
     "exception": false,
     "start_time": "2023-03-20T17:16:22.366985",
     "status": "completed"
    },
    "tags": []
   },
   "source": [
    "\n",
    "# STEAM GAME RECOMMENDER\n",
    "**(Content Based Recommendation)**"
   ]
  },
  {
   "cell_type": "code",
   "execution_count": 4,
   "id": "b6280c79",
   "metadata": {
    "execution": {
     "iopub.execute_input": "2023-03-20T17:16:22.383582Z",
     "iopub.status.busy": "2023-03-20T17:16:22.383110Z",
     "iopub.status.idle": "2023-03-20T17:16:25.154160Z",
     "shell.execute_reply": "2023-03-20T17:16:25.152603Z"
    },
    "papermill": {
     "duration": 2.780123,
     "end_time": "2023-03-20T17:16:25.157526",
     "exception": false,
     "start_time": "2023-03-20T17:16:22.377403",
     "status": "completed"
    },
    "tags": []
   },
   "outputs": [
    {
     "data": {
      "text/html": [
       "<div>\n",
       "<style scoped>\n",
       "    .dataframe tbody tr th:only-of-type {\n",
       "        vertical-align: middle;\n",
       "    }\n",
       "\n",
       "    .dataframe tbody tr th {\n",
       "        vertical-align: top;\n",
       "    }\n",
       "\n",
       "    .dataframe thead th {\n",
       "        text-align: right;\n",
       "    }\n",
       "</style>\n",
       "<table border=\"1\" class=\"dataframe\">\n",
       "  <thead>\n",
       "    <tr style=\"text-align: right;\">\n",
       "      <th></th>\n",
       "      <th>url</th>\n",
       "      <th>types</th>\n",
       "      <th>name</th>\n",
       "      <th>desc_snippet</th>\n",
       "      <th>recent_reviews</th>\n",
       "      <th>all_reviews</th>\n",
       "      <th>release_date</th>\n",
       "      <th>developer</th>\n",
       "      <th>publisher</th>\n",
       "      <th>popular_tags</th>\n",
       "      <th>game_details</th>\n",
       "      <th>languages</th>\n",
       "      <th>achievements</th>\n",
       "      <th>genre</th>\n",
       "      <th>game_description</th>\n",
       "      <th>mature_content</th>\n",
       "      <th>minimum_requirements</th>\n",
       "      <th>recommended_requirements</th>\n",
       "      <th>original_price</th>\n",
       "      <th>discount_price</th>\n",
       "    </tr>\n",
       "  </thead>\n",
       "  <tbody>\n",
       "    <tr>\n",
       "      <th>0</th>\n",
       "      <td>https://store.steampowered.com/app/379720/DOOM/</td>\n",
       "      <td>app</td>\n",
       "      <td>DOOM</td>\n",
       "      <td>Now includes all three premium DLC packs (Unto...</td>\n",
       "      <td>Very Positive,(554),- 89% of the 554 user revi...</td>\n",
       "      <td>Very Positive,(42,550),- 92% of the 42,550 use...</td>\n",
       "      <td>May 12, 2016</td>\n",
       "      <td>id Software</td>\n",
       "      <td>Bethesda Softworks,Bethesda Softworks</td>\n",
       "      <td>FPS,Gore,Action,Demons,Shooter,First-Person,Gr...</td>\n",
       "      <td>Single-player,Multi-player,Co-op,Steam Achieve...</td>\n",
       "      <td>English,French,Italian,German,Spanish - Spain,...</td>\n",
       "      <td>54.0</td>\n",
       "      <td>Action</td>\n",
       "      <td>About This Game Developed by id software, the...</td>\n",
       "      <td>NaN</td>\n",
       "      <td>Minimum:,OS:,Windows 7/8.1/10 (64-bit versions...</td>\n",
       "      <td>Recommended:,OS:,Windows 7/8.1/10 (64-bit vers...</td>\n",
       "      <td>$19.99</td>\n",
       "      <td>$14.99</td>\n",
       "    </tr>\n",
       "    <tr>\n",
       "      <th>1</th>\n",
       "      <td>https://store.steampowered.com/app/578080/PLAY...</td>\n",
       "      <td>app</td>\n",
       "      <td>PLAYERUNKNOWN'S BATTLEGROUNDS</td>\n",
       "      <td>PLAYERUNKNOWN'S BATTLEGROUNDS is a battle roya...</td>\n",
       "      <td>Mixed,(6,214),- 49% of the 6,214 user reviews ...</td>\n",
       "      <td>Mixed,(836,608),- 49% of the 836,608 user revi...</td>\n",
       "      <td>Dec 21, 2017</td>\n",
       "      <td>PUBG Corporation</td>\n",
       "      <td>PUBG Corporation,PUBG Corporation</td>\n",
       "      <td>Survival,Shooter,Multiplayer,Battle Royale,PvP...</td>\n",
       "      <td>Multi-player,Online Multi-Player,Stats</td>\n",
       "      <td>English,Korean,Simplified Chinese,French,Germa...</td>\n",
       "      <td>37.0</td>\n",
       "      <td>Action,Adventure,Massively Multiplayer</td>\n",
       "      <td>About This Game  PLAYERUNKNOWN'S BATTLEGROUND...</td>\n",
       "      <td>Mature Content Description  The developers de...</td>\n",
       "      <td>Minimum:,Requires a 64-bit processor and opera...</td>\n",
       "      <td>Recommended:,Requires a 64-bit processor and o...</td>\n",
       "      <td>$29.99</td>\n",
       "      <td>NaN</td>\n",
       "    </tr>\n",
       "    <tr>\n",
       "      <th>2</th>\n",
       "      <td>https://store.steampowered.com/app/637090/BATT...</td>\n",
       "      <td>app</td>\n",
       "      <td>BATTLETECH</td>\n",
       "      <td>Take command of your own mercenary outfit of '...</td>\n",
       "      <td>Mixed,(166),- 54% of the 166 user reviews in t...</td>\n",
       "      <td>Mostly Positive,(7,030),- 71% of the 7,030 use...</td>\n",
       "      <td>Apr 24, 2018</td>\n",
       "      <td>Harebrained Schemes</td>\n",
       "      <td>Paradox Interactive,Paradox Interactive</td>\n",
       "      <td>Mechs,Strategy,Turn-Based,Turn-Based Tactics,S...</td>\n",
       "      <td>Single-player,Multi-player,Online Multi-Player...</td>\n",
       "      <td>English,French,German,Russian</td>\n",
       "      <td>128.0</td>\n",
       "      <td>Action,Adventure,Strategy</td>\n",
       "      <td>About This Game  From original BATTLETECH/Mec...</td>\n",
       "      <td>NaN</td>\n",
       "      <td>Minimum:,Requires a 64-bit processor and opera...</td>\n",
       "      <td>Recommended:,Requires a 64-bit processor and o...</td>\n",
       "      <td>$39.99</td>\n",
       "      <td>NaN</td>\n",
       "    </tr>\n",
       "    <tr>\n",
       "      <th>3</th>\n",
       "      <td>https://store.steampowered.com/app/221100/DayZ/</td>\n",
       "      <td>app</td>\n",
       "      <td>DayZ</td>\n",
       "      <td>The post-soviet country of Chernarus is struck...</td>\n",
       "      <td>Mixed,(932),- 57% of the 932 user reviews in t...</td>\n",
       "      <td>Mixed,(167,115),- 61% of the 167,115 user revi...</td>\n",
       "      <td>Dec 13, 2018</td>\n",
       "      <td>Bohemia Interactive</td>\n",
       "      <td>Bohemia Interactive,Bohemia Interactive</td>\n",
       "      <td>Survival,Zombies,Open World,Multiplayer,PvP,Ma...</td>\n",
       "      <td>Multi-player,Online Multi-Player,Steam Worksho...</td>\n",
       "      <td>English,French,Italian,German,Spanish - Spain,...</td>\n",
       "      <td>NaN</td>\n",
       "      <td>Action,Adventure,Massively Multiplayer</td>\n",
       "      <td>About This Game The post-soviet country of Ch...</td>\n",
       "      <td>NaN</td>\n",
       "      <td>Minimum:,OS:,Windows 7/8.1 64-bit,Processor:,I...</td>\n",
       "      <td>Recommended:,OS:,Windows 10 64-bit,Processor:,...</td>\n",
       "      <td>$44.99</td>\n",
       "      <td>NaN</td>\n",
       "    </tr>\n",
       "    <tr>\n",
       "      <th>4</th>\n",
       "      <td>https://store.steampowered.com/app/8500/EVE_On...</td>\n",
       "      <td>app</td>\n",
       "      <td>EVE Online</td>\n",
       "      <td>EVE Online is a community-driven spaceship MMO...</td>\n",
       "      <td>Mixed,(287),- 54% of the 287 user reviews in t...</td>\n",
       "      <td>Mostly Positive,(11,481),- 74% of the 11,481 u...</td>\n",
       "      <td>May 6, 2003</td>\n",
       "      <td>CCP</td>\n",
       "      <td>CCP,CCP</td>\n",
       "      <td>Space,Massively Multiplayer,Sci-fi,Sandbox,MMO...</td>\n",
       "      <td>Multi-player,Online Multi-Player,MMO,Co-op,Onl...</td>\n",
       "      <td>English,German,Russian,French</td>\n",
       "      <td>NaN</td>\n",
       "      <td>Action,Free to Play,Massively Multiplayer,RPG,...</td>\n",
       "      <td>About This Game</td>\n",
       "      <td>NaN</td>\n",
       "      <td>Minimum:,OS:,Windows 7,Processor:,Intel Dual C...</td>\n",
       "      <td>Recommended:,OS:,Windows 10,Processor:,Intel i...</td>\n",
       "      <td>Free</td>\n",
       "      <td>NaN</td>\n",
       "    </tr>\n",
       "  </tbody>\n",
       "</table>\n",
       "</div>"
      ],
      "text/plain": [
       "                                                 url types                           name                                       desc_snippet                                     recent_reviews                                        all_reviews  release_date            developer                                publisher                                       popular_tags                                       game_details                                          languages  achievements                                              genre                                   game_description                                     mature_content                               minimum_requirements                           recommended_requirements original_price discount_price\n",
       "0    https://store.steampowered.com/app/379720/DOOM/   app                           DOOM  Now includes all three premium DLC packs (Unto...  Very Positive,(554),- 89% of the 554 user revi...  Very Positive,(42,550),- 92% of the 42,550 use...  May 12, 2016          id Software    Bethesda Softworks,Bethesda Softworks  FPS,Gore,Action,Demons,Shooter,First-Person,Gr...  Single-player,Multi-player,Co-op,Steam Achieve...  English,French,Italian,German,Spanish - Spain,...          54.0                                             Action   About This Game Developed by id software, the...                                                NaN  Minimum:,OS:,Windows 7/8.1/10 (64-bit versions...  Recommended:,OS:,Windows 7/8.1/10 (64-bit vers...         $19.99         $14.99\n",
       "1  https://store.steampowered.com/app/578080/PLAY...   app  PLAYERUNKNOWN'S BATTLEGROUNDS  PLAYERUNKNOWN'S BATTLEGROUNDS is a battle roya...  Mixed,(6,214),- 49% of the 6,214 user reviews ...  Mixed,(836,608),- 49% of the 836,608 user revi...  Dec 21, 2017     PUBG Corporation        PUBG Corporation,PUBG Corporation  Survival,Shooter,Multiplayer,Battle Royale,PvP...             Multi-player,Online Multi-Player,Stats  English,Korean,Simplified Chinese,French,Germa...          37.0             Action,Adventure,Massively Multiplayer   About This Game  PLAYERUNKNOWN'S BATTLEGROUND...   Mature Content Description  The developers de...  Minimum:,Requires a 64-bit processor and opera...  Recommended:,Requires a 64-bit processor and o...         $29.99            NaN\n",
       "2  https://store.steampowered.com/app/637090/BATT...   app                     BATTLETECH  Take command of your own mercenary outfit of '...  Mixed,(166),- 54% of the 166 user reviews in t...  Mostly Positive,(7,030),- 71% of the 7,030 use...  Apr 24, 2018  Harebrained Schemes  Paradox Interactive,Paradox Interactive  Mechs,Strategy,Turn-Based,Turn-Based Tactics,S...  Single-player,Multi-player,Online Multi-Player...                      English,French,German,Russian         128.0                          Action,Adventure,Strategy   About This Game  From original BATTLETECH/Mec...                                                NaN  Minimum:,Requires a 64-bit processor and opera...  Recommended:,Requires a 64-bit processor and o...         $39.99            NaN\n",
       "3    https://store.steampowered.com/app/221100/DayZ/   app                           DayZ  The post-soviet country of Chernarus is struck...  Mixed,(932),- 57% of the 932 user reviews in t...  Mixed,(167,115),- 61% of the 167,115 user revi...  Dec 13, 2018  Bohemia Interactive  Bohemia Interactive,Bohemia Interactive  Survival,Zombies,Open World,Multiplayer,PvP,Ma...  Multi-player,Online Multi-Player,Steam Worksho...  English,French,Italian,German,Spanish - Spain,...           NaN             Action,Adventure,Massively Multiplayer   About This Game The post-soviet country of Ch...                                                NaN  Minimum:,OS:,Windows 7/8.1 64-bit,Processor:,I...  Recommended:,OS:,Windows 10 64-bit,Processor:,...         $44.99            NaN\n",
       "4  https://store.steampowered.com/app/8500/EVE_On...   app                     EVE Online  EVE Online is a community-driven spaceship MMO...  Mixed,(287),- 54% of the 287 user reviews in t...  Mostly Positive,(11,481),- 74% of the 11,481 u...   May 6, 2003                  CCP                                  CCP,CCP  Space,Massively Multiplayer,Sci-fi,Sandbox,MMO...  Multi-player,Online Multi-Player,MMO,Co-op,Onl...                      English,German,Russian,French           NaN  Action,Free to Play,Massively Multiplayer,RPG,...                                  About This Game                                                  NaN  Minimum:,OS:,Windows 7,Processor:,Intel Dual C...  Recommended:,OS:,Windows 10,Processor:,Intel i...           Free            NaN"
      ]
     },
     "execution_count": 4,
     "metadata": {},
     "output_type": "execute_result"
    }
   ],
   "source": [
    "#DATA \n",
    "df = pd.read_csv(\"data/steam_games.csv\")\n",
    "df.head()"
   ]
  },
  {
   "cell_type": "code",
   "execution_count": 5,
   "id": "2c55a6da",
   "metadata": {
    "execution": {
     "iopub.execute_input": "2023-03-20T17:16:25.169565Z",
     "iopub.status.busy": "2023-03-20T17:16:25.169095Z",
     "iopub.status.idle": "2023-03-20T17:16:25.252240Z",
     "shell.execute_reply": "2023-03-20T17:16:25.250396Z"
    },
    "papermill": {
     "duration": 0.092529,
     "end_time": "2023-03-20T17:16:25.255061",
     "exception": false,
     "start_time": "2023-03-20T17:16:25.162532",
     "status": "completed"
    },
    "tags": []
   },
   "outputs": [
    {
     "name": "stdout",
     "output_type": "stream",
     "text": [
      "<class 'pandas.core.frame.DataFrame'>\n",
      "RangeIndex: 40833 entries, 0 to 40832\n",
      "Data columns (total 20 columns):\n",
      " #   Column                    Non-Null Count  Dtype  \n",
      "---  ------                    --------------  -----  \n",
      " 0   url                       40833 non-null  object \n",
      " 1   types                     40831 non-null  object \n",
      " 2   name                      40817 non-null  object \n",
      " 3   desc_snippet              27612 non-null  object \n",
      " 4   recent_reviews            2706 non-null   object \n",
      " 5   all_reviews               28470 non-null  object \n",
      " 6   release_date              37654 non-null  object \n",
      " 7   developer                 40490 non-null  object \n",
      " 8   publisher                 35733 non-null  object \n",
      " 9   popular_tags              37888 non-null  object \n",
      " 10  game_details              40313 non-null  object \n",
      " 11  languages                 40797 non-null  object \n",
      " 12  achievements              12194 non-null  float64\n",
      " 13  genre                     40395 non-null  object \n",
      " 14  game_description          37920 non-null  object \n",
      " 15  mature_content            2897 non-null   object \n",
      " 16  minimum_requirements      21069 non-null  object \n",
      " 17  recommended_requirements  21075 non-null  object \n",
      " 18  original_price            35522 non-null  object \n",
      " 19  discount_price            14543 non-null  object \n",
      "dtypes: float64(1), object(19)\n",
      "memory usage: 6.2+ MB\n"
     ]
    }
   ],
   "source": [
    "df.info()"
   ]
  },
  {
   "cell_type": "code",
   "execution_count": 6,
   "id": "e53b1904",
   "metadata": {
    "execution": {
     "iopub.execute_input": "2023-03-20T17:16:25.267662Z",
     "iopub.status.busy": "2023-03-20T17:16:25.267208Z",
     "iopub.status.idle": "2023-03-20T17:16:25.310278Z",
     "shell.execute_reply": "2023-03-20T17:16:25.308893Z"
    },
    "papermill": {
     "duration": 0.052661,
     "end_time": "2023-03-20T17:16:25.313271",
     "exception": false,
     "start_time": "2023-03-20T17:16:25.260610",
     "status": "completed"
    },
    "tags": []
   },
   "outputs": [
    {
     "data": {
      "text/html": [
       "<div>\n",
       "<style scoped>\n",
       "    .dataframe tbody tr th:only-of-type {\n",
       "        vertical-align: middle;\n",
       "    }\n",
       "\n",
       "    .dataframe tbody tr th {\n",
       "        vertical-align: top;\n",
       "    }\n",
       "\n",
       "    .dataframe thead th {\n",
       "        text-align: right;\n",
       "    }\n",
       "</style>\n",
       "<table border=\"1\" class=\"dataframe\">\n",
       "  <thead>\n",
       "    <tr style=\"text-align: right;\">\n",
       "      <th></th>\n",
       "      <th>name</th>\n",
       "      <th>desc_snippet</th>\n",
       "      <th>popular_tags</th>\n",
       "      <th>genre</th>\n",
       "      <th>original_price</th>\n",
       "    </tr>\n",
       "  </thead>\n",
       "  <tbody>\n",
       "    <tr>\n",
       "      <th>0</th>\n",
       "      <td>DOOM</td>\n",
       "      <td>Now includes all three premium DLC packs (Unto...</td>\n",
       "      <td>FPS,Gore,Action,Demons,Shooter,First-Person,Gr...</td>\n",
       "      <td>Action</td>\n",
       "      <td>$19.99</td>\n",
       "    </tr>\n",
       "    <tr>\n",
       "      <th>1</th>\n",
       "      <td>PLAYERUNKNOWN'S BATTLEGROUNDS</td>\n",
       "      <td>PLAYERUNKNOWN'S BATTLEGROUNDS is a battle roya...</td>\n",
       "      <td>Survival,Shooter,Multiplayer,Battle Royale,PvP...</td>\n",
       "      <td>Action,Adventure,Massively Multiplayer</td>\n",
       "      <td>$29.99</td>\n",
       "    </tr>\n",
       "    <tr>\n",
       "      <th>2</th>\n",
       "      <td>BATTLETECH</td>\n",
       "      <td>Take command of your own mercenary outfit of '...</td>\n",
       "      <td>Mechs,Strategy,Turn-Based,Turn-Based Tactics,S...</td>\n",
       "      <td>Action,Adventure,Strategy</td>\n",
       "      <td>$39.99</td>\n",
       "    </tr>\n",
       "    <tr>\n",
       "      <th>3</th>\n",
       "      <td>DayZ</td>\n",
       "      <td>The post-soviet country of Chernarus is struck...</td>\n",
       "      <td>Survival,Zombies,Open World,Multiplayer,PvP,Ma...</td>\n",
       "      <td>Action,Adventure,Massively Multiplayer</td>\n",
       "      <td>$44.99</td>\n",
       "    </tr>\n",
       "    <tr>\n",
       "      <th>4</th>\n",
       "      <td>EVE Online</td>\n",
       "      <td>EVE Online is a community-driven spaceship MMO...</td>\n",
       "      <td>Space,Massively Multiplayer,Sci-fi,Sandbox,MMO...</td>\n",
       "      <td>Action,Free to Play,Massively Multiplayer,RPG,...</td>\n",
       "      <td>Free</td>\n",
       "    </tr>\n",
       "    <tr>\n",
       "      <th>6</th>\n",
       "      <td>Devil May Cry 5</td>\n",
       "      <td>The ultimate Devil Hunter is back in style, in...</td>\n",
       "      <td>Action,Hack and Slash,Great Soundtrack,Demons,...</td>\n",
       "      <td>Action</td>\n",
       "      <td>$59.99</td>\n",
       "    </tr>\n",
       "    <tr>\n",
       "      <th>7</th>\n",
       "      <td>Human: Fall Flat</td>\n",
       "      <td>Human: Fall Flat is a quirky open-ended physic...</td>\n",
       "      <td>Funny,Multiplayer,Co-op,Puzzle,Physics,Local C...</td>\n",
       "      <td>Adventure,Indie</td>\n",
       "      <td>$14.99</td>\n",
       "    </tr>\n",
       "    <tr>\n",
       "      <th>8</th>\n",
       "      <td>They Are Billions</td>\n",
       "      <td>They Are Billions is a Steampunk strategy game...</td>\n",
       "      <td>Early Access,Base Building,Strategy,Zombies,Su...</td>\n",
       "      <td>Strategy,Early Access</td>\n",
       "      <td>$29.99</td>\n",
       "    </tr>\n",
       "    <tr>\n",
       "      <th>9</th>\n",
       "      <td>Warhammer: Chaosbane</td>\n",
       "      <td>In a world ravaged by war and dominated by mag...</td>\n",
       "      <td>RPG,Adventure,Hack and Slash,Action,Action RPG...</td>\n",
       "      <td>Action,Adventure,RPG</td>\n",
       "      <td>$49.99</td>\n",
       "    </tr>\n",
       "    <tr>\n",
       "      <th>10</th>\n",
       "      <td>For The King</td>\n",
       "      <td>For The King is a strategic RPG that blends ta...</td>\n",
       "      <td>RPG,Turn-Based Combat,Adventure,Online Co-Op,C...</td>\n",
       "      <td>Adventure,Indie,RPG,Strategy</td>\n",
       "      <td>$19.99</td>\n",
       "    </tr>\n",
       "  </tbody>\n",
       "</table>\n",
       "</div>"
      ],
      "text/plain": [
       "                             name                                       desc_snippet                                       popular_tags                                              genre original_price\n",
       "0                            DOOM  Now includes all three premium DLC packs (Unto...  FPS,Gore,Action,Demons,Shooter,First-Person,Gr...                                             Action         $19.99\n",
       "1   PLAYERUNKNOWN'S BATTLEGROUNDS  PLAYERUNKNOWN'S BATTLEGROUNDS is a battle roya...  Survival,Shooter,Multiplayer,Battle Royale,PvP...             Action,Adventure,Massively Multiplayer         $29.99\n",
       "2                      BATTLETECH  Take command of your own mercenary outfit of '...  Mechs,Strategy,Turn-Based,Turn-Based Tactics,S...                          Action,Adventure,Strategy         $39.99\n",
       "3                            DayZ  The post-soviet country of Chernarus is struck...  Survival,Zombies,Open World,Multiplayer,PvP,Ma...             Action,Adventure,Massively Multiplayer         $44.99\n",
       "4                      EVE Online  EVE Online is a community-driven spaceship MMO...  Space,Massively Multiplayer,Sci-fi,Sandbox,MMO...  Action,Free to Play,Massively Multiplayer,RPG,...           Free\n",
       "6                 Devil May Cry 5  The ultimate Devil Hunter is back in style, in...  Action,Hack and Slash,Great Soundtrack,Demons,...                                             Action         $59.99\n",
       "7                Human: Fall Flat  Human: Fall Flat is a quirky open-ended physic...  Funny,Multiplayer,Co-op,Puzzle,Physics,Local C...                                    Adventure,Indie         $14.99\n",
       "8               They Are Billions  They Are Billions is a Steampunk strategy game...  Early Access,Base Building,Strategy,Zombies,Su...                              Strategy,Early Access         $29.99\n",
       "9            Warhammer: Chaosbane  In a world ravaged by war and dominated by mag...  RPG,Adventure,Hack and Slash,Action,Action RPG...                               Action,Adventure,RPG         $49.99\n",
       "10                   For The King  For The King is a strategic RPG that blends ta...  RPG,Turn-Based Combat,Adventure,Online Co-Op,C...                       Adventure,Indie,RPG,Strategy         $19.99"
      ]
     },
     "execution_count": 6,
     "metadata": {},
     "output_type": "execute_result"
    }
   ],
   "source": [
    "#variables we will use\n",
    "df1= df[[\"name\", \"desc_snippet\", \"popular_tags\",\"genre\",\"original_price\"]]\n",
    "\n",
    "#delete missing values\n",
    "df2 = pd.DataFrame(df1.dropna())\n",
    "\n",
    "df2.head(10)\n"
   ]
  },
  {
   "cell_type": "code",
   "execution_count": 7,
   "id": "52dab192",
   "metadata": {
    "execution": {
     "iopub.execute_input": "2023-03-20T17:16:25.325395Z",
     "iopub.status.busy": "2023-03-20T17:16:25.324922Z",
     "iopub.status.idle": "2023-03-20T17:16:29.404843Z",
     "shell.execute_reply": "2023-03-20T17:16:29.403589Z"
    },
    "papermill": {
     "duration": 4.089086,
     "end_time": "2023-03-20T17:16:29.407506",
     "exception": false,
     "start_time": "2023-03-20T17:16:25.318420",
     "status": "completed"
    },
    "tags": []
   },
   "outputs": [
    {
     "data": {
      "text/plain": [
       "array([[0., 0., 0., ..., 0., 0., 0.],\n",
       "       [0., 0., 0., ..., 0., 0., 0.],\n",
       "       [0., 0., 0., ..., 0., 0., 0.],\n",
       "       ...,\n",
       "       [0., 0., 0., ..., 0., 0., 0.],\n",
       "       [0., 0., 0., ..., 0., 0., 0.],\n",
       "       [0., 0., 0., ..., 0., 0., 0.]])"
      ]
     },
     "execution_count": 7,
     "metadata": {},
     "output_type": "execute_result"
    }
   ],
   "source": [
    "#TF-IDF Matrix \n",
    "\n",
    "#Cleaning stop words \n",
    "tfidf = TfidfVectorizer(stop_words=\"english\")\n",
    "\n",
    "tfidf_matrix = tfidf.fit_transform(df2[\"desc_snippet\"])\n",
    "\n",
    "tfidf_matrix.shape\n",
    "\n",
    "\n",
    "\n",
    "tfidf_matrix.toarray()"
   ]
  },
  {
   "cell_type": "code",
   "execution_count": 9,
   "id": "3ccc3fc8",
   "metadata": {
    "execution": {
     "iopub.execute_input": "2023-03-20T17:16:29.420818Z",
     "iopub.status.busy": "2023-03-20T17:16:29.419641Z",
     "iopub.status.idle": "2023-03-20T17:16:31.500648Z",
     "shell.execute_reply": "2023-03-20T17:16:31.499403Z"
    },
    "papermill": {
     "duration": 2.090343,
     "end_time": "2023-03-20T17:16:31.503177",
     "exception": false,
     "start_time": "2023-03-20T17:16:29.412834",
     "status": "completed"
    },
    "tags": []
   },
   "outputs": [
    {
     "data": {
      "text/plain": [
       "array([[0., 0., 0., ..., 0., 0., 0.],\n",
       "       [0., 0., 0., ..., 0., 0., 0.],\n",
       "       [0., 0., 0., ..., 0., 0., 0.],\n",
       "       ...,\n",
       "       [0., 0., 0., ..., 0., 0., 0.],\n",
       "       [0., 0., 0., ..., 0., 0., 0.],\n",
       "       [0., 0., 0., ..., 0., 0., 0.]])"
      ]
     },
     "execution_count": 9,
     "metadata": {},
     "output_type": "execute_result"
    }
   ],
   "source": [
    "tfidf.get_feature_names_out()\n",
    "\n",
    "tfidf_matrix.toarray()"
   ]
  },
  {
   "cell_type": "code",
   "execution_count": 11,
   "id": "6d0e4364",
   "metadata": {
    "execution": {
     "iopub.execute_input": "2023-03-20T17:16:31.515633Z",
     "iopub.status.busy": "2023-03-20T17:16:31.515201Z",
     "iopub.status.idle": "2023-03-20T17:16:45.609944Z",
     "shell.execute_reply": "2023-03-20T17:16:45.608990Z"
    },
    "papermill": {
     "duration": 14.104314,
     "end_time": "2023-03-20T17:16:45.612759",
     "exception": false,
     "start_time": "2023-03-20T17:16:31.508445",
     "status": "completed"
    },
    "tags": []
   },
   "outputs": [
    {
     "data": {
      "text/plain": [
       "array([0.        , 1.        , 0.        , ..., 0.        , 0.02683434,\n",
       "       0.        ])"
      ]
     },
     "execution_count": 11,
     "metadata": {},
     "output_type": "execute_result"
    }
   ],
   "source": [
    "#Cosine Similarity Matrix  \n",
    "\n",
    "cosine_sim = cosine_similarity(tfidf_matrix,\n",
    "                               tfidf_matrix)\n",
    "\n",
    "cosine_sim.shape\n",
    "cosine_sim[1]"
   ]
  },
  {
   "cell_type": "code",
   "execution_count": 12,
   "id": "c18b019b",
   "metadata": {
    "execution": {
     "iopub.execute_input": "2023-03-20T17:16:45.625998Z",
     "iopub.status.busy": "2023-03-20T17:16:45.625051Z",
     "iopub.status.idle": "2023-03-20T17:16:45.664222Z",
     "shell.execute_reply": "2023-03-20T17:16:45.662988Z"
    },
    "papermill": {
     "duration": 0.048462,
     "end_time": "2023-03-20T17:16:45.666674",
     "exception": false,
     "start_time": "2023-03-20T17:16:45.618212",
     "status": "completed"
    },
    "tags": []
   },
   "outputs": [
    {
     "data": {
      "text/plain": [
       "14847                SteelLIFE\n",
       "6698                 SurvivalZ\n",
       "25529    Zombie City Defense 2\n",
       "26440      Master of Mutations\n",
       "34327               Torn Earth\n",
       "21921              Virus Petya\n",
       "28921                   NightZ\n",
       "18786             Cube Defense\n",
       "30308               The Region\n",
       "2014                     EBOLA\n",
       "Name: name, dtype: object"
      ]
     },
     "execution_count": 12,
     "metadata": {},
     "output_type": "execute_result"
    }
   ],
   "source": [
    "#Recommendation \n",
    "\n",
    "indices = pd.Series(df2.index, index=df2['name'])\n",
    "\n",
    "indices.index.value_counts()\n",
    "\n",
    "indices = indices[~indices.index.duplicated(keep='last')]\n",
    "\n",
    "\n",
    "\n",
    "indices[\"DayZ\"]\n",
    "\n",
    "#indices[\"Sherlock Holmes\"]\n",
    "\n",
    "game_index = indices[\"DayZ\"]\n",
    "\n",
    "cosine_sim[game_index]\n",
    "\n",
    "similarity_scores = pd.DataFrame(cosine_sim[game_index],columns=[\"score\"])\n",
    "\n",
    "game_indices = similarity_scores.sort_values(\"score\", ascending=False)[1:11].index\n",
    "\n",
    "df2[\"name\"].iloc[game_indices]"
   ]
  },
  {
   "cell_type": "code",
   "execution_count": 13,
   "id": "0f93d5d9",
   "metadata": {
    "execution": {
     "iopub.execute_input": "2023-03-20T17:16:45.680041Z",
     "iopub.status.busy": "2023-03-20T17:16:45.679523Z",
     "iopub.status.idle": "2023-03-20T17:16:45.687734Z",
     "shell.execute_reply": "2023-03-20T17:16:45.686042Z"
    },
    "papermill": {
     "duration": 0.018704,
     "end_time": "2023-03-20T17:16:45.690928",
     "exception": false,
     "start_time": "2023-03-20T17:16:45.672224",
     "status": "completed"
    },
    "tags": []
   },
   "outputs": [],
   "source": [
    "#Creating Game Recommendation Function \n",
    "\n",
    "def steam_game_recommender(title, cosine_sim, dataframe):\n",
    "    indices = pd.Series(dataframe.index, index=dataframe['name'])\n",
    "    indices = indices[~indices.index.duplicated(keep='last')]\n",
    "    game_index = indices[title]\n",
    "    similarity_scores = pd.DataFrame(cosine_sim[game_index], columns=[\"score\"])\n",
    "    game_indices = similarity_scores.sort_values(\"score\", ascending=False)[1:11].index\n",
    "    return dataframe['name'].iloc[game_indices]"
   ]
  },
  {
   "cell_type": "code",
   "execution_count": 14,
   "id": "4bc5504d",
   "metadata": {
    "execution": {
     "iopub.execute_input": "2023-03-20T17:16:45.704428Z",
     "iopub.status.busy": "2023-03-20T17:16:45.703996Z",
     "iopub.status.idle": "2023-03-20T17:16:45.725604Z",
     "shell.execute_reply": "2023-03-20T17:16:45.723817Z"
    },
    "papermill": {
     "duration": 0.032797,
     "end_time": "2023-03-20T17:16:45.729237",
     "exception": false,
     "start_time": "2023-03-20T17:16:45.696440",
     "status": "completed"
    },
    "tags": []
   },
   "outputs": [
    {
     "data": {
      "text/plain": [
       "14847                SteelLIFE\n",
       "6698                 SurvivalZ\n",
       "25529    Zombie City Defense 2\n",
       "26440      Master of Mutations\n",
       "34327               Torn Earth\n",
       "21921              Virus Petya\n",
       "28921                   NightZ\n",
       "18786             Cube Defense\n",
       "30308               The Region\n",
       "2014                     EBOLA\n",
       "Name: name, dtype: object"
      ]
     },
     "execution_count": 14,
     "metadata": {},
     "output_type": "execute_result"
    }
   ],
   "source": [
    "steam_game_recommender(\"DayZ\", cosine_sim, df2)"
   ]
  },
  {
   "cell_type": "code",
   "execution_count": 15,
   "id": "f263b72a",
   "metadata": {
    "execution": {
     "iopub.execute_input": "2023-03-20T17:16:45.742468Z",
     "iopub.status.busy": "2023-03-20T17:16:45.742040Z",
     "iopub.status.idle": "2023-03-20T17:16:45.763660Z",
     "shell.execute_reply": "2023-03-20T17:16:45.762423Z"
    },
    "papermill": {
     "duration": 0.031079,
     "end_time": "2023-03-20T17:16:45.766006",
     "exception": false,
     "start_time": "2023-03-20T17:16:45.734927",
     "status": "completed"
    },
    "tags": []
   },
   "outputs": [
    {
     "data": {
      "text/plain": [
       "2147           The Witcher Adventure Game\n",
       "26947                            Lifeline\n",
       "15304                                OESE\n",
       "1871                      Monster Slayers\n",
       "318      Thronebreaker: The Witcher Tales\n",
       "15338                               Woven\n",
       "21051                  Monster Loves You!\n",
       "366                          DOOM Eternal\n",
       "64                              Northgard\n",
       "1737        Dark Future: Blood Red States\n",
       "Name: name, dtype: object"
      ]
     },
     "execution_count": 15,
     "metadata": {},
     "output_type": "execute_result"
    }
   ],
   "source": [
    "steam_game_recommender(\"Street Fighter V\", cosine_sim, df2)"
   ]
  }
 ],
 "metadata": {
  "kernelspec": {
   "display_name": "Python 3",
   "language": "python",
   "name": "python3"
  },
  "language_info": {
   "codemirror_mode": {
    "name": "ipython",
    "version": 3
   },
   "file_extension": ".py",
   "mimetype": "text/x-python",
   "name": "python",
   "nbconvert_exporter": "python",
   "pygments_lexer": "ipython3",
   "version": "3.13.0"
  },
  "papermill": {
   "default_parameters": {},
   "duration": 38.531303,
   "end_time": "2023-03-20T17:16:47.097250",
   "environment_variables": {},
   "exception": null,
   "input_path": "__notebook__.ipynb",
   "output_path": "__notebook__.ipynb",
   "parameters": {},
   "start_time": "2023-03-20T17:16:08.565947",
   "version": "2.3.4"
  }
 },
 "nbformat": 4,
 "nbformat_minor": 5
}
