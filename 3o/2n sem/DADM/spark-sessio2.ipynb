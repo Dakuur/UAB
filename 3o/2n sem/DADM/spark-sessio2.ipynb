{
 "cells": [
  {
   "cell_type": "code",
   "id": "6ba21bb4",
   "metadata": {
    "ExecuteTime": {
     "end_time": "2025-05-22T14:08:39.066119Z",
     "start_time": "2025-05-22T14:08:39.063952Z"
    }
   },
   "source": [
    "!sudo apt update\n",
    "!sudo apt-get install openjdk-21-jre\n",
    "!wget https://dlcdn.apache.org/spark/spark-3.5.5/spark-3.5.5-bin-hadoop3.tgz\n",
    "!tar -xf spark-3.5.5-bin-hadoop3.tgz\n",
    "!pip install -q findspark"
   ],
   "outputs": [],
   "execution_count": null
  },
  {
   "cell_type": "code",
   "id": "b78122e8",
   "metadata": {
    "ExecuteTime": {
     "end_time": "2025-05-22T14:04:06.486985Z",
     "start_time": "2025-05-22T14:04:06.483713Z"
    }
   },
   "source": [
    "import os\n",
    "os.environ[\"JAVA_HOME\"] = \"/usr/lib/jvm/java-1.21.0-openjdk-amd64\"\n",
    "os.environ[\"SPARK_HOME\"] = \"./spark-3.5.5-bin-hadoop3\""
   ],
   "outputs": [],
   "execution_count": 1
  },
  {
   "metadata": {
    "ExecuteTime": {
     "end_time": "2025-05-22T14:04:11.911249Z",
     "start_time": "2025-05-22T14:04:08.274681Z"
    }
   },
   "cell_type": "code",
   "source": [
    "import findspark\n",
    "findspark.init()\n",
    "from pyspark.sql import SparkSession\n",
    "from pyspark.sql.functions import *\n",
    "spark = SparkSession.builder.master(\"local[*]\").getOrCreate()"
   ],
   "id": "5f533a71cbfdae0b",
   "outputs": [
    {
     "name": "stderr",
     "output_type": "stream",
     "text": [
      "Setting default log level to \"WARN\".\n",
      "To adjust logging level use sc.setLogLevel(newLevel). For SparkR, use setLogLevel(newLevel).\n",
      "25/05/22 16:04:10 WARN NativeCodeLoader: Unable to load native-hadoop library for your platform... using builtin-java classes where applicable\n"
     ]
    }
   ],
   "execution_count": 2
  },
  {
   "metadata": {
    "ExecuteTime": {
     "end_time": "2025-05-22T14:04:24.029564Z",
     "start_time": "2025-05-22T14:04:15.798865Z"
    }
   },
   "cell_type": "code",
   "source": [
    "recetas = spark.read.option(\"inferSchema\",\"true\").option(\"header\",\"false\").csv(\"recetas.csv\")\n",
    "#recetas.printSchema()\n",
    "\n",
    "header = spark.read.option(\"inferSchema\",\"true\").option(\"header\",\"true\").csv(\"header.csv\")\n",
    "header_c = header.union(recetas)\n",
    "header_c2 = header_c.filter(header_c[\"any\"] != \"any\")\n",
    "\n",
    "recetas2 = header_c2.select(header_c2[\"any\"].alias(\"any\"), header_c2[\"regió sanitària\"].alias(\"rsanitaria\"), header_c2[\"sexe\"].alias(\"sexe\"), header_c2[\"grup ATC nivell 4\"].alias(\"medicament\"), header_c2[\"nombre de receptes\"].alias(\"nreceptes\"), header_c2[\"import íntegre\"].alias(\"import\"))\n",
    "recetas2.show(10)\n",
    "\n",
    "df = header_c2"
   ],
   "id": "47ec8ccf1dbd3dd7",
   "outputs": [
    {
     "name": "stderr",
     "output_type": "stream",
     "text": [
      "                                                                                \r"
     ]
    },
    {
     "name": "stdout",
     "output_type": "stream",
     "text": [
      "+----+----------+----+--------------------+---------+-------+\n",
      "| any|rsanitaria|sexe|          medicament|nreceptes| import|\n",
      "+----+----------+----+--------------------+---------+-------+\n",
      "|2022|    LLEIDA|Dona|Antiinfecciosos y...|        8|  22.64|\n",
      "|2022|    LLEIDA|Dona|Inhibidores de la...|        2|  34.68|\n",
      "|2022|    LLEIDA|Dona|        Antibioticos|        1|   3.59|\n",
      "|2022|    LLEIDA|Dona|Formulaciones de ...|       36| 115.08|\n",
      "|2022|    LLEIDA|Dona|Vitamina D y anal...|      146|1461.00|\n",
      "|2022|    LLEIDA|Dona|    Vitamina B1 sola|        3|  46.56|\n",
      "|2022|    LLEIDA|Dona|Otros preparados ...|       14|  91.32|\n",
      "|2022|    LLEIDA|Dona|Grupo de la heparina|       15|  60.90|\n",
      "|2022|    LLEIDA|Dona|Acido folico y de...|        1|   2.50|\n",
      "|2022|    LLEIDA|Dona|Soluciones que af...|       14|  30.13|\n",
      "+----+----------+----+--------------------+---------+-------+\n",
      "only showing top 10 rows\n",
      "\n"
     ]
    }
   ],
   "execution_count": 3
  },
  {
   "metadata": {},
   "cell_type": "markdown",
   "source": "Q1-How many drugs were prescribed during 2022, how many prescriptions and which was the overall cost?",
   "id": "69375b4829ce7865"
  },
  {
   "metadata": {
    "ExecuteTime": {
     "end_time": "2025-05-22T14:04:31.412042Z",
     "start_time": "2025-05-22T14:04:27.400223Z"
    }
   },
   "cell_type": "code",
   "source": [
    "recetas2.createOrReplaceTempView(\"recetas2\")\n",
    "\n",
    "consulta_q1 = \"\"\"\n",
    "    SELECT\n",
    "    COUNT(DISTINCT medicament) AS num_medicaments,\n",
    "    SUM(CAST(nreceptes AS INT)) AS total_receptes,\n",
    "    SUM(CAST(import AS DOUBLE)) AS cost_total\n",
    "    FROM recetas2\n",
    "    WHERE any = 2022\n",
    "\"\"\"\n",
    "spark.sql(consulta_q1).show()"
   ],
   "id": "4939bdfbb6f1e80c",
   "outputs": [
    {
     "name": "stderr",
     "output_type": "stream",
     "text": [
      "[Stage 6:======>                                                    (1 + 8) / 9]\r"
     ]
    },
    {
     "name": "stdout",
     "output_type": "stream",
     "text": [
      "+---------------+--------------+-------------------+\n",
      "|num_medicaments|total_receptes|         cost_total|\n",
      "+---------------+--------------+-------------------+\n",
      "|            367|      23588623|3.125160864800002E8|\n",
      "+---------------+--------------+-------------------+\n",
      "\n"
     ]
    },
    {
     "name": "stderr",
     "output_type": "stream",
     "text": [
      "                                                                                \r"
     ]
    }
   ],
   "execution_count": 4
  },
  {
   "metadata": {},
   "cell_type": "markdown",
   "source": "Q2-Which is the most prescribed drug in men and women and in which sanitary region?",
   "id": "a5ed7a854343e398"
  },
  {
   "metadata": {
    "ExecuteTime": {
     "end_time": "2025-05-22T14:05:06.312127Z",
     "start_time": "2025-05-22T14:05:02.134296Z"
    }
   },
   "cell_type": "code",
   "source": [
    "consulta_q2 = \"\"\"\n",
    "SELECT sexe, rsanitaria, medicament, SUM(CAST(nreceptes AS INT)) AS total_receptes\n",
    "FROM recetas2\n",
    "GROUP BY sexe, rsanitaria, medicament\n",
    "ORDER BY sexe, total_receptes DESC\n",
    "\"\"\"\n",
    "spark.sql(consulta_q2).show()"
   ],
   "id": "4ceb72c2d3d30fd9",
   "outputs": [
    {
     "name": "stderr",
     "output_type": "stream",
     "text": [
      "[Stage 12:======================================>                   (6 + 3) / 9]\r"
     ]
    },
    {
     "name": "stdout",
     "output_type": "stream",
     "text": [
      "+------+----------+--------------------+--------------+\n",
      "|  sexe|rsanitaria|          medicament|total_receptes|\n",
      "+------+----------+--------------------+--------------+\n",
      "|Altres|    ALTRES|   AGONISTES OPIACIS|          7546|\n",
      "|Altres|    ALTRES|   Sense especificar|          3506|\n",
      "|Altres|    ALTRES|Derivados de la b...|           134|\n",
      "|Altres|    ALTRES|Inhibidores de la...|            68|\n",
      "|Altres|    ALTRES|Inhibidores de la...|            58|\n",
      "|Altres|    ALTRES|            Anilidas|            53|\n",
      "|Altres|    ALTRES|Inhibidores de la...|            50|\n",
      "|Altres|    ALTRES|Inhibidores selec...|            47|\n",
      "|Altres|    ALTRES|Vitamina D y anal...|            45|\n",
      "|Altres|    ALTRES|          Biguanidas|            45|\n",
      "|Altres|    ALTRES|Agentes beta- blo...|            41|\n",
      "|Altres|    ALTRES|Inhibidores de la...|            37|\n",
      "|Altres|    ALTRES|Otros antihistami...|            29|\n",
      "|Altres|    ALTRES|Derivados del aci...|            27|\n",
      "|Altres|    ALTRES|Sulfonamidas, mon...|            27|\n",
      "|Altres|    ALTRES|Otros agentes ant...|            27|\n",
      "|Altres|    ALTRES|Tiazidas, monofar...|            26|\n",
      "|Altres|    ALTRES|         Pirazolonas|            25|\n",
      "|Altres|    ALTRES|Penicilinas con e...|            23|\n",
      "|Altres|    ALTRES|Adrenergicos en c...|            20|\n",
      "+------+----------+--------------------+--------------+\n",
      "only showing top 20 rows\n",
      "\n"
     ]
    },
    {
     "name": "stderr",
     "output_type": "stream",
     "text": [
      "                                                                                \r"
     ]
    }
   ],
   "execution_count": 6
  },
  {
   "metadata": {},
   "cell_type": "markdown",
   "source": "Q3-Which is the least prescribed drug in men and women and in which sanitary region?",
   "id": "bdf7aeb55ca16a49"
  },
  {
   "metadata": {
    "ExecuteTime": {
     "end_time": "2025-05-22T14:05:45.552637Z",
     "start_time": "2025-05-22T14:05:42.364800Z"
    }
   },
   "cell_type": "code",
   "source": [
    "consulta_q3d = \"\"\"\n",
    "SELECT sexe, rsanitaria, medicament, SUM(CAST(nreceptes AS INT)) AS total_receptes\n",
    "FROM recetas2\n",
    "WHERE sexe = 'Dona'\n",
    "GROUP BY sexe, rsanitaria, medicament\n",
    "ORDER BY total_receptes ASC\n",
    "LIMIT 1\n",
    "\"\"\"\n",
    "spark.sql(consulta_q3d).show()"
   ],
   "id": "a2caf5428037dc91",
   "outputs": [
    {
     "name": "stderr",
     "output_type": "stream",
     "text": [
      "[Stage 15:===================================================>      (8 + 1) / 9]\r"
     ]
    },
    {
     "name": "stdout",
     "output_type": "stream",
     "text": [
      "+----+-----------------+--------------------+--------------+\n",
      "|sexe|       rsanitaria|          medicament|total_receptes|\n",
      "+----+-----------------+--------------------+--------------+\n",
      "|Dona|SENSE ESPECIFICAR|Derivados del tio...|             1|\n",
      "+----+-----------------+--------------------+--------------+\n",
      "\n"
     ]
    },
    {
     "name": "stderr",
     "output_type": "stream",
     "text": [
      "                                                                                \r"
     ]
    }
   ],
   "execution_count": 7
  },
  {
   "metadata": {
    "ExecuteTime": {
     "end_time": "2025-05-22T14:10:36.424089Z",
     "start_time": "2025-05-22T14:10:32.978472Z"
    }
   },
   "cell_type": "code",
   "source": [
    "consulta_q3h = \"\"\"\n",
    "SELECT sexe, rsanitaria, medicament, SUM(CAST(nreceptes AS INT)) AS total_receptes\n",
    "FROM recetas2\n",
    "WHERE sexe = 'Home'\n",
    "GROUP BY sexe, rsanitaria, medicament\n",
    "ORDER BY total_receptes ASC\n",
    "LIMIT 1\n",
    "\"\"\"\n",
    "spark.sql(consulta_q3h).show()"
   ],
   "id": "397fcd3e54ed57b6",
   "outputs": [
    {
     "name": "stderr",
     "output_type": "stream",
     "text": [
      "[Stage 33:=========================>                                (4 + 5) / 9]\r"
     ]
    },
    {
     "name": "stdout",
     "output_type": "stream",
     "text": [
      "+----+----------------+--------------------+--------------+\n",
      "|sexe|      rsanitaria|          medicament|total_receptes|\n",
      "+----+----------------+--------------------+--------------+\n",
      "|Home|TERRES DE L'EBRE|Derivados de la q...|             1|\n",
      "+----+----------------+--------------------+--------------+\n",
      "\n"
     ]
    },
    {
     "name": "stderr",
     "output_type": "stream",
     "text": [
      "                                                                                \r"
     ]
    }
   ],
   "execution_count": 11
  },
  {
   "metadata": {},
   "cell_type": "markdown",
   "source": "Q4-Which is the most expensive drug prescribed?",
   "id": "4ae4cae8a2916704"
  },
  {
   "metadata": {
    "ExecuteTime": {
     "end_time": "2025-05-22T14:06:27.610419Z",
     "start_time": "2025-05-22T14:06:23.944578Z"
    }
   },
   "cell_type": "code",
   "source": [
    "consulta_q4 = \"\"\"\n",
    "SELECT medicament,\n",
    "       SUM(CAST(import AS FLOAT)) AS total_import,\n",
    "       SUM(CAST(nreceptes AS INT)) AS total_receptes,\n",
    "       (SUM(CAST(import AS FLOAT)) / SUM(CAST(nreceptes AS INT))) AS preu_mig_per_recepta\n",
    "FROM recetas2\n",
    "GROUP BY medicament\n",
    "ORDER BY preu_mig_per_recepta DESC\n",
    "LIMIT 1\n",
    "\"\"\"\n",
    "spark.sql(consulta_q4).show()\n"
   ],
   "id": "290e7517e3410b3b",
   "outputs": [
    {
     "name": "stderr",
     "output_type": "stream",
     "text": [
      "[Stage 18:======>                                                   (1 + 8) / 9]\r"
     ]
    },
    {
     "name": "stdout",
     "output_type": "stream",
     "text": [
      "+--------------------+--------------------+--------------+--------------------+\n",
      "|          medicament|        total_import|total_receptes|preu_mig_per_recepta|\n",
      "+--------------------+--------------------+--------------+--------------------+\n",
      "|Otras hormonas de...|1.1603210341308594E7|          3213|  3611.3321946182987|\n",
      "+--------------------+--------------------+--------------+--------------------+\n",
      "\n"
     ]
    },
    {
     "name": "stderr",
     "output_type": "stream",
     "text": [
      "                                                                                \r"
     ]
    }
   ],
   "execution_count": 8
  },
  {
   "metadata": {},
   "cell_type": "markdown",
   "source": "Q5-Considering the top 10 of most prescribed drugs during 2022, show the cost of the drugs for each sanitary region",
   "id": "7f8bfdf800bca8f0"
  },
  {
   "metadata": {
    "ExecuteTime": {
     "end_time": "2025-05-22T14:14:52.790261Z",
     "start_time": "2025-05-22T14:14:46.769318Z"
    }
   },
   "cell_type": "code",
   "source": [
    "top10_query = \"\"\"\n",
    "SELECT medicament\n",
    "FROM recetas2\n",
    "WHERE any = 2022\n",
    "GROUP BY medicament\n",
    "ORDER BY SUM(CAST(nreceptes AS INT)) DESC\n",
    "LIMIT 10\n",
    "\"\"\"\n",
    "spark.sql(top10_query).createOrReplaceTempView(\"top10_meds\")\n",
    "\n",
    "spark.sql(\"\"\"\n",
    "SELECT rsanitaria, medicament, SUM(CAST(import AS DOUBLE)) AS cost_total\n",
    "FROM recetas2\n",
    "WHERE any = 2022 AND medicament IN (SELECT medicament FROM top10_meds)\n",
    "GROUP BY rsanitaria, medicament\n",
    "ORDER BY rsanitaria, cost_total DESC\n",
    "\"\"\").show(100)\n"
   ],
   "id": "36dce88e1e52bc61",
   "outputs": [
    {
     "name": "stderr",
     "output_type": "stream",
     "text": [
      "[Stage 39:======>                                                   (1 + 8) / 9]\r"
     ]
    },
    {
     "name": "stdout",
     "output_type": "stream",
     "text": [
      "+------------------+--------------------+--------------------+\n",
      "|        rsanitaria|          medicament|          cost_total|\n",
      "+------------------+--------------------+--------------------+\n",
      "|ALT PIRINEU i ARAN|   Sense especificar|  204690.41000000006|\n",
      "|ALT PIRINEU i ARAN|Inhibidores de la...|   76283.83000000002|\n",
      "|ALT PIRINEU i ARAN|Inhibidores de la...|  60614.150000000016|\n",
      "|ALT PIRINEU i ARAN|Inhibidores selec...|            41702.11|\n",
      "|ALT PIRINEU i ARAN|Inhibidores de la...|   33953.54000000001|\n",
      "|ALT PIRINEU i ARAN|Derivados de la b...|  29643.290000000005|\n",
      "|ALT PIRINEU i ARAN|            Anilidas|  21570.919999999995|\n",
      "|ALT PIRINEU i ARAN|Inhibidores de la...|  19464.149999999998|\n",
      "|ALT PIRINEU i ARAN|Derivados del aci...|  17350.679999999997|\n",
      "|ALT PIRINEU i ARAN|Agentes beta- blo...|  13126.879999999996|\n",
      "|            ALTRES|Inhibidores de la...|               56.55|\n",
      "|            ALTRES|Inhibidores selec...|               31.35|\n",
      "|            ALTRES|Derivados de la b...|               13.11|\n",
      "|            ALTRES|Inhibidores de la...|                6.57|\n",
      "|            ALTRES|Inhibidores de la...|                5.45|\n",
      "|            ALTRES|Agentes beta- blo...|                 4.9|\n",
      "|            ALTRES|            Anilidas|                 2.5|\n",
      "|            ALTRES|Inhibidores de la...|                1.45|\n",
      "|         BARCELONA|   Sense especificar|1.7058155739999995E7|\n",
      "|         BARCELONA|Inhibidores de la...|   6591390.040000001|\n",
      "|         BARCELONA|Inhibidores de la...|   4486834.309999999|\n",
      "|         BARCELONA|Inhibidores selec...|   3554964.220000001|\n",
      "|         BARCELONA|Inhibidores de la...|  2257144.7899999996|\n",
      "|         BARCELONA|            Anilidas|  2244748.4400000004|\n",
      "|         BARCELONA|Derivados de la b...|  1866789.3299999998|\n",
      "|         BARCELONA|Inhibidores de la...|  1647302.0999999999|\n",
      "|         BARCELONA|Derivados del aci...|  1206378.9300000004|\n",
      "|         BARCELONA|Agentes beta- blo...|  1052633.0099999998|\n",
      "| CAMP DE TARRAGONA|   Sense especificar|  2060206.5799999996|\n",
      "| CAMP DE TARRAGONA|Inhibidores de la...|           804881.76|\n",
      "| CAMP DE TARRAGONA|Inhibidores de la...|   474521.2299999999|\n",
      "| CAMP DE TARRAGONA|Inhibidores selec...|  320046.85999999987|\n",
      "| CAMP DE TARRAGONA|Inhibidores de la...|   262335.2199999999|\n",
      "| CAMP DE TARRAGONA|Derivados de la b...|           250453.55|\n",
      "| CAMP DE TARRAGONA|            Anilidas|           234999.06|\n",
      "| CAMP DE TARRAGONA|Inhibidores de la...|  209564.54999999996|\n",
      "| CAMP DE TARRAGONA|Derivados del aci...|           173275.07|\n",
      "| CAMP DE TARRAGONA|Agentes beta- blo...|           120468.84|\n",
      "| CATALUNYA CENTRAL|   Sense especificar|  1690464.1899999992|\n",
      "| CATALUNYA CENTRAL|Inhibidores de la...|   598305.8400000001|\n",
      "| CATALUNYA CENTRAL|Inhibidores de la...|  474438.64999999997|\n",
      "| CATALUNYA CENTRAL|Inhibidores selec...|  419838.14999999997|\n",
      "| CATALUNYA CENTRAL|Derivados de la b...|   254834.9499999999|\n",
      "| CATALUNYA CENTRAL|Inhibidores de la...|  245773.36999999997|\n",
      "| CATALUNYA CENTRAL|            Anilidas|  240003.33000000002|\n",
      "| CATALUNYA CENTRAL|Inhibidores de la...|           154044.38|\n",
      "| CATALUNYA CENTRAL|Derivados del aci...|           147644.94|\n",
      "| CATALUNYA CENTRAL|Agentes beta- blo...|  113859.58000000002|\n",
      "|            GIRONA|   Sense especificar|  2753466.2600000002|\n",
      "|            GIRONA|Inhibidores de la...|   960684.8700000001|\n",
      "|            GIRONA|Inhibidores de la...|   695858.4900000001|\n",
      "|            GIRONA|Inhibidores selec...|           541376.75|\n",
      "|            GIRONA|Inhibidores de la...|   316736.1600000001|\n",
      "|            GIRONA|            Anilidas|   315984.1300000002|\n",
      "|            GIRONA|Derivados de la b...|            310763.2|\n",
      "|            GIRONA|Inhibidores de la...|  271914.89999999997|\n",
      "|            GIRONA|Derivados del aci...|  229109.70999999996|\n",
      "|            GIRONA|Agentes beta- blo...|  156217.81000000006|\n",
      "|            LLEIDA|   Sense especificar|          1146429.88|\n",
      "|            LLEIDA|Inhibidores de la...|           435563.63|\n",
      "|            LLEIDA|Inhibidores de la...|  287489.63000000006|\n",
      "|            LLEIDA|Inhibidores selec...|  207239.33999999994|\n",
      "|            LLEIDA|Derivados de la b...|   169291.2999999999|\n",
      "|            LLEIDA|            Anilidas|  154699.46000000002|\n",
      "|            LLEIDA|Inhibidores de la...|           146501.29|\n",
      "|            LLEIDA|Inhibidores de la...|  138955.75999999998|\n",
      "|            LLEIDA|Derivados del aci...|           102201.36|\n",
      "|            LLEIDA|Agentes beta- blo...|            67958.19|\n",
      "| SENSE ESPECIFICAR|   Sense especificar|   78158.51000000001|\n",
      "| SENSE ESPECIFICAR|Inhibidores de la...|            53654.16|\n",
      "| SENSE ESPECIFICAR|Inhibidores de la...|            48585.36|\n",
      "| SENSE ESPECIFICAR|Inhibidores selec...|            31004.72|\n",
      "| SENSE ESPECIFICAR|Derivados de la b...|             17830.7|\n",
      "| SENSE ESPECIFICAR|Inhibidores de la...|  16362.400000000001|\n",
      "| SENSE ESPECIFICAR|Derivados del aci...|             14463.1|\n",
      "| SENSE ESPECIFICAR|            Anilidas|            14259.55|\n",
      "| SENSE ESPECIFICAR|Inhibidores de la...|   8960.130000000001|\n",
      "| SENSE ESPECIFICAR|Agentes beta- blo...|             7228.52|\n",
      "|  TERRES DE L'EBRE|   Sense especificar|   805773.7700000001|\n",
      "|  TERRES DE L'EBRE|Inhibidores de la...|  232991.34999999998|\n",
      "|  TERRES DE L'EBRE|Inhibidores de la...|  182647.65999999995|\n",
      "|  TERRES DE L'EBRE|Inhibidores selec...|  124346.07999999997|\n",
      "|  TERRES DE L'EBRE|            Anilidas|   97499.13999999998|\n",
      "|  TERRES DE L'EBRE|Derivados de la b...|   84162.82000000002|\n",
      "|  TERRES DE L'EBRE|Inhibidores de la...|   68130.15999999999|\n",
      "|  TERRES DE L'EBRE|Inhibidores de la...|  52196.149999999994|\n",
      "|  TERRES DE L'EBRE|Derivados del aci...|             51726.3|\n",
      "|  TERRES DE L'EBRE|Agentes beta- blo...|   39209.56000000001|\n",
      "+------------------+--------------------+--------------------+\n",
      "\n"
     ]
    },
    {
     "name": "stderr",
     "output_type": "stream",
     "text": [
      "                                                                                \r"
     ]
    }
   ],
   "execution_count": 12
  }
 ],
 "metadata": {
  "kernelspec": {
   "display_name": "Python 3",
   "language": "python",
   "name": "python3"
  },
  "language_info": {
   "codemirror_mode": {
    "name": "ipython",
    "version": 3
   },
   "file_extension": ".py",
   "mimetype": "text/x-python",
   "name": "python",
   "nbconvert_exporter": "python",
   "pygments_lexer": "ipython3",
   "version": "3.12.3"
  }
 },
 "nbformat": 4,
 "nbformat_minor": 5
}
