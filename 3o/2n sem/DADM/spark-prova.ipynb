{
 "cells": [
  {
   "cell_type": "code",
   "id": "initial_id",
   "metadata": {
    "collapsed": true,
    "ExecuteTime": {
     "end_time": "2025-06-20T10:26:13.820501Z",
     "start_time": "2025-06-20T10:26:13.674650Z"
    }
   },
   "source": [
    "from pyspark.sql import SparkSession\n",
    "\n",
    "spark = SparkSession.builder.appName(\"Test\").getOrCreate()\n",
    "df = spark.read.csv(\"customers.csv\", header=True, inferSchema=True)"
   ],
   "outputs": [],
   "execution_count": 43
  },
  {
   "metadata": {
    "ExecuteTime": {
     "end_time": "2025-06-20T10:26:13.924494Z",
     "start_time": "2025-06-20T10:26:13.836054Z"
    }
   },
   "cell_type": "code",
   "source": "df.show(5)",
   "id": "1f457a2b1c51922d",
   "outputs": [
    {
     "name": "stdout",
     "output_type": "stream",
     "text": [
      "+----------+--------+--------+-------+--------+-----+\n",
      "|      date|    time|customer|product|quantity|price|\n",
      "+----------+--------+--------+-------+--------+-----+\n",
      "|05/10/2018| 2:20 PM|     100|      1|      10|  816|\n",
      "|06/10/2018| 3:30 PM|     100|      1|      10|    1|\n",
      "|07/10/2018| 5:20 PM|     100|      1|      10|   10|\n",
      "|04/08/2018|11:38 PM|     100|      2|       8|   79|\n",
      "|25/03/2018| 3:52 AM|     100|      3|       1|   91|\n",
      "+----------+--------+--------+-------+--------+-----+\n",
      "only showing top 5 rows\n"
     ]
    }
   ],
   "execution_count": 44
  },
  {
   "metadata": {
    "ExecuteTime": {
     "end_time": "2025-06-20T10:26:14.132274Z",
     "start_time": "2025-06-20T10:26:14.001024Z"
    }
   },
   "cell_type": "code",
   "source": "df.count()",
   "id": "7e597c57f5434365",
   "outputs": [
    {
     "data": {
      "text/plain": [
       "1002"
      ]
     },
     "execution_count": 45,
     "metadata": {},
     "output_type": "execute_result"
    }
   ],
   "execution_count": 45
  },
  {
   "metadata": {
    "ExecuteTime": {
     "end_time": "2025-06-20T10:26:14.369674Z",
     "start_time": "2025-06-20T10:26:14.297787Z"
    }
   },
   "cell_type": "code",
   "source": "df.select(\"customer\", \"time\").show(5)",
   "id": "63f32f3fd521770e",
   "outputs": [
    {
     "name": "stdout",
     "output_type": "stream",
     "text": [
      "+--------+--------+\n",
      "|customer|    time|\n",
      "+--------+--------+\n",
      "|     100| 2:20 PM|\n",
      "|     100| 3:30 PM|\n",
      "|     100| 5:20 PM|\n",
      "|     100|11:38 PM|\n",
      "|     100| 3:52 AM|\n",
      "+--------+--------+\n",
      "only showing top 5 rows\n"
     ]
    }
   ],
   "execution_count": 46
  },
  {
   "metadata": {
    "ExecuteTime": {
     "end_time": "2025-06-20T10:26:14.577410Z",
     "start_time": "2025-06-20T10:26:14.504815Z"
    }
   },
   "cell_type": "code",
   "source": "df.selectExpr(\"customer as customer_id\").show(5)",
   "id": "7a98370f06dfa440",
   "outputs": [
    {
     "name": "stdout",
     "output_type": "stream",
     "text": [
      "+-----------+\n",
      "|customer_id|\n",
      "+-----------+\n",
      "|        100|\n",
      "|        100|\n",
      "|        100|\n",
      "|        100|\n",
      "|        100|\n",
      "+-----------+\n",
      "only showing top 5 rows\n"
     ]
    }
   ],
   "execution_count": 47
  },
  {
   "metadata": {
    "ExecuteTime": {
     "end_time": "2025-06-20T10:26:15.035938Z",
     "start_time": "2025-06-20T10:26:14.965922Z"
    }
   },
   "cell_type": "code",
   "source": "df.selectExpr(\"*\", \"(quantity = price) as equal_price\").show(5)",
   "id": "4cf94148632825d8",
   "outputs": [
    {
     "name": "stdout",
     "output_type": "stream",
     "text": [
      "+----------+--------+--------+-------+--------+-----+-----------+\n",
      "|      date|    time|customer|product|quantity|price|equal_price|\n",
      "+----------+--------+--------+-------+--------+-----+-----------+\n",
      "|05/10/2018| 2:20 PM|     100|      1|      10|  816|      false|\n",
      "|06/10/2018| 3:30 PM|     100|      1|      10|    1|      false|\n",
      "|07/10/2018| 5:20 PM|     100|      1|      10|   10|       true|\n",
      "|04/08/2018|11:38 PM|     100|      2|       8|   79|      false|\n",
      "|25/03/2018| 3:52 AM|     100|      3|       1|   91|      false|\n",
      "+----------+--------+--------+-------+--------+-----+-----------+\n",
      "only showing top 5 rows\n"
     ]
    }
   ],
   "execution_count": 48
  },
  {
   "metadata": {
    "ExecuteTime": {
     "end_time": "2025-06-20T10:26:15.369684Z",
     "start_time": "2025-06-20T10:26:15.178830Z"
    }
   },
   "cell_type": "code",
   "source": "df.selectExpr(\"avg(price)\",\"count(customer)\").show(5)",
   "id": "ea80bd3d167ff0fc",
   "outputs": [
    {
     "name": "stdout",
     "output_type": "stream",
     "text": [
      "+----------------+---------------+\n",
      "|      avg(price)|count(customer)|\n",
      "+----------------+---------------+\n",
      "|50.9500998003992|           1002|\n",
      "+----------------+---------------+\n",
      "\n"
     ]
    }
   ],
   "execution_count": 49
  },
  {
   "metadata": {
    "ExecuteTime": {
     "end_time": "2025-06-20T10:26:15.610390Z",
     "start_time": "2025-06-20T10:26:15.514938Z"
    }
   },
   "cell_type": "code",
   "source": "df.where(\"quantity < 8\").where(\"customer != 100\").show(5)",
   "id": "6dec8eb0ea50a512",
   "outputs": [
    {
     "name": "stdout",
     "output_type": "stream",
     "text": [
      "+----------+-------+--------+-------+--------+-----+\n",
      "|      date|   time|customer|product|quantity|price|\n",
      "+----------+-------+--------+-------+--------+-----+\n",
      "|13/04/2018|2:24 AM|     101|      6|       6|   73|\n",
      "|21/12/2017|3:09 AM|     101|      7|       6|    8|\n",
      "|08/08/2018|9:16 AM|     101|      9|       0|    4|\n",
      "|15/09/2018|7:33 AM|     101|     10|       5|   35|\n",
      "|07/01/2018|7:58 PM|     101|      1|       6|   21|\n",
      "+----------+-------+--------+-------+--------+-----+\n",
      "only showing top 5 rows\n"
     ]
    }
   ],
   "execution_count": 50
  },
  {
   "metadata": {
    "ExecuteTime": {
     "end_time": "2025-06-20T10:26:15.730474Z",
     "start_time": "2025-06-20T10:26:15.716254Z"
    }
   },
   "cell_type": "code",
   "source": [
    "df = df.dropna()\n",
    "df.dtypes"
   ],
   "id": "f79cc504fbf4c7b6",
   "outputs": [
    {
     "data": {
      "text/plain": [
       "[('date', 'string'),\n",
       " ('time', 'string'),\n",
       " ('customer', 'int'),\n",
       " ('product', 'int'),\n",
       " ('quantity', 'int'),\n",
       " ('price', 'int')]"
      ]
     },
     "execution_count": 51,
     "metadata": {},
     "output_type": "execute_result"
    }
   ],
   "execution_count": 51
  },
  {
   "metadata": {
    "ExecuteTime": {
     "end_time": "2025-06-20T10:26:16.168792Z",
     "start_time": "2025-06-20T10:26:15.946620Z"
    }
   },
   "cell_type": "code",
   "source": [
    "from pyspark.sql.functions import sum, max\n",
    "\n",
    "df.groupBy(\"customer\").agg(sum(\"quantity\")).show(5)"
   ],
   "id": "f1ee24f3ec6a457f",
   "outputs": [
    {
     "name": "stdout",
     "output_type": "stream",
     "text": [
      "+--------+-------------+\n",
      "|customer|sum(quantity)|\n",
      "+--------+-------------+\n",
      "|     108|          129|\n",
      "|     101|          196|\n",
      "|     115|          143|\n",
      "|     126|          137|\n",
      "|     103|          137|\n",
      "+--------+-------------+\n",
      "only showing top 5 rows\n"
     ]
    }
   ],
   "execution_count": 52
  },
  {
   "metadata": {
    "ExecuteTime": {
     "end_time": "2025-06-20T10:26:16.450220Z",
     "start_time": "2025-06-20T10:26:16.255740Z"
    }
   },
   "cell_type": "code",
   "source": [
    "df.where(\"date = '05/10/2018'\").groupBy(\"customer\").agg(sum(\"price\")).orderBy(\"sum(price)\", ascending=False).show(5)\n",
    "# Agafa els 5 clients amb més preu total el dia 05/10/2018"
   ],
   "id": "681233e2f52beaa0",
   "outputs": [
    {
     "name": "stdout",
     "output_type": "stream",
     "text": [
      "+--------+----------+\n",
      "|customer|sum(price)|\n",
      "+--------+----------+\n",
      "|     100|       816|\n",
      "|     103|        69|\n",
      "+--------+----------+\n",
      "\n"
     ]
    }
   ],
   "execution_count": 53
  },
  {
   "metadata": {
    "ExecuteTime": {
     "end_time": "2025-06-20T10:26:16.816814Z",
     "start_time": "2025-06-20T10:26:16.581091Z"
    }
   },
   "cell_type": "code",
   "source": "df.select(\"customer\").distinct().count()",
   "id": "f1938a3ef90b848",
   "outputs": [
    {
     "data": {
      "text/plain": [
       "31"
      ]
     },
     "execution_count": 54,
     "metadata": {},
     "output_type": "execute_result"
    }
   ],
   "execution_count": 54
  },
  {
   "metadata": {
    "ExecuteTime": {
     "end_time": "2025-06-20T10:26:17.011465Z",
     "start_time": "2025-06-20T10:26:16.903045Z"
    }
   },
   "cell_type": "code",
   "source": [
    "# How many elements?\n",
    "df.count()"
   ],
   "id": "5d9ee7f9ffd0e608",
   "outputs": [
    {
     "data": {
      "text/plain": [
       "1002"
      ]
     },
     "execution_count": 55,
     "metadata": {},
     "output_type": "execute_result"
    }
   ],
   "execution_count": 55
  },
  {
   "metadata": {
    "ExecuteTime": {
     "end_time": "2025-06-20T10:26:17.305611Z",
     "start_time": "2025-06-20T10:26:17.088472Z"
    }
   },
   "cell_type": "code",
   "source": [
    "# How many DISTINCT customers?\n",
    "df.select(\"customer\").distinct().count()"
   ],
   "id": "758313f3eb5787b5",
   "outputs": [
    {
     "data": {
      "text/plain": [
       "31"
      ]
     },
     "execution_count": 56,
     "metadata": {},
     "output_type": "execute_result"
    }
   ],
   "execution_count": 56
  },
  {
   "metadata": {
    "ExecuteTime": {
     "end_time": "2025-06-20T10:26:17.580510Z",
     "start_time": "2025-06-20T10:26:17.324686Z"
    }
   },
   "cell_type": "code",
   "source": [
    "# need to aggregate values per customer\n",
    "df.groupBy(\"customer\").agg(sum(\"price\")).orderBy(\"sum(price)\", ascending=False).show(5)"
   ],
   "id": "ab30e3064f3f7b08",
   "outputs": [
    {
     "name": "stdout",
     "output_type": "stream",
     "text": [
      "+--------+----------+\n",
      "|customer|sum(price)|\n",
      "+--------+----------+\n",
      "|     100|      2509|\n",
      "|     119|      1996|\n",
      "|     121|      1896|\n",
      "|     123|      1825|\n",
      "|     111|      1822|\n",
      "+--------+----------+\n",
      "only showing top 5 rows\n"
     ]
    }
   ],
   "execution_count": 57
  },
  {
   "metadata": {
    "ExecuteTime": {
     "end_time": "2025-06-20T10:26:17.843019Z",
     "start_time": "2025-06-20T10:26:17.644036Z"
    }
   },
   "cell_type": "code",
   "source": [
    "# How many products per customer?\n",
    "df.groupBy(\"customer\").agg(sum(\"quantity\")).orderBy(\"sum(quantity)\", ascending=False).show(5)"
   ],
   "id": "d99f6353e7bd1875",
   "outputs": [
    {
     "name": "stdout",
     "output_type": "stream",
     "text": [
      "+--------+-------------+\n",
      "|customer|sum(quantity)|\n",
      "+--------+-------------+\n",
      "|     101|          196|\n",
      "|     122|          179|\n",
      "|     117|          176|\n",
      "|     100|          172|\n",
      "|     124|          165|\n",
      "+--------+-------------+\n",
      "only showing top 5 rows\n"
     ]
    }
   ],
   "execution_count": 58
  },
  {
   "metadata": {
    "ExecuteTime": {
     "end_time": "2025-06-20T10:27:39.066237Z",
     "start_time": "2025-06-20T10:27:38.971425Z"
    }
   },
   "cell_type": "code",
   "source": [
    "# how many times customer id number 100 has purchased more than 5 items?\n",
    "from pyspark.sql.functions import col, max, sum\n",
    "\n",
    "df.select(\"customer\", \"quantity\").filter((col(\"customer\") == 100) & (col(\"quantity\") > 5)).count()"
   ],
   "id": "dd692d1739c00e4e",
   "outputs": [
    {
     "data": {
      "text/plain": [
       "16"
      ]
     },
     "execution_count": 60,
     "metadata": {},
     "output_type": "execute_result"
    }
   ],
   "execution_count": 60
  },
  {
   "metadata": {
    "ExecuteTime": {
     "end_time": "2025-06-20T10:29:09.231793Z",
     "start_time": "2025-06-20T10:29:09.052262Z"
    }
   },
   "cell_type": "code",
   "source": "df.groupBy(\"customer\").agg(max(\"quantity\")).orderBy(\"max(quantity)\", ascending=False).show(5)",
   "id": "56766a4098eba4f8",
   "outputs": [
    {
     "name": "stdout",
     "output_type": "stream",
     "text": [
      "+--------+-------------+\n",
      "|customer|max(quantity)|\n",
      "+--------+-------------+\n",
      "|     100|           10|\n",
      "|     108|            9|\n",
      "|     101|            9|\n",
      "|     115|            9|\n",
      "|     126|            9|\n",
      "+--------+-------------+\n",
      "only showing top 5 rows\n"
     ]
    },
    {
     "data": {
      "text/plain": [
       "DataFrame[date: string, time: string, customer: int, product: int, quantity: int, price: int]"
      ]
     },
     "execution_count": 62,
     "metadata": {},
     "output_type": "execute_result"
    }
   ],
   "execution_count": 62
  },
  {
   "metadata": {
    "ExecuteTime": {
     "end_time": "2025-06-20T10:29:59.739912Z",
     "start_time": "2025-06-20T10:29:59.193822Z"
    }
   },
   "cell_type": "code",
   "source": "df.select(\"customer\", \"product\").filter(col(\"customer\") == 100).distinct().orderBy(\"product\").show()",
   "id": "7dc79752d10a9d9a",
   "outputs": [
    {
     "name": "stdout",
     "output_type": "stream",
     "text": [
      "+--------+-------+\n",
      "|customer|product|\n",
      "+--------+-------+\n",
      "|     100|      1|\n",
      "|     100|      2|\n",
      "|     100|      3|\n",
      "|     100|      4|\n",
      "|     100|      5|\n",
      "|     100|      6|\n",
      "|     100|      7|\n",
      "|     100|      8|\n",
      "|     100|      9|\n",
      "|     100|     10|\n",
      "+--------+-------+\n",
      "\n"
     ]
    }
   ],
   "execution_count": 65
  },
  {
   "metadata": {
    "ExecuteTime": {
     "end_time": "2025-06-20T11:24:24.264911Z",
     "start_time": "2025-06-20T11:24:24.016576Z"
    }
   },
   "cell_type": "code",
   "source": [
    "# which is the product with highest price?\n",
    "df.selectExpr(\"product\", \"price\", \"quantity\").filter(col(\"quantity\") == 1).select(\"product\", \"price\").distinct().orderBy(\"price\", ascending=False).show(1)"
   ],
   "id": "b98992a8b4b81af7",
   "outputs": [
    {
     "name": "stdout",
     "output_type": "stream",
     "text": [
      "+-------+-----+\n",
      "|product|price|\n",
      "+-------+-----+\n",
      "|      5|   98|\n",
      "+-------+-----+\n",
      "only showing top 1 row\n"
     ]
    }
   ],
   "execution_count": 83
  },
  {
   "metadata": {
    "ExecuteTime": {
     "end_time": "2025-06-20T11:55:25.095197Z",
     "start_time": "2025-06-20T11:55:24.662674Z"
    }
   },
   "cell_type": "code",
   "source": [
    "df = spark.read.csv(\"worldcities.csv\", header=True, inferSchema=True)\n",
    "\n",
    "df.show(10)"
   ],
   "id": "8f3578b4c8222322",
   "outputs": [
    {
     "name": "stdout",
     "output_type": "stream",
     "text": [
      "+-----------+-----------+--------+--------+------------+----+----+----------------+-------+----------+----------+\n",
      "|       city| city_ascii|     lat|     lng|     country|iso2|iso3|      admin_name|capital|population|        id|\n",
      "+-----------+-----------+--------+--------+------------+----+----+----------------+-------+----------+----------+\n",
      "|      Tokyo|      Tokyo|  35.687|139.7495|       Japan|  JP| JPN|           Tōkyō|primary|  3.7785E7|1392685764|\n",
      "|    Jakarta|    Jakarta|  -6.175|106.8275|   Indonesia|  ID| IDN|         Jakarta|primary|  3.3756E7|1360771077|\n",
      "|      Delhi|      Delhi|   28.61|   77.23|       India|  IN| IND|           Delhi|  admin|  3.2226E7|1356872604|\n",
      "|  Guangzhou|  Guangzhou|   23.13|  113.26|       China|  CN| CHN|       Guangdong|  admin|   2.694E7|1156237133|\n",
      "|     Mumbai|     Mumbai| 19.0761| 72.8775|       India|  IN| IND|     Mahārāshtra|  admin|  2.4973E7|1356226629|\n",
      "|     Manila|     Manila| 14.5958|120.9772| Philippines|  PH| PHL|          Manila|primary|  2.4922E7|1608618140|\n",
      "|   Shanghai|   Shanghai| 31.2286|121.4747|       China|  CN| CHN|        Shanghai|  admin|  2.4073E7|1156073548|\n",
      "|  São Paulo|  Sao Paulo|-23.5504|-46.6339|      Brazil|  BR| BRA|       São Paulo|  admin|  2.3086E7|1076532519|\n",
      "|      Seoul|      Seoul| 37.5667|126.9833|Korea, South|  KR| KOR|           Seoul|primary|  2.3016E7|1410836482|\n",
      "|Mexico City|Mexico City| 19.4333|-99.1333|      Mexico|  MX| MEX|Ciudad de México|primary|  2.1804E7|1484247881|\n",
      "+-----------+-----------+--------+--------+------------+----+----+----------------+-------+----------+----------+\n",
      "only showing top 10 rows\n"
     ]
    }
   ],
   "execution_count": 85
  },
  {
   "metadata": {
    "ExecuteTime": {
     "end_time": "2025-06-20T11:58:53.102576Z",
     "start_time": "2025-06-20T11:58:52.465197Z"
    }
   },
   "cell_type": "code",
   "source": [
    "# country population\n",
    "df.select(\"country\", \"population\").groupBy(\"country\").agg(sum(\"population\")).orderBy(\"sum(population)\", ascending=False).show(10)"
   ],
   "id": "23ecbbb0df1565ad",
   "outputs": [
    {
     "name": "stdout",
     "output_type": "stream",
     "text": [
      "+-------------+---------------+\n",
      "|      country|sum(population)|\n",
      "+-------------+---------------+\n",
      "|        China|  1.360845815E9|\n",
      "|        India|   5.14693978E8|\n",
      "|United States|   3.79426737E8|\n",
      "|       Brazil|   1.91184513E8|\n",
      "|        Japan|   1.84894147E8|\n",
      "|  Philippines|   1.37832184E8|\n",
      "|       Mexico|   1.17363046E8|\n",
      "|       Turkey|   1.07562012E8|\n",
      "|    Indonesia|   1.05083586E8|\n",
      "|       Russia|   1.01867797E8|\n",
      "+-------------+---------------+\n",
      "only showing top 10 rows\n"
     ]
    }
   ],
   "execution_count": 87
  },
  {
   "metadata": {
    "ExecuteTime": {
     "end_time": "2025-06-20T12:00:54.011045Z",
     "start_time": "2025-06-20T12:00:53.577858Z"
    }
   },
   "cell_type": "code",
   "source": "df.groupBy(\"country\").count().orderBy(\"count\", ascending=False).show()",
   "id": "9782d4bc394bde6e",
   "outputs": [
    {
     "name": "stdout",
     "output_type": "stream",
     "text": [
      "+--------------+-----+\n",
      "|       country|count|\n",
      "+--------------+-----+\n",
      "|         India| 7108|\n",
      "| United States| 5344|\n",
      "|        Brazil| 2961|\n",
      "|       Germany| 1759|\n",
      "|         China| 1732|\n",
      "|   Philippines| 1584|\n",
      "|United Kingdom| 1365|\n",
      "|         Italy| 1357|\n",
      "|         Japan| 1344|\n",
      "|        France| 1160|\n",
      "|        Russia| 1059|\n",
      "|        Mexico| 1014|\n",
      "|    Madagascar|  832|\n",
      "|         Spain|  783|\n",
      "|      Colombia|  732|\n",
      "|        Turkey|  711|\n",
      "|       Morocco|  584|\n",
      "|       Algeria|  553|\n",
      "|     Argentina|  502|\n",
      "|          Iran|  501|\n",
      "+--------------+-----+\n",
      "only showing top 20 rows\n"
     ]
    }
   ],
   "execution_count": 90
  },
  {
   "metadata": {
    "ExecuteTime": {
     "end_time": "2025-06-20T12:12:13.464916Z",
     "start_time": "2025-06-20T12:12:13.296192Z"
    }
   },
   "cell_type": "code",
   "source": "df.filter(col(\"country\") == \"Spain\").select(\"city\", \"population\").orderBy(\"population\", ascending=True).show(10)",
   "id": "747ae05c3676f1e2",
   "outputs": [
    {
     "name": "stdout",
     "output_type": "stream",
     "text": [
      "+-------------------+----------+\n",
      "|               city|population|\n",
      "+-------------------+----------+\n",
      "|Caldas de Malavella|    8509.0|\n",
      "|               Tona|    8511.0|\n",
      "|           Vidreras|    8538.0|\n",
      "|          Colindres|    8540.0|\n",
      "|            Polinyá|    8555.0|\n",
      "|            Reinosa|    8566.0|\n",
      "|San Juan de Palamós|    8603.0|\n",
      "|           Monachil|    8608.0|\n",
      "|           Trujillo|    8619.0|\n",
      "|         Santiponce|    8625.0|\n",
      "+-------------------+----------+\n",
      "only showing top 10 rows\n"
     ]
    }
   ],
   "execution_count": 94
  }
 ],
 "metadata": {
  "kernelspec": {
   "display_name": "Python 3",
   "language": "python",
   "name": "python3"
  },
  "language_info": {
   "codemirror_mode": {
    "name": "ipython",
    "version": 2
   },
   "file_extension": ".py",
   "mimetype": "text/x-python",
   "name": "python",
   "nbconvert_exporter": "python",
   "pygments_lexer": "ipython2",
   "version": "2.7.6"
  }
 },
 "nbformat": 4,
 "nbformat_minor": 5
}
