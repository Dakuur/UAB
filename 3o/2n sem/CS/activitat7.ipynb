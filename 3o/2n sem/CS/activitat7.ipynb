{
 "cells": [
  {
   "metadata": {},
   "cell_type": "markdown",
   "source": [
    "- **Nom**: David Morillo Massagué\n",
    "- **NIU**: 1666540"
   ],
   "id": "58279660f70de289"
  },
  {
   "metadata": {},
   "cell_type": "markdown",
   "source": "### 1. Per a un sistema de xifratge RSA amb p = 97 i q = 31, quantes claus públiques podem fer servir?",
   "id": "a3a1ffc77d410c7f"
  },
  {
   "metadata": {
    "ExecuteTime": {
     "end_time": "2025-06-05T18:23:14.445759Z",
     "start_time": "2025-06-05T18:23:14.079956Z"
    }
   },
   "cell_type": "code",
   "source": [
    "from sympy import isprime\n",
    "from sympy.ntheory import factorint\n",
    "from sympy import gcd\n",
    "\n",
    "p = 97\n",
    "q = 31\n",
    "\n",
    "n = p * q\n",
    "phi_n = (p - 1) * (q - 1)\n",
    "# Busquem els nombres primers que són coprims amb phi_n\n",
    "def coprime_count(n):\n",
    "    count = 0\n",
    "    for i in range(2, n):\n",
    "        if gcd(i, n) == 1:\n",
    "            count += 1\n",
    "    return count\n",
    "\n",
    "coprime_count_phi_n = coprime_count(phi_n)\n",
    "print(f\"Nombre de claus públiques possibles: {coprime_count_phi_n}\")"
   ],
   "id": "5eece05f7d2874d4",
   "outputs": [
    {
     "name": "stdout",
     "output_type": "stream",
     "text": [
      "Nombre de claus públiques possibles: 767\n"
     ]
    }
   ],
   "execution_count": 4
  },
  {
   "metadata": {},
   "cell_type": "markdown",
   "source": [
    "### 2. Per un sistema de xifratge RSA amb p = 97 i q = 31, ens diuen que podem fer servir qualsevol de les següents claus públiques:\n",
    "a) e = 24 b) e = 33 c) e = 45 d) e = 49.\n",
    "\n",
    "Quines d’elles s´on millors i perquè?"
   ],
   "id": "40658db1e2bcf8c6"
  },
  {
   "metadata": {
    "ExecuteTime": {
     "end_time": "2025-06-05T18:26:08.516593Z",
     "start_time": "2025-06-05T18:26:08.511338Z"
    }
   },
   "cell_type": "code",
   "source": [
    "# Comprovem quines claus públiques són vàlides\n",
    "def is_valid_public_key(e, phi_n):\n",
    "    return gcd(e, phi_n) == 1\n",
    "valid_keys = [24, 33, 45, 49]\n",
    "valid_keys = [e for e in valid_keys if is_valid_public_key(e, phi_n)]\n",
    "print(f\"Claus públiques vàlides: {valid_keys}\")"
   ],
   "id": "afe1e73dc15eccaa",
   "outputs": [
    {
     "name": "stdout",
     "output_type": "stream",
     "text": [
      "Claus públiques vàlides: [49]\n"
     ]
    }
   ],
   "execution_count": 6
  },
  {
   "metadata": {},
   "cell_type": "markdown",
   "source": "La única clau que seria vàlida per a utilitzar com a clau pública (e) és 49, ja que és la única que és coprima amb phi_n. Les altres claus públiques (24, 33 i 45) no són vàlides perquè no són coprimes amb phi_n (MCD(phi_n, e) != 1), i per tant no poden ser utilitzades com a claus públiques en el sistema RSA.",
   "id": "994ca35f0f2040c5"
  },
  {
   "metadata": {},
   "cell_type": "markdown",
   "source": "### 3. Els usuaris d’una xarxa que es comuniquen utilitzant el criptosistema RSA tenen les segúents claus públiques:",
   "id": "6e72ce27e1fce52d"
  },
  {
   "metadata": {
    "ExecuteTime": {
     "end_time": "2025-06-05T18:34:19.678090Z",
     "start_time": "2025-06-05T18:34:19.673731Z"
    }
   },
   "cell_type": "code",
   "source": [
    "# (n, e)\n",
    "pka = (979, 293)\n",
    "pkb = (299, 217)\n",
    "pkc = (407, 119)\n",
    "pkd = (140030234401607803777917438251378213819219721524651118808434275263655395469528598704536324499566494098557043742549996566558639071657539815043385431186640932840798807785896997249571231108794361593482827908287632293375666323685398351507895710615198985712283304233326023055012524211849836100106559378736370665769, 65537)\n",
    "\n",
    "pks = {\n",
    "    'A': pka,\n",
    "    'B': pkb,\n",
    "    'C': pkc,\n",
    "    'D': pkd\n",
    "}"
   ],
   "id": "fb3cbf961742d993",
   "outputs": [],
   "execution_count": 15
  },
  {
   "metadata": {},
   "cell_type": "markdown",
   "source": "1. Calculeu les claus privades de A, B, C i D.",
   "id": "d381fbda5defd43f"
  },
  {
   "metadata": {},
   "cell_type": "markdown",
   "source": [
    "Calculats a mà:\n",
    "\n",
    "A:\n",
    "- n = 979 = 11x89\n",
    "- φ(n) = 10x88 = 880\n",
    "- e = 293\n",
    "- d = e^-1 mod 880 = 877\n",
    "\n",
    "B:\n",
    "- n = 299 = 13x23\n",
    "- φ(n) = 12x22 = 264\n",
    "- e = 217\n",
    "- d = e^-1 mod 264 = 73\n",
    "\n",
    "C:\n",
    "- n = 407 = 11x37\n",
    "- φ(n) = 10x36 = 360\n",
    "- e = 119\n",
    "- d = e^-1 mod 360 = 239\n",
    "\n",
    "D: Computacionalment inviable de calcular"
   ],
   "id": "c6e192f58d3ad4a5"
  },
  {
   "metadata": {},
   "cell_type": "markdown",
   "source": "2. Calculeu el xifratge del missatge m = 15 que B vol enviar a A.",
   "id": "c699964f1075478a"
  },
  {
   "metadata": {
    "ExecuteTime": {
     "end_time": "2025-06-05T18:43:34.821720Z",
     "start_time": "2025-06-05T18:43:34.815732Z"
    }
   },
   "cell_type": "code",
   "source": [
    "sks = {\n",
    "    'A': 877,  # Clau privada de A\n",
    "    'B': 73,   # Clau privada de B\n",
    "    'C': 239,  # Clau privada de C\n",
    "}\n",
    "\n",
    "m = 15\n",
    "\n",
    "def encrypt_message(m, d, n):\n",
    "    return pow(m, d, n)\n",
    "\n",
    "priv_b = sks['B'] # 73\n",
    "n = pks['B'][0] # 299\n",
    "encrypted_message = encrypt_message(m, priv_b, n)\n",
    "print(f\"Missatge xifrat enviat de B a A: {encrypted_message}\")"
   ],
   "id": "5e9589302e9d6988",
   "outputs": [
    {
     "name": "stdout",
     "output_type": "stream",
     "text": [
      "Missatge xifrat enviat de B a A: 80\n"
     ]
    }
   ],
   "execution_count": 25
  },
  {
   "metadata": {},
   "cell_type": "markdown",
   "source": "3. Desxifreu el missatge rebut per A de B.",
   "id": "a4306b5b0ade082a"
  },
  {
   "metadata": {
    "ExecuteTime": {
     "end_time": "2025-06-05T18:45:20.109908Z",
     "start_time": "2025-06-05T18:45:20.104689Z"
    }
   },
   "cell_type": "code",
   "source": [
    "def decrypt_message(c, e, n):\n",
    "    return pow(c, e, n)\n",
    "\n",
    "pub_b = pks['B'][1]\n",
    "n_b = pks['B'][0]\n",
    "\n",
    "decrypted_message = decrypt_message(encrypted_message, pub_b, n_b)\n",
    "print(f\"Missatge desxifrat rebut per A de B: {decrypted_message}\")"
   ],
   "id": "51ce4a976f004c59",
   "outputs": [
    {
     "name": "stdout",
     "output_type": "stream",
     "text": [
      "Missatge desxifrat rebut per A de B: 15\n"
     ]
    }
   ],
   "execution_count": 26
  },
  {
   "metadata": {},
   "cell_type": "markdown",
   "source": [
    "### 4. Suposem que els usuaris A i B porten a terme una distribuci´o de clau secreta utilitzant el protocol de Diffie-Hellman. Els valors que utilitzen són p = 7001, α = 101, a = 68 i b = 98.\n",
    "Descriviu el protocol i calculeu la clau privada que comparteixen."
   ],
   "id": "f62ea756b53e6c2f"
  },
  {
   "metadata": {
    "ExecuteTime": {
     "end_time": "2025-06-06T08:52:33.710197Z",
     "start_time": "2025-06-06T08:52:33.703163Z"
    }
   },
   "cell_type": "code",
   "source": [
    "p = 7001\n",
    "alpha = 101\n",
    "a = 68\n",
    "b = 98\n",
    "\n",
    "def diffie_hellman(p, alpha, a, b):\n",
    "    # A calcula la seva clau pública\n",
    "    A_public = pow(alpha, a, p)\n",
    "    print(f\"Clau pública d'A: {A_public} (α^a mod p)\")\n",
    "\n",
    "    # B calcula la seva clau pública\n",
    "    B_public = pow(alpha, b, p)\n",
    "    print(f\"Clau pública de B: {B_public} (α^b mod p)\")\n",
    "\n",
    "    print(f\"A envia la seva clau pública a B: {A_public}\")\n",
    "    print(f\"B envia la seva clau pública a A: {B_public}\")\n",
    "\n",
    "    # A calcula la clau compartida\n",
    "    shared_key_A = pow(B_public, a, p)\n",
    "    print(f\"Clau compartida calculada per A: {shared_key_A} (α^b^a mod p)\")\n",
    "\n",
    "    # B calcula la clau compartida\n",
    "    shared_key_B = pow(A_public, b, p)\n",
    "    print(f\"Clau compartida calculada per B: {shared_key_B} (α^a^b mod p)\")\n",
    "\n",
    "    return shared_key_A, shared_key_B\n",
    "\n",
    "shared_key_A, shared_key_B = diffie_hellman(p, alpha, a, b)\n",
    "print(f\"\\nClau compartida final: {shared_key_A} (A) = {shared_key_B} (B)\")"
   ],
   "id": "b6696a5d42719482",
   "outputs": [
    {
     "name": "stdout",
     "output_type": "stream",
     "text": [
      "Clau pública d'A: 176 (α^a mod p)\n",
      "Clau pública de B: 2901 (α^b mod p)\n",
      "A envia la seva clau pública a B: 176\n",
      "B envia la seva clau pública a A: 2901\n",
      "Clau compartida calculada per A: 2153 (α^b^a mod p)\n",
      "Clau compartida calculada per B: 2153 (α^a^b mod p)\n",
      "\n",
      "Clau compartida final: 2153 (A) = 2153 (B)\n"
     ]
    }
   ],
   "execution_count": 2
  },
  {
   "metadata": {},
   "cell_type": "markdown",
   "source": "### 5. El protocol de Diffie-Hellman és vulnerable enfront d’atacs d’impersonació. Descriviu quins passos es modificarien i quins s’afegirien en l’intercanvi de claus de l’exercici anterior per tal que un atacant aconseguís compartir una clau diferent amb cada usuari malgrat els usuaris pensessin que comparteixen una sola clau entre ells dos.",
   "id": "f9c4c91754b61486"
  },
  {
   "metadata": {
    "ExecuteTime": {
     "end_time": "2025-06-06T09:09:49.241734Z",
     "start_time": "2025-06-06T09:09:49.234590Z"
    }
   },
   "cell_type": "code",
   "source": [
    "def diffie_hellman_impersonation(p, alpha, a, b):\n",
    "    # A calcula la seva clau pública\n",
    "    A_public = pow(alpha, a, p)\n",
    "    print(f\"Clau pública d'A: {A_public} (α^a mod p)\")\n",
    "\n",
    "    # L'atacant intercepta la clau d'A i n'envia una falsa a B\n",
    "    print(f\"L'atacant intercepta la clau pública d'A: {A_public}\")\n",
    "    fake_A_public = (A_public + 1) % p\n",
    "    print(f\"Atacant envia una clau falsa a B: {fake_A_public}\")\n",
    "\n",
    "    # B calcula la seva clau pública\n",
    "    B_public = pow(alpha, b, p)\n",
    "    print(f\"Clau pública de B: {B_public} (α^b mod p)\")\n",
    "\n",
    "    # B calcula la clau compartida amb la clau falsa d'A\n",
    "    shared_key_B = pow(fake_A_public, b, p)\n",
    "    print(f\"Clau compartida calculada per B amb la clau falsa d'A: {shared_key_B} ((clau falsa)^b mod p)\")\n",
    "\n",
    "    # L'atacant intercepta la clau de B i n'envia una falsa a A\n",
    "    print(f\"L'atacant intercepta la clau pública de B: {B_public}\")\n",
    "    fake_B_public = (B_public + 1) % p\n",
    "    print(f\"Atacant envia una clau falsa a A: {fake_B_public}\")\n",
    "\n",
    "    # A calcula la clau compartida amb la clau falsa de B\n",
    "    shared_key_A = pow(fake_B_public, a, p)\n",
    "    print(f\"Clau compartida calculada per A amb la clau falsa de B: {shared_key_A} ((clau falsa)^a mod p)\")\n",
    "\n",
    "    return shared_key_A, shared_key_B\n",
    "\n",
    "shared_key_A_imp, shared_key_B_imp = diffie_hellman_impersonation(p, alpha, a, b)\n",
    "print(f\"\\nClau compartida final amb atac d'impersonació:\")\n",
    "print(f\"A rep: {shared_key_A_imp}\")\n",
    "print(f\"B rep: {shared_key_B_imp}\")"
   ],
   "id": "f6e5c1a37efa5376",
   "outputs": [
    {
     "name": "stdout",
     "output_type": "stream",
     "text": [
      "Clau pública d'A: 176 (α^a mod p)\n",
      "L'atacant intercepta la clau pública d'A: 176\n",
      "Atacant envia una clau falsa a B: 177\n",
      "Clau pública de B: 2901 (α^b mod p)\n",
      "Clau compartida calculada per B amb la clau falsa d'A: 1149 ((clau falsa)^b mod p)\n",
      "L'atacant intercepta la clau pública de B: 2901\n",
      "Atacant envia una clau falsa a A: 2902\n",
      "Clau compartida calculada per A amb la clau falsa de B: 2153 ((clau falsa)^a mod p)\n",
      "\n",
      "Clau compartida final amb atac d'impersonació:\n",
      "A rep: 2153\n",
      "B rep: 1149\n"
     ]
    }
   ],
   "execution_count": 4
  },
  {
   "metadata": {},
   "cell_type": "markdown",
   "source": "A i B creuen que comparteixen una sola clau, però en realitat l'atacant ha interceptat les claus públiques i ha enviat claus falses a cada usuari. L'atacant pot rebre missatges de A i B, i pot enviar missatges falsos a cada usuari sense que ells ho sàpiguen. Això permet a l'atacant controlar la comunicació entre A i B, fent que creguin que estan parlant directament entre ells quan en realitat estan parlant amb l'atacant.",
   "id": "96e2b2d0ddc4875"
  }
 ],
 "metadata": {
  "kernelspec": {
   "display_name": "Python 3",
   "language": "python",
   "name": "python3"
  },
  "language_info": {
   "codemirror_mode": {
    "name": "ipython",
    "version": 2
   },
   "file_extension": ".py",
   "mimetype": "text/x-python",
   "name": "python",
   "nbconvert_exporter": "python",
   "pygments_lexer": "ipython2",
   "version": "2.7.6"
  }
 },
 "nbformat": 4,
 "nbformat_minor": 5
}
