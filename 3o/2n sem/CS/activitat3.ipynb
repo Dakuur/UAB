{
 "cells": [
  {
   "cell_type": "markdown",
   "id": "14c2df8b",
   "metadata": {},
   "source": [
    "- **Nom**: David Morillo Massagué\n",
    "- **NIU**: 1666540"
   ]
  },
  {
   "cell_type": "markdown",
   "id": "fd7f15dd",
   "metadata": {},
   "source": [
    "### 1. LFSR implementation"
   ]
  },
  {
   "cell_type": "code",
   "execution_count": null,
   "id": "f431c0ff",
   "metadata": {},
   "outputs": [
    {
     "name": "stdout",
     "output_type": "stream",
     "text": [
      "Test sequence 1:[1 0 1 0 1 0 1 0 1 0 1 0 1 0 1 0 1 0 1 0]\n",
      "Test sequence 2:[1 0 0 0 1 0 1 1 0 0 0 1 0 1 1 0 0 0 1 0]\n"
     ]
    }
   ],
   "source": [
    "import numpy as np\n",
    "\n",
    "class LFSR():\n",
    "    def __init__(self, state: np.ndarray, pol: np.ndarray):\n",
    "        self.state = state\n",
    "        self.pol = pol\n",
    "        self.n = len(state)\n",
    "\n",
    "    def next(self) -> int:\n",
    "        output= self.state[-1] # The output bit is the last bit of the state\n",
    "        next_bit = 0\n",
    "        for i in range(self.n):\n",
    "            next_bit ^= self.state[i] & self.pol[i]\n",
    "        # Shift the state to the right and insert the new bit at the beginning\n",
    "        self.state = np.roll(self.state, 1) # Shift right\n",
    "        self.state[0] = next_bit\n",
    "        return output\n",
    "\n",
    "    def next_n(self, n: int) -> np.ndarray:\n",
    "        # Generate the next n bits of the LFSR sequence\n",
    "        bits = np.zeros(n, dtype=int)\n",
    "        for i in range(n):\n",
    "            bits[i] = self.next()\n",
    "        return bits\n",
    "\n",
    "test_s1 = np.array([1,0,1])\n",
    "test_c1 = np.array([1,1,1])\n",
    "test_lfsr1 = LFSR(test_s1, test_c1)\n",
    "test_seq1 = np.array([test_lfsr1.next() for _ in range(20)])\n",
    "print(f\"Test sequence 1:{test_seq1}\")\n",
    "test_s2 = np.array([1,0,0,0,1])\n",
    "test_c2 = np.array([1,1,0,0,1])\n",
    "test_lfsr2 = LFSR(test_s2, test_c2)\n",
    "test_seq2 = np.array([test_lfsr2.next() for _ in range(20)])\n",
    "print(f\"Test sequence 2:{test_seq2}\")\n"
   ]
  },
  {
   "cell_type": "markdown",
   "id": "edf21240",
   "metadata": {},
   "source": [
    "### 2. Sequence generation"
   ]
  },
  {
   "cell_type": "code",
   "execution_count": 20,
   "id": "1531dbd0",
   "metadata": {},
   "outputs": [],
   "source": [
    "s1 = np.array([1,1,1,1,1,1])\n",
    "c1 = np.array([1,0,0,0,0,1])\n",
    "lfsr_1 = LFSR(s1, c1)\n",
    "a1000 = lfsr_1.next_n(1000)\n",
    "\n",
    "s2 = np.array([1,0,0,1,1,1])\n",
    "c2 = np.array([1,0,0,1,1,0])\n",
    "lfsr_2 = LFSR(s2, c2)\n",
    "b1000 = lfsr_2.next_n(1000)\n",
    "\n",
    "s3 = np.array([1,0,0,0,0,0])\n",
    "c3 = np.array([0,0,0,0,1,0])\n",
    "lfsr_3 = LFSR(s3, c3)\n",
    "c1000 = lfsr_3.next_n(1000)"
   ]
  },
  {
   "cell_type": "markdown",
   "id": "efa85373",
   "metadata": {},
   "source": [
    "### 3. NIST test for RNGs"
   ]
  },
  {
   "cell_type": "code",
   "execution_count": 45,
   "id": "3b1844da",
   "metadata": {},
   "outputs": [
    {
     "name": "stdout",
     "output_type": "stream",
     "text": [
      "Testing sequence: 1\n",
      "Frequency Test:             True, p-value: 0.48661604576405054\n",
      "Frequency within a block:   True, p-value: 0.08452672009769412\n",
      "Runs:                       True, p-value: 0.5169366858432001\n",
      "Sequence 1 is random.\n",
      "\n",
      "Testing sequence: 2\n",
      "Frequency Test:             True, p-value: 0.9495709711511051\n",
      "Frequency within a block:   False, p-value: 3.04279258146972e-100\n",
      "Runs:                       True, p-value: 0.999899074295685\n",
      "Sequence 2 is not random.\n",
      "\n",
      "Testing sequence: 3\n",
      "Frequency Test:             False, p-value: 8.435768358353881e-81\n",
      "Frequency within a block:   True, p-value: 1.0\n",
      "Runs:                       False, p-value: 0.0\n",
      "Sequence 3 is not random.\n",
      "\n"
     ]
    }
   ],
   "source": [
    "import math\n",
    "from scipy.special import gammainc\n",
    "from typing import Tuple\n",
    "\n",
    "# Test 1: Frequencia (Monobit)\n",
    "def rng_test_1(seq: np.ndarray) -> Tuple[bool, float]:\n",
    "    total_bits = len(seq)\n",
    "    num_ones = sum(seq)\n",
    "    s_obs = abs(2 * num_ones - total_bits) / math.sqrt(total_bits)\n",
    "\n",
    "    p_value = math.erfc(s_obs / math.sqrt(2))\n",
    "    return p_value >= 0.01, p_value\n",
    "\n",
    "# Test 2: Frequencia blocs\n",
    "def rng_test_2(seq: np.ndarray, m: int = 10) -> Tuple[bool, float]:\n",
    "    total_bits = len(seq)\n",
    "    num_blocks = total_bits // m\n",
    "    seq = seq[:num_blocks * m]\n",
    "    blocks = seq.reshape((num_blocks, m))\n",
    "    proportions = np.mean(blocks, axis=1)\n",
    "    x_obs = 4 * m * sum((proportions - 0.5) ** 2)\n",
    "\n",
    "    p_value = float(gammainc(num_blocks / 2, x_obs / 2))\n",
    "    return p_value >= 0.01, p_value\n",
    "\n",
    "# Test 3: Runs (rachas)\n",
    "def rng_test_3(seq: np.ndarray) -> Tuple[bool, float]:\n",
    "    total_bits = len(seq)\n",
    "    pi = sum(seq) / total_bits\n",
    "\n",
    "    if abs(pi - 0.5) > 0.25:\n",
    "        return False, 0.0\n",
    "\n",
    "    v_obs = 1\n",
    "    for i in range(1, total_bits):\n",
    "        if seq[i] != seq[i - 1]:\n",
    "            v_obs += 1\n",
    "\n",
    "    num = abs(v_obs - (2 * total_bits * pi * (1 - pi)))\n",
    "    den = 2 * math.sqrt(2 * total_bits) * pi * (1 - pi)\n",
    "    p_value = math.erfc(num / den)\n",
    "\n",
    "    return p_value >= 0.01, p_value\n",
    "\n",
    "for i, sequence in enumerate([a1000, b1000, c1000]):\n",
    "    test_1 = rng_test_1(sequence)\n",
    "    test_2 = rng_test_2(sequence, m=10)\n",
    "    test_3 = rng_test_3(sequence)\n",
    "\n",
    "    print(f\"Testing sequence: {i+1}\")\n",
    "    print(f\"Frequency Test:             {test_1[0]}, p-value: {test_1[1]}\")\n",
    "    print(f\"Frequency within a block:   {test_2[0]}, p-value: {test_2[1]}\")\n",
    "    print(f\"Runs:                       {test_3[0]}, p-value: {test_3[1]}\")\n",
    "\n",
    "    if test_1[0] and test_2[0] and test_3[0]:\n",
    "        print(f\"Sequence {i+1} is random.\\n\")\n",
    "    else:\n",
    "        print(f\"Sequence {i+1} is not random.\\n\")"
   ]
  }
 ],
 "metadata": {
  "kernelspec": {
   "display_name": "Python 3",
   "language": "python",
   "name": "python3"
  },
  "language_info": {
   "codemirror_mode": {
    "name": "ipython",
    "version": 3
   },
   "file_extension": ".py",
   "mimetype": "text/x-python",
   "name": "python",
   "nbconvert_exporter": "python",
   "pygments_lexer": "ipython3",
   "version": "3.13.0"
  }
 },
 "nbformat": 4,
 "nbformat_minor": 5
}
