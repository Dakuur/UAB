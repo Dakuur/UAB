{
 "cells": [
  {
   "cell_type": "markdown",
   "metadata": {},
   "source": [
    "- **Nom**: David Morillo Massagué\n",
    "- **NIU**: 1666540"
   ]
  },
  {
   "cell_type": "markdown",
   "metadata": {},
   "source": [
    "### 1. We have an encrypted message “VRBXQSHSLQLOOR”, which has been encrypted using a simple substitution (mono-alphabetic) cipher, as ci = mi + k (mod n) with an unkown k and n = 26"
   ]
  },
  {
   "cell_type": "code",
   "execution_count": 61,
   "metadata": {},
   "outputs": [
    {
     "name": "stdout",
     "output_type": "stream",
     "text": [
      "Encrypted text: SURYDFHVDU123\n",
      "Decrypted text: PROVACESAR123\n"
     ]
    }
   ],
   "source": [
    "alphabet = \"ABCDEFGHIJKLMNOPQRSTUVWXYZ\"\n",
    "\n",
    "def encrypt(text: str, key: int) -> str:\n",
    "    text.upper()\n",
    "    encrypted = \"\"\n",
    "    for i in range(len(text)):\n",
    "        if text[i] in alphabet:\n",
    "            encrypted += alphabet[(alphabet.index(text[i]) + key) % 26]\n",
    "        else:\n",
    "            encrypted += text[i]\n",
    "    return encrypted\n",
    "\n",
    "def decrypt(text: str, key: int) -> str:\n",
    "    text.upper()\n",
    "    decrypted = \"\"\n",
    "    for i in range(len(text)):\n",
    "        if text[i] in alphabet:\n",
    "            decrypted += alphabet[(alphabet.index(text[i]) - key) % 26]\n",
    "        else:\n",
    "            decrypted += text[i]\n",
    "    return decrypted\n",
    "\n",
    "text = \"PROVACESAR123\"\n",
    "key = 3\n",
    "encrypted = encrypt(text, key)\n",
    "decrypted = decrypt(encrypted, key)\n",
    "print(f\"Encrypted text: {encrypted}\")\n",
    "print(f\"Decrypted text: {decrypted}\")"
   ]
  },
  {
   "cell_type": "code",
   "execution_count": 62,
   "metadata": {},
   "outputs": [
    {
     "name": "stdout",
     "output_type": "stream",
     "text": [
      "Key: 0 -> VRBXQSHSLQLOOR\n",
      "Key: 1 -> UQAWPRGRKPKNNQ\n",
      "Key: 2 -> TPZVOQFQJOJMMP\n",
      "Key: 3 -> SOYUNPEPINILLO\n",
      "Key: 4 -> RNXTMODOHMHKKN\n",
      "Key: 5 -> QMWSLNCNGLGJJM\n",
      "Key: 6 -> PLVRKMBMFKFIIL\n",
      "Key: 7 -> OKUQJLALEJEHHK\n",
      "Key: 8 -> NJTPIKZKDIDGGJ\n",
      "Key: 9 -> MISOHJYJCHCFFI\n",
      "Key: 10 -> LHRNGIXIBGBEEH\n",
      "Key: 11 -> KGQMFHWHAFADDG\n",
      "Key: 12 -> JFPLEGVGZEZCCF\n",
      "Key: 13 -> IEOKDFUFYDYBBE\n",
      "Key: 14 -> HDNJCETEXCXAAD\n",
      "Key: 15 -> GCMIBDSDWBWZZC\n",
      "Key: 16 -> FBLHACRCVAVYYB\n",
      "Key: 17 -> EAKGZBQBUZUXXA\n",
      "Key: 18 -> DZJFYAPATYTWWZ\n",
      "Key: 19 -> CYIEXZOZSXSVVY\n",
      "Key: 20 -> BXHDWYNYRWRUUX\n",
      "Key: 21 -> AWGCVXMXQVQTTW\n",
      "Key: 22 -> ZVFBUWLWPUPSSV\n",
      "Key: 23 -> YUEATVKVOTORRU\n",
      "Key: 24 -> XTDZSUJUNSNQQT\n",
      "Key: 25 -> WSCYRTITMRMPPS\n",
      "\n",
      "Prova encriptació amb clau correcta (3)\n",
      "VRBXQSHSLQLOOR\n"
     ]
    }
   ],
   "source": [
    "c = \"VRBXQSHSLQLOOR\"\n",
    "for k in range(26):\n",
    "    print(f\"Key: {k} -> {decrypt(c, k)}\")\n",
    "\n",
    "print(\"\\nProva encriptació amb clau correcta (3)\")\n",
    "print(encrypt(\"SOYUNPEPINILLO\", 3))"
   ]
  },
  {
   "cell_type": "markdown",
   "metadata": {},
   "source": [
    "Comprovem, per cada key (k) de 0 a 25, quin és el missatge desxifrat. Veiem que amb key = 3, el missatge desxifrat és \"SOYUNPEPINILLO\". Provem a xifrar el missatge amb k=3 per a comprovar que és correcte.\n",
    "\n",
    "**Resposta**: ha estat xifrat amb k=3."
   ]
  },
  {
   "cell_type": "markdown",
   "metadata": {},
   "source": [
    "### 2. If now the encrypted message is “EHFJEQZHEKTPEXH”, use the same program to find the worst time to find the original message. Can we find the k used? Is this cryptographic method secure?"
   ]
  },
  {
   "cell_type": "code",
   "execution_count": 63,
   "metadata": {},
   "outputs": [
    {
     "name": "stdout",
     "output_type": "stream",
     "text": [
      "Key: 0 -> EHFJEQZHEKTPEXH\n",
      "Key: 1 -> DGEIDPYGDJSODWG\n",
      "Key: 2 -> CFDHCOXFCIRNCVF\n",
      "Key: 3 -> BECGBNWEBHQMBUE\n",
      "Key: 4 -> ADBFAMVDAGPLATD\n",
      "Key: 5 -> ZCAEZLUCZFOKZSC\n",
      "Key: 6 -> YBZDYKTBYENJYRB\n",
      "Key: 7 -> XAYCXJSAXDMIXQA\n",
      "Key: 8 -> WZXBWIRZWCLHWPZ\n",
      "Key: 9 -> VYWAVHQYVBKGVOY\n",
      "Key: 10 -> UXVZUGPXUAJFUNX\n",
      "Key: 11 -> TWUYTFOWTZIETMW\n",
      "Key: 12 -> SVTXSENVSYHDSLV\n",
      "Key: 13 -> RUSWRDMURXGCRKU\n",
      "Key: 14 -> QTRVQCLTQWFBQJT\n",
      "Key: 15 -> PSQUPBKSPVEAPIS\n",
      "Key: 16 -> ORPTOAJROUDZOHR\n",
      "Key: 17 -> NQOSNZIQNTCYNGQ\n",
      "Key: 18 -> MPNRMYHPMSBXMFP\n",
      "Key: 19 -> LOMQLXGOLRAWLEO\n",
      "Key: 20 -> KNLPKWFNKQZVKDN\n",
      "Key: 21 -> JMKOJVEMJPYUJCM\n",
      "Key: 22 -> ILJNIUDLIOXTIBL\n",
      "Key: 23 -> HKIMHTCKHNWSHAK\n",
      "Key: 24 -> GJHLGSBJGMVRGZJ\n",
      "Key: 25 -> FIGKFRAIFLUQFYI\n"
     ]
    }
   ],
   "source": [
    "c = \"EHFJEQZHEKTPEXH\"\n",
    "\n",
    "for k in range(26):\n",
    "    print(f\"Key: {k} -> {decrypt(c, k)}\")"
   ]
  },
  {
   "cell_type": "markdown",
   "metadata": {},
   "source": [
    "Fent servir el mateix alfabet i iterant per cada key (k) de 0 a 25, no trobem un missatge desxifrat que tingui sentit. Si s'ha xifrat amb el mateix mètode, segurament s'ha fet servir un alfabet diferent. Així doncs, no podem trobar la key usada fins iterar per tots els alfabets possibles. Això fa que el mètode sigui segur, ja que no podem trobar la key usada tan fàcilment."
   ]
  },
  {
   "cell_type": "markdown",
   "metadata": {},
   "source": [
    "### 3. Supose that we have a cleartext where the relative frequency of the symbol “a” is 0.1. We also know that the digram “ny” appears with a frequency of 0.02.\n",
    "- **(a) If we use a transposition cipher, will the letter “a” and the digram “ny” keep the same frequency\n",
    "in the ciphertext?** Sí, els xifrats basats en transposició només alteren l'ordre dels caràcters, però no la seva identitat. Per tant, la freqüència de \"a\" es mantindrà igual. Quant al dígraf \"ny\", la seva freqüència global també es mantindrà, però és possible que els seus components quedin separats a causa de la reordenació.\n",
    "\n",
    "- **(b) What happens if we use a simple or monoaphabetic substitution? Will the substituted symbols\n",
    "keep the same frequency in both cases?** Sí, en aquest cas, cada lletra es reemplaça per un altre símbol fix, de manera que el nou símbol que substitueixi \"a\" tindrà exactament la mateixa freqüència que tenia \"a\" originalment. De la mateixa manera, el dígraf \"ny\" serà substituït per un altre parell de símbols, que mantindrà la mateixa freqüència que tenia \"ny\" en el text original. Això fa que els xifrats per substitució monoalfabètica siguin vulnerables a l'anàlisi de freqüència."
   ]
  },
  {
   "cell_type": "markdown",
   "metadata": {},
   "source": [
    "### 4. The Vigenère method is a polyalphabetic substituion cipher with a variable length key.\n",
    "\n",
    "- We consider the key of length r as k = (k0, k1, . . . , kr−1)\n",
    "- If the message M is greater than r, then the message is divided into blocks of size r. Given a\n",
    "block of r symbols: m0, m1, . . . , mr−1, each symbol is encrypted as: ci = mi + ki (mod n) for\n",
    "0 ≤ i ≤ r − 1, and n is the size of the alphabet.\n",
    "\n",
    "Using the Vigenère cipher with the alphabet of size n = 26:\n",
    "\n",
    "- **(a) If n = 26 and r = 5, what is the size of the key space?** Per definició, el nombre de claus possibles és n^r, on n és la mida de l'alfabet i r és la longitud de la clau. En aquest cas, n = 26 i r = 5, de manera que el nombre de claus possibles és 26^5 = 11.881.376.\n",
    "- **(b) Encrypt the message “VOLANDO VOY VOLANDO VENGO” (without spaces) with the key “CAMARON” using the Vigenère cipher and the previous alphabet of size n = 26.**"
   ]
  },
  {
   "cell_type": "code",
   "execution_count": 64,
   "metadata": {},
   "outputs": [
    {
     "name": "stdout",
     "output_type": "stream",
     "text": [
      "Encrypted text: XOXAERBXOKVFZNPDAVVBTQ\n",
      "Decrypted text: VOLANDOVOYVOLANDOVENGO\n"
     ]
    }
   ],
   "source": [
    "m = \"VOLANDOVOYVOLANDOVENGO\"\n",
    "k = \"CAMARON\"\n",
    "\n",
    "alphabet = \"ABCDEFGHIJKLMNOPQRSTUVWXYZ\"\n",
    "\n",
    "def vigenere(text: str, key: str) -> str:\n",
    "    text = text.upper()\n",
    "    key = key.upper()\n",
    "    encrypted = \"\"\n",
    "    key_length = len(key)\n",
    "    \n",
    "    for i in range(len(text)):\n",
    "        if text[i] in alphabet:\n",
    "            text_index = alphabet.index(text[i])\n",
    "            key_index = alphabet.index(key[i % key_length])\n",
    "            encrypted_index = (text_index + key_index) % 26\n",
    "            encrypted += alphabet[encrypted_index]\n",
    "        else:\n",
    "            encrypted += text[i]\n",
    "    \n",
    "    return encrypted\n",
    "\n",
    "def devigenere(text: str, key: str) -> str:\n",
    "    text = text.upper()\n",
    "    key = key.upper()\n",
    "    decrypted = \"\"\n",
    "    key_length = len(key)\n",
    "    \n",
    "    for i in range(len(text)):\n",
    "        if text[i] in alphabet:\n",
    "            text_index = alphabet.index(text[i])\n",
    "            key_index = alphabet.index(key[i % key_length])\n",
    "            decrypted_index = (text_index - key_index) % 26\n",
    "            decrypted += alphabet[decrypted_index]\n",
    "        else:\n",
    "            decrypted += text[i]\n",
    "    \n",
    "    return decrypted\n",
    "\n",
    "encrypted = vigenere(m, k)\n",
    "decrypted = devigenere(encrypted, k)\n",
    "print(f\"Encrypted text: {encrypted}\")\n",
    "print(f\"Decrypted text: {decrypted}\")"
   ]
  },
  {
   "cell_type": "markdown",
   "metadata": {},
   "source": [
    "- **(c) We know that the cleartext “COMELVALLESNOHIHARES” has been encrypted as the ciphertext “OCXEXJLLXSDNAVTHMFPS”. We also know that the key length is r = 4. Can you find the key?**"
   ]
  },
  {
   "cell_type": "code",
   "execution_count": 65,
   "metadata": {},
   "outputs": [
    {
     "name": "stdout",
     "output_type": "stream",
     "text": [
      "Key: MOLA\n",
      "Decrypted text: COMELVALLESNOHIHARES\n"
     ]
    }
   ],
   "source": [
    "m = \"COMELVALLESNOHIHARES\"\n",
    "c = \"OCXEXJLLXSDNAVTHMFPS\"\n",
    "\n",
    "distances = []\n",
    "\n",
    "for i in range(4):\n",
    "    dist = alphabet.index(c[i]) - alphabet.index(m[i])\n",
    "    if dist < 0:\n",
    "        dist += 26\n",
    "    distances.append(dist)\n",
    "\n",
    "key = \"\".join([alphabet[d] for d in distances])\n",
    "\n",
    "print(f\"Key: {key}\")\n",
    "\n",
    "print(f\"Decrypted text: {devigenere(c, key)}\")"
   ]
  },
  {
   "cell_type": "markdown",
   "metadata": {},
   "source": [
    "### 5. Hill cipher:\n",
    "\n",
    "As an example, we have the alphabet with 26 symbols, so n = 26 and the key:\n",
    "K = [[2 18 3]\n",
    "    [5 7 11]\n",
    "    [9 14 20]]\n",
    "\n",
    "- **(a) Encrypt the message “BARCELONA” using the Hill cipher with the same key K as the previous example.**"
   ]
  },
  {
   "cell_type": "code",
   "execution_count": 66,
   "metadata": {},
   "outputs": [
    {
     "name": "stdout",
     "output_type": "stream",
     "text": [
      "Matriu del missatge (m_matrix):\n",
      "[[ 1  0 17]\n",
      " [ 2  4 11]\n",
      " [14 13  0]]\n",
      "\n",
      "Clau (key):\n",
      "[[ 2 18  3]\n",
      " [ 5  7 11]\n",
      " [ 9 14 20]]\n",
      "\n",
      "Multiplicació de matrius per encriptar (m_matrix * key.T):\n",
      "[[ 1 10 11]\n",
      " [ 5  3  8]\n",
      " [ 2  5 22]]\n",
      "\n",
      "Text encriptat: BKLFDICFW\n",
      "\n",
      "Clau inversa (key_inv):\n",
      "[[12 20 21]\n",
      " [25 13 19]\n",
      " [ 7  4  2]]\n",
      "\n",
      "Multiplicació de matrius per desencriptar (c_matrix * key_inv.T):\n",
      "[[ 1  0 17]\n",
      " [ 2  4 11]\n",
      " [14 13  0]]\n",
      "\n",
      "Text desencriptat: BARCELONA\n"
     ]
    }
   ],
   "source": [
    "import numpy as np\n",
    "\n",
    "alphabet = \"ABCDEFGHIJKLMNOPQRSTUVWXYZ\"\n",
    "\n",
    "def str_to_matrix(text: str, n: int) -> np.array:\n",
    "    # Afegim padding al text per fer que la seva longitud sigui múltiple de n\n",
    "    while len(text) % n != 0:\n",
    "        text += 'X'  # Utilitzem 'X' com a caràcter de padding\n",
    "    return np.array([[alphabet.index(c) for c in text[i:i+n]] for i in range(0, len(text), n)])\n",
    "\n",
    "def matrix_to_str(matrix: np.array) -> str:\n",
    "    return \"\".join([alphabet[int(matrix[i][j]) % 26] for i in range(matrix.shape[0]) for j in range(matrix.shape[1])])\n",
    "\n",
    "m = \"BARCELONA\"\n",
    "key = np.array([[2, 18, 3], [5, 7, 11], [9, 14, 20]])\n",
    "\n",
    "# Comprovem k inversa:\n",
    "det = np.linalg.det(key)\n",
    "# det = -25 --> != 0 --> existeix inversa\n",
    "\n",
    "key_inv = np.linalg.inv(key) * det\n",
    "key_inv = np.round(key_inv).astype(int) % 26\n",
    "\n",
    "m_matrix = str_to_matrix(m, key.shape[0])\n",
    "\n",
    "print(f\"Matriu del missatge (m_matrix):\\n{m_matrix}\\n\")\n",
    "\n",
    "print(f\"Clau (key):\\n{key}\\n\")\n",
    "\n",
    "c_matrix = np.dot(m_matrix, key.T) % 26\n",
    "\n",
    "print(f\"Multiplicació de matrius per encriptar (m_matrix * key.T):\\n{c_matrix}\\n\")\n",
    "\n",
    "c = matrix_to_str(c_matrix)\n",
    "print(f\"Text encriptat: {c}\\n\")\n",
    "\n",
    "print(f\"Clau inversa (key_inv):\\n{key_inv}\\n\")\n",
    "\n",
    "m_matrix_decrypted = np.dot(c_matrix, key_inv.T) % 26\n",
    "\n",
    "print(f\"Multiplicació de matrius per desencriptar (c_matrix * key_inv.T):\\n{m_matrix_decrypted}\\n\")\n",
    "\n",
    "m_decrypted = matrix_to_str(m_matrix_decrypted)\n",
    "print(f\"Text desencriptat: {m_decrypted}\")\n"
   ]
  },
  {
   "cell_type": "markdown",
   "metadata": {},
   "source": [
    "- **(b) Using also the same key, can you decrypt the message “XELOEKSVVRQXAMQSZIEGCMGSULBYZYQDRKYEQKKUQEIEH”? (note: you need to compute K−1)**"
   ]
  },
  {
   "cell_type": "code",
   "execution_count": 67,
   "metadata": {},
   "outputs": [
    {
     "name": "stdout",
     "output_type": "stream",
     "text": [
      "Clau inversa (key_inv):\n",
      "[[12 20 21]\n",
      " [25 13 19]\n",
      " [ 7  4  2]]\n",
      "\n",
      "Multiplicació de matrius per desencriptar (c_matrix * key_inv.T):\n",
      "[[15  4 17]\n",
      " [16 20  4]\n",
      " [11  4 18]\n",
      " [19  4 21]\n",
      " [ 4 18  2]\n",
      " [ 0 17  8]\n",
      " [ 2  8  4]\n",
      " [18 18 14]\n",
      " [13 12  4]\n",
      " [18  3  4]\n",
      " [11  8  2]\n",
      " [ 8 14 18]\n",
      " [ 4 18 16]\n",
      " [20  4  4]\n",
      " [11 21  8]]\n",
      "\n",
      "Text desencriptat: PERQUELESTEVESCARICIESSONMESDELICIOSESQUEELVI\n"
     ]
    }
   ],
   "source": [
    "c = \"XELOEKSVVRQXAMQSZIEGCMGSULBYZYQDRKYEQKKUQEIEH\"\n",
    "c_matrix = str_to_matrix(c, key.shape[0])\n",
    "\n",
    "print(f\"Clau inversa (key_inv):\\n{key_inv}\\n\")\n",
    "\n",
    "m_matrix_decrypted = np.dot(c_matrix, key_inv.T) % 26\n",
    "\n",
    "print(f\"Multiplicació de matrius per desencriptar (c_matrix * key_inv.T):\\n{m_matrix_decrypted}\\n\")\n",
    "\n",
    "m_decrypted = matrix_to_str(m_matrix_decrypted)\n",
    "print(f\"Text desencriptat: {m_decrypted}\")"
   ]
  },
  {
   "cell_type": "markdown",
   "metadata": {},
   "source": [
    "**Text desencriptat (amb espais): \"PERQUE LES TEVES CARICIES SON MES DELICIOSES QUE EL VI\"**"
   ]
  },
  {
   "cell_type": "markdown",
   "metadata": {},
   "source": [
    "### 6. In a Hill cipher using matrices, Alice wants to use the key “POOL” while Bob wants to use “SWIM”. Who should we trust?"
   ]
  },
  {
   "cell_type": "code",
   "execution_count": 68,
   "metadata": {},
   "outputs": [
    {
     "name": "stdout",
     "output_type": "stream",
     "text": [
      "Clau 'POOL': \n",
      "[[15 14]\n",
      " [14 11]] --> det = 21, inversa = 5\n",
      "La clau 'POOL' és vàlida.\n",
      "\n",
      "Clau 'SWIM': \n",
      "[[18 22]\n",
      " [ 8 12]] --> det = 14, inversa = None\n",
      "La clau 'SWIM' no és vàlida.\n"
     ]
    }
   ],
   "source": [
    "import numpy as np\n",
    "\n",
    "def str_to_matrix(text: str, n: int) -> np.array:\n",
    "    return np.array([[alphabet.index(c) for c in text[i:i+n]] for i in range(0, len(text), n)])\n",
    "\n",
    "def mod_inverse(a, m):\n",
    "    # trobar inversa modular\n",
    "    for x in range(1, m):\n",
    "        if (a * x) % m == 1:\n",
    "            return x\n",
    "    return None\n",
    "\n",
    "key1 = \"POOL\"\n",
    "key2 = \"SWIM\"\n",
    "\n",
    "key1_matrix = str_to_matrix(key1, 2)\n",
    "key2_matrix = str_to_matrix(key2, 2)\n",
    "\n",
    "det1 = int(np.round(np.linalg.det(key1_matrix))) % 26\n",
    "det2 = int(np.round(np.linalg.det(key2_matrix))) % 26\n",
    "\n",
    "inv_det1 = mod_inverse(det1, 26)\n",
    "inv_det2 = mod_inverse(det2, 26)\n",
    "\n",
    "print(f\"Clau 'POOL': \\n{key1_matrix} --> det = {det1}, inversa = {inv_det1}\")\n",
    "\n",
    "if inv_det1 is not None:\n",
    "    print(\"La clau 'POOL' és vàlida.\")\n",
    "else:\n",
    "    print(\"La clau 'POOL' no és vàlida.\")\n",
    "\n",
    "print(f\"\\nClau 'SWIM': \\n{key2_matrix} --> det = {det2}, inversa = {inv_det2}\")\n",
    "\n",
    "if inv_det2 is not None:\n",
    "    print(\"La clau 'SWIM' és vàlida.\")\n",
    "else:\n",
    "    print(\"La clau 'SWIM' no és vàlida.\")"
   ]
  },
  {
   "cell_type": "markdown",
   "metadata": {},
   "source": [
    "Veiem que els determinants de la clau \"POOL\" i \"SWIM\" no són 0. Això no confirma que siguin claus vàlides, i per això hem de trobar la inversa modular de la matriu, és a dir, validar si, amb modul 26, la matriu és invertible. Si una matriu no és invertible, no es pot fer servir per a desxifrar. En aquest cas, la clau \"POOL\" és vàlida, mentre que la clau \"SWIM\" no ho és. Per tant, hem de confiar en **Alice**."
   ]
  }
 ],
 "metadata": {
  "kernelspec": {
   "display_name": "Python 3",
   "language": "python",
   "name": "python3"
  },
  "language_info": {
   "codemirror_mode": {
    "name": "ipython",
    "version": 3
   },
   "file_extension": ".py",
   "mimetype": "text/x-python",
   "name": "python",
   "nbconvert_exporter": "python",
   "pygments_lexer": "ipython3",
   "version": "3.13.0"
  }
 },
 "nbformat": 4,
 "nbformat_minor": 2
}
