{
 "cells": [
  {
   "cell_type": "code",
   "execution_count": 3,
   "id": "886fe33f",
   "metadata": {},
   "outputs": [],
   "source": [
    "from diagrams import Cluster, Diagram\n",
    "from diagrams.aws.network import VPC, PublicSubnet, PrivateSubnet, InternetGateway, NATGateway\n",
    "from diagrams.aws.compute import EC2\n",
    "from diagrams.aws.database import RDS\n",
    "from diagrams.aws.network import RouteTable\n",
    "\n",
    "with Diagram(\"AWS VPC Example\", show=False):\n",
    "    with Cluster(\"VPC\"):\n",
    "        igw = InternetGateway(\"Internet Gateway\")\n",
    "        nat = NATGateway(\"NAT Gateway\")\n",
    "        route_table = RouteTable(\"Route Table\")\n",
    "\n",
    "        with Cluster(\"Public Subnet\"):\n",
    "            public_subnet = PublicSubnet(\"Public Subnet\")\n",
    "            public_ec2 = EC2(\"Public EC2\")\n",
    "\n",
    "        with Cluster(\"Private Subnet\"):\n",
    "            private_subnet = PrivateSubnet(\"Private Subnet\")\n",
    "            private_ec2 = EC2(\"Private EC2\")\n",
    "            db = RDS(\"Database\")\n",
    "\n",
    "        igw >> route_table >> public_subnet >> public_ec2\n",
    "        nat >> route_table >> private_subnet >> private_ec2\n",
    "        private_ec2 >> db"
   ]
  },
  {
   "cell_type": "code",
   "execution_count": 3,
   "id": "011f0742",
   "metadata": {},
   "outputs": [],
   "source": [
    "from diagrams import Cluster, Diagram\n",
    "from diagrams.aws.network import VPC, PublicSubnet, PrivateSubnet, InternetGateway, NATGateway, RouteTable\n",
    "from diagrams.aws.compute import EC2\n",
    "from diagrams.aws.database import RDS\n",
    "#from diagrams.aws.security import SecurityGroup\n",
    "\n",
    "with Diagram(\"Arquitectura Física - Servei Web\", show=False):\n",
    "    with Cluster(\"VPC\"):\n",
    "        igw = InternetGateway(\"Internet Gateway\")\n",
    "        nat = NATGateway(\"NAT Gateway\")\n",
    "        route_table = RouteTable(\"Route Table\")\n",
    "\n",
    "        with Cluster(\"AZ1\"):\n",
    "            public_subnet = PublicSubnet(\"Public Subnet\")\n",
    "            web_server_1 = EC2(\"Web Server 1\")\n",
    "            web_server_2 = EC2(\"Web Server 2\")\n",
    "#            sg_web = SecurityGroup(\"Web SG (HTTP/HTTPS)\")\n",
    "\n",
    "        with Cluster(\"Private Subnet\"):\n",
    "            private_subnet = PrivateSubnet(\"Private Subnet\")\n",
    "            admin_server = EC2(\"Admin Server\")\n",
    "#            sg_admin = SecurityGroup(\"Admin SG (SSH)\")\n",
    "            db = RDS(\"Database\")\n",
    "\n",
    "        # Connections\n",
    "        igw >> route_table >> public_subnet >> [web_server_1, web_server_2]\n",
    "        nat >> route_table >> private_subnet >> admin_server\n",
    "        web_server_1 >> db\n",
    "        web_server_2 >> db\n",
    "        admin_server >> db"
   ]
  }
 ],
 "metadata": {
  "kernelspec": {
   "display_name": "Python 3",
   "language": "python",
   "name": "python3"
  },
  "language_info": {
   "codemirror_mode": {
    "name": "ipython",
    "version": 3
   },
   "file_extension": ".py",
   "mimetype": "text/x-python",
   "name": "python",
   "nbconvert_exporter": "python",
   "pygments_lexer": "ipython3",
   "version": "3.13.0"
  }
 },
 "nbformat": 4,
 "nbformat_minor": 5
}
