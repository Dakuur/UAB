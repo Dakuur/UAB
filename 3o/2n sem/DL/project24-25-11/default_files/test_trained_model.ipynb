{
 "cells": [
  {
   "metadata": {},
   "cell_type": "code",
   "outputs": [],
   "execution_count": null,
   "source": [
    "import onnx\n",
    "import os\n",
    "import wandb\n",
    "import onnxruntime as ort\n",
    "import numpy as np\n",
    "from utils.utils import *\n",
    "from test import test as evals\n"
   ],
   "id": "d9166a4e5f813bff"
  },
  {
   "metadata": {},
   "cell_type": "markdown",
   "source": "## Loading the model",
   "id": "3688da7ef881f700"
  },
  {
   "metadata": {},
   "cell_type": "code",
   "outputs": [],
   "execution_count": null,
   "source": [
    "\n",
    "model = onnx.load(os.getcwd()+\"/model.onnx\")\n",
    "(onnx.checker.check_model(model))"
   ],
   "id": "cf8032d8d6bea27"
  },
  {
   "metadata": {},
   "cell_type": "markdown",
   "source": "## See how the model is saved",
   "id": "5e9931ec06a3d89"
  },
  {
   "metadata": {},
   "cell_type": "code",
   "outputs": [],
   "execution_count": null,
   "source": "print(model)",
   "id": "f2b5431d64f4b364"
  },
  {
   "metadata": {},
   "cell_type": "markdown",
   "source": "## Recover Data as we had in the training to get the test",
   "id": "a85c01b6ee47f4b8"
  },
  {
   "metadata": {},
   "cell_type": "code",
   "outputs": [],
   "execution_count": null,
   "source": [
    "train, test = get_data(train=True), get_data(train=False)\n",
    "test_loader = make_loader(test, batch_size=128)"
   ],
   "id": "1c374efab4ce3427"
  },
  {
   "metadata": {},
   "cell_type": "markdown",
   "source": "## Using  the functionalitis fof the onnx",
   "id": "f8a2840929b9ece9"
  },
  {
   "metadata": {},
   "cell_type": "code",
   "outputs": [],
   "execution_count": null,
   "source": "print(test_loader.dataset.dataset.data.float().unsqueeze(0).numpy().shape)",
   "id": "df6a177ce4a4c42b"
  },
  {
   "metadata": {},
   "cell_type": "code",
   "outputs": [],
   "execution_count": null,
   "source": [
    "ort_sess = ort.InferenceSession(os.getcwd()+\"/model.onnx\")\n",
    "ort_input = {ort_sess.get_inputs()[0].name: test_loader.dataset.dataset.data.float().unsqueeze(1).numpy()} # The unsqueeze because the session is expecting a batch dimension\n",
    "\n",
    "# Making the run session\n",
    "outputs = ort_sess.run(None, ort_input)[-1]\n",
    "predicted, actual = outputs.argmax(1), test_loader.dataset.dataset.targets.numpy()\n"
   ],
   "id": "8b7b3ae59c5aff33"
  },
  {
   "metadata": {},
   "cell_type": "code",
   "outputs": [],
   "execution_count": null,
   "source": "print(\"The accuracy is: \",np.sum(predicted == actual)/actual.shape[0])\n",
   "id": "330f74e8e4e6a1b4"
  },
  {
   "metadata": {},
   "cell_type": "code",
   "outputs": [],
   "execution_count": null,
   "source": "",
   "id": "2f289f37cd36e6a4"
  }
 ],
 "metadata": {},
 "nbformat": 4,
 "nbformat_minor": 5
}
