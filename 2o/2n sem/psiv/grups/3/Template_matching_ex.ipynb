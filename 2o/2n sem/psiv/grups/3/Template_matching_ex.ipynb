{
  "cells": [
    {
      "attachments": {},
      "cell_type": "markdown",
      "metadata": {
        "id": "J4vgQB7R7YdG"
      },
      "source": [
        "# Template Matching  "
      ]
    },
    {
      "cell_type": "markdown",
      "metadata": {
        "id": "h27omwbf4pAZ"
      },
      "source": [
        "## Introducció al Template Matching\n",
        "El Template Matching és una tècnica de processament d'imatges utilitzada per trobar una subimatge (o \"template\") dins d'una imatge més gran. Aquesta tècnica és àmpliament utilitzada en visió per computador per a tasques com el reconeixement d'objectes, el seguiment d'objectes, la detecció de patrons, etc.\n",
        "\n",
        "El principi darrere del template matching és comparar una regió de la imatge d'entrada amb una plantilla de dimensions conegudes, llavors es calcula una mètrica de similitud entre aquesta regió i la plantilla. Aquesta mètrica es fa servir per trobar la posició a la qual la plantilla coincideix millor amb la imatge d'entrada.\n"
      ]
    },
    {
      "cell_type": "markdown",
      "metadata": {
        "id": "ZOiWfqu74wet"
      },
      "source": [
        "## Enunciat de l'Exercici  \n",
        "\n",
        "S'ha proporcionat un codi en Python que implementa una part del template matching. Es demana que implementin la funció sum_of_squared_differences per calcular la diferència de quadrats sumats entre la imatge i la plantilla.\n",
        "\n",
        "A més, s'inclouen conjunts d'imatges (mainimage i template) dins de l'arxiu .zip proporcionat. Aquests conjunts d'imatges es poden utilitzar per provar la funció implementada i verificar-ne el funcionament correcte."
      ]
    },
    {
      "cell_type": "markdown",
      "metadata": {
        "id": "3o5Nh1Tc7zZE"
      },
      "source": [
        "## Codi\n",
        "\n",
        "Proporcionem la següent funció per representar gràficament els vostres resultats"
      ]
    },
    {
      "cell_type": "code",
      "execution_count": 1,
      "metadata": {},
      "outputs": [],
      "source": [
        "import cv2\n",
        "import numpy as np\n",
        "import matplotlib.pyplot as plt\n",
        "\n",
        "def plot_image(main_puzzle,top_left,bottom_right):\n",
        "  region_of_interest = main_puzzle[top_left[1] : bottom_right[1], top_left[0] : bottom_right[0]]\n",
        "  mask = np.zeros(main_puzzle.shape, dtype = \"uint8\")\n",
        "  image_main = cv2.addWeighted(main_puzzle, 0.3, mask, 0.7, 0)\n",
        "  image_main[top_left[1] : bottom_right[1], top_left[0] : bottom_right[0]] = region_of_interest\n",
        "  final_result = cv2.cvtColor(image_main, cv2.COLOR_RGB2BGR)\n",
        "  cv2.rectangle(final_result, top_left, bottom_right, (0, 255, 0), 4)\n",
        "  return final_result"
      ]
    },
    {
      "cell_type": "markdown",
      "metadata": {
        "id": "IYBFgc6O4rlU"
      },
      "source": [
        "### Implementació de la Funció 'sum_of_squared_differences'\n",
        "La funció sum_of_squared_differences rep dues imatges en escala de grisos, la imatge principal (image) i la plantilla (template). Calcula la diferència de quadrats sumats (SSD) entre la regió de la imatge i la plantilla per a cada posició possible dins de la imatge principal.\n",
        "\n",
        "Per implementar aquesta funció, es realitza el següent procediment:\n",
        "\n",
        "1. Es converteixen les imatges a tipus de dades de punt flotant per permetre operacions aritmètiques precises.\n",
        "\n",
        "\n",
        "\n",
        "\n",
        "2. Es calcula la mida de les imatges d'entrada i de la plantilla.\n",
        "3. Es crea una matriu R de la mateixa mida que la imatge principal amb tots els valors a infinit per emmagatzemar els resultats de SSD per a cada posició possible.\n",
        "4. S'itera sobre totes les posicions possibles de la plantilla dins de la imatge principal.\n",
        "5. Per a cada posició, es calcula la SSD entre la regió de la imatge i la plantilla.\n",
        "6. El resultat SSD es guarda a la posició corresponent a la matriu R.\n",
        "7. Es retorna la matriu R amb els resultats SSD."
      ]
    },
    {
      "cell_type": "code",
      "execution_count": 2,
      "metadata": {},
      "outputs": [
        {
          "ename": "TypeError",
          "evalue": "bad operand type for unary -: 'NoneType'",
          "output_type": "error",
          "traceback": [
            "\u001b[1;31m---------------------------------------------------------------------------\u001b[0m",
            "\u001b[1;31mTypeError\u001b[0m                                 Traceback (most recent call last)",
            "Cell \u001b[1;32mIn[2], line 21\u001b[0m\n\u001b[0;32m     18\u001b[0m gray_main1 \u001b[38;5;241m=\u001b[39m cv2\u001b[38;5;241m.\u001b[39mcvtColor(main\u001b[38;5;241m.\u001b[39mcopy(), cv2\u001b[38;5;241m.\u001b[39mCOLOR_BGR2GRAY)\n\u001b[0;32m     19\u001b[0m gray_template_p1 \u001b[38;5;241m=\u001b[39m cv2\u001b[38;5;241m.\u001b[39mcvtColor(template\u001b[38;5;241m.\u001b[39mcopy(), cv2\u001b[38;5;241m.\u001b[39mCOLOR_BGR2GRAY)\n\u001b[1;32m---> 21\u001b[0m R,  top_left, bottom_right \u001b[38;5;241m=\u001b[39m \u001b[43mtemplate_matching\u001b[49m\u001b[43m(\u001b[49m\u001b[43mgray_main1\u001b[49m\u001b[43m,\u001b[49m\u001b[43mgray_template_p1\u001b[49m\u001b[43m)\u001b[49m\n\u001b[0;32m     22\u001b[0m result \u001b[38;5;241m=\u001b[39m plot_image(main,top_left,bottom_right)\n\u001b[0;32m     23\u001b[0m plt\u001b[38;5;241m.\u001b[39mfigure(figsize \u001b[38;5;241m=\u001b[39m (\u001b[38;5;241m15\u001b[39m, \u001b[38;5;241m15\u001b[39m))\n",
            "Cell \u001b[1;32mIn[2], line 8\u001b[0m, in \u001b[0;36mtemplate_matching\u001b[1;34m(image, template)\u001b[0m\n\u001b[0;32m      6\u001b[0m \u001b[38;5;28;01mdef\u001b[39;00m \u001b[38;5;21mtemplate_matching\u001b[39m(image, template):\n\u001b[0;32m      7\u001b[0m     R \u001b[38;5;241m=\u001b[39m sum_of_squared_differences(image, template)\n\u001b[1;32m----> 8\u001b[0m     _, _, min_loc, max_loc \u001b[38;5;241m=\u001b[39m cv2\u001b[38;5;241m.\u001b[39mminMaxLoc(\u001b[38;5;241;43m-\u001b[39;49m\u001b[43mR\u001b[49m)\n\u001b[0;32m      9\u001b[0m     top_left \u001b[38;5;241m=\u001b[39m max_loc\n\u001b[0;32m     10\u001b[0m     h,w \u001b[38;5;241m=\u001b[39m template\u001b[38;5;241m.\u001b[39mshape\n",
            "\u001b[1;31mTypeError\u001b[0m: bad operand type for unary -: 'NoneType'"
          ]
        }
      ],
      "source": [
        "def sum_of_squared_differences(image, template):\n",
        "    I, T = image.astype('float'), template.astype('float')\n",
        "    # OMPLIR\n",
        "\n",
        "\n",
        "def template_matching(image, template):\n",
        "    R = sum_of_squared_differences(image, template)\n",
        "    _, _, min_loc, max_loc = cv2.minMaxLoc(-R)\n",
        "    top_left = max_loc\n",
        "    h,w = template.shape\n",
        "    bottom_right = (top_left[0] + w, top_left[1] + h)\n",
        "    return R, top_left,bottom_right\n",
        "\n",
        "\n",
        "main = cv2.imread('mainimage2.jpg')\n",
        "template = cv2.imread('template2.jpg')\n",
        "\n",
        "gray_main1 = cv2.cvtColor(main.copy(), cv2.COLOR_BGR2GRAY)\n",
        "gray_template_p1 = cv2.cvtColor(template.copy(), cv2.COLOR_BGR2GRAY)\n",
        "\n",
        "R,  top_left, bottom_right = template_matching(gray_main1,gray_template_p1)\n",
        "result = plot_image(main,top_left,bottom_right)\n",
        "plt.figure(figsize = (15, 15))\n",
        "plt.axis('off')\n",
        "plt.imshow(result)"
      ]
    }
  ],
  "metadata": {
    "colab": {
      "collapsed_sections": [],
      "provenance": []
    },
    "kernelspec": {
      "display_name": "Python 3",
      "name": "python3"
    },
    "language_info": {
      "codemirror_mode": {
        "name": "ipython",
        "version": 3
      },
      "file_extension": ".py",
      "mimetype": "text/x-python",
      "name": "python",
      "nbconvert_exporter": "python",
      "pygments_lexer": "ipython3",
      "version": "3.12.0"
    }
  },
  "nbformat": 4,
  "nbformat_minor": 0
}
