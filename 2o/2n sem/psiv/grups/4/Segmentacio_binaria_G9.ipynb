{
 "cells": [
  {
   "cell_type": "code",
   "execution_count": 1,
   "metadata": {
    "id": "u85Kyky2mOxD"
   },
   "outputs": [],
   "source": [
    "NIU= '1676127', '1665817', '1666540', '1674234'\n",
    "GRUP='09'"
   ]
  },
  {
   "cell_type": "markdown",
   "metadata": {
    "id": "2eNtaO0wl4DV"
   },
   "source": [
    "Assignatura: Processament de Senyal, Imatge i Vídeo 2023-24\n",
    "\n",
    "Grau: Enginyeria de Dades\n",
    "\n",
    "Contingut: SEGMENTACIÓ D'IMATGES BINARIES\n",
    "\n",
    "Descripció de l'activitat: Aquest notebook proporciona un exemple pas a pas per fer la segmentació d'imatges binàries utilitzant l'anàlisi de components connectats."
   ]
  },
  {
   "cell_type": "markdown",
   "metadata": {
    "id": "6PE8-f5dmWnt"
   },
   "source": [
    "Primer pas es carrregar les llibreries"
   ]
  },
  {
   "cell_type": "code",
   "execution_count": 2,
   "metadata": {
    "id": "uuhWiRsQmWCR"
   },
   "outputs": [],
   "source": [
    "import numpy as np\n",
    "import cv2\n",
    "import matplotlib.pyplot as plt"
   ]
  },
  {
   "cell_type": "markdown",
   "metadata": {
    "id": "2mUpH69AIEG0"
   },
   "source": [
    "## Tarea 1: Cargar y Binarizar la Imagen\n",
    "\n",
    "**Instrucciones:**\n",
    "- Carga la imagen \"imatge.png\" utilizando OpenCV.\n",
    "- Convierte esta imagen a escala de grises.\n",
    "- Aplica un umbral para binarizar la imagen. (en este caso negro = 0, blanco = 255 para que poder visualizarlo bien). El threshold lo teneis que pensar vosotros, depende de la imagen en escala de grises resultante (se recomienda visualizarla).\n",
    "- Muestra la imagen resultante."
   ]
  },
  {
   "cell_type": "code",
   "execution_count": 28,
   "metadata": {
    "colab": {
     "base_uri": "https://localhost:8080/",
     "height": 418
    },
    "id": "ohd6YyXAHhpk",
    "outputId": "2debfd79-1ddc-482d-dc90-c0aea072c93f"
   },
   "outputs": [
    {
     "data": {
      "image/png": "[encoded data removed]",
      "text/plain": [
       "<Figure size 432x288 with 1 Axes>"
      ]
     },
     "metadata": {
      "needs_background": "light"
     },
     "output_type": "display_data"
    }
   ],
   "source": [
    "# Carregar la imatge\n",
    "imatge = cv2.imread(\"imatge.png\")\n",
    "\n",
    "# Convertir la imatge a escala de grisos\n",
    "imatge_gris = cv2.cvtColor(imatge, cv2.COLOR_BGR2GRAY)\n",
    "\n",
    "# Aplicar un llindar per binaritzar la imatge\n",
    "llindar, binary_image = cv2.threshold(imatge_gris, 0, 255, cv2.THRESH_BINARY | cv2.THRESH_OTSU)\n",
    "\n",
    "# Mostrar la imatge binaritzada\n",
    "plt.imshow(binary_image, cmap='gray')\n",
    "plt.title('Imatge Binaritzada')\n",
    "plt.axis('off')  # Desactivar los ejes\n",
    "plt.show()"
   ]
  },
  {
   "cell_type": "markdown",
   "metadata": {
    "id": "d1Sd58HIOimC"
   },
   "source": [
    "## Tarea 2: Análisis de Componentes\n",
    "**Instrucciones:**\n",
    "\n",
    "- Utiliza la imagen binarizada de la Tarea 1.\n",
    "- Completar el algoritmo de region growing que devuelva el número de componentes.\n"
   ]
  },
  {
   "cell_type": "code",
   "execution_count": 29,
   "metadata": {},
   "outputs": [],
   "source": [
    "def region_growing_algorithm(binary_image):\n",
    "    # Obtener las dimensiones de la imagen\n",
    "    height, width = binary_image.shape\n",
    "    \n",
    "    # Inicializar un conjunto para almacenar las etiquetas de los componentes conectados\n",
    "    connected_components = set()\n",
    "    etiquetados = set() # contendra una tupla con los índices de los píxeles\n",
    "    # Definir una lista de vecinos (8-conectividad)\n",
    "    neighbors = [(-1, 0), (1, 0), (0, -1), (0, 1), (-1, -1), (-1, 1), (1, -1), (1, 1)]\n",
    "    \n",
    "    # Iterar sobre cada píxel de la imagen\n",
    "    for y in range(height):\n",
    "        for x in range(width):\n",
    "            # Si el píxel actual es parte de un componente (valor 1 (255))\n",
    "            if binary_image[y, x] == 255 and (y, x) not in etiquetados:\n",
    "                # Inicializar la etiqueta del componente actual\n",
    "                current_label = len(connected_components) + 1\n",
    "                \n",
    "                # Inicializar una lista para almacenar los píxeles del componente actual\n",
    "                component_pixels = [(y, x)]\n",
    "                \n",
    "                # Iterar sobre los píxeles del componente actual\n",
    "                while component_pixels:\n",
    "                    cy, cx = component_pixels.pop()\n",
    "                    # Asignar la etiqueta al píxel actual\n",
    "                    binary_image[cy, cx] = current_label\n",
    "                    # Agregar el píxel actual a los píxeles etiquetados\n",
    "                    etiquetados.add((cy, cx))\n",
    "                    \n",
    "                    # Comprobar los vecinos del píxel actual y ir añadiendo los píxeles al componente\n",
    "                    for dy, dx in neighbors:\n",
    "                        # Obtener las coordenadas del vecino actual\n",
    "                        ny, nx = cy + dy, cx + dx\n",
    "\n",
    "                        # Comprobar si el vecino está dentro de los límites de la imagen\n",
    "                        if 0 <= ny < height and 0 <= nx < width:\n",
    "                            # Comprobar si el vecino es parte del componente (tiene el mismo valor que el píxel actual)\n",
    "                            if binary_image[ny, nx] == 255 and binary_image[ny, nx] == 255 and (ny, nx) not in etiquetados:\n",
    "                                # Agregar el vecino a los píxeles del componente actual\n",
    "                                component_pixels.append((ny, nx))\n",
    "                \n",
    "                # Agregar la etiqueta del componente actual al conjunto de componentes conectados\n",
    "                connected_components.add(current_label)\n",
    "    \n",
    "    # Devolver el número de componentes conectados\n",
    "    return len(connected_components)\n"
   ]
  },
  {
   "cell_type": "code",
   "execution_count": 30,
   "metadata": {},
   "outputs": [
    {
     "name": "stdout",
     "output_type": "stream",
     "text": [
      "Número de componentes conectados: 11\n"
     ]
    }
   ],
   "source": [
    "num_components = region_growing_algorithm(binary_image)\n",
    "print(\"Número de componentes conectados:\", num_components)"
   ]
  }
 ],
 "metadata": {
  "colab": {
   "provenance": []
  },
  "kernelspec": {
   "display_name": "Python 3",
   "language": "python",
   "name": "python3"
  },
  "language_info": {
   "codemirror_mode": {
    "name": "ipython",
    "version": 3
   },
   "file_extension": ".py",
   "mimetype": "text/x-python",
   "name": "python",
   "nbconvert_exporter": "python",
   "pygments_lexer": "ipython3",
   "version": "3.8.10"
  }
 },
 "nbformat": 4,
 "nbformat_minor": 4
}
