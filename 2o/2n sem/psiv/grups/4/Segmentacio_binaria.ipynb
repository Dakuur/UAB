{
 "cells": [
  {
   "cell_type": "code",
   "execution_count": 10,
   "metadata": {
    "id": "u85Kyky2mOxD"
   },
   "outputs": [],
   "source": [
    "NIU=''\n",
    "GRUP=''"
   ]
  },
  {
   "cell_type": "markdown",
   "metadata": {
    "id": "2eNtaO0wl4DV"
   },
   "source": [
    "Assignatura: Processament de Senyal, Imatge i Vídeo 2023-24\n",
    "\n",
    "Grau: Enginyeria de Dades\n",
    "\n",
    "Contingut: SEGMENTACIÓ D'IMATGES BINARIES\n",
    "\n",
    "Descripció de l'activitat: Aquest notebook proporciona un exemple pas a pas per fer la segmentació d'imatges binàries utilitzant l'anàlisi de components connectats."
   ]
  },
  {
   "cell_type": "markdown",
   "metadata": {
    "id": "6PE8-f5dmWnt"
   },
   "source": [
    "Primer pas es carrregar les llibreries"
   ]
  },
  {
   "cell_type": "code",
   "execution_count": 11,
   "metadata": {
    "id": "uuhWiRsQmWCR"
   },
   "outputs": [],
   "source": [
    "import numpy as np\n",
    "import cv2\n",
    "import matplotlib.pyplot as plt"
   ]
  },
  {
   "cell_type": "markdown",
   "metadata": {
    "id": "2mUpH69AIEG0"
   },
   "source": [
    "## Tarea 1: Cargar y Binarizar la Imagen\n",
    "\n",
    "**Instrucciones:**\n",
    "- Carga la imagen \"imatge.png\" utilizando OpenCV.\n",
    "- Convierte esta imagen a escala de grises.\n",
    "- Aplica un umbral para binarizar la imagen. (en este caso negro = 0, blanco = 255 para que poder visualizarlo bien). El threshold lo teneis que pensar vosotros, depende de la imagen en escala de grises resultante (se recomienda visualizarla).\n",
    "- Muestra la imagen resultante."
   ]
  },
  {
   "cell_type": "code",
   "execution_count": null,
   "metadata": {
    "colab": {
     "base_uri": "https://localhost:8080/",
     "height": 418
    },
    "id": "ohd6YyXAHhpk",
    "outputId": "2debfd79-1ddc-482d-dc90-c0aea072c93f"
   },
   "outputs": [],
   "source": []
  },
  {
   "cell_type": "markdown",
   "metadata": {
    "id": "d1Sd58HIOimC"
   },
   "source": [
    "## Tarea 2: Análisis de Componentes\n",
    "**Instrucciones:**\n",
    "\n",
    "- Utiliza la imagen binarizada de la Tarea 1.\n",
    "- Completar el algoritmo de region growing que devuelva el número de componentes.\n"
   ]
  },
  {
   "cell_type": "code",
   "execution_count": 12,
   "metadata": {},
   "outputs": [
    {
     "ename": "IndentationError",
     "evalue": "expected an indented block after 'for' statement on line 31 (1831154333.py, line 33)",
     "output_type": "error",
     "traceback": [
      "\u001b[1;36m  Cell \u001b[1;32mIn[12], line 33\u001b[1;36m\u001b[0m\n\u001b[1;33m    \"\"\"Codigo a añadir\"\"\"\u001b[0m\n\u001b[1;37m    ^\u001b[0m\n\u001b[1;31mIndentationError\u001b[0m\u001b[1;31m:\u001b[0m expected an indented block after 'for' statement on line 31\n"
     ]
    }
   ],
   "source": [
    "def region_growing_algorithm(binary_image):\n",
    "    # Obtener las dimensiones de la imagen\n",
    "    height, width = binary_image.shape\n",
    "    \n",
    "    # Inicializar un conjunto para almacenar las etiquetas de los componentes conectados\n",
    "    connected_components = set()\n",
    "    etiquetados = set() # contendra una tupla con los índices de los píxeles\n",
    "    # Definir una lista de vecinos (8-conectividad)\n",
    "    neighbors = [(-1, 0), (1, 0), (0, -1), (0, 1), (-1, -1), (-1, 1), (1, -1), (1, 1)]\n",
    "    \n",
    "    # Iterar sobre cada píxel de la imagen\n",
    "    for y in range(height):\n",
    "        for x in range(width):\n",
    "            # Si el píxel actual es parte de un componente (valor 1 (255))\n",
    "            if binary_image[y, x] == 255 and (y, x) not in etiquetados:\n",
    "                # Inicializar la etiqueta del componente actual\n",
    "                current_label = len(connected_components) + 1\n",
    "                \n",
    "                # Inicializar una lista para almacenar los píxeles del componente actual\n",
    "                component_pixels = [(y, x)]\n",
    "                \n",
    "                # Iterar sobre los píxeles del componente actual\n",
    "                while component_pixels:\n",
    "                    cy, cx = component_pixels.pop()\n",
    "                    # Asignar la etiqueta al píxel actual\n",
    "                    binary_image[cy, cx] = current_label\n",
    "                    # Agregar el píxel actual a los píxeles etiquetados\n",
    "                    etiquetados.add((cy, cx))\n",
    "                    \n",
    "                    # Comprobar los vecinos del píxel actual y ir añadiendo los píxeles al componente\n",
    "                    for dy, dx in neighbors:\n",
    "                    \n",
    "                    \"\"\"Codigo a añadir\"\"\"\n",
    "                \n",
    "                # Agregar la etiqueta del componente actual al conjunto de componentes conectados\n",
    "                connected_components.add(current_label)\n",
    "    \n",
    "    # Devolver el número de componentes conectados\n",
    "    return len(connected_components)\n"
   ]
  },
  {
   "cell_type": "code",
   "execution_count": null,
   "metadata": {},
   "outputs": [],
   "source": [
    "num_components = region_growing_algorithm(binary_image)\n",
    "print(\"Número de componentes conectados:\", num_components)"
   ]
  }
 ],
 "metadata": {
  "colab": {
   "provenance": []
  },
  "kernelspec": {
   "display_name": "Python 3 (ipykernel)",
   "language": "python",
   "name": "python3"
  },
  "language_info": {
   "codemirror_mode": {
    "name": "ipython",
    "version": 3
   },
   "file_extension": ".py",
   "mimetype": "text/x-python",
   "name": "python",
   "nbconvert_exporter": "python",
   "pygments_lexer": "ipython3",
   "version": "3.11.5"
  }
 },
 "nbformat": 4,
 "nbformat_minor": 4
}
