{
 "cells": [
  {
   "cell_type": "code",
   "execution_count": 1,
   "metadata": {
    "id": "cbi5Ytw9ohoo"
   },
   "outputs": [],
   "source": [
    "Nom_Cognom_1 = \"David Morillo Massagué\"\n",
    "NIU_1        = \"1666540\"\n",
    "Nom_Cognom_2 = \"Adrià Muro Gómez\"\n",
    "NIU_2        = \"1665191\""
   ]
  },
  {
   "cell_type": "markdown",
   "metadata": {
    "id": "Ie73KU1Kohor"
   },
   "source": [
    "# Pràctica 1: Codificació de Huffman.\n"
   ]
  },
  {
   "cell_type": "markdown",
   "metadata": {
    "id": "19gFrYBFohos"
   },
   "source": [
    "La Cristina, professora d'Informació i Seguretat, ha perdut la vostra nota de pràctiques del primer laboratori. Us demana que li passeu la vostra nota de pràctiques pel fòrum de l'assignatura amb el missatge $mNota=$_\"Som NIU1 , NIU2, la nota es X\"_. On $X$, com encara no sabeu la vostra nota suposem que és la suma dels últims dígits de cada NIU mòdul 10. (Per exemple: si el NIU del Pau és 1567897 i el de la Maria és  163899, la nota serà  $(7+9)\\mod 10 = 6$. En aquest cas el missatge seria $mNota=$_\"Som 1567897 , 163899, la nota es 6\"_).     \n",
    "\n",
    "Per culpa del ciberatac de la UAB, el campus virtual encara no està operatiu. De moment us esteu comunicant per un fòrum molt limitat. Per assegurar-se que tots els missatges hi caben al fòrum, us demana que li envieu el missatge en binari i comprimit segons la codificació decidida pel vostre professor de pràctiques. El vostre professor de pràctiques és un gran seguidor de David Huffman i té implementada una funció secreta que només compartirà amb vosaltres si resoleu els següents dos reptes:"
   ]
  },
  {
   "cell_type": "markdown",
   "metadata": {
    "id": "17QwHAovohot"
   },
   "source": [
    "**1.** Implementeu la funció $generarProbabilitats(missatge)$ que retorni un diccionari on les claus són els diferents símbols del missatge i el valor la probabilitat amb què apareix el símbol dins el missatge. Doneu el resultat d'aplicar la funció a la cadena $mNota$ anterior. _[1.5 pts]_\n",
    "    Quin símbol té la probabilitat més gran?_[0.25 pts]_ A què es deu aquest fet? _[0.25 pts]_."
   ]
  },
  {
   "cell_type": "code",
   "execution_count": 2,
   "metadata": {
    "colab": {
     "base_uri": "https://localhost:8080/"
    },
    "executionInfo": {
     "elapsed": 4,
     "status": "ok",
     "timestamp": 1710332431955,
     "user": {
      "displayName": "David Morillo",
      "userId": "18011103878797172914"
     },
     "user_tz": -60
    },
    "id": "nxbjyOJMohot",
    "outputId": "f2027742-4f0c-462a-c945-ec48fc282d0b"
   },
   "outputs": [],
   "source": [
    "### Implementeu aquí el vostre codi\n",
    "mNota = \"Som 1665191 , 1666540, la nota es 1\"\n",
    "total = len(mNota)\n",
    "def generarProbabilitats(missatge):\n",
    "    dic = {}\n",
    "    for simbol in missatge:\n",
    "      if simbol not in dic.keys():\n",
    "        dic[simbol] = 1\n",
    "\n",
    "      else:\n",
    "        dic[simbol] += 1\n",
    "\n",
    "    for simbol in dic.keys():\n",
    "      dic[simbol] = dic[simbol]/total\n",
    "\n",
    "    return dic\n",
    "\n",
    "dictProbabilitats = generarProbabilitats(mNota)"
   ]
  },
  {
   "cell_type": "markdown",
   "metadata": {
    "id": "CtPNjge0ohou"
   },
   "source": [
    "**Resposta:** Els caràcters més probables son l'espai \" \" i \"1\" (freqüència: 1/5). Ens basem en aquesta afirmació degut a que observem que és el caràcter que és vegades apareix al missatge i, estadísticament podem dir que és el que té més probabilitats d'aparèixer."
   ]
  },
  {
   "cell_type": "markdown",
   "metadata": {
    "id": "0fYA3ALxohou"
   },
   "source": [
    "**2.** Implementeu la funció $entropia(dictProbabilitats)$ on dictProbabilitats és un diccionari que té com a claus els símbols i valors les seves probabilitats. Quina és l'entropia del missatge $mNota$? _[1 pts]_"
   ]
  },
  {
   "cell_type": "code",
   "execution_count": 3,
   "metadata": {
    "colab": {
     "base_uri": "https://localhost:8080/"
    },
    "executionInfo": {
     "elapsed": 287,
     "status": "ok",
     "timestamp": 1710332502747,
     "user": {
      "displayName": "David Morillo",
      "userId": "18011103878797172914"
     },
     "user_tz": -60
    },
    "id": "Z9Fllg8pohov",
    "outputId": "1aa21d91-a9d8-4430-87a5-59b0b10b9907"
   },
   "outputs": [],
   "source": [
    "from math import log2\n",
    "\n",
    "### Implementeu aquí el vostre codi\n",
    "def entropia(dictProbabilitats):\n",
    "    entropia = 0\n",
    "    for p in dictProbabilitats.values():\n",
    "      entropia += p*log2(p)\n",
    "\n",
    "    return -entropia\n",
    "\n",
    "#entropia(dictProbabilitats)"
   ]
  },
  {
   "cell_type": "markdown",
   "metadata": {
    "id": "sDiLIKVVohov"
   },
   "source": [
    "**Resposta:** El valor de l'entropia del missatge és de: 3.4920553338362095"
   ]
  },
  {
   "cell_type": "markdown",
   "metadata": {
    "id": "fHQ3gfPlohov"
   },
   "source": [
    "Enhorabona!!! Heu superat els dos reptes i ja pertanyeu al selecte club de seguidors/es de Huffman i podem compartir amb vosaltres la funció secreta; s'anomena $codiHuffman()$. Com seguidors/es has d'experimentar la importància de la codificació de Huffman.\n",
    "Seguiu els següents passos per entendre-la."
   ]
  },
  {
   "cell_type": "markdown",
   "metadata": {
    "id": "orQrVSyBohov"
   },
   "source": [
    "**3.** Utilitzeu la funció $convertiraBinari(missatge)$ per convertir el missatge $mNota$ a bits. Quina és la longitud del missatge en bits? _[0.5 pts]_"
   ]
  },
  {
   "cell_type": "code",
   "execution_count": 4,
   "metadata": {
    "colab": {
     "base_uri": "https://localhost:8080/"
    },
    "executionInfo": {
     "elapsed": 269,
     "status": "ok",
     "timestamp": 1710332543180,
     "user": {
      "displayName": "David Morillo",
      "userId": "18011103878797172914"
     },
     "user_tz": -60
    },
    "id": "c9auQNjGohow",
    "outputId": "3b2ee0dd-9c9a-44fc-984e-39e077fbdd1e"
   },
   "outputs": [
    {
     "data": {
      "text/plain": [
       "221"
      ]
     },
     "execution_count": 4,
     "metadata": {},
     "output_type": "execute_result"
    }
   ],
   "source": [
    "#Retorna en un array on cada posició es un símbol del missatge codificat en bits.\n",
    "def convertiraBinari(a):\n",
    "  l,m=[],[]\n",
    "  for i in a:\n",
    "    l.append(ord(i))\n",
    "  for i in l:\n",
    "    m.append(int(bin(i)[2:]))\n",
    "  return m\n",
    "\n",
    "### Implementeu aquí el vostre codi\n",
    "def longBits(missatge):\n",
    "  binari = convertiraBinari(missatge)\n",
    "  #print(len(binari*8))\n",
    "\n",
    "  long = 0\n",
    "  for i in binari:\n",
    "    long += len(str(i))\n",
    "\n",
    "  return long\n",
    "\n",
    "longBits(mNota)"
   ]
  },
  {
   "cell_type": "markdown",
   "metadata": {
    "id": "TkuU5PTLohow"
   },
   "source": [
    "**Resposta:** 221 bits amb els caràcters en binari donats per la funció convertiraBinari() i sense separar caràcters."
   ]
  },
  {
   "cell_type": "markdown",
   "metadata": {
    "id": "d4rQuxhSohow"
   },
   "source": [
    "**4.** Seguidament, utilitzeu la llibreria Huffman de SageMath per generar el codi de Huffman binari.\n",
    "    Completeu la funció $longitudMissatgeCodificat(missatge)$ i doneu el diccionari de codificació _[1.5 pts]_."
   ]
  },
  {
   "cell_type": "code",
   "execution_count": 5,
   "metadata": {
    "colab": {
     "base_uri": "https://localhost:8080/",
     "height": 110
    },
    "executionInfo": {
     "elapsed": 286,
     "status": "error",
     "timestamp": 1710334610112,
     "user": {
      "displayName": "David Morillo",
      "userId": "18011103878797172914"
     },
     "user_tz": -60
    },
    "id": "WC0o9rF2ohow",
    "outputId": "a213ac30-c92b-4f62-cb89-7f2d0d229652"
   },
   "outputs": [
    {
     "data": {
      "text/plain": [
       "124"
      ]
     },
     "execution_count": 5,
     "metadata": {},
     "output_type": "execute_result"
    }
   ],
   "source": [
    "from sage.coding.source_coding.huffman import Huffman\n",
    "\n",
    "#Multiplica els valors de dos diccionaris. Fixa't que dict1 te strings com a valors i dict2 te numeros.\n",
    "def multiplicarValorsDiccionari(dict1, dict2):\n",
    "    dict3 = dict(dict1)\n",
    "    for i, j in dict1.items():\n",
    "        for x, y in dict2.items():\n",
    "            if i == x:\n",
    "                dict3[i]=(len(j)*y)\n",
    "    return dict3\n",
    "\n",
    "#Completeu la implementació\n",
    "def longitudMissatgeCodificat(missatge):\n",
    "    codificacio = Huffman(missatge).encoding_table()\n",
    "    frequencies = generarProbabilitats(missatge)\n",
    "    n = len(missatge)\n",
    "    frequencies = {x: y*n for x, y in frequencies.items()} # transformem a valors absoluts per cada caràcter\n",
    "    bitsSymbolsMessage = multiplicarValorsDiccionari(codificacio, frequencies)\n",
    "    return sum(bitsSymbolsMessage.values())\n",
    "\n",
    "longitudMissatgeCodificat(mNota)"
   ]
  },
  {
   "cell_type": "markdown",
   "metadata": {
    "id": "q6e_U86uohow"
   },
   "source": [
    "**5.** Quina longitud en bits obtens del missatge $mNota$? _[0.5 pts]_ Surt a compte enviar el missatge codificat pel fòrum? _[0.25 pts]_"
   ]
  },
  {
   "cell_type": "markdown",
   "metadata": {
    "id": "sWHkYEEgohox"
   },
   "source": [
    "**Resposta:** Longitud: 124 bits. Veiem que surt a compte enviar el missatge codificat fent servir Huffman\n",
    "\n",
    "diccionari de Huffman: {'S': '10100', 'e': '10101', 'l': '10110', 'm': '10111', 'n': '11000', 's': '11001', 't': '11010', ',': '11011', '5': '0110', '9': '0111', 'a': '1000', 'o': '1001', '6': '010', ' ': '111', '1': '00'}\n"
   ]
  },
  {
   "cell_type": "markdown",
   "metadata": {
    "id": "q6WxBcpOohox"
   },
   "source": [
    "Atès que ja heu arribat fins aquí, el professor de pràctiques que està acabant d'escriure la seva tesi doctoral, necessita un cop de mà de seguidors/es de Huffman per entregar la tesi a temps. A més si l'ajudeu us promet que ho reflectirà en la vostra nota de pràctiques del primer laboratori.  "
   ]
  },
  {
   "cell_type": "markdown",
   "metadata": {
    "id": "Km25qRzKohox"
   },
   "source": [
    "**6.** Implementeu la funció $longitudCodiHuffman(missatge)$ que retorni la longitud mitjana del codi de Huffman binari generat pel missatge. Quina és la longitud del codi generat pel missatge $mNota$? _[1.5 pts]_"
   ]
  },
  {
   "cell_type": "code",
   "execution_count": 6,
   "metadata": {
    "id": "UW5_seFxohox"
   },
   "outputs": [
    {
     "data": {
      "text/plain": [
       "124/35"
      ]
     },
     "execution_count": 6,
     "metadata": {},
     "output_type": "execute_result"
    }
   ],
   "source": [
    "### Implementeu aquí el vostre codi\n",
    "def longitudCodiHuffman(missatge):\n",
    "    len_bits = longitudMissatgeCodificat(missatge)\n",
    "    len_simbols = len(missatge)\n",
    "    return len_bits / len_simbols\n",
    "\n",
    "longitudCodiHuffman(mNota)"
   ]
  },
  {
   "cell_type": "markdown",
   "metadata": {
    "id": "qwesQw3sohox"
   },
   "source": [
    "**Resposta:** 124/35 bits per caràcter (aprox. 3,54)"
   ]
  },
  {
   "cell_type": "markdown",
   "metadata": {
    "id": "9YOke5OZohox"
   },
   "source": [
    "**7.** Implementeu la funció $redundanciaCodiHuffman(missatge)$ que retorna la redundància del codi Huffman generat per un missatge. Quina és la redundància del codi de Huffman generat pel missatge $mNota$? _[1.5 pts]_"
   ]
  },
  {
   "cell_type": "code",
   "execution_count": 7,
   "metadata": {
    "id": "svnKu6xmohox"
   },
   "outputs": [
    {
     "data": {
      "text/plain": [
       "0.7477122136924566"
      ]
     },
     "execution_count": 7,
     "metadata": {},
     "output_type": "execute_result"
    }
   ],
   "source": [
    "### Implementeu aquí el vostre codi\n",
    "def redundanciaCodiHuffman(missatge):\n",
    "    \n",
    "    diccionari = generarProbabilitats(missatge)\n",
    "    ent = entropia(diccionari)\n",
    "    l_mitjana = longitudCodiHuffman(missatge)\n",
    "    redundancia = 1 - (ent/(l_mitjana*log2(len(diccionari.items()))))\n",
    "    \n",
    "    return redundancia\n",
    "\n",
    "redundanciaCodiHuffman(mNota)"
   ]
  },
  {
   "cell_type": "markdown",
   "metadata": {
    "id": "tVrTk5a9ohox"
   },
   "source": [
    "**Resposta:** Redundància: 0.7477122136924566 "
   ]
  },
  {
   "cell_type": "markdown",
   "metadata": {
    "id": "QXwlbUhcohox"
   },
   "source": [
    "**8.** Un codi qualsevol amb la redundància anterior podem considerar que és òptim? _[0.5 pts]_ Podem trobar un altre codi binari associat al missatge $mNota$ amb longitud mitjana menor que l'obtinguda a l'apartat 4? _[0.75 pts]_  (Justifica degudament les respostes)"
   ]
  },
  {
   "cell_type": "markdown",
   "metadata": {
    "id": "I3GTqM46ohox"
   },
   "source": [
    "**Resposta:** \n",
    "\n",
    "A) És complicat decidir si amb la redundància anterior (0.7477122136924566) es podria considerar el codi com a òptim. Aquest valor indica que aproximadament el 74% de les dades en la seqüència original encara estan presents en la seqüència comprimida.  En altres paraules, encara hi ha una quantitat significativa de dades innecessàries o repetitives en la representació comprimida. Encara que considerem que s'ha comprimit bastant, creiem que té bastant marge de millora, en termes de compressió, i no el considerem del tot òptim.\n",
    "\n",
    "B) Seria possible trobar altres codis binaris pel missatge amb longitud menor a la que ens proporciona l'algoritme de Huffman, ja que aquest ens proporciona uns codis basat en les freqüències calculades amb el missatge introduit, que és relativament curt. Si sapiguéssim en detall les probabilitats de cada caràcter sense basar-nos en les simples freqüències del missatge, en tot cas es podria millorar, teòricament."
   ]
  },
  {
   "cell_type": "markdown",
   "metadata": {
    "id": "F8Z7wOQMohox"
   },
   "source": [
    "La Cristina i el/la professor/a de pràctiques agraïm la vostra ajuda i el vostre esforç per restablir la nota que us mereixeu. Esperem que el campus virtual es recuperi de l'atac informàtic i puguem penjar la vostra nota de pràctiques del primer laboratori al més aviat possible. Esperem que no se'ns torni a perdre :)"
   ]
  }
 ],
 "metadata": {
  "colab": {
   "provenance": []
  },
  "kernelspec": {
   "display_name": "SageMath 9.3",
   "language": "sage",
   "name": "sagemath"
  },
  "language_info": {
   "codemirror_mode": {
    "name": "ipython",
    "version": 3
   },
   "file_extension": ".py",
   "mimetype": "text/x-python",
   "name": "python",
   "nbconvert_exporter": "python",
   "pygments_lexer": "ipython3",
   "version": "3.7.10"
  }
 },
 "nbformat": 4,
 "nbformat_minor": 1
}
