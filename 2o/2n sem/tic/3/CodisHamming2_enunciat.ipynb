{
 "cells": [
  {
   "attachments": {},
   "cell_type": "markdown",
   "id": "ee9eb73d",
   "metadata": {},
   "source": [
    "# Practica 4: Codificació i Descodificació de cadenes de text"
   ]
  },
  {
   "attachments": {},
   "cell_type": "markdown",
   "id": "68980762",
   "metadata": {},
   "source": [
    "A la sessio anterior hem programat mitjançant codis de Hamming la codificacio i descodificacio de vectors i matrius. En aquesta sessió, posarem a prova de codificar i descodificar missatges amb el codi ASCII transformant\n",
    "prèviament en codi binari."
   ]
  },
  {
   "attachments": {},
   "cell_type": "markdown",
   "id": "cfa5d311",
   "metadata": {},
   "source": [
    "Familiaritzeu-vos amb les següents variables, que són, el codi  $𝐶$ i la seva matriu de control  $𝐻$.\n",
    "\n",
    "Aquesta informació serà els vostres paràmetres de cadascuna de les funcions que us demanarem que implementeu per aquesta sessió de pràctica.\n",
    "\n",
    "**𝑁𝑜𝑡𝑎 :** Recordeu que les cel·les de la llibreta Jupiter tenen memòria, és a dir, que cel·les executades posteriorment, tenen definides les variables de les cel·les anteriors."
   ]
  },
  {
   "cell_type": "code",
   "execution_count": 1,
   "id": "aed0fa6c",
   "metadata": {},
   "outputs": [],
   "source": [
    "import numpy as np\n",
    "import math\n",
    "\n",
    "H = np.matrix([(1, 1, 0, 1, 1, 0, 0), (1, 1, 1, 0, 0, 1, 0), (1, 0, 1, 1, 0, 0, 1)]) \n",
    "C = np.matrix([\n",
    "    (0, 0, 0, 0, 0, 0, 0), \n",
    "    (0, 0, 0, 1, 1, 0, 1),            \n",
    "    (0, 0, 1, 0, 0, 1, 1),\n",
    "    (0, 0, 1, 1, 1, 1, 0),\n",
    "    (0, 1, 0, 0, 1, 1, 0),\n",
    "    (0, 1, 0, 1, 0, 1, 1),\n",
    "    (0, 1, 1, 0, 1, 0, 1),\n",
    "    (0, 1, 1, 1, 0, 0, 0),\n",
    "    (1, 0, 0, 0, 1, 1, 1),\n",
    "    (1, 0, 0, 1, 0, 1, 0),\n",
    "    (1, 0, 1, 0, 1, 0, 0),\n",
    "    (1, 0, 1, 1, 0, 0, 1),\n",
    "    (1, 1, 0, 0, 0, 0, 1),\n",
    "    (1, 1, 0, 1, 1, 0, 0),\n",
    "    (1, 1, 1, 0, 0, 1, 0),\n",
    "    (1, 1, 1, 1, 1, 1, 1)])"
   ]
  },
  {
   "attachments": {},
   "cell_type": "markdown",
   "id": "bb5b6522",
   "metadata": {},
   "source": [
    "**1.** Conversio d’un missatge de text a seqüència binària, i viceversa. \n",
    "\n",
    "Per codificar i descodificar una cadena de text, necessitarem convertir una cadena de text a una seqüència binària, i viceversa.\n",
    "\n",
    "**(a)** Dissenyeu la funció $StringToBinarySeq(sStr)$ que, donada una cadena de text $sStr$ de longitud $n$, retorni:\n",
    "\n",
    "(i) Una llista de longitud $n$ amb el codi ASCII representat amb nombres decimals dels caràcters de $sStr$.\n",
    "\n",
    "(ii) Una llista de longitud 8n amb els bits obtinguts a la llista anterior.\n",
    "\n",
    "Per exemple, $StringToBinarySeq(”mi”)$ ha de retornar: [109,105],[0,1,1,0,1,1,0,1,0,1,1,0,1,0,0,1].\n",
    "\n",
    "Nota: Podeu aprofitar els següents exemples:\n",
    "\n",
    "- \" \".join(\"informacio\") => \"i n f o r m a c i o\"\n",
    "- \"{0:03b}\".format(5) => \"101\""
   ]
  },
  {
   "cell_type": "code",
   "execution_count": 2,
   "id": "b4caa1f6",
   "metadata": {},
   "outputs": [],
   "source": [
    "import numpy as np\n",
    "\n",
    "def StringToBinary(sStr):\n",
    "    raise NotImplementedError(\"Cal que implementis el codi\")"
   ]
  },
  {
   "attachments": {},
   "cell_type": "markdown",
   "id": "5dcc51b4",
   "metadata": {},
   "source": [
    "**(b)** Considereu la cadena de text \"Codi\". Executeu $StringToBinarySeq(s)$ i mostreu els resultats.\n"
   ]
  },
  {
   "cell_type": "code",
   "execution_count": 3,
   "id": "8f99a549",
   "metadata": {},
   "outputs": [
    {
     "ename": "NotImplementedError",
     "evalue": "Cal que implementis el codi",
     "output_type": "error",
     "traceback": [
      "\u001b[0;31m---------------------------------------------------------------------------\u001b[0m",
      "\u001b[0;31mNotImplementedError\u001b[0m                       Traceback (most recent call last)",
      "Cell \u001b[0;32mIn [3], line 1\u001b[0m\n\u001b[0;32m----> 1\u001b[0m \u001b[38;5;28;01mraise\u001b[39;00m \u001b[38;5;167;01mNotImplementedError\u001b[39;00m(\u001b[38;5;124m\"\u001b[39m\u001b[38;5;124mCal que implementis el codi\u001b[39m\u001b[38;5;124m\"\u001b[39m)\n",
      "\u001b[0;31mNotImplementedError\u001b[0m: Cal que implementis el codi"
     ]
    }
   ],
   "source": [
    "raise NotImplementedError(\"Cal que implementis el codi\")"
   ]
  },
  {
   "attachments": {},
   "cell_type": "markdown",
   "id": "643c4503",
   "metadata": {},
   "source": [
    "**(c)** Dissenyeu la funció $BinarySeqToString(sBin)$ que realitzi el proces contrari a la funció anterior, o  sigui, que donada una seqüència binària sBin, retorni:\n",
    "\n",
    "(i)Una llista amb el codi ASCII representat amb nombres decimals.\n",
    "\n",
    "(ii)La cadena de text corresponent.\n",
    "\n",
    "Nota: \n",
    "\n",
    "- Busqueu a Internet com funciona np.split()\n",
    "\n",
    "- Per convertir en base 10 un número binari, int(binari, 2)\n"
   ]
  },
  {
   "cell_type": "code",
   "execution_count": null,
   "id": "5fdee928",
   "metadata": {},
   "outputs": [],
   "source": [
    "import numpy as np\n",
    "\n",
    "def BinarySeqToString(sBin):\n",
    "    raise NotImplementedError(\"Cal que implementis el codi\")"
   ]
  },
  {
   "attachments": {},
   "cell_type": "markdown",
   "id": "c5a294a3",
   "metadata": {},
   "source": [
    "**(d)** Utilitzeu la funció $BinarySeqToString(sBin)$ implementada anteriorment. Recupereu la cadena de text corresponent a la seqüència binària $sBin$ obtinguda en l’apartat **1(b)**, juntament amb la cadena corresponent."
   ]
  },
  {
   "cell_type": "code",
   "execution_count": null,
   "id": "2ad384d0",
   "metadata": {},
   "outputs": [],
   "source": [
    "raise NotImplementedError(\"Cal que implementis el codi\")"
   ]
  },
  {
   "attachments": {},
   "cell_type": "markdown",
   "id": "ede20bb1",
   "metadata": {},
   "source": [
    "**2.** Codificació i descodificació de text. \n",
    "\n",
    "Feu servir principalment les funcions per codificar i descodificar de la sessió anterior, així com totes les funcions que cregueu oportunes d’aquella sessió, les funcions de conversió de l’apartat 1, i les funcions $VectorToMatrix$ i $MatrixToVector$. Considereu sempre el codi de Hamming amb paràmetre r = 3 amb la matriu de control donada a **(1)**."
   ]
  },
  {
   "cell_type": "code",
   "execution_count": null,
   "id": "ce93a045",
   "metadata": {},
   "outputs": [],
   "source": [
    "import numpy as np\n",
    "\n",
    "def longitudCodiHamming(r):\n",
    "    raise NotImplementedError(\"Cal que utilitzis el codi de la sessió passada\")\n",
    "\n",
    "def dimensioCodiHamming(r):\n",
    "    raise NotImplementedError(\"Cal que utilitzis el codi de la sessió passada\")\n",
    "\n",
    "def distanciaCodiHamming():\n",
    "    raise NotImplementedError(\"Cal que utilitzis el codi de la sessió passada\")\n",
    "    \n",
    "    \n",
    "#Càlcul de la matriu G\n",
    "    raise NotImplementedError(\"Cal que utilitzis el codi de la sessió passada\")\n",
    "\n",
    "\n",
    "def CodificaHamming(G, m):\n",
    "    raise NotImplementedError(\"Cal que utilitzis el codi de la sessió passada\")\n",
    "\n",
    "def DescodificaHamming(H, w):\n",
    "    raise NotImplementedError(\"Cal que utilitzis el codi de la sessió passada\")\n",
    "\n",
    "def VectorToMatrix(vec,n):\n",
    "    Arr=[]\n",
    "    Arr = np.split(vec,n)\n",
    "    Mat = np.matrix (Arr)\n",
    "    return Mat\n",
    "\n",
    "def MatrixToVector(mat):\n",
    "    v = np.array(mat)\n",
    "    v = v.flatten()\n",
    "    v = v.astype(int)\n",
    "    return v"
   ]
  },
  {
   "attachments": {},
   "cell_type": "markdown",
   "id": "a33acdb3",
   "metadata": {},
   "source": [
    "**(a)** Codifiqueu la cadena de text de l'apartat **1(b)** i mostra, la matriu sense codificar i la matriu codificada."
   ]
  },
  {
   "cell_type": "code",
   "execution_count": null,
   "id": "ff0c175f",
   "metadata": {},
   "outputs": [],
   "source": [
    "raise NotImplementedError(\"Cal que implementis el codi\")"
   ]
  },
  {
   "attachments": {},
   "cell_type": "markdown",
   "id": "a3747d22",
   "metadata": {},
   "source": [
    "**(b)** Descodifica el resultat de l'apartat **2(a)** i mostra la cadena de text."
   ]
  },
  {
   "cell_type": "code",
   "execution_count": null,
   "id": "b61a91de",
   "metadata": {},
   "outputs": [],
   "source": [
    "raise NotImplementedError(\"Cal que implementis el codi\")"
   ]
  },
  {
   "attachments": {},
   "cell_type": "markdown",
   "id": "60cb625f",
   "metadata": {},
   "source": [
    "**(c)** Quin es el nombre máxim d’errors que es poden introduir a la matriu codificada de manera que es puguin corregir? A quines posicions podem afegir aquests errors? La funció $AfegirErrors(M,f,c)$, on els paràmetres són una matriu $M$, una fila $f$ i una columna $c$, introdueix un error a $M$ a la posició $(f, c)$. Feu servir la funció $AfegirErrors(M,f,c)$ per afegir els errors i comproveu llavors que, afegint aquests errors, la cadena de l’apartat 1(b) segueix sent la mateixa un cop descodificada."
   ]
  },
  {
   "cell_type": "code",
   "execution_count": null,
   "id": "80808502",
   "metadata": {},
   "outputs": [],
   "source": [
    "def AfegeixErrors(M,f,c):\n",
    "    M[f,c] =  (M[f,c] + 1) %2\n",
    "     \n",
    "    return M"
   ]
  },
  {
   "cell_type": "code",
   "execution_count": null,
   "id": "5cddeaca",
   "metadata": {},
   "outputs": [],
   "source": [
    "raise NotImplementedError(\"Cal que implementis el codi\")"
   ]
  },
  {
   "attachments": {},
   "cell_type": "markdown",
   "id": "d290b4f3",
   "metadata": {},
   "source": [
    "**Resposta:** Escriu aquí la teva resposta."
   ]
  },
  {
   "attachments": {},
   "cell_type": "markdown",
   "id": "8bcea528",
   "metadata": {},
   "source": [
    "**(d)** Quin és nombre mínim d’errors que es poden introduir a la matriu codificada de manera que no es puguin corregir? A quines posicions podem afegir aquests errors? Utilitzeu la funció $AfegirErrors(M,f,c)$ per\n",
    "afegir els errors i comproveu llavors que, afegint aquests errors, la cadena de l’apartat 1 (b) no és la mateixa un cop descodificada."
   ]
  },
  {
   "cell_type": "code",
   "execution_count": null,
   "id": "4ae49fe1",
   "metadata": {},
   "outputs": [],
   "source": [
    "raise NotImplementedError(\"Cal que implementis el codi\")"
   ]
  },
  {
   "attachments": {},
   "cell_type": "markdown",
   "id": "ca7a8e0c",
   "metadata": {},
   "source": [
    "**Resposta:** Escriu aquí la teva resposta."
   ]
  }
 ],
 "metadata": {
  "kernelspec": {
   "display_name": "Python 3 (ipykernel)",
   "language": "python",
   "name": "python3"
  },
  "language_info": {
   "codemirror_mode": {
    "name": "ipython",
    "version": 3
   },
   "file_extension": ".py",
   "mimetype": "text/x-python",
   "name": "python",
   "nbconvert_exporter": "python",
   "pygments_lexer": "ipython3",
   "version": "3.10.6"
  }
 },
 "nbformat": 4,
 "nbformat_minor": 5
}
