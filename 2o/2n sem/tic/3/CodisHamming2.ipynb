{
 "cells": [
  {
   "cell_type": "markdown",
   "id": "d22eded8",
   "metadata": {},
   "source": [
    "# Practica 4: Codificació i Descodificació de cadenes de text"
   ]
  },
  {
   "cell_type": "markdown",
   "id": "69892a3b",
   "metadata": {},
   "source": [
    "A la sessio anterior hem programat mitjançant codis de Hamming la codificacio i descodificacio de vectors i matrius. En aquesta sessió, posarem a prova de codificar i descodificar missatges amb el codi ASCII transformant\n",
    "prèviament en codi binari."
   ]
  },
  {
   "cell_type": "markdown",
   "id": "aa7e7cb3",
   "metadata": {},
   "source": [
    "Familiaritzeu-vos amb les següents variables, que són, el codi  $𝐶$ i la seva matriu de control  $𝐻$.\n",
    "\n",
    "Aquesta informació serà els vostres paràmetres de cadascuna de les funcions que us demanarem que implementeu per aquesta sessió de pràctica.\n",
    "\n",
    "**𝑁𝑜𝑡𝑎 :** Recordeu que les cel·les de la llibreta Jupiter tenen memòria, és a dir, que cel·les executades posteriorment, tenen definides les variables de les cel·les anteriors."
   ]
  },
  {
   "cell_type": "code",
   "execution_count": 25,
   "id": "bf99ef2d",
   "metadata": {},
   "outputs": [],
   "source": [
    "import numpy as np\n",
    "import math\n",
    "\n",
    "\n",
    "H = np.matrix([(1, 1, 0, 1, 1, 0, 0), (1, 1, 1, 0, 0, 1, 0), (1, 0, 1, 1, 0, 0, 1)]) \n",
    "C = np.matrix([\n",
    "    (0, 0, 0, 0, 0, 0, 0), \n",
    "    (0, 0, 0, 1, 1, 0, 1),            \n",
    "    (0, 0, 1, 0, 0, 1, 1),\n",
    "    (0, 0, 1, 1, 1, 1, 0),\n",
    "    (0, 1, 0, 0, 1, 1, 0),\n",
    "    (0, 1, 0, 1, 0, 1, 1),\n",
    "    (0, 1, 1, 0, 1, 0, 1),\n",
    "    (0, 1, 1, 1, 0, 0, 0),\n",
    "    (1, 0, 0, 0, 1, 1, 1),\n",
    "    (1, 0, 0, 1, 0, 1, 0),\n",
    "    (1, 0, 1, 0, 1, 0, 0),\n",
    "    (1, 0, 1, 1, 0, 0, 1),\n",
    "    (1, 1, 0, 0, 0, 0, 1),\n",
    "    (1, 1, 0, 1, 1, 0, 0),\n",
    "    (1, 1, 1, 0, 0, 1, 0),\n",
    "    (1, 1, 1, 1, 1, 1, 1)])"
   ]
  },
  {
   "cell_type": "markdown",
   "id": "4592accc",
   "metadata": {},
   "source": [
    "**1.** Conversio d’un missatge de text a seqüència binària, i viceversa. \n",
    "\n",
    "Per codificar i descodificar una cadena de text, necessitarem convertir una cadena de text a una seqüència binària, i viceversa.\n",
    "\n",
    "**(a)** Dissenyeu la funció $StringToBinarySeq(sStr)$ que, donada una cadena de text $sStr$ de longitud $n$, retorni:\n",
    "\n",
    "(i) Una llista de longitud $n$ amb el codi ASCII representat amb nombres decimals dels caràcters de $sStr$.\n",
    "\n",
    "(ii) Una llista de longitud 8n amb els bits obtinguts a la llista anterior.\n",
    "\n",
    "Per exemple, $StringToBinarySeq(”mi”)$ ha de retornar: [109,105],[0,1,1,0,1,1,0,1,0,1,1,0,1,0,0,1].\n",
    "\n",
    "Nota: Podeu aprofitar els següents exemples:\n",
    "\n",
    "- \" \".join(\"informacio\") => \"i n f o r m a c i o\"\n",
    "- \"{0:03b}\".format(5) => \"101\""
   ]
  },
  {
   "cell_type": "code",
   "execution_count": 26,
   "id": "761f19f9",
   "metadata": {},
   "outputs": [],
   "source": [
    "def StringToBinarySeq(sStr):\n",
    "    binary_list=[] #Creem la llista on es guardarà la seqüència binària\n",
    "    ascii_list=[ord(char) for char in sStr] #Convertim cada caràcter de sStr a ASCII\n",
    "    \n",
    "    for n in ascii_list: #Per cada número ASCII el convertim a binàri i l'afegim a la llista creada al principi\n",
    "        binary=\"{0:08b}\".format(n)\n",
    "        binary_list.append(binary)\n",
    "\n",
    "    binary_list=''.join(binary_list) #Agrupem els valors\n",
    "    binary_list=[int(digit) for digit in binary_list] #Convertim els números a enters \n",
    "    \n",
    "    return ascii_list, binary_list #Retornem les dues llistes"
   ]
  },
  {
   "cell_type": "markdown",
   "id": "af0dd596",
   "metadata": {},
   "source": [
    "**(b)** Considereu la cadena de text \"Codi\". Executeu $StringToBinarySeq(s)$ i mostreu els resultats.\n"
   ]
  },
  {
   "cell_type": "code",
   "execution_count": 27,
   "id": "c2709d6f",
   "metadata": {},
   "outputs": [
    {
     "name": "stdout",
     "output_type": "stream",
     "text": [
      "ASCII: [67, 111, 100, 105]\n",
      "Cadena binària: [0, 1, 0, 0, 0, 0, 1, 1, 0, 1, 1, 0, 1, 1, 1, 1, 0, 1, 1, 0, 0, 1, 0, 0, 0, 1, 1, 0, 1, 0, 0, 1]\n"
     ]
    }
   ],
   "source": [
    "#Cridem a la funció i visualitzem el resultat\n",
    "ascii,binary=StringToBinarySeq(\"Codi\")\n",
    "\n",
    "print(\"ASCII:\",ascii)\n",
    "print(\"Cadena binària:\",binary)"
   ]
  },
  {
   "cell_type": "markdown",
   "id": "43df034f",
   "metadata": {},
   "source": [
    "**(c)** Dissenyeu la funció $BinarySeqToString(sBin)$ que realitzi el proces contrari a la funció anterior, o  sigui, que donada una seqüència binària sBin, retorni:\n",
    "\n",
    "(i)Una llista amb el codi ASCII representat amb nombres decimals.\n",
    "\n",
    "(ii)La cadena de text corresponent.\n",
    "\n",
    "Nota: \n",
    "\n",
    "- Busqueu a Internet com funciona np.split()\n",
    "\n",
    "- Per convertir en base 10 un número binari, int(binari, 2)\n"
   ]
  },
  {
   "cell_type": "code",
   "execution_count": 28,
   "id": "e4e4fc38",
   "metadata": {},
   "outputs": [],
   "source": [
    "def BinarySeqToString(sBin):\n",
    "    binary_seq = ''.join(str(bit) for bit in sBin) #Creem la seqüència binària\n",
    "    bits_array = np.array([binary_seq[i:i+8] for i in range(0, len(binary_seq), 8)]) #Agrupem en grups de 8 bits perquè és el que ocupa cada caràcter\n",
    "    res = ''.join(chr(int(bits, 2)) for bits in bits_array) #Convertim a base 10 cada grup d'1 byte i agrupem els resultats per formar la cadena\n",
    "\n",
    "    return res"
   ]
  },
  {
   "cell_type": "markdown",
   "id": "de985042",
   "metadata": {},
   "source": [
    "**(d)** Utilitzeu la funció $BinarySeqToString(sBin)$ implementada anteriorment. Recupereu la cadena de text corresponent a la seqüència binària $sBin$ obtinguda en l’apartat **1(b)**, juntament amb la cadena corresponent."
   ]
  },
  {
   "cell_type": "code",
   "execution_count": 29,
   "id": "d07435bc",
   "metadata": {},
   "outputs": [
    {
     "name": "stdout",
     "output_type": "stream",
     "text": [
      "Codi\n"
     ]
    }
   ],
   "source": [
    "#Visualitzem la cadena de text a partir de la seqüència binària de l'apartat 1(b)\n",
    "print(BinarySeqToString(binary))"
   ]
  },
  {
   "cell_type": "markdown",
   "id": "41a0b02e",
   "metadata": {},
   "source": [
    "**2.** Codificació i descodificació de text. \n",
    "\n",
    "Feu servir principalment les funcions per codificar i descodificar de la sessió anterior, així com totes les funcions que cregueu oportunes d’aquella sessió, les funcions de conversió de l’apartat 1, i les funcions $VectorToMatrix$ i $MatrixToVector$. Considereu sempre el codi de Hamming amb paràmetre r = 3 amb la matriu de control donada a **(1)**."
   ]
  },
  {
   "cell_type": "code",
   "execution_count": 30,
   "id": "1447709a",
   "metadata": {},
   "outputs": [],
   "source": [
    "def longitudCodiHamming(r):\n",
    "    return (2**r)-1\n",
    "\n",
    "def dimensioCodiHamming(r):\n",
    "    n=longitudCodiHamming(r)\n",
    "    return n-r\n",
    "\n",
    "def distanciaCodiHamming():\n",
    "    return 3\n",
    "    \n",
    "#Càlcul de la matriu G\n",
    "def calcula_generadora(H):\n",
    "    P_transposed = H[:,:H.shape[1]-H.shape[0]]\n",
    "    identitat = np.identity(H.shape[1] - H.shape[0], dtype = \"int\")\n",
    "    G = np.concatenate((identitat,-np.transpose(P_transposed)), axis = 1)\n",
    "    \n",
    "    return G\n",
    "\n",
    "#Agafat de la pràctica anterior\n",
    "def CodificaHamming(G, v):\n",
    "    codif=(v*G)%2\n",
    "    \n",
    "    return codif\n",
    "\n",
    "\n",
    "def DescodificaHamming(H, w):\n",
    "\n",
    "    i =0\n",
    "    dim =dimensioCodiHamming(3)\n",
    "    len =longitudCodiHamming(3)\n",
    "    sin =(w*H.transpose())%2\n",
    "    corregir =np.zeros((1,len))\n",
    "\n",
    "\n",
    "    for fila in H.transpose():\n",
    "        if fila.tolist()==sin.tolist():\n",
    "            corregir[0][i]=1\n",
    "\n",
    "        i+=1\n",
    "\n",
    "    correcte =(corregir+w)%2\n",
    "    informacio =correcte[:, :dim].tolist()\n",
    "    \n",
    "    return sin, correcte, informacio\n",
    "\n",
    "def VectorToMatrix(vec,n):\n",
    "    Arr=[]\n",
    "    Arr = np.split(vec,n)\n",
    "    Mat = np.matrix(Arr)\n",
    "    return Mat\n",
    "\n",
    "def MatrixToVector(mat):\n",
    "    v = np.array(mat)\n",
    "    v = v.flatten()\n",
    "    v = v.astype(int)\n",
    "    return v"
   ]
  },
  {
   "cell_type": "markdown",
   "id": "6e2ebf0d",
   "metadata": {},
   "source": [
    "**(a)** Codifiqueu la cadena de text de l'apartat **1(b)** i mostra, la matriu sense codificar i la matriu codificada."
   ]
  },
  {
   "cell_type": "code",
   "execution_count": 31,
   "id": "bad4adc6",
   "metadata": {},
   "outputs": [
    {
     "name": "stdout",
     "output_type": "stream",
     "text": [
      "Matriu sense codificar:\n",
      "  [[0 1 0 0]\n",
      " [0 0 1 1]\n",
      " [0 1 1 0]\n",
      " [1 1 1 1]\n",
      " [0 1 1 0]\n",
      " [0 1 0 0]\n",
      " [0 1 1 0]\n",
      " [1 0 0 1]]\n",
      "Matriu codificada:\n",
      " [[0 1 0 0 1 1 0]\n",
      " [0 0 1 1 1 1 0]\n",
      " [0 1 1 0 1 0 1]\n",
      " [1 1 1 1 1 1 1]\n",
      " [0 1 1 0 1 0 1]\n",
      " [0 1 0 0 1 1 0]\n",
      " [0 1 1 0 1 0 1]\n",
      " [1 0 0 1 0 1 0]]\n"
     ]
    }
   ],
   "source": [
    "#Obtenim el binari de la paraula \"Codi\" i creem la matriu associada\n",
    "ascii,binary=StringToBinarySeq(\"Codi\")\n",
    "matriu_ncodif = VectorToMatrix(np.array(binary), 8)\n",
    "\n",
    "#Codifiquem la matriu associada amb la generadora i visualitzem els resultats\n",
    "G = calcula_generadora(H)\n",
    "matriu_codif = CodificaHamming(G, matriu_ncodif)\n",
    "print(\"Matriu sense codificar:\\n \", matriu_ncodif)\n",
    "print(\"Matriu codificada:\\n\", matriu_codif)"
   ]
  },
  {
   "cell_type": "markdown",
   "id": "1f464d07",
   "metadata": {},
   "source": [
    "**(b)** Descodifica el resultat de l'apartat **2(a)** i mostra la cadena de text."
   ]
  },
  {
   "cell_type": "code",
   "execution_count": 32,
   "id": "8d3a7f31",
   "metadata": {},
   "outputs": [
    {
     "name": "stdout",
     "output_type": "stream",
     "text": [
      "Text:  Codi\n"
     ]
    }
   ],
   "source": [
    "#Descodifiquem i visualitzem el string resultant\n",
    "sin, correcio, informacio = DescodificaHamming(H, matriu_codif)\n",
    "matriu =MatrixToVector(informacio)\n",
    "res =BinarySeqToString(matriu)\n",
    "print(\"Text: \", res)\n"
   ]
  },
  {
   "cell_type": "markdown",
   "id": "d9e2c9cd",
   "metadata": {},
   "source": [
    "\n",
    "\n",
    "\n",
    "\n",
    "\n",
    "**(c)** Quin es el nombre máxim d’errors que es poden introduir a la matriu codificada de manera que es puguin corregir? A quines posicions podem afegir aquests errors? La funció $AfegirErrors(M,f,c)$, on els paràmetres són una matriu $M$, una fila $f$ i una columna $c$, introdueix un error a $M$ a la posició $(f, c)$. Feu servir la funció $AfegirErrors(M,f,c)$ per afegir els errors i comproveu llavors que, afegint aquests errors, la cadena de l’apartat 1(b) segueix sent la mateixa un cop descodificada."
   ]
  },
  {
   "cell_type": "code",
   "execution_count": 33,
   "id": "3fd28733",
   "metadata": {},
   "outputs": [],
   "source": [
    "def AfegeixErrors(M,f,c):\n",
    "    M[f,c] =  (M[f,c] + 1) %2\n",
    "     \n",
    "    return M"
   ]
  },
  {
   "cell_type": "code",
   "execution_count": 34,
   "id": "79c90039",
   "metadata": {},
   "outputs": [
    {
     "name": "stdout",
     "output_type": "stream",
     "text": [
      "Nombre d'errors màxims que permeten corregir la matriu: 1\n"
     ]
    }
   ],
   "source": [
    "#Apliquem la fórmula explicada a classe ((d-1)/2)\n",
    "distance =distanciaCodiHamming()\n",
    "n_errors = round((distance-1)/2)\n",
    "\n",
    "print(\"Nombre d'errors màxims que permeten corregir la matriu:\", n_errors)"
   ]
  },
  {
   "cell_type": "code",
   "execution_count": 35,
   "id": "4cb3db56",
   "metadata": {},
   "outputs": [
    {
     "name": "stdout",
     "output_type": "stream",
     "text": [
      "Text:  Codi\n"
     ]
    }
   ],
   "source": [
    "#Afegim error a una de les ultimes columnes \n",
    "codif_mat=CodificaHamming(G, matriu_ncodif)\n",
    "matriu_codificada=AfegeixErrors(codif_mat,5,6)\n",
    "\n",
    "#Descodifiquem i visualitzem el resultat\n",
    "sin, correcio, informacio = DescodificaHamming(H, matriu_codificada)\n",
    "mat =MatrixToVector(informacio)\n",
    "res =BinarySeqToString(mat)\n",
    "\n",
    "print(\"Text: \", res)"
   ]
  },
  {
   "cell_type": "markdown",
   "id": "a6dcb4cb",
   "metadata": {},
   "source": [
    "**Resposta:** La quantitat màxima d'errors que es poden corregir és 1. Això és degut a la naturalesa de la matriu de control, que és 1-correcció. Quan el paràmetre r=3, el màxim d'errors corregibles és (r-1)/2, cosa que dóna com a resultat 1. Només podem afegir errors en posicions posteriors a la quarta columna, ja que és on es conté la informació. S'observa que el resultat \"Codi\" coincideix amb l'original."
   ]
  },
  {
   "cell_type": "markdown",
   "id": "ec85e7b0",
   "metadata": {},
   "source": [
    "**(d)** Quin és nombre mínim d’errors que es poden introduir a la matriu codificada de manera que no es puguin corregir? A quines posicions podem afegir aquests errors? Utilitzeu la funció $AfegirErrors(M,f,c)$ per\n",
    "afegir els errors i comproveu llavors que, afegint aquests errors, la cadena de l’apartat 1 (b) no és la mateixa un cop descodificada."
   ]
  },
  {
   "cell_type": "code",
   "execution_count": 36,
   "id": "de076840",
   "metadata": {},
   "outputs": [
    {
     "name": "stdout",
     "output_type": "stream",
     "text": [
      "Text:  Coei\n"
     ]
    }
   ],
   "source": [
    "#Afegim error a la 4rta columna (4 primeres)\n",
    "matriu_codificada = CodificaHamming(G, matriu_ncodif)\n",
    "matriu_codificada = AfegeixErrors(matriu_codificada,5,3)\n",
    "\n",
    "#Descodifiquem i visualitzem el resultat\n",
    "sin, correcio, informacio = DescodificaHamming(H, matriu_codificada)\n",
    "mat = MatrixToVector(informacio)\n",
    "res = BinarySeqToString(mat)\n",
    "\n",
    "print(\"Text: \", res)"
   ]
  },
  {
   "cell_type": "markdown",
   "id": "3bc150af",
   "metadata": {},
   "source": [
    "**Resposta:** Tal com s'ha explicat a l'anterior apartat, la naturalesa de la matriu de control és d'1-correció (també 2-detectora). Per tant, sempre podrem aplicar com a mínim 1 error degut a la fórmula (r-1)/2 = 1. Pel que fa a les posicions, l'anterior afirmació només es cumplirà mentres l'error no s'afegeixi a una posició de les primeres 4 columnes. Tal com s'osberva a l'exemple hem modificat una de les 4 primeres columnes i ens ha retornat com a resultat \"Coei\" != \"Codi\"."
   ]
  }
 ],
 "metadata": {
  "kernelspec": {
   "display_name": "Python 3 (ipykernel)",
   "language": "python",
   "name": "python3"
  },
  "language_info": {
   "codemirror_mode": {
    "name": "ipython",
    "version": 3
   },
   "file_extension": ".py",
   "mimetype": "text/x-python",
   "name": "python",
   "nbconvert_exporter": "python",
   "pygments_lexer": "ipython3",
   "version": "3.12.2"
  }
 },
 "nbformat": 4,
 "nbformat_minor": 5
}
