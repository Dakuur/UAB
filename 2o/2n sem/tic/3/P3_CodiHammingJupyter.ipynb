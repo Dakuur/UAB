{
  "cells": [
    {
      "cell_type": "markdown",
      "metadata": {
        "id": "E4YX-OgdnHKg"
      },
      "source": [
        "# Pràctica 3: Codi Hamming"
      ]
    },
    {
      "cell_type": "markdown",
      "metadata": {
        "id": "TGgZflg3nHKi"
      },
      "source": [
        "Després de l'éxit de la primera pràctica amb la vostra implementació en la codificació de missatges espacials, l'Agència Espacial Europea us ha encarregat d'enfortir el seu canal de comunicació a través d'utilitzar codis Hamming.\n",
        "\n",
        "L'objectiu d'aquesta sessió és que entengueu bé l'ús dels codis de Hamming, així com detectar i corregir errors produits pel mateix medi (radiació Solar que afecta les vostres antenes... o qui sap si són extraterrestres que volen corrompre la vostra comunicació amb la Terra per tal que no els descobriu...).\n",
        "\n",
        "Ja sabeu codificar de manera aritmètica, però és important saber com assegurar-nos que el missatge que envieu, és el mateix missatge que arriba, i en cas que no, com ho podem solucionar!\n"
      ]
    },
    {
      "cell_type": "markdown",
      "metadata": {
        "id": "__Gy0M5vnHKj"
      },
      "source": [
        "**0.** Familiaritzeu-vos amb les següents variables, que són, el codi $C$, la seva matriu de control $H$, així com les dues seqüències.\n",
        "\n",
        "Aquesta informació seràn els vostres paràmetres de cadascuna de les funcions que us demanarem que implementeu per aquesta sessió de pràctica.\n",
        "\n",
        "$Nota$: Recordeu que les cel·les de la llibreta Jupiter tenen memòria, és a dir, que cel·les executades posteriorment, tenen definides les variables de les cel·les anteriors."
      ]
    },
    {
      "cell_type": "code",
      "execution_count": 1,
      "metadata": {
        "colab": {
          "base_uri": "https://localhost:8080/"
        },
        "id": "rtPO3VHsnHKj",
        "outputId": "9eb8620a-9052-4ec6-d674-aa4aab15f92a"
      },
      "outputs": [
        {
          "name": "stdout",
          "output_type": "stream",
          "text": [
            "La meva matriu de control es: \n",
            " [[1 1 0 1 1 0 0]\n",
            " [1 1 1 0 0 1 0]\n",
            " [1 0 1 1 0 0 1]]\n",
            "El meu codi es: \n",
            " [[0 0 0 0 0 0 0]\n",
            " [0 0 0 1 1 0 1]\n",
            " [0 0 1 0 0 1 1]\n",
            " [0 0 1 1 1 1 0]\n",
            " [0 1 0 0 1 1 0]\n",
            " [0 1 0 1 0 1 1]\n",
            " [0 1 1 0 1 0 1]\n",
            " [0 1 1 1 0 0 0]\n",
            " [1 0 0 0 1 1 1]\n",
            " [1 0 0 1 0 1 0]\n",
            " [1 0 1 0 1 0 0]\n",
            " [1 0 1 1 0 0 1]\n",
            " [1 1 0 0 0 0 1]\n",
            " [1 1 0 1 1 0 0]\n",
            " [1 1 1 0 0 1 0]\n",
            " [1 1 1 1 1 1 1]]\n"
          ]
        }
      ],
      "source": [
        "import numpy as np\n",
        "import math\n",
        "import ast\n",
        "#Ast es una llibreria per ajudar a visualitzar les matrius simplement\n",
        "\n",
        "def generarCodis(n):\n",
        "    ldc = []\n",
        "    for a in [ str('{0:0'+str(n)+'b}').format(x) for x in range(2**n)]:\n",
        "        a = \" \".join(a).split()\n",
        "        z = []\n",
        "        for j in a:\n",
        "            z.append(int(j))\n",
        "        ldc.append(z)\n",
        "    return np.matrix(ldc)\n",
        "\n",
        "def longitudCodi(C):\n",
        "    return C.shape[1]\n",
        "\n",
        "def dimensioCodi(C):\n",
        "    return math.log(C.shape[0], 10)/math.log(2, 10)\n",
        "\n",
        "def distanciaMinima(C):\n",
        "    dH = set()\n",
        "    for u in C:\n",
        "        for v in C:\n",
        "            if not np.array_equal(u, v):\n",
        "                dH.add(np.count_nonzero(np.bitwise_xor(u,v) == 1))\n",
        "    return min(dH)\n",
        "\n",
        "def capacitatCorrectora(C):\n",
        "    d = distanciaMinima(C)\n",
        "    return abs(d-1)/2\n",
        "\n",
        "\n",
        "H = np.matrix([(1, 1, 0, 1, 1, 0, 0), (1, 1, 1, 0, 0, 1, 0), (1, 0, 1, 1, 0, 0, 1)])\n",
        "C = np.matrix([\n",
        "    (0, 0, 0, 0, 0, 0, 0),\n",
        "    (0, 0, 0, 1, 1, 0, 1),\n",
        "    (0, 0, 1, 0, 0, 1, 1),\n",
        "    (0, 0, 1, 1, 1, 1, 0),\n",
        "    (0, 1, 0, 0, 1, 1, 0),\n",
        "    (0, 1, 0, 1, 0, 1, 1),\n",
        "    (0, 1, 1, 0, 1, 0, 1),\n",
        "    (0, 1, 1, 1, 0, 0, 0),\n",
        "    (1, 0, 0, 0, 1, 1, 1),\n",
        "    (1, 0, 0, 1, 0, 1, 0),\n",
        "    (1, 0, 1, 0, 1, 0, 0),\n",
        "    (1, 0, 1, 1, 0, 0, 1),\n",
        "    (1, 1, 0, 0, 0, 0, 1),\n",
        "    (1, 1, 0, 1, 1, 0, 0),\n",
        "    (1, 1, 1, 0, 0, 1, 0),\n",
        "    (1, 1, 1, 1, 1, 1, 1)])\n",
        "\n",
        "sequenciaCodificar = np.matrix([(1, 1, 1, 0), (0, 0, 0, 1), (1, 1, 0, 1)])\n",
        "sequenciaDescodificar = np.matrix([(1, 1, 1, 1, 0, 0, 0), (0, 0, 0, 1, 1, 1, 1), (1, 1, 0, 1, 0, 0, 0)])\n",
        "\n",
        "print('La meva matriu de control es: \\n', H)\n",
        "print('El meu codi es: \\n', C)\n"
      ]
    },
    {
      "cell_type": "markdown",
      "metadata": {
        "id": "XsSryVgHnHKl"
      },
      "source": [
        "**1.** Dissenyeu la funció $ParametresCodi(C)$ que, donat un codi $C$, en retorni $(n,k,d), t$ on $n$ és la longitud, $k$ la dimensió i $d$ la distància mínima, i $t$ la capacitat correctora.\n",
        "\n",
        "Utilitzeu les funcions $longitudCodi(C)$, $dimensioCodi(C)$, $distanciaMinimaCodi(C)$ i $capacitatCorrectora(C)$ que s'utilitzen per al càlcul general de paràmetres per codis lineals.\n",
        "\n",
        "Mostreu per pantalla el resultat de $ParametresCodi(C)$ passant com a paràmetre el vostre codi."
      ]
    },
    {
      "cell_type": "code",
      "execution_count": 2,
      "metadata": {
        "colab": {
          "base_uri": "https://localhost:8080/"
        },
        "id": "M_drjy06nHKl",
        "outputId": "c71634b5-fbe8-4d45-f3d5-2b533672e930"
      },
      "outputs": [
        {
          "name": "stdout",
          "output_type": "stream",
          "text": [
            "(7, 4.0, 3)\n",
            "1.0\n"
          ]
        }
      ],
      "source": [
        "def ParametresCodi(C):\n",
        "    n = longitudCodi(C)\n",
        "    k = dimensioCodi(C)\n",
        "    d = distanciaMinima(C)\n",
        "    t = capacitatCorrectora(C)\n",
        "    return (n,k,d),t\n",
        "\n",
        "parametres, corrector = ParametresCodi(C)\n",
        "print(parametres)\n",
        "print(corrector)"
      ]
    },
    {
      "cell_type": "markdown",
      "metadata": {
        "id": "jNnCg3p7nHKl"
      },
      "source": [
        "**2.** Donat el nombre de bits redundants, el paràmetre $r$, i sabent que es tracta d'un codi de Hamming, implementeu les funcions $longitudCodiHamming(r)$, $dimensioCodiHamming(r)$ i $distanciaCodiHamming()$.\n",
        "\n",
        "Recordeu que, per qualsevol codi de Hamming, es compleix :\n",
        "\n",
        "* n = 2<sup>r</sup> - 1\n",
        "* k = n - r\n",
        "* d = 3\n",
        "\n",
        "Comprova el resultat de les teves funcions és el mateix que utilitzant les de codi lineal general amb codi $C$, tenint en compte que $r = 3$.\n"
      ]
    },
    {
      "cell_type": "code",
      "execution_count": 3,
      "metadata": {
        "colab": {
          "base_uri": "https://localhost:8080/"
        },
        "id": "_u8JbJprnHKm",
        "outputId": "89e3af0a-853f-4777-940c-895b1ac2a9e4"
      },
      "outputs": [
        {
          "name": "stdout",
          "output_type": "stream",
          "text": [
            "Tot correcte!\n"
          ]
        }
      ],
      "source": [
        "def longitudCodiHamming(r):\n",
        "    return (2**r) -1\n",
        "\n",
        "def dimensioCodiHamming(r):\n",
        "    return longitudCodiHamming(r) - r\n",
        "\n",
        "def distanciaCodiHamming():\n",
        "    return 3\n",
        "\n",
        "assert(longitudCodiHamming(3) == longitudCodi(C))\n",
        "assert(dimensioCodiHamming(3) == dimensioCodi(C))\n",
        "assert(distanciaCodiHamming() == distanciaMinima(C))\n",
        "print(\"Tot correcte!\")"
      ]
    },
    {
      "cell_type": "markdown",
      "metadata": {
        "id": "-_CPHXtOnHKm"
      },
      "source": [
        "**3.** Calculeu la matriu generadora $G$ a partir de la matriu de control $H$, sabent que $H$ conté la matriu identitat en les últimes $r$ columnes. Comproveu que les matrius són ortogonals entre si.\n",
        "Es tracta d’una matriu sistemàtica? Per què? Respon a les dues preguntes a una cel·la de text **addicional**."
      ]
    },
    {
      "cell_type": "code",
      "execution_count": 4,
      "metadata": {
        "colab": {
          "base_uri": "https://localhost:8080/"
        },
        "id": "GnuxTF-5nHKm",
        "outputId": "f1d2b120-4d80-48c3-de6f-792a03c37ba5"
      },
      "outputs": [
        {
          "name": "stdout",
          "output_type": "stream",
          "text": [
            "[[0 0 0 0]\n",
            " [0 0 0 0]\n",
            " [0 0 0 0]] És ortogonal\n",
            "\n",
            "Matriu Generadora:\n",
            " [[1 0 0 0 1 1 1]\n",
            " [0 1 0 0 1 1 0]\n",
            " [0 0 1 0 0 1 1]\n",
            " [0 0 0 1 1 0 1]]\n"
          ]
        }
      ],
      "source": [
        "def calcula_generadora(H):\n",
        "\n",
        "    P_transposed = H[:,:H.shape[1]-H.shape[0]]\n",
        "    identitat = np.identity(H.shape[1] - H.shape[0], dtype = \"int\")\n",
        "    G = np.concatenate((identitat,-np.transpose(P_transposed)), axis = 1)\n",
        "    return G\n",
        "\n",
        "def comprova_ortogonal(H, G):\n",
        "  return np.dot(H,np.transpose(G))\n",
        "\n",
        "print(comprova_ortogonal(H, calcula_generadora(H)),\"És ortogonal\\n\")\n",
        "G = np.abs(calcula_generadora(H))\n",
        "print(\"Matriu Generadora:\\n\", G)"
      ]
    },
    {
      "cell_type": "markdown",
      "metadata": {
        "id": "LhHZi7d-H5T_"
      },
      "source": [
        "**Comproveu que les matrius són ortogonals entre si.**\n",
        "Sí que són ortogonals ja que obtenim la matriu amb tot zeros [[0,0,0,0],[0,0,0,0],[0,0,0,0]]."
      ]
    },
    {
      "cell_type": "markdown",
      "metadata": {
        "id": "lbG65rQKIXkH"
      },
      "source": [
        "**Es tracta d’una matriu sistemàtica? Per què?**\n",
        "És una matriu sistemàtica perquè inclou una matriu identitat a les primeres posicions. Per tant, les columnes restants són combinacions lineals de les columnes de la matriu identitat. Les matrius que es poden descomposar com G=[I\n",
        "​\n",
        " ∣P] esdevenen sistemàtiques."
      ]
    },
    {
      "cell_type": "markdown",
      "metadata": {
        "id": "U7lqIR_FnHKn"
      },
      "source": [
        "**4.** Implementeu la funció $CodificaHamming(G, m)$ que donada la vostra matriu generadora $G$ i un vector binari d'informació $m$ de longitud $k$, retorni el vector codificat.\n",
        "\n",
        "Escolliu un vector binari d'informació $m$ de longitud $k$.\n",
        "\n",
        "Fent servir la funció $CodificaHamming(G, m)$, doneu el vector codificat $v$, dient-ne quin és el valor i la seva longitud del vector que heu escollit, així com pel codificat $v$."
      ]
    },
    {
      "cell_type": "code",
      "execution_count": 5,
      "metadata": {
        "colab": {
          "base_uri": "https://localhost:8080/"
        },
        "id": "moL_cfginHKn",
        "outputId": "0045371b-3c3a-4207-c3b3-0c4d152e5bdc"
      },
      "outputs": [
        {
          "name": "stdout",
          "output_type": "stream",
          "text": [
            "Vector d'informació m: [1, 0, 1, 1]\n",
            "Longitud del vector de informació: 4\n",
            "Vector codificat v: [1 0 1 1 0 0 1]\n",
            "Longitud del vector codificat: 7\n"
          ]
        }
      ],
      "source": [
        "def CodificaHamming(G, m):\n",
        "    m = np.array(m)\n",
        "    if m.ndim != 1:\n",
        "        raise ValueError(\"El vector ha de ser unidimensional\")\n",
        "\n",
        "    v = np.dot(m, G) % 2\n",
        "\n",
        "    return np.array(v.tolist()[0])\n",
        "\n",
        "m = [1, 0, 1, 1]\n",
        "v = CodificaHamming(G, m)\n",
        "\n",
        "print(\"Vector d'informació m:\", m)\n",
        "print(\"Longitud del vector de informació:\", len(m))\n",
        "print(\"Vector codificat v:\", v)\n",
        "print(\"Longitud del vector codificat:\", len(v))\n"
      ]
    },
    {
      "cell_type": "markdown",
      "metadata": {
        "id": "pTfFqv2dnHKn"
      },
      "source": [
        "**5.** Implementeu la funció $DescodificaHamming(H, w)$, que, donant una matriu de control $H$, i un vector binari $w$ de longitud $n$, en retorni:\n",
        "\n",
        "* La sindrome de $w$\n",
        "* El vector $w$ corregit (v')\n",
        "* El vector d'informacio corresponent (m')\n",
        "\n",
        "Utilitzeu les funcions $longitudCodiHamming(r)$ i $dimensioCodiHamming(r)$ que heu implementat anteriorment, amb $r=3$.\n"
      ]
    },
    {
      "cell_type": "code",
      "execution_count": 6,
      "metadata": {
        "id": "GurVwqUQnHKn"
      },
      "outputs": [],
      "source": [
        "def sindrome(w, H):\n",
        "    s = np.dot(w, H.T) % 2\n",
        "    return str(s.tolist()[0])\n",
        "\n",
        "def creacio_dict(n, H, r):\n",
        "    error_dict = {}\n",
        "    error_dict[str([0]*r)] = np.zeros(n, dtype = \"int\")\n",
        "    identitat = np.identity(n, dtype = \"int\")\n",
        "    for fila in identitat:\n",
        "      error_dict[sindrome(fila, H)] = np.array(fila)\n",
        "\n",
        "    return error_dict\n",
        "\n",
        "\n",
        "def DescodificaHamming(H, w):\n",
        "    r = 3\n",
        "    k = dimensioCodiHamming(r)\n",
        "    e_dict = creacio_dict(k+r, H, r)\n",
        "    s = sindrome(w, H)\n",
        "    for sind, error in e_dict.items():\n",
        "      if s == sind:\n",
        "        corrected = (w + error) % 2\n",
        "\n",
        "    return s, corrected, corrected[:k]\n"
      ]
    },
    {
      "cell_type": "markdown",
      "metadata": {
        "id": "9e9wkXXhnHKn"
      },
      "source": [
        "**6.** Considereu un vector $w$ on sabem que s'ha produït un error respecte al vector $v$ de l'apartat de la Codificació.\n",
        "\n",
        "Fent servir la funció $DescodificaHamming(H, w)$, doneu la síndrome de $w$, el vector $w$ després de corregir l'error i el vector d'informació.\n",
        "\n",
        "Feu el mateix, però, afegint dos errors al vector codificat $v$.\n",
        "\n",
        "Com podeu interpretar els dos resultats tenint en compte els paràmetres del codi? Responeu a la pregunta a una cel·la de text **addicional**.\n"
      ]
    },
    {
      "cell_type": "code",
      "execution_count": 7,
      "metadata": {
        "colab": {
          "base_uri": "https://localhost:8080/"
        },
        "id": "PnpFS7XHnHKn",
        "outputId": "1f054d6d-ff67-40be-c877-6c96f3d281d6"
      },
      "outputs": [
        {
          "name": "stdout",
          "output_type": "stream",
          "text": [
            "Vector Codificat inicial: [1 0 1 1 0 0 1]\n",
            "Vector amb error a la posició 0: [0 0 1 1 0 0 1] \n",
            "\n",
            "síndrome: [1, 1, 1]\n",
            "vector w corregit: [1 0 1 1 0 0 1]\n",
            "vector informació [1 0 1 1]\n"
          ]
        }
      ],
      "source": [
        "w = CodificaHamming(G, [1,0,1,1])\n",
        "print(\"Vector Codificat inicial:\",w)\n",
        "\n",
        "#Modifquem un valor perquè s'ha de produir un error\n",
        "w[0] = (w[0] + 1) % 2\n",
        "\n",
        "print(\"Vector amb error a la posició 0:\", w,\"\\n\")\n",
        "\n",
        "s, wc, inf = DescodificaHamming(H,w)\n",
        "\n",
        "print(\"síndrome:\",s)\n",
        "print(\"vector w corregit:\",wc)\n",
        "print(\"vector informació\",inf)"
      ]
    },
    {
      "cell_type": "code",
      "execution_count": 8,
      "metadata": {
        "colab": {
          "base_uri": "https://localhost:8080/"
        },
        "id": "PNGwR8dBbKif",
        "outputId": "486876ce-bd72-4dd6-f98e-c668d441d70c"
      },
      "outputs": [
        {
          "name": "stdout",
          "output_type": "stream",
          "text": [
            "Vector Codificat inicial: [1 0 1 1 0 0 1]\n",
            "Vector amb error a la posició 0 i 1: [0 1 1 1 0 0 1] \n",
            "\n",
            "síndrome: [0, 0, 1]\n",
            "vector w corregit: [0 1 1 1 0 0 0]\n",
            "vector informació [0 1 1 1]\n"
          ]
        }
      ],
      "source": [
        "w = CodificaHamming(G, [1,0,1,1])\n",
        "print(\"Vector Codificat inicial:\",w)\n",
        "\n",
        "#Modifiquem el vector per tenir dos errors\n",
        "w[1] = (w[1] + 1) % 2\n",
        "w[0] = (w[0] + 1) % 2\n",
        "\n",
        "\n",
        "print(\"Vector amb error a la posició 0 i 1:\", w,\"\\n\")\n",
        "\n",
        "s, wc, inf = DescodificaHamming(H,w)\n",
        "\n",
        "print(\"síndrome:\",s)\n",
        "print(\"vector w corregit:\",wc)\n",
        "print(\"vector informació\",inf)"
      ]
    },
    {
      "cell_type": "markdown",
      "metadata": {
        "id": "nRLD4UvhJwRW"
      },
      "source": [
        "**Com podeu interpretar els dos resultats tenint en compte els paràmetres del codi?**\n",
        "En el codi de Hamming, es pot observar que amb un sol error, la descodificació és capaç de detectar i corregir l'error amb èxit \"[1,0,1,1]\". No obstant, amb dos errors és incapaç de reconstruir el vector inicial \"[0,1,1,1] != [1,0,1,1]\". Amb aquest exemple es confirma que el codi hamming és capaç de corregir un error, però no més d'un, tal i com es va explicar a classe."
      ]
    },
    {
      "cell_type": "markdown",
      "metadata": {
        "id": "HUHCGT3anHKn"
      },
      "source": [
        "**7.** Considereu la matriu generadora, i la matriu d'informació $sequenciaCodificar$ definida a la primera cel·la, que correspon a una matriu amb $k$ columnes.\n",
        "\n",
        "Fent servir la funció $CodificaHamming(G, m)$, codifiqueu la informació en forma de matriu."
      ]
    },
    {
      "cell_type": "code",
      "execution_count": 9,
      "metadata": {
        "colab": {
          "base_uri": "https://localhost:8080/"
        },
        "id": "Lkk12U6cnHKn",
        "outputId": "c7592cac-79d2-4b7d-d4b6-cfda0314eace"
      },
      "outputs": [
        {
          "name": "stdout",
          "output_type": "stream",
          "text": [
            "[[1 1 1 0 0 1 0]\n",
            " [0 0 0 1 1 0 1]\n",
            " [1 1 0 1 1 0 0]]\n"
          ]
        }
      ],
      "source": [
        "files_codificades = []\n",
        "\n",
        "for fila in sequenciaCodificar:\n",
        "    files_codificades.append(CodificaHamming(G, fila.tolist()[0]))\n",
        "\n",
        "print(np.matrix(files_codificades))"
      ]
    },
    {
      "cell_type": "markdown",
      "metadata": {
        "id": "6HitlTKcnHKo"
      },
      "source": [
        "**8.** Modifiqueu la funció $DescodificaHamming(H, W)$ vista anteriorment, per tal que, donada una matriu $W$ on a cada fila hi ha un vector binari $W_{i}$, de longitud $n$, i fent servir el vostre codi Hamming, retorni:\n",
        "\n",
        "* La matriu de síndromes on a cada fila hi ha la síndrome de $W_{i}$\n",
        "* La matriu w amb els errors corregits ($v'$)\n",
        "* La matriu d'informació on a cada fila hi ha el vector d'informació corresponent a la fila $W_{i}$ ($m'$).\n",
        "\n",
        "\n",
        "Descodifiqueu i doneu els resultats de la funció $DescodificaHamming(H, w)$ on $w$ correspon al vector $sequenciaDescodificar$ definit a la primera cel·la, transformant-la primer en una matriu amb $n$ columnes.\n"
      ]
    },
    {
      "cell_type": "code",
      "execution_count": 10,
      "metadata": {
        "colab": {
          "base_uri": "https://localhost:8080/"
        },
        "id": "P0CgFhH8nHKo",
        "outputId": "187caf10-326c-4a20-d002-f2bd1388b768"
      },
      "outputs": [
        {
          "name": "stdout",
          "output_type": "stream",
          "text": [
            "Matriu síndrome: \n",
            "[[1 1 1]\n",
            " [0 1 0]\n",
            " [1 0 0]]\n",
            "\n",
            "Matriu w amb els errors corregits: \n",
            "[[0 1 1 1 0 0 0]\n",
            " [0 0 0 1 1 0 1]\n",
            " [1 1 0 1 1 0 0]]\n",
            "\n",
            "Matriu informació: \n",
            " [[0 1 1 1]\n",
            " [0 0 0 1]\n",
            " [1 1 0 1]]\n"
          ]
        }
      ],
      "source": [
        "def DescodificaHamming(H, w):\n",
        "    r = 3\n",
        "    k = dimensioCodiHamming(r)\n",
        "    e_dict = creacio_dict(k+r, H, r)\n",
        "    s_list = []\n",
        "    corrected_list = []\n",
        "    inf_list = []\n",
        "\n",
        "    for fila in w:\n",
        "      fila = fila.tolist()[0]\n",
        "      s = sindrome(fila, H)\n",
        "      for sind, error in e_dict.items():\n",
        "        if s == sind:\n",
        "          corrected = (fila + error) % 2\n",
        "          s_list.append(ast.literal_eval(s))\n",
        "          corrected_list.append(corrected)\n",
        "          inf_list.append(corrected[:k])\n",
        "\n",
        "    return np.matrix(s_list), np.matrix(corrected_list), np.matrix(inf_list)\n",
        "\n",
        "matriu_sindrome,w,info=DescodificaHamming(H, sequenciaDescodificar)\n",
        "\n",
        "print(f'Matriu síndrome: \\n{matriu_sindrome}')\n",
        "print(f'\\nMatriu w amb els errors corregits: \\n{w}')\n",
        "print(f'\\nMatriu informació: \\n {info}')"
      ]
    }
  ],
  "metadata": {
    "colab": {
      "provenance": []
    },
    "kernelspec": {
      "display_name": "Python 3 (ipykernel)",
      "language": "python",
      "name": "python3"
    },
    "language_info": {
      "codemirror_mode": {
        "name": "ipython",
        "version": 3
      },
      "file_extension": ".py",
      "mimetype": "text/x-python",
      "name": "python",
      "nbconvert_exporter": "python",
      "pygments_lexer": "ipython3",
      "version": "3.12.0"
    }
  },
  "nbformat": 4,
  "nbformat_minor": 0
}
