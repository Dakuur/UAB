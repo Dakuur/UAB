{
 "cells": [
  {
   "cell_type": "markdown",
   "id": "d22eded8",
   "metadata": {},
   "source": [
    "# Practica 4: Codificació i Descodificació de cadenes de text"
   ]
  },
  {
   "cell_type": "markdown",
   "id": "69892a3b",
   "metadata": {},
   "source": [
    "A la sessio anterior hem programat mitjançant codis de Hamming la codificacio i descodificacio de vectors i matrius. En aquesta sessió, posarem a prova de codificar i descodificar missatges amb el codi ASCII transformant\n",
    "prèviament en codi binari."
   ]
  },
  {
   "cell_type": "markdown",
   "id": "aa7e7cb3",
   "metadata": {},
   "source": [
    "Familiaritzeu-vos amb les següents variables, que són, el codi  $𝐶$ i la seva matriu de control  $𝐻$.\n",
    "\n",
    "Aquesta informació serà els vostres paràmetres de cadascuna de les funcions que us demanarem que implementeu per aquesta sessió de pràctica.\n",
    "\n",
    "**𝑁𝑜𝑡𝑎 :** Recordeu que les cel·les de la llibreta Jupiter tenen memòria, és a dir, que cel·les executades posteriorment, tenen definides les variables de les cel·les anteriors."
   ]
  },
  {
   "cell_type": "code",
   "execution_count": 1,
   "id": "bf99ef2d",
   "metadata": {},
   "outputs": [],
   "source": [
    "import numpy as np\n",
    "import math\n",
    "\n",
    "H = np.matrix([(1, 1, 0, 1, 1, 0, 0), (1, 1, 1, 0, 0, 1, 0), (1, 0, 1, 1, 0, 0, 1)]) \n",
    "C = np.matrix([\n",
    "    (0, 0, 0, 0, 0, 0, 0), \n",
    "    (0, 0, 0, 1, 1, 0, 1),            \n",
    "    (0, 0, 1, 0, 0, 1, 1),\n",
    "    (0, 0, 1, 1, 1, 1, 0),\n",
    "    (0, 1, 0, 0, 1, 1, 0),\n",
    "    (0, 1, 0, 1, 0, 1, 1),\n",
    "    (0, 1, 1, 0, 1, 0, 1),\n",
    "    (0, 1, 1, 1, 0, 0, 0),\n",
    "    (1, 0, 0, 0, 1, 1, 1),\n",
    "    (1, 0, 0, 1, 0, 1, 0),\n",
    "    (1, 0, 1, 0, 1, 0, 0),\n",
    "    (1, 0, 1, 1, 0, 0, 1),\n",
    "    (1, 1, 0, 0, 0, 0, 1),\n",
    "    (1, 1, 0, 1, 1, 0, 0),\n",
    "    (1, 1, 1, 0, 0, 1, 0),\n",
    "    (1, 1, 1, 1, 1, 1, 1)])"
   ]
  },
  {
   "cell_type": "markdown",
   "id": "4592accc",
   "metadata": {},
   "source": [
    "**1.** Conversio d’un missatge de text a seqüència binària, i viceversa. \n",
    "\n",
    "Per codificar i descodificar una cadena de text, necessitarem convertir una cadena de text a una seqüència binària, i viceversa.\n",
    "\n",
    "**(a)** Dissenyeu la funció $StringToBinarySeq(sStr)$ que, donada una cadena de text $sStr$ de longitud $n$, retorni:\n",
    "\n",
    "(i) Una llista de longitud $n$ amb el codi ASCII representat amb nombres decimals dels caràcters de $sStr$.\n",
    "\n",
    "(ii) Una llista de longitud 8n amb els bits obtinguts a la llista anterior.\n",
    "\n",
    "Per exemple, $StringToBinarySeq(”mi”)$ ha de retornar: [109,105],[0,1,1,0,1,1,0,1,0,1,1,0,1,0,0,1].\n",
    "\n",
    "Nota: Podeu aprofitar els següents exemples:\n",
    "\n",
    "- \" \".join(\"informacio\") => \"i n f o r m a c i o\"\n",
    "- \"{0:03b}\".format(5) => \"101\""
   ]
  },
  {
   "cell_type": "code",
   "execution_count": 2,
   "id": "761f19f9",
   "metadata": {},
   "outputs": [],
   "source": [
    "import numpy as np\n",
    "\n",
    "def StringToBinary(sStr):\n",
    "    ll_bin=[]\n",
    "    ll_ascii=[ord(i) for i in sStr]\n",
    "    for n in ll_ascii:\n",
    "        binari=\"{0:08b}\".format(n)\n",
    "        ll_bin.append(binari)\n",
    "    ll_bin=''.join(ll_bin)\n",
    "    ll_bin=[int(x) for x in ll_bin]\n",
    "    return ll_ascii,ll_bin\n"
   ]
  },
  {
   "cell_type": "markdown",
   "id": "af0dd596",
   "metadata": {},
   "source": [
    "**(b)** Considereu la cadena de text \"Codi\". Executeu $StringToBinarySeq(s)$ i mostreu els resultats.\n"
   ]
  },
  {
   "cell_type": "code",
   "execution_count": 3,
   "id": "c2709d6f",
   "metadata": {},
   "outputs": [
    {
     "name": "stdout",
     "output_type": "stream",
     "text": [
      "[67, 111, 100, 105]\n",
      "[0, 1, 0, 0, 0, 0, 1, 1, 0, 1, 1, 0, 1, 1, 1, 1, 0, 1, 1, 0, 0, 1, 0, 0, 0, 1, 1, 0, 1, 0, 0, 1]\n"
     ]
    }
   ],
   "source": [
    "ascii,bina=StringToBinary(\"Codi\")\n",
    "print(ascii)\n",
    "print(bina)"
   ]
  },
  {
   "cell_type": "markdown",
   "id": "43df034f",
   "metadata": {},
   "source": [
    "**(c)** Dissenyeu la funció $BinarySeqToString(sBin)$ que realitzi el proces contrari a la funció anterior, o  sigui, que donada una seqüència binària sBin, retorni:\n",
    "\n",
    "(i)Una llista amb el codi ASCII representat amb nombres decimals.\n",
    "\n",
    "(ii)La cadena de text corresponent.\n",
    "\n",
    "Nota: \n",
    "\n",
    "- Busqueu a Internet com funciona np.split()\n",
    "\n",
    "- Per convertir en base 10 un número binari, int(binari, 2)\n"
   ]
  },
  {
   "cell_type": "code",
   "execution_count": 4,
   "id": "e4e4fc38",
   "metadata": {},
   "outputs": [],
   "source": [
    "import numpy as np\n",
    "\n",
    "def BinaryToString(sBin):\n",
    "    binary_str = ''.join(str(bit) for bit in sBin)\n",
    "    bytes_arr = np.array([binary_str[i:i+8] for i in range(0, len(binary_str), 8)])\n",
    "    string = ''.join(chr(int(byte, 2)) for byte in bytes_arr)\n",
    "    return string"
   ]
  },
  {
   "cell_type": "markdown",
   "id": "de985042",
   "metadata": {},
   "source": [
    "**(d)** Utilitzeu la funció $BinarySeqToString(sBin)$ implementada anteriorment. Recupereu la cadena de text corresponent a la seqüència binària $sBin$ obtinguda en l’apartat **1(b)**, juntament amb la cadena corresponent."
   ]
  },
  {
   "cell_type": "code",
   "execution_count": 5,
   "id": "d07435bc",
   "metadata": {},
   "outputs": [
    {
     "name": "stdout",
     "output_type": "stream",
     "text": [
      "Codi\n"
     ]
    }
   ],
   "source": [
    "string=BinaryToString(bina)\n",
    "print(string)"
   ]
  },
  {
   "cell_type": "markdown",
   "id": "41a0b02e",
   "metadata": {},
   "source": [
    "**2.** Codificació i descodificació de text. \n",
    "\n",
    "Feu servir principalment les funcions per codificar i descodificar de la sessió anterior, així com totes les funcions que cregueu oportunes d’aquella sessió, les funcions de conversió de l’apartat 1, i les funcions $VectorToMatrix$ i $MatrixToVector$. Considereu sempre el codi de Hamming amb paràmetre r = 3 amb la matriu de control donada a **(1)**."
   ]
  },
  {
   "cell_type": "code",
   "execution_count": 33,
   "id": "1447709a",
   "metadata": {},
   "outputs": [],
   "source": [
    "import numpy as np\n",
    "\n",
    "def longitudCodiHamming(r):\n",
    "    n=(2**r)-1\n",
    "    return n\n",
    "\n",
    "def dimensioCodiHamming(r):\n",
    "    n=longitudCodiHamming(r)\n",
    "    k=n-r\n",
    "    return k\n",
    "\n",
    "def distanciaCodiHamming():\n",
    "    return 3\n",
    "    \n",
    "    \n",
    "#Càlcul de la matriu G\n",
    "def matriu_generadora(H):\n",
    "    r=3\n",
    "    files=H.shape[1]-H.shape[0]\n",
    "    matriu=H[:,:-r]\n",
    "    transposada=np.transpose(matriu)\n",
    "    identidad = np.identity(files)\n",
    "    generadora = np.hstack((identidad, transposada))\n",
    "    return generadora\n",
    "\n",
    "def CodificaHamming(G, m):\n",
    "    codificat=(m*G)%2\n",
    "    return codificat\n",
    "\n",
    "def DescodificaHamming(H, w):\n",
    "    dimensio=dimensioCodiHamming(3)\n",
    "    longitud=longitudCodiHamming(3)\n",
    "    sindrome=(w*H.transpose())%2\n",
    "    error=np.zeros((1,longitud))\n",
    "    pos=0\n",
    "    for fila in H.transpose():\n",
    "        if fila.tolist()==sindrome.tolist():\n",
    "            error[0][pos]=1\n",
    "        pos+=1\n",
    "    corregit=(error+w)%2\n",
    "    info=corregit[:, :dimensio].tolist()\n",
    "    return sindrome, corregit, info\n",
    "\n",
    "def VectorToMatrix(vec,n):\n",
    "    Arr=[]\n",
    "    Arr = np.split(vec,n)\n",
    "    Mat = np.matrix(Arr)\n",
    "    return Mat\n",
    "\n",
    "def MatrixToVector(mat):\n",
    "    v = np.array(mat)\n",
    "    v = v.flatten()\n",
    "    v = v.astype(int)\n",
    "    return v"
   ]
  },
  {
   "cell_type": "markdown",
   "id": "6e2ebf0d",
   "metadata": {},
   "source": [
    "**(a)** Codifiqueu la cadena de text de l'apartat **1(b)** i mostra, la matriu sense codificar i la matriu codificada."
   ]
  },
  {
   "cell_type": "code",
   "execution_count": 34,
   "id": "bad4adc6",
   "metadata": {},
   "outputs": [
    {
     "name": "stdout",
     "output_type": "stream",
     "text": [
      "Matriu sense codificar:  [[0 1 0 0]\n",
      " [0 0 1 1]\n",
      " [0 1 1 0]\n",
      " [1 1 1 1]\n",
      " [0 1 1 0]\n",
      " [0 1 0 0]\n",
      " [0 1 1 0]\n",
      " [1 0 0 1]]\n",
      "Matriu codificada: [[0. 1. 0. 0. 1. 1. 0.]\n",
      " [0. 0. 1. 1. 1. 1. 0.]\n",
      " [0. 1. 1. 0. 1. 0. 1.]\n",
      " [1. 1. 1. 1. 1. 1. 1.]\n",
      " [0. 1. 1. 0. 1. 0. 1.]\n",
      " [0. 1. 0. 0. 1. 1. 0.]\n",
      " [0. 1. 1. 0. 1. 0. 1.]\n",
      " [1. 0. 0. 1. 0. 1. 0.]]\n"
     ]
    }
   ],
   "source": [
    "ascii,bina=StringToBinary(\"Codi\")\n",
    "bina=np.array(bina)\n",
    "matriu_no_codificada = VectorToMatrix(bina, 8)\n",
    "G = matriu_generadora(H)\n",
    "matriu_codificada = CodificaHamming(G, matriu_no_codificada)\n",
    "print(\"Matriu sense codificar: \", matriu_no_codificada)\n",
    "print(\"Matriu codificada:\", matriu_codificada)"
   ]
  },
  {
   "cell_type": "markdown",
   "id": "1f464d07",
   "metadata": {},
   "source": [
    "**(b)** Descodifica el resultat de l'apartat **2(a)** i mostra la cadena de text."
   ]
  },
  {
   "cell_type": "code",
   "execution_count": 35,
   "id": "8d3a7f31",
   "metadata": {},
   "outputs": [
    {
     "name": "stdout",
     "output_type": "stream",
     "text": [
      "Cadena de text:  Codi\n",
      "[[0.0, 1.0, 0.0, 0.0], [0.0, 0.0, 1.0, 1.0], [0.0, 1.0, 1.0, 0.0], [1.0, 1.0, 1.0, 1.0], [0.0, 1.0, 1.0, 0.0], [0.0, 1.0, 0.0, 0.0], [0.0, 1.0, 1.0, 0.0], [1.0, 0.0, 0.0, 1.0]]\n"
     ]
    }
   ],
   "source": [
    "sindrome, corregit, info = DescodificaHamming(H, matriu_codificada)\n",
    "matriu=MatrixToVector(info)\n",
    "string=BinaryToString(matriu)\n",
    "print(\"Cadena de text: \", string)\n"
   ]
  },
  {
   "cell_type": "markdown",
   "id": "d9e2c9cd",
   "metadata": {},
   "source": [
    "**(c)** Quin es el nombre máxim d’errors que es poden introduir a la matriu codificada de manera que es puguin corregir? A quines posicions podem afegir aquests errors? La funció $AfegirErrors(M,f,c)$, on els paràmetres són una matriu $M$, una fila $f$ i una columna $c$, introdueix un error a $M$ a la posició $(f, c)$. Feu servir la funció $AfegirErrors(M,f,c)$ per afegir els errors i comproveu llavors que, afegint aquests errors, la cadena de l’apartat 1(b) segueix sent la mateixa un cop descodificada."
   ]
  },
  {
   "cell_type": "code",
   "execution_count": null,
   "id": "32c6d654",
   "metadata": {},
   "outputs": [],
   "source": []
  },
  {
   "cell_type": "code",
   "execution_count": 37,
   "id": "3fd28733",
   "metadata": {},
   "outputs": [],
   "source": [
    "def AfegeixErrors(M,f,c):\n",
    "    M[f,c] =  (M[f,c] + 1) %2\n",
    "     \n",
    "    return M"
   ]
  },
  {
   "cell_type": "code",
   "execution_count": 46,
   "id": "79c90039",
   "metadata": {},
   "outputs": [
    {
     "name": "stdout",
     "output_type": "stream",
     "text": [
      "El maxim d'errors que es pot corregir 1\n"
     ]
    }
   ],
   "source": [
    "import math\n",
    "d=distanciaCodiHamming()\n",
    "max_errors=math.floor((d-1)/2)\n",
    "print(\"El maxim d'errors que es pot corregir\", max_errors)"
   ]
  },
  {
   "cell_type": "code",
   "execution_count": 65,
   "id": "4cb3db56",
   "metadata": {},
   "outputs": [
    {
     "name": "stdout",
     "output_type": "stream",
     "text": [
      "Cadena de text:  Codi\n"
     ]
    }
   ],
   "source": [
    "matriu_codificada=CodificaHamming(G, matriu_no_codificada)\n",
    "matriu_codificada=AfegeixErrors(matriu_codificada,2,5)\n",
    "\n",
    "\n",
    "sindrome, corregit, info = DescodificaHamming(H, matriu_codificada)\n",
    "matriu=MatrixToVector(info)\n",
    "string=BinaryToString(matriu)\n",
    "print(\"Cadena de text: \", string)"
   ]
  },
  {
   "cell_type": "markdown",
   "id": "a6dcb4cb",
   "metadata": {},
   "source": [
    "**Resposta:** El maxim d'errors que es pot corregir 1 ja que la matriu de control és 1-correctora (perquè si r=3, (r-1)/2=1). Les posicions on podem afegir aquests errors són aquelles que no formin part de les 4 primeres columnes, ja que és on es troba la informació."
   ]
  },
  {
   "cell_type": "markdown",
   "id": "ec85e7b0",
   "metadata": {},
   "source": [
    "**(d)** Quin és nombre mínim d’errors que es poden introduir a la matriu codificada de manera que no es puguin corregir? A quines posicions podem afegir aquests errors? Utilitzeu la funció $AfegirErrors(M,f,c)$ per\n",
    "afegir els errors i comproveu llavors que, afegint aquests errors, la cadena de l’apartat 1 (b) no és la mateixa un cop descodificada."
   ]
  },
  {
   "cell_type": "code",
   "execution_count": 67,
   "id": "de076840",
   "metadata": {},
   "outputs": [
    {
     "name": "stdout",
     "output_type": "stream",
     "text": [
      "Cadena de text:  Coti\n"
     ]
    }
   ],
   "source": [
    "matriu_codificada=CodificaHamming(G, matriu_no_codificada)\n",
    "matriu_codificada=AfegeixErrors(matriu_codificada,4,3)\n",
    "\n",
    "\n",
    "sindrome, corregit, info = DescodificaHamming(H, matriu_codificada)\n",
    "matriu=MatrixToVector(info)\n",
    "string=BinaryToString(matriu)\n",
    "print(\"Cadena de text: \", string)"
   ]
  },
  {
   "cell_type": "markdown",
   "id": "3bc150af",
   "metadata": {},
   "source": [
    "**Resposta:** La matriu de control és 1-correctora (perquè si r=3, (r-1)/2=1), per tant com mínim podrem afegir 1 error sempre que no el situem en alguna posició que es trobi en el 4 primeres columnes (on es troba la informació), si posem un error en alguna de les primeres 4 columnes, no es podrà corregir i la cadena de text canviarà."
   ]
  },
  {
   "cell_type": "code",
   "execution_count": null,
   "id": "4a815c19",
   "metadata": {},
   "outputs": [],
   "source": []
  }
 ],
 "metadata": {
  "kernelspec": {
   "display_name": "Python 3 (ipykernel)",
   "language": "python",
   "name": "python3"
  },
  "language_info": {
   "codemirror_mode": {
    "name": "ipython",
    "version": 3
   },
   "file_extension": ".py",
   "mimetype": "text/x-python",
   "name": "python",
   "nbconvert_exporter": "python",
   "pygments_lexer": "ipython3",
   "version": "3.10.13"
  }
 },
 "nbformat": 4,
 "nbformat_minor": 5
}
