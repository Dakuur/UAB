{
  "cells": [
    {
      "cell_type": "markdown",
      "metadata": {
        "id": "R2sxzEPckGhs"
      },
      "source": [
        "Nom_Cognom_1 = \"David Morillo Massagué\"\n",
        "NIU_1        = \"1666540\"\n",
        "Nom_Cognom_2 = \"Adrià Muro Gómez\"\n",
        "NIU_2        = \"1665191\"\n",
        "\n",
        "Grup: A_6"
      ]
    },
    {
      "cell_type": "markdown",
      "metadata": {
        "id": "8B_h3vlVkGhw"
      },
      "source": [
        "# Pràctica 1: Codificació Aritmètica.\n"
      ]
    },
    {
      "cell_type": "markdown",
      "metadata": {
        "id": "vc9SdzF2kGhx"
      },
      "source": [
        "L'Agència Espacial Europea (ESA) i estan buscant grups d'enginyers/es per ajudar en la comunicació  espacial de llargues distàncies.\n",
        "El vostre professor de pràctiques us recomana que ús presenteu a la convocatòria de places. Ho feu, ja que és una bona oportunitat, no teniu res a perdre i molt a guanyar!!!\n",
        "\n",
        "L'ESA vol que implementeu una codificació per un canal que només permet emetre dígits, ja que les comunicacions són llargues i es fan a temps real. A més, un altre criteri indispensable és que el missatge sigui el més curt possible. Per això decidiu implementar un dels algoritmes de codificació treballats a l'assignatura de teoria de la Informaci\\'{o} i de la Codificació, la codificació aritmètica.  \n",
        "\n",
        "El primer missatge que s'enviarà a l'estació espacial internacional és $mTerrestre=$ \"$XY$. ens rebeu?\" on $XY$ és la multiplicació dels últims dígits de cada NIU.(Per exemple si el NIU del Pau és 1567897 i el de la Maria és  163899, $XY = 7*9=63$ )\n",
        "\n",
        "El professor de pràctiques, decideix donar-vos un cop de mà, ha dividit en petites fites la implementació del tipus de codificador que heu decidit."
      ]
    },
    {
      "cell_type": "markdown",
      "metadata": {
        "id": "ZicDBO1ykGhx"
      },
      "source": [
        "**1.** Implementeu la funció $DictRepeticions(missatge)$ que genera un diccionari on les claus són els símbols del missatge i els valors la quantitat en què apareix cada símbol dins el missatge. És a dir, si el vostre missatge és $\"ajuda\"$, obtindríeu un diccionari de l'estil \\{a:2, j:1, u:1, d:1\\}."
      ]
    },
    {
      "cell_type": "code",
      "execution_count": 1,
      "metadata": {
        "colab": {
          "base_uri": "https://localhost:8080/"
        },
        "id": "53G62oJTkGhy",
        "outputId": "a3b156ff-977e-4bbc-a27a-bb465c12b717"
      },
      "outputs": [
        {
          "name": "stdout",
          "output_type": "stream",
          "text": [
            "{'0': 1, '.': 1, ' ': 2, 'e': 3, 'n': 1, 's': 1, 'r': 1, 'b': 1, 'u': 1, '?': 1}\n"
          ]
        }
      ],
      "source": [
        "niu_1 = \"1666540\"\n",
        "niu_2 = \"1665191\"\n",
        "\n",
        "num = int(niu_1[-1])*int(niu_2[-1])\n",
        "\n",
        "mTerrestre = f\"{num}. ens rebeu?\"\n",
        "### Implementeu aquí el vostre codi\n",
        "def DictRepeticions(missatge):\n",
        "    diccionari = {}\n",
        "\n",
        "    for simbol in missatge:\n",
        "            if simbol in diccionari:\n",
        "                diccionari[simbol] += 1\n",
        "            else:\n",
        "                diccionari[simbol] = 1\n",
        "\n",
        "    return diccionari\n",
        "\n",
        "taulaF = DictRepeticions(mTerrestre)\n",
        "print(taulaF)"
      ]
    },
    {
      "cell_type": "markdown",
      "metadata": {
        "id": "hw6IdMlbkGhz"
      },
      "source": [
        "**2.** Implementeu la funció $IntervalProbabilitats(missatge)$ que a partir del missatge generi la partició de l'interval $[0,1)$ segons les probabilitats dels símbols. La funció retornarà un diccionari on les claus són els símbols i els valors són els intervals. És a dir, si el vostre missatge és $\"ajuda\"$, obtindríeu \\{a:$[0,2/5]$, j:$[2/5,3/5]$, u:$[3/5,4/5]$,d:$[4/5,1]$\\}. Quin és l'interval més petit? A què es deu aquest fet?"
      ]
    },
    {
      "cell_type": "code",
      "execution_count": 2,
      "metadata": {
        "colab": {
          "base_uri": "https://localhost:8080/",
          "height": 92
        },
        "id": "m9rY-65SkGh0",
        "outputId": "15c4af49-bbd8-4247-eea2-783290244cb3"
      },
      "outputs": [
        {
          "name": "stdout",
          "output_type": "stream",
          "text": [
            "{'0': (0.0, 0.07692307692307693), '.': (0.07692307692307693, 0.15384615384615385), ' ': (0.15384615384615385, 0.3076923076923077), 'e': (0.3076923076923077, 0.5384615384615384), 'n': (0.5384615384615384, 0.6153846153846154), 's': (0.6153846153846154, 0.6923076923076923), 'r': (0.6923076923076923, 0.7692307692307693), 'b': (0.7692307692307693, 0.8461538461538461), 'u': (0.8461538461538461, 0.9230769230769231), '?': (0.9230769230769231, 1.0)}\n"
          ]
        }
      ],
      "source": [
        "### Implementeu aquí el vostre codi\n",
        "def IntervalProbabilitats(missatge):\n",
        "    dic = DictRepeticions(missatge)\n",
        "    total = len(missatge)\n",
        "    new_dic = {}\n",
        "    cum = 0\n",
        "\n",
        "    for simbol, quant in dic.items():\n",
        "        value = quant + cum\n",
        "        #new_dic[simbol] = f\"[{cum}/{total}, {value}/{total}]\"\n",
        "        new_dic[simbol] = (cum/total, value/total)\n",
        "        cum = value\n",
        "\n",
        "    return new_dic\n",
        "\n",
        "print(IntervalProbabilitats(mTerrestre))"
      ]
    },
    {
      "cell_type": "markdown",
      "metadata": {
        "id": "HOdy3q_rkGh0"
      },
      "source": [
        "**Resposta:** La longitud dels intervals depenen de la probabilitat que tenen els respectius símbols. Els símbols que siguin poc freqüents tindran un interval més petit que els símbols que apareguin múltiples vegades en el missatge.\n",
        "En aquest cas, els intervals més petits son els dels símbols que apareixen una vegada al missatge: (0, ., n, s, r, b, u, ?)."
      ]
    },
    {
      "cell_type": "markdown",
      "metadata": {
        "id": "xeJZtpolkGh0"
      },
      "source": [
        "Si recordeu l'algoritme de codificació aritmètica per trobar l'interval de codificació, ho fem iterativament dividint un interval en subintervals i escollint el que correspon al símbol que volem codificar. Una manera d'aconseguir el nou interval consisteix a partir de l'interval actual $I_{actual} = [L_{actual}, H_{actual})$ aleshores si volem codificar el següent caràcter suposem que és $t$  que pertany a l'interval $I_t = [L_{t},H_{t})$ aleshores el nou interval $[L_{final}, H_{final})$ és (observeu el pdf de l'enunciat)"
      ]
    },
    {
      "cell_type": "markdown",
      "metadata": {
        "id": "vfGbYl_pkGh1"
      },
      "source": [
        "**3.** Implementeu la funció $NouInterval(intervalActual, intervalSimbol)$ que a partir de l'interval actual i del següent interval retorna el nou interval de la codificació aritmètica. És a dir, si executeu\n",
        "$NouInterval($[0,0.5]$,$[0.5,0.6]$)$ hauria de retornar $[0.25,0.3]$. Comproveu que esta ben implementada."
      ]
    },
    {
      "cell_type": "code",
      "execution_count": 3,
      "metadata": {
        "colab": {
          "base_uri": "https://localhost:8080/"
        },
        "id": "r37544_0kGh1",
        "outputId": "1f1e1ed8-e686-4abc-a9e9-18187651ea7b"
      },
      "outputs": [
        {
          "name": "stdout",
          "output_type": "stream",
          "text": [
            "True\n"
          ]
        }
      ],
      "source": [
        "def NouInterval(currentInterval,carInterval):\n",
        "    l_act = currentInterval[0]\n",
        "    h_act = currentInterval[1]\n",
        "\n",
        "    lt = carInterval[0]\n",
        "    ht = carInterval[1]\n",
        "\n",
        "    dif = (h_act - l_act)\n",
        "    lf = l_act + dif * lt\n",
        "    hf = l_act + dif * ht\n",
        "\n",
        "    return (lf, hf)\n",
        "\n",
        "#Aquí comproveu que esta ben implementada\n",
        "res = NouInterval([0,0.5],[0.5,0.6])\n",
        "print(res == (0.25, 0.3))"
      ]
    },
    {
      "cell_type": "markdown",
      "metadata": {
        "id": "ft85uFt-kGh1"
      },
      "source": [
        "**4.** Implementeu la funció $codificacioAritmetica(missatge)$ que donat un missatge calculi l'interval de la codificació aritmètica.Quin és el primer missatge que envieu l'estació espacial internacional? Podríeu enviar algun altre amb el mateix significat?  "
      ]
    },
    {
      "cell_type": "code",
      "execution_count": 4,
      "metadata": {
        "colab": {
          "base_uri": "https://localhost:8080/"
        },
        "id": "_Pl7of3QkGh1",
        "outputId": "b6259902-79e3-4bfd-a924-ab18ec28d427"
      },
      "outputs": [
        {
          "name": "stdout",
          "output_type": "stream",
          "text": [
            "Iteracions: 10\n",
            "Interval actual: (0.0, 0.07692307692307693)\n",
            "Interval actual: (0.00591715976331361, 0.01183431952662722)\n",
            "Interval actual: (0.0068274920345926275, 0.007737824305871644)\n",
            "Interval actual: (0.007107594271909248, 0.0073176709498967134)\n",
            "Interval actual: (0.0072207124831332676, 0.007236872227593842)\n",
            "Interval actual: (0.007230656941262852, 0.00723189999852905)\n",
            "Interval actual: (0.00723151751937022, 0.007231613139159927)\n",
            "Interval actual: (0.00723159107305461, 0.007231598428423049)\n",
            "Interval actual: (0.0072315972968279045, 0.007231597862625477)\n",
            "Interval final: (0.007231597819102587, 0.007231597862625477)\n",
            "(0.007231597819102587, 0.007231597862625477)\n",
            "Error: 4.3522890152969396e-11\n",
            "Missatge d'exemple: 0.007231597819102587\n"
          ]
        }
      ],
      "source": [
        "### Implementeu aquí el vostre codi\n",
        "def CodificacioAritmetica(missatge):\n",
        "    dic = IntervalProbabilitats(missatge)\n",
        "    p = list(dic.values())\n",
        "    print(f\"Iteracions: {len(p)}\")\n",
        "    interval = p[0]\n",
        "    for i in range(1, len(p)):\n",
        "        print(f\"Interval actual: {interval}\")\n",
        "        interval = NouInterval(interval, p[i])\n",
        "    print(f\"Interval final: {interval}\")\n",
        "    return interval\n",
        "\n",
        "codif = CodificacioAritmetica(mTerrestre)\n",
        "print(codif)\n",
        "print(f\"Error: {codif[1]- codif[0]}\")\n",
        "\n",
        "\n",
        "print(f\"Missatge d'exemple: {codif[0]}\")\n",
        "#Aquí printeu el resultat"
      ]
    },
    {
      "cell_type": "markdown",
      "metadata": {
        "id": "cIDGzfEkkGh2"
      },
      "source": [
        "**Resposta:** El missatge que decidim enviar és 0.007231597819102587\n",
        "\n",
        "Podríem enviar qualsevol missatge amb el mateix significat escollint una xifra entre 0.007231597819102587 i 0.007231597862625477 (interval resultant al final del algoritme)."
      ]
    },
    {
      "cell_type": "markdown",
      "metadata": {
        "id": "b5PFPeJkkGh2"
      },
      "source": [
        "L'ESA ha implementat la vostra proposta de codificador i... Eureka!!! Han obtingut  una resposta quan han enviat el missatge $mTerrestre$. El becari de torn s'ha posat ràpidament a implementar un descodificador però sembla que no se'n ensurt, li podríeu donar un cop de mà."
      ]
    },
    {
      "cell_type": "markdown",
      "metadata": {
        "id": "aOkoDy6ikGh2"
      },
      "source": [
        "**5.** Completeu la implementació del descodificador. El missatge que han rebut de l'espai és 0.1743095070635363 i sabem que sempre ens envien missatges de 16 caràcters. Què ens diu el missatge que hem rebut?"
      ]
    },
    {
      "cell_type": "code",
      "execution_count": 5,
      "metadata": {
        "id": "fOj9vGzZkGh2"
      },
      "outputs": [],
      "source": [
        "### Completeu el codi del becari\n",
        "codifEspai = 0.1743095070635363\n",
        "taulaIntervals = {'a': [0.0, 0.0625], '!': [0.0625, 0.125], 'E': [0.125, 0.1875], 's': [0.1875, 0.3125], 'r': [0.3125, 0.5625], 't': [0.5625, 0.75], 'x': [0.75, 0.8125], 'e': [0.8125, 1.0]}\n",
        "\n",
        "def DescodAritmetica(missatgeCodificat, numCar, taulaIntervals):\n",
        "    missatgeDescodificat=[]\n",
        "    while numCar > 0:\n",
        "        for i in taulaIntervals:\n",
        "            interval=taulaIntervals[i]\n",
        "            if interval[0] <= missatgeCodificat < interval[1]:\n",
        "                missatgeDescodificat.append(i)\n",
        "                missatgeCodificat = (missatgeCodificat-interval[0])/(interval[1]-interval[0])\n",
        "                numCar -= 1\n",
        "\n",
        "\n",
        "    return \"\".join(missatgeDescodificat)\n",
        "\n",
        "resultat = DescodAritmetica(codifEspai, 16, taulaIntervals)\n"
      ]
    },
    {
      "cell_type": "code",
      "execution_count": 6,
      "metadata": {
        "colab": {
          "base_uri": "https://localhost:8080/"
        },
        "id": "jgVj_uYakGh2",
        "outputId": "774fe7a1-f77e-4a17-c817-68594473b2d5"
      },
      "outputs": [
        {
          "name": "stdout",
          "output_type": "stream",
          "text": [
            "Extraterrestres!a\n"
          ]
        }
      ],
      "source": [
        "print(resultat)"
      ]
    },
    {
      "cell_type": "markdown",
      "metadata": {
        "id": "jpGF-AytkGh2"
      },
      "source": [
        "**Resposta:** Missatge: \"Extraterrestres!\""
      ]
    }
  ],
  "metadata": {
    "colab": {
      "provenance": []
    },
    "kernelspec": {
      "display_name": "Python 3",
      "language": "python",
      "name": "python3"
    },
    "language_info": {
      "codemirror_mode": {
        "name": "ipython",
        "version": 3
      },
      "file_extension": ".py",
      "mimetype": "text/x-python",
      "name": "python",
      "nbconvert_exporter": "python",
      "pygments_lexer": "ipython3",
      "version": "3.12.2"
    }
  },
  "nbformat": 4,
  "nbformat_minor": 0
}
