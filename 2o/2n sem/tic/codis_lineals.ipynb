{
 "cells": [
  {
   "cell_type": "code",
   "execution_count": 2,
   "metadata": {},
   "outputs": [
    {
     "name": "stdout",
     "output_type": "stream",
     "text": [
      "Minimum distance of the linear code: 1\n"
     ]
    }
   ],
   "source": [
    "def hamming_distance(word1, word2):\n",
    "    \"\"\"Calculates the Hamming distance between two words.\"\"\"\n",
    "    return sum(c1 != c2 for c1, c2 in zip(word1, word2))\n",
    "\n",
    "def minimum_distance_linear_code(matrix):\n",
    "    \"\"\"Calculates the minimum distance of a linear code represented by a matrix.\"\"\"\n",
    "    d = float('inf')  # Initialize minimum distance with infinity\n",
    "    num_words = len(matrix)\n",
    "\n",
    "    for i in range(num_words):\n",
    "        for j in range(i + 1, num_words):\n",
    "            distance = hamming_distance(matrix[i], matrix[j])\n",
    "            if distance < d:\n",
    "                d = distance\n",
    "\n",
    "    return d\n",
    "\n",
    "# Example usage:\n",
    "c = [\n",
    "    [1, 0, 0],\n",
    "    [0, 1, 0],\n",
    "    [0, 0, 1],\n",
    "    [1, 0, 1],\n",
    "    [1, 1, 1],\n",
    "    [1, 1, 0],\n",
    "    [0, 1, 1]\n",
    "]\n",
    "\n",
    "min_distance = minimum_distance_linear_code(matrix)\n",
    "print(\"Minimum distance of the linear code:\", min_distance)"
   ]
  }
 ],
 "metadata": {
  "kernelspec": {
   "display_name": "Python 3",
   "language": "python",
   "name": "python3"
  },
  "language_info": {
   "codemirror_mode": {
    "name": "ipython",
    "version": 3
   },
   "file_extension": ".py",
   "mimetype": "text/x-python",
   "name": "python",
   "nbconvert_exporter": "python",
   "pygments_lexer": "ipython3",
   "version": "3.12.2"
  }
 },
 "nbformat": 4,
 "nbformat_minor": 2
}
