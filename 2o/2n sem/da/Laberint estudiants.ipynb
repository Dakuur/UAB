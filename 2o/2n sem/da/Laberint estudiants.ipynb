{
 "cells": [
  {
   "cell_type": "code",
   "execution_count": 2,
   "metadata": {
    "collapsed": true
   },
   "outputs": [],
   "source": [
    "from queue import Queue, PriorityQueue\n",
    "import numpy as np\n",
    "\n",
    "#Definimos el laberinto\n",
    "laberinto = [\n",
    "    [0, 0, 1, 0, 0],\n",
    "    [0, 0, 1, 1, 0],\n",
    "    [0, 0, 0, 1, 1],\n",
    "    [0, 0, 0, 0, 0],\n",
    "    [1, 0, 0, 0, 0]\n",
    "]\n",
    "\n",
    "# Punto de inicio y objetivo\n",
    "inicio = (0, 0)\n",
    "objetivo = (4, 4)\n",
    "\n",
    "# Direcciones comunes para la exploración: Izquierda, Derecha, Arriba, Abajo\n",
    "direcciones = [(0, -1), (0, 1), (-1, 0), (1, 0)]\n",
    "\n"
   ]
  },
  {
   "cell_type": "code",
   "execution_count": 6,
   "metadata": {
    "collapsed": false
   },
   "outputs": [
    {
     "name": "stdout",
     "output_type": "stream",
     "text": [
      "BFS: (0, 0) -> (0, 1) -> (1, 1) -> (2, 1) -> (2, 2) -> (3, 2) -> (3, 3) -> (3, 4) -> (4, 4)\n",
      "DFS: (0, 0) -> (0, 1) -> (1, 1) -> (1, 0) -> (2, 0) -> (2, 1) -> (2, 2) -> (3, 2) -> (3, 1) -> (4, 1) -> (4, 2) -> (4, 3) -> (4, 4)\n",
      "A* : (0, 0) -> (0, 1) -> (1, 1) -> (2, 1) -> (2, 2) -> (3, 2) -> (3, 3) -> (3, 4) -> (4, 4)\n"
     ]
    }
   ],
   "source": [
    "def es_valido(laberinto, pos): \n",
    "    fil, col = pos\n",
    "    return 0 <= fil < len(laberinto) and 0 <= col < len(laberinto[0]) and laberinto[fil][col] == 0\n",
    "\n",
    "def bfs(laberinto, inicio, objetivo):\n",
    "    cola = Queue()\n",
    "    cola.put((inicio, [inicio]))\n",
    "    visitados = set([inicio])\n",
    "\n",
    "    while not cola.empty():\n",
    "        actual, camino = cola.get()\n",
    "        if actual == objetivo:\n",
    "            return camino\n",
    "        for dx, dy in direcciones: #bucle que explora nodos vecinos, exploración en amplitud\n",
    "            vecino = (actual[0] + dx, actual[1] + dy)\n",
    "            if vecino not in visitados and es_valido(laberinto, vecino):\n",
    "                visitados.add(vecino)\n",
    "                cola.put((vecino, camino + [vecino])) #ponemos todos los vecinos válidos en la cola antes de avanzar\n",
    "    return []\n",
    "\n",
    "\n",
    "def dfs(laberinto, inicio, objetivo, camino=[]):\n",
    "    camino.append(inicio)\n",
    "    if inicio == objetivo:\n",
    "        return camino\n",
    "    for dx, dy in direcciones:\n",
    "        vecino = (inicio[0] + dx, inicio[1] + dy)\n",
    "        if vecino not in camino and es_valido(laberinto, vecino):\n",
    "            resultado = dfs(laberinto, vecino, objetivo, camino) #llamada recursiva para la exploración en profundidad\n",
    "            if resultado:\n",
    "                return resultado\n",
    "    camino.pop()\n",
    "    return [] if camino else None\n",
    "\n",
    "\n",
    "def a_estrella(laberinto, inicio, objetivo):\n",
    "\n",
    "    \n",
    "\n",
    "\n",
    "def mostrar_camino(camino):\n",
    "    return ' -> '.join([f\"({x}, {y})\" for x, y in camino])\n",
    "\n",
    "\n",
    "# Probar las funciones para compararlas\n",
    "camino_bfs        =        bfs(laberinto, inicio, objetivo)\n",
    "camino_dfs        =        dfs(laberinto, inicio, objetivo, camino=[])\n",
    "camino_a_estrella = a_estrella(laberinto, inicio, objetivo)\n",
    "\n",
    "\n",
    "# mostrar los caminos para BFS, DFS y A*\n",
    "print(\"BFS:\", mostrar_camino(camino_bfs))\n",
    "print(\"DFS:\", mostrar_camino(camino_dfs))\n",
    "print(\"A* :\",  mostrar_camino(camino_a_estrella))\n",
    "\n",
    "\n"
   ]
  },
  {
   "cell_type": "code",
   "execution_count": null,
   "metadata": {
    "collapsed": true
   },
   "outputs": [],
   "source": []
  }
 ],
 "metadata": {
  "kernelspec": {
   "display_name": "Python 2",
   "language": "python",
   "name": "python2"
  },
  "language_info": {
   "codemirror_mode": {
    "name": "ipython",
    "version": 2
   },
   "file_extension": ".py",
   "mimetype": "text/x-python",
   "name": "python",
   "nbconvert_exporter": "python",
   "pygments_lexer": "ipython2",
   "version": "2.7.14"
  }
 },
 "nbformat": 4,
 "nbformat_minor": 2
}
