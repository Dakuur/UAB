{
 "cells": [
  {
   "cell_type": "code",
   "execution_count": 3,
   "metadata": {},
   "outputs": [
    {
     "name": "stdout",
     "output_type": "stream",
     "text": [
      "[[2, 3, 10], [2, 10, 3], [3, 2, 10], [3, 10, 2], [5, 10], [10, 2, 3], [10, 3, 2], [10, 5]]\n"
     ]
    }
   ],
   "source": [
    "from typing import List\n",
    "\n",
    "class Tree:\n",
    "    def __init__(self, weights: set, M: int) -> None:\n",
    "        self.weights = weights\n",
    "        self.M = M\n",
    "        self.path = []\n",
    "        self.solutions = []\n",
    "\n",
    "    def backtrack(self) -> None:\n",
    "        current_total = sum(self.path)\n",
    "        if current_total == self.M:\n",
    "            self.solutions.append(self.path.copy())\n",
    "            return\n",
    "\n",
    "        not_used = [i for i in self.weights if i not in self.path]\n",
    "        \n",
    "        for i in not_used:\n",
    "            # forward check\n",
    "            if current_total + i > self.M:\n",
    "                continue\n",
    "            self.path.append(i)\n",
    "            self.backtrack()\n",
    "            self.path.pop(-1)\n",
    "\n",
    "    def spanning_tree_backtrack(self) -> List[List[int]]:\n",
    "        self.path = []\n",
    "        self.backtrack()\n",
    "        return self.solutions\n",
    "    \n",
    "if __name__ == \"__main__\":\n",
    "    t = Tree({2, 3, 5, 10, 20}, 15)\n",
    "    print(t.spanning_tree_backtrack())"
   ]
  }
 ],
 "metadata": {
  "kernelspec": {
   "display_name": "Python 3",
   "language": "python",
   "name": "python3"
  },
  "language_info": {
   "codemirror_mode": {
    "name": "ipython",
    "version": 3
   },
   "file_extension": ".py",
   "mimetype": "text/x-python",
   "name": "python",
   "nbconvert_exporter": "python",
   "pygments_lexer": "ipython3",
   "version": "3.12.0"
  }
 },
 "nbformat": 4,
 "nbformat_minor": 2
}
