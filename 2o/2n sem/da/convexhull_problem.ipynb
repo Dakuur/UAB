{
 "cells": [
  {
   "cell_type": "code",
   "execution_count": 2,
   "metadata": {},
   "outputs": [],
   "source": [
    "from typing import List\n",
    "import numpy as np\n",
    "import matplotlib.pyplot as plt\n",
    "\n",
    "class Point:\n",
    "    def __init__(self, x: float, y: float):\n",
    "        self.x = x\n",
    "        self.y = y\n",
    "    \n",
    "    def __repr__(self):\n",
    "        return f\"({self.x}, {self.y})\"\n",
    "\n",
    "def plot_polygon(points, track):\n",
    "    if track:\n",
    "        points=[(p.x, p.y) for p in points]\n",
    "        track= [(p.x, p.y) for p in track]\n",
    "        start_point = track[0]\n",
    "        sorted_points = []\n",
    "\n",
    "        while len(start_point)>0:\n",
    "            sorted_points.append(start_point)\n",
    "            x1, y1 = start_point\n",
    "            dists = {(x2, y2): np.sqrt((x1-x2)**2 + (y1-y2)**2) for x2, y2 in track}\n",
    "            dists = sorted(dists.items(), key=lambda item: item[1])\n",
    "            for dist in dists:\n",
    "                if dist[0] not in sorted_points: \n",
    "                    start_point = dist[0]\n",
    "                    break\n",
    "                if dist == dists[-1]:\n",
    "                    start_point = ()\n",
    "                    break\n",
    "        sorted_points.append(sorted_points[0])\n",
    "        plt.plot(*zip(*sorted_points), 'r')\n",
    "        plt.scatter(*zip(*points))\n",
    "        plt.show()\n",
    "    \n",
    "def posicio_respecte_recta(a: Point, b: Point, c: Point) -> float:\n",
    "    return (a.y - b.y) * (c.x - b.x) - (a.x - b.x) * (c.y - b.y)\n",
    "\n",
    "def area_triangle(a: Point, b: Point, c: Point) -> float:\n",
    "    return abs((a.y - b.y) * (c.x - b.x) - (a.x - b.x) * (c.y - b.y)) / 2.0\n",
    "\n",
    "def points_up(a: Point, b: Point, points: List[Point]) -> List[Point]:\n",
    "    return [p for p in points if posicio_respecte_recta(a, b, p) > 0]\n",
    "\n",
    "def points_down(a: Point, b: Point, points: List[Point]) -> List[Point]:\n",
    "    return [p for p in points if posicio_respecte_recta(a, b, p) < 0]\n",
    "\n",
    "\n",
    "\n",
    "def convex_hull_rec(a: Point, b: Point, points: List[Point]) -> List[Point]:\n",
    "\n",
    "    ############################### CODI A EDITAR ########################################\n",
    "\n",
    "    concat = []\n",
    "\n",
    "    #print(f\"\\nA: {a}, B: {b}\")\n",
    "    #print(f\"points: {points}\")\n",
    "    if not points:\n",
    "        return []\n",
    "\n",
    "    max_point = max(points, key=lambda x: area_triangle(a, b, x))\n",
    "\n",
    "    up_points = points_up(a, max_point, points) # funció auxiliar\n",
    "    #print(f\"Points up: {up_points}\")\n",
    "    down_points = points_down(b, max_point, points) # funció auxiliar\n",
    "    #print(f\"Points down: {down_points}\")\n",
    "\n",
    "    hull_up = convex_hull_rec(a, max_point, up_points)\n",
    "    hull_down = convex_hull_rec(max_point, b, down_points)\n",
    "\n",
    "    #print(f\"Elements retornats: {hull_up + hull_down}\")\n",
    "    concat += [a] + [b] + [max_point] + hull_up + hull_down\n",
    "\n",
    "    ############################### CODI A EDITAR #######################################\n",
    "\n",
    "    return concat\n",
    "\n",
    "\n",
    "\n",
    "def convex_hull(points: List[Point]) -> List[Point]:\n",
    "\n",
    "    if len(points) < 3: return points\n",
    "    \n",
    "    sorted_points = sorted(points, key=lambda p: (p.x, p.y))\n",
    "    a, b = sorted_points[0], sorted_points[-1] #seleccionamos inicio y final\n",
    "    \n",
    "    up = [p for p in sorted_points if posicio_respecte_recta(a, b, p) > 0]\n",
    "    down = [p for p in sorted_points if posicio_respecte_recta(a, b, p) < 0]\n",
    "    \n",
    "    ch_up = convex_hull_rec(a, b, up)\n",
    "    ch_down = convex_hull_rec(b, a, down)\n",
    "\n",
    "    concat=ch_up + ch_down #concatenamos los conjuntos de puntos\n",
    "    concat=([*set(concat)]) #eliminamos duplicados\n",
    "    return concat"
   ]
  },
  {
   "cell_type": "code",
   "execution_count": 3,
   "metadata": {},
   "outputs": [
    {
     "name": "stdout",
     "output_type": "stream",
     "text": [
      "Puntos del polígono convexo:  [(0, 0), (3, 0), (4, 3), (0, 3), (2, 4)]\n"
     ]
    }
   ],
   "source": [
    "# Probamos con un ejemplo\n",
    "points = [Point(0, 3), Point(2, 2), Point(1, 1), Point(2, 1), Point(3, 0), Point(0, 0), Point(3, 3), Point(4,3),Point(2,4)]\n",
    "track = convex_hull(points)\n",
    "print(\"Puntos del polígono convexo: \",track)"
   ]
  },
  {
   "cell_type": "code",
   "execution_count": 5,
   "metadata": {},
   "outputs": [
    {
     "data": {
      "image/png": "[encoded data removed]",
      "text/plain": [
       "<Figure size 640x480 with 1 Axes>"
      ]
     },
     "metadata": {},
     "output_type": "display_data"
    }
   ],
   "source": [
    "plot_polygon(points, track)"
   ]
  }
 ],
 "metadata": {
  "kernelspec": {
   "display_name": "Python 3",
   "language": "python",
   "name": "python3"
  },
  "language_info": {
   "codemirror_mode": {
    "name": "ipython",
    "version": 3
   },
   "file_extension": ".py",
   "mimetype": "text/x-python",
   "name": "python",
   "nbconvert_exporter": "python",
   "pygments_lexer": "ipython3",
   "version": "3.12.0"
  },
  "orig_nbformat": 4
 },
 "nbformat": 4,
 "nbformat_minor": 2
}
