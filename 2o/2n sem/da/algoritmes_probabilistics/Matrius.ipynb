{
 "cells": [
  {
   "cell_type": "code",
   "execution_count": 16,
   "metadata": {},
   "outputs": [
    {
     "name": "stdout",
     "output_type": "stream",
     "text": [
      "Les matrius compleixen C = A * B: False\n",
      "Les matrius compleixen F = D * E: True\n"
     ]
    }
   ],
   "source": [
    "import numpy as np\n",
    "\n",
    "def freivalds(A, B, C):\n",
    "    n = A.shape[0]\n",
    "    X = np.random.randint(0, 2, size=n)  # Generar un vector aleatori de 0 i 1 de mida n\n",
    "\n",
    "    # Calcular X * A, (X * A) * B, i X * C\n",
    "    XA = np.dot(X, A)\n",
    "    XAB = np.dot(XA, B)\n",
    "    XC = np.dot(X, C)\n",
    "\n",
    "    # Comprovar si XAB és igual a XC\n",
    "    return np.array_equal(XAB, XC)\n",
    "\n",
    "def repeated_freivalds(A, B, C, k):\n",
    "    for i in range(k):\n",
    "        if not freivalds(A, B, C):\n",
    "            return False\n",
    "    return True\n",
    "\n",
    "# Matrius d'exemple per provar\n",
    "A = np.array([[2, 3], [1, 4]])\n",
    "B = np.array([[1, 0], [0, 1]])\n",
    "C = np.array([[2, 1], [3, 4]])\n",
    "\n",
    "D = np.array([[3, 0, 0], [0, 3, 0], [0, 0, 3]])\n",
    "E = np.array([[2, 0, 0], [0, 2, 0], [0, 0, 2]])\n",
    "F = np.array([[6, 0, 0], [0, 6, 0], [0, 0, 6]])\n",
    "\n",
    "# Nombre de repeticions\n",
    "k = 200\n",
    "\n",
    "# Fer la verificació\n",
    "resultat = repeated_freivalds(A, B, C, k)\n",
    "print(\"Les matrius compleixen C = A * B:\", resultat)\n",
    "\n",
    "resultat = repeated_freivalds(D, E, F, k)\n",
    "print(\"Les matrius compleixen F = D * E:\", resultat)\n"
   ]
  }
 ],
 "metadata": {
  "kernelspec": {
   "display_name": "Python 3",
   "language": "python",
   "name": "python3"
  },
  "language_info": {
   "codemirror_mode": {
    "name": "ipython",
    "version": 3
   },
   "file_extension": ".py",
   "mimetype": "text/x-python",
   "name": "python",
   "nbconvert_exporter": "python",
   "pygments_lexer": "ipython3",
   "version": "3.12.2"
  }
 },
 "nbformat": 4,
 "nbformat_minor": 2
}
