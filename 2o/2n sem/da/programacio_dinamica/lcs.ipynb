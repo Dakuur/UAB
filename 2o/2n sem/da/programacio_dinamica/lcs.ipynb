{
 "cells": [
  {
   "cell_type": "code",
   "execution_count": 1,
   "metadata": {},
   "outputs": [
    {
     "name": "stdout",
     "output_type": "stream",
     "text": [
      "LCS is ['A']\n"
     ]
    }
   ],
   "source": [
    "def create_matrix(X, Y):\n",
    "    m = len(X)\n",
    "    n = len(Y)\n",
    "    \n",
    "    L = [[0] * (n + 1) for i in range(m + 1)]\n",
    "\n",
    "    # Crea la taula L[m+1][n+1] on L[i][j] conté la longitud de la subseqüència comú més llarga entre X[0..i-1] i Y[0..j-1]\n",
    "    for i in range(m + 1):\n",
    "        for j in range(n + 1):\n",
    "            if i == 0 or j == 0:\n",
    "                L[i][j] = 0\n",
    "            elif X[i - 1] == Y[j - 1]:\n",
    "                L[i][j] = L[i - 1][j - 1] + 1\n",
    "            else:\n",
    "                L[i][j] = max(L[i - 1][j], L[i][j - 1])\n",
    "                \n",
    "    return L\n",
    "\n",
    "\n",
    "def longest_common_subsequence(X, Y):\n",
    "    m = len(X)\n",
    "    n = len(Y)\n",
    "    \n",
    "    L = create_matrix(X, Y)\n",
    "\n",
    "    index = L[m][n]\n",
    "\n",
    "    lcs_list = [\"\"] * (index + 1)\n",
    "\n",
    "    # Comença a partir de L[m][n] i troba la seqüència més llarga\n",
    "    i = m\n",
    "    j = n\n",
    "    while i > 0 and j > 0:\n",
    "\n",
    "        # Si X[i-1] és igual a Y[j-1], afegeix el caràcter a la seqüència\n",
    "        if X[i - 1] == Y[j - 1]:\n",
    "            lcs_list[index - 1] = X[i - 1]\n",
    "            i -= 1\n",
    "            j -= 1\n",
    "            index -= 1\n",
    "\n",
    "        # Si no, mou-te a la direcció de la màxima longitud\n",
    "        elif L[i - 1][j] > L[i][j - 1]:\n",
    "            i -= 1\n",
    "        else:\n",
    "            j -= 1\n",
    "\n",
    "    return lcs_list[:-1]\n",
    "\n",
    "\n",
    "if __name__ == '__main__':\n",
    "    S1 = \"HOLA\"\n",
    "    S2 = \"CIAO\"\n",
    "    print(\"LCS is\", longest_common_subsequence(S1.upper(), S2.upper()))"
   ]
  }
 ],
 "metadata": {
  "kernelspec": {
   "display_name": "Python 3",
   "language": "python",
   "name": "python3"
  },
  "language_info": {
   "codemirror_mode": {
    "name": "ipython",
    "version": 3
   },
   "file_extension": ".py",
   "mimetype": "text/x-python",
   "name": "python",
   "nbconvert_exporter": "python",
   "pygments_lexer": "ipython3",
   "version": "3.12.2"
  }
 },
 "nbformat": 4,
 "nbformat_minor": 2
}
