{
 "cells": [
  {
   "cell_type": "code",
   "execution_count": null,
   "metadata": {},
   "outputs": [],
   "source": [
    "import matplotlib.pyplot as plt\n",
    "\n",
    "# Valores dados\n",
    "valores1 = [\n",
    "    4.0297,\n",
    "    4.4084,\n",
    "    4.5493,\n",
    "    4.6479,\n",
    "    4.6403,\n",
    "    4.7667\n",
    "]\n",
    "\n",
    "valores2 = [\n",
    "    4.5756,\n",
    "    4.5546,\n",
    "    4.5544,\n",
    "    4.5464,\n",
    "    4.5545,\n",
    "    4.5534\n",
    "]\n",
    "\n",
    "variacion_porcentaje1 = ((max(valores1) - min(valores1)) / min(valores1)) * 100\n",
    "variacion_porcentaje2 = ((max(valores2) - min(valores2)) / min(valores2)) * 100\n",
    "\n",
    "plt.plot(valores1, marker='o', linestyle='-', color='b', label='Static')\n",
    "plt.plot(valores2, marker='s', linestyle='-', color='r', label='Guided')\n",
    "\n",
    "plt.xlabel('Thread')\n",
    "plt.ylabel('Runtime unhalted [s]')\n",
    "plt.title('Static vs Guidad schedule')\n",
    "\n",
    "plt.legend()\n",
    "\n",
    "plt.grid(True)\n",
    "\n",
    "plt.text(0.5, 0.25, f'Variació static: {variacion_porcentaje1:.2f}%', transform=plt.gca().transAxes, fontsize=10, color='b')\n",
    "plt.text(0.5, 0.2, f'Variació guided: {variacion_porcentaje2:.2f}%', transform=plt.gca().transAxes, fontsize=10, color='r')\n",
    "\n",
    "plt.show()\n"
   ]
  }
 ],
 "metadata": {
  "language_info": {
   "name": "python"
  }
 },
 "nbformat": 4,
 "nbformat_minor": 2
}
